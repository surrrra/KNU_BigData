{
 "cells": [
  {
   "cell_type": "markdown",
   "id": "73ebbae5",
   "metadata": {},
   "source": [
    "# 사용자의 신용카드 대금 연체 정도 예측"
   ]
  },
  {
   "cell_type": "markdown",
   "id": "6b50d7ab",
   "metadata": {},
   "source": [
    "## 변수 설명"
   ]
  },
  {
   "cell_type": "markdown",
   "id": "11cc87c7",
   "metadata": {},
   "source": [
    "- index  \n",
    "- gender: 성별  \n",
    "- car: 차량 소유 여부\n",
    "- reality: 부동산 소유 여부\n",
    "- child_num: 자녀 수\n",
    "- income_total: 연간 소득\n",
    "- income_type: 소득 분류 => ['Commercial associate', 'Working', 'State servant', 'Pensioner', 'Student']\n",
    "- edu_type: 교육 수준 => ['Higher education' ,'Secondary / secondary special', 'Incomplete higher', 'Lower secondary', 'Academic degree']\n",
    "- family_type: 결혼 여부 => ['Married', 'Civil marriage', 'Separated', 'Single / not married', 'Widow']\n",
    "\n",
    "- house_type: 생활 방식 => ['Municipal apartment', 'House / apartment', 'With parents', 'Co-op apartment', 'Rented apartment', 'Office apartment']\n",
    "- DAYS_BIRTH: 출생일 => 데이터 수집 당시 0부터 역으로 셈, 즉, -1은 데이터 수집일 하루 전에 태어났음을 의미\n",
    "- DAYS_EMPLOYED: 업무 시작일 => 데이터 수집 당시 0부터 역으로 셈, 즉, -1은 데이터 수집일 하루 전부터 일을 시작함을 의미. 양수 값은 고용되지 않은 상태를 의미함\n",
    "- FLAG_MOBIL: 핸드폰 소유 여부\n",
    "- work_phone: 업무용 전화 소유 여부\n",
    "- phone: 집 전화 소유 여부\n",
    "- email: 이메일 소유 여부\n",
    "- occyp_type: 직업 유형\t\t\t\t\t\t\t\t\t\t\t\t\t\n",
    "- family_size: 가족 규모\n",
    "- begin_month: 신용카드 발급 월 => 데이터 수집 당시 0부터 역으로 셈, 즉, -1은 데이터 수집일 한 달 전에 신용카드를 발급함을 의미\n",
    "- credit: 사용자의 신용카드 대금 연체를 기준으로 한 신용도 => 낮을 수록 높은 신용의 신용카드 사용자를 의미함"
   ]
  },
  {
   "cell_type": "code",
   "execution_count": 189,
   "id": "38a1e4e5",
   "metadata": {},
   "outputs": [],
   "source": [
    "# 모듈 로딩\n",
    "from sklearn.ensemble import RandomForestClassifier, AdaBoostClassifier, HistGradientBoostingClassifier\n",
    "from sklearn.linear_model import LogisticRegression\n",
    "from sklearn.preprocessing import LabelEncoder, StandardScaler\n",
    "from sklearn.model_selection import train_test_split, GridSearchCV, StratifiedKFold, cross_validate\n",
    "from sklearn.utils import all_estimators\n",
    "from sklearn.metrics import accuracy_score\n",
    "import pandas as pd\n",
    "import numpy as np\n",
    "import matplotlib.pyplot as plt"
   ]
  },
  {
   "cell_type": "code",
   "execution_count": 2,
   "id": "e25d3be7",
   "metadata": {},
   "outputs": [],
   "source": [
    "# warning 무시\n",
    "import warnings\n",
    "warnings.filterwarnings('ignore')"
   ]
  },
  {
   "cell_type": "markdown",
   "id": "e1576161",
   "metadata": {},
   "source": [
    "### [1] 데이터 로딩 & 전처리"
   ]
  },
  {
   "cell_type": "code",
   "execution_count": 209,
   "id": "22cbd633",
   "metadata": {},
   "outputs": [],
   "source": [
    "df=pd.read_csv('./file/train.csv')"
   ]
  },
  {
   "cell_type": "code",
   "execution_count": 210,
   "id": "afb612ac",
   "metadata": {},
   "outputs": [
    {
     "data": {
      "text/html": [
       "<div>\n",
       "<style scoped>\n",
       "    .dataframe tbody tr th:only-of-type {\n",
       "        vertical-align: middle;\n",
       "    }\n",
       "\n",
       "    .dataframe tbody tr th {\n",
       "        vertical-align: top;\n",
       "    }\n",
       "\n",
       "    .dataframe thead th {\n",
       "        text-align: right;\n",
       "    }\n",
       "</style>\n",
       "<table border=\"1\" class=\"dataframe\">\n",
       "  <thead>\n",
       "    <tr style=\"text-align: right;\">\n",
       "      <th></th>\n",
       "      <th>index</th>\n",
       "      <th>gender</th>\n",
       "      <th>car</th>\n",
       "      <th>reality</th>\n",
       "      <th>child_num</th>\n",
       "      <th>income_total</th>\n",
       "      <th>income_type</th>\n",
       "      <th>edu_type</th>\n",
       "      <th>family_type</th>\n",
       "      <th>house_type</th>\n",
       "      <th>DAYS_BIRTH</th>\n",
       "      <th>DAYS_EMPLOYED</th>\n",
       "      <th>FLAG_MOBIL</th>\n",
       "      <th>work_phone</th>\n",
       "      <th>phone</th>\n",
       "      <th>email</th>\n",
       "      <th>occyp_type</th>\n",
       "      <th>family_size</th>\n",
       "      <th>begin_month</th>\n",
       "      <th>credit</th>\n",
       "    </tr>\n",
       "  </thead>\n",
       "  <tbody>\n",
       "    <tr>\n",
       "      <th>0</th>\n",
       "      <td>0</td>\n",
       "      <td>F</td>\n",
       "      <td>N</td>\n",
       "      <td>N</td>\n",
       "      <td>0</td>\n",
       "      <td>202500.0</td>\n",
       "      <td>Commercial associate</td>\n",
       "      <td>Higher education</td>\n",
       "      <td>Married</td>\n",
       "      <td>Municipal apartment</td>\n",
       "      <td>-13899</td>\n",
       "      <td>-4709</td>\n",
       "      <td>1</td>\n",
       "      <td>0</td>\n",
       "      <td>0</td>\n",
       "      <td>0</td>\n",
       "      <td>NaN</td>\n",
       "      <td>2.0</td>\n",
       "      <td>-6.0</td>\n",
       "      <td>1.0</td>\n",
       "    </tr>\n",
       "    <tr>\n",
       "      <th>1</th>\n",
       "      <td>1</td>\n",
       "      <td>F</td>\n",
       "      <td>N</td>\n",
       "      <td>Y</td>\n",
       "      <td>1</td>\n",
       "      <td>247500.0</td>\n",
       "      <td>Commercial associate</td>\n",
       "      <td>Secondary / secondary special</td>\n",
       "      <td>Civil marriage</td>\n",
       "      <td>House / apartment</td>\n",
       "      <td>-11380</td>\n",
       "      <td>-1540</td>\n",
       "      <td>1</td>\n",
       "      <td>0</td>\n",
       "      <td>0</td>\n",
       "      <td>1</td>\n",
       "      <td>Laborers</td>\n",
       "      <td>3.0</td>\n",
       "      <td>-5.0</td>\n",
       "      <td>1.0</td>\n",
       "    </tr>\n",
       "    <tr>\n",
       "      <th>2</th>\n",
       "      <td>2</td>\n",
       "      <td>M</td>\n",
       "      <td>Y</td>\n",
       "      <td>Y</td>\n",
       "      <td>0</td>\n",
       "      <td>450000.0</td>\n",
       "      <td>Working</td>\n",
       "      <td>Higher education</td>\n",
       "      <td>Married</td>\n",
       "      <td>House / apartment</td>\n",
       "      <td>-19087</td>\n",
       "      <td>-4434</td>\n",
       "      <td>1</td>\n",
       "      <td>0</td>\n",
       "      <td>1</td>\n",
       "      <td>0</td>\n",
       "      <td>Managers</td>\n",
       "      <td>2.0</td>\n",
       "      <td>-22.0</td>\n",
       "      <td>2.0</td>\n",
       "    </tr>\n",
       "    <tr>\n",
       "      <th>3</th>\n",
       "      <td>3</td>\n",
       "      <td>F</td>\n",
       "      <td>N</td>\n",
       "      <td>Y</td>\n",
       "      <td>0</td>\n",
       "      <td>202500.0</td>\n",
       "      <td>Commercial associate</td>\n",
       "      <td>Secondary / secondary special</td>\n",
       "      <td>Married</td>\n",
       "      <td>House / apartment</td>\n",
       "      <td>-15088</td>\n",
       "      <td>-2092</td>\n",
       "      <td>1</td>\n",
       "      <td>0</td>\n",
       "      <td>1</td>\n",
       "      <td>0</td>\n",
       "      <td>Sales staff</td>\n",
       "      <td>2.0</td>\n",
       "      <td>-37.0</td>\n",
       "      <td>0.0</td>\n",
       "    </tr>\n",
       "    <tr>\n",
       "      <th>4</th>\n",
       "      <td>4</td>\n",
       "      <td>F</td>\n",
       "      <td>Y</td>\n",
       "      <td>Y</td>\n",
       "      <td>0</td>\n",
       "      <td>157500.0</td>\n",
       "      <td>State servant</td>\n",
       "      <td>Higher education</td>\n",
       "      <td>Married</td>\n",
       "      <td>House / apartment</td>\n",
       "      <td>-15037</td>\n",
       "      <td>-2105</td>\n",
       "      <td>1</td>\n",
       "      <td>0</td>\n",
       "      <td>0</td>\n",
       "      <td>0</td>\n",
       "      <td>Managers</td>\n",
       "      <td>2.0</td>\n",
       "      <td>-26.0</td>\n",
       "      <td>2.0</td>\n",
       "    </tr>\n",
       "    <tr>\n",
       "      <th>...</th>\n",
       "      <td>...</td>\n",
       "      <td>...</td>\n",
       "      <td>...</td>\n",
       "      <td>...</td>\n",
       "      <td>...</td>\n",
       "      <td>...</td>\n",
       "      <td>...</td>\n",
       "      <td>...</td>\n",
       "      <td>...</td>\n",
       "      <td>...</td>\n",
       "      <td>...</td>\n",
       "      <td>...</td>\n",
       "      <td>...</td>\n",
       "      <td>...</td>\n",
       "      <td>...</td>\n",
       "      <td>...</td>\n",
       "      <td>...</td>\n",
       "      <td>...</td>\n",
       "      <td>...</td>\n",
       "      <td>...</td>\n",
       "    </tr>\n",
       "    <tr>\n",
       "      <th>26452</th>\n",
       "      <td>26452</td>\n",
       "      <td>F</td>\n",
       "      <td>N</td>\n",
       "      <td>N</td>\n",
       "      <td>2</td>\n",
       "      <td>225000.0</td>\n",
       "      <td>State servant</td>\n",
       "      <td>Secondary / secondary special</td>\n",
       "      <td>Married</td>\n",
       "      <td>House / apartment</td>\n",
       "      <td>-12079</td>\n",
       "      <td>-1984</td>\n",
       "      <td>1</td>\n",
       "      <td>0</td>\n",
       "      <td>0</td>\n",
       "      <td>0</td>\n",
       "      <td>Core staff</td>\n",
       "      <td>4.0</td>\n",
       "      <td>-2.0</td>\n",
       "      <td>1.0</td>\n",
       "    </tr>\n",
       "    <tr>\n",
       "      <th>26453</th>\n",
       "      <td>26453</td>\n",
       "      <td>F</td>\n",
       "      <td>N</td>\n",
       "      <td>Y</td>\n",
       "      <td>1</td>\n",
       "      <td>180000.0</td>\n",
       "      <td>Working</td>\n",
       "      <td>Higher education</td>\n",
       "      <td>Separated</td>\n",
       "      <td>House / apartment</td>\n",
       "      <td>-15291</td>\n",
       "      <td>-2475</td>\n",
       "      <td>1</td>\n",
       "      <td>0</td>\n",
       "      <td>0</td>\n",
       "      <td>0</td>\n",
       "      <td>NaN</td>\n",
       "      <td>2.0</td>\n",
       "      <td>-47.0</td>\n",
       "      <td>2.0</td>\n",
       "    </tr>\n",
       "    <tr>\n",
       "      <th>26454</th>\n",
       "      <td>26454</td>\n",
       "      <td>F</td>\n",
       "      <td>Y</td>\n",
       "      <td>N</td>\n",
       "      <td>0</td>\n",
       "      <td>292500.0</td>\n",
       "      <td>Working</td>\n",
       "      <td>Secondary / secondary special</td>\n",
       "      <td>Civil marriage</td>\n",
       "      <td>With parents</td>\n",
       "      <td>-10082</td>\n",
       "      <td>-2015</td>\n",
       "      <td>1</td>\n",
       "      <td>0</td>\n",
       "      <td>0</td>\n",
       "      <td>0</td>\n",
       "      <td>Core staff</td>\n",
       "      <td>2.0</td>\n",
       "      <td>-25.0</td>\n",
       "      <td>2.0</td>\n",
       "    </tr>\n",
       "    <tr>\n",
       "      <th>26455</th>\n",
       "      <td>26455</td>\n",
       "      <td>M</td>\n",
       "      <td>N</td>\n",
       "      <td>Y</td>\n",
       "      <td>0</td>\n",
       "      <td>171000.0</td>\n",
       "      <td>Working</td>\n",
       "      <td>Incomplete higher</td>\n",
       "      <td>Single / not married</td>\n",
       "      <td>House / apartment</td>\n",
       "      <td>-10145</td>\n",
       "      <td>-107</td>\n",
       "      <td>1</td>\n",
       "      <td>0</td>\n",
       "      <td>0</td>\n",
       "      <td>0</td>\n",
       "      <td>Laborers</td>\n",
       "      <td>1.0</td>\n",
       "      <td>-59.0</td>\n",
       "      <td>2.0</td>\n",
       "    </tr>\n",
       "    <tr>\n",
       "      <th>26456</th>\n",
       "      <td>26456</td>\n",
       "      <td>F</td>\n",
       "      <td>N</td>\n",
       "      <td>N</td>\n",
       "      <td>0</td>\n",
       "      <td>81000.0</td>\n",
       "      <td>Working</td>\n",
       "      <td>Secondary / secondary special</td>\n",
       "      <td>Civil marriage</td>\n",
       "      <td>House / apartment</td>\n",
       "      <td>-19569</td>\n",
       "      <td>-1013</td>\n",
       "      <td>1</td>\n",
       "      <td>0</td>\n",
       "      <td>0</td>\n",
       "      <td>0</td>\n",
       "      <td>Security staff</td>\n",
       "      <td>2.0</td>\n",
       "      <td>-9.0</td>\n",
       "      <td>2.0</td>\n",
       "    </tr>\n",
       "  </tbody>\n",
       "</table>\n",
       "<p>26457 rows × 20 columns</p>\n",
       "</div>"
      ],
      "text/plain": [
       "       index gender car reality  child_num  income_total  \\\n",
       "0          0      F   N       N          0      202500.0   \n",
       "1          1      F   N       Y          1      247500.0   \n",
       "2          2      M   Y       Y          0      450000.0   \n",
       "3          3      F   N       Y          0      202500.0   \n",
       "4          4      F   Y       Y          0      157500.0   \n",
       "...      ...    ...  ..     ...        ...           ...   \n",
       "26452  26452      F   N       N          2      225000.0   \n",
       "26453  26453      F   N       Y          1      180000.0   \n",
       "26454  26454      F   Y       N          0      292500.0   \n",
       "26455  26455      M   N       Y          0      171000.0   \n",
       "26456  26456      F   N       N          0       81000.0   \n",
       "\n",
       "                income_type                       edu_type  \\\n",
       "0      Commercial associate               Higher education   \n",
       "1      Commercial associate  Secondary / secondary special   \n",
       "2                   Working               Higher education   \n",
       "3      Commercial associate  Secondary / secondary special   \n",
       "4             State servant               Higher education   \n",
       "...                     ...                            ...   \n",
       "26452         State servant  Secondary / secondary special   \n",
       "26453               Working               Higher education   \n",
       "26454               Working  Secondary / secondary special   \n",
       "26455               Working              Incomplete higher   \n",
       "26456               Working  Secondary / secondary special   \n",
       "\n",
       "                family_type           house_type  DAYS_BIRTH  DAYS_EMPLOYED  \\\n",
       "0                   Married  Municipal apartment      -13899          -4709   \n",
       "1            Civil marriage    House / apartment      -11380          -1540   \n",
       "2                   Married    House / apartment      -19087          -4434   \n",
       "3                   Married    House / apartment      -15088          -2092   \n",
       "4                   Married    House / apartment      -15037          -2105   \n",
       "...                     ...                  ...         ...            ...   \n",
       "26452               Married    House / apartment      -12079          -1984   \n",
       "26453             Separated    House / apartment      -15291          -2475   \n",
       "26454        Civil marriage         With parents      -10082          -2015   \n",
       "26455  Single / not married    House / apartment      -10145           -107   \n",
       "26456        Civil marriage    House / apartment      -19569          -1013   \n",
       "\n",
       "       FLAG_MOBIL  work_phone  phone  email      occyp_type  family_size  \\\n",
       "0               1           0      0      0             NaN          2.0   \n",
       "1               1           0      0      1        Laborers          3.0   \n",
       "2               1           0      1      0        Managers          2.0   \n",
       "3               1           0      1      0     Sales staff          2.0   \n",
       "4               1           0      0      0        Managers          2.0   \n",
       "...           ...         ...    ...    ...             ...          ...   \n",
       "26452           1           0      0      0      Core staff          4.0   \n",
       "26453           1           0      0      0             NaN          2.0   \n",
       "26454           1           0      0      0      Core staff          2.0   \n",
       "26455           1           0      0      0        Laborers          1.0   \n",
       "26456           1           0      0      0  Security staff          2.0   \n",
       "\n",
       "       begin_month  credit  \n",
       "0             -6.0     1.0  \n",
       "1             -5.0     1.0  \n",
       "2            -22.0     2.0  \n",
       "3            -37.0     0.0  \n",
       "4            -26.0     2.0  \n",
       "...            ...     ...  \n",
       "26452         -2.0     1.0  \n",
       "26453        -47.0     2.0  \n",
       "26454        -25.0     2.0  \n",
       "26455        -59.0     2.0  \n",
       "26456         -9.0     2.0  \n",
       "\n",
       "[26457 rows x 20 columns]"
      ]
     },
     "execution_count": 210,
     "metadata": {},
     "output_type": "execute_result"
    }
   ],
   "source": [
    "df"
   ]
  },
  {
   "cell_type": "code",
   "execution_count": 211,
   "id": "9a62c6fa",
   "metadata": {},
   "outputs": [
    {
     "name": "stdout",
     "output_type": "stream",
     "text": [
      "<class 'pandas.core.frame.DataFrame'>\n",
      "RangeIndex: 26457 entries, 0 to 26456\n",
      "Data columns (total 20 columns):\n",
      " #   Column         Non-Null Count  Dtype  \n",
      "---  ------         --------------  -----  \n",
      " 0   index          26457 non-null  int64  \n",
      " 1   gender         26457 non-null  object \n",
      " 2   car            26457 non-null  object \n",
      " 3   reality        26457 non-null  object \n",
      " 4   child_num      26457 non-null  int64  \n",
      " 5   income_total   26457 non-null  float64\n",
      " 6   income_type    26457 non-null  object \n",
      " 7   edu_type       26457 non-null  object \n",
      " 8   family_type    26457 non-null  object \n",
      " 9   house_type     26457 non-null  object \n",
      " 10  DAYS_BIRTH     26457 non-null  int64  \n",
      " 11  DAYS_EMPLOYED  26457 non-null  int64  \n",
      " 12  FLAG_MOBIL     26457 non-null  int64  \n",
      " 13  work_phone     26457 non-null  int64  \n",
      " 14  phone          26457 non-null  int64  \n",
      " 15  email          26457 non-null  int64  \n",
      " 16  occyp_type     18286 non-null  object \n",
      " 17  family_size    26457 non-null  float64\n",
      " 18  begin_month    26457 non-null  float64\n",
      " 19  credit         26457 non-null  float64\n",
      "dtypes: float64(4), int64(8), object(8)\n",
      "memory usage: 4.0+ MB\n"
     ]
    }
   ],
   "source": [
    "df.info()"
   ]
  },
  {
   "cell_type": "code",
   "execution_count": 212,
   "id": "3c9e8de6",
   "metadata": {},
   "outputs": [
    {
     "data": {
      "text/html": [
       "<div>\n",
       "<style scoped>\n",
       "    .dataframe tbody tr th:only-of-type {\n",
       "        vertical-align: middle;\n",
       "    }\n",
       "\n",
       "    .dataframe tbody tr th {\n",
       "        vertical-align: top;\n",
       "    }\n",
       "\n",
       "    .dataframe thead th {\n",
       "        text-align: right;\n",
       "    }\n",
       "</style>\n",
       "<table border=\"1\" class=\"dataframe\">\n",
       "  <thead>\n",
       "    <tr style=\"text-align: right;\">\n",
       "      <th></th>\n",
       "      <th>index</th>\n",
       "      <th>child_num</th>\n",
       "      <th>income_total</th>\n",
       "      <th>DAYS_BIRTH</th>\n",
       "      <th>DAYS_EMPLOYED</th>\n",
       "      <th>FLAG_MOBIL</th>\n",
       "      <th>work_phone</th>\n",
       "      <th>phone</th>\n",
       "      <th>email</th>\n",
       "      <th>family_size</th>\n",
       "      <th>begin_month</th>\n",
       "      <th>credit</th>\n",
       "    </tr>\n",
       "  </thead>\n",
       "  <tbody>\n",
       "    <tr>\n",
       "      <th>count</th>\n",
       "      <td>26457.000000</td>\n",
       "      <td>26457.000000</td>\n",
       "      <td>2.645700e+04</td>\n",
       "      <td>26457.000000</td>\n",
       "      <td>26457.000000</td>\n",
       "      <td>26457.0</td>\n",
       "      <td>26457.000000</td>\n",
       "      <td>26457.000000</td>\n",
       "      <td>26457.000000</td>\n",
       "      <td>26457.000000</td>\n",
       "      <td>26457.000000</td>\n",
       "      <td>26457.000000</td>\n",
       "    </tr>\n",
       "    <tr>\n",
       "      <th>mean</th>\n",
       "      <td>13228.000000</td>\n",
       "      <td>0.428658</td>\n",
       "      <td>1.873065e+05</td>\n",
       "      <td>-15958.053899</td>\n",
       "      <td>59068.750728</td>\n",
       "      <td>1.0</td>\n",
       "      <td>0.224742</td>\n",
       "      <td>0.294251</td>\n",
       "      <td>0.091280</td>\n",
       "      <td>2.196848</td>\n",
       "      <td>-26.123294</td>\n",
       "      <td>1.519560</td>\n",
       "    </tr>\n",
       "    <tr>\n",
       "      <th>std</th>\n",
       "      <td>7637.622372</td>\n",
       "      <td>0.747326</td>\n",
       "      <td>1.018784e+05</td>\n",
       "      <td>4201.589022</td>\n",
       "      <td>137475.427503</td>\n",
       "      <td>0.0</td>\n",
       "      <td>0.417420</td>\n",
       "      <td>0.455714</td>\n",
       "      <td>0.288013</td>\n",
       "      <td>0.916717</td>\n",
       "      <td>16.559550</td>\n",
       "      <td>0.702283</td>\n",
       "    </tr>\n",
       "    <tr>\n",
       "      <th>min</th>\n",
       "      <td>0.000000</td>\n",
       "      <td>0.000000</td>\n",
       "      <td>2.700000e+04</td>\n",
       "      <td>-25152.000000</td>\n",
       "      <td>-15713.000000</td>\n",
       "      <td>1.0</td>\n",
       "      <td>0.000000</td>\n",
       "      <td>0.000000</td>\n",
       "      <td>0.000000</td>\n",
       "      <td>1.000000</td>\n",
       "      <td>-60.000000</td>\n",
       "      <td>0.000000</td>\n",
       "    </tr>\n",
       "    <tr>\n",
       "      <th>25%</th>\n",
       "      <td>6614.000000</td>\n",
       "      <td>0.000000</td>\n",
       "      <td>1.215000e+05</td>\n",
       "      <td>-19431.000000</td>\n",
       "      <td>-3153.000000</td>\n",
       "      <td>1.0</td>\n",
       "      <td>0.000000</td>\n",
       "      <td>0.000000</td>\n",
       "      <td>0.000000</td>\n",
       "      <td>2.000000</td>\n",
       "      <td>-39.000000</td>\n",
       "      <td>1.000000</td>\n",
       "    </tr>\n",
       "    <tr>\n",
       "      <th>50%</th>\n",
       "      <td>13228.000000</td>\n",
       "      <td>0.000000</td>\n",
       "      <td>1.575000e+05</td>\n",
       "      <td>-15547.000000</td>\n",
       "      <td>-1539.000000</td>\n",
       "      <td>1.0</td>\n",
       "      <td>0.000000</td>\n",
       "      <td>0.000000</td>\n",
       "      <td>0.000000</td>\n",
       "      <td>2.000000</td>\n",
       "      <td>-24.000000</td>\n",
       "      <td>2.000000</td>\n",
       "    </tr>\n",
       "    <tr>\n",
       "      <th>75%</th>\n",
       "      <td>19842.000000</td>\n",
       "      <td>1.000000</td>\n",
       "      <td>2.250000e+05</td>\n",
       "      <td>-12446.000000</td>\n",
       "      <td>-407.000000</td>\n",
       "      <td>1.0</td>\n",
       "      <td>0.000000</td>\n",
       "      <td>1.000000</td>\n",
       "      <td>0.000000</td>\n",
       "      <td>3.000000</td>\n",
       "      <td>-12.000000</td>\n",
       "      <td>2.000000</td>\n",
       "    </tr>\n",
       "    <tr>\n",
       "      <th>max</th>\n",
       "      <td>26456.000000</td>\n",
       "      <td>19.000000</td>\n",
       "      <td>1.575000e+06</td>\n",
       "      <td>-7705.000000</td>\n",
       "      <td>365243.000000</td>\n",
       "      <td>1.0</td>\n",
       "      <td>1.000000</td>\n",
       "      <td>1.000000</td>\n",
       "      <td>1.000000</td>\n",
       "      <td>20.000000</td>\n",
       "      <td>0.000000</td>\n",
       "      <td>2.000000</td>\n",
       "    </tr>\n",
       "  </tbody>\n",
       "</table>\n",
       "</div>"
      ],
      "text/plain": [
       "              index     child_num  income_total    DAYS_BIRTH  DAYS_EMPLOYED  \\\n",
       "count  26457.000000  26457.000000  2.645700e+04  26457.000000   26457.000000   \n",
       "mean   13228.000000      0.428658  1.873065e+05 -15958.053899   59068.750728   \n",
       "std     7637.622372      0.747326  1.018784e+05   4201.589022  137475.427503   \n",
       "min        0.000000      0.000000  2.700000e+04 -25152.000000  -15713.000000   \n",
       "25%     6614.000000      0.000000  1.215000e+05 -19431.000000   -3153.000000   \n",
       "50%    13228.000000      0.000000  1.575000e+05 -15547.000000   -1539.000000   \n",
       "75%    19842.000000      1.000000  2.250000e+05 -12446.000000    -407.000000   \n",
       "max    26456.000000     19.000000  1.575000e+06  -7705.000000  365243.000000   \n",
       "\n",
       "       FLAG_MOBIL    work_phone         phone         email   family_size  \\\n",
       "count     26457.0  26457.000000  26457.000000  26457.000000  26457.000000   \n",
       "mean          1.0      0.224742      0.294251      0.091280      2.196848   \n",
       "std           0.0      0.417420      0.455714      0.288013      0.916717   \n",
       "min           1.0      0.000000      0.000000      0.000000      1.000000   \n",
       "25%           1.0      0.000000      0.000000      0.000000      2.000000   \n",
       "50%           1.0      0.000000      0.000000      0.000000      2.000000   \n",
       "75%           1.0      0.000000      1.000000      0.000000      3.000000   \n",
       "max           1.0      1.000000      1.000000      1.000000     20.000000   \n",
       "\n",
       "        begin_month        credit  \n",
       "count  26457.000000  26457.000000  \n",
       "mean     -26.123294      1.519560  \n",
       "std       16.559550      0.702283  \n",
       "min      -60.000000      0.000000  \n",
       "25%      -39.000000      1.000000  \n",
       "50%      -24.000000      2.000000  \n",
       "75%      -12.000000      2.000000  \n",
       "max        0.000000      2.000000  "
      ]
     },
     "execution_count": 212,
     "metadata": {},
     "output_type": "execute_result"
    }
   ],
   "source": [
    "df.describe()"
   ]
  },
  {
   "cell_type": "code",
   "execution_count": 213,
   "id": "cee905dd",
   "metadata": {},
   "outputs": [
    {
     "data": {
      "text/plain": [
       "(26457, 20)"
      ]
     },
     "execution_count": 213,
     "metadata": {},
     "output_type": "execute_result"
    }
   ],
   "source": [
    "df.shape"
   ]
  },
  {
   "cell_type": "code",
   "execution_count": 214,
   "id": "30b1018d",
   "metadata": {},
   "outputs": [
    {
     "data": {
      "text/plain": [
       "2.0    16968\n",
       "1.0     6267\n",
       "0.0     3222\n",
       "Name: credit, dtype: int64"
      ]
     },
     "execution_count": 214,
     "metadata": {},
     "output_type": "execute_result"
    }
   ],
   "source": [
    "df['credit'].value_counts()"
   ]
  },
  {
   "cell_type": "code",
   "execution_count": 215,
   "id": "263284cb",
   "metadata": {},
   "outputs": [
    {
     "data": {
      "text/plain": [
       "array(['F', 'M'], dtype=object)"
      ]
     },
     "execution_count": 215,
     "metadata": {},
     "output_type": "execute_result"
    }
   ],
   "source": [
    "df['gender'].unique()"
   ]
  },
  {
   "cell_type": "code",
   "execution_count": 216,
   "id": "fb33776c",
   "metadata": {},
   "outputs": [
    {
     "data": {
      "text/plain": [
       "array(['N', 'Y'], dtype=object)"
      ]
     },
     "execution_count": 216,
     "metadata": {},
     "output_type": "execute_result"
    }
   ],
   "source": [
    "df['car'].unique()"
   ]
  },
  {
   "cell_type": "code",
   "execution_count": 217,
   "id": "01d9f076",
   "metadata": {},
   "outputs": [
    {
     "data": {
      "text/plain": [
       "array(['N', 'Y'], dtype=object)"
      ]
     },
     "execution_count": 217,
     "metadata": {},
     "output_type": "execute_result"
    }
   ],
   "source": [
    "df['reality'].unique()"
   ]
  },
  {
   "cell_type": "code",
   "execution_count": 219,
   "id": "19a909a9",
   "metadata": {},
   "outputs": [
    {
     "data": {
      "text/plain": [
       "array(['Commercial associate', 'Working', 'State servant', 'Pensioner',\n",
       "       'Student'], dtype=object)"
      ]
     },
     "execution_count": 219,
     "metadata": {},
     "output_type": "execute_result"
    }
   ],
   "source": [
    "df['income_type'].unique()"
   ]
  },
  {
   "cell_type": "code",
   "execution_count": 220,
   "id": "dda15772",
   "metadata": {},
   "outputs": [
    {
     "data": {
      "text/plain": [
       "array(['Higher education', 'Secondary / secondary special',\n",
       "       'Incomplete higher', 'Lower secondary', 'Academic degree'],\n",
       "      dtype=object)"
      ]
     },
     "execution_count": 220,
     "metadata": {},
     "output_type": "execute_result"
    }
   ],
   "source": [
    "df['edu_type'].unique()"
   ]
  },
  {
   "cell_type": "code",
   "execution_count": 221,
   "id": "49ecb61c",
   "metadata": {},
   "outputs": [
    {
     "data": {
      "text/plain": [
       "array(['Married', 'Civil marriage', 'Separated', 'Single / not married',\n",
       "       'Widow'], dtype=object)"
      ]
     },
     "execution_count": 221,
     "metadata": {},
     "output_type": "execute_result"
    }
   ],
   "source": [
    "df['family_type'].unique()"
   ]
  },
  {
   "cell_type": "code",
   "execution_count": 222,
   "id": "5a4e20ca",
   "metadata": {},
   "outputs": [
    {
     "data": {
      "text/plain": [
       "array(['Municipal apartment', 'House / apartment', 'With parents',\n",
       "       'Co-op apartment', 'Rented apartment', 'Office apartment'],\n",
       "      dtype=object)"
      ]
     },
     "execution_count": 222,
     "metadata": {},
     "output_type": "execute_result"
    }
   ],
   "source": [
    "df['house_type'].unique()"
   ]
  },
  {
   "cell_type": "code",
   "execution_count": 223,
   "id": "de1d4f26",
   "metadata": {},
   "outputs": [
    {
     "data": {
      "text/plain": [
       "Series([], Name: DAYS_BIRTH, dtype: int64)"
      ]
     },
     "execution_count": 223,
     "metadata": {},
     "output_type": "execute_result"
    }
   ],
   "source": [
    "# DAYS_BIRTH가 0보다 큰 사람은 없음 => 잘못 입력된 값 없음\n",
    "df[df['DAYS_BIRTH']>0]['DAYS_BIRTH']"
   ]
  },
  {
   "cell_type": "code",
   "execution_count": 224,
   "id": "f835d125",
   "metadata": {},
   "outputs": [],
   "source": [
    "# DAYS_BIRTH 컬럼 양수로 변경\n",
    "df['DAYS_BIRTH']=abs(df['DAYS_BIRTH'])"
   ]
  },
  {
   "cell_type": "code",
   "execution_count": 225,
   "id": "f7495462",
   "metadata": {},
   "outputs": [],
   "source": [
    "# 나이 컬럼 추가\n",
    "df['age']=abs(df['DAYS_BIRTH'])//365"
   ]
  },
  {
   "cell_type": "code",
   "execution_count": 226,
   "id": "d874aa77",
   "metadata": {},
   "outputs": [],
   "source": [
    "# DAYS_BIRTH 컬럼 제거\n",
    "df=df.drop(columns=['DAYS_BIRTH'])"
   ]
  },
  {
   "cell_type": "code",
   "execution_count": 227,
   "id": "4fee8c2c",
   "metadata": {},
   "outputs": [
    {
     "data": {
      "text/plain": [
       "14       365243\n",
       "18       365243\n",
       "21       365243\n",
       "24       365243\n",
       "46       365243\n",
       "          ...  \n",
       "26431    365243\n",
       "26432    365243\n",
       "26439    365243\n",
       "26441    365243\n",
       "26443    365243\n",
       "Name: DAYS_EMPLOYED, Length: 4438, dtype: int64"
      ]
     },
     "execution_count": 227,
     "metadata": {},
     "output_type": "execute_result"
    }
   ],
   "source": [
    "# 0 이상인 값 => 입사하지 않은 사람의 값\n",
    "df[df['DAYS_EMPLOYED']>0]['DAYS_EMPLOYED']"
   ]
  },
  {
   "cell_type": "code",
   "execution_count": 228,
   "id": "4a339108",
   "metadata": {},
   "outputs": [],
   "source": [
    "# 0보다 큰 값을 입사하지 않은 사람으로 간주하여 0으로 변환\n",
    "df['DAYS_EMPLOYED']=df['DAYS_EMPLOYED'].map(lambda x:0 if x>0 else x)"
   ]
  },
  {
   "cell_type": "code",
   "execution_count": 229,
   "id": "565b7704",
   "metadata": {},
   "outputs": [],
   "source": [
    "# DAYS_EMPLOYED 컬럼 양수로 변경\n",
    "df['DAYS_EMPLOYED']=abs(df['DAYS_EMPLOYED'])"
   ]
  },
  {
   "cell_type": "code",
   "execution_count": 230,
   "id": "ed117a93",
   "metadata": {},
   "outputs": [
    {
     "data": {
      "text/plain": [
       "array([1], dtype=int64)"
      ]
     },
     "execution_count": 230,
     "metadata": {},
     "output_type": "execute_result"
    }
   ],
   "source": [
    "df['FLAG_MOBIL'].unique()"
   ]
  },
  {
   "cell_type": "code",
   "execution_count": 231,
   "id": "a1c45158",
   "metadata": {},
   "outputs": [],
   "source": [
    "# FLAG_MOBIL(핸드폰 소유 여부) 열의 값이 1뿐이므로 열 삭제\n",
    "df=df.drop(columns=['FLAG_MOBIL'])"
   ]
  },
  {
   "cell_type": "code",
   "execution_count": 232,
   "id": "8547a5c6",
   "metadata": {},
   "outputs": [
    {
     "data": {
      "text/plain": [
       "array([0, 1], dtype=int64)"
      ]
     },
     "execution_count": 232,
     "metadata": {},
     "output_type": "execute_result"
    }
   ],
   "source": [
    "df['work_phone'].unique()"
   ]
  },
  {
   "cell_type": "code",
   "execution_count": 233,
   "id": "ea8b2e66",
   "metadata": {},
   "outputs": [
    {
     "data": {
      "text/plain": [
       "array([0, 1], dtype=int64)"
      ]
     },
     "execution_count": 233,
     "metadata": {},
     "output_type": "execute_result"
    }
   ],
   "source": [
    "df['phone'].unique()"
   ]
  },
  {
   "cell_type": "code",
   "execution_count": 234,
   "id": "96255e85",
   "metadata": {},
   "outputs": [
    {
     "data": {
      "text/plain": [
       "array([0, 1], dtype=int64)"
      ]
     },
     "execution_count": 234,
     "metadata": {},
     "output_type": "execute_result"
    }
   ],
   "source": [
    "df['email'].unique()"
   ]
  },
  {
   "cell_type": "code",
   "execution_count": 235,
   "id": "5b84f45e",
   "metadata": {},
   "outputs": [
    {
     "data": {
      "text/plain": [
       "array([nan, 'Laborers', 'Managers', 'Sales staff',\n",
       "       'High skill tech staff', 'Core staff', 'Drivers', 'Medicine staff',\n",
       "       'Accountants', 'Realty agents', 'Security staff', 'Cleaning staff',\n",
       "       'Private service staff', 'Cooking staff', 'Secretaries',\n",
       "       'HR staff', 'IT staff', 'Low-skill Laborers',\n",
       "       'Waiters/barmen staff'], dtype=object)"
      ]
     },
     "execution_count": 235,
     "metadata": {},
     "output_type": "execute_result"
    }
   ],
   "source": [
    "df['occyp_type'].unique()"
   ]
  },
  {
   "cell_type": "code",
   "execution_count": 236,
   "id": "4c617fbc",
   "metadata": {},
   "outputs": [],
   "source": [
    "# occyp_type 열의 결측치를 Jobless로 변경\n",
    "df['occyp_type']=df['occyp_type'].fillna('Jobless')"
   ]
  },
  {
   "cell_type": "code",
   "execution_count": 237,
   "id": "83d18ea2",
   "metadata": {},
   "outputs": [],
   "source": [
    "# family_size를 정수형으로 바꾸기\n",
    "df['family_size']=df['family_size'].astype('int')"
   ]
  },
  {
   "cell_type": "code",
   "execution_count": 238,
   "id": "8255127e",
   "metadata": {},
   "outputs": [
    {
     "data": {
      "text/plain": [
       "array([ 2,  3,  4,  1,  5,  6,  7, 15, 20,  9])"
      ]
     },
     "execution_count": 238,
     "metadata": {},
     "output_type": "execute_result"
    }
   ],
   "source": [
    "df['family_size'].unique()"
   ]
  },
  {
   "cell_type": "code",
   "execution_count": 239,
   "id": "671d8b6e",
   "metadata": {},
   "outputs": [
    {
     "data": {
      "text/plain": [
       "0         6.0\n",
       "1         5.0\n",
       "2        22.0\n",
       "3        37.0\n",
       "4        26.0\n",
       "         ... \n",
       "26452     2.0\n",
       "26453    47.0\n",
       "26454    25.0\n",
       "26455    59.0\n",
       "26456     9.0\n",
       "Name: begin_month, Length: 26457, dtype: float64"
      ]
     },
     "execution_count": 239,
     "metadata": {},
     "output_type": "execute_result"
    }
   ],
   "source": [
    "df['begin_month']=abs(df['begin_month'])\n",
    "df['begin_month']"
   ]
  },
  {
   "cell_type": "code",
   "execution_count": 240,
   "id": "61ec89c3",
   "metadata": {},
   "outputs": [
    {
     "data": {
      "text/plain": [
       "2.0    16968\n",
       "1.0     6267\n",
       "0.0     3222\n",
       "Name: credit, dtype: int64"
      ]
     },
     "execution_count": 240,
     "metadata": {},
     "output_type": "execute_result"
    }
   ],
   "source": [
    "df['credit'].value_counts()"
   ]
  },
  {
   "cell_type": "code",
   "execution_count": 241,
   "id": "4d4558fa",
   "metadata": {},
   "outputs": [],
   "source": [
    "# Index 열 필요없으니 제거\n",
    "df=df.drop(columns=['index'])"
   ]
  },
  {
   "cell_type": "code",
   "execution_count": 242,
   "id": "d2816474",
   "metadata": {},
   "outputs": [
    {
     "data": {
      "text/plain": [
       "0        1.0\n",
       "1        1.0\n",
       "2        2.0\n",
       "3        0.0\n",
       "4        2.0\n",
       "        ... \n",
       "26452    1.0\n",
       "26453    2.0\n",
       "26454    2.0\n",
       "26455    2.0\n",
       "26456    2.0\n",
       "Name: credit, Length: 26457, dtype: float64"
      ]
     },
     "execution_count": 242,
     "metadata": {},
     "output_type": "execute_result"
    }
   ],
   "source": [
    "# 컬럼 순서 바꾸기\n",
    "credit=df['credit']\n",
    "credit"
   ]
  },
  {
   "cell_type": "code",
   "execution_count": 243,
   "id": "558708db",
   "metadata": {},
   "outputs": [],
   "source": [
    "df=df.drop(columns=['credit'])"
   ]
  },
  {
   "cell_type": "code",
   "execution_count": 244,
   "id": "1a58f6f1",
   "metadata": {},
   "outputs": [],
   "source": [
    "df=pd.concat([df, credit], axis=1)"
   ]
  },
  {
   "cell_type": "code",
   "execution_count": 245,
   "id": "6ea523f0",
   "metadata": {},
   "outputs": [
    {
     "data": {
      "text/html": [
       "<div>\n",
       "<style scoped>\n",
       "    .dataframe tbody tr th:only-of-type {\n",
       "        vertical-align: middle;\n",
       "    }\n",
       "\n",
       "    .dataframe tbody tr th {\n",
       "        vertical-align: top;\n",
       "    }\n",
       "\n",
       "    .dataframe thead th {\n",
       "        text-align: right;\n",
       "    }\n",
       "</style>\n",
       "<table border=\"1\" class=\"dataframe\">\n",
       "  <thead>\n",
       "    <tr style=\"text-align: right;\">\n",
       "      <th></th>\n",
       "      <th>child_num</th>\n",
       "      <th>income_total</th>\n",
       "      <th>DAYS_EMPLOYED</th>\n",
       "      <th>work_phone</th>\n",
       "      <th>phone</th>\n",
       "      <th>email</th>\n",
       "      <th>family_size</th>\n",
       "      <th>begin_month</th>\n",
       "      <th>age</th>\n",
       "      <th>credit</th>\n",
       "    </tr>\n",
       "  </thead>\n",
       "  <tbody>\n",
       "    <tr>\n",
       "      <th>child_num</th>\n",
       "      <td>1.000000</td>\n",
       "      <td>0.032186</td>\n",
       "      <td>0.043122</td>\n",
       "      <td>0.051521</td>\n",
       "      <td>-0.010555</td>\n",
       "      <td>0.016120</td>\n",
       "      <td>0.890530</td>\n",
       "      <td>0.007229</td>\n",
       "      <td>-0.332831</td>\n",
       "      <td>0.004081</td>\n",
       "    </tr>\n",
       "    <tr>\n",
       "      <th>income_total</th>\n",
       "      <td>0.032186</td>\n",
       "      <td>1.000000</td>\n",
       "      <td>0.086899</td>\n",
       "      <td>-0.034207</td>\n",
       "      <td>0.019013</td>\n",
       "      <td>0.089882</td>\n",
       "      <td>0.023839</td>\n",
       "      <td>0.018047</td>\n",
       "      <td>-0.064009</td>\n",
       "      <td>0.008555</td>\n",
       "    </tr>\n",
       "    <tr>\n",
       "      <th>DAYS_EMPLOYED</th>\n",
       "      <td>0.043122</td>\n",
       "      <td>0.086899</td>\n",
       "      <td>1.000000</td>\n",
       "      <td>0.108538</td>\n",
       "      <td>0.041886</td>\n",
       "      <td>0.002904</td>\n",
       "      <td>0.055657</td>\n",
       "      <td>0.082669</td>\n",
       "      <td>-0.020645</td>\n",
       "      <td>0.022824</td>\n",
       "    </tr>\n",
       "    <tr>\n",
       "      <th>work_phone</th>\n",
       "      <td>0.051521</td>\n",
       "      <td>-0.034207</td>\n",
       "      <td>0.108538</td>\n",
       "      <td>1.000000</td>\n",
       "      <td>0.310256</td>\n",
       "      <td>-0.031048</td>\n",
       "      <td>0.068705</td>\n",
       "      <td>0.008563</td>\n",
       "      <td>-0.179204</td>\n",
       "      <td>-0.003134</td>\n",
       "    </tr>\n",
       "    <tr>\n",
       "      <th>phone</th>\n",
       "      <td>-0.010555</td>\n",
       "      <td>0.019013</td>\n",
       "      <td>0.041886</td>\n",
       "      <td>0.310256</td>\n",
       "      <td>1.000000</td>\n",
       "      <td>0.012494</td>\n",
       "      <td>-0.000132</td>\n",
       "      <td>0.014286</td>\n",
       "      <td>0.029090</td>\n",
       "      <td>0.003452</td>\n",
       "    </tr>\n",
       "    <tr>\n",
       "      <th>email</th>\n",
       "      <td>0.016120</td>\n",
       "      <td>0.089882</td>\n",
       "      <td>0.002904</td>\n",
       "      <td>-0.031048</td>\n",
       "      <td>0.012494</td>\n",
       "      <td>1.000000</td>\n",
       "      <td>0.016122</td>\n",
       "      <td>-0.002320</td>\n",
       "      <td>-0.111189</td>\n",
       "      <td>0.014812</td>\n",
       "    </tr>\n",
       "    <tr>\n",
       "      <th>family_size</th>\n",
       "      <td>0.890530</td>\n",
       "      <td>0.023839</td>\n",
       "      <td>0.055657</td>\n",
       "      <td>0.068705</td>\n",
       "      <td>-0.000132</td>\n",
       "      <td>0.016122</td>\n",
       "      <td>1.000000</td>\n",
       "      <td>0.023032</td>\n",
       "      <td>-0.298081</td>\n",
       "      <td>0.008227</td>\n",
       "    </tr>\n",
       "    <tr>\n",
       "      <th>begin_month</th>\n",
       "      <td>0.007229</td>\n",
       "      <td>0.018047</td>\n",
       "      <td>0.082669</td>\n",
       "      <td>0.008563</td>\n",
       "      <td>0.014286</td>\n",
       "      <td>-0.002320</td>\n",
       "      <td>0.023032</td>\n",
       "      <td>1.000000</td>\n",
       "      <td>0.057365</td>\n",
       "      <td>0.147477</td>\n",
       "    </tr>\n",
       "    <tr>\n",
       "      <th>age</th>\n",
       "      <td>-0.332831</td>\n",
       "      <td>-0.064009</td>\n",
       "      <td>-0.020645</td>\n",
       "      <td>-0.179204</td>\n",
       "      <td>0.029090</td>\n",
       "      <td>-0.111189</td>\n",
       "      <td>-0.298081</td>\n",
       "      <td>0.057365</td>\n",
       "      <td>1.000000</td>\n",
       "      <td>0.025059</td>\n",
       "    </tr>\n",
       "    <tr>\n",
       "      <th>credit</th>\n",
       "      <td>0.004081</td>\n",
       "      <td>0.008555</td>\n",
       "      <td>0.022824</td>\n",
       "      <td>-0.003134</td>\n",
       "      <td>0.003452</td>\n",
       "      <td>0.014812</td>\n",
       "      <td>0.008227</td>\n",
       "      <td>0.147477</td>\n",
       "      <td>0.025059</td>\n",
       "      <td>1.000000</td>\n",
       "    </tr>\n",
       "  </tbody>\n",
       "</table>\n",
       "</div>"
      ],
      "text/plain": [
       "               child_num  income_total  DAYS_EMPLOYED  work_phone     phone  \\\n",
       "child_num       1.000000      0.032186       0.043122    0.051521 -0.010555   \n",
       "income_total    0.032186      1.000000       0.086899   -0.034207  0.019013   \n",
       "DAYS_EMPLOYED   0.043122      0.086899       1.000000    0.108538  0.041886   \n",
       "work_phone      0.051521     -0.034207       0.108538    1.000000  0.310256   \n",
       "phone          -0.010555      0.019013       0.041886    0.310256  1.000000   \n",
       "email           0.016120      0.089882       0.002904   -0.031048  0.012494   \n",
       "family_size     0.890530      0.023839       0.055657    0.068705 -0.000132   \n",
       "begin_month     0.007229      0.018047       0.082669    0.008563  0.014286   \n",
       "age            -0.332831     -0.064009      -0.020645   -0.179204  0.029090   \n",
       "credit          0.004081      0.008555       0.022824   -0.003134  0.003452   \n",
       "\n",
       "                  email  family_size  begin_month       age    credit  \n",
       "child_num      0.016120     0.890530     0.007229 -0.332831  0.004081  \n",
       "income_total   0.089882     0.023839     0.018047 -0.064009  0.008555  \n",
       "DAYS_EMPLOYED  0.002904     0.055657     0.082669 -0.020645  0.022824  \n",
       "work_phone    -0.031048     0.068705     0.008563 -0.179204 -0.003134  \n",
       "phone          0.012494    -0.000132     0.014286  0.029090  0.003452  \n",
       "email          1.000000     0.016122    -0.002320 -0.111189  0.014812  \n",
       "family_size    0.016122     1.000000     0.023032 -0.298081  0.008227  \n",
       "begin_month   -0.002320     0.023032     1.000000  0.057365  0.147477  \n",
       "age           -0.111189    -0.298081     0.057365  1.000000  0.025059  \n",
       "credit         0.014812     0.008227     0.147477  0.025059  1.000000  "
      ]
     },
     "execution_count": 245,
     "metadata": {},
     "output_type": "execute_result"
    }
   ],
   "source": [
    "df.corr()"
   ]
  },
  {
   "cell_type": "markdown",
   "id": "88bf410b",
   "metadata": {},
   "source": [
    "child_num과 family_size의 상관계수가 0.890530으로 높아서 child_num 컬럼 제거"
   ]
  },
  {
   "cell_type": "code",
   "execution_count": 246,
   "id": "f1fdd419",
   "metadata": {},
   "outputs": [],
   "source": [
    "df=df.drop(columns=['child_num'])"
   ]
  },
  {
   "cell_type": "code",
   "execution_count": 357,
   "id": "8f278526",
   "metadata": {},
   "outputs": [
    {
     "data": {
      "text/html": [
       "<div>\n",
       "<style scoped>\n",
       "    .dataframe tbody tr th:only-of-type {\n",
       "        vertical-align: middle;\n",
       "    }\n",
       "\n",
       "    .dataframe tbody tr th {\n",
       "        vertical-align: top;\n",
       "    }\n",
       "\n",
       "    .dataframe thead th {\n",
       "        text-align: right;\n",
       "    }\n",
       "</style>\n",
       "<table border=\"1\" class=\"dataframe\">\n",
       "  <thead>\n",
       "    <tr style=\"text-align: right;\">\n",
       "      <th></th>\n",
       "      <th>gender</th>\n",
       "      <th>car</th>\n",
       "      <th>reality</th>\n",
       "      <th>income_total</th>\n",
       "      <th>income_type</th>\n",
       "      <th>edu_type</th>\n",
       "      <th>family_type</th>\n",
       "      <th>house_type</th>\n",
       "      <th>DAYS_EMPLOYED</th>\n",
       "      <th>work_phone</th>\n",
       "      <th>phone</th>\n",
       "      <th>email</th>\n",
       "      <th>occyp_type</th>\n",
       "      <th>family_size</th>\n",
       "      <th>begin_month</th>\n",
       "      <th>age</th>\n",
       "      <th>credit</th>\n",
       "    </tr>\n",
       "  </thead>\n",
       "  <tbody>\n",
       "    <tr>\n",
       "      <th>0</th>\n",
       "      <td>0</td>\n",
       "      <td>0</td>\n",
       "      <td>0</td>\n",
       "      <td>202500.0</td>\n",
       "      <td>0</td>\n",
       "      <td>1</td>\n",
       "      <td>1</td>\n",
       "      <td>2</td>\n",
       "      <td>4709</td>\n",
       "      <td>0</td>\n",
       "      <td>0</td>\n",
       "      <td>0</td>\n",
       "      <td>8</td>\n",
       "      <td>2</td>\n",
       "      <td>6.0</td>\n",
       "      <td>38</td>\n",
       "      <td>1.0</td>\n",
       "    </tr>\n",
       "    <tr>\n",
       "      <th>1</th>\n",
       "      <td>0</td>\n",
       "      <td>0</td>\n",
       "      <td>1</td>\n",
       "      <td>247500.0</td>\n",
       "      <td>0</td>\n",
       "      <td>4</td>\n",
       "      <td>0</td>\n",
       "      <td>1</td>\n",
       "      <td>1540</td>\n",
       "      <td>0</td>\n",
       "      <td>0</td>\n",
       "      <td>1</td>\n",
       "      <td>9</td>\n",
       "      <td>3</td>\n",
       "      <td>5.0</td>\n",
       "      <td>31</td>\n",
       "      <td>1.0</td>\n",
       "    </tr>\n",
       "    <tr>\n",
       "      <th>2</th>\n",
       "      <td>1</td>\n",
       "      <td>1</td>\n",
       "      <td>1</td>\n",
       "      <td>450000.0</td>\n",
       "      <td>4</td>\n",
       "      <td>1</td>\n",
       "      <td>1</td>\n",
       "      <td>1</td>\n",
       "      <td>4434</td>\n",
       "      <td>0</td>\n",
       "      <td>1</td>\n",
       "      <td>0</td>\n",
       "      <td>11</td>\n",
       "      <td>2</td>\n",
       "      <td>22.0</td>\n",
       "      <td>52</td>\n",
       "      <td>2.0</td>\n",
       "    </tr>\n",
       "    <tr>\n",
       "      <th>3</th>\n",
       "      <td>0</td>\n",
       "      <td>0</td>\n",
       "      <td>1</td>\n",
       "      <td>202500.0</td>\n",
       "      <td>0</td>\n",
       "      <td>4</td>\n",
       "      <td>1</td>\n",
       "      <td>1</td>\n",
       "      <td>2092</td>\n",
       "      <td>0</td>\n",
       "      <td>1</td>\n",
       "      <td>0</td>\n",
       "      <td>15</td>\n",
       "      <td>2</td>\n",
       "      <td>37.0</td>\n",
       "      <td>41</td>\n",
       "      <td>0.0</td>\n",
       "    </tr>\n",
       "    <tr>\n",
       "      <th>4</th>\n",
       "      <td>0</td>\n",
       "      <td>1</td>\n",
       "      <td>1</td>\n",
       "      <td>157500.0</td>\n",
       "      <td>2</td>\n",
       "      <td>1</td>\n",
       "      <td>1</td>\n",
       "      <td>1</td>\n",
       "      <td>2105</td>\n",
       "      <td>0</td>\n",
       "      <td>0</td>\n",
       "      <td>0</td>\n",
       "      <td>11</td>\n",
       "      <td>2</td>\n",
       "      <td>26.0</td>\n",
       "      <td>41</td>\n",
       "      <td>2.0</td>\n",
       "    </tr>\n",
       "    <tr>\n",
       "      <th>...</th>\n",
       "      <td>...</td>\n",
       "      <td>...</td>\n",
       "      <td>...</td>\n",
       "      <td>...</td>\n",
       "      <td>...</td>\n",
       "      <td>...</td>\n",
       "      <td>...</td>\n",
       "      <td>...</td>\n",
       "      <td>...</td>\n",
       "      <td>...</td>\n",
       "      <td>...</td>\n",
       "      <td>...</td>\n",
       "      <td>...</td>\n",
       "      <td>...</td>\n",
       "      <td>...</td>\n",
       "      <td>...</td>\n",
       "      <td>...</td>\n",
       "    </tr>\n",
       "    <tr>\n",
       "      <th>26452</th>\n",
       "      <td>0</td>\n",
       "      <td>0</td>\n",
       "      <td>0</td>\n",
       "      <td>225000.0</td>\n",
       "      <td>2</td>\n",
       "      <td>4</td>\n",
       "      <td>1</td>\n",
       "      <td>1</td>\n",
       "      <td>1984</td>\n",
       "      <td>0</td>\n",
       "      <td>0</td>\n",
       "      <td>0</td>\n",
       "      <td>3</td>\n",
       "      <td>4</td>\n",
       "      <td>2.0</td>\n",
       "      <td>33</td>\n",
       "      <td>1.0</td>\n",
       "    </tr>\n",
       "    <tr>\n",
       "      <th>26453</th>\n",
       "      <td>0</td>\n",
       "      <td>0</td>\n",
       "      <td>1</td>\n",
       "      <td>180000.0</td>\n",
       "      <td>4</td>\n",
       "      <td>1</td>\n",
       "      <td>2</td>\n",
       "      <td>1</td>\n",
       "      <td>2475</td>\n",
       "      <td>0</td>\n",
       "      <td>0</td>\n",
       "      <td>0</td>\n",
       "      <td>8</td>\n",
       "      <td>2</td>\n",
       "      <td>47.0</td>\n",
       "      <td>41</td>\n",
       "      <td>2.0</td>\n",
       "    </tr>\n",
       "    <tr>\n",
       "      <th>26454</th>\n",
       "      <td>0</td>\n",
       "      <td>1</td>\n",
       "      <td>0</td>\n",
       "      <td>292500.0</td>\n",
       "      <td>4</td>\n",
       "      <td>4</td>\n",
       "      <td>0</td>\n",
       "      <td>5</td>\n",
       "      <td>2015</td>\n",
       "      <td>0</td>\n",
       "      <td>0</td>\n",
       "      <td>0</td>\n",
       "      <td>3</td>\n",
       "      <td>2</td>\n",
       "      <td>25.0</td>\n",
       "      <td>27</td>\n",
       "      <td>2.0</td>\n",
       "    </tr>\n",
       "    <tr>\n",
       "      <th>26455</th>\n",
       "      <td>1</td>\n",
       "      <td>0</td>\n",
       "      <td>1</td>\n",
       "      <td>171000.0</td>\n",
       "      <td>4</td>\n",
       "      <td>2</td>\n",
       "      <td>3</td>\n",
       "      <td>1</td>\n",
       "      <td>107</td>\n",
       "      <td>0</td>\n",
       "      <td>0</td>\n",
       "      <td>0</td>\n",
       "      <td>9</td>\n",
       "      <td>1</td>\n",
       "      <td>59.0</td>\n",
       "      <td>27</td>\n",
       "      <td>2.0</td>\n",
       "    </tr>\n",
       "    <tr>\n",
       "      <th>26456</th>\n",
       "      <td>0</td>\n",
       "      <td>0</td>\n",
       "      <td>0</td>\n",
       "      <td>81000.0</td>\n",
       "      <td>4</td>\n",
       "      <td>4</td>\n",
       "      <td>0</td>\n",
       "      <td>1</td>\n",
       "      <td>1013</td>\n",
       "      <td>0</td>\n",
       "      <td>0</td>\n",
       "      <td>0</td>\n",
       "      <td>17</td>\n",
       "      <td>2</td>\n",
       "      <td>9.0</td>\n",
       "      <td>53</td>\n",
       "      <td>2.0</td>\n",
       "    </tr>\n",
       "  </tbody>\n",
       "</table>\n",
       "<p>26457 rows × 17 columns</p>\n",
       "</div>"
      ],
      "text/plain": [
       "       gender  car  reality  income_total  income_type  edu_type  family_type  \\\n",
       "0           0    0        0      202500.0            0         1            1   \n",
       "1           0    0        1      247500.0            0         4            0   \n",
       "2           1    1        1      450000.0            4         1            1   \n",
       "3           0    0        1      202500.0            0         4            1   \n",
       "4           0    1        1      157500.0            2         1            1   \n",
       "...       ...  ...      ...           ...          ...       ...          ...   \n",
       "26452       0    0        0      225000.0            2         4            1   \n",
       "26453       0    0        1      180000.0            4         1            2   \n",
       "26454       0    1        0      292500.0            4         4            0   \n",
       "26455       1    0        1      171000.0            4         2            3   \n",
       "26456       0    0        0       81000.0            4         4            0   \n",
       "\n",
       "       house_type  DAYS_EMPLOYED  work_phone  phone  email  occyp_type  \\\n",
       "0               2           4709           0      0      0           8   \n",
       "1               1           1540           0      0      1           9   \n",
       "2               1           4434           0      1      0          11   \n",
       "3               1           2092           0      1      0          15   \n",
       "4               1           2105           0      0      0          11   \n",
       "...           ...            ...         ...    ...    ...         ...   \n",
       "26452           1           1984           0      0      0           3   \n",
       "26453           1           2475           0      0      0           8   \n",
       "26454           5           2015           0      0      0           3   \n",
       "26455           1            107           0      0      0           9   \n",
       "26456           1           1013           0      0      0          17   \n",
       "\n",
       "       family_size  begin_month  age  credit  \n",
       "0                2          6.0   38     1.0  \n",
       "1                3          5.0   31     1.0  \n",
       "2                2         22.0   52     2.0  \n",
       "3                2         37.0   41     0.0  \n",
       "4                2         26.0   41     2.0  \n",
       "...            ...          ...  ...     ...  \n",
       "26452            4          2.0   33     1.0  \n",
       "26453            2         47.0   41     2.0  \n",
       "26454            2         25.0   27     2.0  \n",
       "26455            1         59.0   27     2.0  \n",
       "26456            2          9.0   53     2.0  \n",
       "\n",
       "[26457 rows x 17 columns]"
      ]
     },
     "execution_count": 357,
     "metadata": {},
     "output_type": "execute_result"
    }
   ],
   "source": [
    "df"
   ]
  },
  {
   "cell_type": "markdown",
   "id": "68ef5758",
   "metadata": {},
   "source": [
    "#### 인코딩"
   ]
  },
  {
   "cell_type": "code",
   "execution_count": 247,
   "id": "f130501a",
   "metadata": {},
   "outputs": [],
   "source": [
    "encoder=LabelEncoder()"
   ]
  },
  {
   "cell_type": "code",
   "execution_count": 248,
   "id": "8abbbe1e",
   "metadata": {},
   "outputs": [],
   "source": [
    "col_list=['gender', 'car', 'reality', 'income_type', 'edu_type', 'family_type', 'house_type', 'occyp_type']"
   ]
  },
  {
   "cell_type": "code",
   "execution_count": 249,
   "id": "ad0b2cf0",
   "metadata": {},
   "outputs": [],
   "source": [
    "for col in col_list:\n",
    "    df[col]=encoder.fit_transform(df[col])"
   ]
  },
  {
   "cell_type": "code",
   "execution_count": 250,
   "id": "750f6639",
   "metadata": {},
   "outputs": [
    {
     "data": {
      "text/html": [
       "<div>\n",
       "<style scoped>\n",
       "    .dataframe tbody tr th:only-of-type {\n",
       "        vertical-align: middle;\n",
       "    }\n",
       "\n",
       "    .dataframe tbody tr th {\n",
       "        vertical-align: top;\n",
       "    }\n",
       "\n",
       "    .dataframe thead th {\n",
       "        text-align: right;\n",
       "    }\n",
       "</style>\n",
       "<table border=\"1\" class=\"dataframe\">\n",
       "  <thead>\n",
       "    <tr style=\"text-align: right;\">\n",
       "      <th></th>\n",
       "      <th>gender</th>\n",
       "      <th>car</th>\n",
       "      <th>reality</th>\n",
       "      <th>income_total</th>\n",
       "      <th>income_type</th>\n",
       "      <th>edu_type</th>\n",
       "      <th>family_type</th>\n",
       "      <th>house_type</th>\n",
       "      <th>DAYS_EMPLOYED</th>\n",
       "      <th>work_phone</th>\n",
       "      <th>phone</th>\n",
       "      <th>email</th>\n",
       "      <th>occyp_type</th>\n",
       "      <th>family_size</th>\n",
       "      <th>begin_month</th>\n",
       "      <th>age</th>\n",
       "      <th>credit</th>\n",
       "    </tr>\n",
       "  </thead>\n",
       "  <tbody>\n",
       "    <tr>\n",
       "      <th>0</th>\n",
       "      <td>0</td>\n",
       "      <td>0</td>\n",
       "      <td>0</td>\n",
       "      <td>202500.0</td>\n",
       "      <td>0</td>\n",
       "      <td>1</td>\n",
       "      <td>1</td>\n",
       "      <td>2</td>\n",
       "      <td>4709</td>\n",
       "      <td>0</td>\n",
       "      <td>0</td>\n",
       "      <td>0</td>\n",
       "      <td>8</td>\n",
       "      <td>2</td>\n",
       "      <td>6.0</td>\n",
       "      <td>38</td>\n",
       "      <td>1.0</td>\n",
       "    </tr>\n",
       "    <tr>\n",
       "      <th>1</th>\n",
       "      <td>0</td>\n",
       "      <td>0</td>\n",
       "      <td>1</td>\n",
       "      <td>247500.0</td>\n",
       "      <td>0</td>\n",
       "      <td>4</td>\n",
       "      <td>0</td>\n",
       "      <td>1</td>\n",
       "      <td>1540</td>\n",
       "      <td>0</td>\n",
       "      <td>0</td>\n",
       "      <td>1</td>\n",
       "      <td>9</td>\n",
       "      <td>3</td>\n",
       "      <td>5.0</td>\n",
       "      <td>31</td>\n",
       "      <td>1.0</td>\n",
       "    </tr>\n",
       "    <tr>\n",
       "      <th>2</th>\n",
       "      <td>1</td>\n",
       "      <td>1</td>\n",
       "      <td>1</td>\n",
       "      <td>450000.0</td>\n",
       "      <td>4</td>\n",
       "      <td>1</td>\n",
       "      <td>1</td>\n",
       "      <td>1</td>\n",
       "      <td>4434</td>\n",
       "      <td>0</td>\n",
       "      <td>1</td>\n",
       "      <td>0</td>\n",
       "      <td>11</td>\n",
       "      <td>2</td>\n",
       "      <td>22.0</td>\n",
       "      <td>52</td>\n",
       "      <td>2.0</td>\n",
       "    </tr>\n",
       "    <tr>\n",
       "      <th>3</th>\n",
       "      <td>0</td>\n",
       "      <td>0</td>\n",
       "      <td>1</td>\n",
       "      <td>202500.0</td>\n",
       "      <td>0</td>\n",
       "      <td>4</td>\n",
       "      <td>1</td>\n",
       "      <td>1</td>\n",
       "      <td>2092</td>\n",
       "      <td>0</td>\n",
       "      <td>1</td>\n",
       "      <td>0</td>\n",
       "      <td>15</td>\n",
       "      <td>2</td>\n",
       "      <td>37.0</td>\n",
       "      <td>41</td>\n",
       "      <td>0.0</td>\n",
       "    </tr>\n",
       "    <tr>\n",
       "      <th>4</th>\n",
       "      <td>0</td>\n",
       "      <td>1</td>\n",
       "      <td>1</td>\n",
       "      <td>157500.0</td>\n",
       "      <td>2</td>\n",
       "      <td>1</td>\n",
       "      <td>1</td>\n",
       "      <td>1</td>\n",
       "      <td>2105</td>\n",
       "      <td>0</td>\n",
       "      <td>0</td>\n",
       "      <td>0</td>\n",
       "      <td>11</td>\n",
       "      <td>2</td>\n",
       "      <td>26.0</td>\n",
       "      <td>41</td>\n",
       "      <td>2.0</td>\n",
       "    </tr>\n",
       "    <tr>\n",
       "      <th>...</th>\n",
       "      <td>...</td>\n",
       "      <td>...</td>\n",
       "      <td>...</td>\n",
       "      <td>...</td>\n",
       "      <td>...</td>\n",
       "      <td>...</td>\n",
       "      <td>...</td>\n",
       "      <td>...</td>\n",
       "      <td>...</td>\n",
       "      <td>...</td>\n",
       "      <td>...</td>\n",
       "      <td>...</td>\n",
       "      <td>...</td>\n",
       "      <td>...</td>\n",
       "      <td>...</td>\n",
       "      <td>...</td>\n",
       "      <td>...</td>\n",
       "    </tr>\n",
       "    <tr>\n",
       "      <th>26452</th>\n",
       "      <td>0</td>\n",
       "      <td>0</td>\n",
       "      <td>0</td>\n",
       "      <td>225000.0</td>\n",
       "      <td>2</td>\n",
       "      <td>4</td>\n",
       "      <td>1</td>\n",
       "      <td>1</td>\n",
       "      <td>1984</td>\n",
       "      <td>0</td>\n",
       "      <td>0</td>\n",
       "      <td>0</td>\n",
       "      <td>3</td>\n",
       "      <td>4</td>\n",
       "      <td>2.0</td>\n",
       "      <td>33</td>\n",
       "      <td>1.0</td>\n",
       "    </tr>\n",
       "    <tr>\n",
       "      <th>26453</th>\n",
       "      <td>0</td>\n",
       "      <td>0</td>\n",
       "      <td>1</td>\n",
       "      <td>180000.0</td>\n",
       "      <td>4</td>\n",
       "      <td>1</td>\n",
       "      <td>2</td>\n",
       "      <td>1</td>\n",
       "      <td>2475</td>\n",
       "      <td>0</td>\n",
       "      <td>0</td>\n",
       "      <td>0</td>\n",
       "      <td>8</td>\n",
       "      <td>2</td>\n",
       "      <td>47.0</td>\n",
       "      <td>41</td>\n",
       "      <td>2.0</td>\n",
       "    </tr>\n",
       "    <tr>\n",
       "      <th>26454</th>\n",
       "      <td>0</td>\n",
       "      <td>1</td>\n",
       "      <td>0</td>\n",
       "      <td>292500.0</td>\n",
       "      <td>4</td>\n",
       "      <td>4</td>\n",
       "      <td>0</td>\n",
       "      <td>5</td>\n",
       "      <td>2015</td>\n",
       "      <td>0</td>\n",
       "      <td>0</td>\n",
       "      <td>0</td>\n",
       "      <td>3</td>\n",
       "      <td>2</td>\n",
       "      <td>25.0</td>\n",
       "      <td>27</td>\n",
       "      <td>2.0</td>\n",
       "    </tr>\n",
       "    <tr>\n",
       "      <th>26455</th>\n",
       "      <td>1</td>\n",
       "      <td>0</td>\n",
       "      <td>1</td>\n",
       "      <td>171000.0</td>\n",
       "      <td>4</td>\n",
       "      <td>2</td>\n",
       "      <td>3</td>\n",
       "      <td>1</td>\n",
       "      <td>107</td>\n",
       "      <td>0</td>\n",
       "      <td>0</td>\n",
       "      <td>0</td>\n",
       "      <td>9</td>\n",
       "      <td>1</td>\n",
       "      <td>59.0</td>\n",
       "      <td>27</td>\n",
       "      <td>2.0</td>\n",
       "    </tr>\n",
       "    <tr>\n",
       "      <th>26456</th>\n",
       "      <td>0</td>\n",
       "      <td>0</td>\n",
       "      <td>0</td>\n",
       "      <td>81000.0</td>\n",
       "      <td>4</td>\n",
       "      <td>4</td>\n",
       "      <td>0</td>\n",
       "      <td>1</td>\n",
       "      <td>1013</td>\n",
       "      <td>0</td>\n",
       "      <td>0</td>\n",
       "      <td>0</td>\n",
       "      <td>17</td>\n",
       "      <td>2</td>\n",
       "      <td>9.0</td>\n",
       "      <td>53</td>\n",
       "      <td>2.0</td>\n",
       "    </tr>\n",
       "  </tbody>\n",
       "</table>\n",
       "<p>26457 rows × 17 columns</p>\n",
       "</div>"
      ],
      "text/plain": [
       "       gender  car  reality  income_total  income_type  edu_type  family_type  \\\n",
       "0           0    0        0      202500.0            0         1            1   \n",
       "1           0    0        1      247500.0            0         4            0   \n",
       "2           1    1        1      450000.0            4         1            1   \n",
       "3           0    0        1      202500.0            0         4            1   \n",
       "4           0    1        1      157500.0            2         1            1   \n",
       "...       ...  ...      ...           ...          ...       ...          ...   \n",
       "26452       0    0        0      225000.0            2         4            1   \n",
       "26453       0    0        1      180000.0            4         1            2   \n",
       "26454       0    1        0      292500.0            4         4            0   \n",
       "26455       1    0        1      171000.0            4         2            3   \n",
       "26456       0    0        0       81000.0            4         4            0   \n",
       "\n",
       "       house_type  DAYS_EMPLOYED  work_phone  phone  email  occyp_type  \\\n",
       "0               2           4709           0      0      0           8   \n",
       "1               1           1540           0      0      1           9   \n",
       "2               1           4434           0      1      0          11   \n",
       "3               1           2092           0      1      0          15   \n",
       "4               1           2105           0      0      0          11   \n",
       "...           ...            ...         ...    ...    ...         ...   \n",
       "26452           1           1984           0      0      0           3   \n",
       "26453           1           2475           0      0      0           8   \n",
       "26454           5           2015           0      0      0           3   \n",
       "26455           1            107           0      0      0           9   \n",
       "26456           1           1013           0      0      0          17   \n",
       "\n",
       "       family_size  begin_month  age  credit  \n",
       "0                2          6.0   38     1.0  \n",
       "1                3          5.0   31     1.0  \n",
       "2                2         22.0   52     2.0  \n",
       "3                2         37.0   41     0.0  \n",
       "4                2         26.0   41     2.0  \n",
       "...            ...          ...  ...     ...  \n",
       "26452            4          2.0   33     1.0  \n",
       "26453            2         47.0   41     2.0  \n",
       "26454            2         25.0   27     2.0  \n",
       "26455            1         59.0   27     2.0  \n",
       "26456            2          9.0   53     2.0  \n",
       "\n",
       "[26457 rows x 17 columns]"
      ]
     },
     "execution_count": 250,
     "metadata": {},
     "output_type": "execute_result"
    }
   ],
   "source": [
    "df"
   ]
  },
  {
   "cell_type": "code",
   "execution_count": 251,
   "id": "c062f2d3",
   "metadata": {},
   "outputs": [
    {
     "data": {
      "text/html": [
       "<div>\n",
       "<style scoped>\n",
       "    .dataframe tbody tr th:only-of-type {\n",
       "        vertical-align: middle;\n",
       "    }\n",
       "\n",
       "    .dataframe tbody tr th {\n",
       "        vertical-align: top;\n",
       "    }\n",
       "\n",
       "    .dataframe thead th {\n",
       "        text-align: right;\n",
       "    }\n",
       "</style>\n",
       "<table border=\"1\" class=\"dataframe\">\n",
       "  <thead>\n",
       "    <tr style=\"text-align: right;\">\n",
       "      <th></th>\n",
       "      <th>gender</th>\n",
       "      <th>car</th>\n",
       "      <th>reality</th>\n",
       "      <th>income_total</th>\n",
       "      <th>income_type</th>\n",
       "      <th>edu_type</th>\n",
       "      <th>family_type</th>\n",
       "      <th>house_type</th>\n",
       "      <th>DAYS_EMPLOYED</th>\n",
       "      <th>work_phone</th>\n",
       "      <th>phone</th>\n",
       "      <th>email</th>\n",
       "      <th>occyp_type</th>\n",
       "      <th>family_size</th>\n",
       "      <th>begin_month</th>\n",
       "      <th>age</th>\n",
       "      <th>credit</th>\n",
       "    </tr>\n",
       "  </thead>\n",
       "  <tbody>\n",
       "    <tr>\n",
       "      <th>count</th>\n",
       "      <td>26457.000000</td>\n",
       "      <td>26457.000000</td>\n",
       "      <td>26457.000000</td>\n",
       "      <td>2.645700e+04</td>\n",
       "      <td>26457.000000</td>\n",
       "      <td>26457.000000</td>\n",
       "      <td>26457.000000</td>\n",
       "      <td>26457.000000</td>\n",
       "      <td>26457.000000</td>\n",
       "      <td>26457.000000</td>\n",
       "      <td>26457.000000</td>\n",
       "      <td>26457.000000</td>\n",
       "      <td>26457.000000</td>\n",
       "      <td>26457.000000</td>\n",
       "      <td>26457.000000</td>\n",
       "      <td>26457.000000</td>\n",
       "      <td>26457.000000</td>\n",
       "    </tr>\n",
       "    <tr>\n",
       "      <th>mean</th>\n",
       "      <td>0.331103</td>\n",
       "      <td>0.379748</td>\n",
       "      <td>0.673924</td>\n",
       "      <td>1.873065e+05</td>\n",
       "      <td>2.394754</td>\n",
       "      <td>3.097592</td>\n",
       "      <td>1.367275</td>\n",
       "      <td>1.279813</td>\n",
       "      <td>2198.529538</td>\n",
       "      <td>0.224742</td>\n",
       "      <td>0.294251</td>\n",
       "      <td>0.091280</td>\n",
       "      <td>8.200514</td>\n",
       "      <td>2.196848</td>\n",
       "      <td>26.123294</td>\n",
       "      <td>43.213478</td>\n",
       "      <td>1.519560</td>\n",
       "    </tr>\n",
       "    <tr>\n",
       "      <th>std</th>\n",
       "      <td>0.470619</td>\n",
       "      <td>0.485333</td>\n",
       "      <td>0.468784</td>\n",
       "      <td>1.018784e+05</td>\n",
       "      <td>1.735900</td>\n",
       "      <td>1.341602</td>\n",
       "      <td>0.952536</td>\n",
       "      <td>0.944273</td>\n",
       "      <td>2370.140530</td>\n",
       "      <td>0.417420</td>\n",
       "      <td>0.455714</td>\n",
       "      <td>0.288013</td>\n",
       "      <td>3.951175</td>\n",
       "      <td>0.916717</td>\n",
       "      <td>16.559550</td>\n",
       "      <td>11.513590</td>\n",
       "      <td>0.702283</td>\n",
       "    </tr>\n",
       "    <tr>\n",
       "      <th>min</th>\n",
       "      <td>0.000000</td>\n",
       "      <td>0.000000</td>\n",
       "      <td>0.000000</td>\n",
       "      <td>2.700000e+04</td>\n",
       "      <td>0.000000</td>\n",
       "      <td>0.000000</td>\n",
       "      <td>0.000000</td>\n",
       "      <td>0.000000</td>\n",
       "      <td>0.000000</td>\n",
       "      <td>0.000000</td>\n",
       "      <td>0.000000</td>\n",
       "      <td>0.000000</td>\n",
       "      <td>0.000000</td>\n",
       "      <td>1.000000</td>\n",
       "      <td>0.000000</td>\n",
       "      <td>21.000000</td>\n",
       "      <td>0.000000</td>\n",
       "    </tr>\n",
       "    <tr>\n",
       "      <th>25%</th>\n",
       "      <td>0.000000</td>\n",
       "      <td>0.000000</td>\n",
       "      <td>0.000000</td>\n",
       "      <td>1.215000e+05</td>\n",
       "      <td>1.000000</td>\n",
       "      <td>1.000000</td>\n",
       "      <td>1.000000</td>\n",
       "      <td>1.000000</td>\n",
       "      <td>407.000000</td>\n",
       "      <td>0.000000</td>\n",
       "      <td>0.000000</td>\n",
       "      <td>0.000000</td>\n",
       "      <td>6.000000</td>\n",
       "      <td>2.000000</td>\n",
       "      <td>12.000000</td>\n",
       "      <td>34.000000</td>\n",
       "      <td>1.000000</td>\n",
       "    </tr>\n",
       "    <tr>\n",
       "      <th>50%</th>\n",
       "      <td>0.000000</td>\n",
       "      <td>0.000000</td>\n",
       "      <td>1.000000</td>\n",
       "      <td>1.575000e+05</td>\n",
       "      <td>4.000000</td>\n",
       "      <td>4.000000</td>\n",
       "      <td>1.000000</td>\n",
       "      <td>1.000000</td>\n",
       "      <td>1539.000000</td>\n",
       "      <td>0.000000</td>\n",
       "      <td>0.000000</td>\n",
       "      <td>0.000000</td>\n",
       "      <td>8.000000</td>\n",
       "      <td>2.000000</td>\n",
       "      <td>24.000000</td>\n",
       "      <td>42.000000</td>\n",
       "      <td>2.000000</td>\n",
       "    </tr>\n",
       "    <tr>\n",
       "      <th>75%</th>\n",
       "      <td>1.000000</td>\n",
       "      <td>1.000000</td>\n",
       "      <td>1.000000</td>\n",
       "      <td>2.250000e+05</td>\n",
       "      <td>4.000000</td>\n",
       "      <td>4.000000</td>\n",
       "      <td>1.000000</td>\n",
       "      <td>1.000000</td>\n",
       "      <td>3153.000000</td>\n",
       "      <td>0.000000</td>\n",
       "      <td>1.000000</td>\n",
       "      <td>0.000000</td>\n",
       "      <td>10.000000</td>\n",
       "      <td>3.000000</td>\n",
       "      <td>39.000000</td>\n",
       "      <td>53.000000</td>\n",
       "      <td>2.000000</td>\n",
       "    </tr>\n",
       "    <tr>\n",
       "      <th>max</th>\n",
       "      <td>1.000000</td>\n",
       "      <td>1.000000</td>\n",
       "      <td>1.000000</td>\n",
       "      <td>1.575000e+06</td>\n",
       "      <td>4.000000</td>\n",
       "      <td>4.000000</td>\n",
       "      <td>4.000000</td>\n",
       "      <td>5.000000</td>\n",
       "      <td>15713.000000</td>\n",
       "      <td>1.000000</td>\n",
       "      <td>1.000000</td>\n",
       "      <td>1.000000</td>\n",
       "      <td>18.000000</td>\n",
       "      <td>20.000000</td>\n",
       "      <td>60.000000</td>\n",
       "      <td>68.000000</td>\n",
       "      <td>2.000000</td>\n",
       "    </tr>\n",
       "  </tbody>\n",
       "</table>\n",
       "</div>"
      ],
      "text/plain": [
       "             gender           car       reality  income_total   income_type  \\\n",
       "count  26457.000000  26457.000000  26457.000000  2.645700e+04  26457.000000   \n",
       "mean       0.331103      0.379748      0.673924  1.873065e+05      2.394754   \n",
       "std        0.470619      0.485333      0.468784  1.018784e+05      1.735900   \n",
       "min        0.000000      0.000000      0.000000  2.700000e+04      0.000000   \n",
       "25%        0.000000      0.000000      0.000000  1.215000e+05      1.000000   \n",
       "50%        0.000000      0.000000      1.000000  1.575000e+05      4.000000   \n",
       "75%        1.000000      1.000000      1.000000  2.250000e+05      4.000000   \n",
       "max        1.000000      1.000000      1.000000  1.575000e+06      4.000000   \n",
       "\n",
       "           edu_type   family_type    house_type  DAYS_EMPLOYED    work_phone  \\\n",
       "count  26457.000000  26457.000000  26457.000000   26457.000000  26457.000000   \n",
       "mean       3.097592      1.367275      1.279813    2198.529538      0.224742   \n",
       "std        1.341602      0.952536      0.944273    2370.140530      0.417420   \n",
       "min        0.000000      0.000000      0.000000       0.000000      0.000000   \n",
       "25%        1.000000      1.000000      1.000000     407.000000      0.000000   \n",
       "50%        4.000000      1.000000      1.000000    1539.000000      0.000000   \n",
       "75%        4.000000      1.000000      1.000000    3153.000000      0.000000   \n",
       "max        4.000000      4.000000      5.000000   15713.000000      1.000000   \n",
       "\n",
       "              phone         email    occyp_type   family_size   begin_month  \\\n",
       "count  26457.000000  26457.000000  26457.000000  26457.000000  26457.000000   \n",
       "mean       0.294251      0.091280      8.200514      2.196848     26.123294   \n",
       "std        0.455714      0.288013      3.951175      0.916717     16.559550   \n",
       "min        0.000000      0.000000      0.000000      1.000000      0.000000   \n",
       "25%        0.000000      0.000000      6.000000      2.000000     12.000000   \n",
       "50%        0.000000      0.000000      8.000000      2.000000     24.000000   \n",
       "75%        1.000000      0.000000     10.000000      3.000000     39.000000   \n",
       "max        1.000000      1.000000     18.000000     20.000000     60.000000   \n",
       "\n",
       "                age        credit  \n",
       "count  26457.000000  26457.000000  \n",
       "mean      43.213478      1.519560  \n",
       "std       11.513590      0.702283  \n",
       "min       21.000000      0.000000  \n",
       "25%       34.000000      1.000000  \n",
       "50%       42.000000      2.000000  \n",
       "75%       53.000000      2.000000  \n",
       "max       68.000000      2.000000  "
      ]
     },
     "execution_count": 251,
     "metadata": {},
     "output_type": "execute_result"
    }
   ],
   "source": [
    "df.describe()"
   ]
  },
  {
   "cell_type": "code",
   "execution_count": 252,
   "id": "d21862fc",
   "metadata": {},
   "outputs": [
    {
     "data": {
      "text/html": [
       "<div>\n",
       "<style scoped>\n",
       "    .dataframe tbody tr th:only-of-type {\n",
       "        vertical-align: middle;\n",
       "    }\n",
       "\n",
       "    .dataframe tbody tr th {\n",
       "        vertical-align: top;\n",
       "    }\n",
       "\n",
       "    .dataframe thead th {\n",
       "        text-align: right;\n",
       "    }\n",
       "</style>\n",
       "<table border=\"1\" class=\"dataframe\">\n",
       "  <thead>\n",
       "    <tr style=\"text-align: right;\">\n",
       "      <th></th>\n",
       "      <th>gender</th>\n",
       "      <th>car</th>\n",
       "      <th>reality</th>\n",
       "      <th>income_total</th>\n",
       "      <th>income_type</th>\n",
       "      <th>edu_type</th>\n",
       "      <th>family_type</th>\n",
       "      <th>house_type</th>\n",
       "      <th>DAYS_EMPLOYED</th>\n",
       "      <th>work_phone</th>\n",
       "      <th>phone</th>\n",
       "      <th>email</th>\n",
       "      <th>occyp_type</th>\n",
       "      <th>family_size</th>\n",
       "      <th>begin_month</th>\n",
       "      <th>age</th>\n",
       "      <th>credit</th>\n",
       "    </tr>\n",
       "  </thead>\n",
       "  <tbody>\n",
       "    <tr>\n",
       "      <th>0</th>\n",
       "      <td>0</td>\n",
       "      <td>0</td>\n",
       "      <td>0</td>\n",
       "      <td>202500.0</td>\n",
       "      <td>0</td>\n",
       "      <td>1</td>\n",
       "      <td>1</td>\n",
       "      <td>2</td>\n",
       "      <td>4709</td>\n",
       "      <td>0</td>\n",
       "      <td>0</td>\n",
       "      <td>0</td>\n",
       "      <td>8</td>\n",
       "      <td>2</td>\n",
       "      <td>6.0</td>\n",
       "      <td>38</td>\n",
       "      <td>1.0</td>\n",
       "    </tr>\n",
       "    <tr>\n",
       "      <th>1</th>\n",
       "      <td>0</td>\n",
       "      <td>0</td>\n",
       "      <td>1</td>\n",
       "      <td>247500.0</td>\n",
       "      <td>0</td>\n",
       "      <td>4</td>\n",
       "      <td>0</td>\n",
       "      <td>1</td>\n",
       "      <td>1540</td>\n",
       "      <td>0</td>\n",
       "      <td>0</td>\n",
       "      <td>1</td>\n",
       "      <td>9</td>\n",
       "      <td>3</td>\n",
       "      <td>5.0</td>\n",
       "      <td>31</td>\n",
       "      <td>1.0</td>\n",
       "    </tr>\n",
       "    <tr>\n",
       "      <th>2</th>\n",
       "      <td>1</td>\n",
       "      <td>1</td>\n",
       "      <td>1</td>\n",
       "      <td>450000.0</td>\n",
       "      <td>4</td>\n",
       "      <td>1</td>\n",
       "      <td>1</td>\n",
       "      <td>1</td>\n",
       "      <td>4434</td>\n",
       "      <td>0</td>\n",
       "      <td>1</td>\n",
       "      <td>0</td>\n",
       "      <td>11</td>\n",
       "      <td>2</td>\n",
       "      <td>22.0</td>\n",
       "      <td>52</td>\n",
       "      <td>2.0</td>\n",
       "    </tr>\n",
       "    <tr>\n",
       "      <th>3</th>\n",
       "      <td>0</td>\n",
       "      <td>0</td>\n",
       "      <td>1</td>\n",
       "      <td>202500.0</td>\n",
       "      <td>0</td>\n",
       "      <td>4</td>\n",
       "      <td>1</td>\n",
       "      <td>1</td>\n",
       "      <td>2092</td>\n",
       "      <td>0</td>\n",
       "      <td>1</td>\n",
       "      <td>0</td>\n",
       "      <td>15</td>\n",
       "      <td>2</td>\n",
       "      <td>37.0</td>\n",
       "      <td>41</td>\n",
       "      <td>0.0</td>\n",
       "    </tr>\n",
       "    <tr>\n",
       "      <th>4</th>\n",
       "      <td>0</td>\n",
       "      <td>1</td>\n",
       "      <td>1</td>\n",
       "      <td>157500.0</td>\n",
       "      <td>2</td>\n",
       "      <td>1</td>\n",
       "      <td>1</td>\n",
       "      <td>1</td>\n",
       "      <td>2105</td>\n",
       "      <td>0</td>\n",
       "      <td>0</td>\n",
       "      <td>0</td>\n",
       "      <td>11</td>\n",
       "      <td>2</td>\n",
       "      <td>26.0</td>\n",
       "      <td>41</td>\n",
       "      <td>2.0</td>\n",
       "    </tr>\n",
       "    <tr>\n",
       "      <th>...</th>\n",
       "      <td>...</td>\n",
       "      <td>...</td>\n",
       "      <td>...</td>\n",
       "      <td>...</td>\n",
       "      <td>...</td>\n",
       "      <td>...</td>\n",
       "      <td>...</td>\n",
       "      <td>...</td>\n",
       "      <td>...</td>\n",
       "      <td>...</td>\n",
       "      <td>...</td>\n",
       "      <td>...</td>\n",
       "      <td>...</td>\n",
       "      <td>...</td>\n",
       "      <td>...</td>\n",
       "      <td>...</td>\n",
       "      <td>...</td>\n",
       "    </tr>\n",
       "    <tr>\n",
       "      <th>26452</th>\n",
       "      <td>0</td>\n",
       "      <td>0</td>\n",
       "      <td>0</td>\n",
       "      <td>225000.0</td>\n",
       "      <td>2</td>\n",
       "      <td>4</td>\n",
       "      <td>1</td>\n",
       "      <td>1</td>\n",
       "      <td>1984</td>\n",
       "      <td>0</td>\n",
       "      <td>0</td>\n",
       "      <td>0</td>\n",
       "      <td>3</td>\n",
       "      <td>4</td>\n",
       "      <td>2.0</td>\n",
       "      <td>33</td>\n",
       "      <td>1.0</td>\n",
       "    </tr>\n",
       "    <tr>\n",
       "      <th>26453</th>\n",
       "      <td>0</td>\n",
       "      <td>0</td>\n",
       "      <td>1</td>\n",
       "      <td>180000.0</td>\n",
       "      <td>4</td>\n",
       "      <td>1</td>\n",
       "      <td>2</td>\n",
       "      <td>1</td>\n",
       "      <td>2475</td>\n",
       "      <td>0</td>\n",
       "      <td>0</td>\n",
       "      <td>0</td>\n",
       "      <td>8</td>\n",
       "      <td>2</td>\n",
       "      <td>47.0</td>\n",
       "      <td>41</td>\n",
       "      <td>2.0</td>\n",
       "    </tr>\n",
       "    <tr>\n",
       "      <th>26454</th>\n",
       "      <td>0</td>\n",
       "      <td>1</td>\n",
       "      <td>0</td>\n",
       "      <td>292500.0</td>\n",
       "      <td>4</td>\n",
       "      <td>4</td>\n",
       "      <td>0</td>\n",
       "      <td>5</td>\n",
       "      <td>2015</td>\n",
       "      <td>0</td>\n",
       "      <td>0</td>\n",
       "      <td>0</td>\n",
       "      <td>3</td>\n",
       "      <td>2</td>\n",
       "      <td>25.0</td>\n",
       "      <td>27</td>\n",
       "      <td>2.0</td>\n",
       "    </tr>\n",
       "    <tr>\n",
       "      <th>26455</th>\n",
       "      <td>1</td>\n",
       "      <td>0</td>\n",
       "      <td>1</td>\n",
       "      <td>171000.0</td>\n",
       "      <td>4</td>\n",
       "      <td>2</td>\n",
       "      <td>3</td>\n",
       "      <td>1</td>\n",
       "      <td>107</td>\n",
       "      <td>0</td>\n",
       "      <td>0</td>\n",
       "      <td>0</td>\n",
       "      <td>9</td>\n",
       "      <td>1</td>\n",
       "      <td>59.0</td>\n",
       "      <td>27</td>\n",
       "      <td>2.0</td>\n",
       "    </tr>\n",
       "    <tr>\n",
       "      <th>26456</th>\n",
       "      <td>0</td>\n",
       "      <td>0</td>\n",
       "      <td>0</td>\n",
       "      <td>81000.0</td>\n",
       "      <td>4</td>\n",
       "      <td>4</td>\n",
       "      <td>0</td>\n",
       "      <td>1</td>\n",
       "      <td>1013</td>\n",
       "      <td>0</td>\n",
       "      <td>0</td>\n",
       "      <td>0</td>\n",
       "      <td>17</td>\n",
       "      <td>2</td>\n",
       "      <td>9.0</td>\n",
       "      <td>53</td>\n",
       "      <td>2.0</td>\n",
       "    </tr>\n",
       "  </tbody>\n",
       "</table>\n",
       "<p>26457 rows × 17 columns</p>\n",
       "</div>"
      ],
      "text/plain": [
       "       gender  car  reality  income_total  income_type  edu_type  family_type  \\\n",
       "0           0    0        0      202500.0            0         1            1   \n",
       "1           0    0        1      247500.0            0         4            0   \n",
       "2           1    1        1      450000.0            4         1            1   \n",
       "3           0    0        1      202500.0            0         4            1   \n",
       "4           0    1        1      157500.0            2         1            1   \n",
       "...       ...  ...      ...           ...          ...       ...          ...   \n",
       "26452       0    0        0      225000.0            2         4            1   \n",
       "26453       0    0        1      180000.0            4         1            2   \n",
       "26454       0    1        0      292500.0            4         4            0   \n",
       "26455       1    0        1      171000.0            4         2            3   \n",
       "26456       0    0        0       81000.0            4         4            0   \n",
       "\n",
       "       house_type  DAYS_EMPLOYED  work_phone  phone  email  occyp_type  \\\n",
       "0               2           4709           0      0      0           8   \n",
       "1               1           1540           0      0      1           9   \n",
       "2               1           4434           0      1      0          11   \n",
       "3               1           2092           0      1      0          15   \n",
       "4               1           2105           0      0      0          11   \n",
       "...           ...            ...         ...    ...    ...         ...   \n",
       "26452           1           1984           0      0      0           3   \n",
       "26453           1           2475           0      0      0           8   \n",
       "26454           5           2015           0      0      0           3   \n",
       "26455           1            107           0      0      0           9   \n",
       "26456           1           1013           0      0      0          17   \n",
       "\n",
       "       family_size  begin_month  age  credit  \n",
       "0                2          6.0   38     1.0  \n",
       "1                3          5.0   31     1.0  \n",
       "2                2         22.0   52     2.0  \n",
       "3                2         37.0   41     0.0  \n",
       "4                2         26.0   41     2.0  \n",
       "...            ...          ...  ...     ...  \n",
       "26452            4          2.0   33     1.0  \n",
       "26453            2         47.0   41     2.0  \n",
       "26454            2         25.0   27     2.0  \n",
       "26455            1         59.0   27     2.0  \n",
       "26456            2          9.0   53     2.0  \n",
       "\n",
       "[26457 rows x 17 columns]"
      ]
     },
     "execution_count": 252,
     "metadata": {},
     "output_type": "execute_result"
    }
   ],
   "source": [
    "df"
   ]
  },
  {
   "cell_type": "markdown",
   "id": "02522b65",
   "metadata": {},
   "source": [
    "### [2] 학습 & 테스트 데이터 분리"
   ]
  },
  {
   "cell_type": "code",
   "execution_count": 438,
   "id": "fd90600f",
   "metadata": {},
   "outputs": [],
   "source": [
    "# data, target 분리\n",
    "data=df.iloc[:, :-1]\n",
    "target=df.iloc[:, -1]"
   ]
  },
  {
   "cell_type": "code",
   "execution_count": 439,
   "id": "7dbc17b8",
   "metadata": {},
   "outputs": [],
   "source": [
    "x_train, x_test, y_train, y_test=train_test_split(\n",
    "data, target, test_size=0.2, stratify=target, random_state=42)"
   ]
  },
  {
   "cell_type": "code",
   "execution_count": 440,
   "id": "ac602c02",
   "metadata": {},
   "outputs": [
    {
     "data": {
      "text/plain": [
       "((21165, 16), (5292, 16), (21165,), (5292,))"
      ]
     },
     "execution_count": 440,
     "metadata": {},
     "output_type": "execute_result"
    }
   ],
   "source": [
    "x_train.shape, x_test.shape, y_train.shape, y_test.shape"
   ]
  },
  {
   "cell_type": "code",
   "execution_count": 441,
   "id": "2897e748",
   "metadata": {},
   "outputs": [
    {
     "data": {
      "text/plain": [
       "2.0    13574\n",
       "1.0     5013\n",
       "0.0     2578\n",
       "Name: credit, dtype: int64"
      ]
     },
     "execution_count": 441,
     "metadata": {},
     "output_type": "execute_result"
    }
   ],
   "source": [
    "y_train.value_counts()"
   ]
  },
  {
   "cell_type": "code",
   "execution_count": 442,
   "id": "04764532",
   "metadata": {},
   "outputs": [
    {
     "data": {
      "text/plain": [
       "2.0    3394\n",
       "1.0    1254\n",
       "0.0     644\n",
       "Name: credit, dtype: int64"
      ]
     },
     "execution_count": 442,
     "metadata": {},
     "output_type": "execute_result"
    }
   ],
   "source": [
    "y_test.value_counts()"
   ]
  },
  {
   "cell_type": "markdown",
   "id": "e2069e83",
   "metadata": {},
   "source": [
    "### 모델 찾기"
   ]
  },
  {
   "cell_type": "code",
   "execution_count": 56,
   "id": "102efb13",
   "metadata": {},
   "outputs": [],
   "source": [
    "models=all_estimators(type_filter='classifier')"
   ]
  },
  {
   "cell_type": "code",
   "execution_count": 406,
   "id": "b97260e0",
   "metadata": {},
   "outputs": [],
   "source": [
    "# scores=[]\n",
    "\n",
    "# for name, model in models:\n",
    "#     try:\n",
    "#         # 모델 객체 생성\n",
    "#         md=model()\n",
    "#         # 학습\n",
    "#         md.fit(x_train, y_train)\n",
    "#         # 평가\n",
    "#         train_result=md.score(x_train, y_train)\n",
    "#         result=md.score(x_test, y_test)\n",
    "#         scores.append((name, train_result, result))\n",
    "        \n",
    "#     except:\n",
    "#         pass"
   ]
  },
  {
   "cell_type": "code",
   "execution_count": 407,
   "id": "ac16b289",
   "metadata": {},
   "outputs": [
    {
     "data": {
      "text/plain": [
       "[('AdaBoostClassifier', 0.692322230096858, 0.6832955404383976),\n",
       " ('BaggingClassifier', 0.7734939759036145, 0.6360544217687075),\n",
       " ('BernoulliNB', 0.6413418379399953, 0.6413454270597128),\n",
       " ('CalibratedClassifierCV', 0.6429482636428066, 0.6424792139077853),\n",
       " ('DecisionTreeClassifier', 0.7221356012284432, 0.5595238095238095),\n",
       " ('DummyClassifier', 0.6413418379399953, 0.6413454270597128),\n",
       " ('ExtraTreeClassifier', 0.7258209307819513, 0.5574452003023431),\n",
       " ('ExtraTreesClassifier', 0.7929600755965036, 0.6678004535147393),\n",
       " ('GaussianNB', 0.6373257736829672, 0.6271730914588057),\n",
       " ('GaussianProcessClassifier', 0.714103472714387, 0.6402116402116402),\n",
       " ('GradientBoostingClassifier', 0.6952515946137491, 0.6842403628117913),\n",
       " ('HistGradientBoostingClassifier', 0.735648476257973, 0.6832955404383976),\n",
       " ('KNeighborsClassifier', 0.6331679659815733, 0.5755857898715041),\n",
       " ('LabelPropagation', 0.7313961729270021, 0.5844671201814059),\n",
       " ('LabelSpreading', 0.731301677297425, 0.5848450491307634),\n",
       " ('LinearDiscriminantAnalysis', 0.6439404677533664, 0.641912320483749),\n",
       " ('LinearSVC', 0.641814316087881, 0.6424792139077853),\n",
       " ('LogisticRegression', 0.6437987243090008, 0.6422902494331065),\n",
       " ('LogisticRegressionCV', 0.6435152374202693, 0.6422902494331065),\n",
       " ('MLPClassifier', 0.6829671627687219, 0.6551398337112623),\n",
       " ('NearestCentroid', 0.4456413890857548, 0.43140589569161),\n",
       " ('PassiveAggressiveClassifier', 0.5809591306402079, 0.5712396069538926),\n",
       " ('Perceptron', 0.6139381053626269, 0.6256613756613757),\n",
       " ('QuadraticDiscriminantAnalysis', 0.6424285376801323, 0.6313303099017384),\n",
       " ('RandomForestClassifier', 0.8067091896999764, 0.6897203325774754),\n",
       " ('RidgeClassifier', 0.6419088117174581, 0.6424792139077853),\n",
       " ('RidgeClassifierCV', 0.6419088117174581, 0.6424792139077853),\n",
       " ('SGDClassifier', 0.6429482636428066, 0.6413454270597128),\n",
       " ('SVC', 0.6669974013701866, 0.6523053665910808)]"
      ]
     },
     "execution_count": 407,
     "metadata": {},
     "output_type": "execute_result"
    }
   ],
   "source": [
    "scores\n",
    "\n",
    "# GradientBoostingClassifier, RandomforestClassifier"
   ]
  },
  {
   "cell_type": "markdown",
   "id": "24ffb86b",
   "metadata": {},
   "source": [
    "## 모델1 - RandomForestClassifier"
   ]
  },
  {
   "cell_type": "markdown",
   "id": "79323255",
   "metadata": {},
   "source": [
    "### 그리드서치"
   ]
  },
  {
   "cell_type": "code",
   "execution_count": 279,
   "id": "d7c3ea94",
   "metadata": {},
   "outputs": [
    {
     "data": {
      "text/plain": [
       "GridSearchCV(cv=3, estimator=RandomForestClassifier(),\n",
       "             param_grid={'max_depth': [17, 18, 19, 20],\n",
       "                         'min_samples_split': [2, 3, 4, 5]})"
      ]
     },
     "execution_count": 279,
     "metadata": {},
     "output_type": "execute_result"
    }
   ],
   "source": [
    "params={'max_depth':[17, 18, 19, 20],\n",
    "       'min_samples_split':[2, 3, 4, 5]}\n",
    "dtc=RandomForestClassifier()\n",
    "grid_tree=GridSearchCV(dtc, param_grid=params, cv=3, refit=True)\n",
    "grid_tree.fit(x_train2, y_train2)"
   ]
  },
  {
   "cell_type": "code",
   "execution_count": 280,
   "id": "5b66c97b",
   "metadata": {},
   "outputs": [
    {
     "name": "stdout",
     "output_type": "stream",
     "text": [
      "best parameters : {'max_depth': 20, 'min_samples_split': 2}\n",
      "best score : 0.7143869596031184\n"
     ]
    }
   ],
   "source": [
    "print('best parameters :', grid_tree.best_params_)\n",
    "print('best score :', grid_tree.best_score_)\n",
    "em=grid_tree.best_estimator_"
   ]
  },
  {
   "cell_type": "code",
   "execution_count": 495,
   "id": "b33a1a25",
   "metadata": {},
   "outputs": [],
   "source": [
    "rfModel=RandomForestClassifier(max_depth=20, min_samples_split=2, random_state=42)"
   ]
  },
  {
   "cell_type": "code",
   "execution_count": 496,
   "id": "1f26bfef",
   "metadata": {},
   "outputs": [
    {
     "data": {
      "text/plain": [
       "RandomForestClassifier(max_depth=20, random_state=42)"
      ]
     },
     "execution_count": 496,
     "metadata": {},
     "output_type": "execute_result"
    }
   ],
   "source": [
    "rfModel.fit(x_train, y_train)"
   ]
  },
  {
   "cell_type": "code",
   "execution_count": 497,
   "id": "97d9e1bd",
   "metadata": {},
   "outputs": [
    {
     "name": "stdout",
     "output_type": "stream",
     "text": [
      "0.8877391920623671\n",
      "0.7173091458805745\n"
     ]
    }
   ],
   "source": [
    "print(rfModel.score(x_train, y_train))\n",
    "print(rfModel.score(x_test, y_test))"
   ]
  },
  {
   "cell_type": "markdown",
   "id": "6670e03e",
   "metadata": {},
   "source": [
    "## 교차검증"
   ]
  },
  {
   "cell_type": "code",
   "execution_count": 262,
   "id": "c742c342",
   "metadata": {},
   "outputs": [
    {
     "data": {
      "text/html": [
       "<div>\n",
       "<style scoped>\n",
       "    .dataframe tbody tr th:only-of-type {\n",
       "        vertical-align: middle;\n",
       "    }\n",
       "\n",
       "    .dataframe tbody tr th {\n",
       "        vertical-align: top;\n",
       "    }\n",
       "\n",
       "    .dataframe thead th {\n",
       "        text-align: right;\n",
       "    }\n",
       "</style>\n",
       "<table border=\"1\" class=\"dataframe\">\n",
       "  <thead>\n",
       "    <tr style=\"text-align: right;\">\n",
       "      <th></th>\n",
       "      <th>fit_time</th>\n",
       "      <th>score_time</th>\n",
       "      <th>test_score</th>\n",
       "      <th>train_score</th>\n",
       "    </tr>\n",
       "  </thead>\n",
       "  <tbody>\n",
       "    <tr>\n",
       "      <th>0</th>\n",
       "      <td>4.086589</td>\n",
       "      <td>0.203974</td>\n",
       "      <td>0.701866</td>\n",
       "      <td>0.819691</td>\n",
       "    </tr>\n",
       "    <tr>\n",
       "      <th>1</th>\n",
       "      <td>4.396495</td>\n",
       "      <td>0.206197</td>\n",
       "      <td>0.710135</td>\n",
       "      <td>0.815143</td>\n",
       "    </tr>\n",
       "    <tr>\n",
       "      <th>2</th>\n",
       "      <td>3.944980</td>\n",
       "      <td>0.099495</td>\n",
       "      <td>0.707300</td>\n",
       "      <td>0.811068</td>\n",
       "    </tr>\n",
       "    <tr>\n",
       "      <th>3</th>\n",
       "      <td>3.248413</td>\n",
       "      <td>0.134960</td>\n",
       "      <td>0.699976</td>\n",
       "      <td>0.816442</td>\n",
       "    </tr>\n",
       "    <tr>\n",
       "      <th>4</th>\n",
       "      <td>3.559899</td>\n",
       "      <td>0.158988</td>\n",
       "      <td>0.703756</td>\n",
       "      <td>0.810773</td>\n",
       "    </tr>\n",
       "  </tbody>\n",
       "</table>\n",
       "</div>"
      ],
      "text/plain": [
       "   fit_time  score_time  test_score  train_score\n",
       "0  4.086589    0.203974    0.701866     0.819691\n",
       "1  4.396495    0.206197    0.710135     0.815143\n",
       "2  3.944980    0.099495    0.707300     0.811068\n",
       "3  3.248413    0.134960    0.699976     0.816442\n",
       "4  3.559899    0.158988    0.703756     0.810773"
      ]
     },
     "execution_count": 262,
     "metadata": {},
     "output_type": "execute_result"
    }
   ],
   "source": [
    "sSplitter=StratifiedKFold(n_splits=5, shuffle=True)\n",
    "\n",
    "pd.DataFrame(cross_validate(rfModel, x_train, y_train,\n",
    "                           return_train_score=True,\n",
    "                           cv=sSplitter))"
   ]
  },
  {
   "cell_type": "code",
   "execution_count": 491,
   "id": "7ae2e682",
   "metadata": {},
   "outputs": [
    {
     "data": {
      "text/plain": [
       "array([0.02734393, 0.0353121 , 0.03915224, 0.18541755, 0.04102852,\n",
       "       0.037048  , 0.05283464, 0.03209398, 0.19438753, 0.02857041,\n",
       "       0.03954652, 0.02421988, 0.09981219, 0.04420249, 0.08370193,\n",
       "       0.0353281 ])"
      ]
     },
     "execution_count": 491,
     "metadata": {},
     "output_type": "execute_result"
    }
   ],
   "source": [
    "rfModel.feature_importances_"
   ]
  },
  {
   "cell_type": "code",
   "execution_count": 317,
   "id": "b0b792f7",
   "metadata": {},
   "outputs": [
    {
     "name": "stdout",
     "output_type": "stream",
     "text": [
      "              precision    recall  f1-score   support\n",
      "\n",
      "         0.0       0.54      0.08      0.14       644\n",
      "         1.0       0.72      0.32      0.45      1254\n",
      "         2.0       0.71      0.97      0.82      3394\n",
      "\n",
      "    accuracy                           0.71      5292\n",
      "   macro avg       0.66      0.46      0.47      5292\n",
      "weighted avg       0.69      0.71      0.65      5292\n",
      "\n"
     ]
    }
   ],
   "source": [
    "from sklearn.metrics import classification_report\n",
    "print(classification_report(y_test, rfModel.predict(x_test)))"
   ]
  },
  {
   "cell_type": "markdown",
   "id": "e2739e1e",
   "metadata": {},
   "source": [
    "## predict"
   ]
  },
  {
   "cell_type": "code",
   "execution_count": 498,
   "id": "7b19cf65",
   "metadata": {},
   "outputs": [
    {
     "data": {
      "text/plain": [
       "0.7173091458805745"
      ]
     },
     "execution_count": 498,
     "metadata": {},
     "output_type": "execute_result"
    }
   ],
   "source": [
    "pred2=pd.DataFrame(rfModel.predict(x_test))\n",
    "raw2=y_test.reset_index(drop=True)\n",
    "pr2=pd.concat([pred2, raw2], axis=1)\n",
    "pr2.columns=['pred', 'credit']\n",
    "pr2\n",
    "new_pr2=pr2[pr2['pred']==pr2['credit']]\n",
    "new_pr2\n",
    "new_pr2.shape[0]/pr2.shape[0]"
   ]
  },
  {
   "cell_type": "code",
   "execution_count": 524,
   "id": "9c118563",
   "metadata": {},
   "outputs": [
    {
     "data": {
      "text/html": [
       "<div>\n",
       "<style scoped>\n",
       "    .dataframe tbody tr th:only-of-type {\n",
       "        vertical-align: middle;\n",
       "    }\n",
       "\n",
       "    .dataframe tbody tr th {\n",
       "        vertical-align: top;\n",
       "    }\n",
       "\n",
       "    .dataframe thead th {\n",
       "        text-align: right;\n",
       "    }\n",
       "</style>\n",
       "<table border=\"1\" class=\"dataframe\">\n",
       "  <thead>\n",
       "    <tr style=\"text-align: right;\">\n",
       "      <th></th>\n",
       "      <th>pred</th>\n",
       "    </tr>\n",
       "  </thead>\n",
       "  <tbody>\n",
       "    <tr>\n",
       "      <th>0</th>\n",
       "      <td>2.0</td>\n",
       "    </tr>\n",
       "    <tr>\n",
       "      <th>1</th>\n",
       "      <td>2.0</td>\n",
       "    </tr>\n",
       "    <tr>\n",
       "      <th>2</th>\n",
       "      <td>2.0</td>\n",
       "    </tr>\n",
       "    <tr>\n",
       "      <th>3</th>\n",
       "      <td>2.0</td>\n",
       "    </tr>\n",
       "    <tr>\n",
       "      <th>4</th>\n",
       "      <td>2.0</td>\n",
       "    </tr>\n",
       "    <tr>\n",
       "      <th>...</th>\n",
       "      <td>...</td>\n",
       "    </tr>\n",
       "    <tr>\n",
       "      <th>9995</th>\n",
       "      <td>2.0</td>\n",
       "    </tr>\n",
       "    <tr>\n",
       "      <th>9996</th>\n",
       "      <td>2.0</td>\n",
       "    </tr>\n",
       "    <tr>\n",
       "      <th>9997</th>\n",
       "      <td>2.0</td>\n",
       "    </tr>\n",
       "    <tr>\n",
       "      <th>9998</th>\n",
       "      <td>2.0</td>\n",
       "    </tr>\n",
       "    <tr>\n",
       "      <th>9999</th>\n",
       "      <td>2.0</td>\n",
       "    </tr>\n",
       "  </tbody>\n",
       "</table>\n",
       "<p>10000 rows × 1 columns</p>\n",
       "</div>"
      ],
      "text/plain": [
       "      pred\n",
       "0      2.0\n",
       "1      2.0\n",
       "2      2.0\n",
       "3      2.0\n",
       "4      2.0\n",
       "...    ...\n",
       "9995   2.0\n",
       "9996   2.0\n",
       "9997   2.0\n",
       "9998   2.0\n",
       "9999   2.0\n",
       "\n",
       "[10000 rows x 1 columns]"
      ]
     },
     "execution_count": 524,
     "metadata": {},
     "output_type": "execute_result"
    }
   ],
   "source": [
    "pd.DataFrame(rfModel.predict(test_df), columns=['pred'])"
   ]
  },
  {
   "cell_type": "code",
   "execution_count": 526,
   "id": "c39be72f",
   "metadata": {},
   "outputs": [
    {
     "data": {
      "text/plain": [
       "array([0., 1., 2.])"
      ]
     },
     "execution_count": 526,
     "metadata": {},
     "output_type": "execute_result"
    }
   ],
   "source": [
    "np.unique(np.array(rfModel.predict(test_df)))"
   ]
  },
  {
   "cell_type": "markdown",
   "id": "0b2d575d",
   "metadata": {},
   "source": [
    "# test.csv ---------------------------------------------------------"
   ]
  },
  {
   "cell_type": "code",
   "execution_count": 284,
   "id": "e81a6ccb",
   "metadata": {},
   "outputs": [],
   "source": [
    "test_df=pd.read_csv('./file/test.csv')"
   ]
  },
  {
   "cell_type": "code",
   "execution_count": 285,
   "id": "29fd282a",
   "metadata": {},
   "outputs": [
    {
     "data": {
      "text/plain": [
       "Series([], Name: DAYS_BIRTH, dtype: int64)"
      ]
     },
     "execution_count": 285,
     "metadata": {},
     "output_type": "execute_result"
    }
   ],
   "source": [
    "# DAYS_BIRTH가 0보다 큰 사람은 없음 => 잘못 입력된 값 없음\n",
    "test_df[test_df['DAYS_BIRTH']>0]['DAYS_BIRTH']"
   ]
  },
  {
   "cell_type": "code",
   "execution_count": 286,
   "id": "71e0481b",
   "metadata": {},
   "outputs": [],
   "source": [
    "# DAYS_BIRTH 컬럼 양수로 변경\n",
    "test_df['DAYS_BIRTH']=abs(test_df['DAYS_BIRTH'])"
   ]
  },
  {
   "cell_type": "code",
   "execution_count": 287,
   "id": "52e4404c",
   "metadata": {},
   "outputs": [],
   "source": [
    "# 나이 컬럼 추가\n",
    "test_df['age']=abs(test_df['DAYS_BIRTH'])//365"
   ]
  },
  {
   "cell_type": "code",
   "execution_count": 288,
   "id": "3dc512c1",
   "metadata": {},
   "outputs": [],
   "source": [
    "# DAYS_BIRTH 컬럼 제거\n",
    "test_df=test_df.drop(columns=['DAYS_BIRTH'])"
   ]
  },
  {
   "cell_type": "code",
   "execution_count": 289,
   "id": "52877c1d",
   "metadata": {},
   "outputs": [],
   "source": [
    "# 0보다 큰 값을 입사하지 않은 사람으로 간주하여 0으로 변환\n",
    "test_df['DAYS_EMPLOYED']=test_df['DAYS_EMPLOYED'].map(lambda x:0 if x>0 else x)"
   ]
  },
  {
   "cell_type": "code",
   "execution_count": 290,
   "id": "a15fde71",
   "metadata": {},
   "outputs": [],
   "source": [
    "# DAYS_EMPLOYED 컬럼 양수로 변경\n",
    "test_df['DAYS_EMPLOYED']=abs(test_df['DAYS_EMPLOYED'])"
   ]
  },
  {
   "cell_type": "code",
   "execution_count": 291,
   "id": "acc3f689",
   "metadata": {},
   "outputs": [],
   "source": [
    "# FLAG_MOBIL 열의 값이 1뿐이므로 열 삭제\n",
    "test_df=test_df.drop(columns=['FLAG_MOBIL'])"
   ]
  },
  {
   "cell_type": "code",
   "execution_count": 292,
   "id": "7a3b2a62",
   "metadata": {},
   "outputs": [],
   "source": [
    "# occyp_type 열의 결측치를 Jobless로 변경\n",
    "test_df['occyp_type']=test_df['occyp_type'].fillna('Jobless')"
   ]
  },
  {
   "cell_type": "code",
   "execution_count": 293,
   "id": "d0f35ebc",
   "metadata": {},
   "outputs": [],
   "source": [
    "# family_size를 정수형으로 바꾸기\n",
    "test_df['family_size']=test_df['family_size'].astype('int')"
   ]
  },
  {
   "cell_type": "code",
   "execution_count": 294,
   "id": "4b73c985",
   "metadata": {},
   "outputs": [
    {
     "data": {
      "text/plain": [
       "0       60.0\n",
       "1       36.0\n",
       "2       40.0\n",
       "3       41.0\n",
       "4        8.0\n",
       "        ... \n",
       "9995    19.0\n",
       "9996    34.0\n",
       "9997    55.0\n",
       "9998    33.0\n",
       "9999    11.0\n",
       "Name: begin_month, Length: 10000, dtype: float64"
      ]
     },
     "execution_count": 294,
     "metadata": {},
     "output_type": "execute_result"
    }
   ],
   "source": [
    "test_df['begin_month']=abs(test_df['begin_month'])\n",
    "test_df['begin_month']"
   ]
  },
  {
   "cell_type": "code",
   "execution_count": 295,
   "id": "b4af1577",
   "metadata": {},
   "outputs": [],
   "source": [
    "encoder=LabelEncoder()"
   ]
  },
  {
   "cell_type": "code",
   "execution_count": 296,
   "id": "e9fe80ea",
   "metadata": {},
   "outputs": [],
   "source": [
    "col_list=['gender', 'car', 'reality', 'income_type', 'edu_type', 'family_type', 'house_type', 'occyp_type']"
   ]
  },
  {
   "cell_type": "code",
   "execution_count": 297,
   "id": "ef574657",
   "metadata": {},
   "outputs": [],
   "source": [
    "for col in col_list:\n",
    "    test_df[col]=encoder.fit_transform(test_df[col])"
   ]
  },
  {
   "cell_type": "code",
   "execution_count": 298,
   "id": "90d926f4",
   "metadata": {},
   "outputs": [],
   "source": [
    "# Index 열 필요없으니 제거\n",
    "test_df=test_df.drop(columns=['index'])"
   ]
  },
  {
   "cell_type": "code",
   "execution_count": 299,
   "id": "aa6f0fc5",
   "metadata": {},
   "outputs": [],
   "source": [
    "test_df=test_df.drop(columns=['child_num'])"
   ]
  },
  {
   "cell_type": "code",
   "execution_count": 306,
   "id": "292267cc",
   "metadata": {},
   "outputs": [],
   "source": [
    "new_test=pd.DataFrame(rfModel.predict_proba(test_df))"
   ]
  },
  {
   "cell_type": "code",
   "execution_count": 307,
   "id": "c0fbf27d",
   "metadata": {},
   "outputs": [],
   "source": [
    "sub=pd.read_csv('./file/sample_submission.csv')"
   ]
  },
  {
   "cell_type": "code",
   "execution_count": 308,
   "id": "41054319",
   "metadata": {},
   "outputs": [],
   "source": [
    "sub=sub.drop(columns=['0', '1', '2'])"
   ]
  },
  {
   "cell_type": "code",
   "execution_count": 309,
   "id": "e1942ded",
   "metadata": {},
   "outputs": [
    {
     "data": {
      "text/html": [
       "<div>\n",
       "<style scoped>\n",
       "    .dataframe tbody tr th:only-of-type {\n",
       "        vertical-align: middle;\n",
       "    }\n",
       "\n",
       "    .dataframe tbody tr th {\n",
       "        vertical-align: top;\n",
       "    }\n",
       "\n",
       "    .dataframe thead th {\n",
       "        text-align: right;\n",
       "    }\n",
       "</style>\n",
       "<table border=\"1\" class=\"dataframe\">\n",
       "  <thead>\n",
       "    <tr style=\"text-align: right;\">\n",
       "      <th></th>\n",
       "      <th>index</th>\n",
       "    </tr>\n",
       "  </thead>\n",
       "  <tbody>\n",
       "    <tr>\n",
       "      <th>0</th>\n",
       "      <td>26457</td>\n",
       "    </tr>\n",
       "    <tr>\n",
       "      <th>1</th>\n",
       "      <td>26458</td>\n",
       "    </tr>\n",
       "    <tr>\n",
       "      <th>2</th>\n",
       "      <td>26459</td>\n",
       "    </tr>\n",
       "    <tr>\n",
       "      <th>3</th>\n",
       "      <td>26460</td>\n",
       "    </tr>\n",
       "    <tr>\n",
       "      <th>4</th>\n",
       "      <td>26461</td>\n",
       "    </tr>\n",
       "    <tr>\n",
       "      <th>...</th>\n",
       "      <td>...</td>\n",
       "    </tr>\n",
       "    <tr>\n",
       "      <th>9995</th>\n",
       "      <td>36452</td>\n",
       "    </tr>\n",
       "    <tr>\n",
       "      <th>9996</th>\n",
       "      <td>36453</td>\n",
       "    </tr>\n",
       "    <tr>\n",
       "      <th>9997</th>\n",
       "      <td>36454</td>\n",
       "    </tr>\n",
       "    <tr>\n",
       "      <th>9998</th>\n",
       "      <td>36455</td>\n",
       "    </tr>\n",
       "    <tr>\n",
       "      <th>9999</th>\n",
       "      <td>36456</td>\n",
       "    </tr>\n",
       "  </tbody>\n",
       "</table>\n",
       "<p>10000 rows × 1 columns</p>\n",
       "</div>"
      ],
      "text/plain": [
       "      index\n",
       "0     26457\n",
       "1     26458\n",
       "2     26459\n",
       "3     26460\n",
       "4     26461\n",
       "...     ...\n",
       "9995  36452\n",
       "9996  36453\n",
       "9997  36454\n",
       "9998  36455\n",
       "9999  36456\n",
       "\n",
       "[10000 rows x 1 columns]"
      ]
     },
     "execution_count": 309,
     "metadata": {},
     "output_type": "execute_result"
    }
   ],
   "source": [
    "sub"
   ]
  },
  {
   "cell_type": "code",
   "execution_count": 316,
   "id": "24a6ef4a",
   "metadata": {},
   "outputs": [],
   "source": [
    "pd.concat([sub, new_test], axis=1).to_csv('result4.csv', index=False, encoding='utf-8')"
   ]
  },
  {
   "cell_type": "markdown",
   "id": "b686f1de",
   "metadata": {},
   "source": [
    "# ------------------------------------------------------------------"
   ]
  },
  {
   "cell_type": "markdown",
   "id": "fa3fe2a2",
   "metadata": {},
   "source": [
    "---\n",
    "# 모델2 - HistGradientBoostingClassifier"
   ]
  },
  {
   "cell_type": "markdown",
   "id": "dd92ab17",
   "metadata": {},
   "source": [
    "#### 스케일링"
   ]
  },
  {
   "cell_type": "code",
   "execution_count": 318,
   "id": "a2f256cd",
   "metadata": {},
   "outputs": [],
   "source": [
    "scaler=StandardScaler()"
   ]
  },
  {
   "cell_type": "code",
   "execution_count": 319,
   "id": "af9560dd",
   "metadata": {},
   "outputs": [],
   "source": [
    "x_train=pd.DataFrame(scaler.fit_transform(x_train), columns=x_train.columns)\n",
    "x_test=pd.DataFrame(scaler.transform(x_test), columns=x_test.columns)"
   ]
  },
  {
   "cell_type": "code",
   "execution_count": 320,
   "id": "6a2c9f6c",
   "metadata": {},
   "outputs": [
    {
     "data": {
      "text/html": [
       "<div>\n",
       "<style scoped>\n",
       "    .dataframe tbody tr th:only-of-type {\n",
       "        vertical-align: middle;\n",
       "    }\n",
       "\n",
       "    .dataframe tbody tr th {\n",
       "        vertical-align: top;\n",
       "    }\n",
       "\n",
       "    .dataframe thead th {\n",
       "        text-align: right;\n",
       "    }\n",
       "</style>\n",
       "<table border=\"1\" class=\"dataframe\">\n",
       "  <thead>\n",
       "    <tr style=\"text-align: right;\">\n",
       "      <th></th>\n",
       "      <th>gender</th>\n",
       "      <th>car</th>\n",
       "      <th>reality</th>\n",
       "      <th>income_total</th>\n",
       "      <th>income_type</th>\n",
       "      <th>edu_type</th>\n",
       "      <th>family_type</th>\n",
       "      <th>house_type</th>\n",
       "      <th>DAYS_EMPLOYED</th>\n",
       "      <th>work_phone</th>\n",
       "      <th>phone</th>\n",
       "      <th>email</th>\n",
       "      <th>occyp_type</th>\n",
       "      <th>family_size</th>\n",
       "      <th>begin_month</th>\n",
       "      <th>age</th>\n",
       "    </tr>\n",
       "  </thead>\n",
       "  <tbody>\n",
       "    <tr>\n",
       "      <th>0</th>\n",
       "      <td>1.422827</td>\n",
       "      <td>1.277038</td>\n",
       "      <td>-1.438616</td>\n",
       "      <td>1.237050</td>\n",
       "      <td>-1.384358</td>\n",
       "      <td>0.672876</td>\n",
       "      <td>-1.433832</td>\n",
       "      <td>-0.295832</td>\n",
       "      <td>-0.514469</td>\n",
       "      <td>-0.538807</td>\n",
       "      <td>-0.644983</td>\n",
       "      <td>-0.316852</td>\n",
       "      <td>0.707366</td>\n",
       "      <td>-0.213712</td>\n",
       "      <td>0.960141</td>\n",
       "      <td>-0.453565</td>\n",
       "    </tr>\n",
       "    <tr>\n",
       "      <th>1</th>\n",
       "      <td>-0.702826</td>\n",
       "      <td>-0.783062</td>\n",
       "      <td>0.695113</td>\n",
       "      <td>1.586673</td>\n",
       "      <td>-0.230340</td>\n",
       "      <td>0.672876</td>\n",
       "      <td>1.713767</td>\n",
       "      <td>-0.295832</td>\n",
       "      <td>0.836135</td>\n",
       "      <td>-0.538807</td>\n",
       "      <td>-0.644983</td>\n",
       "      <td>-0.316852</td>\n",
       "      <td>0.960168</td>\n",
       "      <td>-1.299980</td>\n",
       "      <td>-1.096140</td>\n",
       "      <td>0.328043</td>\n",
       "    </tr>\n",
       "    <tr>\n",
       "      <th>2</th>\n",
       "      <td>-0.702826</td>\n",
       "      <td>1.277038</td>\n",
       "      <td>-1.438616</td>\n",
       "      <td>-0.685875</td>\n",
       "      <td>-0.807349</td>\n",
       "      <td>0.672876</td>\n",
       "      <td>-1.433832</td>\n",
       "      <td>-0.295832</td>\n",
       "      <td>-0.926475</td>\n",
       "      <td>-0.538807</td>\n",
       "      <td>1.550428</td>\n",
       "      <td>-0.316852</td>\n",
       "      <td>-0.051038</td>\n",
       "      <td>-0.213712</td>\n",
       "      <td>-1.217098</td>\n",
       "      <td>1.370186</td>\n",
       "    </tr>\n",
       "    <tr>\n",
       "      <th>3</th>\n",
       "      <td>1.422827</td>\n",
       "      <td>-0.783062</td>\n",
       "      <td>0.695113</td>\n",
       "      <td>-1.035498</td>\n",
       "      <td>0.923677</td>\n",
       "      <td>0.672876</td>\n",
       "      <td>-0.384632</td>\n",
       "      <td>-0.295832</td>\n",
       "      <td>0.617072</td>\n",
       "      <td>-0.538807</td>\n",
       "      <td>1.550428</td>\n",
       "      <td>-0.316852</td>\n",
       "      <td>0.201763</td>\n",
       "      <td>0.872556</td>\n",
       "      <td>-0.914704</td>\n",
       "      <td>-0.019339</td>\n",
       "    </tr>\n",
       "    <tr>\n",
       "      <th>4</th>\n",
       "      <td>-0.702826</td>\n",
       "      <td>-0.783062</td>\n",
       "      <td>0.695113</td>\n",
       "      <td>-0.423658</td>\n",
       "      <td>-0.807349</td>\n",
       "      <td>0.672876</td>\n",
       "      <td>-0.384632</td>\n",
       "      <td>-0.295832</td>\n",
       "      <td>-0.926475</td>\n",
       "      <td>-0.538807</td>\n",
       "      <td>-0.644983</td>\n",
       "      <td>-0.316852</td>\n",
       "      <td>-0.051038</td>\n",
       "      <td>-0.213712</td>\n",
       "      <td>-1.217098</td>\n",
       "      <td>1.717567</td>\n",
       "    </tr>\n",
       "    <tr>\n",
       "      <th>...</th>\n",
       "      <td>...</td>\n",
       "      <td>...</td>\n",
       "      <td>...</td>\n",
       "      <td>...</td>\n",
       "      <td>...</td>\n",
       "      <td>...</td>\n",
       "      <td>...</td>\n",
       "      <td>...</td>\n",
       "      <td>...</td>\n",
       "      <td>...</td>\n",
       "      <td>...</td>\n",
       "      <td>...</td>\n",
       "      <td>...</td>\n",
       "      <td>...</td>\n",
       "      <td>...</td>\n",
       "      <td>...</td>\n",
       "    </tr>\n",
       "    <tr>\n",
       "      <th>21160</th>\n",
       "      <td>1.422827</td>\n",
       "      <td>1.277038</td>\n",
       "      <td>0.695113</td>\n",
       "      <td>-0.511063</td>\n",
       "      <td>0.923677</td>\n",
       "      <td>0.672876</td>\n",
       "      <td>-0.384632</td>\n",
       "      <td>-0.295832</td>\n",
       "      <td>-0.068761</td>\n",
       "      <td>-0.538807</td>\n",
       "      <td>-0.644983</td>\n",
       "      <td>-0.316852</td>\n",
       "      <td>-0.051038</td>\n",
       "      <td>-0.213712</td>\n",
       "      <td>0.839183</td>\n",
       "      <td>-1.408863</td>\n",
       "    </tr>\n",
       "    <tr>\n",
       "      <th>21161</th>\n",
       "      <td>1.422827</td>\n",
       "      <td>-0.783062</td>\n",
       "      <td>0.695113</td>\n",
       "      <td>0.362993</td>\n",
       "      <td>0.923677</td>\n",
       "      <td>0.672876</td>\n",
       "      <td>-0.384632</td>\n",
       "      <td>-0.295832</td>\n",
       "      <td>0.309542</td>\n",
       "      <td>1.855953</td>\n",
       "      <td>-0.644983</td>\n",
       "      <td>-0.316852</td>\n",
       "      <td>0.201763</td>\n",
       "      <td>-0.213712</td>\n",
       "      <td>1.262535</td>\n",
       "      <td>0.675424</td>\n",
       "    </tr>\n",
       "    <tr>\n",
       "      <th>21162</th>\n",
       "      <td>1.422827</td>\n",
       "      <td>-0.783062</td>\n",
       "      <td>-1.438616</td>\n",
       "      <td>0.450399</td>\n",
       "      <td>0.923677</td>\n",
       "      <td>0.672876</td>\n",
       "      <td>-0.384632</td>\n",
       "      <td>-0.295832</td>\n",
       "      <td>0.986530</td>\n",
       "      <td>1.855953</td>\n",
       "      <td>-0.644983</td>\n",
       "      <td>-0.316852</td>\n",
       "      <td>-1.062244</td>\n",
       "      <td>-0.213712</td>\n",
       "      <td>0.839183</td>\n",
       "      <td>0.067507</td>\n",
       "    </tr>\n",
       "    <tr>\n",
       "      <th>21163</th>\n",
       "      <td>-0.702826</td>\n",
       "      <td>-0.783062</td>\n",
       "      <td>-1.438616</td>\n",
       "      <td>-0.471731</td>\n",
       "      <td>-0.807349</td>\n",
       "      <td>0.672876</td>\n",
       "      <td>-0.384632</td>\n",
       "      <td>0.766122</td>\n",
       "      <td>-0.926475</td>\n",
       "      <td>-0.538807</td>\n",
       "      <td>-0.644983</td>\n",
       "      <td>-0.316852</td>\n",
       "      <td>-0.051038</td>\n",
       "      <td>0.872556</td>\n",
       "      <td>-0.612310</td>\n",
       "      <td>1.196496</td>\n",
       "    </tr>\n",
       "    <tr>\n",
       "      <th>21164</th>\n",
       "      <td>-0.702826</td>\n",
       "      <td>-0.783062</td>\n",
       "      <td>-1.438616</td>\n",
       "      <td>-0.292549</td>\n",
       "      <td>0.923677</td>\n",
       "      <td>-1.562241</td>\n",
       "      <td>1.713767</td>\n",
       "      <td>-0.295832</td>\n",
       "      <td>-0.027055</td>\n",
       "      <td>1.855953</td>\n",
       "      <td>1.550428</td>\n",
       "      <td>-0.316852</td>\n",
       "      <td>-2.073449</td>\n",
       "      <td>-0.213712</td>\n",
       "      <td>-1.156619</td>\n",
       "      <td>-0.974637</td>\n",
       "    </tr>\n",
       "  </tbody>\n",
       "</table>\n",
       "<p>21165 rows × 16 columns</p>\n",
       "</div>"
      ],
      "text/plain": [
       "         gender       car   reality  income_total  income_type  edu_type  \\\n",
       "0      1.422827  1.277038 -1.438616      1.237050    -1.384358  0.672876   \n",
       "1     -0.702826 -0.783062  0.695113      1.586673    -0.230340  0.672876   \n",
       "2     -0.702826  1.277038 -1.438616     -0.685875    -0.807349  0.672876   \n",
       "3      1.422827 -0.783062  0.695113     -1.035498     0.923677  0.672876   \n",
       "4     -0.702826 -0.783062  0.695113     -0.423658    -0.807349  0.672876   \n",
       "...         ...       ...       ...           ...          ...       ...   \n",
       "21160  1.422827  1.277038  0.695113     -0.511063     0.923677  0.672876   \n",
       "21161  1.422827 -0.783062  0.695113      0.362993     0.923677  0.672876   \n",
       "21162  1.422827 -0.783062 -1.438616      0.450399     0.923677  0.672876   \n",
       "21163 -0.702826 -0.783062 -1.438616     -0.471731    -0.807349  0.672876   \n",
       "21164 -0.702826 -0.783062 -1.438616     -0.292549     0.923677 -1.562241   \n",
       "\n",
       "       family_type  house_type  DAYS_EMPLOYED  work_phone     phone     email  \\\n",
       "0        -1.433832   -0.295832      -0.514469   -0.538807 -0.644983 -0.316852   \n",
       "1         1.713767   -0.295832       0.836135   -0.538807 -0.644983 -0.316852   \n",
       "2        -1.433832   -0.295832      -0.926475   -0.538807  1.550428 -0.316852   \n",
       "3        -0.384632   -0.295832       0.617072   -0.538807  1.550428 -0.316852   \n",
       "4        -0.384632   -0.295832      -0.926475   -0.538807 -0.644983 -0.316852   \n",
       "...            ...         ...            ...         ...       ...       ...   \n",
       "21160    -0.384632   -0.295832      -0.068761   -0.538807 -0.644983 -0.316852   \n",
       "21161    -0.384632   -0.295832       0.309542    1.855953 -0.644983 -0.316852   \n",
       "21162    -0.384632   -0.295832       0.986530    1.855953 -0.644983 -0.316852   \n",
       "21163    -0.384632    0.766122      -0.926475   -0.538807 -0.644983 -0.316852   \n",
       "21164     1.713767   -0.295832      -0.027055    1.855953  1.550428 -0.316852   \n",
       "\n",
       "       occyp_type  family_size  begin_month       age  \n",
       "0        0.707366    -0.213712     0.960141 -0.453565  \n",
       "1        0.960168    -1.299980    -1.096140  0.328043  \n",
       "2       -0.051038    -0.213712    -1.217098  1.370186  \n",
       "3        0.201763     0.872556    -0.914704 -0.019339  \n",
       "4       -0.051038    -0.213712    -1.217098  1.717567  \n",
       "...           ...          ...          ...       ...  \n",
       "21160   -0.051038    -0.213712     0.839183 -1.408863  \n",
       "21161    0.201763    -0.213712     1.262535  0.675424  \n",
       "21162   -1.062244    -0.213712     0.839183  0.067507  \n",
       "21163   -0.051038     0.872556    -0.612310  1.196496  \n",
       "21164   -2.073449    -0.213712    -1.156619 -0.974637  \n",
       "\n",
       "[21165 rows x 16 columns]"
      ]
     },
     "execution_count": 320,
     "metadata": {},
     "output_type": "execute_result"
    }
   ],
   "source": [
    "x_train"
   ]
  },
  {
   "cell_type": "markdown",
   "id": "5a5172d3",
   "metadata": {},
   "source": [
    "### 그리드서치"
   ]
  },
  {
   "cell_type": "code",
   "execution_count": 459,
   "id": "7342173f",
   "metadata": {},
   "outputs": [
    {
     "data": {
      "text/plain": [
       "GridSearchCV(cv=3, estimator=HistGradientBoostingClassifier(),\n",
       "             param_grid={'learning_rate': [0.05, 0.1, 0.2, 0.3],\n",
       "                         'max_depth': [13, 14, 15, 16]})"
      ]
     },
     "execution_count": 459,
     "metadata": {},
     "output_type": "execute_result"
    }
   ],
   "source": [
    "params={'learning_rate':[0.05, 0.1, 0.2, 0.3],\n",
    "       'max_depth':[13, 14, 15, 16]}\n",
    "dtc=HistGradientBoostingClassifier()\n",
    "grid_tree=GridSearchCV(dtc, param_grid=params, cv=3, refit=True)\n",
    "grid_tree.fit(x_train, y_train)"
   ]
  },
  {
   "cell_type": "code",
   "execution_count": 502,
   "id": "1b174b91",
   "metadata": {},
   "outputs": [
    {
     "name": "stdout",
     "output_type": "stream",
     "text": [
      "best parameters : {'learning_rate': 0.1, 'max_depth': 14}\n",
      "best score : 0.6988896763524687\n"
     ]
    }
   ],
   "source": [
    "print('best parameters :', grid_tree.best_params_)\n",
    "print('best score :', grid_tree.best_score_)"
   ]
  },
  {
   "cell_type": "code",
   "execution_count": 500,
   "id": "2792d078",
   "metadata": {},
   "outputs": [],
   "source": [
    "hgModel=HistGradientBoostingClassifier(max_depth=15, random_state=42)"
   ]
  },
  {
   "cell_type": "code",
   "execution_count": 501,
   "id": "3a5bb133",
   "metadata": {},
   "outputs": [
    {
     "data": {
      "text/plain": [
       "HistGradientBoostingClassifier(max_depth=15, random_state=42)"
      ]
     },
     "execution_count": 501,
     "metadata": {},
     "output_type": "execute_result"
    }
   ],
   "source": [
    "hgModel.fit(x_train, y_train)"
   ]
  },
  {
   "cell_type": "code",
   "execution_count": 503,
   "id": "57067026",
   "metadata": {},
   "outputs": [
    {
     "name": "stdout",
     "output_type": "stream",
     "text": [
      "0.7428301441058351\n",
      "0.703514739229025\n"
     ]
    }
   ],
   "source": [
    "print(hgModel.score(x_train, y_train))\n",
    "print(hgModel.score(x_test, y_test))"
   ]
  },
  {
   "cell_type": "markdown",
   "id": "cbf9e46e",
   "metadata": {},
   "source": [
    "## 교차검증"
   ]
  },
  {
   "cell_type": "code",
   "execution_count": 504,
   "id": "f3590862",
   "metadata": {},
   "outputs": [
    {
     "data": {
      "text/html": [
       "<div>\n",
       "<style scoped>\n",
       "    .dataframe tbody tr th:only-of-type {\n",
       "        vertical-align: middle;\n",
       "    }\n",
       "\n",
       "    .dataframe tbody tr th {\n",
       "        vertical-align: top;\n",
       "    }\n",
       "\n",
       "    .dataframe thead th {\n",
       "        text-align: right;\n",
       "    }\n",
       "</style>\n",
       "<table border=\"1\" class=\"dataframe\">\n",
       "  <thead>\n",
       "    <tr style=\"text-align: right;\">\n",
       "      <th></th>\n",
       "      <th>fit_time</th>\n",
       "      <th>score_time</th>\n",
       "      <th>test_score</th>\n",
       "      <th>train_score</th>\n",
       "    </tr>\n",
       "  </thead>\n",
       "  <tbody>\n",
       "    <tr>\n",
       "      <th>0</th>\n",
       "      <td>2.588675</td>\n",
       "      <td>0.026227</td>\n",
       "      <td>0.699504</td>\n",
       "      <td>0.752835</td>\n",
       "    </tr>\n",
       "    <tr>\n",
       "      <th>1</th>\n",
       "      <td>2.543849</td>\n",
       "      <td>0.031127</td>\n",
       "      <td>0.706355</td>\n",
       "      <td>0.748405</td>\n",
       "    </tr>\n",
       "    <tr>\n",
       "      <th>2</th>\n",
       "      <td>2.575802</td>\n",
       "      <td>0.027925</td>\n",
       "      <td>0.698086</td>\n",
       "      <td>0.752599</td>\n",
       "    </tr>\n",
       "    <tr>\n",
       "      <th>3</th>\n",
       "      <td>2.593009</td>\n",
       "      <td>0.033909</td>\n",
       "      <td>0.696669</td>\n",
       "      <td>0.754961</td>\n",
       "    </tr>\n",
       "    <tr>\n",
       "      <th>4</th>\n",
       "      <td>2.538770</td>\n",
       "      <td>0.031017</td>\n",
       "      <td>0.702103</td>\n",
       "      <td>0.756378</td>\n",
       "    </tr>\n",
       "  </tbody>\n",
       "</table>\n",
       "</div>"
      ],
      "text/plain": [
       "   fit_time  score_time  test_score  train_score\n",
       "0  2.588675    0.026227    0.699504     0.752835\n",
       "1  2.543849    0.031127    0.706355     0.748405\n",
       "2  2.575802    0.027925    0.698086     0.752599\n",
       "3  2.593009    0.033909    0.696669     0.754961\n",
       "4  2.538770    0.031017    0.702103     0.756378"
      ]
     },
     "execution_count": 504,
     "metadata": {},
     "output_type": "execute_result"
    }
   ],
   "source": [
    "sSplitter=StratifiedKFold(n_splits=5, shuffle=True)\n",
    "\n",
    "pd.DataFrame(cross_validate(hgModel, x_train, y_train,\n",
    "                           return_train_score=True,\n",
    "                           cv=sSplitter))"
   ]
  },
  {
   "cell_type": "code",
   "execution_count": 505,
   "id": "88f129cc",
   "metadata": {},
   "outputs": [
    {
     "name": "stdout",
     "output_type": "stream",
     "text": [
      "              precision    recall  f1-score   support\n",
      "\n",
      "         0.0       0.55      0.07      0.12       644\n",
      "         1.0       0.73      0.29      0.41      1254\n",
      "         2.0       0.70      0.98      0.82      3394\n",
      "\n",
      "    accuracy                           0.70      5292\n",
      "   macro avg       0.66      0.44      0.45      5292\n",
      "weighted avg       0.69      0.70      0.64      5292\n",
      "\n"
     ]
    }
   ],
   "source": [
    "print(classification_report(y_test, hgModel.predict(x_test)))"
   ]
  },
  {
   "cell_type": "markdown",
   "id": "4fa7ffeb",
   "metadata": {},
   "source": [
    "## predict"
   ]
  },
  {
   "cell_type": "code",
   "execution_count": 515,
   "id": "f64fd0c1",
   "metadata": {},
   "outputs": [
    {
     "data": {
      "text/html": [
       "<div>\n",
       "<style scoped>\n",
       "    .dataframe tbody tr th:only-of-type {\n",
       "        vertical-align: middle;\n",
       "    }\n",
       "\n",
       "    .dataframe tbody tr th {\n",
       "        vertical-align: top;\n",
       "    }\n",
       "\n",
       "    .dataframe thead th {\n",
       "        text-align: right;\n",
       "    }\n",
       "</style>\n",
       "<table border=\"1\" class=\"dataframe\">\n",
       "  <thead>\n",
       "    <tr style=\"text-align: right;\">\n",
       "      <th></th>\n",
       "      <th>0</th>\n",
       "    </tr>\n",
       "  </thead>\n",
       "  <tbody>\n",
       "    <tr>\n",
       "      <th>0</th>\n",
       "      <td>2.0</td>\n",
       "    </tr>\n",
       "    <tr>\n",
       "      <th>1</th>\n",
       "      <td>2.0</td>\n",
       "    </tr>\n",
       "    <tr>\n",
       "      <th>2</th>\n",
       "      <td>2.0</td>\n",
       "    </tr>\n",
       "    <tr>\n",
       "      <th>3</th>\n",
       "      <td>2.0</td>\n",
       "    </tr>\n",
       "    <tr>\n",
       "      <th>4</th>\n",
       "      <td>2.0</td>\n",
       "    </tr>\n",
       "    <tr>\n",
       "      <th>...</th>\n",
       "      <td>...</td>\n",
       "    </tr>\n",
       "    <tr>\n",
       "      <th>9995</th>\n",
       "      <td>2.0</td>\n",
       "    </tr>\n",
       "    <tr>\n",
       "      <th>9996</th>\n",
       "      <td>2.0</td>\n",
       "    </tr>\n",
       "    <tr>\n",
       "      <th>9997</th>\n",
       "      <td>2.0</td>\n",
       "    </tr>\n",
       "    <tr>\n",
       "      <th>9998</th>\n",
       "      <td>2.0</td>\n",
       "    </tr>\n",
       "    <tr>\n",
       "      <th>9999</th>\n",
       "      <td>2.0</td>\n",
       "    </tr>\n",
       "  </tbody>\n",
       "</table>\n",
       "<p>10000 rows × 1 columns</p>\n",
       "</div>"
      ],
      "text/plain": [
       "        0\n",
       "0     2.0\n",
       "1     2.0\n",
       "2     2.0\n",
       "3     2.0\n",
       "4     2.0\n",
       "...   ...\n",
       "9995  2.0\n",
       "9996  2.0\n",
       "9997  2.0\n",
       "9998  2.0\n",
       "9999  2.0\n",
       "\n",
       "[10000 rows x 1 columns]"
      ]
     },
     "execution_count": 515,
     "metadata": {},
     "output_type": "execute_result"
    }
   ],
   "source": [
    "pd.DataFrame(hgModel.predict(test_df))"
   ]
  },
  {
   "cell_type": "code",
   "execution_count": 521,
   "id": "e35dea2c",
   "metadata": {},
   "outputs": [
    {
     "data": {
      "text/plain": [
       "array([0., 1., 2.])"
      ]
     },
     "execution_count": 521,
     "metadata": {},
     "output_type": "execute_result"
    }
   ],
   "source": [
    "np.unique(np.array(hgModel.predict(test_df)))"
   ]
  },
  {
   "cell_type": "code",
   "execution_count": null,
   "id": "08f62730",
   "metadata": {},
   "outputs": [],
   "source": []
  }
 ],
 "metadata": {
  "kernelspec": {
   "display_name": "Python 3 (ipykernel)",
   "language": "python",
   "name": "python3"
  },
  "language_info": {
   "codemirror_mode": {
    "name": "ipython",
    "version": 3
   },
   "file_extension": ".py",
   "mimetype": "text/x-python",
   "name": "python",
   "nbconvert_exporter": "python",
   "pygments_lexer": "ipython3",
   "version": "3.9.13"
  }
 },
 "nbformat": 4,
 "nbformat_minor": 5
}
