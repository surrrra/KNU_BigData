{
 "cells": [
  {
   "cell_type": "code",
   "execution_count": 1,
   "id": "a27099df",
   "metadata": {},
   "outputs": [],
   "source": [
    "# 모듈 로딩\n",
    "from sklearn.ensemble import RandomForestClassifier, AdaBoostClassifier, HistGradientBoostingClassifier\n",
    "from sklearn.linear_model import LogisticRegression\n",
    "from sklearn.preprocessing import LabelEncoder, StandardScaler\n",
    "from sklearn.model_selection import train_test_split, GridSearchCV, StratifiedKFold, cross_validate\n",
    "from sklearn.utils import all_estimators\n",
    "from sklearn.metrics import accuracy_score\n",
    "import pandas as pd\n",
    "import numpy as np\n",
    "import matplotlib.pyplot as plt"
   ]
  },
  {
   "cell_type": "code",
   "execution_count": 2,
   "id": "15f4f300",
   "metadata": {},
   "outputs": [],
   "source": [
    "df=pd.read_csv('./file/train.csv')"
   ]
  },
  {
   "cell_type": "code",
   "execution_count": 3,
   "id": "031ecb95",
   "metadata": {},
   "outputs": [],
   "source": [
    "# DAYS_BIRTH 컬럼 양수로 변경\n",
    "df['DAYS_BIRTH']=abs(df['DAYS_BIRTH'])\n",
    "\n",
    "# 나이 컬럼 추가\n",
    "df['age']=abs(df['DAYS_BIRTH'])//365\n",
    "\n",
    "# DAYS_BIRTH 컬럼 제거\n",
    "df=df.drop(columns=['DAYS_BIRTH'])\n",
    "\n",
    "# 0 이상인 값 => 입사하지 않은 사람의 값\n",
    "df[df['DAYS_EMPLOYED']>0]['DAYS_EMPLOYED']\n",
    "\n",
    "# 0보다 큰 값을 입사하지 않은 사람으로 간주하여 0으로 변환\n",
    "df['DAYS_EMPLOYED']=df['DAYS_EMPLOYED'].map(lambda x:0 if x>0 else x)\n",
    "\n",
    "# DAYS_EMPLOYED 컬럼 양수로 변경\n",
    "df['DAYS_EMPLOYED']=abs(df['DAYS_EMPLOYED'])\n",
    "\n",
    "# FLAG_MOBIL 열의 값이 1뿐이므로 열 삭제\n",
    "df=df.drop(columns=['FLAG_MOBIL'])\n",
    "\n",
    "# occyp_type 열의 결측치를 Jobless로 변경\n",
    "df['occyp_type']=df['occyp_type'].fillna('Jobless')\n",
    "\n",
    "# family_size를 정수형으로 바꾸기\n",
    "df['family_size']=df['family_size'].astype('int')\n",
    "\n",
    "df['begin_month']=abs(df['begin_month'])"
   ]
  },
  {
   "cell_type": "code",
   "execution_count": 4,
   "id": "3df255e5",
   "metadata": {},
   "outputs": [],
   "source": [
    "encoder=LabelEncoder()\n",
    "\n",
    "col_list=['gender', 'car', 'reality', 'income_type', 'edu_type', 'family_type', 'house_type', 'occyp_type']\n",
    "\n",
    "for col in col_list:\n",
    "    df[col]=encoder.fit_transform(df[col])\n"
   ]
  },
  {
   "cell_type": "code",
   "execution_count": 5,
   "id": "85a36d7d",
   "metadata": {},
   "outputs": [],
   "source": [
    "# 컬럼 순서 바꾸기\n",
    "credit=df['credit']\n",
    "\n",
    "df=df.drop(columns=['credit'])\n",
    "\n",
    "df=pd.concat([df, credit], axis=1)\n",
    "\n",
    "# Index 열 필요없으니 제거\n",
    "df=df.drop(columns=['index'])\n",
    "\n",
    "df=df.drop(columns=['child_num'])"
   ]
  },
  {
   "cell_type": "code",
   "execution_count": 6,
   "id": "0b0cc543",
   "metadata": {},
   "outputs": [],
   "source": [
    "# data, target 분리\n",
    "data=df.iloc[:, :-1]\n",
    "target=df.iloc[:, -1]"
   ]
  },
  {
   "cell_type": "code",
   "execution_count": 7,
   "id": "d8e98891",
   "metadata": {},
   "outputs": [],
   "source": [
    "x_train, x_test, y_train, y_test=train_test_split(\n",
    "data, target, test_size=0.2, stratify=target)"
   ]
  },
  {
   "cell_type": "code",
   "execution_count": 8,
   "id": "1a49240a",
   "metadata": {},
   "outputs": [],
   "source": [
    "models=all_estimators(type_filter='classifier')"
   ]
  },
  {
   "cell_type": "code",
   "execution_count": 9,
   "id": "37fcaab2",
   "metadata": {},
   "outputs": [
    {
     "name": "stderr",
     "output_type": "stream",
     "text": [
      "C:\\ProgramData\\Anaconda3\\lib\\site-packages\\sklearn\\svm\\_base.py:1206: ConvergenceWarning: Liblinear failed to converge, increase the number of iterations.\n",
      "  warnings.warn(\n",
      "C:\\ProgramData\\Anaconda3\\lib\\site-packages\\sklearn\\svm\\_base.py:1206: ConvergenceWarning: Liblinear failed to converge, increase the number of iterations.\n",
      "  warnings.warn(\n",
      "C:\\ProgramData\\Anaconda3\\lib\\site-packages\\sklearn\\svm\\_base.py:1206: ConvergenceWarning: Liblinear failed to converge, increase the number of iterations.\n",
      "  warnings.warn(\n",
      "C:\\ProgramData\\Anaconda3\\lib\\site-packages\\sklearn\\svm\\_base.py:1206: ConvergenceWarning: Liblinear failed to converge, increase the number of iterations.\n",
      "  warnings.warn(\n",
      "C:\\ProgramData\\Anaconda3\\lib\\site-packages\\sklearn\\svm\\_base.py:1206: ConvergenceWarning: Liblinear failed to converge, increase the number of iterations.\n",
      "  warnings.warn(\n",
      "C:\\ProgramData\\Anaconda3\\lib\\site-packages\\sklearn\\semi_supervised\\_label_propagation.py:222: RuntimeWarning: invalid value encountered in true_divide\n",
      "  probabilities /= normalizer\n",
      "C:\\ProgramData\\Anaconda3\\lib\\site-packages\\sklearn\\semi_supervised\\_label_propagation.py:222: RuntimeWarning: invalid value encountered in true_divide\n",
      "  probabilities /= normalizer\n",
      "C:\\ProgramData\\Anaconda3\\lib\\site-packages\\sklearn\\svm\\_base.py:1206: ConvergenceWarning: Liblinear failed to converge, increase the number of iterations.\n",
      "  warnings.warn(\n",
      "C:\\ProgramData\\Anaconda3\\lib\\site-packages\\sklearn\\linear_model\\_logistic.py:814: ConvergenceWarning: lbfgs failed to converge (status=1):\n",
      "STOP: TOTAL NO. of ITERATIONS REACHED LIMIT.\n",
      "\n",
      "Increase the number of iterations (max_iter) or scale the data as shown in:\n",
      "    https://scikit-learn.org/stable/modules/preprocessing.html\n",
      "Please also refer to the documentation for alternative solver options:\n",
      "    https://scikit-learn.org/stable/modules/linear_model.html#logistic-regression\n",
      "  n_iter_i = _check_optimize_result(\n"
     ]
    }
   ],
   "source": [
    "scores=[]\n",
    "\n",
    "for name, model in models:\n",
    "    try:\n",
    "        # 모델 객체 생성\n",
    "        md=model()\n",
    "        # 학습\n",
    "        md.fit(x_train, y_train)\n",
    "        # 평가\n",
    "        train_result=md.score(x_train, y_train)\n",
    "        result=md.score(x_test, y_test)\n",
    "        scores.append((name, train_result, result))\n",
    "        \n",
    "    except:\n",
    "        pass"
   ]
  },
  {
   "cell_type": "code",
   "execution_count": 10,
   "id": "81c9d3fe",
   "metadata": {},
   "outputs": [
    {
     "data": {
      "text/plain": [
       "[('AdaBoostClassifier', 0.6915190172454524, 0.6887755102040817),\n",
       " ('BaggingClassifier', 0.9655090952043468, 0.6696900982615268),\n",
       " ('BernoulliNB', 0.6470588235294118, 0.6464474678760394),\n",
       " ('CalibratedClassifierCV', 0.6413418379399953, 0.6413454270597128),\n",
       " ('ComplementNB', 0.4063312071816679, 0.4040060468631897),\n",
       " ('DecisionTreeClassifier', 0.9778880226789511, 0.6043083900226758),\n",
       " ('DummyClassifier', 0.6413418379399953, 0.6413454270597128),\n",
       " ('ExtraTreeClassifier', 0.9778880226789511, 0.6010959939531368),\n",
       " ('ExtraTreesClassifier', 0.9778880226789511, 0.6819727891156463),\n",
       " ('GaussianNB', 0.6471060713442003, 0.6472033257747544),\n",
       " ('GaussianProcessClassifier', 0.9759981100874084, 0.657785336356765),\n",
       " ('GradientBoostingClassifier', 0.6973304984644461, 0.690098261526833),\n",
       " ('HistGradientBoostingClassifier', 0.7439640916607607, 0.699546485260771),\n",
       " ('KNeighborsClassifier', 0.7460902433262462, 0.6203703703703703),\n",
       " ('LabelPropagation', 0.9778880226789511, 0.42630385487528344),\n",
       " ('LabelSpreading', 0.9778880226789511, 0.4276266061980348),\n",
       " ('LinearDiscriminantAnalysis', 0.6418615639026695, 0.6415343915343915),\n",
       " ('LinearSVC', 0.48698322702575003, 0.4833711262282691),\n",
       " ('LogisticRegression', 0.6413418379399953, 0.6413454270597128),\n",
       " ('LogisticRegressionCV', 0.6413418379399953, 0.6413454270597128),\n",
       " ('MLPClassifier', 0.6413890857547838, 0.641156462585034),\n",
       " ('MultinomialNB', 0.40623671155209073, 0.4021164021164021),\n",
       " ('NearestCentroid', 0.20302386014646823, 0.19765684051398338),\n",
       " ('PassiveAggressiveClassifier', 0.6413418379399953, 0.6413454270597128),\n",
       " ('Perceptron', 0.6413418379399953, 0.6413454270597128),\n",
       " ('QuadraticDiscriminantAnalysis', 0.645405150011812, 0.6424792139077853),\n",
       " ('RandomForestClassifier', 0.9778407748641625, 0.6934996220710506),\n",
       " ('RidgeClassifier', 0.6413890857547838, 0.6413454270597128),\n",
       " ('RidgeClassifierCV', 0.6413890857547838, 0.6413454270597128),\n",
       " ('SGDClassifier', 0.6413418379399953, 0.6413454270597128),\n",
       " ('SVC', 0.6413418379399953, 0.6413454270597128)]"
      ]
     },
     "execution_count": 10,
     "metadata": {},
     "output_type": "execute_result"
    }
   ],
   "source": [
    "scores"
   ]
  },
  {
   "cell_type": "code",
   "execution_count": null,
   "id": "543d99cc",
   "metadata": {},
   "outputs": [],
   "source": []
  }
 ],
 "metadata": {
  "kernelspec": {
   "display_name": "Python 3 (ipykernel)",
   "language": "python",
   "name": "python3"
  },
  "language_info": {
   "codemirror_mode": {
    "name": "ipython",
    "version": 3
   },
   "file_extension": ".py",
   "mimetype": "text/x-python",
   "name": "python",
   "nbconvert_exporter": "python",
   "pygments_lexer": "ipython3",
   "version": "3.9.12"
  }
 },
 "nbformat": 4,
 "nbformat_minor": 5
}
