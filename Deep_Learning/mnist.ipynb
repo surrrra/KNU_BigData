{
 "cells": [
  {
   "cell_type": "code",
   "execution_count": 37,
   "id": "b0a3038a",
   "metadata": {},
   "outputs": [],
   "source": [
    "# 모듈 로딩\n",
    "from tensorflow.keras import Sequential  # 모델 객체\n",
    "from tensorflow.keras.layers import Dense, Dropout  # 레이어 객체\n",
    "from tensorflow.keras.datasets.mnist import load_data\n",
    "from sklearn.model_selection import train_test_split\n",
    "from sklearn.preprocessing import StandardScaler, MinMaxScaler, RobustScaler\n",
    "from sklearn.preprocessing import OneHotEncoder\n",
    "import matplotlib.pyplot as plt\n",
    "import tensorflow as tf\n",
    "import numpy as np"
   ]
  },
  {
   "cell_type": "markdown",
   "id": "7ec36420",
   "metadata": {},
   "source": [
    "## [1] 데이터 불러오기"
   ]
  },
  {
   "cell_type": "code",
   "execution_count": 17,
   "id": "c5fd1899",
   "metadata": {},
   "outputs": [],
   "source": [
    "(x_train, y_train), (x_test, y_test)=load_data()"
   ]
  },
  {
   "cell_type": "code",
   "execution_count": 18,
   "id": "b04ebc1d",
   "metadata": {},
   "outputs": [
    {
     "name": "stdout",
     "output_type": "stream",
     "text": [
      "x_train.shape, x_test.shape : (60000, 28, 28), (10000, 28, 28)\n",
      "y_train.shape, y_test.shape : (60000,), (10000,)\n"
     ]
    }
   ],
   "source": [
    "print(f'x_train.shape, x_test.shape : {x_train.shape}, {x_test.shape}')\n",
    "print(f'y_train.shape, y_test.shape : {y_train.shape}, {y_test.shape}')"
   ]
  },
  {
   "cell_type": "markdown",
   "id": "f4d7cce4",
   "metadata": {},
   "source": [
    "## [2] 데이터 분리"
   ]
  },
  {
   "cell_type": "code",
   "execution_count": 19,
   "id": "0248e0f3",
   "metadata": {},
   "outputs": [],
   "source": [
    "# 검증용 데이터 셋 준비\n",
    "x_train, x_val, y_train, y_val=train_test_split(\n",
    "x_train, y_train, stratify=y_train)"
   ]
  },
  {
   "cell_type": "code",
   "execution_count": 20,
   "id": "1c1cc439",
   "metadata": {},
   "outputs": [
    {
     "name": "stdout",
     "output_type": "stream",
     "text": [
      "x_train.shape, x_val.shape : (45000, 28, 28), (15000, 28, 28)\n",
      "y_train.shape, y_val.shape : (45000,), (15000,)\n"
     ]
    }
   ],
   "source": [
    "print(f'x_train.shape, x_val.shape : {x_train.shape}, {x_val.shape}')\n",
    "print(f'y_train.shape, y_val.shape : {y_train.shape}, {y_val.shape}')"
   ]
  },
  {
   "cell_type": "markdown",
   "id": "d2ac0634",
   "metadata": {},
   "source": [
    "## [3] 데이터 전처리 - 스케일링, 인코딩"
   ]
  },
  {
   "cell_type": "code",
   "execution_count": 21,
   "id": "1ee25af5",
   "metadata": {},
   "outputs": [],
   "source": [
    "# 이미지 데이터의 픽셀값 즉 특성(Feature) 0.0 ~ 1.0으로 스케일링\n",
    "x_train=x_train/255.0\n",
    "x_val=x_val/255.0\n",
    "x_test=x_test/255.0"
   ]
  },
  {
   "cell_type": "code",
   "execution_count": 22,
   "id": "bf353959",
   "metadata": {},
   "outputs": [
    {
     "data": {
      "text/plain": [
       "array([[0.        , 0.        , 0.        , 0.        , 0.        ,\n",
       "        0.        , 0.        , 0.        , 0.        , 0.        ,\n",
       "        0.        , 0.        , 0.        , 0.        , 0.        ,\n",
       "        0.        , 0.        , 0.        , 0.        , 0.        ,\n",
       "        0.        , 0.        , 0.        , 0.        , 0.        ,\n",
       "        0.        , 0.        , 0.        ],\n",
       "       [0.        , 0.        , 0.        , 0.        , 0.        ,\n",
       "        0.        , 0.        , 0.        , 0.        , 0.        ,\n",
       "        0.        , 0.        , 0.        , 0.        , 0.        ,\n",
       "        0.        , 0.        , 0.        , 0.        , 0.        ,\n",
       "        0.        , 0.        , 0.        , 0.        , 0.        ,\n",
       "        0.        , 0.        , 0.        ],\n",
       "       [0.        , 0.        , 0.        , 0.        , 0.        ,\n",
       "        0.        , 0.        , 0.        , 0.        , 0.        ,\n",
       "        0.        , 0.        , 0.        , 0.        , 0.        ,\n",
       "        0.        , 0.        , 0.        , 0.        , 0.        ,\n",
       "        0.        , 0.        , 0.        , 0.        , 0.        ,\n",
       "        0.        , 0.        , 0.        ],\n",
       "       [0.        , 0.        , 0.        , 0.        , 0.        ,\n",
       "        0.        , 0.        , 0.        , 0.        , 0.        ,\n",
       "        0.        , 0.        , 0.        , 0.        , 0.        ,\n",
       "        0.        , 0.        , 0.        , 0.        , 0.        ,\n",
       "        0.        , 0.        , 0.        , 0.        , 0.        ,\n",
       "        0.        , 0.        , 0.        ],\n",
       "       [0.        , 0.        , 0.        , 0.        , 0.        ,\n",
       "        0.        , 0.        , 0.        , 0.        , 0.        ,\n",
       "        0.        , 0.        , 0.        , 0.        , 1.        ,\n",
       "        0.65882353, 0.        , 0.        , 0.        , 0.        ,\n",
       "        0.        , 0.        , 0.        , 0.        , 0.        ,\n",
       "        0.        , 0.        , 0.        ],\n",
       "       [0.        , 0.        , 0.        , 0.        , 0.        ,\n",
       "        0.        , 0.        , 0.        , 0.        , 0.        ,\n",
       "        0.        , 0.        , 0.10196078, 0.88235294, 0.99215686,\n",
       "        0.65490196, 0.        , 0.        , 0.        , 0.        ,\n",
       "        0.        , 0.        , 0.        , 0.        , 0.        ,\n",
       "        0.        , 0.        , 0.        ],\n",
       "       [0.        , 0.        , 0.        , 0.        , 0.        ,\n",
       "        0.        , 0.        , 0.        , 0.        , 0.        ,\n",
       "        0.        , 0.        , 0.11372549, 0.98823529, 0.99215686,\n",
       "        0.91372549, 0.16862745, 0.        , 0.        , 0.        ,\n",
       "        0.        , 0.        , 0.        , 0.        , 0.        ,\n",
       "        0.        , 0.        , 0.        ],\n",
       "       [0.        , 0.        , 0.        , 0.        , 0.        ,\n",
       "        0.        , 0.        , 0.        , 0.        , 0.        ,\n",
       "        0.        , 0.        , 0.11372549, 0.98823529, 0.99215686,\n",
       "        0.98823529, 0.21568627, 0.        , 0.        , 0.        ,\n",
       "        0.        , 0.        , 0.        , 0.        , 0.        ,\n",
       "        0.        , 0.        , 0.        ],\n",
       "       [0.        , 0.        , 0.        , 0.        , 0.        ,\n",
       "        0.        , 0.        , 0.        , 0.        , 0.        ,\n",
       "        0.        , 0.        , 0.11372549, 0.98823529, 0.99215686,\n",
       "        0.98823529, 0.21568627, 0.        , 0.        , 0.        ,\n",
       "        0.        , 0.        , 0.        , 0.        , 0.        ,\n",
       "        0.        , 0.        , 0.        ],\n",
       "       [0.        , 0.        , 0.        , 0.        , 0.        ,\n",
       "        0.        , 0.        , 0.        , 0.        , 0.        ,\n",
       "        0.        , 0.        , 0.11372549, 0.99215686, 1.        ,\n",
       "        0.99215686, 0.21960784, 0.        , 0.        , 0.        ,\n",
       "        0.        , 0.        , 0.        , 0.        , 0.        ,\n",
       "        0.        , 0.        , 0.        ],\n",
       "       [0.        , 0.        , 0.        , 0.        , 0.        ,\n",
       "        0.        , 0.        , 0.        , 0.        , 0.        ,\n",
       "        0.        , 0.        , 0.11372549, 0.98823529, 0.99215686,\n",
       "        0.98823529, 0.21568627, 0.        , 0.        , 0.        ,\n",
       "        0.        , 0.        , 0.        , 0.        , 0.        ,\n",
       "        0.        , 0.        , 0.        ],\n",
       "       [0.        , 0.        , 0.        , 0.        , 0.        ,\n",
       "        0.        , 0.        , 0.        , 0.        , 0.        ,\n",
       "        0.        , 0.        , 0.11372549, 0.98823529, 0.99215686,\n",
       "        0.98823529, 0.21568627, 0.        , 0.        , 0.        ,\n",
       "        0.        , 0.        , 0.        , 0.        , 0.        ,\n",
       "        0.        , 0.        , 0.        ],\n",
       "       [0.        , 0.        , 0.        , 0.        , 0.        ,\n",
       "        0.        , 0.        , 0.        , 0.        , 0.        ,\n",
       "        0.        , 0.        , 0.11372549, 0.98823529, 0.99215686,\n",
       "        0.8       , 0.09803922, 0.        , 0.        , 0.        ,\n",
       "        0.        , 0.        , 0.        , 0.        , 0.        ,\n",
       "        0.        , 0.        , 0.        ],\n",
       "       [0.        , 0.        , 0.        , 0.        , 0.        ,\n",
       "        0.        , 0.        , 0.        , 0.        , 0.        ,\n",
       "        0.        , 0.        , 0.11372549, 0.98823529, 0.99215686,\n",
       "        0.98823529, 0.21568627, 0.        , 0.        , 0.        ,\n",
       "        0.        , 0.        , 0.        , 0.        , 0.        ,\n",
       "        0.        , 0.        , 0.        ],\n",
       "       [0.        , 0.        , 0.        , 0.        , 0.        ,\n",
       "        0.        , 0.        , 0.        , 0.        , 0.        ,\n",
       "        0.        , 0.        , 0.11372549, 0.99215686, 1.        ,\n",
       "        0.84313725, 0.12156863, 0.        , 0.        , 0.        ,\n",
       "        0.        , 0.        , 0.        , 0.        , 0.        ,\n",
       "        0.        , 0.        , 0.        ],\n",
       "       [0.        , 0.        , 0.        , 0.        , 0.        ,\n",
       "        0.        , 0.        , 0.        , 0.        , 0.        ,\n",
       "        0.        , 0.        , 0.29803922, 0.98823529, 0.99215686,\n",
       "        0.65490196, 0.        , 0.        , 0.        , 0.        ,\n",
       "        0.        , 0.        , 0.        , 0.        , 0.        ,\n",
       "        0.        , 0.        , 0.        ],\n",
       "       [0.        , 0.        , 0.        , 0.        , 0.        ,\n",
       "        0.        , 0.        , 0.        , 0.        , 0.        ,\n",
       "        0.        , 0.        , 0.6627451 , 0.98823529, 0.99215686,\n",
       "        0.65490196, 0.        , 0.        , 0.        , 0.        ,\n",
       "        0.        , 0.        , 0.        , 0.        , 0.        ,\n",
       "        0.        , 0.        , 0.        ],\n",
       "       [0.        , 0.        , 0.        , 0.        , 0.        ,\n",
       "        0.        , 0.        , 0.        , 0.        , 0.        ,\n",
       "        0.        , 0.02745098, 0.69803922, 0.98823529, 0.99215686,\n",
       "        0.59215686, 0.        , 0.        , 0.        , 0.        ,\n",
       "        0.        , 0.        , 0.        , 0.        , 0.        ,\n",
       "        0.        , 0.        , 0.        ],\n",
       "       [0.        , 0.        , 0.        , 0.        , 0.        ,\n",
       "        0.        , 0.        , 0.        , 0.        , 0.        ,\n",
       "        0.        , 0.22352941, 0.98823529, 0.98823529, 0.99215686,\n",
       "        0.10588235, 0.        , 0.        , 0.        , 0.        ,\n",
       "        0.        , 0.        , 0.        , 0.        , 0.        ,\n",
       "        0.        , 0.        , 0.        ],\n",
       "       [0.        , 0.        , 0.        , 0.        , 0.        ,\n",
       "        0.        , 0.        , 0.        , 0.        , 0.        ,\n",
       "        0.        , 0.52941176, 0.99215686, 0.99215686, 1.        ,\n",
       "        0.10588235, 0.        , 0.        , 0.        , 0.        ,\n",
       "        0.        , 0.        , 0.        , 0.        , 0.        ,\n",
       "        0.        , 0.        , 0.        ],\n",
       "       [0.        , 0.        , 0.        , 0.        , 0.        ,\n",
       "        0.        , 0.        , 0.        , 0.        , 0.        ,\n",
       "        0.        , 0.22352941, 0.98823529, 0.98823529, 0.99215686,\n",
       "        0.10588235, 0.        , 0.        , 0.        , 0.        ,\n",
       "        0.        , 0.        , 0.        , 0.        , 0.        ,\n",
       "        0.        , 0.        , 0.        ],\n",
       "       [0.        , 0.        , 0.        , 0.        , 0.        ,\n",
       "        0.        , 0.        , 0.        , 0.        , 0.        ,\n",
       "        0.        , 0.22352941, 0.98823529, 0.98823529, 0.99215686,\n",
       "        0.10588235, 0.        , 0.        , 0.        , 0.        ,\n",
       "        0.        , 0.        , 0.        , 0.        , 0.        ,\n",
       "        0.        , 0.        , 0.        ],\n",
       "       [0.        , 0.        , 0.        , 0.        , 0.        ,\n",
       "        0.        , 0.        , 0.        , 0.        , 0.        ,\n",
       "        0.        , 0.0745098 , 0.76862745, 0.98823529, 0.99215686,\n",
       "        0.47843137, 0.        , 0.        , 0.        , 0.        ,\n",
       "        0.        , 0.        , 0.        , 0.        , 0.        ,\n",
       "        0.        , 0.        , 0.        ],\n",
       "       [0.        , 0.        , 0.        , 0.        , 0.        ,\n",
       "        0.        , 0.        , 0.        , 0.        , 0.        ,\n",
       "        0.        , 0.        , 0.35686275, 0.98823529, 0.99215686,\n",
       "        0.34901961, 0.        , 0.        , 0.        , 0.        ,\n",
       "        0.        , 0.        , 0.        , 0.        , 0.        ,\n",
       "        0.        , 0.        , 0.        ],\n",
       "       [0.        , 0.        , 0.        , 0.        , 0.        ,\n",
       "        0.        , 0.        , 0.        , 0.        , 0.        ,\n",
       "        0.        , 0.        , 0.        , 0.        , 0.        ,\n",
       "        0.        , 0.        , 0.        , 0.        , 0.        ,\n",
       "        0.        , 0.        , 0.        , 0.        , 0.        ,\n",
       "        0.        , 0.        , 0.        ],\n",
       "       [0.        , 0.        , 0.        , 0.        , 0.        ,\n",
       "        0.        , 0.        , 0.        , 0.        , 0.        ,\n",
       "        0.        , 0.        , 0.        , 0.        , 0.        ,\n",
       "        0.        , 0.        , 0.        , 0.        , 0.        ,\n",
       "        0.        , 0.        , 0.        , 0.        , 0.        ,\n",
       "        0.        , 0.        , 0.        ],\n",
       "       [0.        , 0.        , 0.        , 0.        , 0.        ,\n",
       "        0.        , 0.        , 0.        , 0.        , 0.        ,\n",
       "        0.        , 0.        , 0.        , 0.        , 0.        ,\n",
       "        0.        , 0.        , 0.        , 0.        , 0.        ,\n",
       "        0.        , 0.        , 0.        , 0.        , 0.        ,\n",
       "        0.        , 0.        , 0.        ],\n",
       "       [0.        , 0.        , 0.        , 0.        , 0.        ,\n",
       "        0.        , 0.        , 0.        , 0.        , 0.        ,\n",
       "        0.        , 0.        , 0.        , 0.        , 0.        ,\n",
       "        0.        , 0.        , 0.        , 0.        , 0.        ,\n",
       "        0.        , 0.        , 0.        , 0.        , 0.        ,\n",
       "        0.        , 0.        , 0.        ]])"
      ]
     },
     "execution_count": 22,
     "metadata": {},
     "output_type": "execute_result"
    }
   ],
   "source": [
    "x_train[0]"
   ]
  },
  {
   "cell_type": "code",
   "execution_count": 24,
   "id": "943c2c5f",
   "metadata": {},
   "outputs": [],
   "source": [
    "# 타겟 라벨 => OneHotEncoding으로 변환\n",
    "encoder=OneHotEncoder()"
   ]
  },
  {
   "cell_type": "code",
   "execution_count": 25,
   "id": "c85913c1",
   "metadata": {},
   "outputs": [
    {
     "data": {
      "text/plain": [
       "OneHotEncoder()"
      ]
     },
     "execution_count": 25,
     "metadata": {},
     "output_type": "execute_result"
    }
   ],
   "source": [
    "encoder.fit(y_train.reshape(-1, 1))"
   ]
  },
  {
   "cell_type": "code",
   "execution_count": 26,
   "id": "aad9840f",
   "metadata": {},
   "outputs": [],
   "source": [
    "y_train=encoder.transform(y_train.reshape(-1, 1))"
   ]
  },
  {
   "cell_type": "code",
   "execution_count": 27,
   "id": "8e20d2c5",
   "metadata": {},
   "outputs": [
    {
     "data": {
      "text/plain": [
       "scipy.sparse.csr.csr_matrix"
      ]
     },
     "execution_count": 27,
     "metadata": {},
     "output_type": "execute_result"
    }
   ],
   "source": [
    "type(y_train)"
   ]
  },
  {
   "cell_type": "code",
   "execution_count": 28,
   "id": "37ee92c6",
   "metadata": {},
   "outputs": [
    {
     "data": {
      "text/plain": [
       "numpy.ndarray"
      ]
     },
     "execution_count": 28,
     "metadata": {},
     "output_type": "execute_result"
    }
   ],
   "source": [
    "y_train=y_train.toarray()\n",
    "type(y_train)"
   ]
  },
  {
   "cell_type": "code",
   "execution_count": 29,
   "id": "ab29a63f",
   "metadata": {},
   "outputs": [],
   "source": [
    "y_test=encoder.transform(y_test.reshape(-1, 1))\n",
    "y_test=y_test.toarray()\n",
    "y_val=encoder.transform(y_val.reshape(-1, 1))\n",
    "y_val=y_val.toarray()"
   ]
  },
  {
   "cell_type": "code",
   "execution_count": 30,
   "id": "4acb404f",
   "metadata": {},
   "outputs": [],
   "source": [
    "x_train=x_train.reshape(-1, 28*28)\n",
    "x_val=x_val.reshape(-1, 28*28)\n",
    "x_test=x_test.reshape(-1, 28*28)"
   ]
  },
  {
   "cell_type": "markdown",
   "id": "ec7517f8",
   "metadata": {},
   "source": [
    "## [4] 모델 생성"
   ]
  },
  {
   "cell_type": "code",
   "execution_count": 45,
   "id": "562b8f00",
   "metadata": {},
   "outputs": [],
   "source": [
    "model=Sequential(name='practice')"
   ]
  },
  {
   "cell_type": "code",
   "execution_count": 46,
   "id": "0a67bbee",
   "metadata": {},
   "outputs": [],
   "source": [
    "model.add(Dense(100, activation='relu', input_shape=(784, )))"
   ]
  },
  {
   "cell_type": "code",
   "execution_count": 47,
   "id": "fa2feaa3",
   "metadata": {},
   "outputs": [],
   "source": [
    "model.add(Dropout(0.4))"
   ]
  },
  {
   "cell_type": "code",
   "execution_count": 48,
   "id": "89bffd6a",
   "metadata": {},
   "outputs": [],
   "source": [
    "model.add(Dense(200, activation='relu'))"
   ]
  },
  {
   "cell_type": "code",
   "execution_count": 49,
   "id": "5a2ff2c3",
   "metadata": {},
   "outputs": [],
   "source": [
    "model.add(Dropout(0.4))"
   ]
  },
  {
   "cell_type": "code",
   "execution_count": 50,
   "id": "2b871ce1",
   "metadata": {},
   "outputs": [],
   "source": [
    "model.add(Dense(10, activation='softmax'))"
   ]
  },
  {
   "cell_type": "code",
   "execution_count": 35,
   "id": "dae542c8",
   "metadata": {},
   "outputs": [
    {
     "name": "stdout",
     "output_type": "stream",
     "text": [
      "Model: \"practice\"\n",
      "_________________________________________________________________\n",
      " Layer (type)                Output Shape              Param #   \n",
      "=================================================================\n",
      " dense (Dense)               (None, 100)               78500     \n",
      "                                                                 \n",
      " dense_1 (Dense)             (None, 200)               20200     \n",
      "                                                                 \n",
      " dense_2 (Dense)             (None, 10)                2010      \n",
      "                                                                 \n",
      "=================================================================\n",
      "Total params: 100,710\n",
      "Trainable params: 100,710\n",
      "Non-trainable params: 0\n",
      "_________________________________________________________________\n"
     ]
    }
   ],
   "source": [
    "model.summary()"
   ]
  },
  {
   "cell_type": "code",
   "execution_count": 51,
   "id": "abcb3fd9",
   "metadata": {},
   "outputs": [],
   "source": [
    "model.compile(loss='categorical_crossentropy',\n",
    "             optimizer='adam',\n",
    "             metrics='accuracy')"
   ]
  },
  {
   "cell_type": "markdown",
   "id": "bcb5c560",
   "metadata": {},
   "source": [
    "## [5] 학습"
   ]
  },
  {
   "cell_type": "code",
   "execution_count": 52,
   "id": "2ebd58f8",
   "metadata": {},
   "outputs": [
    {
     "name": "stdout",
     "output_type": "stream",
     "text": [
      "Epoch 1/30\n",
      "1407/1407 [==============================] - 8s 5ms/step - loss: 0.4658 - accuracy: 0.8570 - val_loss: 0.1891 - val_accuracy: 0.9419\n",
      "Epoch 2/30\n",
      "1407/1407 [==============================] - 7s 5ms/step - loss: 0.2497 - accuracy: 0.9262 - val_loss: 0.1387 - val_accuracy: 0.9593\n",
      "Epoch 3/30\n",
      "1407/1407 [==============================] - 7s 5ms/step - loss: 0.2048 - accuracy: 0.9385 - val_loss: 0.1217 - val_accuracy: 0.9637\n",
      "Epoch 4/30\n",
      "1407/1407 [==============================] - 7s 5ms/step - loss: 0.1782 - accuracy: 0.9470 - val_loss: 0.1162 - val_accuracy: 0.9644\n",
      "Epoch 5/30\n",
      "1407/1407 [==============================] - 6s 5ms/step - loss: 0.1661 - accuracy: 0.9503 - val_loss: 0.1048 - val_accuracy: 0.9681\n",
      "Epoch 6/30\n",
      "1407/1407 [==============================] - 7s 5ms/step - loss: 0.1524 - accuracy: 0.9531 - val_loss: 0.0977 - val_accuracy: 0.9701\n",
      "Epoch 7/30\n",
      "1407/1407 [==============================] - 7s 5ms/step - loss: 0.1481 - accuracy: 0.9544 - val_loss: 0.0991 - val_accuracy: 0.9693\n",
      "Epoch 8/30\n",
      "1407/1407 [==============================] - 7s 5ms/step - loss: 0.1365 - accuracy: 0.9586 - val_loss: 0.0913 - val_accuracy: 0.9729\n",
      "Epoch 9/30\n",
      "1407/1407 [==============================] - 7s 5ms/step - loss: 0.1275 - accuracy: 0.9610 - val_loss: 0.0932 - val_accuracy: 0.9717\n",
      "Epoch 10/30\n",
      "1407/1407 [==============================] - 7s 5ms/step - loss: 0.1283 - accuracy: 0.9603 - val_loss: 0.0939 - val_accuracy: 0.9719\n",
      "Epoch 11/30\n",
      "1407/1407 [==============================] - 7s 5ms/step - loss: 0.1219 - accuracy: 0.9626 - val_loss: 0.0940 - val_accuracy: 0.9718\n",
      "Epoch 12/30\n",
      "1407/1407 [==============================] - 7s 5ms/step - loss: 0.1206 - accuracy: 0.9628 - val_loss: 0.0833 - val_accuracy: 0.9747\n",
      "Epoch 13/30\n",
      "1407/1407 [==============================] - 7s 5ms/step - loss: 0.1124 - accuracy: 0.9649 - val_loss: 0.0854 - val_accuracy: 0.9727\n",
      "Epoch 14/30\n",
      "1407/1407 [==============================] - 7s 5ms/step - loss: 0.1116 - accuracy: 0.9652 - val_loss: 0.0813 - val_accuracy: 0.9757\n",
      "Epoch 15/30\n",
      "1407/1407 [==============================] - 7s 5ms/step - loss: 0.1117 - accuracy: 0.9652 - val_loss: 0.0861 - val_accuracy: 0.9736\n",
      "Epoch 16/30\n",
      "1407/1407 [==============================] - 7s 5ms/step - loss: 0.1074 - accuracy: 0.9673 - val_loss: 0.0886 - val_accuracy: 0.9750\n",
      "Epoch 17/30\n",
      "1407/1407 [==============================] - 7s 5ms/step - loss: 0.1083 - accuracy: 0.9667 - val_loss: 0.0835 - val_accuracy: 0.9743\n",
      "Epoch 18/30\n",
      "1407/1407 [==============================] - 7s 5ms/step - loss: 0.1016 - accuracy: 0.9684 - val_loss: 0.0818 - val_accuracy: 0.9753\n",
      "Epoch 19/30\n",
      "1407/1407 [==============================] - 7s 5ms/step - loss: 0.1026 - accuracy: 0.9689 - val_loss: 0.0857 - val_accuracy: 0.9749\n",
      "Epoch 20/30\n",
      "1407/1407 [==============================] - 7s 5ms/step - loss: 0.0996 - accuracy: 0.9689 - val_loss: 0.0891 - val_accuracy: 0.9736\n",
      "Epoch 21/30\n",
      "1407/1407 [==============================] - 6s 5ms/step - loss: 0.0924 - accuracy: 0.9703 - val_loss: 0.0888 - val_accuracy: 0.9743\n",
      "Epoch 22/30\n",
      "1407/1407 [==============================] - 7s 5ms/step - loss: 0.0967 - accuracy: 0.9696 - val_loss: 0.0846 - val_accuracy: 0.9766\n",
      "Epoch 23/30\n",
      "1407/1407 [==============================] - 7s 5ms/step - loss: 0.0966 - accuracy: 0.9703 - val_loss: 0.0844 - val_accuracy: 0.9759\n",
      "Epoch 24/30\n",
      "1407/1407 [==============================] - 7s 5ms/step - loss: 0.0943 - accuracy: 0.9712 - val_loss: 0.0909 - val_accuracy: 0.9744\n",
      "Epoch 25/30\n",
      "1407/1407 [==============================] - 7s 5ms/step - loss: 0.0910 - accuracy: 0.9716 - val_loss: 0.0848 - val_accuracy: 0.9763\n",
      "Epoch 26/30\n",
      "1407/1407 [==============================] - 7s 5ms/step - loss: 0.0928 - accuracy: 0.9713 - val_loss: 0.0844 - val_accuracy: 0.9763\n",
      "Epoch 27/30\n",
      "1407/1407 [==============================] - 7s 5ms/step - loss: 0.0911 - accuracy: 0.9716 - val_loss: 0.0859 - val_accuracy: 0.9765\n",
      "Epoch 28/30\n",
      "1407/1407 [==============================] - 7s 5ms/step - loss: 0.0929 - accuracy: 0.9708 - val_loss: 0.0850 - val_accuracy: 0.9764\n",
      "Epoch 29/30\n",
      "1407/1407 [==============================] - 7s 5ms/step - loss: 0.0869 - accuracy: 0.9722 - val_loss: 0.0840 - val_accuracy: 0.9764\n",
      "Epoch 30/30\n",
      "1407/1407 [==============================] - 7s 5ms/step - loss: 0.0854 - accuracy: 0.9735 - val_loss: 0.0884 - val_accuracy: 0.9753\n"
     ]
    }
   ],
   "source": [
    "his=model.fit(x_train, y_train, epochs=30,\n",
    "         validation_data=(x_val, y_val))"
   ]
  },
  {
   "cell_type": "code",
   "execution_count": 53,
   "id": "222ea127",
   "metadata": {},
   "outputs": [
    {
     "data": {
      "image/png": "[encoded data removed]",
      "text/plain": [
       "<Figure size 1152x576 with 1 Axes>"
      ]
     },
     "metadata": {
      "needs_background": "light"
     },
     "output_type": "display_data"
    }
   ],
   "source": [
    "plt.figure(figsize=(16, 8))\n",
    "plt.plot(his.epoch, his.history['loss'], label='train_loss')\n",
    "plt.plot(his.epoch, his.history['val_loss'], label='val_loss')\n",
    "plt.legend()\n",
    "plt.show()"
   ]
  },
  {
   "cell_type": "code",
   "execution_count": 54,
   "id": "9d299733",
   "metadata": {},
   "outputs": [
    {
     "data": {
      "image/png": "[encoded data removed]",
      "text/plain": [
       "<Figure size 1152x576 with 1 Axes>"
      ]
     },
     "metadata": {
      "needs_background": "light"
     },
     "output_type": "display_data"
    }
   ],
   "source": [
    "plt.figure(figsize=(16, 8))\n",
    "plt.plot(his.epoch, his.history['accuracy'], label='train_accuracy')\n",
    "plt.plot(his.epoch, his.history['val_accuracy'], label='val_accuracy')\n",
    "plt.legend()\n",
    "plt.show()"
   ]
  },
  {
   "cell_type": "markdown",
   "id": "b6a96cdc",
   "metadata": {},
   "source": [
    "## [6] 모델 평가"
   ]
  },
  {
   "cell_type": "code",
   "execution_count": 55,
   "id": "fb7e5e33",
   "metadata": {},
   "outputs": [
    {
     "name": "stdout",
     "output_type": "stream",
     "text": [
      "313/313 [==============================] - 1s 3ms/step - loss: 0.0850 - accuracy: 0.9760\n"
     ]
    }
   ],
   "source": [
    "test_result=model.evaluate(x_test, y_test)"
   ]
  },
  {
   "cell_type": "code",
   "execution_count": 56,
   "id": "4ccc315e",
   "metadata": {},
   "outputs": [
    {
     "data": {
      "text/plain": [
       "[0.08499940484762192, 0.9760000109672546]"
      ]
     },
     "execution_count": 56,
     "metadata": {},
     "output_type": "execute_result"
    }
   ],
   "source": [
    "test_result"
   ]
  },
  {
   "cell_type": "markdown",
   "id": "afafd37a",
   "metadata": {},
   "source": [
    "## [7] 예측"
   ]
  },
  {
   "cell_type": "code",
   "execution_count": 59,
   "id": "c4d9e04d",
   "metadata": {},
   "outputs": [
    {
     "name": "stdout",
     "output_type": "stream",
     "text": [
      "1/1 [==============================] - 0s 32ms/step\n"
     ]
    },
    {
     "data": {
      "text/plain": [
       "array([[0., 0., 0., 0., 0., 0., 0., 1., 0., 0.]], dtype=float32)"
      ]
     },
     "execution_count": 59,
     "metadata": {},
     "output_type": "execute_result"
    }
   ],
   "source": [
    "np.round(model.predict(x_test[[0]]),2)"
   ]
  },
  {
   "cell_type": "code",
   "execution_count": 60,
   "id": "b05fb8e3",
   "metadata": {},
   "outputs": [
    {
     "data": {
      "text/plain": [
       "array([0., 0., 0., 0., 0., 0., 0., 1., 0., 0.])"
      ]
     },
     "execution_count": 60,
     "metadata": {},
     "output_type": "execute_result"
    }
   ],
   "source": [
    "y_test[0]"
   ]
  }
 ],
 "metadata": {
  "kernelspec": {
   "display_name": "Python 3 (ipykernel)",
   "language": "python",
   "name": "python3"
  },
  "language_info": {
   "codemirror_mode": {
    "name": "ipython",
    "version": 3
   },
   "file_extension": ".py",
   "mimetype": "text/x-python",
   "name": "python",
   "nbconvert_exporter": "python",
   "pygments_lexer": "ipython3",
   "version": "3.9.12"
  }
 },
 "nbformat": 4,
 "nbformat_minor": 5
}
