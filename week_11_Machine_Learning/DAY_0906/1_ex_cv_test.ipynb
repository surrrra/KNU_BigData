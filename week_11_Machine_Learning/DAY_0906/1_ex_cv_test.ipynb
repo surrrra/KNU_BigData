{
 "cells": [
  {
   "cell_type": "markdown",
   "id": "b86bc080",
   "metadata": {},
   "source": [
    "## 다양한 교차검증\n",
    "---\n",
    "- model_selection 모듈\n",
    "    * cross_val_score()\n",
    "    * cross_val_validate()\n",
    "    * cross_vale_predict()"
   ]
  },
  {
   "cell_type": "code",
   "execution_count": 24,
   "id": "22429297",
   "metadata": {},
   "outputs": [],
   "source": [
    "from sklearn.model_selection import cross_val_score, cross_validate, KFold, StratifiedKFold\n",
    "from sklearn.linear_model import LogisticRegression\n",
    "from sklearn.datasets import load_iris\n",
    "import numpy as np\n",
    "import pandas as pd"
   ]
  },
  {
   "cell_type": "markdown",
   "id": "0c794bb5",
   "metadata": {},
   "source": [
    "### [1] 데이터 로딩"
   ]
  },
  {
   "cell_type": "code",
   "execution_count": 3,
   "id": "fd8e931f",
   "metadata": {},
   "outputs": [],
   "source": [
    "iris=load_iris()"
   ]
  },
  {
   "cell_type": "code",
   "execution_count": 5,
   "id": "a7d2a56f",
   "metadata": {},
   "outputs": [],
   "source": [
    "# Bunch 타입 => dict \n",
    "data=iris['data']\n",
    "target=iris['target']\n",
    "featureName=iris['feature_names']   # 컬럼명\n",
    "className=iris['target_names']"
   ]
  },
  {
   "cell_type": "code",
   "execution_count": 6,
   "id": "d76e7227",
   "metadata": {},
   "outputs": [
    {
     "data": {
      "text/plain": [
       "(['sepal length (cm)',\n",
       "  'sepal width (cm)',\n",
       "  'petal length (cm)',\n",
       "  'petal width (cm)'],\n",
       " array(['setosa', 'versicolor', 'virginica'], dtype='<U10'))"
      ]
     },
     "execution_count": 6,
     "metadata": {},
     "output_type": "execute_result"
    }
   ],
   "source": [
    "featureName, className"
   ]
  },
  {
   "cell_type": "markdown",
   "id": "3107f40a",
   "metadata": {},
   "source": [
    "### [2] 모델 생성"
   ]
  },
  {
   "cell_type": "code",
   "execution_count": 10,
   "id": "440f32a8",
   "metadata": {},
   "outputs": [],
   "source": [
    "# max_iter : 처음~끝까지 샘플 데이터 학습 => 에포크(epoch) 횟수\n",
    "lrModel=LogisticRegression(max_iter=150)"
   ]
  },
  {
   "cell_type": "code",
   "execution_count": 13,
   "id": "9462cec8",
   "metadata": {},
   "outputs": [],
   "source": [
    "# 교차검증으로 모델 학습 진행\n",
    "# => 학습 데이터 기반 5개 Fold로 학습 & 검증 진행\n",
    "# cv 개수만큼 모델 개수?가 생김\n",
    "result=cross_val_score(lrModel, data, target, cv=10)"
   ]
  },
  {
   "cell_type": "code",
   "execution_count": 14,
   "id": "585c5bab",
   "metadata": {},
   "outputs": [
    {
     "data": {
      "text/plain": [
       "array([1.        , 0.93333333, 1.        , 1.        , 0.93333333,\n",
       "       0.93333333, 0.93333333, 1.        , 1.        , 1.        ])"
      ]
     },
     "execution_count": 14,
     "metadata": {},
     "output_type": "execute_result"
    }
   ],
   "source": [
    "# Fold 5개라서 값 5개 나옴\n",
    "# 5개 모델에 대한 정확도(accuracy)\n",
    "result"
   ]
  },
  {
   "cell_type": "code",
   "execution_count": 20,
   "id": "3e987cdd",
   "metadata": {},
   "outputs": [],
   "source": [
    "# 여기엔 비율 맞춰주는 파라미터가 없어서 cv 객체를 직접 만들어야함\n",
    "allResult=cross_validate(lrModel, data, target, return_train_score=True)"
   ]
  },
  {
   "cell_type": "code",
   "execution_count": 21,
   "id": "7d18e670",
   "metadata": {},
   "outputs": [],
   "source": [
    "resultDF=pd.DataFrame(allResult)"
   ]
  },
  {
   "cell_type": "code",
   "execution_count": 22,
   "id": "d975fd6d",
   "metadata": {},
   "outputs": [
    {
     "data": {
      "text/html": [
       "<div>\n",
       "<style scoped>\n",
       "    .dataframe tbody tr th:only-of-type {\n",
       "        vertical-align: middle;\n",
       "    }\n",
       "\n",
       "    .dataframe tbody tr th {\n",
       "        vertical-align: top;\n",
       "    }\n",
       "\n",
       "    .dataframe thead th {\n",
       "        text-align: right;\n",
       "    }\n",
       "</style>\n",
       "<table border=\"1\" class=\"dataframe\">\n",
       "  <thead>\n",
       "    <tr style=\"text-align: right;\">\n",
       "      <th></th>\n",
       "      <th>fit_time</th>\n",
       "      <th>score_time</th>\n",
       "      <th>test_score</th>\n",
       "      <th>train_score</th>\n",
       "    </tr>\n",
       "  </thead>\n",
       "  <tbody>\n",
       "    <tr>\n",
       "      <th>0</th>\n",
       "      <td>0.031778</td>\n",
       "      <td>0.000000</td>\n",
       "      <td>0.966667</td>\n",
       "      <td>0.966667</td>\n",
       "    </tr>\n",
       "    <tr>\n",
       "      <th>1</th>\n",
       "      <td>0.026007</td>\n",
       "      <td>0.000000</td>\n",
       "      <td>1.000000</td>\n",
       "      <td>0.966667</td>\n",
       "    </tr>\n",
       "    <tr>\n",
       "      <th>2</th>\n",
       "      <td>0.016396</td>\n",
       "      <td>0.000000</td>\n",
       "      <td>0.933333</td>\n",
       "      <td>0.983333</td>\n",
       "    </tr>\n",
       "    <tr>\n",
       "      <th>3</th>\n",
       "      <td>0.017483</td>\n",
       "      <td>0.000000</td>\n",
       "      <td>0.966667</td>\n",
       "      <td>0.983333</td>\n",
       "    </tr>\n",
       "    <tr>\n",
       "      <th>4</th>\n",
       "      <td>0.017968</td>\n",
       "      <td>0.000519</td>\n",
       "      <td>1.000000</td>\n",
       "      <td>0.975000</td>\n",
       "    </tr>\n",
       "  </tbody>\n",
       "</table>\n",
       "</div>"
      ],
      "text/plain": [
       "   fit_time  score_time  test_score  train_score\n",
       "0  0.031778    0.000000    0.966667     0.966667\n",
       "1  0.026007    0.000000    1.000000     0.966667\n",
       "2  0.016396    0.000000    0.933333     0.983333\n",
       "3  0.017483    0.000000    0.966667     0.983333\n",
       "4  0.017968    0.000519    1.000000     0.975000"
      ]
     },
     "execution_count": 22,
     "metadata": {},
     "output_type": "execute_result"
    }
   ],
   "source": [
    "resultDF"
   ]
  },
  {
   "cell_type": "markdown",
   "id": "6be83bd7",
   "metadata": {},
   "source": [
    "### Splitter 객체 생성 - KFold()"
   ]
  },
  {
   "cell_type": "code",
   "execution_count": 29,
   "id": "983ecf84",
   "metadata": {},
   "outputs": [],
   "source": [
    "kSplitter=KFold(n_splits=7, shuffle=True)\n",
    "sSplitter=StratifiedKFold(n_splits=7, shuffle=True)"
   ]
  },
  {
   "cell_type": "code",
   "execution_count": 30,
   "id": "8d7c4043",
   "metadata": {},
   "outputs": [
    {
     "data": {
      "text/html": [
       "<div>\n",
       "<style scoped>\n",
       "    .dataframe tbody tr th:only-of-type {\n",
       "        vertical-align: middle;\n",
       "    }\n",
       "\n",
       "    .dataframe tbody tr th {\n",
       "        vertical-align: top;\n",
       "    }\n",
       "\n",
       "    .dataframe thead th {\n",
       "        text-align: right;\n",
       "    }\n",
       "</style>\n",
       "<table border=\"1\" class=\"dataframe\">\n",
       "  <thead>\n",
       "    <tr style=\"text-align: right;\">\n",
       "      <th></th>\n",
       "      <th>fit_time</th>\n",
       "      <th>score_time</th>\n",
       "      <th>test_score</th>\n",
       "      <th>train_score</th>\n",
       "    </tr>\n",
       "  </thead>\n",
       "  <tbody>\n",
       "    <tr>\n",
       "      <th>0</th>\n",
       "      <td>0.031119</td>\n",
       "      <td>0.000</td>\n",
       "      <td>1.000000</td>\n",
       "      <td>0.984375</td>\n",
       "    </tr>\n",
       "    <tr>\n",
       "      <th>1</th>\n",
       "      <td>0.022938</td>\n",
       "      <td>0.000</td>\n",
       "      <td>0.909091</td>\n",
       "      <td>0.960938</td>\n",
       "    </tr>\n",
       "    <tr>\n",
       "      <th>2</th>\n",
       "      <td>0.022407</td>\n",
       "      <td>0.000</td>\n",
       "      <td>0.863636</td>\n",
       "      <td>1.000000</td>\n",
       "    </tr>\n",
       "    <tr>\n",
       "      <th>3</th>\n",
       "      <td>0.026022</td>\n",
       "      <td>0.001</td>\n",
       "      <td>0.952381</td>\n",
       "      <td>0.968992</td>\n",
       "    </tr>\n",
       "    <tr>\n",
       "      <th>4</th>\n",
       "      <td>0.020692</td>\n",
       "      <td>0.000</td>\n",
       "      <td>1.000000</td>\n",
       "      <td>0.968992</td>\n",
       "    </tr>\n",
       "    <tr>\n",
       "      <th>5</th>\n",
       "      <td>0.018954</td>\n",
       "      <td>0.000</td>\n",
       "      <td>1.000000</td>\n",
       "      <td>0.976744</td>\n",
       "    </tr>\n",
       "    <tr>\n",
       "      <th>6</th>\n",
       "      <td>0.018944</td>\n",
       "      <td>0.000</td>\n",
       "      <td>1.000000</td>\n",
       "      <td>0.968992</td>\n",
       "    </tr>\n",
       "  </tbody>\n",
       "</table>\n",
       "</div>"
      ],
      "text/plain": [
       "   fit_time  score_time  test_score  train_score\n",
       "0  0.031119       0.000    1.000000     0.984375\n",
       "1  0.022938       0.000    0.909091     0.960938\n",
       "2  0.022407       0.000    0.863636     1.000000\n",
       "3  0.026022       0.001    0.952381     0.968992\n",
       "4  0.020692       0.000    1.000000     0.968992\n",
       "5  0.018954       0.000    1.000000     0.976744\n",
       "6  0.018944       0.000    1.000000     0.968992"
      ]
     },
     "execution_count": 30,
     "metadata": {},
     "output_type": "execute_result"
    }
   ],
   "source": [
    "# parameter -------------------------------------------\n",
    "# return_train_score : 학습 데이터 평가 결과 반환 여부 설정\n",
    "# return_estimator : 모델 객체 반환 여부 설정\n",
    "pd.DataFrame(cross_validate(lrModel, data, target,\n",
    "              return_train_score=True,\n",
    "              cv=kSplitter))"
   ]
  },
  {
   "cell_type": "code",
   "execution_count": 32,
   "id": "52762c8f",
   "metadata": {},
   "outputs": [
    {
     "data": {
      "text/html": [
       "<div>\n",
       "<style scoped>\n",
       "    .dataframe tbody tr th:only-of-type {\n",
       "        vertical-align: middle;\n",
       "    }\n",
       "\n",
       "    .dataframe tbody tr th {\n",
       "        vertical-align: top;\n",
       "    }\n",
       "\n",
       "    .dataframe thead th {\n",
       "        text-align: right;\n",
       "    }\n",
       "</style>\n",
       "<table border=\"1\" class=\"dataframe\">\n",
       "  <thead>\n",
       "    <tr style=\"text-align: right;\">\n",
       "      <th></th>\n",
       "      <th>fit_time</th>\n",
       "      <th>score_time</th>\n",
       "      <th>estimator</th>\n",
       "      <th>test_score</th>\n",
       "      <th>train_score</th>\n",
       "    </tr>\n",
       "  </thead>\n",
       "  <tbody>\n",
       "    <tr>\n",
       "      <th>0</th>\n",
       "      <td>0.028917</td>\n",
       "      <td>0.000000</td>\n",
       "      <td>LogisticRegression(max_iter=150)</td>\n",
       "      <td>1.000000</td>\n",
       "      <td>0.984375</td>\n",
       "    </tr>\n",
       "    <tr>\n",
       "      <th>1</th>\n",
       "      <td>0.025894</td>\n",
       "      <td>0.000000</td>\n",
       "      <td>LogisticRegression(max_iter=150)</td>\n",
       "      <td>0.954545</td>\n",
       "      <td>0.976562</td>\n",
       "    </tr>\n",
       "    <tr>\n",
       "      <th>2</th>\n",
       "      <td>0.020933</td>\n",
       "      <td>0.000000</td>\n",
       "      <td>LogisticRegression(max_iter=150)</td>\n",
       "      <td>1.000000</td>\n",
       "      <td>0.968750</td>\n",
       "    </tr>\n",
       "    <tr>\n",
       "      <th>3</th>\n",
       "      <td>0.021164</td>\n",
       "      <td>0.000000</td>\n",
       "      <td>LogisticRegression(max_iter=150)</td>\n",
       "      <td>1.000000</td>\n",
       "      <td>0.976744</td>\n",
       "    </tr>\n",
       "    <tr>\n",
       "      <th>4</th>\n",
       "      <td>0.020984</td>\n",
       "      <td>0.000000</td>\n",
       "      <td>LogisticRegression(max_iter=150)</td>\n",
       "      <td>0.904762</td>\n",
       "      <td>0.992248</td>\n",
       "    </tr>\n",
       "    <tr>\n",
       "      <th>5</th>\n",
       "      <td>0.021836</td>\n",
       "      <td>0.000989</td>\n",
       "      <td>LogisticRegression(max_iter=150)</td>\n",
       "      <td>0.904762</td>\n",
       "      <td>0.976744</td>\n",
       "    </tr>\n",
       "    <tr>\n",
       "      <th>6</th>\n",
       "      <td>0.021777</td>\n",
       "      <td>0.000000</td>\n",
       "      <td>LogisticRegression(max_iter=150)</td>\n",
       "      <td>0.952381</td>\n",
       "      <td>0.968992</td>\n",
       "    </tr>\n",
       "  </tbody>\n",
       "</table>\n",
       "</div>"
      ],
      "text/plain": [
       "   fit_time  score_time                         estimator  test_score  \\\n",
       "0  0.028917    0.000000  LogisticRegression(max_iter=150)    1.000000   \n",
       "1  0.025894    0.000000  LogisticRegression(max_iter=150)    0.954545   \n",
       "2  0.020933    0.000000  LogisticRegression(max_iter=150)    1.000000   \n",
       "3  0.021164    0.000000  LogisticRegression(max_iter=150)    1.000000   \n",
       "4  0.020984    0.000000  LogisticRegression(max_iter=150)    0.904762   \n",
       "5  0.021836    0.000989  LogisticRegression(max_iter=150)    0.904762   \n",
       "6  0.021777    0.000000  LogisticRegression(max_iter=150)    0.952381   \n",
       "\n",
       "   train_score  \n",
       "0     0.984375  \n",
       "1     0.976562  \n",
       "2     0.968750  \n",
       "3     0.976744  \n",
       "4     0.992248  \n",
       "5     0.976744  \n",
       "6     0.968992  "
      ]
     },
     "execution_count": 32,
     "metadata": {},
     "output_type": "execute_result"
    }
   ],
   "source": [
    "pd.DataFrame(cross_validate(lrModel, data, target,\n",
    "                           return_train_score=True,\n",
    "                           return_estimator=True,\n",
    "                            cv=sSplitter))"
   ]
  },
  {
   "cell_type": "code",
   "execution_count": null,
   "id": "18d6073a",
   "metadata": {},
   "outputs": [],
   "source": []
  }
 ],
 "metadata": {
  "kernelspec": {
   "display_name": "Python 3 (ipykernel)",
   "language": "python",
   "name": "python3"
  },
  "language_info": {
   "codemirror_mode": {
    "name": "ipython",
    "version": 3
   },
   "file_extension": ".py",
   "mimetype": "text/x-python",
   "name": "python",
   "nbconvert_exporter": "python",
   "pygments_lexer": "ipython3",
   "version": "3.9.12"
  }
 },
 "nbformat": 4,
 "nbformat_minor": 5
}
