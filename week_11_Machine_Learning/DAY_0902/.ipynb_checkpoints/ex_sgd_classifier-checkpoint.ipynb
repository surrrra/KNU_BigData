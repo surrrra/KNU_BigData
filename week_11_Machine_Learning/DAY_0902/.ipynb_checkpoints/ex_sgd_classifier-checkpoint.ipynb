{
 "cells": [
  {
   "cell_type": "markdown",
   "id": "ad6d2e81",
   "metadata": {},
   "source": [
    "# SGDClassifier\n",
    "---\n",
    "- LogisticRegression + SGD(확률적경사하강법)를 적용한 모델\n",
    "- 필수 설정 파라미터\n",
    "    * loss pram : 이진/다중 손실함수 이름 지정\n",
    "    "
   ]
  },
  {
   "cell_type": "code",
   "execution_count": 89,
   "id": "0a2806b3",
   "metadata": {},
   "outputs": [],
   "source": [
    "# 모듈 로딩\n",
    "import pandas as pd\n",
    "import numpy as np\n",
    "from sklearn.model_selection import train_test_split\n",
    "from sklearn.preprocessing import StandardScaler\n",
    "from sklearn.linear_model import SGDClassifier\n",
    "import matplotlib.pyplot as plt"
   ]
  },
  {
   "cell_type": "code",
   "execution_count": 90,
   "id": "b564a720",
   "metadata": {},
   "outputs": [],
   "source": [
    "# 경고 무시 -------------------------------------\n",
    "# 향후 deprecated 된다는 경고 출력 막음\n",
    "import warnings\n",
    "warnings.filterwarnings(action='ignore')"
   ]
  },
  {
   "cell_type": "markdown",
   "id": "c70dd90a",
   "metadata": {},
   "source": [
    "## [1] 데이터 준비"
   ]
  },
  {
   "cell_type": "code",
   "execution_count": 91,
   "id": "e3cf76ae",
   "metadata": {},
   "outputs": [],
   "source": [
    "fish=pd.read_csv('fish.csv')"
   ]
  },
  {
   "cell_type": "code",
   "execution_count": 92,
   "id": "f5d0cfac",
   "metadata": {},
   "outputs": [
    {
     "data": {
      "text/plain": [
       "Index(['Species', 'Weight', 'Length', 'Diagonal', 'Height', 'Width'], dtype='object')"
      ]
     },
     "execution_count": 92,
     "metadata": {},
     "output_type": "execute_result"
    }
   ],
   "source": [
    "fish.columns"
   ]
  },
  {
   "cell_type": "code",
   "execution_count": 93,
   "id": "6cde7bf2",
   "metadata": {},
   "outputs": [],
   "source": [
    "# 특성 데이터 + 타겟 분리\n",
    "fish_input=fish[fish.columns[1:]].to_numpy()\n",
    "fish_target=fish['Species'].to_numpy()"
   ]
  },
  {
   "cell_type": "code",
   "execution_count": 94,
   "id": "f1a9d0a1",
   "metadata": {},
   "outputs": [],
   "source": [
    "# 학습용, 테스트용 데이터 분리 => 8:2\n",
    "# random_state : 학습시 랜덤한 동일 데이터로 진행 위해 사용\n",
    "train_input, test_input, train_target, test_target=train_test_split(\n",
    "fish_input, fish_target, random_state=42)"
   ]
  },
  {
   "cell_type": "code",
   "execution_count": 95,
   "id": "433e5f7e",
   "metadata": {},
   "outputs": [],
   "source": [
    "# 표준화 : 평균 0, 표준편차 1\n",
    "from sklearn.preprocessing import StandardScaler\n",
    "scaler=StandardScaler()\n",
    "scaler.fit(train_input)\n",
    "train_scaled=scaler.transform(train_input)\n",
    "test_scaled=scaler.transform(test_input)"
   ]
  },
  {
   "cell_type": "markdown",
   "id": "a2112487",
   "metadata": {},
   "source": [
    "## [2] 모델 생성 및 학습"
   ]
  },
  {
   "cell_type": "code",
   "execution_count": 96,
   "id": "2122a6fb",
   "metadata": {},
   "outputs": [],
   "source": [
    "from sklearn.linear_model import SGDClassifier"
   ]
  },
  {
   "cell_type": "code",
   "execution_count": 97,
   "id": "0d3a4352",
   "metadata": {},
   "outputs": [
    {
     "data": {
      "text/plain": [
       "SGDClassifier(loss='log', max_iter=10, random_state=42)"
      ]
     },
     "execution_count": 97,
     "metadata": {},
     "output_type": "execute_result"
    }
   ],
   "source": [
    "# 최적화 경사하강법 변경 => BGD -> SGD 손실함수 지정 필요\n",
    "# loss=손실함수 : 모델에 따라 다름\n",
    "# max_iter=1000(기본값) : 학습 횟수\n",
    "\n",
    "sc=SGDClassifier(loss='log',\n",
    "                max_iter=10,\n",
    "                random_state=42)\n",
    "\n",
    "# 학습 진행 fit() : 반복 횟수(max_iter)만큼 학습 진행\n",
    "sc.fit(train_scaled, train_target)"
   ]
  },
  {
   "cell_type": "code",
   "execution_count": 98,
   "id": "9964a2da",
   "metadata": {},
   "outputs": [
    {
     "name": "stdout",
     "output_type": "stream",
     "text": [
      "0.773109243697479\n",
      "0.775\n"
     ]
    }
   ],
   "source": [
    "print(sc.score(train_scaled, train_target))\n",
    "print(sc.score(test_scaled, test_target))"
   ]
  },
  {
   "cell_type": "code",
   "execution_count": 99,
   "id": "a0e74088",
   "metadata": {},
   "outputs": [
    {
     "name": "stdout",
     "output_type": "stream",
     "text": [
      "0.8151260504201681\n",
      "0.85\n"
     ]
    }
   ],
   "source": [
    "# partial_fit() : 1 epoch만 학습 진행\n",
    "sc.partial_fit(train_scaled, train_target)\n",
    "\n",
    "print(sc.score(train_scaled, train_target))\n",
    "print(sc.score(test_scaled, test_target))"
   ]
  },
  {
   "cell_type": "code",
   "execution_count": 100,
   "id": "a0e8b5ad",
   "metadata": {
    "scrolled": false
   },
   "outputs": [
    {
     "data": {
      "image/png": "[encoded data removed]",
      "text/plain": [
       "<Figure size 864x576 with 1 Axes>"
      ]
     },
     "metadata": {
      "needs_background": "light"
     },
     "output_type": "display_data"
    }
   ],
   "source": [
    "# 최적의 학습 횟수 찾기\n",
    "train_score=[]\n",
    "test_score=[]\n",
    "\n",
    "sc=SGDClassifier(loss='log',\n",
    "                random_state=42)\n",
    "\n",
    "sc.fit(train_scaled, train_target)\n",
    "\n",
    "n=15\n",
    "\n",
    "for i in range(n):\n",
    "    sc.partial_fit(train_scaled, train_target)\n",
    "    \n",
    "    train_score.append(sc.score(train_scaled, train_target))\n",
    "    test_score.append(sc.score(test_scaled, test_target))\n",
    "\n",
    "plt.figure(figsize=(12, 8))\n",
    "plt.plot(range(1, n+1), train_score, label='train')\n",
    "plt.plot(range(1, n+1), test_score, color='red', label='test')\n",
    "plt.legend()\n",
    "plt.show()"
   ]
  },
  {
   "cell_type": "code",
   "execution_count": 101,
   "id": "9f4cd6e1",
   "metadata": {},
   "outputs": [
    {
     "data": {
      "text/plain": [
       "(0.9327731092436975, 0.925)"
      ]
     },
     "execution_count": 101,
     "metadata": {},
     "output_type": "execute_result"
    }
   ],
   "source": [
    "max(train_score), max(test_score)"
   ]
  },
  {
   "cell_type": "code",
   "execution_count": null,
   "id": "cfed699f",
   "metadata": {},
   "outputs": [],
   "source": []
  },
  {
   "cell_type": "code",
   "execution_count": 102,
   "id": "207a17cd",
   "metadata": {},
   "outputs": [
    {
     "name": "stdout",
     "output_type": "stream",
     "text": [
      "classes : ['Bream' 'Parkki' 'Perch' 'Pike' 'Roach' 'Smelt' 'Whitefish']\n"
     ]
    }
   ],
   "source": [
    "classes=np.unique(train_target)\n",
    "print('classes :', classes)"
   ]
  },
  {
   "cell_type": "code",
   "execution_count": 104,
   "id": "efc2720b",
   "metadata": {},
   "outputs": [
    {
     "data": {
      "image/png": "[encoded data removed]",
      "text/plain": [
       "<Figure size 864x576 with 1 Axes>"
      ]
     },
     "metadata": {
      "needs_background": "light"
     },
     "output_type": "display_data"
    }
   ],
   "source": [
    "# 최적의 학습 횟수 찾기\n",
    "train_score=[]\n",
    "test_score=[]\n",
    "\n",
    "sc=SGDClassifier(loss='log', \n",
    "                random_state=42)\n",
    "\n",
    "sc.fit(train_scaled, train_target)\n",
    "\n",
    "n=300\n",
    "\n",
    "for i in range(n):\n",
    "    sc.partial_fit(train_scaled, train_target, classes=classes)\n",
    "    \n",
    "    train_score.append(sc.score(train_scaled, train_target))\n",
    "    test_score.append(sc.score(test_scaled, test_target))\n",
    "\n",
    "plt.figure(figsize=(12, 8))\n",
    "plt.plot(range(1, n+1), train_score, label='train')\n",
    "plt.plot(range(1, n+1), test_score, color='red', label='test')\n",
    "plt.legend()\n",
    "plt.show()"
   ]
  },
  {
   "cell_type": "code",
   "execution_count": null,
   "id": "fdd05f83",
   "metadata": {},
   "outputs": [],
   "source": []
  },
  {
   "cell_type": "code",
   "execution_count": 105,
   "id": "c01eab6f",
   "metadata": {},
   "outputs": [
    {
     "name": "stdout",
     "output_type": "stream",
     "text": [
      "0.6890756302521008\n",
      "0.775\n",
      "3\n"
     ]
    }
   ],
   "source": [
    "# early_stopping : 조기종료 여부 (디폴트 : False)\n",
    "# n_iter_no_change : n번 동안 변경 되지 않은 경우\n",
    "# tol : 성능 개선의 기준값\n",
    "sc=SGDClassifier(loss='log', tol=0.1,\n",
    "                random_state=42,\n",
    "                n_iter_no_change=2,\n",
    "                early_stopping=True)\n",
    "sc.fit(train_scaled, train_target)\n",
    "\n",
    "print(sc.score(train_scaled, train_target))\n",
    "print(sc.score(test_scaled, test_target))\n",
    "print(sc.n_iter_)  # 반복한 횟수"
   ]
  },
  {
   "cell_type": "code",
   "execution_count": null,
   "id": "e5067037",
   "metadata": {},
   "outputs": [],
   "source": []
  }
 ],
 "metadata": {
  "kernelspec": {
   "display_name": "Python 3 (ipykernel)",
   "language": "python",
   "name": "python3"
  },
  "language_info": {
   "codemirror_mode": {
    "name": "ipython",
    "version": 3
   },
   "file_extension": ".py",
   "mimetype": "text/x-python",
   "name": "python",
   "nbconvert_exporter": "python",
   "pygments_lexer": "ipython3",
   "version": "3.9.12"
  }
 },
 "nbformat": 4,
 "nbformat_minor": 5
}
