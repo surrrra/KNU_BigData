{
 "cells": [
  {
   "cell_type": "markdown",
   "id": "eef922d1",
   "metadata": {},
   "source": [
    "# 아래 데이터를 이용하여 각 항목별 연관관계를 분석하고\n",
    "# 선형회귀분석 기법을 통해 상관관계를 그래프로 표시하시오.\n",
    "- index_price : 물가지수  \n",
    "- interest_rate : 이자율\n",
    "- unemployment_rate : 실업률"
   ]
  },
  {
   "cell_type": "code",
   "execution_count": 97,
   "id": "42c66c54",
   "metadata": {},
   "outputs": [
    {
     "name": "stdout",
     "output_type": "stream",
     "text": [
      "    year  month  interest_rate  unemployment_rate  index_price\n",
      "0   2017     12           2.75                5.3         1464\n",
      "1   2017     11           2.50                5.3         1394\n",
      "2   2017     10           2.50                5.3         1357\n",
      "3   2017      9           2.50                5.3         1293\n",
      "4   2017      8           2.50                5.4         1256\n",
      "5   2017      7           2.50                5.6         1254\n",
      "6   2017      6           2.50                5.5         1234\n",
      "7   2017      5           2.25                5.5         1195\n",
      "8   2017      4           2.25                5.5         1159\n",
      "9   2017      3           2.25                5.6         1167\n",
      "10  2017      2           2.00                5.7         1130\n",
      "11  2017      1           2.00                5.9         1075\n",
      "12  2016     12           2.00                6.0         1047\n",
      "13  2016     11           1.75                5.9          965\n",
      "14  2016     10           1.75                5.8          943\n",
      "15  2016      9           1.75                6.1          958\n",
      "16  2016      8           1.75                6.2          971\n",
      "17  2016      7           1.75                6.1          949\n",
      "18  2016      6           1.75                6.1          884\n",
      "19  2016      5           1.75                6.1          866\n",
      "20  2016      4           1.75                5.9          876\n",
      "21  2016      3           1.75                6.2          822\n",
      "22  2016      2           1.75                6.2          704\n",
      "23  2016      1           1.75                6.1          719\n"
     ]
    }
   ],
   "source": [
    "import pandas as pd\n",
    "import matplotlib.pyplot as plt\n",
    "\n",
    "data = {'year': [2017,2017,2017,2017,2017,2017,2017,2017,2017,2017,2017,2017,2016,\n",
    "                 2016,2016,2016,2016,2016,2016,2016,2016,2016,2016,2016],\n",
    "        'month': [12,11,10,9,8,7,6,5,4,3,2,1,12,11,10,9,8,7,6,5,4,3,2,1],\n",
    "        'interest_rate': [2.75,2.5,2.5,2.5,2.5,2.5,2.5,2.25,2.25,2.25,2,2,2,\n",
    "                          1.75,1.75,1.75,1.75,1.75,1.75,1.75,1.75,1.75,1.75,1.75],\n",
    "        'unemployment_rate': [5.3,5.3,5.3,5.3,5.4,5.6,5.5,5.5,5.5,5.6,5.7,5.9,6,5.9,\n",
    "                              5.8,6.1,6.2,6.1,6.1,6.1,5.9,6.2,6.2,6.1],\n",
    "        'index_price': [1464,1394,1357,1293,1256,1254,1234,1195,1159,1167,1130,1075,\n",
    "                        1047,965,943,958,971,949,884,866,876,822,704,719]}\n",
    "\n",
    "df=pd.DataFrame(data)\n",
    "print(df)"
   ]
  },
  {
   "cell_type": "code",
   "execution_count": 98,
   "id": "6567fbef",
   "metadata": {},
   "outputs": [
    {
     "data": {
      "text/plain": [
       "array([2.75, 2.5 , 2.5 , 2.5 , 2.5 , 2.5 , 2.5 , 2.25, 2.25, 2.25, 2.  ,\n",
       "       2.  , 2.  , 1.75, 1.75, 1.75, 1.75, 1.75, 1.75, 1.75, 1.75, 1.75,\n",
       "       1.75, 1.75])"
      ]
     },
     "execution_count": 98,
     "metadata": {},
     "output_type": "execute_result"
    }
   ],
   "source": [
    "interest_rate=df['interest_rate'].to_numpy()\n",
    "interest_rate"
   ]
  },
  {
   "cell_type": "code",
   "execution_count": 99,
   "id": "6b61cb46",
   "metadata": {},
   "outputs": [
    {
     "data": {
      "text/plain": [
       "array([1464, 1394, 1357, 1293, 1256, 1254, 1234, 1195, 1159, 1167, 1130,\n",
       "       1075, 1047,  965,  943,  958,  971,  949,  884,  866,  876,  822,\n",
       "        704,  719], dtype=int64)"
      ]
     },
     "execution_count": 99,
     "metadata": {},
     "output_type": "execute_result"
    }
   ],
   "source": [
    "index_price=df['index_price'].to_numpy()\n",
    "index_price"
   ]
  },
  {
   "cell_type": "markdown",
   "id": "4dbf05a8",
   "metadata": {},
   "source": [
    "## 선형 회귀 : 이자율과 물가지수 상관관계 분석\n",
    "- 물가지수와 이자율 산점도 및 선형 회귀 분석"
   ]
  },
  {
   "cell_type": "code",
   "execution_count": 100,
   "id": "b96214d4",
   "metadata": {},
   "outputs": [],
   "source": [
    "from sklearn.model_selection import train_test_split\n",
    "\n",
    "train_input, test_input, train_target, test_target=train_test_split(\n",
    "interest_rate, index_price, random_state=42)"
   ]
  },
  {
   "cell_type": "code",
   "execution_count": 101,
   "id": "306e8b37",
   "metadata": {},
   "outputs": [
    {
     "name": "stdout",
     "output_type": "stream",
     "text": [
      "(18,) (6,)\n"
     ]
    }
   ],
   "source": [
    "print(train_input.shape, test_input.shape)"
   ]
  },
  {
   "cell_type": "code",
   "execution_count": 102,
   "id": "47482e05",
   "metadata": {},
   "outputs": [
    {
     "name": "stdout",
     "output_type": "stream",
     "text": [
      "(18, 1) (6, 1)\n"
     ]
    }
   ],
   "source": [
    "train_input=train_input.reshape(-1, 1)\n",
    "test_input=test_input.reshape(-1, 1)\n",
    "print(train_input.shape, test_input.shape)"
   ]
  },
  {
   "cell_type": "code",
   "execution_count": 103,
   "id": "8e6b1fd2",
   "metadata": {},
   "outputs": [
    {
     "name": "stdout",
     "output_type": "stream",
     "text": [
      "[574.45637584] -127.38255033557084\n"
     ]
    }
   ],
   "source": [
    "from sklearn.linear_model import LinearRegression\n",
    "\n",
    "lr=LinearRegression()\n",
    "lr.fit(train_input, train_target)\n",
    "print(lr.coef_, lr.intercept_)"
   ]
  },
  {
   "cell_type": "code",
   "execution_count": 110,
   "id": "57e0afdc",
   "metadata": {},
   "outputs": [
    {
     "data": {
      "image/png": "[encoded data removed]",
      "text/plain": [
       "<Figure size 1080x432 with 2 Axes>"
      ]
     },
     "metadata": {
      "needs_background": "light"
     },
     "output_type": "display_data"
    }
   ],
   "source": [
    "import matplotlib.pyplot as plt\n",
    "\n",
    "plt.figure(figsize=(15, 6))\n",
    "plt.subplot(1, 2, 1)\n",
    "plt.scatter(interest_rate, index_price, color='red')\n",
    "plt.grid(True)\n",
    "plt.title('Index Price vs Interest Rate')\n",
    "\n",
    "plt.subplot(1, 2, 2)\n",
    "plt.scatter(train_input, train_target)\n",
    "plt.plot([1.75, 2.5], [1.75*lr.coef_+lr.intercept_, 2.5*lr.coef_+lr.intercept_], color='red',\n",
    "        linestyle='--')\n",
    "plt.title('Index Price vs Interest Rate')\n",
    "plt.show()"
   ]
  },
  {
   "cell_type": "code",
   "execution_count": 91,
   "id": "e8d57bf2",
   "metadata": {},
   "outputs": [
    {
     "name": "stdout",
     "output_type": "stream",
     "text": [
      "train data score : 0.8541859618501457\n",
      "test data score : 0.941892392945057\n"
     ]
    }
   ],
   "source": [
    "print('train data score :', lr.score(train_input, train_target))\n",
    "print('test data score :', lr.score(test_input, test_target))"
   ]
  },
  {
   "cell_type": "markdown",
   "id": "a5fbc6c8",
   "metadata": {},
   "source": [
    "## 다항 회귀 : 이자율과 물가지수 상관관계 분석"
   ]
  },
  {
   "cell_type": "code",
   "execution_count": 92,
   "id": "d709d990",
   "metadata": {},
   "outputs": [
    {
     "name": "stdout",
     "output_type": "stream",
     "text": [
      "[[3.0625 1.75  ]\n",
      " [6.25   2.5   ]\n",
      " [3.0625 1.75  ]\n",
      " [6.25   2.5   ]\n",
      " [6.25   2.5   ]]\n",
      "(18, 2) (6, 2)\n"
     ]
    }
   ],
   "source": [
    "import numpy as np\n",
    "train_poly=np.column_stack((train_input**2, train_input))\n",
    "test_poly=np.column_stack((test_input**2, test_input))\n",
    "\n",
    "print(train_poly[:5])\n",
    "print(train_poly.shape, test_poly.shape)"
   ]
  },
  {
   "cell_type": "code",
   "execution_count": 93,
   "id": "780f62fd",
   "metadata": {},
   "outputs": [
    {
     "name": "stdout",
     "output_type": "stream",
     "text": [
      "[-524.84946237 2802.42473118] -2429.1028225806517\n"
     ]
    }
   ],
   "source": [
    "lr=LinearRegression()\n",
    "lr.fit(train_poly, train_target)\n",
    "\n",
    "print(lr.coef_, lr.intercept_)"
   ]
  },
  {
   "cell_type": "code",
   "execution_count": 95,
   "id": "1dab6dce",
   "metadata": {},
   "outputs": [
    {
     "data": {
      "image/png": "[encoded data removed]",
      "text/plain": [
       "<Figure size 432x288 with 1 Axes>"
      ]
     },
     "metadata": {
      "needs_background": "light"
     },
     "output_type": "display_data"
    }
   ],
   "source": [
    "point=np.arange(1.75, 2.551, 0.1)\n",
    "plt.scatter(train_input, train_target)\n",
    "plt.plot(point, -524.8*point**2 + 2802.4*point -2429.1,\n",
    "        color='red', linestyle='--')\n",
    "plt.show()"
   ]
  },
  {
   "cell_type": "code",
   "execution_count": 65,
   "id": "265616e5",
   "metadata": {},
   "outputs": [
    {
     "name": "stdout",
     "output_type": "stream",
     "text": [
      "다항 회귀 train data score : 0.8676269364555872\n",
      "다항 회귀 test data score : 0.7945265214367343\n"
     ]
    }
   ],
   "source": [
    "print('다항 회귀 train data score :', lr.score(train_poly, train_target))\n",
    "print('다항 회귀 test data score :', lr.score(test_poly, test_target))"
   ]
  },
  {
   "cell_type": "markdown",
   "id": "1bcd00ea",
   "metadata": {},
   "source": [
    "## 선형 회귀 : 실업률과 물가지수 상관관계 분석\n",
    "- 실업률과 물가지수 산점도 및 선형회귀분석"
   ]
  },
  {
   "cell_type": "code",
   "execution_count": 112,
   "id": "99a4cd2f",
   "metadata": {},
   "outputs": [
    {
     "data": {
      "text/plain": [
       "array([5.3, 5.3, 5.3, 5.3, 5.4, 5.6, 5.5, 5.5, 5.5, 5.6, 5.7, 5.9, 6. ,\n",
       "       5.9, 5.8, 6.1, 6.2, 6.1, 6.1, 6.1, 5.9, 6.2, 6.2, 6.1])"
      ]
     },
     "execution_count": 112,
     "metadata": {},
     "output_type": "execute_result"
    }
   ],
   "source": [
    "unemployment_rate=df['unemployment_rate'].to_numpy()\n",
    "unemployment_rate"
   ]
  },
  {
   "cell_type": "code",
   "execution_count": 137,
   "id": "d38392ce",
   "metadata": {},
   "outputs": [],
   "source": [
    "train_input, test_input, train_target, test_target=train_test_split(\n",
    "unemployment_rate, index_price, random_state=42)"
   ]
  },
  {
   "cell_type": "code",
   "execution_count": 138,
   "id": "b3fe2415",
   "metadata": {},
   "outputs": [
    {
     "name": "stdout",
     "output_type": "stream",
     "text": [
      "(18, 1) (6, 1)\n"
     ]
    }
   ],
   "source": [
    "train_input=train_input.reshape(-1, 1)\n",
    "test_input=test_input.reshape(-1, 1)\n",
    "\n",
    "print(train_input.shape, test_input.shape)"
   ]
  },
  {
   "cell_type": "code",
   "execution_count": 139,
   "id": "4df211d4",
   "metadata": {},
   "outputs": [
    {
     "name": "stdout",
     "output_type": "stream",
     "text": [
      "[-611.41330166] 4586.05463182898\n"
     ]
    }
   ],
   "source": [
    "lr.fit(train_input, train_target)\n",
    "print(lr.coef_, lr.intercept_)"
   ]
  },
  {
   "cell_type": "code",
   "execution_count": 140,
   "id": "f4ad94ad",
   "metadata": {},
   "outputs": [
    {
     "data": {
      "image/png": "[encoded data removed]",
      "text/plain": [
       "<Figure size 1008x324 with 2 Axes>"
      ]
     },
     "metadata": {
      "needs_background": "light"
     },
     "output_type": "display_data"
    }
   ],
   "source": [
    "plt.figure(figsize=(14, 4.5))\n",
    "\n",
    "plt.subplot(1, 2, 1)\n",
    "plt.scatter(unemployment_rate, index_price, color='green')\n",
    "plt.grid(True)\n",
    "plt.title('Index Price vs Unemployment Rate')\n",
    "\n",
    "plt.subplot(1, 2, 2)\n",
    "plt.scatter(train_input, train_target)\n",
    "plt.plot([5.3, 6.2], [5.3*lr.coef_+lr.intercept_, 6.2*lr.coef_+lr.intercept_],\n",
    "        color='red', linestyle='--')\n",
    "plt.title('Unemployment Rate vs. Index Price')\n",
    "plt.show()"
   ]
  },
  {
   "cell_type": "code",
   "execution_count": 141,
   "id": "cb7a7e86",
   "metadata": {},
   "outputs": [
    {
     "name": "stdout",
     "output_type": "stream",
     "text": [
      "train data score : 0.8748908875163574\n",
      "test data score : 0.707475113377226\n"
     ]
    }
   ],
   "source": [
    "print('train data score :', lr.score(train_input, train_target))\n",
    "print('test data score :', lr.score(test_input, test_target))"
   ]
  },
  {
   "cell_type": "markdown",
   "id": "c688d336",
   "metadata": {},
   "source": [
    "## 다항 회귀 : 실업률과 물가지수 상관관계 분석"
   ]
  },
  {
   "cell_type": "code",
   "execution_count": 142,
   "id": "9aaed205",
   "metadata": {},
   "outputs": [
    {
     "name": "stdout",
     "output_type": "stream",
     "text": [
      "(18, 2) (6, 2)\n"
     ]
    }
   ],
   "source": [
    "train_poly=np.column_stack((train_input**2, train_input))\n",
    "test_poly=np.column_stack((test_input**2, test_input))\n",
    "print(train_poly.shape, test_poly.shape)"
   ]
  },
  {
   "cell_type": "code",
   "execution_count": 143,
   "id": "0460d89f",
   "metadata": {},
   "outputs": [
    {
     "name": "stdout",
     "output_type": "stream",
     "text": [
      "[  -7.26428138 -527.97932022] 4347.248197109266\n"
     ]
    }
   ],
   "source": [
    "lr.fit(train_poly, train_target)\n",
    "print(lr.coef_, lr.intercept_)"
   ]
  },
  {
   "cell_type": "code",
   "execution_count": 144,
   "id": "e832fa8e",
   "metadata": {},
   "outputs": [
    {
     "data": {
      "text/plain": [
       "-7.264281380247555"
      ]
     },
     "execution_count": 144,
     "metadata": {},
     "output_type": "execute_result"
    }
   ],
   "source": [
    "lr.coef_[0]"
   ]
  },
  {
   "cell_type": "code",
   "execution_count": 145,
   "id": "8e87e7a0",
   "metadata": {},
   "outputs": [
    {
     "data": {
      "image/png": "[encoded data removed]",
      "text/plain": [
       "<Figure size 432x288 with 1 Axes>"
      ]
     },
     "metadata": {
      "needs_background": "light"
     },
     "output_type": "display_data"
    }
   ],
   "source": [
    "point=np.arange(5.3, 6.2, 0.1)\n",
    "plt.scatter(train_input, train_target)\n",
    "plt.plot(point, lr.coef_[0]*point**2 + lr.coef_[1]*point + lr.intercept_,\n",
    "        color='red', linestyle='--')\n",
    "plt.show()"
   ]
  }
 ],
 "metadata": {
  "kernelspec": {
   "display_name": "Python 3 (ipykernel)",
   "language": "python",
   "name": "python3"
  },
  "language_info": {
   "codemirror_mode": {
    "name": "ipython",
    "version": 3
   },
   "file_extension": ".py",
   "mimetype": "text/x-python",
   "name": "python",
   "nbconvert_exporter": "python",
   "pygments_lexer": "ipython3",
   "version": "3.9.12"
  }
 },
 "nbformat": 4,
 "nbformat_minor": 5
}
