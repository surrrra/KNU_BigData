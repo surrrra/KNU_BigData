{
 "cells": [
  {
   "cell_type": "markdown",
   "id": "9fba93fd",
   "metadata": {},
   "source": [
    "### 교차 검증(Corss Validation)\n",
    "---\n",
    "- 데이터셋 부족에 대한 과소적합 해결\n",
    "- 테스트 데이터셋에 대한 과대적합(Overfitting) 해결\n",
    "- cross_validate() 함수 사용\n",
    "    * 기본값 cv = 5-Fold ==> 모델이 5개"
   ]
  },
  {
   "cell_type": "code",
   "execution_count": 1,
   "id": "94c21b23",
   "metadata": {},
   "outputs": [],
   "source": [
    "from sklearn.model_selection import cross_validate\n",
    "from sklearn.datasets import load_iris\n",
    "from sklearn.linear_model import LogisticRegression\n",
    "import numpy as np"
   ]
  },
  {
   "cell_type": "code",
   "execution_count": 4,
   "id": "bd99cc33",
   "metadata": {},
   "outputs": [],
   "source": [
    "# 데이터 준비 ------------------------------------\n",
    "data=load_iris()\n",
    "input_data=data['data']\n",
    "input_target=data['target']"
   ]
  },
  {
   "cell_type": "code",
   "execution_count": 5,
   "id": "49a66dc5",
   "metadata": {},
   "outputs": [
    {
     "data": {
      "text/plain": [
       "((150, 4), (150,))"
      ]
     },
     "execution_count": 5,
     "metadata": {},
     "output_type": "execute_result"
    }
   ],
   "source": [
    "input_data.shape, input_target.shape"
   ]
  },
  {
   "cell_type": "code",
   "execution_count": 10,
   "id": "2ad10220",
   "metadata": {},
   "outputs": [],
   "source": [
    "# 모델 객체 생성\n",
    "model=LogisticRegression(max_iter=500)"
   ]
  },
  {
   "cell_type": "code",
   "execution_count": 13,
   "id": "ca742622",
   "metadata": {},
   "outputs": [
    {
     "data": {
      "text/plain": [
       "{'fit_time': array([0.02712941, 0.02001595, 0.02122045, 0.02097082, 0.01995373,\n",
       "        0.02214479, 0.02194071, 0.01604939, 0.02094364, 0.01894927]),\n",
       " 'score_time': array([0.        , 0.        , 0.        , 0.        , 0.00099659,\n",
       "        0.        , 0.        , 0.        , 0.        , 0.        ]),\n",
       " 'test_score': array([1.        , 0.93333333, 1.        , 1.        , 0.93333333,\n",
       "        0.93333333, 0.93333333, 1.        , 1.        , 1.        ]),\n",
       " 'train_score': array([0.97037037, 0.97777778, 0.97037037, 0.97037037, 0.97777778,\n",
       "        0.97777778, 0.98518519, 0.97037037, 0.97037037, 0.97777778])}"
      ]
     },
     "execution_count": 13,
     "metadata": {},
     "output_type": "execute_result"
    }
   ],
   "source": [
    "# 5-Fold로 5등분으로 나누어서 학습/검증 모델 생성 진행\n",
    "result=cross_validate(model, \n",
    "                      input_data, input_target, \n",
    "                      return_train_score=True,\n",
    "                     cv=10)\n",
    "result"
   ]
  },
  {
   "cell_type": "code",
   "execution_count": 14,
   "id": "356c570e",
   "metadata": {},
   "outputs": [
    {
     "data": {
      "text/plain": [
       "0.9733333333333334"
      ]
     },
     "execution_count": 14,
     "metadata": {},
     "output_type": "execute_result"
    }
   ],
   "source": [
    "result['test_score'].mean()"
   ]
  },
  {
   "cell_type": "code",
   "execution_count": null,
   "id": "eef1479a",
   "metadata": {},
   "outputs": [],
   "source": []
  }
 ],
 "metadata": {
  "kernelspec": {
   "display_name": "Python 3 (ipykernel)",
   "language": "python",
   "name": "python3"
  },
  "language_info": {
   "codemirror_mode": {
    "name": "ipython",
    "version": 3
   },
   "file_extension": ".py",
   "mimetype": "text/x-python",
   "name": "python",
   "nbconvert_exporter": "python",
   "pygments_lexer": "ipython3",
   "version": "3.9.12"
  }
 },
 "nbformat": 4,
 "nbformat_minor": 5
}
