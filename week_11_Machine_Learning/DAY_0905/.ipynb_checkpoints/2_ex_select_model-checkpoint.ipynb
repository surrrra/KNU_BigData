{
 "cells": [
  {
   "cell_type": "markdown",
   "id": "1d32d554",
   "metadata": {},
   "source": [
    "### Sklearn 모델 추천 함수 활용\n",
    "---\n",
    "- sklearn.utils 모듈의 all_estimators(type_filter)\n",
    "    * type_filter 파라미터 : 'classifier', 'regressor' 지정\n",
    "    * 반환 : 해당 타입의 모델 리스트 => 모델 이름, 모델 객체"
   ]
  },
  {
   "cell_type": "code",
   "execution_count": 3,
   "id": "2b8466d3",
   "metadata": {},
   "outputs": [],
   "source": [
    "# 모듈 로딩\n",
    "from sklearn.utils import all_estimators\n",
    "from sklearn.datasets import load_iris\n",
    "from sklearn.model_selection import train_test_split\n",
    "import numpy as np"
   ]
  },
  {
   "cell_type": "markdown",
   "id": "34e44f07",
   "metadata": {},
   "source": [
    "### [1] 데이터 로딩 및 확인\n",
    "---"
   ]
  },
  {
   "cell_type": "code",
   "execution_count": 9,
   "id": "8df19a86",
   "metadata": {},
   "outputs": [],
   "source": [
    "# Bunch 데이터 타입 => dict와 유사한 형태\n",
    "data=load_iris()"
   ]
  },
  {
   "cell_type": "code",
   "execution_count": 10,
   "id": "37c411ad",
   "metadata": {},
   "outputs": [
    {
     "data": {
      "text/plain": [
       "dict_keys(['data', 'target', 'frame', 'target_names', 'DESCR', 'feature_names', 'filename', 'data_module'])"
      ]
     },
     "execution_count": 10,
     "metadata": {},
     "output_type": "execute_result"
    }
   ],
   "source": [
    "data.keys()"
   ]
  },
  {
   "cell_type": "code",
   "execution_count": 11,
   "id": "e84f81a7",
   "metadata": {},
   "outputs": [],
   "source": [
    "# data, target ==> numpy 타입\n",
    "# target_names ==> 라벨 --> setosa, versicolor, verginica\n",
    "# feature_names ==> 컬럼명 --> sepal_length, sepal_width, petal_length, petal_width\n",
    "input_data=data['data']\n",
    "input_target=data['target']"
   ]
  },
  {
   "cell_type": "code",
   "execution_count": 12,
   "id": "ed7a3cfd",
   "metadata": {},
   "outputs": [
    {
     "data": {
      "text/plain": [
       "((150, 4), (150,))"
      ]
     },
     "execution_count": 12,
     "metadata": {},
     "output_type": "execute_result"
    }
   ],
   "source": [
    "input_data.shape, input_target.shape"
   ]
  },
  {
   "cell_type": "markdown",
   "id": "a0d2fd05",
   "metadata": {},
   "source": [
    "### [2] 학습 데이터 분리\n",
    "---"
   ]
  },
  {
   "cell_type": "code",
   "execution_count": 18,
   "id": "8f2dd682",
   "metadata": {},
   "outputs": [],
   "source": [
    "# 학습-테스트 데이터셋 80:20\n",
    "train_X, test_X, train_y, test_y=train_test_split(\n",
    "input_data, input_target, test_size=0.2)"
   ]
  },
  {
   "cell_type": "code",
   "execution_count": 19,
   "id": "02e3ae3c",
   "metadata": {},
   "outputs": [],
   "source": [
    "# 학습-검증용 데이터셋\n",
    "train_X, val_X, train_y, val_y=train_test_split(\n",
    "train_X, train_y, test_size=0.2)"
   ]
  },
  {
   "cell_type": "markdown",
   "id": "e2aa24c5",
   "metadata": {},
   "source": [
    "### [3] 학습\n",
    "---\n",
    "- 학습 방법 선정 => 분류 / 회귀\n",
    "    * 분류 => knn, LogisticRegression, DecisionTree SGDClassifier, SVC...\n",
    "    * 분류 모델 적용 후 결과 => all_estimators()"
   ]
  },
  {
   "cell_type": "code",
   "execution_count": 20,
   "id": "87a1e91e",
   "metadata": {
    "scrolled": true
   },
   "outputs": [
    {
     "data": {
      "text/plain": [
       "[('AdaBoostClassifier', sklearn.ensemble._weight_boosting.AdaBoostClassifier),\n",
       " ('BaggingClassifier', sklearn.ensemble._bagging.BaggingClassifier),\n",
       " ('BernoulliNB', sklearn.naive_bayes.BernoulliNB),\n",
       " ('CalibratedClassifierCV', sklearn.calibration.CalibratedClassifierCV),\n",
       " ('CategoricalNB', sklearn.naive_bayes.CategoricalNB),\n",
       " ('ClassifierChain', sklearn.multioutput.ClassifierChain),\n",
       " ('ComplementNB', sklearn.naive_bayes.ComplementNB),\n",
       " ('DecisionTreeClassifier', sklearn.tree._classes.DecisionTreeClassifier),\n",
       " ('DummyClassifier', sklearn.dummy.DummyClassifier),\n",
       " ('ExtraTreeClassifier', sklearn.tree._classes.ExtraTreeClassifier),\n",
       " ('ExtraTreesClassifier', sklearn.ensemble._forest.ExtraTreesClassifier),\n",
       " ('GaussianNB', sklearn.naive_bayes.GaussianNB),\n",
       " ('GaussianProcessClassifier',\n",
       "  sklearn.gaussian_process._gpc.GaussianProcessClassifier),\n",
       " ('GradientBoostingClassifier',\n",
       "  sklearn.ensemble._gb.GradientBoostingClassifier),\n",
       " ('HistGradientBoostingClassifier',\n",
       "  sklearn.ensemble._hist_gradient_boosting.gradient_boosting.HistGradientBoostingClassifier),\n",
       " ('KNeighborsClassifier',\n",
       "  sklearn.neighbors._classification.KNeighborsClassifier),\n",
       " ('LabelPropagation',\n",
       "  sklearn.semi_supervised._label_propagation.LabelPropagation),\n",
       " ('LabelSpreading', sklearn.semi_supervised._label_propagation.LabelSpreading),\n",
       " ('LinearDiscriminantAnalysis',\n",
       "  sklearn.discriminant_analysis.LinearDiscriminantAnalysis),\n",
       " ('LinearSVC', sklearn.svm._classes.LinearSVC),\n",
       " ('LogisticRegression', sklearn.linear_model._logistic.LogisticRegression),\n",
       " ('LogisticRegressionCV', sklearn.linear_model._logistic.LogisticRegressionCV),\n",
       " ('MLPClassifier',\n",
       "  sklearn.neural_network._multilayer_perceptron.MLPClassifier),\n",
       " ('MultiOutputClassifier', sklearn.multioutput.MultiOutputClassifier),\n",
       " ('MultinomialNB', sklearn.naive_bayes.MultinomialNB),\n",
       " ('NearestCentroid', sklearn.neighbors._nearest_centroid.NearestCentroid),\n",
       " ('NuSVC', sklearn.svm._classes.NuSVC),\n",
       " ('OneVsOneClassifier', sklearn.multiclass.OneVsOneClassifier),\n",
       " ('OneVsRestClassifier', sklearn.multiclass.OneVsRestClassifier),\n",
       " ('OutputCodeClassifier', sklearn.multiclass.OutputCodeClassifier),\n",
       " ('PassiveAggressiveClassifier',\n",
       "  sklearn.linear_model._passive_aggressive.PassiveAggressiveClassifier),\n",
       " ('Perceptron', sklearn.linear_model._perceptron.Perceptron),\n",
       " ('QuadraticDiscriminantAnalysis',\n",
       "  sklearn.discriminant_analysis.QuadraticDiscriminantAnalysis),\n",
       " ('RadiusNeighborsClassifier',\n",
       "  sklearn.neighbors._classification.RadiusNeighborsClassifier),\n",
       " ('RandomForestClassifier', sklearn.ensemble._forest.RandomForestClassifier),\n",
       " ('RidgeClassifier', sklearn.linear_model._ridge.RidgeClassifier),\n",
       " ('RidgeClassifierCV', sklearn.linear_model._ridge.RidgeClassifierCV),\n",
       " ('SGDClassifier', sklearn.linear_model._stochastic_gradient.SGDClassifier),\n",
       " ('SVC', sklearn.svm._classes.SVC),\n",
       " ('StackingClassifier', sklearn.ensemble._stacking.StackingClassifier),\n",
       " ('VotingClassifier', sklearn.ensemble._voting.VotingClassifier)]"
      ]
     },
     "execution_count": 20,
     "metadata": {},
     "output_type": "execute_result"
    }
   ],
   "source": [
    "# 필터 타입에 해당하는 sklearn에 존재하는 모든 모델 이름과 객체를 리스트로 반환\n",
    "models=all_estimators(type_filter='classifier')\n",
    "models"
   ]
  },
  {
   "cell_type": "code",
   "execution_count": 21,
   "id": "e2686b8f",
   "metadata": {},
   "outputs": [
    {
     "name": "stderr",
     "output_type": "stream",
     "text": [
      "C:\\ProgramData\\Anaconda3\\lib\\site-packages\\sklearn\\svm\\_base.py:1206: ConvergenceWarning: Liblinear failed to converge, increase the number of iterations.\n",
      "  warnings.warn(\n",
      "C:\\ProgramData\\Anaconda3\\lib\\site-packages\\sklearn\\svm\\_base.py:1206: ConvergenceWarning: Liblinear failed to converge, increase the number of iterations.\n",
      "  warnings.warn(\n",
      "C:\\ProgramData\\Anaconda3\\lib\\site-packages\\sklearn\\svm\\_base.py:1206: ConvergenceWarning: Liblinear failed to converge, increase the number of iterations.\n",
      "  warnings.warn(\n",
      "C:\\ProgramData\\Anaconda3\\lib\\site-packages\\sklearn\\svm\\_base.py:1206: ConvergenceWarning: Liblinear failed to converge, increase the number of iterations.\n",
      "  warnings.warn(\n",
      "C:\\ProgramData\\Anaconda3\\lib\\site-packages\\sklearn\\svm\\_base.py:1206: ConvergenceWarning: Liblinear failed to converge, increase the number of iterations.\n",
      "  warnings.warn(\n",
      "C:\\ProgramData\\Anaconda3\\lib\\site-packages\\sklearn\\svm\\_base.py:1206: ConvergenceWarning: Liblinear failed to converge, increase the number of iterations.\n",
      "  warnings.warn(\n",
      "C:\\ProgramData\\Anaconda3\\lib\\site-packages\\sklearn\\linear_model\\_logistic.py:814: ConvergenceWarning: lbfgs failed to converge (status=1):\n",
      "STOP: TOTAL NO. of ITERATIONS REACHED LIMIT.\n",
      "\n",
      "Increase the number of iterations (max_iter) or scale the data as shown in:\n",
      "    https://scikit-learn.org/stable/modules/preprocessing.html\n",
      "Please also refer to the documentation for alternative solver options:\n",
      "    https://scikit-learn.org/stable/modules/linear_model.html#logistic-regression\n",
      "  n_iter_i = _check_optimize_result(\n",
      "C:\\ProgramData\\Anaconda3\\lib\\site-packages\\sklearn\\linear_model\\_logistic.py:814: ConvergenceWarning: lbfgs failed to converge (status=1):\n",
      "STOP: TOTAL NO. of ITERATIONS REACHED LIMIT.\n",
      "\n",
      "Increase the number of iterations (max_iter) or scale the data as shown in:\n",
      "    https://scikit-learn.org/stable/modules/preprocessing.html\n",
      "Please also refer to the documentation for alternative solver options:\n",
      "    https://scikit-learn.org/stable/modules/linear_model.html#logistic-regression\n",
      "  n_iter_i = _check_optimize_result(\n",
      "C:\\ProgramData\\Anaconda3\\lib\\site-packages\\sklearn\\linear_model\\_logistic.py:814: ConvergenceWarning: lbfgs failed to converge (status=1):\n",
      "STOP: TOTAL NO. of ITERATIONS REACHED LIMIT.\n",
      "\n",
      "Increase the number of iterations (max_iter) or scale the data as shown in:\n",
      "    https://scikit-learn.org/stable/modules/preprocessing.html\n",
      "Please also refer to the documentation for alternative solver options:\n",
      "    https://scikit-learn.org/stable/modules/linear_model.html#logistic-regression\n",
      "  n_iter_i = _check_optimize_result(\n",
      "C:\\ProgramData\\Anaconda3\\lib\\site-packages\\sklearn\\linear_model\\_logistic.py:814: ConvergenceWarning: lbfgs failed to converge (status=1):\n",
      "STOP: TOTAL NO. of ITERATIONS REACHED LIMIT.\n",
      "\n",
      "Increase the number of iterations (max_iter) or scale the data as shown in:\n",
      "    https://scikit-learn.org/stable/modules/preprocessing.html\n",
      "Please also refer to the documentation for alternative solver options:\n",
      "    https://scikit-learn.org/stable/modules/linear_model.html#logistic-regression\n",
      "  n_iter_i = _check_optimize_result(\n",
      "C:\\ProgramData\\Anaconda3\\lib\\site-packages\\sklearn\\linear_model\\_logistic.py:814: ConvergenceWarning: lbfgs failed to converge (status=1):\n",
      "STOP: TOTAL NO. of ITERATIONS REACHED LIMIT.\n",
      "\n",
      "Increase the number of iterations (max_iter) or scale the data as shown in:\n",
      "    https://scikit-learn.org/stable/modules/preprocessing.html\n",
      "Please also refer to the documentation for alternative solver options:\n",
      "    https://scikit-learn.org/stable/modules/linear_model.html#logistic-regression\n",
      "  n_iter_i = _check_optimize_result(\n",
      "C:\\ProgramData\\Anaconda3\\lib\\site-packages\\sklearn\\linear_model\\_logistic.py:814: ConvergenceWarning: lbfgs failed to converge (status=1):\n",
      "STOP: TOTAL NO. of ITERATIONS REACHED LIMIT.\n",
      "\n",
      "Increase the number of iterations (max_iter) or scale the data as shown in:\n",
      "    https://scikit-learn.org/stable/modules/preprocessing.html\n",
      "Please also refer to the documentation for alternative solver options:\n",
      "    https://scikit-learn.org/stable/modules/linear_model.html#logistic-regression\n",
      "  n_iter_i = _check_optimize_result(\n",
      "C:\\ProgramData\\Anaconda3\\lib\\site-packages\\sklearn\\neural_network\\_multilayer_perceptron.py:692: ConvergenceWarning: Stochastic Optimizer: Maximum iterations (200) reached and the optimization hasn't converged yet.\n",
      "  warnings.warn(\n"
     ]
    }
   ],
   "source": [
    "scores=[]\n",
    "\n",
    "for name, model in models:\n",
    "    try:\n",
    "        # 모델 객체 생성\n",
    "        md=model()\n",
    "        # 학습\n",
    "        md.fit(train_X, train_y)\n",
    "        # 평가\n",
    "        result=md.score(test_X, test_y)\n",
    "        scores.append((name, result))\n",
    "        \n",
    "    except:\n",
    "        pass"
   ]
  },
  {
   "cell_type": "code",
   "execution_count": 22,
   "id": "5cc1765c",
   "metadata": {},
   "outputs": [
    {
     "data": {
      "text/plain": [
       "[('AdaBoostClassifier', 1.0),\n",
       " ('BaggingClassifier', 0.9666666666666667),\n",
       " ('BernoulliNB', 0.26666666666666666),\n",
       " ('CalibratedClassifierCV', 0.9666666666666667),\n",
       " ('CategoricalNB', 0.9666666666666667),\n",
       " ('ComplementNB', 0.6666666666666666),\n",
       " ('DecisionTreeClassifier', 1.0),\n",
       " ('DummyClassifier', 0.26666666666666666),\n",
       " ('ExtraTreeClassifier', 0.9666666666666667),\n",
       " ('ExtraTreesClassifier', 1.0),\n",
       " ('GaussianNB', 0.9666666666666667),\n",
       " ('GaussianProcessClassifier', 1.0),\n",
       " ('GradientBoostingClassifier', 0.9666666666666667),\n",
       " ('HistGradientBoostingClassifier', 1.0),\n",
       " ('KNeighborsClassifier', 1.0),\n",
       " ('LabelPropagation', 1.0),\n",
       " ('LabelSpreading', 1.0),\n",
       " ('LinearDiscriminantAnalysis', 1.0),\n",
       " ('LinearSVC', 0.9666666666666667),\n",
       " ('LogisticRegression', 1.0),\n",
       " ('LogisticRegressionCV', 1.0),\n",
       " ('MLPClassifier', 1.0),\n",
       " ('MultinomialNB', 0.7),\n",
       " ('NearestCentroid', 0.9666666666666667),\n",
       " ('NuSVC', 1.0),\n",
       " ('PassiveAggressiveClassifier', 0.8666666666666667),\n",
       " ('Perceptron', 0.9333333333333333),\n",
       " ('QuadraticDiscriminantAnalysis', 1.0),\n",
       " ('RadiusNeighborsClassifier', 0.9666666666666667),\n",
       " ('RandomForestClassifier', 1.0),\n",
       " ('RidgeClassifier', 0.9),\n",
       " ('RidgeClassifierCV', 0.9),\n",
       " ('SGDClassifier', 0.6666666666666666),\n",
       " ('SVC', 1.0)]"
      ]
     },
     "execution_count": 22,
     "metadata": {},
     "output_type": "execute_result"
    }
   ],
   "source": [
    "scores"
   ]
  },
  {
   "cell_type": "code",
   "execution_count": null,
   "id": "7b1fe7dc",
   "metadata": {},
   "outputs": [],
   "source": []
  }
 ],
 "metadata": {
  "kernelspec": {
   "display_name": "Python 3 (ipykernel)",
   "language": "python",
   "name": "python3"
  },
  "language_info": {
   "codemirror_mode": {
    "name": "ipython",
    "version": 3
   },
   "file_extension": ".py",
   "mimetype": "text/x-python",
   "name": "python",
   "nbconvert_exporter": "python",
   "pygments_lexer": "ipython3",
   "version": "3.9.12"
  }
 },
 "nbformat": 4,
 "nbformat_minor": 5
}
