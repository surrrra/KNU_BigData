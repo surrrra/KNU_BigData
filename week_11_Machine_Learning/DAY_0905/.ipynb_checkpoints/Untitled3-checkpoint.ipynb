{
 "cells": [
  {
   "cell_type": "code",
   "execution_count": 1,
   "id": "602df9f8",
   "metadata": {},
   "outputs": [],
   "source": [
    "from sklearn.model_selection import cross_val_score, cross_validate, KFold\n",
    "from sklearn.model_selection import GridSearchCV\n",
    "from sklearn.ensemble import RandomForestClassifier\n",
    "from sklearn.utils import all_estimators\n",
    "from sklearn.linear_model import SGDClassifier, LogisticRegression\n",
    "from sklearn.svm import SVC\n",
    "import matplotlib.pyplot as plt\n",
    "import pandas as pd\n",
    "import numpy as np"
   ]
  },
  {
   "cell_type": "code",
   "execution_count": 2,
   "id": "ae4b9041",
   "metadata": {},
   "outputs": [],
   "source": [
    "import tensorflow as tf\n",
    "data=tf.keras.datasets.fashion_mnist.load_data()\n",
    "x_train=data[0][0]\n",
    "y_train=data[0][1]\n",
    "x_test=data[1][0]\n",
    "y_test=data[1][1]"
   ]
  },
  {
   "cell_type": "code",
   "execution_count": 3,
   "id": "352ff46f",
   "metadata": {},
   "outputs": [],
   "source": [
    "x_train=x_train.reshape(-1, 28**2)\n",
    "x_test=x_test.reshape(-1, 28**2)"
   ]
  },
  {
   "cell_type": "code",
   "execution_count": 49,
   "id": "cee08adf",
   "metadata": {},
   "outputs": [],
   "source": [
    "np.random.seed(1004)\n",
    "num=np.random.choice(60000, 10000, replace=True)"
   ]
  },
  {
   "cell_type": "code",
   "execution_count": 61,
   "id": "f00aa838",
   "metadata": {},
   "outputs": [],
   "source": [
    "model=RandomForestClassifier(max_depth=14)"
   ]
  },
  {
   "cell_type": "code",
   "execution_count": 62,
   "id": "7ebe849e",
   "metadata": {},
   "outputs": [
    {
     "data": {
      "text/plain": [
       "RandomForestClassifier(max_depth=14)"
      ]
     },
     "execution_count": 62,
     "metadata": {},
     "output_type": "execute_result"
    }
   ],
   "source": [
    "model.fit(x_train[num], y_train[num])"
   ]
  },
  {
   "cell_type": "code",
   "execution_count": 63,
   "id": "867c26cc",
   "metadata": {},
   "outputs": [
    {
     "name": "stdout",
     "output_type": "stream",
     "text": [
      "0.9876\n",
      "0.8455\n"
     ]
    }
   ],
   "source": [
    "print(model.score(x_train[num], y_train[num]))\n",
    "print(model.score(x_test, y_test))"
   ]
  },
  {
   "cell_type": "code",
   "execution_count": null,
   "id": "0dee8bfd",
   "metadata": {},
   "outputs": [],
   "source": []
  },
  {
   "cell_type": "code",
   "execution_count": null,
   "id": "a720c6f9",
   "metadata": {},
   "outputs": [],
   "source": []
  },
  {
   "cell_type": "code",
   "execution_count": 59,
   "id": "8c3cdc2c",
   "metadata": {},
   "outputs": [
    {
     "name": "stdout",
     "output_type": "stream",
     "text": [
      "Fitting 5 folds for each of 7 candidates, totalling 35 fits\n"
     ]
    },
    {
     "data": {
      "text/plain": [
       "GridSearchCV(estimator=RandomForestClassifier(),\n",
       "             param_grid={'max_depth': [8, 9, 10, 11, 12, 13, 14]}, verbose=1)"
      ]
     },
     "execution_count": 59,
     "metadata": {},
     "output_type": "execute_result"
    }
   ],
   "source": [
    "params={'max_depth':[8, 9, 10, 11, 12, 13, 14]}\n",
    "dtc=RandomForestClassifier()\n",
    "grid_tree=GridSearchCV(dtc, param_grid=params, refit=True, verbose=1)\n",
    "grid_tree.fit(x_train[num], y_train[num])"
   ]
  },
  {
   "cell_type": "code",
   "execution_count": 60,
   "id": "d5152900",
   "metadata": {},
   "outputs": [
    {
     "name": "stdout",
     "output_type": "stream",
     "text": [
      "best parameters : {'max_depth': 14}\n",
      "best score : 0.8734999999999999\n"
     ]
    }
   ],
   "source": [
    "print('best parameters :', grid_tree.best_params_)\n",
    "print('best score :', grid_tree.best_score_)\n",
    "em=grid_tree.best_estimator_"
   ]
  },
  {
   "cell_type": "code",
   "execution_count": null,
   "id": "61a8ef43",
   "metadata": {},
   "outputs": [],
   "source": []
  },
  {
   "cell_type": "code",
   "execution_count": 30,
   "id": "1d982ee5",
   "metadata": {},
   "outputs": [
    {
     "data": {
      "text/plain": [
       "(60000, 784)"
      ]
     },
     "execution_count": 30,
     "metadata": {},
     "output_type": "execute_result"
    }
   ],
   "source": [
    "x_train.shape"
   ]
  },
  {
   "cell_type": "code",
   "execution_count": 36,
   "id": "f08e1b51",
   "metadata": {},
   "outputs": [
    {
     "data": {
      "text/plain": [
       "(10000, 784)"
      ]
     },
     "execution_count": 36,
     "metadata": {},
     "output_type": "execute_result"
    }
   ],
   "source": [
    "x_test.shape"
   ]
  },
  {
   "cell_type": "code",
   "execution_count": 37,
   "id": "f2cdcaa3",
   "metadata": {},
   "outputs": [
    {
     "data": {
      "text/plain": [
       "(10000,)"
      ]
     },
     "execution_count": 37,
     "metadata": {},
     "output_type": "execute_result"
    }
   ],
   "source": [
    "y_test.shape"
   ]
  },
  {
   "cell_type": "code",
   "execution_count": null,
   "id": "c53fdf1d",
   "metadata": {},
   "outputs": [],
   "source": [
    "np.random.choice()"
   ]
  }
 ],
 "metadata": {
  "kernelspec": {
   "display_name": "Python 3 (ipykernel)",
   "language": "python",
   "name": "python3"
  },
  "language_info": {
   "codemirror_mode": {
    "name": "ipython",
    "version": 3
   },
   "file_extension": ".py",
   "mimetype": "text/x-python",
   "name": "python",
   "nbconvert_exporter": "python",
   "pygments_lexer": "ipython3",
   "version": "3.9.12"
  }
 },
 "nbformat": 4,
 "nbformat_minor": 5
}
