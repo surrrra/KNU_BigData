{
 "cells": [
  {
   "cell_type": "markdown",
   "id": "54e60fa8",
   "metadata": {},
   "source": [
    "## 결정트리(Decision Tree)\n",
    "---\n",
    "- 직관적이고 쉬운 모델 방식\n",
    "- 스무고개 퀴즈 형식\n",
    "- 과적합의 발생으로 다른 모델 대비 성능이 좋지 않은 모델\n",
    "- 단독으로 사용되는 경우보다 여러 개의 DT가 모여서 사용됨 ==> 앙상블\n",
    "- yes/no로 분류되기 때문에 전처리가 필요 없음"
   ]
  },
  {
   "cell_type": "code",
   "execution_count": 42,
   "id": "f6349b44",
   "metadata": {},
   "outputs": [],
   "source": [
    "# 모듈 로딩\n",
    "from sklearn.datasets import load_breast_cancer\n",
    "from sklearn.model_selection import train_test_split\n",
    "from sklearn.tree import DecisionTreeClassifier\n",
    "from sklearn.ensemble import RandomForestClassifier\n",
    "from sklearn.tree import plot_tree  # 트리 시각화 함수\n",
    "import matplotlib.pyplot as plt\n",
    "import pandas as pd\n",
    "import numpy as np"
   ]
  },
  {
   "cell_type": "markdown",
   "id": "ddc2ed78",
   "metadata": {},
   "source": [
    "### [1] 데이터 로딩"
   ]
  },
  {
   "cell_type": "code",
   "execution_count": 9,
   "id": "feaf2e2c",
   "metadata": {},
   "outputs": [],
   "source": [
    "# numpy => DataFrame 형태로 데이터 로딩\n",
    "# numpy로 안 넣으면 predict 할 때 warning이 뜸\n",
    "dataX, datay=load_breast_cancer(as_frame=True, return_X_y=True)"
   ]
  },
  {
   "cell_type": "code",
   "execution_count": 10,
   "id": "d0242d28",
   "metadata": {},
   "outputs": [
    {
     "data": {
      "text/plain": [
       "(pandas.core.frame.DataFrame, pandas.core.series.Series)"
      ]
     },
     "execution_count": 10,
     "metadata": {},
     "output_type": "execute_result"
    }
   ],
   "source": [
    "type(dataX), type(datay)"
   ]
  },
  {
   "cell_type": "code",
   "execution_count": 12,
   "id": "ac99818e",
   "metadata": {},
   "outputs": [
    {
     "name": "stdout",
     "output_type": "stream",
     "text": [
      "<class 'pandas.core.frame.DataFrame'>\n",
      "RangeIndex: 569 entries, 0 to 568\n",
      "Data columns (total 30 columns):\n",
      " #   Column                   Non-Null Count  Dtype  \n",
      "---  ------                   --------------  -----  \n",
      " 0   mean radius              569 non-null    float64\n",
      " 1   mean texture             569 non-null    float64\n",
      " 2   mean perimeter           569 non-null    float64\n",
      " 3   mean area                569 non-null    float64\n",
      " 4   mean smoothness          569 non-null    float64\n",
      " 5   mean compactness         569 non-null    float64\n",
      " 6   mean concavity           569 non-null    float64\n",
      " 7   mean concave points      569 non-null    float64\n",
      " 8   mean symmetry            569 non-null    float64\n",
      " 9   mean fractal dimension   569 non-null    float64\n",
      " 10  radius error             569 non-null    float64\n",
      " 11  texture error            569 non-null    float64\n",
      " 12  perimeter error          569 non-null    float64\n",
      " 13  area error               569 non-null    float64\n",
      " 14  smoothness error         569 non-null    float64\n",
      " 15  compactness error        569 non-null    float64\n",
      " 16  concavity error          569 non-null    float64\n",
      " 17  concave points error     569 non-null    float64\n",
      " 18  symmetry error           569 non-null    float64\n",
      " 19  fractal dimension error  569 non-null    float64\n",
      " 20  worst radius             569 non-null    float64\n",
      " 21  worst texture            569 non-null    float64\n",
      " 22  worst perimeter          569 non-null    float64\n",
      " 23  worst area               569 non-null    float64\n",
      " 24  worst smoothness         569 non-null    float64\n",
      " 25  worst compactness        569 non-null    float64\n",
      " 26  worst concavity          569 non-null    float64\n",
      " 27  worst concave points     569 non-null    float64\n",
      " 28  worst symmetry           569 non-null    float64\n",
      " 29  worst fractal dimension  569 non-null    float64\n",
      "dtypes: float64(30)\n",
      "memory usage: 133.5 KB\n"
     ]
    },
    {
     "data": {
      "text/plain": [
       "(None,\n",
       " '\\n',\n",
       " Index(['mean radius', 'mean texture', 'mean perimeter', 'mean area',\n",
       "        'mean smoothness', 'mean compactness', 'mean concavity',\n",
       "        'mean concave points', 'mean symmetry', 'mean fractal dimension',\n",
       "        'radius error', 'texture error', 'perimeter error', 'area error',\n",
       "        'smoothness error', 'compactness error', 'concavity error',\n",
       "        'concave points error', 'symmetry error', 'fractal dimension error',\n",
       "        'worst radius', 'worst texture', 'worst perimeter', 'worst area',\n",
       "        'worst smoothness', 'worst compactness', 'worst concavity',\n",
       "        'worst concave points', 'worst symmetry', 'worst fractal dimension'],\n",
       "       dtype='object'))"
      ]
     },
     "execution_count": 12,
     "metadata": {},
     "output_type": "execute_result"
    }
   ],
   "source": [
    "dataX.info(), '\\n', dataX.columns"
   ]
  },
  {
   "cell_type": "code",
   "execution_count": 13,
   "id": "b5c4900e",
   "metadata": {},
   "outputs": [
    {
     "data": {
      "text/plain": [
       "mean radius                0\n",
       "mean texture               0\n",
       "mean perimeter             0\n",
       "mean area                  0\n",
       "mean smoothness            0\n",
       "mean compactness           0\n",
       "mean concavity             0\n",
       "mean concave points        0\n",
       "mean symmetry              0\n",
       "mean fractal dimension     0\n",
       "radius error               0\n",
       "texture error              0\n",
       "perimeter error            0\n",
       "area error                 0\n",
       "smoothness error           0\n",
       "compactness error          0\n",
       "concavity error            0\n",
       "concave points error       0\n",
       "symmetry error             0\n",
       "fractal dimension error    0\n",
       "worst radius               0\n",
       "worst texture              0\n",
       "worst perimeter            0\n",
       "worst area                 0\n",
       "worst smoothness           0\n",
       "worst compactness          0\n",
       "worst concavity            0\n",
       "worst concave points       0\n",
       "worst symmetry             0\n",
       "worst fractal dimension    0\n",
       "dtype: int64"
      ]
     },
     "execution_count": 13,
     "metadata": {},
     "output_type": "execute_result"
    }
   ],
   "source": [
    "dataX.isnull().sum()"
   ]
  },
  {
   "cell_type": "code",
   "execution_count": 17,
   "id": "9a0f3c7c",
   "metadata": {},
   "outputs": [
    {
     "data": {
      "text/plain": [
       "array([[1.799e+01, 1.038e+01, 1.228e+02, ..., 2.654e-01, 4.601e-01,\n",
       "        1.189e-01],\n",
       "       [2.057e+01, 1.777e+01, 1.329e+02, ..., 1.860e-01, 2.750e-01,\n",
       "        8.902e-02],\n",
       "       [1.969e+01, 2.125e+01, 1.300e+02, ..., 2.430e-01, 3.613e-01,\n",
       "        8.758e-02],\n",
       "       ...,\n",
       "       [1.660e+01, 2.808e+01, 1.083e+02, ..., 1.418e-01, 2.218e-01,\n",
       "        7.820e-02],\n",
       "       [2.060e+01, 2.933e+01, 1.401e+02, ..., 2.650e-01, 4.087e-01,\n",
       "        1.240e-01],\n",
       "       [7.760e+00, 2.454e+01, 4.792e+01, ..., 0.000e+00, 2.871e-01,\n",
       "        7.039e-02]])"
      ]
     },
     "execution_count": 17,
     "metadata": {},
     "output_type": "execute_result"
    }
   ],
   "source": [
    "dataX.values  # ndarray 형태"
   ]
  },
  {
   "cell_type": "markdown",
   "id": "88ef9e80",
   "metadata": {},
   "source": [
    "### [2] 학습 & 테스트 데이터 분리"
   ]
  },
  {
   "cell_type": "code",
   "execution_count": 40,
   "id": "79467635",
   "metadata": {},
   "outputs": [],
   "source": [
    "# stratify = 라벨 즉 타겟 데이터 지정 : 학습 & 테스트 데이터에도 비율 맞추기\n",
    "train_X, test_X, train_y, test_y=train_test_split(\n",
    "dataX, datay, stratify=datay, random_state=42, test_size=0.2)\n",
    "\n",
    "# train_test_split( dataX.to_numpy(), datay.to_numpy() )로 넣어도 됨"
   ]
  },
  {
   "cell_type": "code",
   "execution_count": 20,
   "id": "0674e055",
   "metadata": {},
   "outputs": [
    {
     "name": "stdout",
     "output_type": "stream",
     "text": [
      "train_X : (455, 30), test_X : (114, 30)\n"
     ]
    }
   ],
   "source": [
    "print(f'train_X : {train_X.shape}, test_X : {test_X.shape}')"
   ]
  },
  {
   "cell_type": "markdown",
   "id": "65e91f0e",
   "metadata": {},
   "source": [
    "### [3] 학습\n",
    "---\n",
    "- DecisionTreeClassifier 학습 방법"
   ]
  },
  {
   "cell_type": "code",
   "execution_count": 22,
   "id": "8c7ac65a",
   "metadata": {},
   "outputs": [],
   "source": [
    "# 모델 객체 생성\n",
    "dtModel=DecisionTreeClassifier()"
   ]
  },
  {
   "cell_type": "code",
   "execution_count": 38,
   "id": "d02ac045",
   "metadata": {},
   "outputs": [
    {
     "data": {
      "text/plain": [
       "DecisionTreeClassifier()"
      ]
     },
     "execution_count": 38,
     "metadata": {},
     "output_type": "execute_result"
    }
   ],
   "source": [
    "# 학습용 데이터로 학습 진행\n",
    "# .values : numpy형태\n",
    "dtModel.fit(train_X.values, train_y.values)"
   ]
  },
  {
   "cell_type": "markdown",
   "id": "369afa5c",
   "metadata": {},
   "source": [
    "### [4] 평가"
   ]
  },
  {
   "cell_type": "code",
   "execution_count": 26,
   "id": "41c394c1",
   "metadata": {},
   "outputs": [
    {
     "name": "stdout",
     "output_type": "stream",
     "text": [
      "train_score => 1.0, test_score => 0.9122807017543859\n"
     ]
    }
   ],
   "source": [
    "train_score=dtModel.score(train_X, train_y)\n",
    "test_score=dtModel.score(test_X, test_y)\n",
    "\n",
    "print(f'train_score => {train_score}, test_score => {test_score}')\n",
    "# train_score가 1이라서 과적합"
   ]
  },
  {
   "cell_type": "markdown",
   "id": "f501e939",
   "metadata": {},
   "source": [
    "### DTree 시각화\n",
    "---\n",
    "- plot_tree()"
   ]
  },
  {
   "cell_type": "code",
   "execution_count": 33,
   "id": "a58dc25d",
   "metadata": {},
   "outputs": [
    {
     "data": {
      "image/png": "[encoded data removed]",
      "text/plain": [
       "<Figure size 1080x576 with 1 Axes>"
      ]
     },
     "metadata": {
      "needs_background": "light"
     },
     "output_type": "display_data"
    }
   ],
   "source": [
    "plt.figure(figsize=(15, 8))\n",
    "plot_tree(dtModel, max_depth=2, filled=True, feature_names=dataX.columns)\n",
    "#plt.savefig('tree.png')   # 현재 figure에 있는 그래프 파일로 저장\n",
    "plt.show()"
   ]
  },
  {
   "cell_type": "markdown",
   "id": "57a29543",
   "metadata": {},
   "source": [
    "## 모델 속성 확인\n",
    "---\n",
    "- DT에서속성들 중에서 속성의 중요도를 감지 가능\n",
    "- feature별로 특성들의 중요도 값\n",
    "- 모든 값을 합치면 1"
   ]
  },
  {
   "cell_type": "code",
   "execution_count": 37,
   "id": "a088d12c",
   "metadata": {},
   "outputs": [
    {
     "name": "stdout",
     "output_type": "stream",
     "text": [
      "0.6978111384066752\n",
      "20\n"
     ]
    }
   ],
   "source": [
    "print(dtModel.feature_importances_.max())\n",
    "print(dtModel.feature_importances_.argmax())"
   ]
  },
  {
   "cell_type": "markdown",
   "id": "fc8033ad",
   "metadata": {},
   "source": [
    "---"
   ]
  },
  {
   "cell_type": "markdown",
   "id": "933ed856",
   "metadata": {},
   "source": [
    "### RandomForest 학습 모델\n",
    "---\n",
    "- 100개 DecisionTree 모델\n",
    "- 중복허용된 랜덤 샘플 데이터 + DecisionTree 모델"
   ]
  },
  {
   "cell_type": "code",
   "execution_count": 56,
   "id": "3187eb94",
   "metadata": {},
   "outputs": [],
   "source": [
    "# oob_score : 중복허용랜덤샘플에 포함되지 않은 데이터 \n",
    "# => 검증용으로 사용\n",
    "forestModel=RandomForestClassifier(max_depth=5, oob_score=True)"
   ]
  },
  {
   "cell_type": "code",
   "execution_count": 57,
   "id": "e62dbad4",
   "metadata": {},
   "outputs": [
    {
     "data": {
      "text/plain": [
       "RandomForestClassifier(max_depth=5, oob_score=True)"
      ]
     },
     "execution_count": 57,
     "metadata": {},
     "output_type": "execute_result"
    }
   ],
   "source": [
    "forestModel.fit(train_X, train_y)"
   ]
  },
  {
   "cell_type": "code",
   "execution_count": 58,
   "id": "262b3cf4",
   "metadata": {},
   "outputs": [
    {
     "name": "stdout",
     "output_type": "stream",
     "text": [
      "classes_ : [0 1]\n"
     ]
    }
   ],
   "source": [
    "# 모델 학습 후 속성 ------------------\n",
    "print(f'classes_ : {forestModel.classes_}')"
   ]
  },
  {
   "cell_type": "code",
   "execution_count": 59,
   "id": "d230fe8c",
   "metadata": {},
   "outputs": [
    {
     "name": "stdout",
     "output_type": "stream",
     "text": [
      "base_estimator_ : DecisionTreeClassifier()\n"
     ]
    }
   ],
   "source": [
    "print(f'base_estimator_ : {forestModel.base_estimator_}')"
   ]
  },
  {
   "cell_type": "code",
   "execution_count": 62,
   "id": "68137987",
   "metadata": {},
   "outputs": [
    {
     "data": {
      "text/plain": [
       "0.9582417582417583"
      ]
     },
     "execution_count": 62,
     "metadata": {},
     "output_type": "execute_result"
    }
   ],
   "source": [
    "# oob_score=True로 주고 난 이후\n",
    "# 이 데이터는 훈련에 아예 사용 안 됨\n",
    "forestModel.oob_score_"
   ]
  },
  {
   "cell_type": "code",
   "execution_count": 60,
   "id": "17848b79",
   "metadata": {},
   "outputs": [],
   "source": [
    "bestModel=forestModel.base_estimator_"
   ]
  },
  {
   "cell_type": "code",
   "execution_count": 63,
   "id": "38c905ae",
   "metadata": {},
   "outputs": [],
   "source": [
    "## 평가\n",
    "train_score=forestModel.score(train_X, train_y)\n",
    "test_score=forestModel.score(test_X, test_y)"
   ]
  },
  {
   "cell_type": "code",
   "execution_count": 65,
   "id": "51725d4d",
   "metadata": {},
   "outputs": [
    {
     "data": {
      "text/plain": [
       "(0.9934065934065934, 0.956140350877193)"
      ]
     },
     "execution_count": 65,
     "metadata": {},
     "output_type": "execute_result"
    }
   ],
   "source": [
    "train_score, test_score"
   ]
  },
  {
   "cell_type": "code",
   "execution_count": 75,
   "id": "60195203",
   "metadata": {},
   "outputs": [
    {
     "data": {
      "text/plain": [
       "array([0.06443172, 0.01222194, 0.04605366, 0.06647351, 0.00603996,\n",
       "       0.01128837, 0.03996164, 0.09634041, 0.0032882 , 0.00485153,\n",
       "       0.00489337, 0.00526577, 0.00905973, 0.02730706, 0.00306503,\n",
       "       0.00171259, 0.00396323, 0.00328235, 0.0042585 , 0.00297157,\n",
       "       0.11458661, 0.01679951, 0.14854123, 0.11775585, 0.01366656,\n",
       "       0.01529661, 0.03571388, 0.10306768, 0.01187935, 0.00596258])"
      ]
     },
     "execution_count": 75,
     "metadata": {},
     "output_type": "execute_result"
    }
   ],
   "source": [
    "# 특성 중요도 저장 속성 그래프 출력\n",
    "forestModel.feature_importances_"
   ]
  },
  {
   "cell_type": "code",
   "execution_count": 86,
   "id": "6fb20a20",
   "metadata": {},
   "outputs": [
    {
     "data": {
      "image/png": "[encoded data removed]",
      "text/plain": [
       "<Figure size 1080x864 with 1 Axes>"
      ]
     },
     "metadata": {
      "needs_background": "light"
     },
     "output_type": "display_data"
    }
   ],
   "source": [
    "plt.figure(figsize=(15, 12))\n",
    "plt.barh(y=dataX.columns,\n",
    "    width=forestModel.feature_importances_)\n",
    "plt.show()"
   ]
  },
  {
   "cell_type": "code",
   "execution_count": null,
   "id": "20c43f17",
   "metadata": {},
   "outputs": [],
   "source": []
  }
 ],
 "metadata": {
  "kernelspec": {
   "display_name": "Python 3 (ipykernel)",
   "language": "python",
   "name": "python3"
  },
  "language_info": {
   "codemirror_mode": {
    "name": "ipython",
    "version": 3
   },
   "file_extension": ".py",
   "mimetype": "text/x-python",
   "name": "python",
   "nbconvert_exporter": "python",
   "pygments_lexer": "ipython3",
   "version": "3.9.12"
  }
 },
 "nbformat": 4,
 "nbformat_minor": 5
}
