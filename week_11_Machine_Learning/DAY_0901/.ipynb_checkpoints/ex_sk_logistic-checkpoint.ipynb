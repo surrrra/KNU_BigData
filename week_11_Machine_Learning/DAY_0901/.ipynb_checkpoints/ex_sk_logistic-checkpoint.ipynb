{
 "cells": [
  {
   "cell_type": "markdown",
   "id": "b34b9b5b",
   "metadata": {},
   "source": [
    "## LogisticRegression\n",
    "---\n",
    "- 인공신경망의 기본 개념과 동일\n",
    "- Regression이지만 이진분류로 사용\n",
    "- 선형모델 기반으로 y=wx+b 그대로 사용\n",
    "- y=wx+b의 결과 => 분류 변환 함수 => sigmoid()"
   ]
  },
  {
   "cell_type": "markdown",
   "id": "0367dc5a",
   "metadata": {},
   "source": [
    "### 성적 - 합격/불합격 분류 실습"
   ]
  },
  {
   "cell_type": "code",
   "execution_count": 2,
   "id": "377ba5a3",
   "metadata": {},
   "outputs": [],
   "source": [
    "# 사용 모듈 로딩 ------------------------------------------\n",
    "from sklearn.linear_model import LogisticRegression\n",
    "import matplotlib.pyplot as plt\n",
    "import numpy as np"
   ]
  },
  {
   "cell_type": "markdown",
   "id": "48ba9393",
   "metadata": {},
   "source": [
    "#### (1) 데이터 준비"
   ]
  },
  {
   "cell_type": "code",
   "execution_count": 13,
   "id": "41918643",
   "metadata": {},
   "outputs": [],
   "source": [
    "X=[78, 82, 91, 94, 97]   # 점수\n",
    "y=[0, 0, 1, 1, 1]   # 합격 여부(1 : 합격, 0 : 불합격)"
   ]
  },
  {
   "cell_type": "code",
   "execution_count": 14,
   "id": "1869c111",
   "metadata": {},
   "outputs": [],
   "source": [
    "# 학습에 사용할 수 있도록 형 변환\n",
    "arrX=np.array(X).reshape(-1, 1)\n",
    "arrY=np.array(y)"
   ]
  },
  {
   "cell_type": "code",
   "execution_count": 15,
   "id": "5c12abcd",
   "metadata": {},
   "outputs": [
    {
     "name": "stdout",
     "output_type": "stream",
     "text": [
      "arrX : (5, 1) arrY : (5,)\n"
     ]
    }
   ],
   "source": [
    "# 데이터 체크\n",
    "print('arrX :', arrX.shape, 'arrY :', arrY.shape)"
   ]
  },
  {
   "cell_type": "markdown",
   "id": "827525e5",
   "metadata": {},
   "source": [
    "#### (2) 데이터 확인 => 시각화"
   ]
  },
  {
   "cell_type": "code",
   "execution_count": 16,
   "id": "fa0da391",
   "metadata": {},
   "outputs": [
    {
     "data": {
      "image/png": "[encoded data removed]",
      "text/plain": [
       "<Figure size 432x288 with 1 Axes>"
      ]
     },
     "metadata": {
      "needs_background": "light"
     },
     "output_type": "display_data"
    }
   ],
   "source": [
    "# 현재 데이터 시각화\n",
    "plt.scatter(X, y)\n",
    "plt.xlabel('Score')\n",
    "plt.ylabel('Pass')\n",
    "plt.show()"
   ]
  },
  {
   "cell_type": "markdown",
   "id": "bac12cf5",
   "metadata": {},
   "source": [
    "### [3] 모델 생성 & 학습"
   ]
  },
  {
   "cell_type": "code",
   "execution_count": 17,
   "id": "51de7f70",
   "metadata": {},
   "outputs": [],
   "source": [
    "model=LogisticRegression()"
   ]
  },
  {
   "cell_type": "code",
   "execution_count": 19,
   "id": "74bc69eb",
   "metadata": {},
   "outputs": [
    {
     "data": {
      "text/plain": [
       "LogisticRegression()"
      ]
     },
     "execution_count": 19,
     "metadata": {},
     "output_type": "execute_result"
    }
   ],
   "source": [
    "# 학습\n",
    "model.fit(arrX, arrY)"
   ]
  },
  {
   "cell_type": "code",
   "execution_count": 25,
   "id": "5fbfcd26",
   "metadata": {},
   "outputs": [
    {
     "name": "stdout",
     "output_type": "stream",
     "text": [
      "분류 종류 : [0 1]\n",
      "가중치 값 : [[0.62705118]]\n",
      "절편 값 : [-54.1941992]\n"
     ]
    }
   ],
   "source": [
    "# 학습 후 설정된 속성\n",
    "print('분류 종류 :', model.classes_)\n",
    "print('가중치 값 :', model.coef_)\n",
    "print('절편 값 :', model.intercept_)\n",
    "print('특성 개수 값 :', model.n_features_n)\n"
   ]
  },
  {
   "cell_type": "markdown",
   "id": "1dc1d2a8",
   "metadata": {},
   "source": [
    "### [4] 평가 => score() 학습용 데이터 점수, 테스트용 데이터 점수\n",
    "---\n",
    "- 2개 점수 비교해서 과대적합, 과소적합 체크"
   ]
  },
  {
   "cell_type": "code",
   "execution_count": 27,
   "id": "d419697e",
   "metadata": {},
   "outputs": [
    {
     "data": {
      "text/plain": [
       "1.0"
      ]
     },
     "execution_count": 27,
     "metadata": {},
     "output_type": "execute_result"
    }
   ],
   "source": [
    "model.score(arrX, arrY)"
   ]
  },
  {
   "cell_type": "markdown",
   "id": "8bb8f252",
   "metadata": {},
   "source": [
    "### [5] 테스트 => predict() : 새로운 데이터로 진행"
   ]
  },
  {
   "cell_type": "code",
   "execution_count": 28,
   "id": "1107f174",
   "metadata": {},
   "outputs": [
    {
     "data": {
      "text/plain": [
       "array([0, 0, 1, 1, 1])"
      ]
     },
     "execution_count": 28,
     "metadata": {},
     "output_type": "execute_result"
    }
   ],
   "source": [
    "preY=model.predict(arrX)\n",
    "preY"
   ]
  },
  {
   "cell_type": "code",
   "execution_count": 40,
   "id": "7e5d238c",
   "metadata": {},
   "outputs": [
    {
     "name": "stdout",
     "output_type": "stream",
     "text": [
      "예측 결과 : [1]\n",
      "[1]\n"
     ]
    }
   ],
   "source": [
    "# 1개 데이터\n",
    "preY=model.predict([[87]])\n",
    "print('예측 결과 :', preY)"
   ]
  },
  {
   "cell_type": "code",
   "execution_count": 32,
   "id": "7d4be1c7",
   "metadata": {},
   "outputs": [
    {
     "name": "stdout",
     "output_type": "stream",
     "text": [
      "분류항목 : [0 1]\n",
      "예측확률 : [[0.41114026 0.58885974]]\n"
     ]
    }
   ],
   "source": [
    "preY_proba=model.predict_proba([[87]])\n",
    "print('분류항목 :', model.classes_)\n",
    "print('예측확률 :', preY_proba)"
   ]
  },
  {
   "cell_type": "code",
   "execution_count": 34,
   "id": "b3a5acc7",
   "metadata": {},
   "outputs": [
    {
     "data": {
      "text/plain": [
       "array([-2.77600232])"
      ]
     },
     "execution_count": 34,
     "metadata": {},
     "output_type": "execute_result"
    }
   ],
   "source": [
    "# 결정함수\n",
    "model.decision_function([[82]])"
   ]
  },
  {
   "cell_type": "code",
   "execution_count": 39,
   "id": "f829473e",
   "metadata": {},
   "outputs": [
    {
     "name": "stdout",
     "output_type": "stream",
     "text": [
      "result : [[-2.77600232]]\n"
     ]
    }
   ],
   "source": [
    "# y=ax+b\n",
    "result=model.coef_*82+model.intercept_\n",
    "print('result :', result)"
   ]
  },
  {
   "cell_type": "code",
   "execution_count": null,
   "id": "c4368dee",
   "metadata": {},
   "outputs": [],
   "source": []
  }
 ],
 "metadata": {
  "kernelspec": {
   "display_name": "Python 3 (ipykernel)",
   "language": "python",
   "name": "python3"
  },
  "language_info": {
   "codemirror_mode": {
    "name": "ipython",
    "version": 3
   },
   "file_extension": ".py",
   "mimetype": "text/x-python",
   "name": "python",
   "nbconvert_exporter": "python",
   "pygments_lexer": "ipython3",
   "version": "3.9.12"
  }
 },
 "nbformat": 4,
 "nbformat_minor": 5
}
