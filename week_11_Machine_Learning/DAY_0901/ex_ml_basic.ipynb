{
 "cells": [
  {
   "cell_type": "markdown",
   "id": "9e49792e",
   "metadata": {},
   "source": [
    "# Scikit-learn ML 기본 동작\n",
    "---\n",
    "* 1) 데이터 수집 & 준비\n",
    "* 2) 데이터 전처리\n",
    "    - 데이터 / 타겟 분리\n",
    "    - 데이터 표준화 / 정규화\n",
    "    - 타겟(라벨) 인코딩\n",
    "* 3) 학습 위한 데이터 준비\n",
    "    - 데이터셋\n",
    "        * 학습용 데이터셋 => 학습에 사용\n",
    "        * 검증용 데이터셋 => 모델 생성 중에 사용\n",
    "        * 테스트용 데이터셋 => 모델 완성 후 사용\n",
    "* 4) 학습 모델 생성\n",
    "    - 학습 방법 선정 및 모델 객체 생성\n",
    "    - 학습 진행\n",
    "        * <b>모델 파라미터 최적화</b> => 학습에 의해서 결정되는 파라미터\n",
    "        * 최적의 모델 파라미터를 찾기 위한 방법 => 최적화(optimizer)\n",
    "        * ex) 선형회귀에서 W(가중치), b(절편)\n",
    "    - 모델 평가\n",
    "        * 성능 개선 => <b>하이퍼파라미터</b>(모델마다 다름) => 모델 튜닝\n",
    "        * ex) k-NN의 하이퍼파라미터 : k / 학습 횟수, 학습 크기(배치 사이즈), 규제값들\n",
    "* 5) 모델 테스트\n",
    "    - 학습에 사용되지 않은 데이터\n",
    "    - 새로운 데이터로 테스트 진행"
   ]
  },
  {
   "cell_type": "code",
   "execution_count": 2,
   "id": "0622812f",
   "metadata": {},
   "outputs": [],
   "source": [
    "# 모듈 로딩 --------------------------------------------\n",
    "from sklearn.model_selection import train_test_split\n",
    "from sklearn.linear_model import LinearRegression"
   ]
  },
  {
   "cell_type": "markdown",
   "id": "650a613d",
   "metadata": {},
   "source": [
    "## [1] 데이터 준비"
   ]
  },
  {
   "cell_type": "code",
   "execution_count": 4,
   "id": "f5f00c5a",
   "metadata": {},
   "outputs": [],
   "source": [
    "# 시간 : 점수\n",
    "X=[2, 4, 6, 8, 10, 12]\n",
    "y=[40, 50, 60, 70, 80, 90]"
   ]
  },
  {
   "cell_type": "markdown",
   "id": "3ffbed74",
   "metadata": {},
   "source": [
    "## [2] 데이터 분포 분석 => EDA => 시각화"
   ]
  },
  {
   "cell_type": "code",
   "execution_count": 8,
   "id": "003c04a7",
   "metadata": {},
   "outputs": [
    {
     "data": {
      "image/png": "[encoded data removed]",
      "text/plain": [
       "<Figure size 432x288 with 1 Axes>"
      ]
     },
     "metadata": {
      "needs_background": "light"
     },
     "output_type": "display_data"
    }
   ],
   "source": [
    "import matplotlib.pyplot as plt\n",
    "\n",
    "plt.scatter(X, y, color='green')\n",
    "plt.xlabel('Hour')\n",
    "plt.ylabel('Score')\n",
    "plt.show()"
   ]
  },
  {
   "cell_type": "markdown",
   "id": "deb1af53",
   "metadata": {},
   "source": [
    "- 시간과 점수는 비례 관계\n",
    "- 선형의 데이터 분포\n",
    "- 독립변수 => hour\n",
    "- 종속변수 => score"
   ]
  },
  {
   "cell_type": "code",
   "execution_count": 11,
   "id": "aa2fed78",
   "metadata": {},
   "outputs": [
    {
     "data": {
      "text/plain": [
       "(6, 2)"
      ]
     },
     "execution_count": 11,
     "metadata": {},
     "output_type": "execute_result"
    }
   ],
   "source": [
    "# 학습에 사용되는 형태로 데이터 변환\n",
    "import pandas as pd\n",
    "df=pd.DataFrame({'Hour':X, 'Score':y})\n",
    "df.shape"
   ]
  },
  {
   "cell_type": "code",
   "execution_count": 12,
   "id": "ac96c42d",
   "metadata": {},
   "outputs": [
    {
     "name": "stdout",
     "output_type": "stream",
     "text": [
      "(6,) (6,)\n"
     ]
    }
   ],
   "source": [
    "import numpy as np\n",
    "\n",
    "arrX=np.array(X)\n",
    "arrY=np.array(y)\n",
    "print(arrX.shape, arrY.shape)"
   ]
  },
  {
   "cell_type": "code",
   "execution_count": 15,
   "id": "90431bf6",
   "metadata": {},
   "outputs": [
    {
     "name": "stdout",
     "output_type": "stream",
     "text": [
      "arrX.shape : (6, 1) arrY.shape : (6,)\n"
     ]
    }
   ],
   "source": [
    "# 1차원 -> 2차원\n",
    "arrX=arrX.reshape(-1, 1)\n",
    "print('arrX.shape :', arrX.shape, 'arrY.shape :', arrY.shape)"
   ]
  },
  {
   "cell_type": "markdown",
   "id": "3bf15b9e",
   "metadata": {},
   "source": [
    "## [3] 학습 방법 선택 및 모델 생성\n",
    "---\n",
    "- 시간에 따른 점수 예측\n",
    "- 데이터 + 라벨 => 지도학습\n",
    "- 선형 데이터 분포 -> 선형 모델 적용"
   ]
  },
  {
   "cell_type": "code",
   "execution_count": 9,
   "id": "0497e249",
   "metadata": {},
   "outputs": [],
   "source": [
    "# 모델 객체 생성\n",
    "model=LinearRegression()"
   ]
  },
  {
   "cell_type": "code",
   "execution_count": 16,
   "id": "395fc638",
   "metadata": {},
   "outputs": [
    {
     "data": {
      "text/plain": [
       "LinearRegression()"
      ]
     },
     "execution_count": 16,
     "metadata": {},
     "output_type": "execute_result"
    }
   ],
   "source": [
    "# 학습 ==> 트레이닝 데이터 사용\n",
    "# fit() 메서드 => 2차원 형태 데이터가 되어야 함.\n",
    "model.fit(arrX, arrY)"
   ]
  },
  {
   "cell_type": "code",
   "execution_count": 19,
   "id": "010add32",
   "metadata": {},
   "outputs": [
    {
     "name": "stdout",
     "output_type": "stream",
     "text": [
      "w : [5.] , b : 29.999999999999993\n"
     ]
    }
   ],
   "source": [
    "# 모델 파라미터 => w 가중치, b 절편\n",
    "print('w :', model.coef_,',', 'b :', model.intercept_)"
   ]
  },
  {
   "cell_type": "markdown",
   "id": "cd8fc5b8",
   "metadata": {},
   "source": [
    "## [4] 모델 평가\n",
    "---\n",
    "- 테스트(검증) 데이터로 평가\n",
    "- score()\n",
    "    * 분류 : 정답 --- 예측값 => 맞힌 정도\n",
    "        - <b>정확도(accuracy)</b>\n",
    "    * 회귀 : 정답 --- 예측값 => 차이 오차(Error)\n",
    "        - 손실함수(Loss/Cost Function) : MSE, MAE, RMSE 낮을수록 좋음\n",
    "        - <b>R2 계수 : 0~1 높을수록 좋음</b>\n",
    "        "
   ]
  },
  {
   "cell_type": "code",
   "execution_count": 20,
   "id": "149de99a",
   "metadata": {},
   "outputs": [
    {
     "data": {
      "text/plain": [
       "1.0"
      ]
     },
     "execution_count": 20,
     "metadata": {},
     "output_type": "execute_result"
    }
   ],
   "source": [
    "# 회귀 => 결정계수 R^2 반환\n",
    "model.score(arrX, arrY)"
   ]
  },
  {
   "cell_type": "code",
   "execution_count": 23,
   "id": "305bcc41",
   "metadata": {},
   "outputs": [
    {
     "name": "stdout",
     "output_type": "stream",
     "text": [
      "58.0 3550.6666666666665\n"
     ]
    }
   ],
   "source": [
    "# 오차 확인\n",
    "from sklearn.metrics import mean_absolute_error, mean_squared_error\n",
    "\n",
    "preY=model.predict(arrX)\n",
    "mae=mean_absolute_error(arrX, preY)\n",
    "mse=mean_squared_error(arrX, preY)\n",
    "\n",
    "print(mae, mse)"
   ]
  },
  {
   "cell_type": "code",
   "execution_count": null,
   "id": "bc032a78",
   "metadata": {},
   "outputs": [],
   "source": []
  }
 ],
 "metadata": {
  "kernelspec": {
   "display_name": "Python 3 (ipykernel)",
   "language": "python",
   "name": "python3"
  },
  "language_info": {
   "codemirror_mode": {
    "name": "ipython",
    "version": 3
   },
   "file_extension": ".py",
   "mimetype": "text/x-python",
   "name": "python",
   "nbconvert_exporter": "python",
   "pygments_lexer": "ipython3",
   "version": "3.9.12"
  }
 },
 "nbformat": 4,
 "nbformat_minor": 5
}
