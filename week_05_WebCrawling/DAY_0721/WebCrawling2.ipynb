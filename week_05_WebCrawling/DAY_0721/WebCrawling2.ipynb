{
 "cells": [
  {
   "cell_type": "code",
   "execution_count": 1,
   "id": "7903275d",
   "metadata": {},
   "outputs": [
    {
     "name": "stdout",
     "output_type": "stream",
     "text": [
      "<h1 class=\"head-title\" id=\"hot-articles-head-title\">\n",
      "      \n",
      "      \n",
      "      중고거래 인기매물\n",
      "  </h1>\n"
     ]
    }
   ],
   "source": [
    "from urllib.request import urlopen\n",
    "from bs4 import BeautifulSoup\n",
    "\n",
    "html=urlopen('https://www.daangn.com/hot_articles')\n",
    "bs=BeautifulSoup(html.read(), 'html.parser')\n",
    "print(bs.h1)"
   ]
  },
  {
   "cell_type": "code",
   "execution_count": 2,
   "id": "b3e8c87e",
   "metadata": {},
   "outputs": [
    {
     "name": "stdout",
     "output_type": "stream",
     "text": [
      "\n",
      "      \n",
      "      \n",
      "      중고거래 인기매물\n",
      "  \n"
     ]
    }
   ],
   "source": [
    "print(bs.h1.text)"
   ]
  },
  {
   "cell_type": "code",
   "execution_count": 3,
   "id": "8409d03a",
   "metadata": {},
   "outputs": [],
   "source": [
    "html_example='''\n",
    "<!DOCTYPE html>\n",
    "<html lang=\"en\">\n",
    "<head>\n",
    "    <meta charset=\"UTF-8\">\n",
    "    <meta name=\"viewport\" content=\"width=device-width, initial-scale=1.0\">\n",
    "    <title>BeautifulSoup 활용</title>\n",
    "</head>\n",
    "<body>\n",
    "    <h1 id=\"heading\">Heading 1</h1>\n",
    "    <p>Paragraph</p>\n",
    "    <span class=\"red\">BeautifulSoup Library Examples!</span>\n",
    "    <div id=\"link\">\n",
    "        <a class=\"external_link\" href=\"www.google.com\">google</a>\n",
    "\n",
    "        <div id=\"class1\">\n",
    "            <p id=\"first\">class1's first paragraph</p>\n",
    "            <a class=\"external_link\" href=\"www.naver.com\">naver</a>\n",
    "\n",
    "            <p id=\"second\">class1's second paragraph</p>\n",
    "            <a class=\"internal_link\" href=\"/pages/page1.html\">Page1</a>\n",
    "            <p id=\"third\">class1's third paragraph</p>\n",
    "        </div>\n",
    "    </div>\n",
    "    <div id=\"text_id2\">\n",
    "        Example page\n",
    "        <p>g</p>\n",
    "    </div>\n",
    "    <h1 id=\"footer\">Footer</h1>\n",
    "</body>\n",
    "</html>\n",
    "'''"
   ]
  },
  {
   "cell_type": "code",
   "execution_count": 4,
   "id": "f807d70c",
   "metadata": {},
   "outputs": [
    {
     "name": "stdout",
     "output_type": "stream",
     "text": [
      "<title>BeautifulSoup 활용</title>\n",
      "BeautifulSoup 활용\n",
      "BeautifulSoup 활용\n"
     ]
    }
   ],
   "source": [
    "# 태그를 사용하여 요소에 직접 접근하기\n",
    "# <title> 태그에 접근(soup.태그명)\n",
    "soup=BeautifulSoup(html_example, 'html.parser')\n",
    "\n",
    "print(soup.title)\n",
    "print(soup.title.text)\n",
    "print(soup.title.get_text())  # .text와 동일한 기능"
   ]
  },
  {
   "cell_type": "code",
   "execution_count": 5,
   "id": "41211c5a",
   "metadata": {},
   "outputs": [
    {
     "name": "stdout",
     "output_type": "stream",
     "text": [
      "<head>\n",
      "<meta charset=\"utf-8\"/>\n",
      "<meta content=\"width=device-width, initial-scale=1.0\" name=\"viewport\"/>\n",
      "<title>BeautifulSoup 활용</title>\n",
      "</head>\n"
     ]
    }
   ],
   "source": [
    "# 태그명.parent : 해당 태그를 포함하고 있는 부모\n",
    "print(soup.title.parent)"
   ]
  },
  {
   "cell_type": "code",
   "execution_count": 6,
   "id": "844494b6",
   "metadata": {},
   "outputs": [
    {
     "name": "stdout",
     "output_type": "stream",
     "text": [
      "<body>\n",
      "<h1 id=\"heading\">Heading 1</h1>\n",
      "<p>Paragraph</p>\n",
      "<span class=\"red\">BeautifulSoup Library Examples!</span>\n",
      "<div id=\"link\">\n",
      "<a class=\"external_link\" href=\"www.google.com\">google</a>\n",
      "<div id=\"class1\">\n",
      "<p id=\"first\">class1's first paragraph</p>\n",
      "<a class=\"external_link\" href=\"www.naver.com\">naver</a>\n",
      "<p id=\"second\">class1's second paragraph</p>\n",
      "<a class=\"internal_link\" href=\"/pages/page1.html\">Page1</a>\n",
      "<p id=\"third\">class1's third paragraph</p>\n",
      "</div>\n",
      "</div>\n",
      "<div id=\"text_id2\">\n",
      "        Example page\n",
      "        <p>g</p>\n",
      "</div>\n",
      "<h1 id=\"footer\">Footer</h1>\n",
      "</body>\n"
     ]
    }
   ],
   "source": [
    "# <body> 태그에 접근\n",
    "print(soup.body)"
   ]
  },
  {
   "cell_type": "code",
   "execution_count": 8,
   "id": "c580218b",
   "metadata": {},
   "outputs": [
    {
     "name": "stdout",
     "output_type": "stream",
     "text": [
      "<h1 id=\"heading\">Heading 1</h1>\n",
      "Heading 1\n"
     ]
    }
   ],
   "source": [
    "# <h1> 태그 접근\n",
    "# 동일한 태그가 여러 개 있는 경우, 첫 번째 요소를 추출\n",
    "print(soup.h1)\n",
    "print(soup.h1.get_text())"
   ]
  },
  {
   "cell_type": "code",
   "execution_count": 9,
   "id": "fb6aaeb6",
   "metadata": {},
   "outputs": [
    {
     "name": "stdout",
     "output_type": "stream",
     "text": [
      "<a class=\"external_link\" href=\"www.google.com\">google</a>\n"
     ]
    }
   ],
   "source": [
    "# <a> 태그 접근\n",
    "# 첫 번째 <a> 태그 요소 추출\n",
    "print(soup.a)"
   ]
  },
  {
   "cell_type": "code",
   "execution_count": 10,
   "id": "e6a6ee27",
   "metadata": {},
   "outputs": [
    {
     "name": "stdout",
     "output_type": "stream",
     "text": [
      "<div id=\"link\">\n",
      "<a class=\"external_link\" href=\"www.google.com\">google</a>\n",
      "<div id=\"class1\">\n",
      "<p id=\"first\">class1's first paragraph</p>\n",
      "<a class=\"external_link\" href=\"www.naver.com\">naver</a>\n",
      "<p id=\"second\">class1's second paragraph</p>\n",
      "<a class=\"internal_link\" href=\"/pages/page1.html\">Page1</a>\n",
      "<p id=\"third\">class1's third paragraph</p>\n",
      "</div>\n",
      "</div>\n"
     ]
    }
   ],
   "source": [
    "print(soup.find('div'))"
   ]
  },
  {
   "cell_type": "code",
   "execution_count": 11,
   "id": "0a4b78c5",
   "metadata": {},
   "outputs": [
    {
     "name": "stdout",
     "output_type": "stream",
     "text": [
      "<div id=\"text_id2\">\n",
      "        Example page\n",
      "        <p>g</p>\n",
      "</div>\n"
     ]
    }
   ],
   "source": [
    "# find() 함수\n",
    "# 여러 <div> 태그 중 특정 속성을 가지는 항목 추출\n",
    "# 딕셔너리 형태로 입력 (id 속성의 값이 'text_id2'인 항목 검색)\n",
    "print(soup.find('div', {'id':'text_id2'}))"
   ]
  },
  {
   "cell_type": "code",
   "execution_count": 12,
   "id": "8b481bb7",
   "metadata": {},
   "outputs": [
    {
     "name": "stdout",
     "output_type": "stream",
     "text": [
      "\n",
      "        Example page\n",
      "        g\n",
      "\n"
     ]
    }
   ],
   "source": [
    "# .text 또는 get_text()\n",
    "# 추출된 요소에서 텍스트만 가져옴\n",
    "div_text=soup.find('div', {'id':'text_id2'})\n",
    "print(div_text.get_text())"
   ]
  },
  {
   "cell_type": "code",
   "execution_count": 13,
   "id": "a86d174f",
   "metadata": {},
   "outputs": [
    {
     "name": "stdout",
     "output_type": "stream",
     "text": [
      "<div id=\"class1\">\n",
      "<p id=\"first\">class1's first paragraph</p>\n",
      "<a class=\"external_link\" href=\"www.naver.com\">naver</a>\n",
      "<p id=\"second\">class1's second paragraph</p>\n",
      "<a class=\"internal_link\" href=\"/pages/page1.html\">Page1</a>\n",
      "<p id=\"third\">class1's third paragraph</p>\n",
      "</div>\n",
      "\n",
      "\n",
      "class1's first paragraph\n",
      "naver\n",
      "class1's second paragraph\n",
      "Page1\n",
      "class1's third paragraph\n",
      "\n"
     ]
    }
   ],
   "source": [
    "div_first=soup.find('div', {'id':'class1'})\n",
    "print(div_first)\n",
    "print()\n",
    "print(div_first.text)"
   ]
  },
  {
   "cell_type": "code",
   "execution_count": 14,
   "id": "340fef3a",
   "metadata": {},
   "outputs": [
    {
     "name": "stdout",
     "output_type": "stream",
     "text": [
      "<a class=\"internal_link\" href=\"/pages/page1.html\">Page1</a>\n",
      "/pages/page1.html\n",
      "/pages/page1.html\n",
      "Page1\n"
     ]
    }
   ],
   "source": [
    "# <a> 태그 및 <a> 태그의 href 속성 추출\n",
    "href_link=soup.find('a', {'class':'internal_link'})\n",
    "#href_link=soup.find('a', class_='internal_link')\n",
    "\n",
    "print(href_link)\n",
    "print(href_link['href'])\n",
    "print(href_link.get('href'))\n",
    "print(href_link.text)"
   ]
  },
  {
   "cell_type": "code",
   "execution_count": 16,
   "id": "a711944f",
   "metadata": {},
   "outputs": [
    {
     "name": "stdout",
     "output_type": "stream",
     "text": [
      "dict_values([['internal_link'], '/pages/page1.html'])\n",
      "['internal_link'] /pages/page1.html\n"
     ]
    }
   ],
   "source": [
    "# <a> 태그 내부의 모든 속성의 값 가져오기 : dick의 values() 호출\n",
    "print(href_link.attrs.values())\n",
    "values=list(href_link.attrs.values())\n",
    "print(values[0], values[1])"
   ]
  },
  {
   "cell_type": "code",
   "execution_count": 17,
   "id": "b76560ae",
   "metadata": {},
   "outputs": [
    {
     "name": "stdout",
     "output_type": "stream",
     "text": [
      "<a class=\"external_link\" href=\"www.google.com\">google</a>\n",
      "google\n"
     ]
    }
   ],
   "source": [
    "# href 속성의 값이 'www.google.com'인 항목 검색\n",
    "href_value=soup.find(attrs={'href':'www.google.com'})\n",
    "print(href_value)\n",
    "print(href_value.text)"
   ]
  },
  {
   "cell_type": "code",
   "execution_count": 18,
   "id": "b81997c7",
   "metadata": {},
   "outputs": [
    {
     "name": "stdout",
     "output_type": "stream",
     "text": [
      "span tag: <span class=\"red\">BeautifulSoup Library Examples!</span>\n",
      "attrs: {'class': ['red']}\n",
      "value: ['red']\n",
      "text: BeautifulSoup Library Examples!\n"
     ]
    }
   ],
   "source": [
    "# span 태그의 속성 가져오기\n",
    "span_tag=soup.find('span')\n",
    "\n",
    "print('span tag:', span_tag)\n",
    "print('attrs:', span_tag.attrs)\n",
    "print('value:', span_tag.attrs['class'])\n",
    "print('text:',span_tag.text)"
   ]
  },
  {
   "cell_type": "code",
   "execution_count": 19,
   "id": "ff4cbb48",
   "metadata": {},
   "outputs": [
    {
     "name": "stdout",
     "output_type": "stream",
     "text": [
      "[<div id=\"link\">\n",
      "<a class=\"external_link\" href=\"www.google.com\">google</a>\n",
      "<div id=\"class1\">\n",
      "<p id=\"first\">class1's first paragraph</p>\n",
      "<a class=\"external_link\" href=\"www.naver.com\">naver</a>\n",
      "<p id=\"second\">class1's second paragraph</p>\n",
      "<a class=\"internal_link\" href=\"/pages/page1.html\">Page1</a>\n",
      "<p id=\"third\">class1's third paragraph</p>\n",
      "</div>\n",
      "</div>, <div id=\"class1\">\n",
      "<p id=\"first\">class1's first paragraph</p>\n",
      "<a class=\"external_link\" href=\"www.naver.com\">naver</a>\n",
      "<p id=\"second\">class1's second paragraph</p>\n",
      "<a class=\"internal_link\" href=\"/pages/page1.html\">Page1</a>\n",
      "<p id=\"third\">class1's third paragraph</p>\n",
      "</div>, <div id=\"text_id2\">\n",
      "        Example page\n",
      "        <p>g</p>\n",
      "</div>]\n"
     ]
    }
   ],
   "source": [
    "# 모든 div 태그 검색\n",
    "div_tags=soup.find_all('div')\n",
    "print(div_tags)"
   ]
  },
  {
   "cell_type": "code",
   "execution_count": 20,
   "id": "8df1a737",
   "metadata": {},
   "outputs": [
    {
     "name": "stdout",
     "output_type": "stream",
     "text": [
      "3\n",
      "<div id=\"text_id2\">\n",
      "        Example page\n",
      "        <p>g</p>\n",
      "</div>\n"
     ]
    }
   ],
   "source": [
    "print(len(div_tags))\n",
    "print(div_tags[2])"
   ]
  },
  {
   "cell_type": "code",
   "execution_count": 21,
   "id": "a47d93d8",
   "metadata": {},
   "outputs": [
    {
     "name": "stdout",
     "output_type": "stream",
     "text": [
      "<a class=\"external_link\" href=\"www.google.com\">google</a>\n",
      "url:www.google.com, text:google\n",
      "\n",
      "<a class=\"external_link\" href=\"www.naver.com\">naver</a>\n",
      "url:www.naver.com, text:naver\n",
      "\n",
      "<a class=\"internal_link\" href=\"/pages/page1.html\">Page1</a>\n",
      "url:/pages/page1.html, text:Page1\n",
      "\n"
     ]
    }
   ],
   "source": [
    "# 모든 <a> 태그 검색 및 속성 보기\n",
    "links =soup.find_all('a')\n",
    "\n",
    "for alink in links:\n",
    "    print(alink)\n",
    "    print('url:{}, text:{}'.format(alink['href'], alink.get_text()))\n",
    "    print()"
   ]
  },
  {
   "cell_type": "code",
   "execution_count": 22,
   "id": "84254282",
   "metadata": {},
   "outputs": [
    {
     "name": "stdout",
     "output_type": "stream",
     "text": [
      "[<a class=\"external_link\" href=\"www.google.com\">google</a>, <a class=\"external_link\" href=\"www.naver.com\">naver</a>, <a class=\"internal_link\" href=\"/pages/page1.html\">Page1</a>]\n"
     ]
    }
   ],
   "source": [
    "# 특정 태그 중 여러 속성값을 한 번에 검색\n",
    "# 여러 <a> 태그에서 2개의 class 속성값 검색\n",
    "# 'external_link', 'internal_link'만 검색\n",
    "# 검색할 속성값을 리스트 형태로 추가\n",
    "\n",
    "link_tags=soup.find_all('a', {'class':['external_link', 'internal_link']})\n",
    "print(link_tags)"
   ]
  },
  {
   "cell_type": "code",
   "execution_count": 24,
   "id": "0dbbf84a",
   "metadata": {},
   "outputs": [
    {
     "name": "stdout",
     "output_type": "stream",
     "text": [
      "<p id=\"first\">class1's first paragraph</p>\n",
      "<p id=\"third\">class1's third paragraph</p>\n"
     ]
    }
   ],
   "source": [
    "# <p> 태그의 id 값이 'first', 'third'인 항목 검색\n",
    "\n",
    "p_tags=soup.find_all('p',{'id':['first','third']})\n",
    "for p in p_tags:\n",
    "    print(p)"
   ]
  },
  {
   "cell_type": "markdown",
   "id": "1a94c8ec",
   "metadata": {},
   "source": [
    "## BeautifulSoup 기초 : select() 함수"
   ]
  },
  {
   "cell_type": "code",
   "execution_count": 25,
   "id": "9b8904ce",
   "metadata": {},
   "outputs": [
    {
     "data": {
      "text/plain": [
       "<head>\n",
       "<meta charset=\"utf-8\"/>\n",
       "<meta content=\"width=device-width, initial-scale=1.0\" name=\"viewport\"/>\n",
       "<title>BeautifulSoup 활용</title>\n",
       "</head>"
      ]
     },
     "execution_count": 25,
     "metadata": {},
     "output_type": "execute_result"
    }
   ],
   "source": [
    "# select_one() 예제\n",
    "# <head> 태그 검색\n",
    "head=soup.select_one('head')\n",
    "head"
   ]
  },
  {
   "cell_type": "code",
   "execution_count": 26,
   "id": "47df8362",
   "metadata": {},
   "outputs": [
    {
     "data": {
      "text/plain": [
       "<h1 id=\"heading\">Heading 1</h1>"
      ]
     },
     "execution_count": 26,
     "metadata": {},
     "output_type": "execute_result"
    }
   ],
   "source": [
    "# 첫 번째 <h1> 태그 검색\n",
    "h1=soup.select_one('h1')\n",
    "h1"
   ]
  },
  {
   "cell_type": "code",
   "execution_count": 27,
   "id": "ee3b471c",
   "metadata": {},
   "outputs": [
    {
     "data": {
      "text/plain": [
       "<h1 id=\"footer\">Footer</h1>"
      ]
     },
     "execution_count": 27,
     "metadata": {},
     "output_type": "execute_result"
    }
   ],
   "source": [
    "# <h1> 태그의 id 검색 : #id\n",
    "# <h1> 태그의 id가 'footer'인 항목 추출\n",
    "heading=soup.select_one('h1#footer')\n",
    "# 혹은 heading=soup.select_one('#footer')\n",
    "heading"
   ]
  },
  {
   "cell_type": "code",
   "execution_count": 28,
   "id": "5c9ed010",
   "metadata": {},
   "outputs": [
    {
     "data": {
      "text/plain": [
       "<a class=\"internal_link\" href=\"/pages/page1.html\">Page1</a>"
      ]
     },
     "execution_count": 28,
     "metadata": {},
     "output_type": "execute_result"
    }
   ],
   "source": [
    "# 클래스 이름 검색 : 태그.클래스이름\n",
    "# <a class='internal_link'> 검색\n",
    "class_link=soup.select_one('a.internal_link')\n",
    "class_link"
   ]
  },
  {
   "cell_type": "code",
   "execution_count": 29,
   "id": "3e65e454",
   "metadata": {},
   "outputs": [
    {
     "data": {
      "text/plain": [
       "<a class=\"external_link\" href=\"www.google.com\">google</a>"
      ]
     },
     "execution_count": 29,
     "metadata": {},
     "output_type": "execute_result"
    }
   ],
   "source": [
    "# 계층적 하위 태그 접근 (1)\n",
    "# (상위태그 > 하위태그) 형식으로 접근\n",
    "link1=soup.select_one('div#link > a.external_link')\n",
    "link1"
   ]
  },
  {
   "cell_type": "code",
   "execution_count": 30,
   "id": "8b6ca3b2",
   "metadata": {},
   "outputs": [
    {
     "name": "stdout",
     "output_type": "stream",
     "text": [
      "<p id=\"second\">class1's second paragraph</p>\n",
      "class1's second paragraph\n"
     ]
    }
   ],
   "source": [
    "# 계층적 하위 태그 접근 (2)\n",
    "# (상위태그 하위태그) 형식으로 접근\n",
    "link2=soup.select_one('div#class1 p#second')\n",
    "print(link2)\n",
    "print(link2.text)"
   ]
  },
  {
   "cell_type": "markdown",
   "id": "67351cc9",
   "metadata": {},
   "source": [
    "### select() 함수"
   ]
  },
  {
   "cell_type": "code",
   "execution_count": 37,
   "id": "a1d56e0b",
   "metadata": {},
   "outputs": [
    {
     "name": "stdout",
     "output_type": "stream",
     "text": [
      "[<h1 id=\"heading\">Heading 1</h1>, <h1 id=\"footer\">Footer</h1>]\n"
     ]
    }
   ],
   "source": [
    "# 모든 <h1> 태그 검색\n",
    "h1_all=soup.select('h1')\n",
    "print(h1_all)"
   ]
  },
  {
   "cell_type": "code",
   "execution_count": 35,
   "id": "05ef3836",
   "metadata": {},
   "outputs": [
    {
     "name": "stdout",
     "output_type": "stream",
     "text": [
      "www.google.com\n",
      "www.naver.com\n",
      "/pages/page1.html\n"
     ]
    }
   ],
   "source": [
    "# 모든 url 링크 검색\n",
    "# html 문서의 모든 <a> 태그의 href 값 추출\n",
    "url_links=soup.select('a')\n",
    "for link in url_links:\n",
    "    print(link['href'])"
   ]
  },
  {
   "cell_type": "code",
   "execution_count": 39,
   "id": "1c6895f7",
   "metadata": {},
   "outputs": [
    {
     "name": "stdout",
     "output_type": "stream",
     "text": [
      "[<a class=\"external_link\" href=\"www.naver.com\">naver</a>, <a class=\"internal_link\" href=\"/pages/page1.html\">Page1</a>]\n",
      "www.naver.com\n"
     ]
    }
   ],
   "source": [
    "# <div id='class1'> 내부의 모든 url 검색\n",
    "div_urls=soup.select('div#class1 > a')\n",
    "print(div_urls)\n",
    "\n",
    "print(div_urls[0]['href'])"
   ]
  },
  {
   "cell_type": "code",
   "execution_count": 40,
   "id": "1e654bbf",
   "metadata": {},
   "outputs": [
    {
     "name": "stdout",
     "output_type": "stream",
     "text": [
      "[<h1 id=\"heading\">Heading 1</h1>, <h1 id=\"footer\">Footer</h1>]\n"
     ]
    }
   ],
   "source": [
    "# 여러 항목 검색하기\n",
    "# <h1> 태그의 id가 'heading'과 'footer'를 모두 검색\n",
    "# 쉼표(,)로 나열함\n",
    "# <h1 id='heading'>과 <h1 id='footer'> 항목 가져오기\n",
    "h1=soup.select('#heading, #footer')\n",
    "print(h1)"
   ]
  },
  {
   "cell_type": "code",
   "execution_count": 41,
   "id": "4e657f3e",
   "metadata": {},
   "outputs": [
    {
     "name": "stdout",
     "output_type": "stream",
     "text": [
      "[<a class=\"external_link\" href=\"www.google.com\">google</a>, <a class=\"external_link\" href=\"www.naver.com\">naver</a>, <a class=\"internal_link\" href=\"/pages/page1.html\">Page1</a>]\n"
     ]
    }
   ],
   "source": [
    "# <a>태그의 class 이름이 'external_link'와 'internal_link' 모두 검색\n",
    "url_links=soup.select('a.external_link, a.internal_link')\n",
    "print(url_links)"
   ]
  },
  {
   "cell_type": "code",
   "execution_count": 42,
   "id": "793580f9",
   "metadata": {},
   "outputs": [],
   "source": [
    "national_anthem='''\n",
    "<!DOCTYPE html>\n",
    "<html lang=\"en\">\n",
    "<head>\n",
    "    <meta charset=\"UTF-8\">\n",
    "    <title>애국가</title>\n",
    "</head>\n",
    "<body>\n",
    "    <div>\n",
    "        <p id=\"title\">애국가</p>\n",
    "        <p class=\"content\">\n",
    "            동해물과 백두산이 마르고 닳도록 하느님이 보우하사 우리나라 만세.<br>\n",
    "            무궁화 삼천리 화려 강산 대한 사람 대한으로 길이 보전하세.<br>\n",
    "        </p>\n",
    "        <p class=\"content\">\n",
    "            남산 위에 저 소나무 철갑을 두른 듯 바람서리 불변함은 우리 기상일세.<br>\n",
    "            무궁화 삼천리 화려 강산 대한 사람 대한으로 길이 보전하세.<br>\n",
    "        </p>\n",
    "        <p class=\"content\">\n",
    "            가을 하늘 공활한데 높고 구름 없이 밝은 달은 우리 가슴 일편단심일세.<br>\n",
    "            무궁화 삼천리 화려 강산 대한 사람 대한으로 길이 보전하세.<br>\n",
    "        </p>\n",
    "        <p class=\"content\">\n",
    "            이 기상과 이 맘으로 충성을 다하여 괴로우나 즐거우나 나라 사랑하세.<br>\n",
    "            무궁화 삼천리 화려 강산 대한 사람 대한으로 길이 보전하세.<br>\n",
    "        </p>                \n",
    "    </div>\n",
    "</body>\n",
    "</html>\n",
    "'''"
   ]
  },
  {
   "cell_type": "code",
   "execution_count": 43,
   "id": "b8ed54e9",
   "metadata": {},
   "outputs": [
    {
     "name": "stdout",
     "output_type": "stream",
     "text": [
      "애국가\n"
     ]
    }
   ],
   "source": [
    "# 제목과 가사 내용 추출\n",
    "bs4=BeautifulSoup(national_anthem, 'html.parser')\n",
    "print(bs4.select_one('p#title').text)"
   ]
  },
  {
   "cell_type": "code",
   "execution_count": 45,
   "id": "cfac32dc",
   "metadata": {},
   "outputs": [
    {
     "name": "stdout",
     "output_type": "stream",
     "text": [
      "\n",
      "            동해물과 백두산이 마르고 닳도록 하느님이 보우하사 우리나라 만세.\n",
      "            무궁화 삼천리 화려 강산 대한 사람 대한으로 길이 보전하세.\n",
      "\n",
      "\n",
      "            남산 위에 저 소나무 철갑을 두른 듯 바람서리 불변함은 우리 기상일세.\n",
      "            무궁화 삼천리 화려 강산 대한 사람 대한으로 길이 보전하세.\n",
      "\n",
      "\n",
      "            가을 하늘 공활한데 높고 구름 없이 밝은 달은 우리 가슴 일편단심일세.\n",
      "            무궁화 삼천리 화려 강산 대한 사람 대한으로 길이 보전하세.\n",
      "\n",
      "\n",
      "            이 기상과 이 맘으로 충성을 다하여 괴로우나 즐거우나 나라 사랑하세.\n",
      "            무궁화 삼천리 화려 강산 대한 사람 대한으로 길이 보전하세.\n",
      "\n"
     ]
    }
   ],
   "source": [
    "contents=bs4.select('p.content')\n",
    "for content in contents:\n",
    "    print(content.text)"
   ]
  },
  {
   "cell_type": "markdown",
   "id": "6a9a89fb",
   "metadata": {},
   "source": [
    "### select() vs find()"
   ]
  },
  {
   "cell_type": "code",
   "execution_count": 47,
   "id": "aab3e46c",
   "metadata": {},
   "outputs": [],
   "source": [
    "question='''\n",
    "<div class=\"question\">\n",
    "    <div id=\"stats1\">\n",
    "        <span class=\"item_number\">0</span>\n",
    "        <span class=\"item_unit\">votes</span>\n",
    "    </div>\n",
    "    <div id=\"stats2\">\n",
    "        <span class=\"item_number\">10</span>\n",
    "        <span class=\"item_unit\">answer</span>\n",
    "    </div>\n",
    "    <div id=\"stats3\">\n",
    "        <span class=\"item_number\">15</span>\n",
    "        <span class=\"item_unit\">views</span>    \n",
    "    </div>\n",
    "</div>\n",
    "'''"
   ]
  },
  {
   "cell_type": "code",
   "execution_count": 48,
   "id": "7db567eb",
   "metadata": {},
   "outputs": [
    {
     "name": "stdout",
     "output_type": "stream",
     "text": [
      "\n",
      "<div class=\"question\">\n",
      "<div id=\"stats1\">\n",
      "<span class=\"item_number\">0</span>\n",
      "<span class=\"item_unit\">votes</span>\n",
      "</div>\n",
      "<div id=\"stats2\">\n",
      "<span class=\"item_number\">10</span>\n",
      "<span class=\"item_unit\">answer</span>\n",
      "</div>\n",
      "<div id=\"stats3\">\n",
      "<span class=\"item_number\">15</span>\n",
      "<span class=\"item_unit\">views</span>\n",
      "</div>\n",
      "</div>\n",
      "\n"
     ]
    }
   ],
   "source": [
    "soup=BeautifulSoup(question, 'html.parser')\n",
    "print(soup)"
   ]
  },
  {
   "cell_type": "code",
   "execution_count": 50,
   "id": "5135b95c",
   "metadata": {},
   "outputs": [
    {
     "data": {
      "text/plain": [
       "[<span class=\"item_unit\">votes</span>,\n",
       " <span class=\"item_unit\">answer</span>,\n",
       " <span class=\"item_unit\">views</span>]"
      ]
     },
     "execution_count": 50,
     "metadata": {},
     "output_type": "execute_result"
    }
   ],
   "source": [
    "item_units=soup.select('.item_unit')\n",
    "item_units"
   ]
  },
  {
   "cell_type": "code",
   "execution_count": null,
   "id": "1903e934",
   "metadata": {},
   "outputs": [],
   "source": []
  }
 ],
 "metadata": {
  "kernelspec": {
   "display_name": "Python 3 (ipykernel)",
   "language": "python",
   "name": "python3"
  },
  "language_info": {
   "codemirror_mode": {
    "name": "ipython",
    "version": 3
   },
   "file_extension": ".py",
   "mimetype": "text/x-python",
   "name": "python",
   "nbconvert_exporter": "python",
   "pygments_lexer": "ipython3",
   "version": "3.9.12"
  }
 },
 "nbformat": 4,
 "nbformat_minor": 5
}
