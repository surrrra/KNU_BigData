{
 "cells": [
  {
   "cell_type": "code",
   "execution_count": 1,
   "id": "a8f9b98f",
   "metadata": {},
   "outputs": [],
   "source": [
    "# url open\n",
    "from urllib.request import urlopen\n",
    "\n",
    "html=urlopen('https://forecast.weather.gov/MapClick.php?lat=37.7772&lon=-122.4168#.Ytjs-3ZBxPY')"
   ]
  },
  {
   "cell_type": "code",
   "execution_count": 16,
   "id": "6caf559c",
   "metadata": {},
   "outputs": [
    {
     "data": {
      "text/plain": []
     },
     "execution_count": 16,
     "metadata": {},
     "output_type": "execute_result"
    }
   ],
   "source": [
    "from bs4 import BeautifulSoup\n",
    "soup=BeautifulSoup(html.read(), 'html.parser')\n",
    "soup"
   ]
  },
  {
   "cell_type": "code",
   "execution_count": 11,
   "id": "6ae587c7",
   "metadata": {},
   "outputs": [
    {
     "data": {
      "text/plain": [
       "[<div class=\"tombstone-container\">\n",
       " <p class=\"period-name\">Overnight<br/><br/></p>\n",
       " <p><img alt=\"Overnight: Mostly cloudy, with a steady temperature around 56. West southwest wind 15 to 17 mph, with gusts as high as 22 mph. \" class=\"forecast-icon\" src=\"newimages/medium/nbkn.png\" title=\"Overnight: Mostly cloudy, with a steady temperature around 56. West southwest wind 15 to 17 mph, with gusts as high as 22 mph. \"/></p><p class=\"short-desc\">Mostly Cloudy</p><p class=\"temp temp-low\">Low: 56 °F</p></div>,\n",
       " <div class=\"tombstone-container\">\n",
       " <p class=\"period-name\">Thursday<br/><br/></p>\n",
       " <p><img alt=\"Thursday: Mostly cloudy through mid morning, then gradual clearing, with a high near 68. Breezy, with a west wind 13 to 18 mph increasing to 21 to 26 mph in the afternoon. Winds could gust as high as 34 mph. \" class=\"forecast-icon\" src=\"DualImage.php?i=bkn&amp;j=wind_few\" title=\"Thursday: Mostly cloudy through mid morning, then gradual clearing, with a high near 68. Breezy, with a west wind 13 to 18 mph increasing to 21 to 26 mph in the afternoon. Winds could gust as high as 34 mph. \"/></p><p class=\"short-desc\">Partly Sunny<br/>then Sunny<br/>and Breezy</p><p class=\"temp temp-high\">High: 68 °F</p></div>,\n",
       " <div class=\"tombstone-container\">\n",
       " <p class=\"period-name\">Thursday<br/>Night</p>\n",
       " <p><img alt=\"Thursday Night: Partly cloudy, with a low around 55. Breezy, with a west wind 17 to 23 mph, with gusts as high as 30 mph. \" class=\"forecast-icon\" src=\"DualImage.php?i=nwind_few&amp;j=nsct\" title=\"Thursday Night: Partly cloudy, with a low around 55. Breezy, with a west wind 17 to 23 mph, with gusts as high as 30 mph. \"/></p><p class=\"short-desc\">Mostly Clear<br/>and Breezy<br/>then Partly<br/>Cloudy</p><p class=\"temp temp-low\">Low: 55 °F</p></div>,\n",
       " <div class=\"tombstone-container\">\n",
       " <p class=\"period-name\">Friday<br/><br/></p>\n",
       " <p><img alt=\"Friday: Sunny, with a high near 68. Breezy, with a west wind 20 to 26 mph, with gusts as high as 34 mph. \" class=\"forecast-icon\" src=\"newimages/medium/wind_few.png\" title=\"Friday: Sunny, with a high near 68. Breezy, with a west wind 20 to 26 mph, with gusts as high as 34 mph. \"/></p><p class=\"short-desc\">Sunny and<br/>Breezy</p><p class=\"temp temp-high\">High: 68 °F</p></div>,\n",
       " <div class=\"tombstone-container\">\n",
       " <p class=\"period-name\">Friday<br/>Night</p>\n",
       " <p><img alt=\"Friday Night: Partly cloudy, with a low around 54. Breezy, with a west wind 17 to 25 mph, with gusts as high as 33 mph. \" class=\"forecast-icon\" src=\"newimages/medium/nwind_sct.png\" title=\"Friday Night: Partly cloudy, with a low around 54. Breezy, with a west wind 17 to 25 mph, with gusts as high as 33 mph. \"/></p><p class=\"short-desc\">Partly Cloudy<br/>and Breezy</p><p class=\"temp temp-low\">Low: 54 °F</p></div>,\n",
       " <div class=\"tombstone-container\">\n",
       " <p class=\"period-name\">Saturday<br/><br/></p>\n",
       " <p><img alt=\"Saturday: Mostly sunny, with a high near 68.\" class=\"forecast-icon\" src=\"newimages/medium/sct.png\" title=\"Saturday: Mostly sunny, with a high near 68.\"/></p><p class=\"short-desc\">Mostly Sunny</p><p class=\"temp temp-high\">High: 68 °F</p></div>,\n",
       " <div class=\"tombstone-container\">\n",
       " <p class=\"period-name\">Saturday<br/>Night</p>\n",
       " <p><img alt=\"Saturday Night: Partly cloudy, with a low around 54.\" class=\"forecast-icon\" src=\"newimages/medium/nsct.png\" title=\"Saturday Night: Partly cloudy, with a low around 54.\"/></p><p class=\"short-desc\">Partly Cloudy</p><p class=\"temp temp-low\">Low: 54 °F</p></div>,\n",
       " <div class=\"tombstone-container\">\n",
       " <p class=\"period-name\">Sunday<br/><br/></p>\n",
       " <p><img alt=\"Sunday: Mostly sunny, with a high near 70.\" class=\"forecast-icon\" src=\"newimages/medium/sct.png\" title=\"Sunday: Mostly sunny, with a high near 70.\"/></p><p class=\"short-desc\">Mostly Sunny</p><p class=\"temp temp-high\">High: 70 °F</p></div>,\n",
       " <div class=\"tombstone-container\">\n",
       " <p class=\"period-name\">Sunday<br/>Night</p>\n",
       " <p><img alt=\"Sunday Night: Mostly cloudy, with a low around 54.\" class=\"forecast-icon\" src=\"newimages/medium/nbkn.png\" title=\"Sunday Night: Mostly cloudy, with a low around 54.\"/></p><p class=\"short-desc\">Mostly Cloudy</p><p class=\"temp temp-low\">Low: 54 °F</p></div>]"
      ]
     },
     "execution_count": 11,
     "metadata": {},
     "output_type": "execute_result"
    }
   ],
   "source": [
    "my_list=soup.find_all('div', {'class':'tombstone-container'})\n",
    "my_list"
   ]
  },
  {
   "cell_type": "code",
   "execution_count": 7,
   "id": "dc1c96e2",
   "metadata": {},
   "outputs": [
    {
     "ename": "SyntaxError",
     "evalue": "invalid syntax (192468989.py, line 1)",
     "output_type": "error",
     "traceback": [
      "\u001b[1;36m  Input \u001b[1;32mIn [7]\u001b[1;36m\u001b[0m\n\u001b[1;33m    <div class=\"tombstone-container\">\u001b[0m\n\u001b[1;37m    ^\u001b[0m\n\u001b[1;31mSyntaxError\u001b[0m\u001b[1;31m:\u001b[0m invalid syntax\n"
     ]
    }
   ],
   "source": [
    "<div class=\"tombstone-container\">\n",
    " <p class=\"period-name\">Overnight<br/><br/></p>\n",
    " <p><img alt=\"Overnight: Mostly cloudy, with a steady temperature around 56. West southwest wind 15 to 17 mph, with gusts as high as 22 mph. \" class=\"forecast-icon\" src=\"newimages/medium/nbkn.png\" title=\"Overnight: Mostly cloudy, with a steady temperature around 56. West southwest wind 15 to 17 mph, with gusts as high as 22 mph. \"/></p><p class=\"short-desc\">Mostly Cloudy</p><p class=\"temp temp-low\">Low: 56 °F</p></div>"
   ]
  },
  {
   "cell_type": "code",
   "execution_count": 9,
   "id": "400ecda6",
   "metadata": {},
   "outputs": [
    {
     "data": {
      "text/plain": [
       "<div class=\"tombstone-container\">\n",
       "<p class=\"period-name\">Overnight<br/><br/></p>\n",
       "<p><img alt=\"Overnight: Mostly cloudy, with a steady temperature around 56. West southwest wind 15 to 17 mph, with gusts as high as 22 mph. \" class=\"forecast-icon\" src=\"newimages/medium/nbkn.png\" title=\"Overnight: Mostly cloudy, with a steady temperature around 56. West southwest wind 15 to 17 mph, with gusts as high as 22 mph. \"/></p><p class=\"short-desc\">Mostly Cloudy</p><p class=\"temp temp-low\">Low: 56 °F</p></div>"
      ]
     },
     "execution_count": 9,
     "metadata": {},
     "output_type": "execute_result"
    }
   ],
   "source": [
    "t=my_list[0]\n",
    "t"
   ]
  },
  {
   "cell_type": "code",
   "execution_count": 13,
   "id": "d9ab1ada",
   "metadata": {},
   "outputs": [
    {
     "data": {
      "text/plain": [
       "'Overnight'"
      ]
     },
     "execution_count": 13,
     "metadata": {},
     "output_type": "execute_result"
    }
   ],
   "source": [
    "t.find('p', {'class':'period-name'}).text"
   ]
  },
  {
   "cell_type": "code",
   "execution_count": 15,
   "id": "572c61dc",
   "metadata": {},
   "outputs": [
    {
     "data": {
      "text/plain": [
       "[]"
      ]
     },
     "execution_count": 15,
     "metadata": {},
     "output_type": "execute_result"
    }
   ],
   "source": [
    "short_list=soup.find_all('p', {'class':'short_desc'})\n",
    "short_list"
   ]
  },
  {
   "cell_type": "code",
   "execution_count": 19,
   "id": "86feb679",
   "metadata": {},
   "outputs": [
    {
     "data": {
      "text/plain": [
       "'Overnight: Mostly cloudy, with a steady temperature around 56. West southwest wind 15 to 17 mph, with gusts as high as 22 mph. '"
      ]
     },
     "execution_count": 19,
     "metadata": {},
     "output_type": "execute_result"
    }
   ],
   "source": [
    "my_list[0].find('img')['title']"
   ]
  },
  {
   "cell_type": "code",
   "execution_count": null,
   "id": "f762b767",
   "metadata": {},
   "outputs": [],
   "source": []
  }
 ],
 "metadata": {
  "kernelspec": {
   "display_name": "Python 3 (ipykernel)",
   "language": "python",
   "name": "python3"
  },
  "language_info": {
   "codemirror_mode": {
    "name": "ipython",
    "version": 3
   },
   "file_extension": ".py",
   "mimetype": "text/x-python",
   "name": "python",
   "nbconvert_exporter": "python",
   "pygments_lexer": "ipython3",
   "version": "3.9.12"
  }
 },
 "nbformat": 4,
 "nbformat_minor": 5
}
