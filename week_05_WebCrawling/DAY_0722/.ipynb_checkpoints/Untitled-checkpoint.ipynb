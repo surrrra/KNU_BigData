{
 "cells": [
  {
   "cell_type": "code",
   "execution_count": null,
   "id": "0ebe0bdf",
   "metadata": {},
   "outputs": [],
   "source": [
    "from urllib.request import urlopen\n",
    "from bs4 import BeautifulSoup\n",
    "import pandas as pd\n",
    "\n",
    "tds=[]     # <td> 태그 담는 리스트\n",
    "result=[]  # <td> 태그의 text 담는 리스트\n",
    "\n",
    "region=[]     # 지역을 담는 리스트\n",
    "shop_name=[]  # 매장 이름을 담는 리스트\n",
    "shop_addr=[]  # 매장 주소를 담는 리스트\n",
    "call=[]       # 전화번호를 담는 리스트\n",
    "\n",
    "for i in range(1, 54):  # 1~53페이지\n",
    "    html=urlopen('https://www.hollys.co.kr/store/korea/korStore2.do?pageNo='+str(i)+'&sido=&gugun=&store=')\n",
    "    soup=BeautifulSoup(html, 'html.parser')\n",
    "\n",
    "    tbodys = soup.find_all('tbody')\n",
    "    \n",
    "    for t in tbodys:\n",
    "        tbody=t.find_all('td')\n",
    "        for t in tbody:\n",
    "            tds.append(t.text)\n",
    "\n",
    "for i in range(1, len(tds) + 1):\n",
    "    if (i % 6 in [0, 1, 2, 4]):\n",
    "        result.append(tds[i - 1])\n",
    "\n",
    "\n",
    "\n",
    "for i in range(len(result)):\n",
    "        if i%4==0:\n",
    "            region.append(result[i])\n",
    "        elif i%4==1:\n",
    "            shop_name.append(result[i])\n",
    "        elif i%4==2:\n",
    "            shop_addr.append(result[i])\n",
    "        else:\n",
    "            call.append(result[i])\n",
    "\n",
    "\n",
    "region_df=pd.DataFrame(region, columns=['지역'])\n",
    "shop_name_df=pd.DataFrame(shop_name, columns=['매장명'])\n",
    "shop_addr_df=pd.DataFrame(shop_addr, columns=['주소'])\n",
    "call_df=pd.DataFrame(call, columns=['전화번호'])\n",
    "shop_info=pd.concat([region_df, shop_name_df, shop_addr_df, call_df], axis=1)\n",
    "\n",
    "shop_info=pd.DataFrame(shop_info)"
   ]
  }
 ],
 "metadata": {
  "kernelspec": {
   "display_name": "Python 3 (ipykernel)",
   "language": "python",
   "name": "python3"
  },
  "language_info": {
   "codemirror_mode": {
    "name": "ipython",
    "version": 3
   },
   "file_extension": ".py",
   "mimetype": "text/x-python",
   "name": "python",
   "nbconvert_exporter": "python",
   "pygments_lexer": "ipython3",
   "version": "3.9.12"
  }
 },
 "nbformat": 4,
 "nbformat_minor": 5
}
