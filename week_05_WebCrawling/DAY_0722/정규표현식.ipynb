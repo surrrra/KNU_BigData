{
 "cells": [
  {
   "cell_type": "markdown",
   "id": "75817b90",
   "metadata": {},
   "source": [
    "# 정규표현식"
   ]
  },
  {
   "cell_type": "markdown",
   "id": "2f670e1f",
   "metadata": {},
   "source": [
    "### 정규 표현식 객체 사용"
   ]
  },
  {
   "cell_type": "code",
   "execution_count": 1,
   "id": "f53c8546",
   "metadata": {},
   "outputs": [
    {
     "name": "stdout",
     "output_type": "stream",
     "text": [
      "None\n",
      "<re.Match object; span=(7, 12), match='apple'>\n"
     ]
    }
   ],
   "source": [
    "# 정규식 객체를 생성 : compile(pattern)\n",
    "# 동일 패턴을 여러 번 검색하는 경우, 편리하게 사용\n",
    "\n",
    "import re\n",
    "m=re.match('[a-z]+', 'Python')\n",
    "print(m)\n",
    "print(re.search('apple', 'I like apple!'))"
   ]
  },
  {
   "cell_type": "code",
   "execution_count": 2,
   "id": "e74373f5",
   "metadata": {},
   "outputs": [
    {
     "name": "stdout",
     "output_type": "stream",
     "text": [
      "['life', 'is', 'too', 'short']\n"
     ]
    }
   ],
   "source": [
    "# findall() 함수\n",
    "# 일치하는 모든 문자열을 리스트로 리턴\n",
    "p=re.compile('[a-z]+')\n",
    "print(p.findall('life is too short'))"
   ]
  },
  {
   "cell_type": "code",
   "execution_count": 3,
   "id": "17c2301d",
   "metadata": {},
   "outputs": [
    {
     "name": "stdout",
     "output_type": "stream",
     "text": [
      "<re.Match object; span=(2, 6), match='like'>\n"
     ]
    }
   ],
   "source": [
    "# search() 함수\n",
    "# 일치하는 첫 번째 문자열만 리턴\n",
    "result=p.search('I like apple123')\n",
    "print(result)"
   ]
  },
  {
   "cell_type": "code",
   "execution_count": 4,
   "id": "4f0ea14e",
   "metadata": {},
   "outputs": [
    {
     "name": "stdout",
     "output_type": "stream",
     "text": [
      "['like', 'apple']\n"
     ]
    }
   ],
   "source": [
    "result=p.findall('I like apple 123')\n",
    "print(result)"
   ]
  },
  {
   "cell_type": "markdown",
   "id": "4acd74b1",
   "metadata": {},
   "source": [
    "## Match 메소드 예제 (1)"
   ]
  },
  {
   "cell_type": "code",
   "execution_count": null,
   "id": "11475b4b",
   "metadata": {},
   "outputs": [],
   "source": []
  },
  {
   "cell_type": "code",
   "execution_count": null,
   "id": "4456b2bc",
   "metadata": {},
   "outputs": [],
   "source": []
  },
  {
   "cell_type": "code",
   "execution_count": 7,
   "id": "a4417393",
   "metadata": {},
   "outputs": [
    {
     "name": "stdout",
     "output_type": "stream",
     "text": [
      "<re.Match object; span=(40, 44), match='2021'>\n"
     ]
    },
    {
     "data": {
      "text/plain": [
       "'2021'"
      ]
     },
     "execution_count": 7,
     "metadata": {},
     "output_type": "execute_result"
    }
   ],
   "source": [
    "import re\n",
    "\n",
    "s='Python 3.10 was released on October 04, 2021'\n",
    "\n",
    "pattern='\\d{4}'  # 숫자가 4개인 경우 출력\n",
    "match=re.search(pattern, s)\n",
    "print(match)\n",
    "start, end=match.span()  # \n",
    "s[start:end]"
   ]
  },
  {
   "cell_type": "code",
   "execution_count": null,
   "id": "82a255f6",
   "metadata": {},
   "outputs": [],
   "source": []
  },
  {
   "cell_type": "code",
   "execution_count": null,
   "id": "2a674d21",
   "metadata": {},
   "outputs": [],
   "source": []
  },
  {
   "cell_type": "markdown",
   "id": "47a6e7f5",
   "metadata": {},
   "source": [
    "## 정규표현식과 BeautifulSoup (1)\n",
    "#### 제품 이미지 검색 :\n",
    "- <'img' src=\"...\"> 태그의 속성['src'] 사용"
   ]
  },
  {
   "cell_type": "code",
   "execution_count": 10,
   "id": "67ac2ddf",
   "metadata": {},
   "outputs": [
    {
     "name": "stdout",
     "output_type": "stream",
     "text": [
      "<img src=\"../img/gifts/img1.jpg\"/>, ../img/gifts/img1.jpg\n",
      "<img src=\"../img/gifts/img2.jpg\"/>, ../img/gifts/img2.jpg\n",
      "<img src=\"../img/gifts/img3.jpg\"/>, ../img/gifts/img3.jpg\n",
      "<img src=\"../img/gifts/img4.jpg\"/>, ../img/gifts/img4.jpg\n",
      "<img src=\"../img/gifts/img6.jpg\"/>, ../img/gifts/img6.jpg\n"
     ]
    }
   ],
   "source": [
    "from urllib.request import urlopen\n",
    "from bs4 import BeautifulSoup\n",
    "import re\n",
    "\n",
    "html=urlopen('https://www.pythonscraping.com/pages/page3.html')\n",
    "bs=BeautifulSoup(html, 'html.parser')\n",
    "\n",
    "img_tag=re.compile('/img/gifts/img.*.jpg')  # '.*' 임의의 한 문자 0회 이상\n",
    "# img/gifts/img 임의의문자 \n",
    "images=bs.find_all('img', {'src':img_tag})\n",
    "for image in images:\n",
    "    print(image, end=', ')\n",
    "    print(image['src'])"
   ]
  },
  {
   "cell_type": "markdown",
   "id": "bb17c031",
   "metadata": {},
   "source": [
    "## 정규 표현식과 BeautifulSoup (2)"
   ]
  },
  {
   "cell_type": "markdown",
   "id": "38931053",
   "metadata": {},
   "source": [
    "#### 대소문자 구분 없이 특정 단어 검색\n",
    "- [T|t]{1}he prince'\n",
    "    - T 또는 t가 1회"
   ]
  },
  {
   "cell_type": "code",
   "execution_count": 14,
   "id": "a1092b78",
   "metadata": {},
   "outputs": [
    {
     "name": "stdout",
     "output_type": "stream",
     "text": [
      "the prince count :  7\n",
      "T|the prince count :  11\n"
     ]
    }
   ],
   "source": [
    "html=urlopen('https://www.pythonscraping.com/pages/warandpeace.html')\n",
    "bs=BeautifulSoup(html, 'html.parser')\n",
    "\n",
    "princeList=bs.find_all(text='the prince')\n",
    "print('the prince count : ', len(princeList))\n",
    "\n",
    "# find_all()에 정규식 사용\n",
    "prince_list=bs.find_all(text=re.compile('[T|t]{1}he prince'))\n",
    "print('T|the prince count : ', len(prince_list))"
   ]
  },
  {
   "cell_type": "code",
   "execution_count": null,
   "id": "aa08a900",
   "metadata": {},
   "outputs": [],
   "source": []
  }
 ],
 "metadata": {
  "kernelspec": {
   "display_name": "Python 3 (ipykernel)",
   "language": "python",
   "name": "python3"
  },
  "language_info": {
   "codemirror_mode": {
    "name": "ipython",
    "version": 3
   },
   "file_extension": ".py",
   "mimetype": "text/x-python",
   "name": "python",
   "nbconvert_exporter": "python",
   "pygments_lexer": "ipython3",
   "version": "3.9.12"
  }
 },
 "nbformat": 4,
 "nbformat_minor": 5
}
