{
 "cells": [
  {
   "cell_type": "markdown",
   "id": "01fd6f8e",
   "metadata": {},
   "source": [
    "# 월간 데이콘 소설 작가 분류 AI 경진대회\n",
    "데이터 출처 : https://dacon.io/competitions/official/235670/overview/description"
   ]
  },
  {
   "cell_type": "markdown",
   "id": "13cd7278",
   "metadata": {},
   "source": [
    "- 작가의 글을 분석하여 특징을 도출하는 알고리즘\n",
    "- 작가\n",
    "    * 0 : Charles Dickens(찰스 디킨스, Great Expectations)\n",
    "    * 1 : Jane Austen(제인 오스틴, Emma)\n",
    "    * 2 : Conan Doyle(코난 도일, The White Company)\n",
    "    * 3 : Fyodor Dostoevsky(표도르 도스토옙스키, White Nights and Other Stories)\n",
    "    * 4 : Robert Louis Stevenson(로버트 루이스 스티븐슨, The Merry Men)"
   ]
  },
  {
   "cell_type": "code",
   "execution_count": 1,
   "id": "19831390",
   "metadata": {},
   "outputs": [],
   "source": [
    "from tensorflow.keras.preprocessing.text import text_to_word_sequence, Tokenizer\n",
    "from tensorflow.keras.preprocessing.sequence import pad_sequences\n",
    "from sklearn.model_selection import train_test_split\n",
    "from tensorflow.keras.layers import SimpleRNN, Embedding, Dense, LSTM, Dropout\n",
    "from tensorflow.keras.models import Sequential\n",
    "from tensorflow.keras.utils import set_random_seed, plot_model, to_categorical\n",
    "from tensorflow.keras.callbacks import EarlyStopping, ModelCheckpoint\n",
    "import matplotlib.pyplot as plt\n",
    "import numpy as np\n",
    "import pandas as pd\n",
    "import re\n",
    "import nltk"
   ]
  },
  {
   "cell_type": "markdown",
   "id": "d1e35e4d",
   "metadata": {},
   "source": [
    "## 데이터 로딩 및 전처리"
   ]
  },
  {
   "cell_type": "code",
   "execution_count": 2,
   "id": "198559f1",
   "metadata": {},
   "outputs": [],
   "source": [
    "FILE_PATH='./file/'\n",
    "TRAIN_NAME='nlp_train.csv'\n",
    "TEST_NAME='nlp_test_x.csv'"
   ]
  },
  {
   "cell_type": "code",
   "execution_count": 3,
   "id": "fc0604f1",
   "metadata": {},
   "outputs": [],
   "source": [
    "train=pd.read_csv(FILE_PATH+TRAIN_NAME)\n",
    "test=pd.read_csv(FILE_PATH+TEST_NAME)"
   ]
  },
  {
   "cell_type": "code",
   "execution_count": 4,
   "id": "f23f3b27",
   "metadata": {},
   "outputs": [],
   "source": [
    "test=pd.read_csv(FILE_PATH+TEST_NAME)"
   ]
  },
  {
   "cell_type": "code",
   "execution_count": 5,
   "id": "4ded622b",
   "metadata": {},
   "outputs": [
    {
     "data": {
      "text/html": [
       "<div>\n",
       "<style scoped>\n",
       "    .dataframe tbody tr th:only-of-type {\n",
       "        vertical-align: middle;\n",
       "    }\n",
       "\n",
       "    .dataframe tbody tr th {\n",
       "        vertical-align: top;\n",
       "    }\n",
       "\n",
       "    .dataframe thead th {\n",
       "        text-align: right;\n",
       "    }\n",
       "</style>\n",
       "<table border=\"1\" class=\"dataframe\">\n",
       "  <thead>\n",
       "    <tr style=\"text-align: right;\">\n",
       "      <th></th>\n",
       "      <th>index</th>\n",
       "      <th>text</th>\n",
       "      <th>author</th>\n",
       "    </tr>\n",
       "  </thead>\n",
       "  <tbody>\n",
       "    <tr>\n",
       "      <th>0</th>\n",
       "      <td>0</td>\n",
       "      <td>He was almost choking. There was so much, so m...</td>\n",
       "      <td>3</td>\n",
       "    </tr>\n",
       "    <tr>\n",
       "      <th>1</th>\n",
       "      <td>1</td>\n",
       "      <td>“Your sister asked for it, I suppose?”</td>\n",
       "      <td>2</td>\n",
       "    </tr>\n",
       "    <tr>\n",
       "      <th>2</th>\n",
       "      <td>2</td>\n",
       "      <td>She was engaged one day as she walked, in per...</td>\n",
       "      <td>1</td>\n",
       "    </tr>\n",
       "    <tr>\n",
       "      <th>3</th>\n",
       "      <td>3</td>\n",
       "      <td>The captain was in the porch, keeping himself ...</td>\n",
       "      <td>4</td>\n",
       "    </tr>\n",
       "    <tr>\n",
       "      <th>4</th>\n",
       "      <td>4</td>\n",
       "      <td>“Have mercy, gentlemen!” odin flung up his han...</td>\n",
       "      <td>3</td>\n",
       "    </tr>\n",
       "    <tr>\n",
       "      <th>...</th>\n",
       "      <td>...</td>\n",
       "      <td>...</td>\n",
       "      <td>...</td>\n",
       "    </tr>\n",
       "    <tr>\n",
       "      <th>54874</th>\n",
       "      <td>54874</td>\n",
       "      <td>“Is that you, Mr. Smith?” odin whispered. “I h...</td>\n",
       "      <td>2</td>\n",
       "    </tr>\n",
       "    <tr>\n",
       "      <th>54875</th>\n",
       "      <td>54875</td>\n",
       "      <td>I told my plan to the captain, and between us ...</td>\n",
       "      <td>4</td>\n",
       "    </tr>\n",
       "    <tr>\n",
       "      <th>54876</th>\n",
       "      <td>54876</td>\n",
       "      <td>\"Your sincere well-wisher, friend, and sister...</td>\n",
       "      <td>1</td>\n",
       "    </tr>\n",
       "    <tr>\n",
       "      <th>54877</th>\n",
       "      <td>54877</td>\n",
       "      <td>“Then you wanted me to lend you money?”</td>\n",
       "      <td>3</td>\n",
       "    </tr>\n",
       "    <tr>\n",
       "      <th>54878</th>\n",
       "      <td>54878</td>\n",
       "      <td>It certainly had not occurred to me before, bu...</td>\n",
       "      <td>0</td>\n",
       "    </tr>\n",
       "  </tbody>\n",
       "</table>\n",
       "<p>54879 rows × 3 columns</p>\n",
       "</div>"
      ],
      "text/plain": [
       "       index                                               text  author\n",
       "0          0  He was almost choking. There was so much, so m...       3\n",
       "1          1             “Your sister asked for it, I suppose?”       2\n",
       "2          2   She was engaged one day as she walked, in per...       1\n",
       "3          3  The captain was in the porch, keeping himself ...       4\n",
       "4          4  “Have mercy, gentlemen!” odin flung up his han...       3\n",
       "...      ...                                                ...     ...\n",
       "54874  54874  “Is that you, Mr. Smith?” odin whispered. “I h...       2\n",
       "54875  54875  I told my plan to the captain, and between us ...       4\n",
       "54876  54876   \"Your sincere well-wisher, friend, and sister...       1\n",
       "54877  54877            “Then you wanted me to lend you money?”       3\n",
       "54878  54878  It certainly had not occurred to me before, bu...       0\n",
       "\n",
       "[54879 rows x 3 columns]"
      ]
     },
     "execution_count": 5,
     "metadata": {},
     "output_type": "execute_result"
    }
   ],
   "source": [
    "train"
   ]
  },
  {
   "cell_type": "code",
   "execution_count": 6,
   "id": "7533bc30",
   "metadata": {},
   "outputs": [
    {
     "name": "stdout",
     "output_type": "stream",
     "text": [
      "<class 'pandas.core.frame.DataFrame'>\n",
      "RangeIndex: 19617 entries, 0 to 19616\n",
      "Data columns (total 2 columns):\n",
      " #   Column  Non-Null Count  Dtype \n",
      "---  ------  --------------  ----- \n",
      " 0   index   19617 non-null  int64 \n",
      " 1   text    19617 non-null  object\n",
      "dtypes: int64(1), object(1)\n",
      "memory usage: 306.6+ KB\n"
     ]
    }
   ],
   "source": [
    "test.info()"
   ]
  },
  {
   "cell_type": "code",
   "execution_count": 7,
   "id": "8dd7921c",
   "metadata": {},
   "outputs": [
    {
     "name": "stdout",
     "output_type": "stream",
     "text": [
      "<class 'pandas.core.frame.DataFrame'>\n",
      "RangeIndex: 54879 entries, 0 to 54878\n",
      "Data columns (total 3 columns):\n",
      " #   Column  Non-Null Count  Dtype \n",
      "---  ------  --------------  ----- \n",
      " 0   index   54879 non-null  int64 \n",
      " 1   text    54879 non-null  object\n",
      " 2   author  54879 non-null  int64 \n",
      "dtypes: int64(2), object(1)\n",
      "memory usage: 1.3+ MB\n"
     ]
    }
   ],
   "source": [
    "train.info()"
   ]
  },
  {
   "cell_type": "code",
   "execution_count": 8,
   "id": "72e44615",
   "metadata": {},
   "outputs": [
    {
     "data": {
      "text/plain": [
       "index     0\n",
       "text      0\n",
       "author    0\n",
       "dtype: int64"
      ]
     },
     "execution_count": 8,
     "metadata": {},
     "output_type": "execute_result"
    }
   ],
   "source": [
    "# 결측치 체크\n",
    "train.isnull().sum()"
   ]
  },
  {
   "cell_type": "code",
   "execution_count": 9,
   "id": "acf5e3f5",
   "metadata": {},
   "outputs": [],
   "source": [
    "# 필요없는 열 제거\n",
    "train=train.drop(columns=['index'])\n",
    "test=test.drop(columns=['index'])"
   ]
  },
  {
   "cell_type": "code",
   "execution_count": 10,
   "id": "5a234b18",
   "metadata": {},
   "outputs": [
    {
     "data": {
      "text/html": [
       "<div>\n",
       "<style scoped>\n",
       "    .dataframe tbody tr th:only-of-type {\n",
       "        vertical-align: middle;\n",
       "    }\n",
       "\n",
       "    .dataframe tbody tr th {\n",
       "        vertical-align: top;\n",
       "    }\n",
       "\n",
       "    .dataframe thead th {\n",
       "        text-align: right;\n",
       "    }\n",
       "</style>\n",
       "<table border=\"1\" class=\"dataframe\">\n",
       "  <thead>\n",
       "    <tr style=\"text-align: right;\">\n",
       "      <th></th>\n",
       "      <th>text</th>\n",
       "      <th>author</th>\n",
       "    </tr>\n",
       "  </thead>\n",
       "  <tbody>\n",
       "    <tr>\n",
       "      <th>0</th>\n",
       "      <td>He was almost choking. There was so much, so m...</td>\n",
       "      <td>3</td>\n",
       "    </tr>\n",
       "    <tr>\n",
       "      <th>1</th>\n",
       "      <td>“Your sister asked for it, I suppose?”</td>\n",
       "      <td>2</td>\n",
       "    </tr>\n",
       "    <tr>\n",
       "      <th>2</th>\n",
       "      <td>She was engaged one day as she walked, in per...</td>\n",
       "      <td>1</td>\n",
       "    </tr>\n",
       "    <tr>\n",
       "      <th>3</th>\n",
       "      <td>The captain was in the porch, keeping himself ...</td>\n",
       "      <td>4</td>\n",
       "    </tr>\n",
       "    <tr>\n",
       "      <th>4</th>\n",
       "      <td>“Have mercy, gentlemen!” odin flung up his han...</td>\n",
       "      <td>3</td>\n",
       "    </tr>\n",
       "    <tr>\n",
       "      <th>...</th>\n",
       "      <td>...</td>\n",
       "      <td>...</td>\n",
       "    </tr>\n",
       "    <tr>\n",
       "      <th>54874</th>\n",
       "      <td>“Is that you, Mr. Smith?” odin whispered. “I h...</td>\n",
       "      <td>2</td>\n",
       "    </tr>\n",
       "    <tr>\n",
       "      <th>54875</th>\n",
       "      <td>I told my plan to the captain, and between us ...</td>\n",
       "      <td>4</td>\n",
       "    </tr>\n",
       "    <tr>\n",
       "      <th>54876</th>\n",
       "      <td>\"Your sincere well-wisher, friend, and sister...</td>\n",
       "      <td>1</td>\n",
       "    </tr>\n",
       "    <tr>\n",
       "      <th>54877</th>\n",
       "      <td>“Then you wanted me to lend you money?”</td>\n",
       "      <td>3</td>\n",
       "    </tr>\n",
       "    <tr>\n",
       "      <th>54878</th>\n",
       "      <td>It certainly had not occurred to me before, bu...</td>\n",
       "      <td>0</td>\n",
       "    </tr>\n",
       "  </tbody>\n",
       "</table>\n",
       "<p>54879 rows × 2 columns</p>\n",
       "</div>"
      ],
      "text/plain": [
       "                                                    text  author\n",
       "0      He was almost choking. There was so much, so m...       3\n",
       "1                 “Your sister asked for it, I suppose?”       2\n",
       "2       She was engaged one day as she walked, in per...       1\n",
       "3      The captain was in the porch, keeping himself ...       4\n",
       "4      “Have mercy, gentlemen!” odin flung up his han...       3\n",
       "...                                                  ...     ...\n",
       "54874  “Is that you, Mr. Smith?” odin whispered. “I h...       2\n",
       "54875  I told my plan to the captain, and between us ...       4\n",
       "54876   \"Your sincere well-wisher, friend, and sister...       1\n",
       "54877            “Then you wanted me to lend you money?”       3\n",
       "54878  It certainly had not occurred to me before, bu...       0\n",
       "\n",
       "[54879 rows x 2 columns]"
      ]
     },
     "execution_count": 10,
     "metadata": {},
     "output_type": "execute_result"
    }
   ],
   "source": [
    "train"
   ]
  },
  {
   "cell_type": "code",
   "execution_count": 11,
   "id": "f77a84c5",
   "metadata": {},
   "outputs": [
    {
     "data": {
      "text/plain": [
       "135"
      ]
     },
     "execution_count": 11,
     "metadata": {},
     "output_type": "execute_result"
    }
   ],
   "source": [
    "# 중복 데이터 체크 및 삭제\n",
    "train['text'].duplicated().sum()"
   ]
  },
  {
   "cell_type": "code",
   "execution_count": 12,
   "id": "e9c20af5",
   "metadata": {},
   "outputs": [],
   "source": [
    "train.drop_duplicates(subset=['text'], inplace=True)\n",
    "#test.drop_duplicates(subset=['text'], inplace=True)"
   ]
  },
  {
   "cell_type": "code",
   "execution_count": 13,
   "id": "09f9c79a",
   "metadata": {},
   "outputs": [
    {
     "data": {
      "text/plain": [
       "((54744, 2), (19617, 1))"
      ]
     },
     "execution_count": 13,
     "metadata": {},
     "output_type": "execute_result"
    }
   ],
   "source": [
    "train.shape, test.shape"
   ]
  },
  {
   "cell_type": "code",
   "execution_count": 14,
   "id": "fed6409a",
   "metadata": {},
   "outputs": [],
   "source": [
    "data=train['text']\n",
    "test_data=test['text']"
   ]
  },
  {
   "cell_type": "code",
   "execution_count": 15,
   "id": "137e974b",
   "metadata": {},
   "outputs": [
    {
     "data": {
      "text/plain": [
       "pandas.core.series.Series"
      ]
     },
     "execution_count": 15,
     "metadata": {},
     "output_type": "execute_result"
    }
   ],
   "source": [
    "type(data)"
   ]
  },
  {
   "cell_type": "code",
   "execution_count": 16,
   "id": "de183bf6",
   "metadata": {},
   "outputs": [],
   "source": [
    "# 리스트화\n",
    "data=data.tolist()\n",
    "test_data=test_data.tolist()"
   ]
  },
  {
   "cell_type": "code",
   "execution_count": 17,
   "id": "35c57515",
   "metadata": {},
   "outputs": [
    {
     "data": {
      "text/plain": [
       "(54744, 19617)"
      ]
     },
     "execution_count": 17,
     "metadata": {},
     "output_type": "execute_result"
    }
   ],
   "source": [
    "len(data), len(test_data)"
   ]
  },
  {
   "cell_type": "code",
   "execution_count": 18,
   "id": "babd8624",
   "metadata": {},
   "outputs": [],
   "source": [
    "target=train['author']\n",
    "target=target.tolist()"
   ]
  },
  {
   "cell_type": "code",
   "execution_count": 19,
   "id": "5c618e29",
   "metadata": {},
   "outputs": [
    {
     "data": {
      "text/plain": [
       "54744"
      ]
     },
     "execution_count": 19,
     "metadata": {},
     "output_type": "execute_result"
    }
   ],
   "source": [
    "len(target)"
   ]
  },
  {
   "cell_type": "code",
   "execution_count": 20,
   "id": "db5ae0f6",
   "metadata": {},
   "outputs": [
    {
     "data": {
      "text/plain": [
       "array([0, 1, 2, 3, 4])"
      ]
     },
     "execution_count": 20,
     "metadata": {},
     "output_type": "execute_result"
    }
   ],
   "source": [
    "np.unique(target)  # target unique 확인"
   ]
  },
  {
   "cell_type": "code",
   "execution_count": 21,
   "id": "f0f599ed",
   "metadata": {},
   "outputs": [],
   "source": [
    "# target 값 분포 확인\n",
    "def check_dist(df, target, name):\n",
    "    hist=[]\n",
    "    for i in np.unique(target):\n",
    "        hist.append(df[df['author']==i].shape[0])\n",
    "        print(f\"author={i} : {df[df['author']==i].shape[0]}\")\n",
    "        \n",
    "    df['author'].value_counts().plot(kind='bar')\n",
    "    plt.title(name)"
   ]
  },
  {
   "cell_type": "code",
   "execution_count": 22,
   "id": "80d8c784",
   "metadata": {
    "scrolled": false
   },
   "outputs": [
    {
     "name": "stdout",
     "output_type": "stream",
     "text": [
      "author=0 : 13223\n",
      "author=1 : 7221\n",
      "author=2 : 11477\n",
      "author=3 : 15052\n",
      "author=4 : 7771\n"
     ]
    },
    {
     "data": {
      "image/png": "[encoded data removed]",
      "text/plain": [
       "<Figure size 432x288 with 1 Axes>"
      ]
     },
     "metadata": {
      "needs_background": "light"
     },
     "output_type": "display_data"
    }
   ],
   "source": [
    "check_dist(train, target, 'train')"
   ]
  },
  {
   "cell_type": "code",
   "execution_count": 23,
   "id": "610ca7a9",
   "metadata": {},
   "outputs": [
    {
     "data": {
      "text/plain": [
       "'He was almost choking. There was so much, so much he wanted to say, but strange exclamations were all that came from his lips. The Pole gazed fixedly at him, at the bundle of notes in his hand; looked at odin, and was in evident perplexity.'"
      ]
     },
     "execution_count": 23,
     "metadata": {},
     "output_type": "execute_result"
    }
   ],
   "source": [
    "# 불용어 제거하기 전 데이터 확인\n",
    "data[0]"
   ]
  },
  {
   "cell_type": "code",
   "execution_count": 24,
   "id": "078906a3",
   "metadata": {},
   "outputs": [],
   "source": [
    "en_stopwords=nltk.corpus.stopwords.words('english')"
   ]
  },
  {
   "cell_type": "code",
   "execution_count": 25,
   "id": "a3682ab6",
   "metadata": {},
   "outputs": [],
   "source": [
    "from nltk.stem import WordNetLemmatizer"
   ]
  },
  {
   "cell_type": "code",
   "execution_count": 26,
   "id": "2c38d391",
   "metadata": {},
   "outputs": [],
   "source": [
    "# 불용어 및 특수문자 제거\n",
    "def del_bul(data):\n",
    "    en_stopwords=nltk.corpus.stopwords.words('english')\n",
    "    wlemma=WordNetLemmatizer()\n",
    "    \n",
    "    for idx in range(len(data)):\n",
    "        words=text_to_word_sequence(data[idx])\n",
    "        _clear=[]\n",
    "        \n",
    "        for word in words:\n",
    "            word=re.sub(r'[^A-Za-z0-9]', '', word)\n",
    "            word=wlemma.lemmatize(word)\n",
    "            if word not in en_stopwords:\n",
    "                _clear.append(word)\n",
    "            \n",
    "        data[idx]=' '.join(_clear)\n",
    "        \n",
    "    return data"
   ]
  },
  {
   "cell_type": "code",
   "execution_count": 27,
   "id": "6c7cef90",
   "metadata": {},
   "outputs": [],
   "source": [
    "data=del_bul(data)"
   ]
  },
  {
   "cell_type": "code",
   "execution_count": 28,
   "id": "0c6cd2eb",
   "metadata": {},
   "outputs": [],
   "source": [
    "test_data=del_bul(test_data)"
   ]
  },
  {
   "cell_type": "code",
   "execution_count": 29,
   "id": "98343fe0",
   "metadata": {},
   "outputs": [
    {
     "data": {
      "text/plain": [
       "'wa almost choking wa much much wanted say strange exclamation came lip pole gazed fixedly bundle note hand looked odin wa evident perplexity'"
      ]
     },
     "execution_count": 29,
     "metadata": {},
     "output_type": "execute_result"
    }
   ],
   "source": [
    "# 불용어 제거됐는지 확인\n",
    "data[0]"
   ]
  },
  {
   "cell_type": "code",
   "execution_count": 30,
   "id": "aba2adfd",
   "metadata": {},
   "outputs": [
    {
     "data": {
      "text/plain": [
       "'think one charming young lady ever met might useful work decided genius way witness way preserved agra plan paper father love emotional thing whatever emotional opposed true cold reason place thing never marry lest bias judgment '"
      ]
     },
     "execution_count": 30,
     "metadata": {},
     "output_type": "execute_result"
    }
   ],
   "source": [
    "test_data[0]"
   ]
  },
  {
   "cell_type": "markdown",
   "id": "f4c31f3f",
   "metadata": {},
   "source": [
    "### 데이터 분리"
   ]
  },
  {
   "cell_type": "code",
   "execution_count": 31,
   "id": "ec59ccc2",
   "metadata": {},
   "outputs": [],
   "source": [
    "x_train, x_test, y_train, y_test=train_test_split(\n",
    "data, target, stratify=target, test_size=0.2, random_state=42)"
   ]
  },
  {
   "cell_type": "code",
   "execution_count": 32,
   "id": "bc932c8a",
   "metadata": {},
   "outputs": [],
   "source": [
    "x_train, x_val, y_train, y_val=train_test_split(\n",
    "x_train, y_train, stratify=y_train, test_size=0.2, random_state=42)"
   ]
  },
  {
   "cell_type": "code",
   "execution_count": 33,
   "id": "a6ae7d9d",
   "metadata": {},
   "outputs": [
    {
     "name": "stdout",
     "output_type": "stream",
     "text": [
      "x_train : 35036, x_test : 10949, x_val : 8759\n",
      "y_train : 35036, y_test : 10949, y_val : 8759\n"
     ]
    }
   ],
   "source": [
    "print(f'x_train : {len(x_train)}, x_test : {len(x_test)}, x_val : {len(x_val)}')\n",
    "print(f'y_train : {len(y_train)}, y_test : {len(y_test)}, y_val : {len(y_val)}')"
   ]
  },
  {
   "cell_type": "markdown",
   "id": "3bdacc33",
   "metadata": {},
   "source": [
    "### 데이터 토큰화"
   ]
  },
  {
   "cell_type": "code",
   "execution_count": 34,
   "id": "0a4abfe1",
   "metadata": {},
   "outputs": [],
   "source": [
    "def get_token(data, num=0):\n",
    "    if num>0:\n",
    "        myToken=Tokenizer(num_words=num)\n",
    "    else:\n",
    "        myToken=Tokenizer()\n",
    "        \n",
    "    # 단어사전 생성\n",
    "    myToken.fit_on_texts(data)\n",
    "    \n",
    "    return myToken"
   ]
  },
  {
   "cell_type": "code",
   "execution_count": 35,
   "id": "6cd641af",
   "metadata": {},
   "outputs": [
    {
     "data": {
      "text/plain": [
       "27134"
      ]
     },
     "execution_count": 35,
     "metadata": {},
     "output_type": "execute_result"
    }
   ],
   "source": [
    "WORD_NUM=1000\n",
    "myToken=get_token(x_train, WORD_NUM)\n",
    "len(myToken.word_index)"
   ]
  },
  {
   "cell_type": "code",
   "execution_count": 36,
   "id": "ca1af4c9",
   "metadata": {},
   "outputs": [
    {
     "data": {
      "text/plain": [
       "OrderedDict([('first', 1570),\n",
       "             ('question', 684),\n",
       "             ('nature', 319),\n",
       "             ('wa', 20476),\n",
       "             ('communication', 54),\n",
       "             ('said', 8521),\n",
       "             ('odin', 25372),\n",
       "             ('shadow', 171),\n",
       "             ('put', 1062),\n",
       "             ('hand', 2485),\n",
       "             ('arm', 578),\n",
       "             ('walked', 417),\n",
       "             ('lawn', 26),\n",
       "             ('far', 708),\n",
       "             ('see', 2540),\n",
       "             ('man', 3405),\n",
       "             ('ha', 2476),\n",
       "             ('driven', 79),\n",
       "             ('sens', 46),\n",
       "             ('fright', 18),\n",
       "             ('bed', 426),\n",
       "             ('well', 2850),\n",
       "             ('slept', 79),\n",
       "             ('impression', 142),\n",
       "             ('deep', 259),\n",
       "             ('enough', 846),\n",
       "             ('five', 461),\n",
       "             ('morning', 770),\n",
       "             ('know', 3214),\n",
       "             ('suicide', 35),\n",
       "             ('common', 251),\n",
       "             ('would', 4701),\n",
       "             ('time', 3035),\n",
       "             ('hanging', 94),\n",
       "             ('seems', 254),\n",
       "             ('deliberate', 7),\n",
       "             ('affair', 194),\n",
       "             ('elaborate', 12),\n",
       "             ('deception', 14),\n",
       "             ('bravo', 14),\n",
       "             ('thats', 881),\n",
       "             ('rate', 84),\n",
       "             ('shouted', 157),\n",
       "             ('general', 540),\n",
       "             ('laughter', 108),\n",
       "             ('come', 2724),\n",
       "             ('zambo', 8),\n",
       "             ('remembered', 136),\n",
       "             ('blood', 276),\n",
       "             ('beslobbered', 1),\n",
       "             ('face', 1652),\n",
       "             ('seen', 831),\n",
       "             ('glare', 20),\n",
       "             ('lord', 575),\n",
       "             ('torch', 24),\n",
       "             ('like', 2494),\n",
       "             ('horrible', 80),\n",
       "             ('vision', 28),\n",
       "             ('deepest', 22),\n",
       "             ('circle', 100),\n",
       "             ('dante', 2),\n",
       "             ('hell', 121),\n",
       "             ('knee', 200),\n",
       "             ('shaking', 152),\n",
       "             ('beneath', 71),\n",
       "             ('stood', 648),\n",
       "             ('glared', 19),\n",
       "             ('starting', 51),\n",
       "             ('eye', 1707),\n",
       "             ('moonlit', 3),\n",
       "             ('path', 130),\n",
       "             ('lay', 548),\n",
       "             ('behind', 482),\n",
       "             ('quiet', 232),\n",
       "             ('dream', 176),\n",
       "             ('landscape', 17),\n",
       "             ('silver', 181),\n",
       "             ('clearing', 31),\n",
       "             ('black', 435),\n",
       "             ('patch', 36),\n",
       "             ('bush', 61),\n",
       "             ('nothing', 1717),\n",
       "             ('else', 478),\n",
       "             ('could', 3966),\n",
       "             ('silence', 366),\n",
       "             ('imminent', 9),\n",
       "             ('threatening', 24),\n",
       "             ('came', 1642),\n",
       "             ('low', 302),\n",
       "             ('throaty', 1),\n",
       "             ('croaking', 1),\n",
       "             ('louder', 25),\n",
       "             ('closer', 33),\n",
       "             ('longer', 241),\n",
       "             ('doubt', 557),\n",
       "             ('something', 1195),\n",
       "             ('trail', 21),\n",
       "             ('closing', 28),\n",
       "             ('upon', 3460),\n",
       "             ('every', 1384),\n",
       "             ('minute', 597),\n",
       "             ('former', 145),\n",
       "             ('terror', 157),\n",
       "             ('mastered', 9),\n",
       "             ('completely', 124),\n",
       "             ('excuse', 174),\n",
       "             ('muttered', 186),\n",
       "             ('utterly', 55),\n",
       "             ('disconcerted', 20),\n",
       "             ('turning', 316),\n",
       "             ('absolutely', 159),\n",
       "             ('crimson', 33),\n",
       "             ('probably', 210),\n",
       "             ('mere', 134),\n",
       "             ('blunder', 21),\n",
       "             ('misunderstanding', 13),\n",
       "             ('ill', 1066),\n",
       "             ('tell', 1349),\n",
       "             ('help', 477),\n",
       "             ('confess', 115),\n",
       "             ('one', 5093),\n",
       "             ('point', 552),\n",
       "             ('perhaps', 1028),\n",
       "             ('blame', 102),\n",
       "             ('little', 2529),\n",
       "             ('doesnt', 80),\n",
       "             ('count', 68),\n",
       "             ('dear', 1188),\n",
       "             ('boymadame', 1),\n",
       "             ('suddenly', 855),\n",
       "             ('looked', 1345),\n",
       "             ('arch', 27),\n",
       "             ('charming', 72),\n",
       "             ('though', 1750),\n",
       "             ('enigmatic', 7),\n",
       "             ('smile', 400),\n",
       "             ('played', 85),\n",
       "             ('lipsyou', 1),\n",
       "             ('suspect', 78),\n",
       "             ('must', 2359),\n",
       "             ('forgive', 194),\n",
       "             ('mother', 811),\n",
       "             ('quite', 1242),\n",
       "             ('contrary', 145),\n",
       "             ('speak', 667),\n",
       "             ('fathermothers', 1),\n",
       "             ('place', 1024),\n",
       "             ('confessing', 8),\n",
       "             ('father', 1058),\n",
       "             ('called', 431),\n",
       "             ('monk', 58),\n",
       "             ('poor', 676),\n",
       "             ('young', 1248),\n",
       "             ('friend', 1256),\n",
       "             ('mercy', 95),\n",
       "             ('u', 2004),\n",
       "             ('cant', 407),\n",
       "             ('angry', 244),\n",
       "             ('feel', 415),\n",
       "             ('cross', 176),\n",
       "             ('frivolous', 25),\n",
       "             ('believe', 818),\n",
       "             ('taken', 560),\n",
       "             ('head', 1289),\n",
       "             ('fall', 201),\n",
       "             ('love', 845),\n",
       "             ('noticed', 116),\n",
       "             ('later', 223),\n",
       "             ('firsta', 1),\n",
       "             ('month', 316),\n",
       "             ('agohe', 1),\n",
       "             ('began', 941),\n",
       "             ('oftener', 7),\n",
       "             ('almost', 735),\n",
       "             ('day', 2034),\n",
       "             ('course', 846),\n",
       "             ('acquainted', 79),\n",
       "             ('knew', 792),\n",
       "             ('youve', 255),\n",
       "             ('upset', 32),\n",
       "             ('nasty', 27),\n",
       "             ('thing', 1490),\n",
       "             ('slander', 6),\n",
       "             ('rogue', 47),\n",
       "             ('medicine', 23),\n",
       "             ('fraud', 19),\n",
       "             ('glad', 337),\n",
       "             ('made', 1721),\n",
       "             ('acquaintance', 242),\n",
       "             ('wanted', 319),\n",
       "             ('long', 1474),\n",
       "             ('sorry', 256),\n",
       "             ('meet', 233),\n",
       "             ('sad', 85),\n",
       "             ('circumstance', 275),\n",
       "             ('oh', 1120),\n",
       "             ('h', 16),\n",
       "             ('im', 482),\n",
       "             ('thought', 1822),\n",
       "             ('wonder', 264),\n",
       "             ('always', 1020),\n",
       "             ('event', 201),\n",
       "             ('youll', 234),\n",
       "             ('wont', 421),\n",
       "             ('ive', 482),\n",
       "             ('chosen', 57),\n",
       "             ('right', 1022),\n",
       "             ('evident', 90),\n",
       "             ('cause', 225),\n",
       "             ('death', 374),\n",
       "             ('worry', 34),\n",
       "             ('lodger', 35),\n",
       "             ('officer', 173),\n",
       "             ('cried', 1978),\n",
       "             ('aunt', 455),\n",
       "             ('better', 987),\n",
       "             ('clay', 43),\n",
       "             ('serenely', 2),\n",
       "             ('sweeping', 16),\n",
       "             ('bow', 158),\n",
       "             ('three', 1073),\n",
       "             ('quietly', 132),\n",
       "             ('custody', 9),\n",
       "             ('detective', 65),\n",
       "             ('silk', 29),\n",
       "             ('trouser', 38),\n",
       "             ('boy', 775),\n",
       "             ('following', 126),\n",
       "             ('vindictive', 18),\n",
       "             ('defiant', 9),\n",
       "             ('expression', 268),\n",
       "             ('threw', 150),\n",
       "             ('attitude', 53),\n",
       "             ('defense', 17),\n",
       "             ('feeling', 614),\n",
       "             ('sure', 822),\n",
       "             ('turned', 824),\n",
       "             ('away', 1472),\n",
       "             ('gone', 641),\n",
       "             ('step', 401),\n",
       "             ('biggest', 5),\n",
       "             ('stone', 239),\n",
       "             ('hit', 40),\n",
       "             ('painful', 96),\n",
       "             ('blow', 142),\n",
       "             ('back', 1539),\n",
       "             ('thanked', 44),\n",
       "             ('tearful', 12),\n",
       "             ('look', 1297),\n",
       "             ('prerogative', 3),\n",
       "             ('sneered', 11),\n",
       "             ('mr', 5571),\n",
       "             ('ineffable', 3),\n",
       "             ('contempt', 58),\n",
       "             ('tongafor', 1),\n",
       "             ('namewas', 1),\n",
       "             ('fine', 225),\n",
       "             ('boatman', 10),\n",
       "             ('owned', 9),\n",
       "             ('big', 104),\n",
       "             ('roomy', 4),\n",
       "             ('canoe', 10),\n",
       "             ('found', 880),\n",
       "             ('devoted', 52),\n",
       "             ('anything', 770),\n",
       "             ('serve', 80),\n",
       "             ('saw', 1047),\n",
       "             ('chance', 216),\n",
       "             ('escape', 109),\n",
       "             ('talked', 196),\n",
       "             ('bring', 323),\n",
       "             ('boat', 157),\n",
       "             ('round', 833),\n",
       "             ('certain', 364),\n",
       "             ('night', 1221),\n",
       "             ('old', 1714),\n",
       "             ('wharf', 8),\n",
       "             ('never', 2029),\n",
       "             ('guarded', 20),\n",
       "             ('pick', 48),\n",
       "             ('gave', 583),\n",
       "             ('direction', 222),\n",
       "             ('several', 250),\n",
       "             ('gourd', 1),\n",
       "             ('water', 344),\n",
       "             ('lot', 93),\n",
       "             ('yam', 2),\n",
       "             ('cocoa', 3),\n",
       "             ('nut', 17),\n",
       "             ('sweet', 114),\n",
       "             ('potato', 11),\n",
       "             ('excellent', 141),\n",
       "             ('example', 67),\n",
       "             ('matter', 766),\n",
       "             ('fact', 546),\n",
       "             ('sword', 111),\n",
       "             ('used', 381),\n",
       "             ('fashion', 105),\n",
       "             ('sleep', 209),\n",
       "             ('owner', 40),\n",
       "             ('perished', 8),\n",
       "             ('brisk', 22),\n",
       "             ('skirmish', 12),\n",
       "             ('unable', 111),\n",
       "             ('identify', 15),\n",
       "             ('occurred', 140),\n",
       "             ('war', 98),\n",
       "             ('frondists', 1),\n",
       "             ('think', 2097),\n",
       "             ('popular', 30),\n",
       "             ('observance', 10),\n",
       "             ('show', 334),\n",
       "             ('already', 591),\n",
       "             ('recognized', 27),\n",
       "             ('ancestor', 10),\n",
       "             ('although', 187),\n",
       "             ('wisdom', 31),\n",
       "             ('classed', 3),\n",
       "             ('among', 583),\n",
       "             ('superstition', 15),\n",
       "             ('everything', 481),\n",
       "             ('became', 308),\n",
       "             ('church', 176),\n",
       "             ('exclude', 5),\n",
       "             ('criminal', 97),\n",
       "             ('disobedient', 2),\n",
       "             ('cut', 244),\n",
       "             ('ivan', 302),\n",
       "             ('went', 1319),\n",
       "             ('ask', 563),\n",
       "             ('become', 201),\n",
       "             ('excluded', 10),\n",
       "             ('men', 761),\n",
       "             ('christ', 38),\n",
       "             ('crime', 171),\n",
       "             ('transgressed', 3),\n",
       "             ('even', 1558),\n",
       "             ('strictly', 19),\n",
       "             ('speaking', 255),\n",
       "             ('clearly', 121),\n",
       "             ('enunciated', 2),\n",
       "             ('often', 460),\n",
       "             ('today', 113),\n",
       "             ('compromise', 9),\n",
       "             ('conscience', 93),\n",
       "             ('steal', 30),\n",
       "             ('say', 2555),\n",
       "             ('dont', 1775),\n",
       "             ('go', 1949),\n",
       "             ('enemy', 105),\n",
       "             ('continually', 80),\n",
       "             ('saying', 340),\n",
       "             ('take', 1313),\n",
       "             ('state', 327),\n",
       "             ('difficult', 144),\n",
       "             ('opposition', 29),\n",
       "             ('world', 540),\n",
       "             ('mistaken', 113),\n",
       "             ('error', 40),\n",
       "             ('mankind', 36),\n",
       "             ('false', 78),\n",
       "             ('thief', 83),\n",
       "             ('murderer', 95),\n",
       "             ('true', 471),\n",
       "             ('christian', 60),\n",
       "             ('requires', 11),\n",
       "             ('rare', 40),\n",
       "             ('combination', 21),\n",
       "             ('unusual', 60),\n",
       "             ('side', 912),\n",
       "             ('view', 234),\n",
       "             ('bound', 162),\n",
       "             ('renounce', 9),\n",
       "             ('present', 439),\n",
       "             ('pagan', 5),\n",
       "             ('change', 312),\n",
       "             ('mechanical', 8),\n",
       "             ('cutting', 34),\n",
       "             ('tainted', 5),\n",
       "             ('member', 79),\n",
       "             ('preservation', 7),\n",
       "             ('society', 209),\n",
       "             ('honestly', 20),\n",
       "             ('adopting', 4),\n",
       "             ('idea', 573),\n",
       "             ('regeneration', 2),\n",
       "             ('reformation', 5),\n",
       "             ('salvation', 16),\n",
       "             ('another', 1140),\n",
       "             ('presented', 79),\n",
       "             ('run', 335),\n",
       "             ('literally', 11),\n",
       "             ('foot', 555),\n",
       "             ('rather', 710),\n",
       "             ('simply', 259),\n",
       "             ('drive', 119),\n",
       "             ('impracticability', 1),\n",
       "             ('fifty', 107),\n",
       "             ('year', 930),\n",
       "             ('fantastic', 41),\n",
       "             ('bent', 112),\n",
       "             ('mind', 1145),\n",
       "             ('influence', 165),\n",
       "             ('strong', 353),\n",
       "             ('emotion', 110),\n",
       "             ('imagined', 69),\n",
       "             ('posting', 7),\n",
       "             ('ticket', 54),\n",
       "             ('horse', 370),\n",
       "             ('bell', 162),\n",
       "             ('seemed', 1047),\n",
       "             ('simple', 125),\n",
       "             ('prosaic', 3),\n",
       "             ('pilgrimage', 10),\n",
       "             ('umbrella', 18),\n",
       "             ('ever', 1133),\n",
       "             ('much', 2140),\n",
       "             ('picturesque', 12),\n",
       "             ('character', 304),\n",
       "             ('resentment', 45),\n",
       "             ('inclined', 62),\n",
       "             ('simpler', 5),\n",
       "             ('way', 1719),\n",
       "             ('begin', 220),\n",
       "             ('afraid', 426),\n",
       "             ('hire', 7),\n",
       "             ('might', 1596),\n",
       "             ('heard', 1054),\n",
       "             ('prevented', 44),\n",
       "             ('going', 945),\n",
       "             ('force', 133),\n",
       "             ('certainly', 536),\n",
       "             ('done', 966),\n",
       "             ('given', 404),\n",
       "             ('farewell', 45),\n",
       "             ('great', 1636),\n",
       "             ('forever', 39),\n",
       "             ('besides', 253),\n",
       "             ('anywhere', 64),\n",
       "             ('known', 394),\n",
       "             ('least', 543),\n",
       "             ('greatest', 110),\n",
       "             ('agony', 59),\n",
       "             ('moment', 1227),\n",
       "             ('fix', 32),\n",
       "             ('people', 850),\n",
       "             ('tavern', 46),\n",
       "             ('two', 1866),\n",
       "             ('drunken', 56),\n",
       "             ('met', 325),\n",
       "             ('group', 76),\n",
       "             ('consisting', 7),\n",
       "             ('girl', 558),\n",
       "             ('concertina', 1),\n",
       "             ('departure', 61),\n",
       "             ('left', 1020),\n",
       "             ('room', 1590),\n",
       "             ('empty', 132),\n",
       "             ('person', 488),\n",
       "             ('still', 1437),\n",
       "             ('appeared', 349),\n",
       "             ('artisan', 2),\n",
       "             ('drunk', 111),\n",
       "             ('extremely', 130),\n",
       "             ('sitting', 324),\n",
       "             ('pot', 60),\n",
       "             ('beer', 34),\n",
       "             ('companion', 307),\n",
       "             ('huge', 102),\n",
       "             ('stout', 63),\n",
       "             ('grey', 123),\n",
       "             ('beard', 79),\n",
       "             ('short', 456),\n",
       "             ('full', 406),\n",
       "             ('skirted', 4),\n",
       "             ('coat', 199),\n",
       "             ('dropped', 150),\n",
       "             ('asleep', 95),\n",
       "             ('bench', 65),\n",
       "             ('cracking', 6),\n",
       "             ('finger', 254),\n",
       "             ('wide', 95),\n",
       "             ('apart', 68),\n",
       "             ('upper', 74),\n",
       "             ('part', 671),\n",
       "             ('body', 317),\n",
       "             ('bounding', 7),\n",
       "             ('hummed', 3),\n",
       "             ('meaningless', 5),\n",
       "             ('refrain', 20),\n",
       "             ('trying', 185),\n",
       "             ('recall', 53),\n",
       "             ('line', 302),\n",
       "             ('walking', 204),\n",
       "             ('tiptoe', 19),\n",
       "             ('supposed', 164),\n",
       "             ('affliction', 20),\n",
       "             ('increased', 63),\n",
       "             ('noise', 122),\n",
       "             ('repeated', 268),\n",
       "             ('humorous', 12),\n",
       "             ('grimace', 10),\n",
       "             ('displeased', 16),\n",
       "             ('lie', 284),\n",
       "             ('favour', 123),\n",
       "             ('equivocal', 2),\n",
       "             ('personage', 27),\n",
       "             ('yet', 1186),\n",
       "             ('restrain', 26),\n",
       "             ('mirth', 15),\n",
       "             ('wot', 36),\n",
       "             ('seizing', 31),\n",
       "             ('jacket', 42),\n",
       "             ('collar', 56),\n",
       "             ('frightful', 22),\n",
       "             ('grin', 39),\n",
       "             ('pollis', 3),\n",
       "             ('case', 670),\n",
       "             ('youre', 265),\n",
       "             ('bolt', 34),\n",
       "             ('warmin', 1),\n",
       "             ('smack', 7),\n",
       "             ('beyond', 280),\n",
       "             ('apprehension', 50),\n",
       "             ('grounded', 2),\n",
       "             ('house', 1546),\n",
       "             ('reluctancy', 2),\n",
       "             ('manner', 582),\n",
       "             ('last', 1652),\n",
       "             ('necessity', 57),\n",
       "             ('induced', 34),\n",
       "             ('return', 303),\n",
       "             ('money', 665),\n",
       "             ('however', 718),\n",
       "             ('give', 1115),\n",
       "             ('good', 2183),\n",
       "             ('grace', 67),\n",
       "             ('power', 293),\n",
       "             ('inside', 83),\n",
       "             ('week', 334),\n",
       "             ('without', 1422),\n",
       "             ('leaving', 162),\n",
       "             ('find', 703),\n",
       "             ('fool', 176),\n",
       "             ('fled', 33),\n",
       "             ('follow', 169),\n",
       "             ('quarry', 9),\n",
       "             ('wedge', 2),\n",
       "             ('family', 542),\n",
       "             ('shall', 1575),\n",
       "             ('burst', 162),\n",
       "             ('shiver', 16),\n",
       "             ('whether', 473),\n",
       "             ('indescribable', 15),\n",
       "             ('scorn', 16),\n",
       "             ('rage', 76),\n",
       "             ('choose', 67),\n",
       "             ('buy', 57),\n",
       "             ('absence', 73),\n",
       "             ('decide', 55),\n",
       "             ('profit', 32),\n",
       "             ('revenge', 35),\n",
       "             ('loud', 115),\n",
       "             ('voice', 849),\n",
       "             ('hedged', 2),\n",
       "             ('prince', 1072),\n",
       "             ('divided', 49),\n",
       "             ('crowd', 153),\n",
       "             ('ivolgin', 31),\n",
       "             ('dressed', 152),\n",
       "             ('evening', 601),\n",
       "             ('clothes', 140),\n",
       "             ('moustache', 17),\n",
       "             ('dyed', 1),\n",
       "             ('large', 360),\n",
       "             ('tract', 6),\n",
       "             ('marsh', 35),\n",
       "             ('awaits', 9),\n",
       "             ('note', 337),\n",
       "             ('answer', 521),\n",
       "             ('interrupted', 124),\n",
       "             ('impatiently', 64),\n",
       "             ('ah', 391),\n",
       "             ('heaven', 270),\n",
       "             ('yes', 1222),\n",
       "             ('nonsense', 153),\n",
       "             ('suitable', 25),\n",
       "             ('write', 219),\n",
       "             ('indeed', 869),\n",
       "             ('position', 212),\n",
       "             ('business', 515),\n",
       "             ('discus', 18),\n",
       "             ('administration', 5),\n",
       "             ('either', 407),\n",
       "             ('prefer', 59),\n",
       "             ('leave', 561),\n",
       "             ('administrative', 10),\n",
       "             ('aspect', 34),\n",
       "             ('subject', 402),\n",
       "             ('altogether', 130),\n",
       "             ('chronicle', 5),\n",
       "             ('begun', 131),\n",
       "             ('set', 611),\n",
       "             ('different', 256),\n",
       "             ('task', 43),\n",
       "             ('moreover', 42),\n",
       "             ('deal', 313),\n",
       "             ('brought', 594),\n",
       "             ('light', 614),\n",
       "             ('commission', 37),\n",
       "             ('inquiry', 140),\n",
       "             ('appointed', 26),\n",
       "             ('province', 40),\n",
       "             ('waiting', 232),\n",
       "             ('explanation', 153),\n",
       "             ('cannot', 630),\n",
       "             ('omitted', 12),\n",
       "             ('trial', 83),\n",
       "             ('returned', 795),\n",
       "             ('really', 691),\n",
       "             ('patience', 72),\n",
       "             ('agreeable', 156),\n",
       "             ('worthy', 97),\n",
       "             ('suppose', 485),\n",
       "             ('bred', 30),\n",
       "             ('life', 1241),\n",
       "             ('lodging', 104),\n",
       "             ('milsom', 6),\n",
       "             ('street', 556),\n",
       "             ('laughed', 327),\n",
       "             ('may', 1929),\n",
       "             ('written', 180),\n",
       "             ('gentleman', 879),\n",
       "             ('bodinm', 86),\n",
       "             ('k', 24),\n",
       "             ('ech', 14),\n",
       "             ('story', 314),\n",
       "             ('journey', 155),\n",
       "             ('chivalrous', 4),\n",
       "             ('allow', 176),\n",
       "             ('relation', 135),\n",
       "             ('lieutenant', 31),\n",
       "             ('erkel', 18),\n",
       "             ('consulting', 25),\n",
       "             ('together', 607),\n",
       "             ('eagle', 13),\n",
       "             ('originated', 6),\n",
       "             ('napoleon', 15),\n",
       "             ('project', 17),\n",
       "             ('conseil', 1),\n",
       "             ('du', 34),\n",
       "             ('lion', 32),\n",
       "             ('consisted', 21),\n",
       "             ('proposal', 50),\n",
       "             ('occupy', 26),\n",
       "             ('kremlin', 2),\n",
       "             ('whole', 744),\n",
       "             ('army', 35),\n",
       "             ('fortify', 3),\n",
       "             ('scientifically', 1),\n",
       "             ('kill', 115),\n",
       "             ('many', 910),\n",
       "             ('got', 862),\n",
       "             ('salt', 29),\n",
       "             ('flesh', 20),\n",
       "             ('spend', 73),\n",
       "             ('winter', 74),\n",
       "             ('spring', 103),\n",
       "             ('fight', 87),\n",
       "             ('liked', 127),\n",
       "             ('attracted', 50),\n",
       "             ('rode', 57),\n",
       "             ('wall', 313),\n",
       "             ('order', 281),\n",
       "             ('patched', 9),\n",
       "             ('built', 55),\n",
       "             ('pulled', 155),\n",
       "             ('decided', 131),\n",
       "             ('alone', 484),\n",
       "             ('sort', 552),\n",
       "             ('assure', 201),\n",
       "             ('want', 799),\n",
       "             ('flag', 22),\n",
       "             ('truce', 4),\n",
       "             ('prisoner', 173),\n",
       "             ('passenger', 54),\n",
       "             ('loathing', 14),\n",
       "             ('horror', 153),\n",
       "             ('insignificant', 12),\n",
       "             ('looking', 1013),\n",
       "             ('inspired', 24),\n",
       "             ('lamp', 138),\n",
       "             ('shone', 65),\n",
       "             ('feature', 112),\n",
       "             ('peaky', 1),\n",
       "             ('sallow', 12),\n",
       "             ('pointed', 104),\n",
       "             ('thready', 1),\n",
       "             ('nourished', 5),\n",
       "             ('pushed', 65),\n",
       "             ('forward', 336),\n",
       "             ('spoke', 399),\n",
       "             ('lip', 283),\n",
       "             ('eyelid', 21),\n",
       "             ('twitching', 17),\n",
       "             ('st', 131),\n",
       "             ('vitus', 2),\n",
       "             ('dance', 97),\n",
       "             ('thinking', 319),\n",
       "             ('strange', 479),\n",
       "             ('catchy', 1),\n",
       "             ('laugh', 241),\n",
       "             ('also', 356),\n",
       "             ('symptom', 30),\n",
       "             ('nervous', 96),\n",
       "             ('malady', 11),\n",
       "             ('steel', 46),\n",
       "             ('glistening', 6),\n",
       "             ('coldly', 38),\n",
       "             ('malignant', 20),\n",
       "             ('inexorable', 3),\n",
       "             ('cruelty', 28),\n",
       "             ('depth', 41),\n",
       "             ('adoption', 3),\n",
       "             ('retorted', 50),\n",
       "             ('departing', 7),\n",
       "             ('easy', 171),\n",
       "             ('raising', 71),\n",
       "             ('yielding', 13),\n",
       "             ('anger', 132),\n",
       "             ('tenderness', 40),\n",
       "             ('owe', 48),\n",
       "             ('posse', 25),\n",
       "             ('freely', 40),\n",
       "             ('command', 125),\n",
       "             ('gratitude', 77),\n",
       "             ('duty', 195),\n",
       "             ('impossibility', 17),\n",
       "             ('hope', 695),\n",
       "             ('pause', 139),\n",
       "             ('feeble', 40),\n",
       "             ('sympathy', 63),\n",
       "             ('humility', 25),\n",
       "             ('accompany', 23),\n",
       "             ('miss', 1459),\n",
       "             ('france', 86),\n",
       "             ('asked', 1335),\n",
       "             ('trouble', 241),\n",
       "             ('approached', 77),\n",
       "             ('shop', 137),\n",
       "             ('lady', 1062),\n",
       "             ('door', 1230),\n",
       "             ('asking', 115),\n",
       "             ('appearance', 276),\n",
       "             ('led', 251),\n",
       "             ('wait', 256),\n",
       "             ('secretary', 34),\n",
       "             ('busy', 79),\n",
       "             ('inquiring', 29),\n",
       "             ('porter', 72),\n",
       "             ('curiously', 30),\n",
       "             ('swoon', 7),\n",
       "             ('softly', 99),\n",
       "             ('answered', 626),\n",
       "             ('returning', 85),\n",
       "             ('disappointed', 54),\n",
       "             ('dismay', 31),\n",
       "             ('plucked', 26),\n",
       "             ('sleeve', 67),\n",
       "             ('robber', 35),\n",
       "             ('installed', 7),\n",
       "             ('beside', 229),\n",
       "             ('next', 539),\n",
       "             ('seat', 169),\n",
       "             ('plunged', 37),\n",
       "             ('devotion', 21),\n",
       "             ('get', 1012),\n",
       "             ('native', 34),\n",
       "             ('land', 124),\n",
       "             ('pro', 68),\n",
       "             ('rely', 19),\n",
       "             ('telling', 121),\n",
       "             ('cruncher', 47),\n",
       "             ('able', 287),\n",
       "             ('remember', 473),\n",
       "             ('understand', 639),\n",
       "             ('impressively', 15),\n",
       "             ('bear', 271),\n",
       "             ('witness', 130),\n",
       "             ('thoroughly', 67),\n",
       "             ('earnest', 83),\n",
       "             ('dreadful', 135),\n",
       "             ('pray', 192),\n",
       "             ('let', 1181),\n",
       "             ('esteemed', 16),\n",
       "             ('stared', 98),\n",
       "             ('astonishment', 103),\n",
       "             ('crazy', 25),\n",
       "             ('isnt', 116),\n",
       "             ('police', 201),\n",
       "             ('harm', 98),\n",
       "             ('forgetting', 31),\n",
       "             ('maam', 134),\n",
       "             ('beadle', 42),\n",
       "             ('porochial', 10),\n",
       "             ('stipend', 2),\n",
       "             ('bad', 279),\n",
       "             ('use', 317),\n",
       "             ('weak', 138),\n",
       "             ('free', 155),\n",
       "             ('visit', 310),\n",
       "             ('abandon', 23),\n",
       "             ('desert', 49),\n",
       "             ('told', 859),\n",
       "             ('sir', 1851),\n",
       "             ('captain', 448),\n",
       "             ('keep', 506),\n",
       "             ('upstream', 1),\n",
       "             ('leeward', 1),\n",
       "             ('landing', 27),\n",
       "             ('hard', 374),\n",
       "             ('ashore', 53),\n",
       "             ('boarded', 5),\n",
       "             ('gig', 12),\n",
       "             ('whereas', 8),\n",
       "             ('current', 36),\n",
       "             ('slacken', 4),\n",
       "             ('dodge', 7),\n",
       "             ('along', 323),\n",
       "             ('shore', 65),\n",
       "             ('hall', 168),\n",
       "             ('table', 599),\n",
       "             ('sorrow', 83),\n",
       "             ('married', 232),\n",
       "             ('thoughtless', 13),\n",
       "             ('remark', 144),\n",
       "             ('refers', 3),\n",
       "             ('watched', 85),\n",
       "             ('closely', 52),\n",
       "             ('fell', 389),\n",
       "             ('drew', 265),\n",
       "             ('skirt', 33),\n",
       "             ('weakness', 65),\n",
       "             ('act', 143),\n",
       "             ('strength', 145),\n",
       "             ('silas', 43),\n",
       "             ('confounded', 14),\n",
       "             ('apology', 45),\n",
       "             ('middle', 123),\n",
       "             ('clock', 72),\n",
       "             ('clapped', 29),\n",
       "             ('suppressed', 21),\n",
       "             ('scream', 60),\n",
       "             ('personal', 75),\n",
       "             ('size', 70),\n",
       "             ('mental', 29),\n",
       "             ('necessary', 177),\n",
       "             ('proportion', 35),\n",
       "             ('bulky', 12),\n",
       "             ('figure', 209),\n",
       "             ('graceful', 20),\n",
       "             ('limb', 63),\n",
       "             ('fair', 197),\n",
       "             ('unbecoming', 7),\n",
       "             ('conjunction', 6),\n",
       "             ('reason', 445),\n",
       "             ('patronize', 2),\n",
       "             ('vain', 113),\n",
       "             ('taste', 102),\n",
       "             ('tolerate', 5),\n",
       "             ('ridicule', 11),\n",
       "             ('seize', 21),\n",
       "             ('bit', 195),\n",
       "             ('walter', 66),\n",
       "             ('stir', 46),\n",
       "             ('tired', 94),\n",
       "             ('betsey', 49),\n",
       "             ('watching', 107),\n",
       "             ('half', 826),\n",
       "             ('hour', 851),\n",
       "             ('eat', 105),\n",
       "             ('meat', 43),\n",
       "             ('dish', 44),\n",
       "             ('tea', 177),\n",
       "             ('ready', 362),\n",
       "             ('dress', 167),\n",
       "             ('steak', 4),\n",
       "             ('butcher', 24),\n",
       "             ('inconvenient', 18),\n",
       "             ('soon', 901),\n",
       "             ('freedom', 52),\n",
       "             ('woman', 1049),\n",
       "             ('service', 232),\n",
       "             ('sobriety', 2),\n",
       "             ('economyas', 1),\n",
       "             ('milk', 17),\n",
       "             ('whinstone', 1),\n",
       "             ('pretermit', 1),\n",
       "             ('bounty', 5),\n",
       "             ('make', 1390),\n",
       "             ('save', 223),\n",
       "             ('ankle', 14),\n",
       "             ('messenger', 59),\n",
       "             ('trust', 174),\n",
       "             ('fritz', 19),\n",
       "             ('odined', 58),\n",
       "             ('crown', 59),\n",
       "             ('suspectedi', 1),\n",
       "             ('itfrom', 1),\n",
       "             ('guide', 42),\n",
       "             ('required', 63),\n",
       "             ('added', 422),\n",
       "             ('forest', 81),\n",
       "             ('foolish', 84),\n",
       "             ('bestirred', 1),\n",
       "             ('hurried', 115),\n",
       "             ('followed', 339),\n",
       "             ('vera', 21),\n",
       "             ('worked', 80),\n",
       "             ('joseph', 26),\n",
       "             ('harrison', 11),\n",
       "             ('entered', 237),\n",
       "             ('office', 220),\n",
       "             ('knowing', 168),\n",
       "             ('straight', 239),\n",
       "             ('instant', 285),\n",
       "             ('finding', 104),\n",
       "             ('promptly', 18),\n",
       "             ('rang', 56),\n",
       "             ('caught', 192),\n",
       "             ('paper', 451),\n",
       "             ('glance', 182),\n",
       "             ('showed', 225),\n",
       "             ('document', 38),\n",
       "             ('immense', 42),\n",
       "             ('value', 86),\n",
       "             ('thrust', 88),\n",
       "             ('elapsed', 9),\n",
       "             ('sleepy', 21),\n",
       "             ('commissionnaire', 4),\n",
       "             ('attention', 340),\n",
       "             ('hardly', 382),\n",
       "             ('suspicion', 145),\n",
       "             ('america', 60),\n",
       "             ('danger', 204),\n",
       "             ('putting', 130),\n",
       "             ('sloping', 12),\n",
       "             ('trap', 57),\n",
       "             ('lead', 141),\n",
       "             ('roof', 98),\n",
       "             ('press', 50),\n",
       "             ('gentle', 101),\n",
       "             ('angle', 25),\n",
       "             ('number', 154),\n",
       "             ('trace', 110),\n",
       "             ('individuality', 7),\n",
       "             ('clenching', 6),\n",
       "             ('fist', 53),\n",
       "             ('extra', 16),\n",
       "             ('presume', 38),\n",
       "             ('wouldnt', 183),\n",
       "             ('second', 395),\n",
       "             ('friendly', 100),\n",
       "             ('cordial', 24),\n",
       "             ('belongs', 19),\n",
       "             ('company', 321),\n",
       "             ('bundle', 76),\n",
       "             ('possible', 391),\n",
       "             ('small', 503),\n",
       "             ('throwing', 52),\n",
       "             ('dark', 415),\n",
       "             ('remarked', 182),\n",
       "             ('late', 295),\n",
       "             ('best', 507),\n",
       "             ('delay', 67),\n",
       "             ('felt', 711),\n",
       "             ('replied', 901),\n",
       "             ('justice', 135),\n",
       "             ('heart', 1038),\n",
       "             ('unkindly', 7),\n",
       "             ('seem', 226),\n",
       "             ('expect', 151),\n",
       "             ('laid', 257),\n",
       "             ('home', 757),\n",
       "             ('queer', 52),\n",
       "             ('awfully', 30),\n",
       "             ('stupid', 98),\n",
       "             ('dora', 185),\n",
       "             ('impracticable', 5),\n",
       "             ('damped', 3),\n",
       "             ('new', 546),\n",
       "             ('born', 78),\n",
       "             ('ardour', 18),\n",
       "             ('curling', 11),\n",
       "             ('jips', 4),\n",
       "             ('ear', 254),\n",
       "             ('lap', 17),\n",
       "             ('grave', 135),\n",
       "             ('hark', 19),\n",
       "             ('ye', 512),\n",
       "             ...])"
      ]
     },
     "execution_count": 36,
     "metadata": {},
     "output_type": "execute_result"
    }
   ],
   "source": [
    "myToken.word_counts"
   ]
  },
  {
   "cell_type": "code",
   "execution_count": 37,
   "id": "a71661e7",
   "metadata": {},
   "outputs": [
    {
     "data": {
      "text/plain": [
       "9671"
      ]
     },
     "execution_count": 37,
     "metadata": {},
     "output_type": "execute_result"
    }
   ],
   "source": [
    "# 빈도 수가 1인 단어 개수\n",
    "total=0\n",
    "for num in myToken.word_counts.values():\n",
    "    if num==1:\n",
    "        total+=1\n",
    "total"
   ]
  },
  {
   "cell_type": "code",
   "execution_count": 38,
   "id": "db194bdd",
   "metadata": {},
   "outputs": [
    {
     "data": {
      "text/plain": [
       "3434"
      ]
     },
     "execution_count": 38,
     "metadata": {},
     "output_type": "execute_result"
    }
   ],
   "source": [
    "total_2=0\n",
    "for num in myToken.word_counts.values():\n",
    "    if num==2:\n",
    "        total_2+=1\n",
    "        \n",
    "total_2"
   ]
  },
  {
   "cell_type": "code",
   "execution_count": 39,
   "id": "fad1c524",
   "metadata": {},
   "outputs": [
    {
     "data": {
      "text/plain": [
       "2038"
      ]
     },
     "execution_count": 39,
     "metadata": {},
     "output_type": "execute_result"
    }
   ],
   "source": [
    "total_3=0\n",
    "for num in myToken.word_counts.values():\n",
    "    if num==3:\n",
    "        total_3+=1\n",
    "        \n",
    "total_3"
   ]
  },
  {
   "cell_type": "markdown",
   "id": "acb40caa",
   "metadata": {},
   "source": [
    "### 패딩 길이 설정"
   ]
  },
  {
   "cell_type": "code",
   "execution_count": 40,
   "id": "246e916e",
   "metadata": {},
   "outputs": [],
   "source": [
    "def check_length(data):\n",
    "    length=[len(d) for d in data]\n",
    "    \n",
    "    plt.hist(length)\n",
    "    plt.title(f'Max : {max(length)}, Min : {min(length)}, AVG : {np.round(np.mean(length), 2)}, Median : {np.median(length)}')\n",
    "    plt.show()\n",
    "    return length"
   ]
  },
  {
   "cell_type": "code",
   "execution_count": 41,
   "id": "2be84ba5",
   "metadata": {},
   "outputs": [
    {
     "data": {
      "image/png": "[encoded data removed]",
      "text/plain": [
       "<Figure size 432x288 with 1 Axes>"
      ]
     },
     "metadata": {
      "needs_background": "light"
     },
     "output_type": "display_data"
    }
   ],
   "source": [
    "length=check_length(x_train)"
   ]
  },
  {
   "cell_type": "markdown",
   "id": "bd53b3e6",
   "metadata": {},
   "source": [
    "padding size는 150으로 결정"
   ]
  },
  {
   "cell_type": "code",
   "execution_count": 42,
   "id": "4e204331",
   "metadata": {},
   "outputs": [],
   "source": [
    "pad_length=150"
   ]
  },
  {
   "cell_type": "code",
   "execution_count": 43,
   "id": "542581a1",
   "metadata": {},
   "outputs": [],
   "source": [
    "seq_x_train=myToken.texts_to_sequences(x_train)\n",
    "seq_x_test=myToken.texts_to_sequences(x_test)\n",
    "seq_x_val=myToken.texts_to_sequences(x_val)"
   ]
  },
  {
   "cell_type": "code",
   "execution_count": 44,
   "id": "9f65e558",
   "metadata": {},
   "outputs": [],
   "source": [
    "seq_test=myToken.texts_to_sequences(test_data)"
   ]
  },
  {
   "cell_type": "code",
   "execution_count": 45,
   "id": "6ed77949",
   "metadata": {},
   "outputs": [
    {
     "name": "stdout",
     "output_type": "stream",
     "text": [
      "35036\n",
      "10949\n",
      "8759\n"
     ]
    }
   ],
   "source": [
    "print(len(seq_x_train))\n",
    "print(len(seq_x_test))\n",
    "print(len(seq_x_val))"
   ]
  },
  {
   "cell_type": "code",
   "execution_count": 46,
   "id": "fc81d0aa",
   "metadata": {},
   "outputs": [],
   "source": [
    "x_train=pad_sequences(seq_x_train, maxlen=pad_length)\n",
    "x_test=pad_sequences(seq_x_test, maxlen=pad_length)\n",
    "x_val=pad_sequences(seq_x_val, maxlen=pad_length)"
   ]
  },
  {
   "cell_type": "code",
   "execution_count": 47,
   "id": "1a45541d",
   "metadata": {},
   "outputs": [],
   "source": [
    "test_data=pad_sequences(seq_test, maxlen=pad_length)"
   ]
  },
  {
   "cell_type": "code",
   "execution_count": 48,
   "id": "b83c944e",
   "metadata": {},
   "outputs": [
    {
     "data": {
      "text/plain": [
       "((35036, 150), (10949, 150), (8759, 150))"
      ]
     },
     "execution_count": 48,
     "metadata": {},
     "output_type": "execute_result"
    }
   ],
   "source": [
    "x_train.shape, x_test.shape, x_val.shape"
   ]
  },
  {
   "cell_type": "code",
   "execution_count": 49,
   "id": "474afc07",
   "metadata": {},
   "outputs": [],
   "source": [
    "y_train=np.array(y_train)\n",
    "y_test=np.array(y_test)\n",
    "y_val=np.array(y_val)"
   ]
  },
  {
   "cell_type": "code",
   "execution_count": 50,
   "id": "452d07d1",
   "metadata": {},
   "outputs": [
    {
     "data": {
      "text/plain": [
       "((35036,), (10949,), (8759,))"
      ]
     },
     "execution_count": 50,
     "metadata": {},
     "output_type": "execute_result"
    }
   ],
   "source": [
    "y_train.shape, y_test.shape, y_val.shape"
   ]
  },
  {
   "cell_type": "markdown",
   "id": "19800dd7",
   "metadata": {},
   "source": [
    "### 타겟 데이터 인코딩"
   ]
  },
  {
   "cell_type": "code",
   "execution_count": 51,
   "id": "38283249",
   "metadata": {},
   "outputs": [],
   "source": [
    "train_oh=to_categorical(x_train)\n",
    "test_oh=to_categorical(x_test)\n",
    "val_oh=to_categorical(x_val)"
   ]
  },
  {
   "cell_type": "code",
   "execution_count": 52,
   "id": "073993b4",
   "metadata": {},
   "outputs": [
    {
     "data": {
      "text/plain": [
       "array([[1., 0., 0., ..., 0., 0., 0.],\n",
       "       [1., 0., 0., ..., 0., 0., 0.],\n",
       "       [1., 0., 0., ..., 0., 0., 0.],\n",
       "       ...,\n",
       "       [0., 0., 1., ..., 0., 0., 0.],\n",
       "       [0., 0., 0., ..., 0., 0., 0.],\n",
       "       [0., 1., 0., ..., 0., 0., 0.]], dtype=float32)"
      ]
     },
     "execution_count": 52,
     "metadata": {},
     "output_type": "execute_result"
    }
   ],
   "source": [
    "to_categorical(x_train[0])"
   ]
  },
  {
   "cell_type": "markdown",
   "id": "720df54b",
   "metadata": {},
   "source": [
    "## MODEL 구성 및 구현"
   ]
  },
  {
   "cell_type": "code",
   "execution_count": 55,
   "id": "e334747c",
   "metadata": {},
   "outputs": [],
   "source": [
    "INPUT_LENGTH = pad_length  # 1문장의 토큰 수\n",
    "HIDDEN_NODE = 10  # 은닉층 뉴런 수\n",
    "EMB_DIM = 150"
   ]
  },
  {
   "cell_type": "code",
   "execution_count": 56,
   "id": "da0f06ec",
   "metadata": {},
   "outputs": [
    {
     "data": {
      "text/plain": [
       "(150, 1000)"
      ]
     },
     "execution_count": 56,
     "metadata": {},
     "output_type": "execute_result"
    }
   ],
   "source": [
    "INPUT_LENGTH, WORD_NUM"
   ]
  },
  {
   "cell_type": "code",
   "execution_count": 57,
   "id": "5185c5ea",
   "metadata": {},
   "outputs": [],
   "source": [
    "# W, b 초기값 고정\n",
    "set_random_seed(11)"
   ]
  },
  {
   "cell_type": "code",
   "execution_count": 123,
   "id": "07c04a03",
   "metadata": {},
   "outputs": [],
   "source": [
    "def rnn_model(WORD_NUM, EMB_DIM, pad_length, HIDDEN_NODE):\n",
    "    model=Sequential()\n",
    "    model.add(Embedding(WORD_NUM, EMB_DIM, input_length=pad_length))\n",
    "    model.add(SimpleRNN(HIDDEN_NODE, return_sequences=True))\n",
    "    model.add(SimpleRNN(HIDDEN_NODE))\n",
    "    model.add(Dense(5, activation='softmax'))\n",
    "    \n",
    "    model.summary()\n",
    "    plot_model(model, show_shapes=True)\n",
    "    \n",
    "    model.compile(optimizer='rmsprop',\n",
    "             loss='sparse_categorical_crossentropy',\n",
    "             metrics='accuracy')\n",
    "    \n",
    "    stopCB=EarlyStopping(monitor='val_accuracy', patience=3)\n",
    "    MODEL_PATH='../model/model.{epoch:02d}-{val_loss:.2f}.h5'\n",
    "    modelCB=ModelCheckpoint(filepath=MODEL_PATH,\n",
    "                           save_best_only=True)\n",
    "    \n",
    "    his=model.fit(x_train, y_train, epochs=10,\n",
    "             validation_data=(x_val, y_val),\n",
    "             callbacks=[stopCB, modelCB])\n",
    "    \n",
    "    plt.plot(his.epoch, his.history['accuracy'], label='train_accuracy')\n",
    "    plt.plot(his.epoch, his.history['val_accuracy'], label='val_accuracy')\n",
    "    plt.legend()\n",
    "    plt.show()\n",
    "    \n",
    "    return model"
   ]
  },
  {
   "cell_type": "code",
   "execution_count": 185,
   "id": "f3a4d4bd",
   "metadata": {},
   "outputs": [
    {
     "name": "stdout",
     "output_type": "stream",
     "text": [
      "Epoch 1/10\n",
      "1095/1095 [==============================] - 45s 39ms/step - loss: 1.4212 - accuracy: 0.3872 - val_loss: 1.3047 - val_accuracy: 0.4683\n",
      "Epoch 2/10\n",
      "1095/1095 [==============================] - 49s 44ms/step - loss: 1.2223 - accuracy: 0.5090 - val_loss: 1.2090 - val_accuracy: 0.5109\n",
      "Epoch 3/10\n",
      "1095/1095 [==============================] - 52s 48ms/step - loss: 1.1409 - accuracy: 0.5431 - val_loss: 1.1722 - val_accuracy: 0.5277\n",
      "Epoch 4/10\n",
      "1095/1095 [==============================] - 49s 45ms/step - loss: 1.0990 - accuracy: 0.5610 - val_loss: 1.1692 - val_accuracy: 0.5230\n",
      "Epoch 5/10\n",
      "1095/1095 [==============================] - 48s 44ms/step - loss: 1.0679 - accuracy: 0.5706 - val_loss: 1.1792 - val_accuracy: 0.5199\n",
      "Epoch 6/10\n",
      "1095/1095 [==============================] - 49s 45ms/step - loss: 1.0480 - accuracy: 0.5852 - val_loss: 1.1567 - val_accuracy: 0.5365\n",
      "Epoch 7/10\n",
      "1095/1095 [==============================] - 55s 51ms/step - loss: 1.0246 - accuracy: 0.5979 - val_loss: 1.1492 - val_accuracy: 0.5468\n",
      "Epoch 8/10\n",
      "1095/1095 [==============================] - 50s 45ms/step - loss: 1.0048 - accuracy: 0.6103 - val_loss: 1.1363 - val_accuracy: 0.5542\n",
      "Epoch 9/10\n",
      "1095/1095 [==============================] - 56s 51ms/step - loss: 0.9863 - accuracy: 0.6215 - val_loss: 1.1402 - val_accuracy: 0.5529\n",
      "Epoch 10/10\n",
      "1095/1095 [==============================] - 50s 46ms/step - loss: 0.9704 - accuracy: 0.6280 - val_loss: 1.1348 - val_accuracy: 0.5617\n"
     ]
    },
    {
     "data": {
      "image/png": "[encoded data removed]",
      "text/plain": [
       "<Figure size 432x288 with 1 Axes>"
      ]
     },
     "metadata": {
      "needs_background": "light"
     },
     "output_type": "display_data"
    }
   ],
   "source": [
    "rnnModel=rnn_model(WORD_NUM, EMB_DIM, pad_length, HIDDEN_NODE)"
   ]
  },
  {
   "cell_type": "code",
   "execution_count": 186,
   "id": "8c3989db",
   "metadata": {},
   "outputs": [
    {
     "name": "stdout",
     "output_type": "stream",
     "text": [
      "343/343 [==============================] - 4s 11ms/step - loss: 1.1461 - accuracy: 0.5503\n"
     ]
    },
    {
     "data": {
      "text/plain": [
       "[1.1461395025253296, 0.5502785444259644]"
      ]
     },
     "execution_count": 186,
     "metadata": {},
     "output_type": "execute_result"
    }
   ],
   "source": [
    "rnnModel.evaluate(x_test, y_test)"
   ]
  },
  {
   "cell_type": "markdown",
   "id": "252c9e4f",
   "metadata": {},
   "source": [
    "### LSTM"
   ]
  },
  {
   "cell_type": "code",
   "execution_count": 58,
   "id": "d3c81a87",
   "metadata": {},
   "outputs": [],
   "source": [
    "def LSTM_model(WORD_NUM, EMB_DIM, pad_length, HIDDEN_NODE):\n",
    "    model=Sequential()\n",
    "    model.add(Embedding(WORD_NUM, 150, input_length=pad_length))\n",
    "    model.add(LSTM(HIDDEN_NODE, return_sequences=True))\n",
    "    model.add(LSTM(HIDDEN_NODE+10, return_sequences=True))\n",
    "    model.add(SimpleRNN(HIDDEN_NODE, return_sequences=True))\n",
    "    model.add(Dropout(0.2))\n",
    "    model.add(SimpleRNN(HIDDEN_NODE))\n",
    "    model.add(Dense(5, activation='softmax'))\n",
    "    \n",
    "    model.summary()\n",
    "    plot_model(model, show_shapes=True)\n",
    "    \n",
    "    model.compile(optimizer='rmsprop',\n",
    "             loss='sparse_categorical_crossentropy',\n",
    "             metrics='accuracy')\n",
    "    \n",
    "    stopCB=EarlyStopping(monitor='val_accuracy', patience=3)\n",
    "    MODEL_PATH='../model/model.{epoch:02d}-{val_loss:.2f}.h5'\n",
    "    modelCB=ModelCheckpoint(filepath=MODEL_PATH,\n",
    "                           save_best_only=True)\n",
    "    \n",
    "    his=model.fit(x_train, y_train, epochs=10,\n",
    "             validation_data=(x_val, y_val),\n",
    "             callbacks=[stopCB, modelCB])\n",
    "    \n",
    "    plt.plot(his.epoch, his.history['accuracy'], label='train_accuracy')\n",
    "    plt.plot(his.epoch, his.history['val_accuracy'], label='val_accuracy')\n",
    "    plt.legend()\n",
    "    plt.show()\n",
    "    \n",
    "    return model"
   ]
  },
  {
   "cell_type": "code",
   "execution_count": 59,
   "id": "7e2758e2",
   "metadata": {},
   "outputs": [
    {
     "name": "stdout",
     "output_type": "stream",
     "text": [
      "Model: \"sequential\"\n",
      "_________________________________________________________________\n",
      " Layer (type)                Output Shape              Param #   \n",
      "=================================================================\n",
      " embedding (Embedding)       (None, 150, 150)          150000    \n",
      "                                                                 \n",
      " lstm (LSTM)                 (None, 150, 10)           6440      \n",
      "                                                                 \n",
      " lstm_1 (LSTM)               (None, 150, 20)           2480      \n",
      "                                                                 \n",
      " simple_rnn (SimpleRNN)      (None, 150, 10)           310       \n",
      "                                                                 \n",
      " dropout (Dropout)           (None, 150, 10)           0         \n",
      "                                                                 \n",
      " simple_rnn_1 (SimpleRNN)    (None, 10)                210       \n",
      "                                                                 \n",
      " dense (Dense)               (None, 5)                 55        \n",
      "                                                                 \n",
      "=================================================================\n",
      "Total params: 159,495\n",
      "Trainable params: 159,495\n",
      "Non-trainable params: 0\n",
      "_________________________________________________________________\n",
      "Epoch 1/10\n",
      "1095/1095 [==============================] - 144s 124ms/step - loss: 1.3398 - accuracy: 0.4361 - val_loss: 1.1719 - val_accuracy: 0.5308\n",
      "Epoch 2/10\n",
      "1095/1095 [==============================] - 133s 121ms/step - loss: 1.1155 - accuracy: 0.5627 - val_loss: 1.0844 - val_accuracy: 0.5734\n",
      "Epoch 3/10\n",
      "1095/1095 [==============================] - 143s 131ms/step - loss: 1.0560 - accuracy: 0.5888 - val_loss: 1.0623 - val_accuracy: 0.5845\n",
      "Epoch 4/10\n",
      "1095/1095 [==============================] - 132s 121ms/step - loss: 1.0246 - accuracy: 0.6018 - val_loss: 1.0612 - val_accuracy: 0.5869\n",
      "Epoch 5/10\n",
      "1095/1095 [==============================] - 136s 124ms/step - loss: 0.9992 - accuracy: 0.6152 - val_loss: 1.0516 - val_accuracy: 0.5916\n",
      "Epoch 6/10\n",
      "1095/1095 [==============================] - 135s 123ms/step - loss: 0.9769 - accuracy: 0.6238 - val_loss: 1.0569 - val_accuracy: 0.5897\n",
      "Epoch 7/10\n",
      "1095/1095 [==============================] - 133s 121ms/step - loss: 0.9534 - accuracy: 0.6377 - val_loss: 1.0521 - val_accuracy: 0.5972\n",
      "Epoch 8/10\n",
      "1095/1095 [==============================] - 134s 122ms/step - loss: 0.9265 - accuracy: 0.6484 - val_loss: 1.0564 - val_accuracy: 0.5994\n",
      "Epoch 9/10\n",
      "1095/1095 [==============================] - 136s 124ms/step - loss: 0.9000 - accuracy: 0.6615 - val_loss: 1.0448 - val_accuracy: 0.6053\n",
      "Epoch 10/10\n",
      "1095/1095 [==============================] - 139s 127ms/step - loss: 0.8769 - accuracy: 0.6700 - val_loss: 1.0461 - val_accuracy: 0.6054\n"
     ]
    },
    {
     "data": {
      "image/png": "[encoded data removed]",
      "text/plain": [
       "<Figure size 432x288 with 1 Axes>"
      ]
     },
     "metadata": {
      "needs_background": "light"
     },
     "output_type": "display_data"
    }
   ],
   "source": [
    "lstm_model=LSTM_model(WORD_NUM, EMB_DIM, pad_length, HIDDEN_NODE)"
   ]
  },
  {
   "cell_type": "code",
   "execution_count": 60,
   "id": "16bfe07d",
   "metadata": {},
   "outputs": [
    {
     "name": "stdout",
     "output_type": "stream",
     "text": [
      "343/343 [==============================] - 10s 28ms/step - loss: 1.0660 - accuracy: 0.5921\n"
     ]
    },
    {
     "data": {
      "text/plain": [
       "[1.0660462379455566, 0.5921088457107544]"
      ]
     },
     "execution_count": 60,
     "metadata": {},
     "output_type": "execute_result"
    }
   ],
   "source": [
    "lstm_model.evaluate(x_test, y_test)"
   ]
  },
  {
   "cell_type": "markdown",
   "id": "a76f532d",
   "metadata": {},
   "source": [
    "---"
   ]
  },
  {
   "cell_type": "markdown",
   "id": "56748529",
   "metadata": {},
   "source": [
    "## 양방향 LSTM"
   ]
  },
  {
   "cell_type": "code",
   "execution_count": 190,
   "id": "2f6a3753",
   "metadata": {},
   "outputs": [],
   "source": [
    "from tensorflow.keras.layers import Bidirectional"
   ]
  },
  {
   "cell_type": "code",
   "execution_count": 191,
   "id": "1a77d3df",
   "metadata": {},
   "outputs": [],
   "source": [
    "model3=Sequential()\n",
    "model3.add(Embedding(WORD_NUM, 150, input_length=pad_length))\n",
    "#model.add(SimpleRNN(HIDDEN_NODE, input_shape=(INPUT_LENGTH, WORD_NUM),\n",
    "#                   return_sequences=True))\n",
    "model3.add(Bidirectional(LSTM(HIDDEN_NODE, return_sequences=True)))\n",
    "model3.add(Bidirectional(LSTM(HIDDEN_NODE+10, return_sequences=True)))\n",
    "model3.add(SimpleRNN(HIDDEN_NODE, return_sequences=True))\n",
    "model3.add(Dropout(0.2))\n",
    "model3.add(SimpleRNN(HIDDEN_NODE))\n",
    "model3.add(Dense(5, activation='softmax'))"
   ]
  },
  {
   "cell_type": "code",
   "execution_count": 192,
   "id": "86f0e9fa",
   "metadata": {},
   "outputs": [],
   "source": [
    "model3.compile(optimizer='rmsprop',\n",
    "             loss='sparse_categorical_crossentropy',\n",
    "             metrics=['accuracy'])"
   ]
  },
  {
   "cell_type": "code",
   "execution_count": 193,
   "id": "ee43dc7d",
   "metadata": {},
   "outputs": [
    {
     "name": "stdout",
     "output_type": "stream",
     "text": [
      "Epoch 1/10\n",
      "1095/1095 [==============================] - 188s 164ms/step - loss: 1.3372 - accuracy: 0.4259 - val_loss: 1.2148 - val_accuracy: 0.5070\n",
      "Epoch 2/10\n",
      "1095/1095 [==============================] - 189s 173ms/step - loss: 1.1255 - accuracy: 0.5540 - val_loss: 1.0522 - val_accuracy: 0.5938\n",
      "Epoch 3/10\n",
      "1095/1095 [==============================] - 181s 165ms/step - loss: 1.0062 - accuracy: 0.6139 - val_loss: 1.0176 - val_accuracy: 0.6091\n",
      "Epoch 4/10\n",
      "1095/1095 [==============================] - 173s 158ms/step - loss: 0.9581 - accuracy: 0.6329 - val_loss: 1.0195 - val_accuracy: 0.6068\n",
      "Epoch 5/10\n",
      "1095/1095 [==============================] - 173s 158ms/step - loss: 0.9258 - accuracy: 0.6427 - val_loss: 1.0104 - val_accuracy: 0.6130\n",
      "Epoch 6/10\n",
      "1095/1095 [==============================] - 171s 156ms/step - loss: 0.8998 - accuracy: 0.6562 - val_loss: 1.0165 - val_accuracy: 0.6102\n",
      "Epoch 7/10\n",
      "1095/1095 [==============================] - 174s 159ms/step - loss: 0.8760 - accuracy: 0.6680 - val_loss: 1.0179 - val_accuracy: 0.6141\n",
      "Epoch 8/10\n",
      "1095/1095 [==============================] - 171s 156ms/step - loss: 0.8523 - accuracy: 0.6768 - val_loss: 1.0523 - val_accuracy: 0.6000\n",
      "Epoch 9/10\n",
      "1095/1095 [==============================] - 170s 155ms/step - loss: 0.8326 - accuracy: 0.6846 - val_loss: 1.0446 - val_accuracy: 0.5981\n",
      "Epoch 10/10\n",
      "1095/1095 [==============================] - 184s 168ms/step - loss: 0.8135 - accuracy: 0.6923 - val_loss: 1.0861 - val_accuracy: 0.5929\n"
     ]
    }
   ],
   "source": [
    "his3=model3.fit(x_train, y_train, epochs=10,\n",
    "             validation_data=(x_val, y_val),\n",
    "             callbacks=[stopCB, modelCB])"
   ]
  },
  {
   "cell_type": "code",
   "execution_count": 194,
   "id": "37e63d42",
   "metadata": {},
   "outputs": [
    {
     "name": "stdout",
     "output_type": "stream",
     "text": [
      "343/343 [==============================] - 10s 30ms/step - loss: 1.0844 - accuracy: 0.5888\n"
     ]
    },
    {
     "data": {
      "text/plain": [
       "[1.0844260454177856, 0.5888208746910095]"
      ]
     },
     "execution_count": 194,
     "metadata": {},
     "output_type": "execute_result"
    }
   ],
   "source": [
    "model3.evaluate(x_test, y_test)"
   ]
  },
  {
   "cell_type": "markdown",
   "id": "e8f7584e",
   "metadata": {},
   "source": [
    "### 예측용"
   ]
  },
  {
   "cell_type": "markdown",
   "id": "35f1d052",
   "metadata": {},
   "source": [
    "- 0 : Charles Dickens\n",
    "    * The mention of Marley's funeral brings me back to the point I started from\n",
    "    * A shadow on the wall in which my mind's eye can discern some traces of a rocky sea-coast, recalls to me a fearful story of travel derived from that unpromising narrator of such stories.\n",
    "    * \n",
    "- 1 : Jane Austen\n",
    "    * This friend, and Sir Walter, did not marry, whatever might have been anticipated on that head by thir acquaintance\n",
    "    * That Lady Russell, of steady age and character, and extreamely well provided for, should have no thought of a second marriage, needs no apology to the public, which is rather apt to be unreasonably discontented when a woman does marry again\n",
    "- 2 : Conan Doyle\n",
    "    * There lies the image of our past and of our future,” cried Alleyne, as they rode on upon their way.\n",
    "    * Now, however, there were signs that a change was at hand, and that speedily. Little qualms of anxiety came over Johnson as his wife's time approached.\n",
    "- 3 : Fyodor Dostoevsky\n",
    "    * The old woman stood facing him in silence and looking inquiringly at hi. She was a diminutive, withered up old woman of sixty, with sharp malignant eyes and a sharp little nose.\n",
    "    * The little room into which the young man walked, with yellow paper on the walls, geraniums and muslin curtains in the windows, was brightly lighted up at that moment by the setting sun.\n",
    "- 4 : Robert Louis Stevenson\n",
    "    * And when he entered into his own house in Randolph Crescent (south side), and shut the door behind him, his heart swelled wit security.\n",
    "    * Whereupon John went forth, and pawned his gold watch under the assumed name of John Froggs, 85 Pleasance."
   ]
  },
  {
   "cell_type": "code",
   "execution_count": 61,
   "id": "f0f00544",
   "metadata": {},
   "outputs": [],
   "source": [
    "pred_list=[\"See the Halsewell, East Indiaman outward bound, driving madly on a January night towards the rocks near Seacombe, on the island of Purbeck! The captain's two dear daughters are aboard, and five other ladies.\",\n",
    "          \"A shadow on the wall in which my mind's eye can discern some traces of a rocky sea-coast, recalls to me a fearful story of travel derived from that unpromising narrator of such stories.\",\n",
    "           \"This friend, and Sir Walter, did not marry, whatever might have been anticipated on that head by thir acquaintance\",\n",
    "           \"That Lady Russell, of steady age and character, and extreamely well provided for, should have no thought of a second marriage, needs no apology to the public, which is rather apt to be unreasonably discontented when a woman does marry again\",\n",
    "           \"There lies the image of our past and of our future,” cried Alleyne, as they rode on upon their way.\",\n",
    "           \"Now, however, there were signs that a change was at hand, and that speedily. Little qualms of anxiety came over Johnson as his wife's time approached.\",\n",
    "           \"The old woman stood facing him in silence and looking inquiringly at hi. She was a diminutive, withered up old woman of sixty, with sharp malignant eyes and a sharp little nose.\",\n",
    "           \"The little room into which the young man walked, with yellow paper on the walls, geraniums and muslin curtains in the windows, was brightly lighted up at that moment by the setting sun.\",\n",
    "           \"And when he entered into his own house in Randolph Crescent (south side), and shut the door behind him, his heart swelled wit security.\",\n",
    "           \"Whereupon John went forth, and pawned his gold watch under the assumed name of John Froggs, 85 Pleasance.\"\n",
    "          ]"
   ]
  },
  {
   "cell_type": "code",
   "execution_count": 64,
   "id": "c45dd518",
   "metadata": {},
   "outputs": [],
   "source": [
    "def get_pred(pred_list, model):\n",
    "    answers=['Charles Dickens', 'Charles Dickens', 'Jane Austen', 'Jane Austen',\n",
    "        'Conan Doyle', 'Conan Doyle', 'Fyodor Dostoevsky', 'Fyodor Dostoevsky',\n",
    "        'Robert Louis Stevenson', 'Robert Louis Stevenson']\n",
    "    \n",
    "    pred_answers=['Charles Dickens', 'Jane Austen',\n",
    "        'Conan Doyle', 'Fyodor Dostoevsky',\n",
    "        'Robert Louis Stevenson']\n",
    "    idx=0\n",
    "    \n",
    "    new_pred_list=del_bul(pred_list)\n",
    "    \n",
    "    seq_data=myToken.texts_to_sequences(new_pred_list)\n",
    "    pred_data=pad_sequences(seq_data, maxlen=pad_length)\n",
    "    \n",
    "    preds=model.predict(pred_data)\n",
    "    \n",
    "    for p in preds:\n",
    "        my_pred=np.argmax(p)\n",
    "        #print(my_pred)\n",
    "        print(f'예측 : {pred_answers[my_pred]}, 정답 : {answers[idx]}')\n",
    "        if pred_answers[my_pred] == answers[idx]:\n",
    "            print('정답👏🏻')\n",
    "        else : print('땡🙅🏻‍♀')\n",
    "        idx+=1\n",
    "        print()"
   ]
  },
  {
   "cell_type": "code",
   "execution_count": 188,
   "id": "66cb948e",
   "metadata": {},
   "outputs": [
    {
     "name": "stdout",
     "output_type": "stream",
     "text": [
      "(10, 150)\n",
      "1/1 [==============================] - 0s 235ms/step\n",
      "예측 : Charles Dickens, 정답 : Charles Dickens\n",
      "정답👏🏻\n",
      "\n",
      "예측 : Robert Louis Stevenson, 정답 : Charles Dickens\n",
      "땡🙅🏻‍♀\n",
      "\n",
      "예측 : Conan Doyle, 정답 : Jane Austen\n",
      "땡🙅🏻‍♀\n",
      "\n",
      "예측 : Jane Austen, 정답 : Jane Austen\n",
      "정답👏🏻\n",
      "\n",
      "예측 : Conan Doyle, 정답 : Conan Doyle\n",
      "정답👏🏻\n",
      "\n",
      "예측 : Charles Dickens, 정답 : Conan Doyle\n",
      "땡🙅🏻‍♀\n",
      "\n",
      "예측 : Jane Austen, 정답 : Fyodor Dostoevsky\n",
      "땡🙅🏻‍♀\n",
      "\n",
      "예측 : Conan Doyle, 정답 : Fyodor Dostoevsky\n",
      "땡🙅🏻‍♀\n",
      "\n",
      "예측 : Conan Doyle, 정답 : Robert Louis Stevenson\n",
      "땡🙅🏻‍♀\n",
      "\n",
      "예측 : Robert Louis Stevenson, 정답 : Robert Louis Stevenson\n",
      "정답👏🏻\n",
      "\n"
     ]
    }
   ],
   "source": [
    "# RNN Model로 예측\n",
    "get_pred(pred_list, rnnModel)"
   ]
  },
  {
   "cell_type": "code",
   "execution_count": 65,
   "id": "b4cf78ce",
   "metadata": {},
   "outputs": [
    {
     "name": "stdout",
     "output_type": "stream",
     "text": [
      "1/1 [==============================] - 1s 1s/step\n",
      "예측 : Charles Dickens, 정답 : Charles Dickens\n",
      "정답👏🏻\n",
      "\n",
      "예측 : Robert Louis Stevenson, 정답 : Charles Dickens\n",
      "땡🙅🏻‍♀\n",
      "\n",
      "예측 : Jane Austen, 정답 : Jane Austen\n",
      "정답👏🏻\n",
      "\n",
      "예측 : Jane Austen, 정답 : Jane Austen\n",
      "정답👏🏻\n",
      "\n",
      "예측 : Conan Doyle, 정답 : Conan Doyle\n",
      "정답👏🏻\n",
      "\n",
      "예측 : Robert Louis Stevenson, 정답 : Conan Doyle\n",
      "땡🙅🏻‍♀\n",
      "\n",
      "예측 : Charles Dickens, 정답 : Fyodor Dostoevsky\n",
      "땡🙅🏻‍♀\n",
      "\n",
      "예측 : Conan Doyle, 정답 : Fyodor Dostoevsky\n",
      "땡🙅🏻‍♀\n",
      "\n",
      "예측 : Robert Louis Stevenson, 정답 : Robert Louis Stevenson\n",
      "정답👏🏻\n",
      "\n",
      "예측 : Robert Louis Stevenson, 정답 : Robert Louis Stevenson\n",
      "정답👏🏻\n",
      "\n"
     ]
    }
   ],
   "source": [
    "# LSTM 모델로 예측\n",
    "get_pred(pred_list, lstm_model)"
   ]
  },
  {
   "cell_type": "code",
   "execution_count": 195,
   "id": "01e42a95",
   "metadata": {},
   "outputs": [
    {
     "name": "stdout",
     "output_type": "stream",
     "text": [
      "(10, 150)\n",
      "1/1 [==============================] - 2s 2s/step\n",
      "예측 : Charles Dickens, 정답 : Charles Dickens\n",
      "정답👏🏻\n",
      "\n",
      "예측 : Robert Louis Stevenson, 정답 : Charles Dickens\n",
      "땡🙅🏻‍♀\n",
      "\n",
      "예측 : Jane Austen, 정답 : Jane Austen\n",
      "정답👏🏻\n",
      "\n",
      "예측 : Jane Austen, 정답 : Jane Austen\n",
      "정답👏🏻\n",
      "\n",
      "예측 : Conan Doyle, 정답 : Conan Doyle\n",
      "정답👏🏻\n",
      "\n",
      "예측 : Charles Dickens, 정답 : Conan Doyle\n",
      "땡🙅🏻‍♀\n",
      "\n",
      "예측 : Charles Dickens, 정답 : Fyodor Dostoevsky\n",
      "땡🙅🏻‍♀\n",
      "\n",
      "예측 : Conan Doyle, 정답 : Fyodor Dostoevsky\n",
      "땡🙅🏻‍♀\n",
      "\n",
      "예측 : Conan Doyle, 정답 : Robert Louis Stevenson\n",
      "땡🙅🏻‍♀\n",
      "\n",
      "예측 : Robert Louis Stevenson, 정답 : Robert Louis Stevenson\n",
      "정답👏🏻\n",
      "\n"
     ]
    }
   ],
   "source": [
    "# 양방향 LSTM 모델로 예측\n",
    "get_pred(pred_list, model3)"
   ]
  },
  {
   "cell_type": "markdown",
   "id": "283a7ad0",
   "metadata": {},
   "source": [
    "---"
   ]
  },
  {
   "cell_type": "markdown",
   "id": "5f681756",
   "metadata": {},
   "source": [
    "### 데이콘 제출용"
   ]
  },
  {
   "cell_type": "code",
   "execution_count": 196,
   "id": "3638018e",
   "metadata": {
    "scrolled": true
   },
   "outputs": [
    {
     "name": "stdout",
     "output_type": "stream",
     "text": [
      "614/614 [==============================] - 15s 24ms/step\n"
     ]
    }
   ],
   "source": [
    "pred=lstm_model.predict(test_data)"
   ]
  },
  {
   "cell_type": "code",
   "execution_count": 197,
   "id": "7b76a852",
   "metadata": {},
   "outputs": [],
   "source": [
    "submission=pd.read_csv('./file/sample_submission.csv')"
   ]
  },
  {
   "cell_type": "code",
   "execution_count": 198,
   "id": "d05a4e11",
   "metadata": {},
   "outputs": [],
   "source": [
    "submission[['0', '1', '2', '3', '4']]=pred"
   ]
  },
  {
   "cell_type": "code",
   "execution_count": 199,
   "id": "c61d4f14",
   "metadata": {},
   "outputs": [
    {
     "data": {
      "text/html": [
       "<div>\n",
       "<style scoped>\n",
       "    .dataframe tbody tr th:only-of-type {\n",
       "        vertical-align: middle;\n",
       "    }\n",
       "\n",
       "    .dataframe tbody tr th {\n",
       "        vertical-align: top;\n",
       "    }\n",
       "\n",
       "    .dataframe thead th {\n",
       "        text-align: right;\n",
       "    }\n",
       "</style>\n",
       "<table border=\"1\" class=\"dataframe\">\n",
       "  <thead>\n",
       "    <tr style=\"text-align: right;\">\n",
       "      <th></th>\n",
       "      <th>index</th>\n",
       "      <th>0</th>\n",
       "      <th>1</th>\n",
       "      <th>2</th>\n",
       "      <th>3</th>\n",
       "      <th>4</th>\n",
       "    </tr>\n",
       "  </thead>\n",
       "  <tbody>\n",
       "    <tr>\n",
       "      <th>0</th>\n",
       "      <td>0</td>\n",
       "      <td>0.096633</td>\n",
       "      <td>0.768376</td>\n",
       "      <td>0.105397</td>\n",
       "      <td>0.021961</td>\n",
       "      <td>0.007633</td>\n",
       "    </tr>\n",
       "    <tr>\n",
       "      <th>1</th>\n",
       "      <td>1</td>\n",
       "      <td>0.178088</td>\n",
       "      <td>0.708191</td>\n",
       "      <td>0.039943</td>\n",
       "      <td>0.017900</td>\n",
       "      <td>0.055877</td>\n",
       "    </tr>\n",
       "    <tr>\n",
       "      <th>2</th>\n",
       "      <td>2</td>\n",
       "      <td>0.936129</td>\n",
       "      <td>0.025326</td>\n",
       "      <td>0.017057</td>\n",
       "      <td>0.013135</td>\n",
       "      <td>0.008353</td>\n",
       "    </tr>\n",
       "    <tr>\n",
       "      <th>3</th>\n",
       "      <td>3</td>\n",
       "      <td>0.019419</td>\n",
       "      <td>0.023135</td>\n",
       "      <td>0.933019</td>\n",
       "      <td>0.009807</td>\n",
       "      <td>0.014620</td>\n",
       "    </tr>\n",
       "    <tr>\n",
       "      <th>4</th>\n",
       "      <td>4</td>\n",
       "      <td>0.327725</td>\n",
       "      <td>0.047126</td>\n",
       "      <td>0.019268</td>\n",
       "      <td>0.065682</td>\n",
       "      <td>0.540199</td>\n",
       "    </tr>\n",
       "    <tr>\n",
       "      <th>...</th>\n",
       "      <td>...</td>\n",
       "      <td>...</td>\n",
       "      <td>...</td>\n",
       "      <td>...</td>\n",
       "      <td>...</td>\n",
       "      <td>...</td>\n",
       "    </tr>\n",
       "    <tr>\n",
       "      <th>19612</th>\n",
       "      <td>19612</td>\n",
       "      <td>0.010927</td>\n",
       "      <td>0.982065</td>\n",
       "      <td>0.003573</td>\n",
       "      <td>0.001415</td>\n",
       "      <td>0.002020</td>\n",
       "    </tr>\n",
       "    <tr>\n",
       "      <th>19613</th>\n",
       "      <td>19613</td>\n",
       "      <td>0.013911</td>\n",
       "      <td>0.011518</td>\n",
       "      <td>0.021774</td>\n",
       "      <td>0.007420</td>\n",
       "      <td>0.945378</td>\n",
       "    </tr>\n",
       "    <tr>\n",
       "      <th>19614</th>\n",
       "      <td>19614</td>\n",
       "      <td>0.019065</td>\n",
       "      <td>0.973711</td>\n",
       "      <td>0.003469</td>\n",
       "      <td>0.001639</td>\n",
       "      <td>0.002116</td>\n",
       "    </tr>\n",
       "    <tr>\n",
       "      <th>19615</th>\n",
       "      <td>19615</td>\n",
       "      <td>0.020337</td>\n",
       "      <td>0.970488</td>\n",
       "      <td>0.004263</td>\n",
       "      <td>0.002933</td>\n",
       "      <td>0.001979</td>\n",
       "    </tr>\n",
       "    <tr>\n",
       "      <th>19616</th>\n",
       "      <td>19616</td>\n",
       "      <td>0.162707</td>\n",
       "      <td>0.134756</td>\n",
       "      <td>0.676925</td>\n",
       "      <td>0.018722</td>\n",
       "      <td>0.006890</td>\n",
       "    </tr>\n",
       "  </tbody>\n",
       "</table>\n",
       "<p>19617 rows × 6 columns</p>\n",
       "</div>"
      ],
      "text/plain": [
       "       index         0         1         2         3         4\n",
       "0          0  0.096633  0.768376  0.105397  0.021961  0.007633\n",
       "1          1  0.178088  0.708191  0.039943  0.017900  0.055877\n",
       "2          2  0.936129  0.025326  0.017057  0.013135  0.008353\n",
       "3          3  0.019419  0.023135  0.933019  0.009807  0.014620\n",
       "4          4  0.327725  0.047126  0.019268  0.065682  0.540199\n",
       "...      ...       ...       ...       ...       ...       ...\n",
       "19612  19612  0.010927  0.982065  0.003573  0.001415  0.002020\n",
       "19613  19613  0.013911  0.011518  0.021774  0.007420  0.945378\n",
       "19614  19614  0.019065  0.973711  0.003469  0.001639  0.002116\n",
       "19615  19615  0.020337  0.970488  0.004263  0.002933  0.001979\n",
       "19616  19616  0.162707  0.134756  0.676925  0.018722  0.006890\n",
       "\n",
       "[19617 rows x 6 columns]"
      ]
     },
     "execution_count": 199,
     "metadata": {},
     "output_type": "execute_result"
    }
   ],
   "source": [
    "submission"
   ]
  },
  {
   "cell_type": "code",
   "execution_count": 200,
   "id": "c988ad62",
   "metadata": {},
   "outputs": [],
   "source": [
    "submission.to_csv('submit2.csv', index=False)"
   ]
  },
  {
   "cell_type": "code",
   "execution_count": null,
   "id": "dbe04b52",
   "metadata": {},
   "outputs": [],
   "source": []
  }
 ],
 "metadata": {
  "kernelspec": {
   "display_name": "Python 3 (ipykernel)",
   "language": "python",
   "name": "python3"
  },
  "language_info": {
   "codemirror_mode": {
    "name": "ipython",
    "version": 3
   },
   "file_extension": ".py",
   "mimetype": "text/x-python",
   "name": "python",
   "nbconvert_exporter": "python",
   "pygments_lexer": "ipython3",
   "version": "3.9.12"
  }
 },
 "nbformat": 4,
 "nbformat_minor": 5
}
