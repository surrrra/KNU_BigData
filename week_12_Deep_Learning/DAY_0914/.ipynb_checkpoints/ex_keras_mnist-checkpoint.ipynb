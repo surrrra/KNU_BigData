{
 "cells": [
  {
   "cell_type": "markdown",
   "id": "82d44d94",
   "metadata": {},
   "source": [
    "# MNIST\n",
    "---\n",
    "- 학습용 : 60,000\n",
    "- 테스트용 : 10,000\n",
    "- 이미지 : 28*28\n",
    "- 타겟 : 0 ~ 9 총 10개"
   ]
  },
  {
   "cell_type": "markdown",
   "id": "c1962d5f",
   "metadata": {},
   "source": [
    "28*28 => 입력 : 784, 출력 : 0일 확률, ..., 9일 확률"
   ]
  },
  {
   "cell_type": "markdown",
   "id": "7add3cb8",
   "metadata": {},
   "source": [
    "---"
   ]
  },
  {
   "cell_type": "markdown",
   "id": "aede25e5",
   "metadata": {},
   "source": [
    "## 손글씨 숫자 식별 모델\n",
    "---\n",
    "- 데이터 : MNIST 데이터 사용\n",
    "- 학습모델 : 신경망 모델\n",
    "- 동작 : 0 ~ 9 숫자 판별"
   ]
  },
  {
   "cell_type": "code",
   "execution_count": 9,
   "id": "61ea49ba",
   "metadata": {},
   "outputs": [],
   "source": [
    "from tensorflow.keras import Sequential\n",
    "from tensorflow.keras.layers import Dense, Dropout, Flatten\n",
    "from tensorflow.keras.datasets.mnist import load_data\n",
    "from tensorflow.keras.utils import plot_model\n",
    "from sklearn.model_selection import train_test_split"
   ]
  },
  {
   "cell_type": "code",
   "execution_count": 5,
   "id": "b44b74b6",
   "metadata": {},
   "outputs": [],
   "source": [
    "#!pip install pydotplus"
   ]
  },
  {
   "cell_type": "code",
   "execution_count": 6,
   "id": "e1be878c",
   "metadata": {},
   "outputs": [],
   "source": [
    "#!pip install pydot"
   ]
  },
  {
   "cell_type": "code",
   "execution_count": 7,
   "id": "e9c4cda5",
   "metadata": {},
   "outputs": [],
   "source": [
    "#!pip install graphviz"
   ]
  },
  {
   "cell_type": "code",
   "execution_count": 55,
   "id": "afd8d73d",
   "metadata": {},
   "outputs": [
    {
     "name": "stdout",
     "output_type": "stream",
     "text": [
      "You must install pydot (`pip install pydot`) and install graphviz (see instructions at https://graphviz.gitlab.io/download/) for plot_model/model_to_dot to work.\n"
     ]
    }
   ],
   "source": [
    "plot_model(model)"
   ]
  },
  {
   "cell_type": "markdown",
   "id": "baa057a7",
   "metadata": {},
   "source": [
    "### [1] 데이터 로딩 및 준비"
   ]
  },
  {
   "cell_type": "code",
   "execution_count": 11,
   "id": "bb09566e",
   "metadata": {},
   "outputs": [],
   "source": [
    "(x_train, y_train), (x_test, y_test)=load_data()"
   ]
  },
  {
   "cell_type": "code",
   "execution_count": 12,
   "id": "12b03571",
   "metadata": {},
   "outputs": [
    {
     "name": "stdout",
     "output_type": "stream",
     "text": [
      "x_train.shape, x_test.shape : (60000, 28, 28), (10000, 28, 28)\n",
      "y_train.shape, y_test.shape : (60000,), (10000,)\n"
     ]
    }
   ],
   "source": [
    "print(f'x_train.shape, x_test.shape : {x_train.shape}, {x_test.shape}')\n",
    "print(f'y_train.shape, y_test.shape : {y_train.shape}, {y_test.shape}')"
   ]
  },
  {
   "cell_type": "code",
   "execution_count": 13,
   "id": "3738139b",
   "metadata": {},
   "outputs": [],
   "source": [
    "# 검증용 데이터 셋 준비\n",
    "x_train, x_val, y_train, y_val=train_test_split(\n",
    "x_train, y_train, stratify=y_train)"
   ]
  },
  {
   "cell_type": "code",
   "execution_count": 14,
   "id": "825c8906",
   "metadata": {},
   "outputs": [
    {
     "name": "stdout",
     "output_type": "stream",
     "text": [
      "x_train.shape, x_val.shape : (45000, 28, 28), (15000, 28, 28)\n",
      "y_train.shape, y_val.shape : (45000,), (15000,)\n"
     ]
    }
   ],
   "source": [
    "print(f'x_train.shape, x_val.shape : {x_train.shape}, {x_val.shape}')\n",
    "print(f'y_train.shape, y_val.shape : {y_train.shape}, {y_val.shape}')"
   ]
  },
  {
   "cell_type": "markdown",
   "id": "d5e33d95",
   "metadata": {},
   "source": [
    "### [2] 데이터 전처리\n",
    "- 수치 데이터 => 스케일링\n",
    "- 범주형 데이터 => 원핫인코딩"
   ]
  },
  {
   "cell_type": "code",
   "execution_count": 15,
   "id": "61a77dc6",
   "metadata": {},
   "outputs": [
    {
     "data": {
      "text/plain": [
       "(array([[  0,   0,   0,   0,   0,   0,   0,   0,   0,   0,   0,   0,   0,\n",
       "           0,   0,   0,   0,   0,   0,   0,   0,   0,   0,   0,   0,   0,\n",
       "           0,   0],\n",
       "        [  0,   0,   0,   0,   0,   0,   0,   0,   0,   0,   0,   0,   0,\n",
       "           0,   0,   0,   0,   0,   0,   0,   0,   0,   0,   0,   0,   0,\n",
       "           0,   0],\n",
       "        [  0,   0,   0,   0,   0,   0,   0,   0,   0,   0,   0,   0,   0,\n",
       "           0,   0,   0,   0,   0,   0,   0,   0,   0,   0,   0,   0,   0,\n",
       "           0,   0],\n",
       "        [  0,   0,   0,   0,   0,   0,   0,   0,   0,   0,   0,   0,   0,\n",
       "           0,   0,   0,   0,   0,   0,   0,   0,   0,   0,   0,   0,   0,\n",
       "           0,   0],\n",
       "        [  0,   0,   0,   0,   0,   0,   0,   0,   0,   0,   0,   0,   0,\n",
       "           0,   0,   0,   0,   0,   0,   0,   0,   0,   0,   0,   0,   0,\n",
       "           0,   0],\n",
       "        [  0,   0,   0,   0,   0,   0,   0,   0,   0,   0,   0,   0,   0,\n",
       "           0,   0,   0,   0,   0,   0,   0,   0,   0,   0,   0,   0,   0,\n",
       "           0,   0],\n",
       "        [  0,   0,   0,   0,   0,   0,   0,   0,   0,   0,   0,   0,  31,\n",
       "         176,  41,   0,   0,   0,   0,   0,   0,   0,   0,   0,   0,   0,\n",
       "           0,   0],\n",
       "        [  0,   0,   0,   0,   0,   0,   0,   0,   0,   0,   0,   6, 199,\n",
       "         211,   0,   0,   0,   0,   0,   0,   0,   0,   0,   0,   0,   0,\n",
       "           0,   0],\n",
       "        [  0,   0,   0,   0,   0,   0,   0,   0,   0,   0,   0,  74, 254,\n",
       "         130,   0,   0,   0,   0,  35,  11,   0,   0,   0,   0,   0,   0,\n",
       "           0,   0],\n",
       "        [  0,   0,   0,   0,   0,   0,   0,   0,   0,   0,  24, 207, 254,\n",
       "          41,   0,   0,  48, 162, 251, 115,   0,   0,   0,   0,   0,   0,\n",
       "           0,   0],\n",
       "        [  0,   0,   0,   0,   0,   0,   0,   0,   0,   3, 134, 254, 186,\n",
       "           4,   0,   0, 242, 254, 120,   6,   0,   0,   0,   0,   0,   0,\n",
       "           0,   0],\n",
       "        [  0,   0,   0,   0,   0,   0,   0,   0,   0,  27, 255, 250,  63,\n",
       "           0,   0,  70, 253, 163,   5,   0,   0,   0,   0,   0,   0,   0,\n",
       "           0,   0],\n",
       "        [  0,   0,   0,   0,   0,   0,   0,   0,   0,  76, 254, 190,   0,\n",
       "           0,  25, 215, 254,  62,   0,   0,   0,   0,   0,   0,   0,   0,\n",
       "           0,   0],\n",
       "        [  0,   0,   0,   0,   0,   0,   0,   0,   0, 130, 254,  67,   0,\n",
       "           0,  78, 254, 227,  22,   0,   0,   0,   0,   0,   0,   0,   0,\n",
       "           0,   0],\n",
       "        [  0,   0,   0,   0,   0,   0,   0,   0,   0, 128, 254,  78,   6,\n",
       "          53, 239, 254, 248, 214, 214, 178,  54,   0,   0,   0,   0,   0,\n",
       "           0,   0],\n",
       "        [  0,   0,   0,   0,   0,   0,   0,   0,   0,  27, 254, 254, 254,\n",
       "         254, 254, 254, 225, 202, 105,  28,   0,   0,   0,   0,   0,   0,\n",
       "           0,   0],\n",
       "        [  0,   0,   0,   0,   0,   0,   0,   0,   0,   6, 125, 243, 254,\n",
       "         254, 254, 134,  22,   0,   0,   0,   0,   0,   0,   0,   0,   0,\n",
       "           0,   0],\n",
       "        [  0,   0,   0,   0,   0,   0,   0,   0,   0,   0,   0,   4,   5,\n",
       "         197, 233,  31,   0,   0,   0,   0,   0,   0,   0,   0,   0,   0,\n",
       "           0,   0],\n",
       "        [  0,   0,   0,   0,   0,   0,   0,   0,   0,   0,   0,   0,   0,\n",
       "         110, 254,  52,   0,   0,   0,   0,   0,   0,   0,   0,   0,   0,\n",
       "           0,   0],\n",
       "        [  0,   0,   0,   0,   0,   0,   0,   0,   0,   0,   0,   0,   0,\n",
       "         208, 227,  24,   0,   0,   0,   0,   0,   0,   0,   0,   0,   0,\n",
       "           0,   0],\n",
       "        [  0,   0,   0,   0,   0,   0,   0,   0,   0,   0,   0,   0,  45,\n",
       "         243, 170,   0,   0,   0,   0,   0,   0,   0,   0,   0,   0,   0,\n",
       "           0,   0],\n",
       "        [  0,   0,   0,   0,   0,   0,   0,   0,   0,   0,   0,   0,  63,\n",
       "         254,  91,   0,   0,   0,   0,   0,   0,   0,   0,   0,   0,   0,\n",
       "           0,   0],\n",
       "        [  0,   0,   0,   0,   0,   0,   0,   0,   0,   0,   0,   0,  63,\n",
       "         249,   0,   0,   0,   0,   0,   0,   0,   0,   0,   0,   0,   0,\n",
       "           0,   0],\n",
       "        [  0,   0,   0,   0,   0,   0,   0,   0,   0,   0,   0,   0,  63,\n",
       "         249,   0,   0,   0,   0,   0,   0,   0,   0,   0,   0,   0,   0,\n",
       "           0,   0],\n",
       "        [  0,   0,   0,   0,   0,   0,   0,   0,   0,   0,   0,   0,  63,\n",
       "         249,   0,   0,   0,   0,   0,   0,   0,   0,   0,   0,   0,   0,\n",
       "           0,   0],\n",
       "        [  0,   0,   0,   0,   0,   0,   0,   0,   0,   0,   0,   0,  38,\n",
       "         190,   0,   0,   0,   0,   0,   0,   0,   0,   0,   0,   0,   0,\n",
       "           0,   0],\n",
       "        [  0,   0,   0,   0,   0,   0,   0,   0,   0,   0,   0,   0,   0,\n",
       "           0,   0,   0,   0,   0,   0,   0,   0,   0,   0,   0,   0,   0,\n",
       "           0,   0],\n",
       "        [  0,   0,   0,   0,   0,   0,   0,   0,   0,   0,   0,   0,   0,\n",
       "           0,   0,   0,   0,   0,   0,   0,   0,   0,   0,   0,   0,   0,\n",
       "           0,   0]], dtype=uint8),\n",
       " 4)"
      ]
     },
     "execution_count": 15,
     "metadata": {},
     "output_type": "execute_result"
    }
   ],
   "source": [
    "# 저장된 값 확인\n",
    "x_train[0], y_train[0]"
   ]
  },
  {
   "cell_type": "code",
   "execution_count": 16,
   "id": "fb332294",
   "metadata": {},
   "outputs": [],
   "source": [
    "# 이미지 데이터의 픽셀값 즉 특성(Feature) 0.0 ~ 1.0으로 스케일링\n",
    "x_train=x_train/255.0"
   ]
  },
  {
   "cell_type": "code",
   "execution_count": 17,
   "id": "8dd0aabb",
   "metadata": {},
   "outputs": [],
   "source": [
    "x_val=x_val/255.0\n",
    "x_test=x_test/255.0"
   ]
  },
  {
   "cell_type": "code",
   "execution_count": 18,
   "id": "86327e72",
   "metadata": {},
   "outputs": [
    {
     "data": {
      "text/plain": [
       "array([[0.        , 0.        , 0.        , 0.        , 0.        ,\n",
       "        0.        , 0.        , 0.        , 0.        , 0.        ,\n",
       "        0.        , 0.        , 0.        , 0.        , 0.        ,\n",
       "        0.        , 0.        , 0.        , 0.        , 0.        ,\n",
       "        0.        , 0.        , 0.        , 0.        , 0.        ,\n",
       "        0.        , 0.        , 0.        ],\n",
       "       [0.        , 0.        , 0.        , 0.        , 0.        ,\n",
       "        0.        , 0.        , 0.        , 0.        , 0.        ,\n",
       "        0.        , 0.        , 0.        , 0.        , 0.        ,\n",
       "        0.        , 0.        , 0.        , 0.        , 0.        ,\n",
       "        0.        , 0.        , 0.        , 0.        , 0.        ,\n",
       "        0.        , 0.        , 0.        ],\n",
       "       [0.        , 0.        , 0.        , 0.        , 0.        ,\n",
       "        0.        , 0.        , 0.        , 0.        , 0.        ,\n",
       "        0.        , 0.        , 0.        , 0.        , 0.        ,\n",
       "        0.        , 0.        , 0.        , 0.        , 0.        ,\n",
       "        0.        , 0.        , 0.        , 0.        , 0.        ,\n",
       "        0.        , 0.        , 0.        ],\n",
       "       [0.        , 0.        , 0.        , 0.        , 0.        ,\n",
       "        0.        , 0.        , 0.        , 0.        , 0.        ,\n",
       "        0.        , 0.        , 0.        , 0.        , 0.        ,\n",
       "        0.        , 0.        , 0.        , 0.        , 0.        ,\n",
       "        0.        , 0.        , 0.        , 0.        , 0.        ,\n",
       "        0.        , 0.        , 0.        ],\n",
       "       [0.        , 0.        , 0.        , 0.        , 0.        ,\n",
       "        0.        , 0.        , 0.        , 0.        , 0.        ,\n",
       "        0.        , 0.        , 0.        , 0.        , 0.        ,\n",
       "        0.        , 0.        , 0.        , 0.        , 0.        ,\n",
       "        0.        , 0.        , 0.        , 0.        , 0.        ,\n",
       "        0.        , 0.        , 0.        ],\n",
       "       [0.        , 0.        , 0.        , 0.        , 0.        ,\n",
       "        0.        , 0.        , 0.        , 0.        , 0.        ,\n",
       "        0.        , 0.        , 0.        , 0.        , 0.        ,\n",
       "        0.        , 0.        , 0.        , 0.        , 0.        ,\n",
       "        0.        , 0.        , 0.        , 0.        , 0.        ,\n",
       "        0.        , 0.        , 0.        ],\n",
       "       [0.        , 0.        , 0.        , 0.        , 0.        ,\n",
       "        0.        , 0.        , 0.        , 0.        , 0.        ,\n",
       "        0.        , 0.        , 0.12156863, 0.69019608, 0.16078431,\n",
       "        0.        , 0.        , 0.        , 0.        , 0.        ,\n",
       "        0.        , 0.        , 0.        , 0.        , 0.        ,\n",
       "        0.        , 0.        , 0.        ],\n",
       "       [0.        , 0.        , 0.        , 0.        , 0.        ,\n",
       "        0.        , 0.        , 0.        , 0.        , 0.        ,\n",
       "        0.        , 0.02352941, 0.78039216, 0.82745098, 0.        ,\n",
       "        0.        , 0.        , 0.        , 0.        , 0.        ,\n",
       "        0.        , 0.        , 0.        , 0.        , 0.        ,\n",
       "        0.        , 0.        , 0.        ],\n",
       "       [0.        , 0.        , 0.        , 0.        , 0.        ,\n",
       "        0.        , 0.        , 0.        , 0.        , 0.        ,\n",
       "        0.        , 0.29019608, 0.99607843, 0.50980392, 0.        ,\n",
       "        0.        , 0.        , 0.        , 0.1372549 , 0.04313725,\n",
       "        0.        , 0.        , 0.        , 0.        , 0.        ,\n",
       "        0.        , 0.        , 0.        ],\n",
       "       [0.        , 0.        , 0.        , 0.        , 0.        ,\n",
       "        0.        , 0.        , 0.        , 0.        , 0.        ,\n",
       "        0.09411765, 0.81176471, 0.99607843, 0.16078431, 0.        ,\n",
       "        0.        , 0.18823529, 0.63529412, 0.98431373, 0.45098039,\n",
       "        0.        , 0.        , 0.        , 0.        , 0.        ,\n",
       "        0.        , 0.        , 0.        ],\n",
       "       [0.        , 0.        , 0.        , 0.        , 0.        ,\n",
       "        0.        , 0.        , 0.        , 0.        , 0.01176471,\n",
       "        0.5254902 , 0.99607843, 0.72941176, 0.01568627, 0.        ,\n",
       "        0.        , 0.94901961, 0.99607843, 0.47058824, 0.02352941,\n",
       "        0.        , 0.        , 0.        , 0.        , 0.        ,\n",
       "        0.        , 0.        , 0.        ],\n",
       "       [0.        , 0.        , 0.        , 0.        , 0.        ,\n",
       "        0.        , 0.        , 0.        , 0.        , 0.10588235,\n",
       "        1.        , 0.98039216, 0.24705882, 0.        , 0.        ,\n",
       "        0.2745098 , 0.99215686, 0.63921569, 0.01960784, 0.        ,\n",
       "        0.        , 0.        , 0.        , 0.        , 0.        ,\n",
       "        0.        , 0.        , 0.        ],\n",
       "       [0.        , 0.        , 0.        , 0.        , 0.        ,\n",
       "        0.        , 0.        , 0.        , 0.        , 0.29803922,\n",
       "        0.99607843, 0.74509804, 0.        , 0.        , 0.09803922,\n",
       "        0.84313725, 0.99607843, 0.24313725, 0.        , 0.        ,\n",
       "        0.        , 0.        , 0.        , 0.        , 0.        ,\n",
       "        0.        , 0.        , 0.        ],\n",
       "       [0.        , 0.        , 0.        , 0.        , 0.        ,\n",
       "        0.        , 0.        , 0.        , 0.        , 0.50980392,\n",
       "        0.99607843, 0.2627451 , 0.        , 0.        , 0.30588235,\n",
       "        0.99607843, 0.89019608, 0.08627451, 0.        , 0.        ,\n",
       "        0.        , 0.        , 0.        , 0.        , 0.        ,\n",
       "        0.        , 0.        , 0.        ],\n",
       "       [0.        , 0.        , 0.        , 0.        , 0.        ,\n",
       "        0.        , 0.        , 0.        , 0.        , 0.50196078,\n",
       "        0.99607843, 0.30588235, 0.02352941, 0.20784314, 0.9372549 ,\n",
       "        0.99607843, 0.97254902, 0.83921569, 0.83921569, 0.69803922,\n",
       "        0.21176471, 0.        , 0.        , 0.        , 0.        ,\n",
       "        0.        , 0.        , 0.        ],\n",
       "       [0.        , 0.        , 0.        , 0.        , 0.        ,\n",
       "        0.        , 0.        , 0.        , 0.        , 0.10588235,\n",
       "        0.99607843, 0.99607843, 0.99607843, 0.99607843, 0.99607843,\n",
       "        0.99607843, 0.88235294, 0.79215686, 0.41176471, 0.10980392,\n",
       "        0.        , 0.        , 0.        , 0.        , 0.        ,\n",
       "        0.        , 0.        , 0.        ],\n",
       "       [0.        , 0.        , 0.        , 0.        , 0.        ,\n",
       "        0.        , 0.        , 0.        , 0.        , 0.02352941,\n",
       "        0.49019608, 0.95294118, 0.99607843, 0.99607843, 0.99607843,\n",
       "        0.5254902 , 0.08627451, 0.        , 0.        , 0.        ,\n",
       "        0.        , 0.        , 0.        , 0.        , 0.        ,\n",
       "        0.        , 0.        , 0.        ],\n",
       "       [0.        , 0.        , 0.        , 0.        , 0.        ,\n",
       "        0.        , 0.        , 0.        , 0.        , 0.        ,\n",
       "        0.        , 0.01568627, 0.01960784, 0.77254902, 0.91372549,\n",
       "        0.12156863, 0.        , 0.        , 0.        , 0.        ,\n",
       "        0.        , 0.        , 0.        , 0.        , 0.        ,\n",
       "        0.        , 0.        , 0.        ],\n",
       "       [0.        , 0.        , 0.        , 0.        , 0.        ,\n",
       "        0.        , 0.        , 0.        , 0.        , 0.        ,\n",
       "        0.        , 0.        , 0.        , 0.43137255, 0.99607843,\n",
       "        0.20392157, 0.        , 0.        , 0.        , 0.        ,\n",
       "        0.        , 0.        , 0.        , 0.        , 0.        ,\n",
       "        0.        , 0.        , 0.        ],\n",
       "       [0.        , 0.        , 0.        , 0.        , 0.        ,\n",
       "        0.        , 0.        , 0.        , 0.        , 0.        ,\n",
       "        0.        , 0.        , 0.        , 0.81568627, 0.89019608,\n",
       "        0.09411765, 0.        , 0.        , 0.        , 0.        ,\n",
       "        0.        , 0.        , 0.        , 0.        , 0.        ,\n",
       "        0.        , 0.        , 0.        ],\n",
       "       [0.        , 0.        , 0.        , 0.        , 0.        ,\n",
       "        0.        , 0.        , 0.        , 0.        , 0.        ,\n",
       "        0.        , 0.        , 0.17647059, 0.95294118, 0.66666667,\n",
       "        0.        , 0.        , 0.        , 0.        , 0.        ,\n",
       "        0.        , 0.        , 0.        , 0.        , 0.        ,\n",
       "        0.        , 0.        , 0.        ],\n",
       "       [0.        , 0.        , 0.        , 0.        , 0.        ,\n",
       "        0.        , 0.        , 0.        , 0.        , 0.        ,\n",
       "        0.        , 0.        , 0.24705882, 0.99607843, 0.35686275,\n",
       "        0.        , 0.        , 0.        , 0.        , 0.        ,\n",
       "        0.        , 0.        , 0.        , 0.        , 0.        ,\n",
       "        0.        , 0.        , 0.        ],\n",
       "       [0.        , 0.        , 0.        , 0.        , 0.        ,\n",
       "        0.        , 0.        , 0.        , 0.        , 0.        ,\n",
       "        0.        , 0.        , 0.24705882, 0.97647059, 0.        ,\n",
       "        0.        , 0.        , 0.        , 0.        , 0.        ,\n",
       "        0.        , 0.        , 0.        , 0.        , 0.        ,\n",
       "        0.        , 0.        , 0.        ],\n",
       "       [0.        , 0.        , 0.        , 0.        , 0.        ,\n",
       "        0.        , 0.        , 0.        , 0.        , 0.        ,\n",
       "        0.        , 0.        , 0.24705882, 0.97647059, 0.        ,\n",
       "        0.        , 0.        , 0.        , 0.        , 0.        ,\n",
       "        0.        , 0.        , 0.        , 0.        , 0.        ,\n",
       "        0.        , 0.        , 0.        ],\n",
       "       [0.        , 0.        , 0.        , 0.        , 0.        ,\n",
       "        0.        , 0.        , 0.        , 0.        , 0.        ,\n",
       "        0.        , 0.        , 0.24705882, 0.97647059, 0.        ,\n",
       "        0.        , 0.        , 0.        , 0.        , 0.        ,\n",
       "        0.        , 0.        , 0.        , 0.        , 0.        ,\n",
       "        0.        , 0.        , 0.        ],\n",
       "       [0.        , 0.        , 0.        , 0.        , 0.        ,\n",
       "        0.        , 0.        , 0.        , 0.        , 0.        ,\n",
       "        0.        , 0.        , 0.14901961, 0.74509804, 0.        ,\n",
       "        0.        , 0.        , 0.        , 0.        , 0.        ,\n",
       "        0.        , 0.        , 0.        , 0.        , 0.        ,\n",
       "        0.        , 0.        , 0.        ],\n",
       "       [0.        , 0.        , 0.        , 0.        , 0.        ,\n",
       "        0.        , 0.        , 0.        , 0.        , 0.        ,\n",
       "        0.        , 0.        , 0.        , 0.        , 0.        ,\n",
       "        0.        , 0.        , 0.        , 0.        , 0.        ,\n",
       "        0.        , 0.        , 0.        , 0.        , 0.        ,\n",
       "        0.        , 0.        , 0.        ],\n",
       "       [0.        , 0.        , 0.        , 0.        , 0.        ,\n",
       "        0.        , 0.        , 0.        , 0.        , 0.        ,\n",
       "        0.        , 0.        , 0.        , 0.        , 0.        ,\n",
       "        0.        , 0.        , 0.        , 0.        , 0.        ,\n",
       "        0.        , 0.        , 0.        , 0.        , 0.        ,\n",
       "        0.        , 0.        , 0.        ]])"
      ]
     },
     "execution_count": 18,
     "metadata": {},
     "output_type": "execute_result"
    }
   ],
   "source": [
    "x_train[0]"
   ]
  },
  {
   "cell_type": "code",
   "execution_count": 19,
   "id": "6a796a08",
   "metadata": {},
   "outputs": [],
   "source": [
    "# 타겟 라벨 => OneHotEncoding으로 변환\n",
    "from sklearn.preprocessing import OneHotEncoder"
   ]
  },
  {
   "cell_type": "code",
   "execution_count": 20,
   "id": "4692d63b",
   "metadata": {},
   "outputs": [],
   "source": [
    "encoder=OneHotEncoder()"
   ]
  },
  {
   "cell_type": "code",
   "execution_count": 21,
   "id": "2cb9d5fe",
   "metadata": {},
   "outputs": [],
   "source": [
    "encoder.fit(y_train.reshape(-1, 1))\n",
    "y_train=encoder.transform(y_train.reshape(-1, 1))"
   ]
  },
  {
   "cell_type": "code",
   "execution_count": 22,
   "id": "c51375f6",
   "metadata": {},
   "outputs": [
    {
     "data": {
      "text/plain": [
       "scipy.sparse.csr.csr_matrix"
      ]
     },
     "execution_count": 22,
     "metadata": {},
     "output_type": "execute_result"
    }
   ],
   "source": [
    "type(y_train)"
   ]
  },
  {
   "cell_type": "code",
   "execution_count": 23,
   "id": "c6e0e2ea",
   "metadata": {},
   "outputs": [
    {
     "data": {
      "text/plain": [
       "numpy.ndarray"
      ]
     },
     "execution_count": 23,
     "metadata": {},
     "output_type": "execute_result"
    }
   ],
   "source": [
    "y_train=y_train.toarray()\n",
    "type(y_train)"
   ]
  },
  {
   "cell_type": "code",
   "execution_count": 24,
   "id": "1e3b57e8",
   "metadata": {},
   "outputs": [
    {
     "name": "stdout",
     "output_type": "stream",
     "text": [
      "type(y_train) : <class 'numpy.ndarray'>, y_tarin[0] : [0. 0. 0. 0. 1. 0. 0. 0. 0. 0.]\n"
     ]
    }
   ],
   "source": [
    "print(f'type(y_train) : {type(y_train)}, y_tarin[0] : {y_train[0]}')"
   ]
  },
  {
   "cell_type": "code",
   "execution_count": 25,
   "id": "cdf561d5",
   "metadata": {},
   "outputs": [],
   "source": [
    "y_test=encoder.transform(y_test.reshape(-1, 1))\n",
    "y_val=encoder.transform(y_val.reshape(-1, 1))"
   ]
  },
  {
   "cell_type": "code",
   "execution_count": 26,
   "id": "4d612f9c",
   "metadata": {},
   "outputs": [],
   "source": [
    "y_test=y_test.toarray()\n",
    "y_val=y_val.toarray()"
   ]
  },
  {
   "cell_type": "code",
   "execution_count": 27,
   "id": "72957f1b",
   "metadata": {},
   "outputs": [],
   "source": [
    "x_train=x_train.reshape(-1, 28*28)"
   ]
  },
  {
   "cell_type": "code",
   "execution_count": 28,
   "id": "25afc05b",
   "metadata": {},
   "outputs": [
    {
     "data": {
      "text/plain": [
       "(15000, 784)"
      ]
     },
     "execution_count": 28,
     "metadata": {},
     "output_type": "execute_result"
    }
   ],
   "source": [
    "x_val=x_val.reshape(-1, 28*28)\n",
    "x_val.shape"
   ]
  },
  {
   "cell_type": "code",
   "execution_count": 29,
   "id": "4925a378",
   "metadata": {},
   "outputs": [
    {
     "data": {
      "text/plain": [
       "(10000, 784)"
      ]
     },
     "execution_count": 29,
     "metadata": {},
     "output_type": "execute_result"
    }
   ],
   "source": [
    "x_test=x_test.reshape(-1, 28*28)\n",
    "x_test.shape"
   ]
  },
  {
   "cell_type": "markdown",
   "id": "f6d49800",
   "metadata": {},
   "source": [
    "### [3] 모델 생성\n",
    "---\n",
    "- (1) 모델 구성\n",
    "- (2) 모델 생성"
   ]
  },
  {
   "cell_type": "markdown",
   "id": "943066b6",
   "metadata": {},
   "source": [
    "#### [3-1] 모델 구성\n",
    "---\n",
    "- 입력 데이터 : 784 => 28*28 이미지 데이터\n",
    "- 출력 데이터 : 10 => 0 ~ 9 숫자 라벨\n",
    "- 학습 방법 : 분류 - 다중분류"
   ]
  },
  {
   "cell_type": "code",
   "execution_count": 30,
   "id": "43fcdef3",
   "metadata": {},
   "outputs": [],
   "source": [
    "model=Sequential(name='MNIST_NNModel')"
   ]
  },
  {
   "cell_type": "code",
   "execution_count": 31,
   "id": "fac6ad67",
   "metadata": {},
   "outputs": [],
   "source": [
    "# model.add(Flatten(input_shape=(784, ))) 하면 reshape 안 해도 됨\n",
    "# Flatten이 첫 번째 층이 아니면 input_shape 안 해도 됨"
   ]
  },
  {
   "cell_type": "code",
   "execution_count": 32,
   "id": "68f956e5",
   "metadata": {},
   "outputs": [],
   "source": [
    "# Layer 생성 => Node(퍼셉트론, 뉴런) 개수,  활성화 함수, [옵] input_shape(#param, )\n",
    "model.add(Dense(250, activation='relu', input_shape=(784, )))"
   ]
  },
  {
   "cell_type": "code",
   "execution_count": 33,
   "id": "a4b73631",
   "metadata": {},
   "outputs": [],
   "source": [
    "model.add(Dropout(0.3))"
   ]
  },
  {
   "cell_type": "code",
   "execution_count": 34,
   "id": "2f2dc4e6",
   "metadata": {},
   "outputs": [],
   "source": [
    "model.add(Dense(100, activation='relu'))"
   ]
  },
  {
   "cell_type": "code",
   "execution_count": 35,
   "id": "bc4a52cd",
   "metadata": {},
   "outputs": [],
   "source": [
    "model.add(Dropout(0.3))"
   ]
  },
  {
   "cell_type": "code",
   "execution_count": 36,
   "id": "87e79ce5",
   "metadata": {},
   "outputs": [],
   "source": [
    "# 출력 Layer 생성 => Node(퍼셉트론, 뉴런) 개수, 활성화 함수\n",
    "model.add(Dense(10, activation='softmax'))"
   ]
  },
  {
   "cell_type": "code",
   "execution_count": 37,
   "id": "d1850dc8",
   "metadata": {},
   "outputs": [
    {
     "name": "stdout",
     "output_type": "stream",
     "text": [
      "Model: \"MNIST_NNModel\"\n",
      "_________________________________________________________________\n",
      " Layer (type)                Output Shape              Param #   \n",
      "=================================================================\n",
      " dense (Dense)               (None, 250)               196250    \n",
      "                                                                 \n",
      " dropout (Dropout)           (None, 250)               0         \n",
      "                                                                 \n",
      " dense_1 (Dense)             (None, 100)               25100     \n",
      "                                                                 \n",
      " dropout_1 (Dropout)         (None, 100)               0         \n",
      "                                                                 \n",
      " dense_2 (Dense)             (None, 10)                1010      \n",
      "                                                                 \n",
      "=================================================================\n",
      "Total params: 222,360\n",
      "Trainable params: 222,360\n",
      "Non-trainable params: 0\n",
      "_________________________________________________________________\n"
     ]
    }
   ],
   "source": [
    "model.summary()"
   ]
  },
  {
   "cell_type": "markdown",
   "id": "44052fbb",
   "metadata": {},
   "source": [
    "#### [3-2] 모델 생성\n",
    "---\n",
    "- loss 함수 => crossentropy\n",
    "    * 이진분류 : binary_crossentropy\n",
    "    * 다중분류 : sparse_categorical_crossentropy, categorical_crossentropy(원핫인코딩 했을 때)\n",
    "- optimizer 기법 => 'rmsprop'\n",
    "- metrics 평가항목 => 'loss'"
   ]
  },
  {
   "cell_type": "code",
   "execution_count": 38,
   "id": "f9b613ea",
   "metadata": {},
   "outputs": [],
   "source": [
    "model.compile(loss='categorical_crossentropy',\n",
    "             optimizer='adam',\n",
    "             metrics='accuracy')"
   ]
  },
  {
   "cell_type": "markdown",
   "id": "ff913e85",
   "metadata": {},
   "source": [
    "### [4] 학습"
   ]
  },
  {
   "cell_type": "code",
   "execution_count": 39,
   "id": "6eb9e40b",
   "metadata": {},
   "outputs": [],
   "source": [
    "from tensorflow.keras.callbacks import EarlyStopping, ModelCheckpoint"
   ]
  },
  {
   "cell_type": "code",
   "execution_count": 40,
   "id": "948d02d7",
   "metadata": {},
   "outputs": [],
   "source": [
    "stopCB=EarlyStopping(monitor='val_loss', patience=3)"
   ]
  },
  {
   "cell_type": "code",
   "execution_count": 41,
   "id": "21aabe32",
   "metadata": {},
   "outputs": [],
   "source": [
    "MODEL_PATH='model.{epoch:02d}-{val_loss:.2f}.h5'\n",
    "modelCB=ModelCheckpoint(filepath=MODEL_PATH,\n",
    "                       save_best_only=True)"
   ]
  },
  {
   "cell_type": "code",
   "execution_count": 42,
   "id": "18915b83",
   "metadata": {},
   "outputs": [],
   "source": [
    "MODEL_PATH2='./model'\n",
    "modelCB2=ModelCheckpoint(filepath=MODEL_PATH2)"
   ]
  },
  {
   "cell_type": "code",
   "execution_count": 43,
   "id": "b39e7faa",
   "metadata": {},
   "outputs": [],
   "source": [
    "MODEL_PATH3='./modelWeight'\n",
    "modelCB3=ModelCheckpoint(filepath=MODEL_PATH3,\n",
    "                         save_best_only=True,\n",
    "                       save_weights_only=True)"
   ]
  },
  {
   "cell_type": "code",
   "execution_count": 44,
   "id": "c21ad5c7",
   "metadata": {},
   "outputs": [
    {
     "name": "stdout",
     "output_type": "stream",
     "text": [
      "Epoch 1/10\n",
      "1407/1407 [==============================] - 5s 3ms/step - loss: 0.3506 - accuracy: 0.8944 - val_loss: 0.1490 - val_accuracy: 0.9552\n",
      "Epoch 2/10\n",
      "1407/1407 [==============================] - 4s 3ms/step - loss: 0.1689 - accuracy: 0.9500 - val_loss: 0.1104 - val_accuracy: 0.9664\n",
      "Epoch 3/10\n",
      "1407/1407 [==============================] - 4s 3ms/step - loss: 0.1281 - accuracy: 0.9604 - val_loss: 0.0998 - val_accuracy: 0.9692\n",
      "Epoch 4/10\n",
      "1407/1407 [==============================] - 4s 3ms/step - loss: 0.1100 - accuracy: 0.9668 - val_loss: 0.1013 - val_accuracy: 0.9701\n",
      "Epoch 5/10\n",
      "1407/1407 [==============================] - 4s 3ms/step - loss: 0.0921 - accuracy: 0.9721 - val_loss: 0.0956 - val_accuracy: 0.9717\n",
      "Epoch 6/10\n",
      "1407/1407 [==============================] - 4s 3ms/step - loss: 0.0856 - accuracy: 0.9730 - val_loss: 0.0902 - val_accuracy: 0.9743\n",
      "Epoch 7/10\n",
      "1407/1407 [==============================] - 4s 3ms/step - loss: 0.0771 - accuracy: 0.9752 - val_loss: 0.0944 - val_accuracy: 0.9750\n",
      "Epoch 8/10\n",
      "1407/1407 [==============================] - 4s 3ms/step - loss: 0.0723 - accuracy: 0.9764 - val_loss: 0.0842 - val_accuracy: 0.9765\n",
      "Epoch 9/10\n",
      "1407/1407 [==============================] - 4s 3ms/step - loss: 0.0616 - accuracy: 0.9801 - val_loss: 0.0851 - val_accuracy: 0.9772\n",
      "Epoch 10/10\n",
      "1407/1407 [==============================] - 4s 3ms/step - loss: 0.0607 - accuracy: 0.9808 - val_loss: 0.0836 - val_accuracy: 0.9785\n"
     ]
    }
   ],
   "source": [
    "his=model.fit(x_train, y_train, epochs=10,\n",
    "             validation_data=(x_val, y_val),\n",
    "             callbacks=[stopCB, modelCB])"
   ]
  },
  {
   "cell_type": "code",
   "execution_count": 45,
   "id": "03b8ab50",
   "metadata": {},
   "outputs": [],
   "source": [
    "# 학습 진행 결과 시각화\n",
    "import matplotlib.pyplot as plt"
   ]
  },
  {
   "cell_type": "code",
   "execution_count": 46,
   "id": "e9728070",
   "metadata": {},
   "outputs": [
    {
     "data": {
      "image/png": "[encoded data removed]",
      "text/plain": [
       "<Figure size 1080x576 with 1 Axes>"
      ]
     },
     "metadata": {
      "needs_background": "light"
     },
     "output_type": "display_data"
    }
   ],
   "source": [
    "plt.figure(figsize=(15, 8))\n",
    "plt.plot(his.epoch, his.history['loss'], label='train_loss')\n",
    "plt.plot(his.epoch, his.history['val_loss'], label='val_loss')\n",
    "plt.legend()\n",
    "plt.show()"
   ]
  },
  {
   "cell_type": "code",
   "execution_count": 47,
   "id": "560187fe",
   "metadata": {},
   "outputs": [
    {
     "data": {
      "image/png": "[encoded data removed]",
      "text/plain": [
       "<Figure size 1080x576 with 1 Axes>"
      ]
     },
     "metadata": {
      "needs_background": "light"
     },
     "output_type": "display_data"
    }
   ],
   "source": [
    "plt.figure(figsize=(15, 8))\n",
    "plt.plot(his.epoch, his.history['accuracy'], label='train_accuracy')\n",
    "plt.plot(his.epoch, his.history['val_accuracy'], label='val_accuracy')\n",
    "plt.legend()\n",
    "plt.show()"
   ]
  },
  {
   "cell_type": "markdown",
   "id": "74c31e34",
   "metadata": {},
   "source": [
    "### [5] 평가\n",
    "---\n",
    "- evaluate() 메서드\n",
    "    * test data, target\n",
    "    * 반환값 : loss, metrics에서 지정한 성능 평가 항목"
   ]
  },
  {
   "cell_type": "code",
   "execution_count": 48,
   "id": "552adac2",
   "metadata": {},
   "outputs": [
    {
     "name": "stdout",
     "output_type": "stream",
     "text": [
      "313/313 [==============================] - 0s 1ms/step - loss: 0.0800 - accuracy: 0.9785\n"
     ]
    }
   ],
   "source": [
    "test_result=model.evaluate(x_test, y_test)"
   ]
  },
  {
   "cell_type": "code",
   "execution_count": 49,
   "id": "6cad72d2",
   "metadata": {},
   "outputs": [
    {
     "data": {
      "text/plain": [
       "[0.0799870416522026, 0.9785000085830688]"
      ]
     },
     "execution_count": 49,
     "metadata": {},
     "output_type": "execute_result"
    }
   ],
   "source": [
    "test_result"
   ]
  },
  {
   "cell_type": "code",
   "execution_count": 50,
   "id": "11521a5e",
   "metadata": {},
   "outputs": [
    {
     "data": {
      "text/plain": [
       "(784,)"
      ]
     },
     "execution_count": 50,
     "metadata": {},
     "output_type": "execute_result"
    }
   ],
   "source": [
    "x_test[0].shape"
   ]
  },
  {
   "cell_type": "markdown",
   "id": "7e9e5fda",
   "metadata": {},
   "source": [
    "### [6] 테스트/예측"
   ]
  },
  {
   "cell_type": "code",
   "execution_count": 51,
   "id": "a45fff9e",
   "metadata": {},
   "outputs": [
    {
     "name": "stdout",
     "output_type": "stream",
     "text": [
      "1/1 [==============================] - 0s 96ms/step\n"
     ]
    },
    {
     "data": {
      "text/plain": [
       "array([[1.1960240e-11, 1.7760137e-11, 6.6680626e-11, 3.6413192e-09,\n",
       "        6.3994868e-12, 1.8665968e-11, 3.9984808e-21, 9.9999988e-01,\n",
       "        2.6984346e-15, 1.0744695e-07]], dtype=float32)"
      ]
     },
     "execution_count": 51,
     "metadata": {},
     "output_type": "execute_result"
    }
   ],
   "source": [
    "model.predict(x_test[[0]])"
   ]
  },
  {
   "cell_type": "code",
   "execution_count": 52,
   "id": "6bc6fa81",
   "metadata": {},
   "outputs": [
    {
     "name": "stdout",
     "output_type": "stream",
     "text": [
      "1/1 [==============================] - 0s 16ms/step\n"
     ]
    }
   ],
   "source": [
    "pre_label=model.predict(x_test[0].reshape(-1, 784))"
   ]
  },
  {
   "cell_type": "code",
   "execution_count": 53,
   "id": "54e0aae2",
   "metadata": {},
   "outputs": [
    {
     "data": {
      "text/plain": [
       "array([[0., 0., 0., 0., 0., 0., 0., 1., 0., 0.]], dtype=float32)"
      ]
     },
     "execution_count": 53,
     "metadata": {},
     "output_type": "execute_result"
    }
   ],
   "source": [
    "import numpy as np\n",
    "np.round(pre_label, 2)   # 예측값은 7"
   ]
  },
  {
   "cell_type": "code",
   "execution_count": 54,
   "id": "e0f4e119",
   "metadata": {},
   "outputs": [
    {
     "data": {
      "text/plain": [
       "array([0., 0., 0., 0., 0., 0., 0., 1., 0., 0.])"
      ]
     },
     "execution_count": 54,
     "metadata": {},
     "output_type": "execute_result"
    }
   ],
   "source": [
    "y_test[0]"
   ]
  },
  {
   "cell_type": "code",
   "execution_count": null,
   "id": "fbf7543b",
   "metadata": {},
   "outputs": [],
   "source": []
  },
  {
   "cell_type": "code",
   "execution_count": null,
   "id": "b532d0bd",
   "metadata": {},
   "outputs": [],
   "source": []
  },
  {
   "cell_type": "code",
   "execution_count": null,
   "id": "3cdbb738",
   "metadata": {},
   "outputs": [],
   "source": []
  },
  {
   "cell_type": "code",
   "execution_count": null,
   "id": "2a39866a",
   "metadata": {},
   "outputs": [],
   "source": []
  },
  {
   "cell_type": "code",
   "execution_count": null,
   "id": "04d324ab",
   "metadata": {},
   "outputs": [],
   "source": []
  },
  {
   "cell_type": "code",
   "execution_count": null,
   "id": "1d2e65a2",
   "metadata": {},
   "outputs": [],
   "source": []
  },
  {
   "cell_type": "code",
   "execution_count": null,
   "id": "c33d792d",
   "metadata": {},
   "outputs": [],
   "source": []
  },
  {
   "cell_type": "code",
   "execution_count": null,
   "id": "cc2a77e8",
   "metadata": {},
   "outputs": [],
   "source": []
  },
  {
   "cell_type": "code",
   "execution_count": null,
   "id": "b960842c",
   "metadata": {},
   "outputs": [],
   "source": []
  },
  {
   "cell_type": "code",
   "execution_count": null,
   "id": "1001f694",
   "metadata": {},
   "outputs": [],
   "source": []
  },
  {
   "cell_type": "code",
   "execution_count": null,
   "id": "e03d6af9",
   "metadata": {},
   "outputs": [],
   "source": []
  },
  {
   "cell_type": "code",
   "execution_count": null,
   "id": "5e08b554",
   "metadata": {},
   "outputs": [],
   "source": []
  }
 ],
 "metadata": {
  "kernelspec": {
   "display_name": "Python 3 (ipykernel)",
   "language": "python",
   "name": "python3"
  },
  "language_info": {
   "codemirror_mode": {
    "name": "ipython",
    "version": 3
   },
   "file_extension": ".py",
   "mimetype": "text/x-python",
   "name": "python",
   "nbconvert_exporter": "python",
   "pygments_lexer": "ipython3",
   "version": "3.9.12"
  }
 },
 "nbformat": 4,
 "nbformat_minor": 5
}
