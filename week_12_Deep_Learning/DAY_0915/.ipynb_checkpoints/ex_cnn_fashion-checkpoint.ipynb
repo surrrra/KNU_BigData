{
 "cells": [
  {
   "cell_type": "markdown",
   "id": "869a961a",
   "metadata": {},
   "source": [
    "# CNN(Convolution Neural Network)\n",
    "---\n",
    "- 이미지, 영상 처리에 사용되는 신경망 모델\n",
    "- DNN의 한 분야\n",
    "- 텍스트 처리에도 사용되는 모델\n",
    "- 사용되는 Layer\n",
    "    * ConvXD : 이미지 형태 그대로 입력 받아 특징을 추출하는 레이어\n",
    "    * Polling : 특징맵에서 특징을 다시 추출하여 다운샘플링하는 레이어. 크기를 반으로 줄임."
   ]
  },
  {
   "cell_type": "code",
   "execution_count": 25,
   "id": "7c518a8f",
   "metadata": {},
   "outputs": [],
   "source": [
    "from tensorflow.keras.utils import set_random_seed, plot_model\n",
    "from tensorflow.keras import Sequential\n",
    "from tensorflow.keras.layers import Dense, Conv2D, Flatten, MaxPool2D\n",
    "from tensorflow.keras.datasets.fashion_mnist import load_data\n",
    "from sklearn.model_selection import train_test_split\n",
    "import matplotlib.pyplot as plt\n",
    "import numpy as np\n",
    "import pandas as pd"
   ]
  },
  {
   "cell_type": "code",
   "execution_count": 2,
   "id": "c902d3cb",
   "metadata": {},
   "outputs": [],
   "source": [
    "# W, b 고정하도록 seed 설정\n",
    "set_random_seed(11)"
   ]
  },
  {
   "cell_type": "markdown",
   "id": "55079c17",
   "metadata": {},
   "source": [
    "## [1] 데이터 준비 및 로딩\n",
    "---"
   ]
  },
  {
   "cell_type": "code",
   "execution_count": 10,
   "id": "2ad6287c",
   "metadata": {},
   "outputs": [],
   "source": [
    "(x_train, y_train), (x_test, y_test)=load_data()"
   ]
  },
  {
   "cell_type": "code",
   "execution_count": 11,
   "id": "e2e11d63",
   "metadata": {},
   "outputs": [
    {
     "name": "stdout",
     "output_type": "stream",
     "text": [
      "x_train.shape : (60000, 28, 28), y_train.shape : (60000,)\n",
      "x_test.shape : (10000, 28, 28), y_test.shape : (10000,)\n"
     ]
    }
   ],
   "source": [
    "print(f'x_train.shape : {x_train.shape}, y_train.shape : {y_train.shape}')\n",
    "print(f'x_test.shape : {x_test.shape}, y_test.shape : {y_test.shape}')"
   ]
  },
  {
   "cell_type": "markdown",
   "id": "18ebfbe1",
   "metadata": {},
   "source": [
    "## [2] 데이터 전처리 및 학습 형태로 변환"
   ]
  },
  {
   "cell_type": "code",
   "execution_count": 12,
   "id": "5de9790f",
   "metadata": {},
   "outputs": [],
   "source": [
    "# 스케일링 => 픽셀/255.0\n",
    "x_train=x_train/255.0"
   ]
  },
  {
   "cell_type": "code",
   "execution_count": 13,
   "id": "2158e22b",
   "metadata": {},
   "outputs": [
    {
     "name": "stdout",
     "output_type": "stream",
     "text": [
      "x_train.shape : (60000, 28, 28, 1)\n"
     ]
    }
   ],
   "source": [
    "# Conv 레이어는 이미지의 채널 정보까지 입력\n",
    "x_train=x_train.reshape(-1, 28, 28, 1)\n",
    "\n",
    "print(f'x_train.shape : {x_train.shape}')"
   ]
  },
  {
   "cell_type": "code",
   "execution_count": 14,
   "id": "8c8bb6ef",
   "metadata": {},
   "outputs": [
    {
     "name": "stdout",
     "output_type": "stream",
     "text": [
      "x_test.shape : (10000, 28, 28, 1)\n"
     ]
    }
   ],
   "source": [
    "x_test=x_test/255.0\n",
    "x_test=x_test.reshape(-1, 28, 28, 1)\n",
    "print(f'x_test.shape : {x_test.shape}')"
   ]
  },
  {
   "cell_type": "code",
   "execution_count": 16,
   "id": "b96e12df",
   "metadata": {},
   "outputs": [],
   "source": [
    "# 검증용 데이터 준비\n",
    "x_train, x_val, y_train, y_val=train_test_split(\n",
    "x_train, y_train, stratify=y_train, random_state=11)"
   ]
  },
  {
   "cell_type": "code",
   "execution_count": 18,
   "id": "2eb26d93",
   "metadata": {},
   "outputs": [
    {
     "name": "stdout",
     "output_type": "stream",
     "text": [
      "x_train.shape : (45000, 28, 28, 1)\n",
      "x_test.shape : (10000, 28, 28, 1)\n",
      "x_val.shape : (15000, 28, 28, 1)\n"
     ]
    }
   ],
   "source": [
    "print(f'x_train.shape : {x_train.shape}\\nx_test.shape : {x_test.shape}\\nx_val.shape : {x_val.shape}')"
   ]
  },
  {
   "cell_type": "markdown",
   "id": "9c5b70e4",
   "metadata": {},
   "source": [
    "## [3] 모델 구성 및 생성\n",
    "---\n",
    "- 입력 형태 : 채널 정보까지 포함 3차원 (28,28, 1)\n",
    "- 출력 형태 : 0 ~ 9 정수 확률값 10개 출력\n",
    "- 학습 방식 : 분류 - 다중분류\n",
    "- 전반부\n",
    "    * 이미지 특징 추출\n",
    "        - Conv2D, MaxPoll2D\n",
    "- 후반부\n",
    "    * 이미지 데이터 학습\n",
    "        - Flatten, Dense"
   ]
  },
  {
   "cell_type": "markdown",
   "id": "9f2629d3",
   "metadata": {},
   "source": [
    "### [3-1] 모델 구상"
   ]
  },
  {
   "cell_type": "code",
   "execution_count": 19,
   "id": "d9c4563e",
   "metadata": {},
   "outputs": [],
   "source": [
    "model=Sequential()"
   ]
  },
  {
   "cell_type": "code",
   "execution_count": 20,
   "id": "6b87ee3a",
   "metadata": {},
   "outputs": [],
   "source": [
    "# 이미지 특징 추출 Layer => 첫 번째 입력값 설정 필요\n",
    "model.add(Conv2D(1, kernel_size=3, padding='same',\n",
    "                input_shape=(28, 28, 1)))"
   ]
  },
  {
   "cell_type": "code",
   "execution_count": 21,
   "id": "ecbce210",
   "metadata": {},
   "outputs": [],
   "source": [
    "# 이미지 특징 다운샘플링 Layer => MaxPool2D\n",
    "model.add(MaxPool2D())"
   ]
  },
  {
   "cell_type": "code",
   "execution_count": 22,
   "id": "452c001a",
   "metadata": {},
   "outputs": [],
   "source": [
    "# 1차원으로 데이터 형태 변환 Layer => Flatten\n",
    "model.add(Flatten())"
   ]
  },
  {
   "cell_type": "code",
   "execution_count": 23,
   "id": "5e6a3439",
   "metadata": {},
   "outputs": [],
   "source": [
    "# 출력층 => Node : 10개(0~9), activation : softmax\n",
    "model.add(Dense(10, activation='softmax'))"
   ]
  },
  {
   "cell_type": "code",
   "execution_count": 24,
   "id": "c2b255de",
   "metadata": {},
   "outputs": [
    {
     "name": "stdout",
     "output_type": "stream",
     "text": [
      "Model: \"sequential\"\n",
      "_________________________________________________________________\n",
      " Layer (type)                Output Shape              Param #   \n",
      "=================================================================\n",
      " conv2d (Conv2D)             (None, 28, 28, 1)         10        \n",
      "                                                                 \n",
      " max_pooling2d (MaxPooling2D  (None, 14, 14, 1)        0         \n",
      " )                                                               \n",
      "                                                                 \n",
      " flatten (Flatten)           (None, 196)               0         \n",
      "                                                                 \n",
      " dense (Dense)               (None, 10)                1970      \n",
      "                                                                 \n",
      "=================================================================\n",
      "Total params: 1,980\n",
      "Trainable params: 1,980\n",
      "Non-trainable params: 0\n",
      "_________________________________________________________________\n"
     ]
    }
   ],
   "source": [
    "model.summary()"
   ]
  },
  {
   "cell_type": "code",
   "execution_count": 27,
   "id": "3b73bf20",
   "metadata": {},
   "outputs": [
    {
     "data": {
      "image/png": "[encoded data removed]",
      "text/plain": [
       "<IPython.core.display.Image object>"
      ]
     },
     "execution_count": 27,
     "metadata": {},
     "output_type": "execute_result"
    }
   ],
   "source": [
    "plot_model(model, show_shapes=True)\n",
    "# 파일로 저장하고 싶으면 파라미터에 to_file='파일이름.확장자' 넣으면 됨"
   ]
  },
  {
   "cell_type": "markdown",
   "id": "35c16f2d",
   "metadata": {},
   "source": [
    "### [3-2] 모델 생성\n",
    "---\n",
    "- compile 메서드\n",
    "    * loss 손실함수 => sparse_categorical_crossentropy\n",
    "    * optimizer 최적화 => adam\n",
    "    * metrics 평가항목 => accuracy"
   ]
  },
  {
   "cell_type": "code",
   "execution_count": 28,
   "id": "28bf1b89",
   "metadata": {},
   "outputs": [],
   "source": [
    "model.compile(loss='sparse_categorical_crossentropy',\n",
    "             optimizer='adam',\n",
    "             metrics='accuracy')"
   ]
  },
  {
   "cell_type": "markdown",
   "id": "51d78daf",
   "metadata": {},
   "source": [
    "### [3-3] 모델 학습\n",
    "---\n",
    "- fit 메서드\n",
    "    * 학습 데이터, 라벨\n",
    "    * epochs 학습 횟수\n",
    "    * batch_size 학습 분량\n",
    "    * validation_data (검증 데이터, 검증 라벨)\n",
    "    * validation_split 학습 데이터의 일부 비율 설정(ex : 0.2)\n",
    "    * callback\n",
    "    * verbose : 학습 진행도 화면 출력 여부 설정"
   ]
  },
  {
   "cell_type": "code",
   "execution_count": 31,
   "id": "6c2005db",
   "metadata": {},
   "outputs": [
    {
     "name": "stdout",
     "output_type": "stream",
     "text": [
      "Epoch 1/30\n",
      "1407/1407 [==============================] - 6s 4ms/step - loss: 0.4643 - accuracy: 0.8395\n",
      "Epoch 2/30\n",
      "1407/1407 [==============================] - 6s 5ms/step - loss: 0.4595 - accuracy: 0.8416\n",
      "Epoch 3/30\n",
      "1407/1407 [==============================] - 7s 5ms/step - loss: 0.4554 - accuracy: 0.8441\n",
      "Epoch 4/30\n",
      "1407/1407 [==============================] - 7s 5ms/step - loss: 0.4526 - accuracy: 0.8441\n",
      "Epoch 5/30\n",
      "1407/1407 [==============================] - 7s 5ms/step - loss: 0.4504 - accuracy: 0.8432\n",
      "Epoch 6/30\n",
      "1407/1407 [==============================] - 6s 5ms/step - loss: 0.4474 - accuracy: 0.8448\n",
      "Epoch 7/30\n",
      "1407/1407 [==============================] - 7s 5ms/step - loss: 0.4462 - accuracy: 0.8473\n",
      "Epoch 8/30\n",
      "1407/1407 [==============================] - 7s 5ms/step - loss: 0.4436 - accuracy: 0.8461\n",
      "Epoch 9/30\n",
      "1407/1407 [==============================] - 7s 5ms/step - loss: 0.4432 - accuracy: 0.8474\n",
      "Epoch 10/30\n",
      "1407/1407 [==============================] - 6s 5ms/step - loss: 0.4423 - accuracy: 0.8470\n",
      "Epoch 11/30\n",
      "1407/1407 [==============================] - 6s 5ms/step - loss: 0.4401 - accuracy: 0.8477\n",
      "Epoch 12/30\n",
      "1407/1407 [==============================] - 6s 5ms/step - loss: 0.4396 - accuracy: 0.8484\n",
      "Epoch 13/30\n",
      "1407/1407 [==============================] - 6s 4ms/step - loss: 0.4388 - accuracy: 0.8485\n",
      "Epoch 14/30\n",
      "1407/1407 [==============================] - 6s 5ms/step - loss: 0.4371 - accuracy: 0.8486\n",
      "Epoch 15/30\n",
      "1407/1407 [==============================] - 7s 5ms/step - loss: 0.4390 - accuracy: 0.8479\n",
      "Epoch 16/30\n",
      "1407/1407 [==============================] - 6s 4ms/step - loss: 0.4370 - accuracy: 0.8484\n",
      "Epoch 17/30\n",
      "1407/1407 [==============================] - 6s 4ms/step - loss: 0.4373 - accuracy: 0.8489\n",
      "Epoch 18/30\n",
      "1407/1407 [==============================] - 7s 5ms/step - loss: 0.4357 - accuracy: 0.8499\n",
      "Epoch 19/30\n",
      "1407/1407 [==============================] - 7s 5ms/step - loss: 0.4348 - accuracy: 0.8502\n",
      "Epoch 20/30\n",
      "1407/1407 [==============================] - 6s 4ms/step - loss: 0.4347 - accuracy: 0.8496\n",
      "Epoch 21/30\n",
      "1407/1407 [==============================] - 6s 4ms/step - loss: 0.4332 - accuracy: 0.8489\n",
      "Epoch 22/30\n",
      "1407/1407 [==============================] - 6s 4ms/step - loss: 0.4335 - accuracy: 0.8508\n",
      "Epoch 23/30\n",
      "1407/1407 [==============================] - 6s 4ms/step - loss: 0.4332 - accuracy: 0.8493\n",
      "Epoch 24/30\n",
      "1407/1407 [==============================] - 6s 4ms/step - loss: 0.4324 - accuracy: 0.8496\n",
      "Epoch 25/30\n",
      "1407/1407 [==============================] - 6s 4ms/step - loss: 0.4322 - accuracy: 0.8516\n",
      "Epoch 26/30\n",
      "1407/1407 [==============================] - 6s 4ms/step - loss: 0.4311 - accuracy: 0.8519\n",
      "Epoch 27/30\n",
      "1407/1407 [==============================] - 6s 4ms/step - loss: 0.4306 - accuracy: 0.8514\n",
      "Epoch 28/30\n",
      "1407/1407 [==============================] - 6s 4ms/step - loss: 0.4302 - accuracy: 0.8509\n",
      "Epoch 29/30\n",
      "1407/1407 [==============================] - 6s 4ms/step - loss: 0.4305 - accuracy: 0.8523\n",
      "Epoch 30/30\n",
      "1407/1407 [==============================] - 6s 4ms/step - loss: 0.4300 - accuracy: 0.8513\n"
     ]
    },
    {
     "data": {
      "text/plain": [
       "<keras.callbacks.History at 0x1a484e723a0>"
      ]
     },
     "execution_count": 31,
     "metadata": {},
     "output_type": "execute_result"
    }
   ],
   "source": [
    "model.fit(x_train, y_train, epochs=30)"
   ]
  },
  {
   "cell_type": "markdown",
   "id": "f5425293",
   "metadata": {},
   "source": [
    "### [4] 평가\n",
    "---\n",
    "- evaluate 메서드\n",
    "- 테스트 데이터, 테스트 라벨"
   ]
  },
  {
   "cell_type": "code",
   "execution_count": 32,
   "id": "b156642e",
   "metadata": {},
   "outputs": [
    {
     "name": "stdout",
     "output_type": "stream",
     "text": [
      "313/313 [==============================] - 1s 3ms/step - loss: 0.4705 - accuracy: 0.8401\n"
     ]
    },
    {
     "data": {
      "text/plain": [
       "[0.4704728126525879, 0.8400999903678894]"
      ]
     },
     "execution_count": 32,
     "metadata": {},
     "output_type": "execute_result"
    }
   ],
   "source": [
    "model.evaluate(x_test, y_test)"
   ]
  },
  {
   "cell_type": "markdown",
   "id": "a0eea464",
   "metadata": {},
   "source": [
    "### [5] 예측\n",
    "---\n",
    "- 새로운 데이터"
   ]
  },
  {
   "cell_type": "code",
   "execution_count": 33,
   "id": "acf2c7e8",
   "metadata": {},
   "outputs": [
    {
     "name": "stdout",
     "output_type": "stream",
     "text": [
      "1/1 [==============================] - 0s 89ms/step\n"
     ]
    }
   ],
   "source": [
    "pre_y=model.predict(x_test[0].reshape(-1, 28, 28, 1))"
   ]
  },
  {
   "cell_type": "code",
   "execution_count": 38,
   "id": "d489e50d",
   "metadata": {},
   "outputs": [
    {
     "data": {
      "text/plain": [
       "(array([[0., 0., 0., 0., 0., 0., 0., 0., 0., 1.]], dtype=float32), (1, 10))"
      ]
     },
     "execution_count": 38,
     "metadata": {},
     "output_type": "execute_result"
    }
   ],
   "source": [
    "pre_y.round(), pre_y.shape"
   ]
  },
  {
   "cell_type": "code",
   "execution_count": 39,
   "id": "0af40b24",
   "metadata": {},
   "outputs": [
    {
     "data": {
      "text/plain": [
       "9"
      ]
     },
     "execution_count": 39,
     "metadata": {},
     "output_type": "execute_result"
    }
   ],
   "source": [
    "y_test[0]"
   ]
  },
  {
   "cell_type": "code",
   "execution_count": 41,
   "id": "3266e169",
   "metadata": {},
   "outputs": [
    {
     "data": {
      "image/png": "[encoded data removed]",
      "text/plain": [
       "<Figure size 432x288 with 1 Axes>"
      ]
     },
     "metadata": {
      "needs_background": "light"
     },
     "output_type": "display_data"
    }
   ],
   "source": [
    "plt.imshow(x_val[0].reshape(28, 28), cmap='gray_r')\n",
    "plt.title(f'Label-{y_val[0]}')\n",
    "plt.show()"
   ]
  },
  {
   "cell_type": "code",
   "execution_count": null,
   "id": "cf8d724d",
   "metadata": {},
   "outputs": [],
   "source": []
  }
 ],
 "metadata": {
  "kernelspec": {
   "display_name": "Python 3 (ipykernel)",
   "language": "python",
   "name": "python3"
  },
  "language_info": {
   "codemirror_mode": {
    "name": "ipython",
    "version": 3
   },
   "file_extension": ".py",
   "mimetype": "text/x-python",
   "name": "python",
   "nbconvert_exporter": "python",
   "pygments_lexer": "ipython3",
   "version": "3.9.12"
  }
 },
 "nbformat": 4,
 "nbformat_minor": 5
}
