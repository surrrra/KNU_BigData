{
 "cells": [
  {
   "cell_type": "markdown",
   "id": "0efd221a",
   "metadata": {},
   "source": [
    "## 모델 속성 및 W, b 초기값 고정\n",
    "---\n",
    "- 모델 속성 확인\n",
    "- 모델 생성시 랜덤으로 초기화 되는 W, b 값 고정"
   ]
  },
  {
   "cell_type": "code",
   "execution_count": 34,
   "id": "9bdd0a85",
   "metadata": {},
   "outputs": [],
   "source": [
    "# 모듈 로딩\n",
    "from tensorflow.keras import models, layers\n",
    "from tensorflow import random  # random seed 설정용\n",
    "import numpy as np"
   ]
  },
  {
   "cell_type": "code",
   "execution_count": 35,
   "id": "e0a550eb",
   "metadata": {},
   "outputs": [],
   "source": [
    "# 임시 테스트 데이터\n",
    "# 특성 Feature 시간, 과외 횟수 2개, 출력 1개 점수\n",
    "X=np.array([[2,0],[3,0],[4,3],[5,1],[6,1],[7, 0],[8, 2]])\n",
    "y=np.array([52,56,71,77,82,94,100])"
   ]
  },
  {
   "cell_type": "code",
   "execution_count": 36,
   "id": "96d9f49a",
   "metadata": {},
   "outputs": [
    {
     "data": {
      "text/plain": [
       "((7, 2), (7,))"
      ]
     },
     "execution_count": 36,
     "metadata": {},
     "output_type": "execute_result"
    }
   ],
   "source": [
    "X.shape, y.shape"
   ]
  },
  {
   "cell_type": "code",
   "execution_count": 37,
   "id": "eecf69b0",
   "metadata": {},
   "outputs": [],
   "source": [
    "## W, b 초기값 고정\n",
    "random.set_seed(11)"
   ]
  },
  {
   "cell_type": "markdown",
   "id": "fe5009d1",
   "metadata": {},
   "source": [
    "### 모델 구상"
   ]
  },
  {
   "cell_type": "code",
   "execution_count": 38,
   "id": "9298cac6",
   "metadata": {},
   "outputs": [],
   "source": [
    "model=models.Sequential()"
   ]
  },
  {
   "cell_type": "code",
   "execution_count": 39,
   "id": "c20f7b7e",
   "metadata": {},
   "outputs": [],
   "source": [
    "model.add(layers.Dense(15, activation='relu', input_shape=(2, )))"
   ]
  },
  {
   "cell_type": "code",
   "execution_count": 40,
   "id": "1804a140",
   "metadata": {},
   "outputs": [],
   "source": [
    "model.add(layers.Dense(1, activation='linear'))"
   ]
  },
  {
   "cell_type": "code",
   "execution_count": 41,
   "id": "b7369a53",
   "metadata": {},
   "outputs": [
    {
     "name": "stdout",
     "output_type": "stream",
     "text": [
      "Model: \"sequential_2\"\n",
      "_________________________________________________________________\n",
      " Layer (type)                Output Shape              Param #   \n",
      "=================================================================\n",
      " dense_4 (Dense)             (None, 15)                45        \n",
      "                                                                 \n",
      " dense_5 (Dense)             (None, 1)                 16        \n",
      "                                                                 \n",
      "=================================================================\n",
      "Total params: 61\n",
      "Trainable params: 61\n",
      "Non-trainable params: 0\n",
      "_________________________________________________________________\n"
     ]
    }
   ],
   "source": [
    "model.summary()"
   ]
  },
  {
   "cell_type": "markdown",
   "id": "aac3e70a",
   "metadata": {},
   "source": [
    "### 모델 속성 확인"
   ]
  },
  {
   "cell_type": "code",
   "execution_count": 42,
   "id": "6d6cfcb9",
   "metadata": {},
   "outputs": [
    {
     "data": {
      "text/plain": [
       "[<keras.layers.core.dense.Dense at 0x26cf10e5790>,\n",
       " <keras.layers.core.dense.Dense at 0x26cf10fa220>]"
      ]
     },
     "execution_count": 42,
     "metadata": {},
     "output_type": "execute_result"
    }
   ],
   "source": [
    "model.layers"
   ]
  },
  {
   "cell_type": "code",
   "execution_count": 43,
   "id": "4bef445c",
   "metadata": {},
   "outputs": [],
   "source": [
    "l1=model.layers[0]"
   ]
  },
  {
   "cell_type": "code",
   "execution_count": 44,
   "id": "b876d0f7",
   "metadata": {},
   "outputs": [
    {
     "data": {
      "text/plain": [
       "<tf.Variable 'dense_4/kernel:0' shape=(2, 15) dtype=float32, numpy=\n",
       "array([[-0.29631114,  0.37537187, -0.24640921,  0.5142406 ,  0.31416845,\n",
       "        -0.41857034, -0.19999248, -0.58546865, -0.3554358 ,  0.58291185,\n",
       "        -0.12107381,  0.3238395 , -0.06760222, -0.02177614,  0.05121469],\n",
       "       [ 0.3202483 ,  0.16437584, -0.42809546, -0.22091794,  0.47248828,\n",
       "        -0.02519327, -0.32629982,  0.12834728,  0.30775893,  0.09019065,\n",
       "         0.07265884, -0.48352158, -0.19885129, -0.11066794, -0.15434334]],\n",
       "      dtype=float32)>"
      ]
     },
     "execution_count": 44,
     "metadata": {},
     "output_type": "execute_result"
    }
   ],
   "source": [
    "l1.weights[0]  # 얘는 실행할 때마다 바뀜"
   ]
  }
 ],
 "metadata": {
  "kernelspec": {
   "display_name": "Python 3 (ipykernel)",
   "language": "python",
   "name": "python3"
  },
  "language_info": {
   "codemirror_mode": {
    "name": "ipython",
    "version": 3
   },
   "file_extension": ".py",
   "mimetype": "text/x-python",
   "name": "python",
   "nbconvert_exporter": "python",
   "pygments_lexer": "ipython3",
   "version": "3.9.12"
  }
 },
 "nbformat": 4,
 "nbformat_minor": 5
}
