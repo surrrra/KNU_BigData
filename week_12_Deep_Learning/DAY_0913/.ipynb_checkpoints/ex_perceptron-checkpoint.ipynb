{
 "cells": [
  {
   "cell_type": "markdown",
   "id": "de0f4be7",
   "metadata": {},
   "source": [
    "## 퍼셉트론(Perceptron)\n",
    "---\n",
    "- 뉴런을 컴퓨터 프로그램화한 클래스\n",
    "- 단순한 구조의 분류(Classification) 모델\n",
    "- AND, OR 문제 분류 성공\n",
    "- XOR 문제 분류 실패"
   ]
  },
  {
   "cell_type": "code",
   "execution_count": 1,
   "id": "02e2a84c",
   "metadata": {},
   "outputs": [],
   "source": [
    "from sklearn.linear_model import Perceptron\n",
    "import numpy as np"
   ]
  },
  {
   "cell_type": "markdown",
   "id": "3e2cd17a",
   "metadata": {},
   "source": [
    "### [1] AND 분류\n",
    "---\n",
    "x1 x2 y  \n",
    "0   0   0  \n",
    "1   0   0  \n",
    "0   1   0  \n",
    "1   1   1"
   ]
  },
  {
   "cell_type": "code",
   "execution_count": 2,
   "id": "72f2a62b",
   "metadata": {},
   "outputs": [],
   "source": [
    "X1=[[0., 0.], [1., 0.],[0., 1.], [1., 1.]]\n",
    "y1=[0, 0, 0, 1]"
   ]
  },
  {
   "cell_type": "code",
   "execution_count": 3,
   "id": "3d4f2ea5",
   "metadata": {},
   "outputs": [],
   "source": [
    "# 모델 객체 생성\n",
    "andModel=Perceptron()"
   ]
  },
  {
   "cell_type": "code",
   "execution_count": 4,
   "id": "ec959616",
   "metadata": {},
   "outputs": [
    {
     "data": {
      "text/plain": [
       "Perceptron()"
      ]
     },
     "execution_count": 4,
     "metadata": {},
     "output_type": "execute_result"
    }
   ],
   "source": [
    "andModel.fit(X1, y1)"
   ]
  },
  {
   "cell_type": "code",
   "execution_count": 5,
   "id": "fd82daed",
   "metadata": {},
   "outputs": [],
   "source": [
    "# 모델 객체 속성 출력 함수\n",
    "def showAttr(model):\n",
    "    print(f'classes_ : {model.classes_}')\n",
    "    print(f'coef_ : {model.coef_}')\n",
    "    print(f'intercept_ : {model.intercept_}')\n",
    "    print(f'n_iter_ : {model.n_iter_}')"
   ]
  },
  {
   "cell_type": "code",
   "execution_count": 6,
   "id": "20dc49f6",
   "metadata": {},
   "outputs": [
    {
     "name": "stdout",
     "output_type": "stream",
     "text": [
      "classes_ : [0 1]\n",
      "coef_ : [[2. 2.]]\n",
      "intercept_ : [-2.]\n",
      "n_iter_ : 10\n"
     ]
    }
   ],
   "source": [
    "showAttr(andModel)"
   ]
  },
  {
   "cell_type": "code",
   "execution_count": 9,
   "id": "4610285c",
   "metadata": {},
   "outputs": [],
   "source": [
    "# 예측\n",
    "pre_and=andModel.predict(X1)"
   ]
  },
  {
   "cell_type": "code",
   "execution_count": 10,
   "id": "f9c35e32",
   "metadata": {},
   "outputs": [
    {
     "name": "stdout",
     "output_type": "stream",
     "text": [
      "정답 : [0, 0, 0, 1]\n",
      "예측 : [0 0 0 1]\n"
     ]
    }
   ],
   "source": [
    "print(f'정답 : {y1}')\n",
    "print(f'예측 : {pre_and}')"
   ]
  },
  {
   "cell_type": "code",
   "execution_count": 11,
   "id": "21e920c2",
   "metadata": {},
   "outputs": [],
   "source": [
    "from sklearn.metrics import accuracy_score"
   ]
  },
  {
   "cell_type": "code",
   "execution_count": 13,
   "id": "5da392ef",
   "metadata": {},
   "outputs": [
    {
     "name": "stdout",
     "output_type": "stream",
     "text": [
      "accuracy_score : 1.0\n"
     ]
    }
   ],
   "source": [
    "print(f'accuracy_score : {accuracy_score(y1, pre_and)}')"
   ]
  },
  {
   "cell_type": "markdown",
   "id": "d1c2e750",
   "metadata": {},
   "source": [
    "### [2] OR 분류\n",
    "---\n",
    "x1 x2 y  \n",
    "0 0 0  \n",
    "1 0 1  \n",
    "0 1 1  \n",
    "1 1 1"
   ]
  },
  {
   "cell_type": "code",
   "execution_count": 18,
   "id": "22a78704",
   "metadata": {},
   "outputs": [],
   "source": [
    "X1=[[0., 0.], [1., 0.], [0., 1.], [1., 1.]]\n",
    "y1=[0, 1, 1, 1]"
   ]
  },
  {
   "cell_type": "code",
   "execution_count": 19,
   "id": "9ce9e384",
   "metadata": {},
   "outputs": [],
   "source": [
    "orModel=Perceptron()"
   ]
  },
  {
   "cell_type": "code",
   "execution_count": 20,
   "id": "096254b9",
   "metadata": {},
   "outputs": [
    {
     "data": {
      "text/plain": [
       "Perceptron()"
      ]
     },
     "execution_count": 20,
     "metadata": {},
     "output_type": "execute_result"
    }
   ],
   "source": [
    "orModel.fit(X1, y1)"
   ]
  },
  {
   "cell_type": "code",
   "execution_count": 21,
   "id": "27bfccab",
   "metadata": {},
   "outputs": [
    {
     "name": "stdout",
     "output_type": "stream",
     "text": [
      "classes_ : [0 1]\n",
      "coef_ : [[2. 2.]]\n",
      "intercept_ : [-1.]\n",
      "n_iter_ : 7\n"
     ]
    }
   ],
   "source": [
    "showAttr(orModel)"
   ]
  },
  {
   "cell_type": "code",
   "execution_count": 26,
   "id": "6e127af6",
   "metadata": {},
   "outputs": [],
   "source": [
    "pred_or=orModel.predict(X1)"
   ]
  },
  {
   "cell_type": "code",
   "execution_count": 28,
   "id": "d3bbafe7",
   "metadata": {},
   "outputs": [
    {
     "name": "stdout",
     "output_type": "stream",
     "text": [
      "정답 : [0, 1, 1, 0]\n",
      "예측 : [0 1 1 1]\n"
     ]
    }
   ],
   "source": [
    "print(f'정답 : {y1}')\n",
    "print(f'예측 : {pred_or}')"
   ]
  },
  {
   "cell_type": "code",
   "execution_count": 29,
   "id": "a94c1d54",
   "metadata": {},
   "outputs": [
    {
     "name": "stdout",
     "output_type": "stream",
     "text": [
      "accuracy_score : 0.75\n"
     ]
    }
   ],
   "source": [
    "print(f'accuracy_score : {accuracy_score(y1, pred_or)}')"
   ]
  },
  {
   "cell_type": "markdown",
   "id": "a61f0159",
   "metadata": {},
   "source": [
    "### [3] XOR 연산 분류(2개 값이 달라야 함)\n",
    "---\n",
    "x1 x2 y  \n",
    "0 0 0  \n",
    "1 0 1  \n",
    "0 1 1  \n",
    "1 1 0"
   ]
  },
  {
   "cell_type": "code",
   "execution_count": 22,
   "id": "7428a6fd",
   "metadata": {},
   "outputs": [],
   "source": [
    "X1=[[0., 0.], [1., 0.], [0., 1.], [1., 1.]]\n",
    "y1=[0, 1, 1, 0]"
   ]
  },
  {
   "cell_type": "code",
   "execution_count": 23,
   "id": "40f45a2c",
   "metadata": {},
   "outputs": [],
   "source": [
    "xorModel=Perceptron()"
   ]
  },
  {
   "cell_type": "code",
   "execution_count": 24,
   "id": "140d6a4c",
   "metadata": {},
   "outputs": [
    {
     "data": {
      "text/plain": [
       "Perceptron()"
      ]
     },
     "execution_count": 24,
     "metadata": {},
     "output_type": "execute_result"
    }
   ],
   "source": [
    "xorModel.fit(X1, y1)"
   ]
  },
  {
   "cell_type": "code",
   "execution_count": 25,
   "id": "a2556a4e",
   "metadata": {},
   "outputs": [
    {
     "name": "stdout",
     "output_type": "stream",
     "text": [
      "classes_ : [0 1]\n",
      "coef_ : [[0. 0.]]\n",
      "intercept_ : [0.]\n",
      "n_iter_ : 6\n"
     ]
    }
   ],
   "source": [
    "showAttr(xorModel)"
   ]
  },
  {
   "cell_type": "code",
   "execution_count": 30,
   "id": "4e7d41b7",
   "metadata": {},
   "outputs": [],
   "source": [
    "pred_xor=xorModel.predict(X1)"
   ]
  },
  {
   "cell_type": "code",
   "execution_count": 31,
   "id": "df1c4e65",
   "metadata": {},
   "outputs": [
    {
     "name": "stdout",
     "output_type": "stream",
     "text": [
      "정답 : [0, 1, 1, 0]\n",
      "예측 : [0 0 0 0]\n"
     ]
    }
   ],
   "source": [
    "print(f'정답 : {y1}')\n",
    "print(f'예측 : {pred_xor}')"
   ]
  },
  {
   "cell_type": "code",
   "execution_count": 32,
   "id": "9d3cceae",
   "metadata": {},
   "outputs": [
    {
     "name": "stdout",
     "output_type": "stream",
     "text": [
      "accuracy_score : 0.5\n"
     ]
    }
   ],
   "source": [
    "print(f'accuracy_score : {accuracy_score(y1, pred_xor)}')"
   ]
  }
 ],
 "metadata": {
  "kernelspec": {
   "display_name": "Python 3 (ipykernel)",
   "language": "python",
   "name": "python3"
  },
  "language_info": {
   "codemirror_mode": {
    "name": "ipython",
    "version": 3
   },
   "file_extension": ".py",
   "mimetype": "text/x-python",
   "name": "python",
   "nbconvert_exporter": "python",
   "pygments_lexer": "ipython3",
   "version": "3.9.12"
  }
 },
 "nbformat": 4,
 "nbformat_minor": 5
}
