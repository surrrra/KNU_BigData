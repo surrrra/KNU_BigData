{
 "cells": [
  {
   "cell_type": "markdown",
   "id": "44c4fc29",
   "metadata": {},
   "source": [
    "## Keras Library\n",
    "---\n",
    "- Tensorflow 기반의 Keras 패키지\n",
    "- 기본 데이터 Tensor 타입\n",
    "- <b>모델을 직접 설계/생성해야함</b>"
   ]
  },
  {
   "cell_type": "code",
   "execution_count": 1,
   "id": "0a840f80",
   "metadata": {},
   "outputs": [],
   "source": [
    "import tensorflow as tf"
   ]
  },
  {
   "cell_type": "code",
   "execution_count": 49,
   "id": "c4c70446",
   "metadata": {},
   "outputs": [],
   "source": [
    "from tensorflow.keras import Sequential   # 모델 담는 애\n",
    "from tensorflow.keras.layers import Dense\n",
    "from sklearn.datasets import load_iris\n",
    "from sklearn.model_selection import train_test_split\n",
    "import numpy as np"
   ]
  },
  {
   "cell_type": "markdown",
   "id": "768b84f0",
   "metadata": {},
   "source": [
    "### [1] 모델 구성"
   ]
  },
  {
   "cell_type": "code",
   "execution_count": 38,
   "id": "c7cfe278",
   "metadata": {},
   "outputs": [],
   "source": [
    "model=Sequential(name='irisModel')"
   ]
  },
  {
   "cell_type": "code",
   "execution_count": 39,
   "id": "677225e9",
   "metadata": {},
   "outputs": [],
   "source": [
    "# units : 퍼셉트론 개수\n",
    "# 층 1개 만들었음\n",
    "# 첫 번째 층은 반드시 입력정보 파라미터 설정 => input_shape=(,) input_dim=숫자\n",
    "# 각 노드(퍼셉트론, 유닛) : 4개 입력 / 출력 : 1개\n",
    "# 총 10개가 다음 층(Layer)의 입력으로 들어감\n",
    "l1=Dense(10, activation='relu', input_shape=(4, ))"
   ]
  },
  {
   "cell_type": "code",
   "execution_count": 40,
   "id": "f7435dbd",
   "metadata": {},
   "outputs": [],
   "source": [
    "model.add(l1)"
   ]
  },
  {
   "cell_type": "code",
   "execution_count": 41,
   "id": "6a4fd3cf",
   "metadata": {},
   "outputs": [
    {
     "name": "stdout",
     "output_type": "stream",
     "text": [
      "Model: \"irisModel\"\n",
      "_________________________________________________________________\n",
      " Layer (type)                Output Shape              Param #   \n",
      "=================================================================\n",
      " dense_9 (Dense)             (None, 10)                50        \n",
      "                                                                 \n",
      "=================================================================\n",
      "Total params: 50\n",
      "Trainable params: 50\n",
      "Non-trainable params: 0\n",
      "_________________________________________________________________\n"
     ]
    }
   ],
   "source": [
    "## 모델 구성 확인 => summary()\n",
    "model.summary()"
   ]
  },
  {
   "cell_type": "code",
   "execution_count": 42,
   "id": "208022bd",
   "metadata": {},
   "outputs": [],
   "source": [
    "# 각 노드(퍼셉트론, 유닛) : 여기서는 10개를 입력 받음 / 출력 : 50개\n",
    "l2=Dense(50, activation='relu')"
   ]
  },
  {
   "cell_type": "code",
   "execution_count": 43,
   "id": "9104876f",
   "metadata": {},
   "outputs": [],
   "source": [
    "model.add(l2)"
   ]
  },
  {
   "cell_type": "code",
   "execution_count": 44,
   "id": "524290f8",
   "metadata": {},
   "outputs": [
    {
     "name": "stdout",
     "output_type": "stream",
     "text": [
      "Model: \"irisModel\"\n",
      "_________________________________________________________________\n",
      " Layer (type)                Output Shape              Param #   \n",
      "=================================================================\n",
      " dense_9 (Dense)             (None, 10)                50        \n",
      "                                                                 \n",
      " dense_10 (Dense)            (None, 50)                550       \n",
      "                                                                 \n",
      "=================================================================\n",
      "Total params: 600\n",
      "Trainable params: 600\n",
      "Non-trainable params: 0\n",
      "_________________________________________________________________\n"
     ]
    }
   ],
   "source": [
    "model.summary()"
   ]
  },
  {
   "cell_type": "code",
   "execution_count": 45,
   "id": "08319e10",
   "metadata": {},
   "outputs": [],
   "source": [
    "l3=Dense(50, activation='softmax')"
   ]
  },
  {
   "cell_type": "code",
   "execution_count": 46,
   "id": "b3220380",
   "metadata": {},
   "outputs": [],
   "source": [
    "model.add(l3)"
   ]
  },
  {
   "cell_type": "code",
   "execution_count": 47,
   "id": "2ae015f3",
   "metadata": {},
   "outputs": [
    {
     "name": "stdout",
     "output_type": "stream",
     "text": [
      "Model: \"irisModel\"\n",
      "_________________________________________________________________\n",
      " Layer (type)                Output Shape              Param #   \n",
      "=================================================================\n",
      " dense_9 (Dense)             (None, 10)                50        \n",
      "                                                                 \n",
      " dense_10 (Dense)            (None, 50)                550       \n",
      "                                                                 \n",
      " dense_11 (Dense)            (None, 50)                2550      \n",
      "                                                                 \n",
      "=================================================================\n",
      "Total params: 3,150\n",
      "Trainable params: 3,150\n",
      "Non-trainable params: 0\n",
      "_________________________________________________________________\n"
     ]
    }
   ],
   "source": [
    "model.summary()"
   ]
  },
  {
   "cell_type": "code",
   "execution_count": null,
   "id": "05bc7214",
   "metadata": {},
   "outputs": [],
   "source": []
  },
  {
   "cell_type": "code",
   "execution_count": null,
   "id": "49e967e1",
   "metadata": {},
   "outputs": [],
   "source": []
  },
  {
   "cell_type": "code",
   "execution_count": null,
   "id": "c1123278",
   "metadata": {},
   "outputs": [],
   "source": []
  },
  {
   "cell_type": "markdown",
   "id": "235bb814",
   "metadata": {},
   "source": [
    "### [2] 모델 생성\n",
    "---\n",
    "- 손실함수,최적화 기법, 성능 평가 항목 설정\n",
    "- compile() 메서드\n",
    "    * optimizer : string 타입의 최적화 기법명 입력 또는 객체 <- 기본값 사용하지 않는 경우\n",
    "    * loss : 손실함수로 string 타입의 이름 입력\n",
    "        - 분류 : categorical_crowwentropy, sparse_categorical_crowwentropy, binary_crossentropy\n",
    "        - 회귀 : mean_squared_error, mean_absolute_error\n",
    "    * metrics : 모델 평가 항목\n",
    "        - accuracy, mse, mae..."
   ]
  },
  {
   "cell_type": "code",
   "execution_count": 48,
   "id": "5cd883f2",
   "metadata": {},
   "outputs": [],
   "source": [
    "# loss에 categorical 뭐시기 쓰는 이유 : 다중분류\n",
    "model.compile(optimizer='adam', loss='categorical_crossentry', \n",
    "             metrics=['accuracy'])"
   ]
  },
  {
   "cell_type": "markdown",
   "id": "27293fef",
   "metadata": {},
   "source": [
    "### [3] 학습\n",
    "---\n",
    "- fit() 메서드\n",
    "    * 훈련용 데이터\n",
    "    * 훈련용 타겟\n",
    "    * epochs : 학습 횟수(처음부터 끝까지)\n",
    "    * batch_size : 한 번 학습량 (기본값 : 32)\n",
    "    * validation_split / validation_data=(,) : 검증 데이터 설정\n",
    "    * callbacks : 이벤트 처리 함수 목록(ex : 학습 중단 이벤트, 모델 검증 및 저장 이벤트, ...)\n",
    "    * verbose : 학습 과정 출력 여부 설정(기본값 : TRUE)\n",
    "    "
   ]
  },
  {
   "cell_type": "code",
   "execution_count": null,
   "id": "81c1b138",
   "metadata": {},
   "outputs": [],
   "source": []
  },
  {
   "cell_type": "markdown",
   "id": "a5ecdd3e",
   "metadata": {},
   "source": [
    "---\n",
    "## iris"
   ]
  },
  {
   "cell_type": "code",
   "execution_count": 115,
   "id": "14ae3396",
   "metadata": {},
   "outputs": [
    {
     "name": "stdout",
     "output_type": "stream",
     "text": [
      "(150, 4) (150,)\n"
     ]
    }
   ],
   "source": [
    "## 데이터 로딩\n",
    "iris=load_iris()\n",
    "\n",
    "data=iris['data']\n",
    "target=iris['target']\n",
    "\n",
    "print(data.shape, target.shape)"
   ]
  },
  {
   "cell_type": "code",
   "execution_count": 116,
   "id": "17e3dcd0",
   "metadata": {},
   "outputs": [],
   "source": [
    "x_train, x_test, y_train, y_test=train_test_split(\n",
    "data, target, stratify=target, test_size=0.2, random_state=42)"
   ]
  },
  {
   "cell_type": "markdown",
   "id": "f1ab3b70",
   "metadata": {},
   "source": [
    "## 모델"
   ]
  },
  {
   "cell_type": "code",
   "execution_count": 86,
   "id": "6d194829",
   "metadata": {},
   "outputs": [],
   "source": [
    "model=Sequential(name='irisModel')"
   ]
  },
  {
   "cell_type": "code",
   "execution_count": 87,
   "id": "d4a277f7",
   "metadata": {},
   "outputs": [],
   "source": [
    "# 각 노드(퍼셉트론, 유닛) : 4개 입력 / 출력 : 1개\n",
    "l1=Dense(10, activation='relu', input_shape=(4, ))"
   ]
  },
  {
   "cell_type": "code",
   "execution_count": 88,
   "id": "4f6f5ecc",
   "metadata": {},
   "outputs": [],
   "source": [
    "model.add(l1)"
   ]
  },
  {
   "cell_type": "code",
   "execution_count": 89,
   "id": "5f16ac92",
   "metadata": {},
   "outputs": [],
   "source": [
    "l2=Dense(3, activation='softmax')"
   ]
  },
  {
   "cell_type": "code",
   "execution_count": 103,
   "id": "b771fd15",
   "metadata": {},
   "outputs": [],
   "source": [
    "model.add(l2)"
   ]
  },
  {
   "cell_type": "code",
   "execution_count": 102,
   "id": "429698d5",
   "metadata": {},
   "outputs": [
    {
     "name": "stdout",
     "output_type": "stream",
     "text": [
      "Model: \"irisModel\"\n",
      "_________________________________________________________________\n",
      " Layer (type)                Output Shape              Param #   \n",
      "=================================================================\n",
      " dense_16 (Dense)            (None, 10)                50        \n",
      "                                                                 \n",
      "=================================================================\n",
      "Total params: 50\n",
      "Trainable params: 50\n",
      "Non-trainable params: 0\n",
      "_________________________________________________________________\n"
     ]
    }
   ],
   "source": [
    "model.summary()"
   ]
  },
  {
   "cell_type": "code",
   "execution_count": 67,
   "id": "7fd4b2fb",
   "metadata": {},
   "outputs": [],
   "source": [
    "from sklearn.preprocessing import LabelEncoder, OneHotEncoder"
   ]
  },
  {
   "cell_type": "code",
   "execution_count": 90,
   "id": "13be8228",
   "metadata": {},
   "outputs": [],
   "source": [
    "label=LabelEncoder()\n",
    "target_1=label.fit(target).transform(target)"
   ]
  },
  {
   "cell_type": "code",
   "execution_count": 105,
   "id": "e2e14424",
   "metadata": {},
   "outputs": [],
   "source": [
    "ohe=OneHotEncoder()\n",
    "target_2=ohe.fit(target.reshape(-1, 1)).transform(target.reshape(-1, 1))"
   ]
  },
  {
   "cell_type": "code",
   "execution_count": 106,
   "id": "52c323cd",
   "metadata": {},
   "outputs": [
    {
     "data": {
      "text/plain": [
       "scipy.sparse.csr.csr_matrix"
      ]
     },
     "execution_count": 106,
     "metadata": {},
     "output_type": "execute_result"
    }
   ],
   "source": [
    "type(target_2)"
   ]
  },
  {
   "cell_type": "code",
   "execution_count": 107,
   "id": "07014c82",
   "metadata": {},
   "outputs": [
    {
     "data": {
      "text/plain": [
       "numpy.ndarray"
      ]
     },
     "execution_count": 107,
     "metadata": {},
     "output_type": "execute_result"
    }
   ],
   "source": [
    "target_3=target_2.toarray()\n",
    "type(target_3)"
   ]
  },
  {
   "cell_type": "code",
   "execution_count": 108,
   "id": "4dedd12b",
   "metadata": {},
   "outputs": [
    {
     "data": {
      "text/plain": [
       "(array([1., 0., 0.]), array([0., 1., 0.]), array([0., 0., 1.]))"
      ]
     },
     "execution_count": 108,
     "metadata": {},
     "output_type": "execute_result"
    }
   ],
   "source": [
    "target_3[0], target_3[50], target_3[100]"
   ]
  },
  {
   "cell_type": "code",
   "execution_count": 109,
   "id": "be01d2ab",
   "metadata": {},
   "outputs": [
    {
     "data": {
      "text/plain": [
       "(150, 3)"
      ]
     },
     "execution_count": 109,
     "metadata": {},
     "output_type": "execute_result"
    }
   ],
   "source": [
    "target_3.shape"
   ]
  },
  {
   "cell_type": "code",
   "execution_count": 110,
   "id": "788e4245",
   "metadata": {},
   "outputs": [],
   "source": [
    "model.compile(optimizer='adam', loss='categorical_crossentropy',\n",
    "             metrics=['accuracy'])"
   ]
  },
  {
   "cell_type": "code",
   "execution_count": 111,
   "id": "c5f9bad9",
   "metadata": {},
   "outputs": [
    {
     "name": "stdout",
     "output_type": "stream",
     "text": [
      "Epoch 1/5\n",
      "5/5 [==============================] - 0s 3ms/step - loss: 2.8358 - accuracy: 0.3333\n",
      "Epoch 2/5\n",
      "5/5 [==============================] - 0s 2ms/step - loss: 2.5499 - accuracy: 0.3333\n",
      "Epoch 3/5\n",
      "5/5 [==============================] - 0s 1ms/step - loss: 2.2882 - accuracy: 0.3333\n",
      "Epoch 4/5\n",
      "5/5 [==============================] - 0s 1ms/step - loss: 2.0433 - accuracy: 0.3333\n",
      "Epoch 5/5\n",
      "5/5 [==============================] - 0s 1ms/step - loss: 1.8284 - accuracy: 0.3333\n"
     ]
    },
    {
     "data": {
      "text/plain": [
       "<keras.callbacks.History at 0x21a502e51c0>"
      ]
     },
     "execution_count": 111,
     "metadata": {},
     "output_type": "execute_result"
    }
   ],
   "source": [
    "model.fit(data, target_3, epochs=5)"
   ]
  },
  {
   "cell_type": "markdown",
   "id": "90b2b4b3",
   "metadata": {},
   "source": [
    "### [4] 평가\n",
    "---\n",
    "- evaluate() 메서드\n",
    "- 테스트용 데이터로 진행"
   ]
  },
  {
   "cell_type": "code",
   "execution_count": 114,
   "id": "202e7969",
   "metadata": {},
   "outputs": [
    {
     "name": "stdout",
     "output_type": "stream",
     "text": [
      "5/5 [==============================] - 0s 1ms/step - loss: 1.7022 - accuracy: 0.3333\n"
     ]
    },
    {
     "data": {
      "text/plain": [
       "[1.7022285461425781, 0.3333333432674408]"
      ]
     },
     "execution_count": 114,
     "metadata": {},
     "output_type": "execute_result"
    }
   ],
   "source": [
    "# 평가\n",
    "model.evaluate(data, target_3)"
   ]
  },
  {
   "cell_type": "markdown",
   "id": "2c38495a",
   "metadata": {},
   "source": [
    "### [5] 예측\n",
    "---\n",
    "- predict()"
   ]
  },
  {
   "cell_type": "code",
   "execution_count": 113,
   "id": "c9eea6be",
   "metadata": {},
   "outputs": [
    {
     "name": "stdout",
     "output_type": "stream",
     "text": [
      "1/1 [==============================] - 0s 87ms/step\n"
     ]
    },
    {
     "data": {
      "text/plain": [
       "array([[0.88204175, 0.00774678, 0.11021143]], dtype=float32)"
      ]
     },
     "execution_count": 113,
     "metadata": {},
     "output_type": "execute_result"
    }
   ],
   "source": [
    "# 예측\n",
    "model.predict([[5.1, 3.5,1.4, 0.2]])"
   ]
  },
  {
   "cell_type": "code",
   "execution_count": null,
   "id": "d0cc7670",
   "metadata": {},
   "outputs": [],
   "source": [
    "model.predict"
   ]
  }
 ],
 "metadata": {
  "kernelspec": {
   "display_name": "Python 3 (ipykernel)",
   "language": "python",
   "name": "python3"
  },
  "language_info": {
   "codemirror_mode": {
    "name": "ipython",
    "version": 3
   },
   "file_extension": ".py",
   "mimetype": "text/x-python",
   "name": "python",
   "nbconvert_exporter": "python",
   "pygments_lexer": "ipython3",
   "version": "3.9.12"
  }
 },
 "nbformat": 4,
 "nbformat_minor": 5
}
