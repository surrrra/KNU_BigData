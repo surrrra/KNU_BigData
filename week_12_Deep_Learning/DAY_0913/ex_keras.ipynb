{
 "cells": [
  {
   "cell_type": "markdown",
   "id": "36ca2de3",
   "metadata": {},
   "source": [
    "## Keras Library\n",
    "---\n",
    "- Tensorflow 기반의 Keras 패키지\n",
    "- 기본 데이터 Tensor 타입\n",
    "- <b>모델을 직접 설계/생성해야함</b>"
   ]
  },
  {
   "cell_type": "code",
   "execution_count": 1,
   "id": "0e87fe08",
   "metadata": {},
   "outputs": [],
   "source": [
    "import tensorflow as tf"
   ]
  },
  {
   "cell_type": "code",
   "execution_count": 49,
   "id": "37da7775",
   "metadata": {},
   "outputs": [],
   "source": [
    "from tensorflow.keras import Sequential   # 모델 담는 애\n",
    "from tensorflow.keras.layers import Dense\n",
    "from sklearn.datasets import load_iris\n",
    "from sklearn.model_selection import train_test_split\n",
    "import numpy as np"
   ]
  },
  {
   "cell_type": "markdown",
   "id": "58398479",
   "metadata": {},
   "source": [
    "### [1] 모델 구성"
   ]
  },
  {
   "cell_type": "code",
   "execution_count": 38,
   "id": "a3e89827",
   "metadata": {},
   "outputs": [],
   "source": [
    "model=Sequential(name='irisModel')"
   ]
  },
  {
   "cell_type": "code",
   "execution_count": 39,
   "id": "38c52e40",
   "metadata": {},
   "outputs": [],
   "source": [
    "# units : 퍼셉트론 개수\n",
    "# 층 1개 만들었음\n",
    "# 첫 번째 층은 반드시 입력정보 파라미터 설정 => input_shape=(,) input_dim=숫자\n",
    "# 각 노드(퍼셉트론, 유닛) : 4개 입력 / 출력 : 1개\n",
    "# 총 10개가 다음 층(Layer)의 입력으로 들어감\n",
    "l1=Dense(10, activation='relu', input_shape=(4, ))"
   ]
  },
  {
   "cell_type": "code",
   "execution_count": 40,
   "id": "85ad28da",
   "metadata": {},
   "outputs": [],
   "source": [
    "model.add(l1)"
   ]
  },
  {
   "cell_type": "code",
   "execution_count": 41,
   "id": "40b1ba76",
   "metadata": {},
   "outputs": [
    {
     "name": "stdout",
     "output_type": "stream",
     "text": [
      "Model: \"irisModel\"\n",
      "_________________________________________________________________\n",
      " Layer (type)                Output Shape              Param #   \n",
      "=================================================================\n",
      " dense_9 (Dense)             (None, 10)                50        \n",
      "                                                                 \n",
      "=================================================================\n",
      "Total params: 50\n",
      "Trainable params: 50\n",
      "Non-trainable params: 0\n",
      "_________________________________________________________________\n"
     ]
    }
   ],
   "source": [
    "## 모델 구성 확인 => summary()\n",
    "model.summary()"
   ]
  },
  {
   "cell_type": "code",
   "execution_count": 42,
   "id": "6234573b",
   "metadata": {},
   "outputs": [],
   "source": [
    "# 각 노드(퍼셉트론, 유닛) : 여기서는 10개를 입력 받음 / 출력 : 50개\n",
    "l2=Dense(50, activation='relu')"
   ]
  },
  {
   "cell_type": "code",
   "execution_count": 43,
   "id": "4a169f50",
   "metadata": {},
   "outputs": [],
   "source": [
    "model.add(l2)"
   ]
  },
  {
   "cell_type": "code",
   "execution_count": 44,
   "id": "7ad38838",
   "metadata": {},
   "outputs": [
    {
     "name": "stdout",
     "output_type": "stream",
     "text": [
      "Model: \"irisModel\"\n",
      "_________________________________________________________________\n",
      " Layer (type)                Output Shape              Param #   \n",
      "=================================================================\n",
      " dense_9 (Dense)             (None, 10)                50        \n",
      "                                                                 \n",
      " dense_10 (Dense)            (None, 50)                550       \n",
      "                                                                 \n",
      "=================================================================\n",
      "Total params: 600\n",
      "Trainable params: 600\n",
      "Non-trainable params: 0\n",
      "_________________________________________________________________\n"
     ]
    }
   ],
   "source": [
    "model.summary()"
   ]
  },
  {
   "cell_type": "code",
   "execution_count": 45,
   "id": "6d74a38a",
   "metadata": {},
   "outputs": [],
   "source": [
    "l3=Dense(50, activation='softmax')"
   ]
  },
  {
   "cell_type": "code",
   "execution_count": 46,
   "id": "9b63ee43",
   "metadata": {},
   "outputs": [],
   "source": [
    "model.add(l3)"
   ]
  },
  {
   "cell_type": "code",
   "execution_count": 47,
   "id": "a5b4afef",
   "metadata": {},
   "outputs": [
    {
     "name": "stdout",
     "output_type": "stream",
     "text": [
      "Model: \"irisModel\"\n",
      "_________________________________________________________________\n",
      " Layer (type)                Output Shape              Param #   \n",
      "=================================================================\n",
      " dense_9 (Dense)             (None, 10)                50        \n",
      "                                                                 \n",
      " dense_10 (Dense)            (None, 50)                550       \n",
      "                                                                 \n",
      " dense_11 (Dense)            (None, 50)                2550      \n",
      "                                                                 \n",
      "=================================================================\n",
      "Total params: 3,150\n",
      "Trainable params: 3,150\n",
      "Non-trainable params: 0\n",
      "_________________________________________________________________\n"
     ]
    }
   ],
   "source": [
    "model.summary()"
   ]
  },
  {
   "cell_type": "code",
   "execution_count": null,
   "id": "79f50a00",
   "metadata": {},
   "outputs": [],
   "source": []
  },
  {
   "cell_type": "code",
   "execution_count": null,
   "id": "eba2904b",
   "metadata": {},
   "outputs": [],
   "source": []
  },
  {
   "cell_type": "code",
   "execution_count": null,
   "id": "24d76d23",
   "metadata": {},
   "outputs": [],
   "source": []
  },
  {
   "cell_type": "markdown",
   "id": "d5d555d7",
   "metadata": {},
   "source": [
    "### [2] 모델 생성\n",
    "---\n",
    "- 손실함수,최적화 기법, 성능 평가 항목 설정\n",
    "- compile() 메서드\n",
    "    * optimizer : string 타입의 최적화 기법명 입력 또는 객체 <- 기본값 사용하지 않는 경우\n",
    "    * loss : 손실함수로 string 타입의 이름 입력\n",
    "        - 분류 : categorical_crowwentropy, sparse_categorical_crowwentropy, binary_crossentropy\n",
    "        - 회귀 : mean_squared_error, mean_absolute_error\n",
    "    * metrics : 모델 평가 항목\n",
    "        - accuracy, mse, mae..."
   ]
  },
  {
   "cell_type": "code",
   "execution_count": 48,
   "id": "5e9b32a4",
   "metadata": {},
   "outputs": [],
   "source": [
    "# loss에 categorical 뭐시기 쓰는 이유 : 다중분류\n",
    "model.compile(optimizer='adam', loss='categorical_crossentry', \n",
    "             metrics=['accuracy'])"
   ]
  },
  {
   "cell_type": "markdown",
   "id": "aae0ae53",
   "metadata": {},
   "source": [
    "### [3] 학습\n",
    "---\n",
    "- fit() 메서드\n",
    "    * 훈련용 데이터\n",
    "    * 훈련용 타겟\n",
    "    * epochs : 학습 횟수(처음부터 끝까지)\n",
    "    * batch_size : 한 번 학습량 (기본값 : 32)\n",
    "    * validation_split / validation_data=(,) : 검증 데이터 설정\n",
    "    * callbacks : 이벤트 처리 함수 목록(ex : 학습 중단 이벤트, 모델 검증 및 저장 이벤트, ...)\n",
    "    * verbose : 학습 과정 출력 여부 설정(기본값 : TRUE)\n",
    "    "
   ]
  },
  {
   "cell_type": "code",
   "execution_count": null,
   "id": "7b74dc35",
   "metadata": {},
   "outputs": [],
   "source": []
  },
  {
   "cell_type": "markdown",
   "id": "f6e3c1d2",
   "metadata": {},
   "source": [
    "---\n",
    "## iris"
   ]
  },
  {
   "cell_type": "code",
   "execution_count": 115,
   "id": "2d2e58d8",
   "metadata": {},
   "outputs": [
    {
     "name": "stdout",
     "output_type": "stream",
     "text": [
      "(150, 4) (150,)\n"
     ]
    }
   ],
   "source": [
    "## 데이터 로딩\n",
    "iris=load_iris()\n",
    "\n",
    "data=iris['data']\n",
    "target=iris['target']\n",
    "\n",
    "print(data.shape, target.shape)"
   ]
  },
  {
   "cell_type": "code",
   "execution_count": 116,
   "id": "96d87d07",
   "metadata": {},
   "outputs": [],
   "source": [
    "x_train, x_test, y_train, y_test=train_test_split(\n",
    "data, target, stratify=target, test_size=0.2, random_state=42)"
   ]
  },
  {
   "cell_type": "markdown",
   "id": "3339ccec",
   "metadata": {},
   "source": [
    "## 모델"
   ]
  },
  {
   "cell_type": "code",
   "execution_count": 120,
   "id": "71e351ac",
   "metadata": {},
   "outputs": [],
   "source": [
    "model=Sequential(name='irisModel')"
   ]
  },
  {
   "cell_type": "code",
   "execution_count": 122,
   "id": "7b0e67c5",
   "metadata": {},
   "outputs": [],
   "source": [
    "# 각 노드(퍼셉트론, 유닛) : 4개 입력 / 출력 : 1개\n",
    "model.add(Dense(10, activation='relu', input_shape=(4, )))"
   ]
  },
  {
   "cell_type": "code",
   "execution_count": 123,
   "id": "5b37e2af",
   "metadata": {},
   "outputs": [],
   "source": [
    "model.add(Dense(3, activation='softmax'))"
   ]
  },
  {
   "cell_type": "code",
   "execution_count": 124,
   "id": "851d534b",
   "metadata": {},
   "outputs": [
    {
     "name": "stdout",
     "output_type": "stream",
     "text": [
      "Model: \"irisModel\"\n",
      "_________________________________________________________________\n",
      " Layer (type)                Output Shape              Param #   \n",
      "=================================================================\n",
      " dense_19 (Dense)            (None, 10)                50        \n",
      "                                                                 \n",
      " dense_20 (Dense)            (None, 3)                 33        \n",
      "                                                                 \n",
      "=================================================================\n",
      "Total params: 83\n",
      "Trainable params: 83\n",
      "Non-trainable params: 0\n",
      "_________________________________________________________________\n"
     ]
    }
   ],
   "source": [
    "model.summary()"
   ]
  },
  {
   "cell_type": "code",
   "execution_count": 125,
   "id": "132923a5",
   "metadata": {},
   "outputs": [],
   "source": [
    "from sklearn.preprocessing import LabelEncoder, OneHotEncoder"
   ]
  },
  {
   "cell_type": "code",
   "execution_count": 126,
   "id": "030d7a89",
   "metadata": {},
   "outputs": [],
   "source": [
    "label=LabelEncoder()\n",
    "target_1=label.fit(target).transform(target)"
   ]
  },
  {
   "cell_type": "code",
   "execution_count": 127,
   "id": "e789efd7",
   "metadata": {},
   "outputs": [],
   "source": [
    "ohe=OneHotEncoder()\n",
    "target_2=ohe.fit(target.reshape(-1, 1)).transform(target.reshape(-1, 1))"
   ]
  },
  {
   "cell_type": "code",
   "execution_count": 128,
   "id": "6da01be7",
   "metadata": {},
   "outputs": [
    {
     "data": {
      "text/plain": [
       "scipy.sparse.csr.csr_matrix"
      ]
     },
     "execution_count": 128,
     "metadata": {},
     "output_type": "execute_result"
    }
   ],
   "source": [
    "type(target_2)"
   ]
  },
  {
   "cell_type": "code",
   "execution_count": 129,
   "id": "7c32698a",
   "metadata": {},
   "outputs": [
    {
     "data": {
      "text/plain": [
       "numpy.ndarray"
      ]
     },
     "execution_count": 129,
     "metadata": {},
     "output_type": "execute_result"
    }
   ],
   "source": [
    "target_3=target_2.toarray()\n",
    "type(target_3)"
   ]
  },
  {
   "cell_type": "code",
   "execution_count": 130,
   "id": "6c9c6b7d",
   "metadata": {},
   "outputs": [
    {
     "data": {
      "text/plain": [
       "(array([1., 0., 0.]), array([0., 1., 0.]), array([0., 0., 1.]))"
      ]
     },
     "execution_count": 130,
     "metadata": {},
     "output_type": "execute_result"
    }
   ],
   "source": [
    "target_3[0], target_3[50], target_3[100]"
   ]
  },
  {
   "cell_type": "code",
   "execution_count": 131,
   "id": "b90c6c3b",
   "metadata": {},
   "outputs": [
    {
     "data": {
      "text/plain": [
       "(150, 3)"
      ]
     },
     "execution_count": 131,
     "metadata": {},
     "output_type": "execute_result"
    }
   ],
   "source": [
    "target_3.shape"
   ]
  },
  {
   "cell_type": "code",
   "execution_count": 132,
   "id": "f5f15230",
   "metadata": {},
   "outputs": [],
   "source": [
    "model.compile(optimizer='adam', loss='categorical_crossentropy',\n",
    "             metrics=['accuracy'])"
   ]
  },
  {
   "cell_type": "code",
   "execution_count": 133,
   "id": "1db4871e",
   "metadata": {},
   "outputs": [
    {
     "name": "stdout",
     "output_type": "stream",
     "text": [
      "Epoch 1/5\n",
      "5/5 [==============================] - 0s 2ms/step - loss: 1.9029 - accuracy: 0.3333\n",
      "Epoch 2/5\n",
      "5/5 [==============================] - 0s 1ms/step - loss: 1.7033 - accuracy: 0.3333\n",
      "Epoch 3/5\n",
      "5/5 [==============================] - 0s 1ms/step - loss: 1.5239 - accuracy: 0.3333\n",
      "Epoch 4/5\n",
      "5/5 [==============================] - 0s 1ms/step - loss: 1.3655 - accuracy: 0.3333\n",
      "Epoch 5/5\n",
      "5/5 [==============================] - 0s 1ms/step - loss: 1.2393 - accuracy: 0.3333\n"
     ]
    },
    {
     "data": {
      "text/plain": [
       "<keras.callbacks.History at 0x21a5158ba90>"
      ]
     },
     "execution_count": 133,
     "metadata": {},
     "output_type": "execute_result"
    }
   ],
   "source": [
    "model.fit(data, target_3, epochs=5)"
   ]
  },
  {
   "cell_type": "markdown",
   "id": "5a64f193",
   "metadata": {},
   "source": [
    "### [4] 평가\n",
    "---\n",
    "- evaluate() 메서드\n",
    "- 테스트용 데이터로 진행"
   ]
  },
  {
   "cell_type": "code",
   "execution_count": 134,
   "id": "ff64c690",
   "metadata": {},
   "outputs": [
    {
     "name": "stdout",
     "output_type": "stream",
     "text": [
      "5/5 [==============================] - 0s 2ms/step - loss: 1.1697 - accuracy: 0.3333\n"
     ]
    },
    {
     "data": {
      "text/plain": [
       "[1.1696723699569702, 0.3333333432674408]"
      ]
     },
     "execution_count": 134,
     "metadata": {},
     "output_type": "execute_result"
    }
   ],
   "source": [
    "# 평가\n",
    "model.evaluate(data, target_3)"
   ]
  },
  {
   "cell_type": "markdown",
   "id": "5b0408ba",
   "metadata": {},
   "source": [
    "### [5] 예측\n",
    "---\n",
    "- predict()"
   ]
  },
  {
   "cell_type": "code",
   "execution_count": 135,
   "id": "d0487d5f",
   "metadata": {},
   "outputs": [
    {
     "name": "stdout",
     "output_type": "stream",
     "text": [
      "1/1 [==============================] - 0s 61ms/step\n"
     ]
    },
    {
     "data": {
      "text/plain": [
       "array([[0.53253436, 0.31879833, 0.14866732]], dtype=float32)"
      ]
     },
     "execution_count": 135,
     "metadata": {},
     "output_type": "execute_result"
    }
   ],
   "source": [
    "# 예측\n",
    "model.predict([[5.1, 3.5,1.4, 0.2]])"
   ]
  },
  {
   "cell_type": "code",
   "execution_count": 136,
   "id": "9b87304d",
   "metadata": {},
   "outputs": [
    {
     "data": {
      "text/plain": [
       "<bound method Model.predict of <keras.engine.sequential.Sequential object at 0x0000021A514DF970>>"
      ]
     },
     "execution_count": 136,
     "metadata": {},
     "output_type": "execute_result"
    }
   ],
   "source": [
    "model.predict"
   ]
  },
  {
   "cell_type": "code",
   "execution_count": null,
   "id": "b3bdeb00",
   "metadata": {},
   "outputs": [],
   "source": []
  }
 ],
 "metadata": {
  "kernelspec": {
   "display_name": "Python 3 (ipykernel)",
   "language": "python",
   "name": "python3"
  },
  "language_info": {
   "codemirror_mode": {
    "name": "ipython",
    "version": 3
   },
   "file_extension": ".py",
   "mimetype": "text/x-python",
   "name": "python",
   "nbconvert_exporter": "python",
   "pygments_lexer": "ipython3",
   "version": "3.9.12"
  }
 },
 "nbformat": 4,
 "nbformat_minor": 5
}
