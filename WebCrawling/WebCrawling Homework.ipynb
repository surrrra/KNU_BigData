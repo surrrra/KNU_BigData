{
 "cells": [
  {
   "cell_type": "markdown",
   "id": "8e27c9d2",
   "metadata": {},
   "source": [
    "# 일주일간의 일기예보 내용을 화면에 출력\n",
    "## 총 8일간의 일기예보 내용을 스크레이핑\n",
    "### 출력 항목\n",
    "- period-name\n",
    "- short-desc\n",
    "- temp\n",
    "- <'img' title=\"...\">"
   ]
  },
  {
   "cell_type": "code",
   "execution_count": 171,
   "id": "d5a3cfe4",
   "metadata": {},
   "outputs": [],
   "source": [
    "# url open\n",
    "from urllib.request import urlopen\n",
    "\n",
    "html=urlopen('https://forecast.weather.gov/MapClick.php?lat=37.7772&lon=-122.4168#.Ytjs-3ZBxPY')"
   ]
  },
  {
   "cell_type": "code",
   "execution_count": 172,
   "id": "052ffcd9",
   "metadata": {},
   "outputs": [],
   "source": [
    "from bs4 import BeautifulSoup\n",
    "soup=BeautifulSoup(html.read(), 'html.parser')"
   ]
  },
  {
   "cell_type": "markdown",
   "id": "008e6b65",
   "metadata": {},
   "source": [
    "## find(), find_all() 함수를 이용하여 스크레이핑"
   ]
  },
  {
   "cell_type": "code",
   "execution_count": 173,
   "id": "3ce477d0",
   "metadata": {},
   "outputs": [],
   "source": [
    "def scraping_use_find(soup):\n",
    "    container_find=soup.find_all('div', {'class':'tombstone-container'})\n",
    "    #container_find=soup.find_all('div', {'class':'tombstone-container'}).find('p', {'class':'period-name'})는 안 돌아감\n",
    "    \n",
    "    print('National Weather SErvice Scraping')\n",
    "    print('[find 함수 이용]')\n",
    "    print('---------------------------------------------------------------------')\n",
    "    \n",
    "    for c in container_find:\n",
    "        print('[Period]:', c.find('p', {'class':'period-name'}).text)\n",
    "        print('[Short desc]:', c.find('p', {'class':'short-desc'}).text)\n",
    "        print('[Temperature]:', c.find('p', {'class':'temp'}).text)\n",
    "        print(c.find('img')['title'])\n",
    "        print('---------------------------------------------------------------------')"
   ]
  },
  {
   "cell_type": "code",
   "execution_count": 174,
   "id": "590e8db4",
   "metadata": {},
   "outputs": [
    {
     "name": "stdout",
     "output_type": "stream",
     "text": [
      "National Weather SErvice Scraping\n",
      "[find 함수 이용]\n",
      "---------------------------------------------------------------------\n",
      "[Period]: Overnight\n",
      "[Short desc]: Mostly Cloudy\n",
      "[Temperature]: Low: 56 °F\n",
      "Overnight: Mostly cloudy, with a steady temperature around 56. West southwest wind 15 to 17 mph, with gusts as high as 22 mph. \n",
      "---------------------------------------------------------------------\n",
      "[Period]: Thursday\n",
      "[Short desc]: Partly Sunnythen Sunnyand Breezy\n",
      "[Temperature]: High: 68 °F\n",
      "Thursday: Mostly cloudy through mid morning, then gradual clearing, with a high near 68. Breezy, with a west wind 13 to 18 mph increasing to 21 to 26 mph in the afternoon. Winds could gust as high as 34 mph. \n",
      "---------------------------------------------------------------------\n",
      "[Period]: ThursdayNight\n",
      "[Short desc]: Mostly Clearand Breezythen PartlyCloudy\n",
      "[Temperature]: Low: 55 °F\n",
      "Thursday Night: Partly cloudy, with a low around 55. Breezy, with a west wind 17 to 23 mph, with gusts as high as 30 mph. \n",
      "---------------------------------------------------------------------\n",
      "[Period]: Friday\n",
      "[Short desc]: Sunny andBreezy\n",
      "[Temperature]: High: 68 °F\n",
      "Friday: Sunny, with a high near 68. Breezy, with a west wind 20 to 26 mph, with gusts as high as 34 mph. \n",
      "---------------------------------------------------------------------\n",
      "[Period]: FridayNight\n",
      "[Short desc]: Partly Cloudyand Breezy\n",
      "[Temperature]: Low: 54 °F\n",
      "Friday Night: Partly cloudy, with a low around 54. Breezy, with a west wind 17 to 25 mph, with gusts as high as 33 mph. \n",
      "---------------------------------------------------------------------\n",
      "[Period]: Saturday\n",
      "[Short desc]: Mostly Sunny\n",
      "[Temperature]: High: 68 °F\n",
      "Saturday: Mostly sunny, with a high near 68.\n",
      "---------------------------------------------------------------------\n",
      "[Period]: SaturdayNight\n",
      "[Short desc]: Partly Cloudy\n",
      "[Temperature]: Low: 54 °F\n",
      "Saturday Night: Partly cloudy, with a low around 54.\n",
      "---------------------------------------------------------------------\n",
      "[Period]: Sunday\n",
      "[Short desc]: Mostly Sunny\n",
      "[Temperature]: High: 70 °F\n",
      "Sunday: Mostly sunny, with a high near 70.\n",
      "---------------------------------------------------------------------\n",
      "[Period]: SundayNight\n",
      "[Short desc]: Mostly Cloudy\n",
      "[Temperature]: Low: 54 °F\n",
      "Sunday Night: Mostly cloudy, with a low around 54.\n",
      "---------------------------------------------------------------------\n"
     ]
    }
   ],
   "source": [
    "scraping_use_find(soup)"
   ]
  },
  {
   "cell_type": "markdown",
   "id": "04e7e4b9",
   "metadata": {},
   "source": [
    "## select(), select_one() 함수를 이용하여 스크레이핑"
   ]
  },
  {
   "cell_type": "code",
   "execution_count": 175,
   "id": "a85da890",
   "metadata": {},
   "outputs": [],
   "source": [
    "def scraping_use_select(soup):\n",
    "    containers=soup.select('.tombstone-container > .period-name')\n",
    "    short=soup.select('.tombstone-container > .short-desc')\n",
    "    temp=soup.select('.temp')\n",
    "    img=soup.select('.tombstone-container > p > img')\n",
    "\n",
    "\n",
    "    print('National Weather Service Scraping')\n",
    "    print('--------------------------------------------------------')\n",
    "    print('[select 함수 이용]')\n",
    "    print('--------------------------------------------------------')\n",
    "    for i in range(9):\n",
    "        print('[Period]:',containers[i].text)\n",
    "        print('[Short desc]:', short[i].text)\n",
    "        print('[Temperature]:', temp[i].text)\n",
    "        print('[Image desc]:', img[i]['title'])\n",
    "        print('--------------------------------------------------------')"
   ]
  },
  {
   "cell_type": "code",
   "execution_count": 176,
   "id": "900df664",
   "metadata": {},
   "outputs": [
    {
     "name": "stdout",
     "output_type": "stream",
     "text": [
      "National Weather Service Scraping\n",
      "--------------------------------------------------------\n",
      "[select 함수 이용]\n",
      "--------------------------------------------------------\n",
      "[Period]: Overnight\n",
      "[Short desc]: Mostly Cloudy\n",
      "[Temperature]: Low: 56 °F\n",
      "[Image desc]: Overnight: Mostly cloudy, with a steady temperature around 56. West southwest wind 15 to 17 mph, with gusts as high as 22 mph. \n",
      "--------------------------------------------------------\n",
      "[Period]: Thursday\n",
      "[Short desc]: Partly Sunnythen Sunnyand Breezy\n",
      "[Temperature]: High: 68 °F\n",
      "[Image desc]: Thursday: Mostly cloudy through mid morning, then gradual clearing, with a high near 68. Breezy, with a west wind 13 to 18 mph increasing to 21 to 26 mph in the afternoon. Winds could gust as high as 34 mph. \n",
      "--------------------------------------------------------\n",
      "[Period]: ThursdayNight\n",
      "[Short desc]: Mostly Clearand Breezythen PartlyCloudy\n",
      "[Temperature]: Low: 55 °F\n",
      "[Image desc]: Thursday Night: Partly cloudy, with a low around 55. Breezy, with a west wind 17 to 23 mph, with gusts as high as 30 mph. \n",
      "--------------------------------------------------------\n",
      "[Period]: Friday\n",
      "[Short desc]: Sunny andBreezy\n",
      "[Temperature]: High: 68 °F\n",
      "[Image desc]: Friday: Sunny, with a high near 68. Breezy, with a west wind 20 to 26 mph, with gusts as high as 34 mph. \n",
      "--------------------------------------------------------\n",
      "[Period]: FridayNight\n",
      "[Short desc]: Partly Cloudyand Breezy\n",
      "[Temperature]: Low: 54 °F\n",
      "[Image desc]: Friday Night: Partly cloudy, with a low around 54. Breezy, with a west wind 17 to 25 mph, with gusts as high as 33 mph. \n",
      "--------------------------------------------------------\n",
      "[Period]: Saturday\n",
      "[Short desc]: Mostly Sunny\n",
      "[Temperature]: High: 68 °F\n",
      "[Image desc]: Saturday: Mostly sunny, with a high near 68.\n",
      "--------------------------------------------------------\n",
      "[Period]: SaturdayNight\n",
      "[Short desc]: Partly Cloudy\n",
      "[Temperature]: Low: 54 °F\n",
      "[Image desc]: Saturday Night: Partly cloudy, with a low around 54.\n",
      "--------------------------------------------------------\n",
      "[Period]: Sunday\n",
      "[Short desc]: Mostly Sunny\n",
      "[Temperature]: High: 70 °F\n",
      "[Image desc]: Sunday: Mostly sunny, with a high near 70.\n",
      "--------------------------------------------------------\n",
      "[Period]: SundayNight\n",
      "[Short desc]: Mostly Cloudy\n",
      "[Temperature]: Low: 54 °F\n",
      "[Image desc]: Sunday Night: Mostly cloudy, with a low around 54.\n",
      "--------------------------------------------------------\n"
     ]
    }
   ],
   "source": [
    "scraping_use_select(soup)"
   ]
  }
 ],
 "metadata": {
  "kernelspec": {
   "display_name": "Python 3 (ipykernel)",
   "language": "python",
   "name": "python3"
  },
  "language_info": {
   "codemirror_mode": {
    "name": "ipython",
    "version": 3
   },
   "file_extension": ".py",
   "mimetype": "text/x-python",
   "name": "python",
   "nbconvert_exporter": "python",
   "pygments_lexer": "ipython3",
   "version": "3.9.12"
  }
 },
 "nbformat": 4,
 "nbformat_minor": 5
}
