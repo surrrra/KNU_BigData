{
 "cells": [
  {
   "cell_type": "markdown",
   "id": "12b0bc86",
   "metadata": {},
   "source": [
    "# 네이버 증시 정보 크롤링\n",
    "### 시가 총액 10위까지의 기업 정보를 크롤링\n",
    "##### 크롤링 항목 7개 출력\n",
    "- 종목명, 종목코드, 현재가, 전일가, 시가, 고가, 저가"
   ]
  },
  {
   "cell_type": "code",
   "execution_count": 19,
   "id": "aece71cc",
   "metadata": {},
   "outputs": [
    {
     "name": "stderr",
     "output_type": "stream",
     "text": [
      "C:\\Users\\User\\AppData\\Local\\Temp\\ipykernel_3324\\4247358323.py:5: DeprecationWarning: executable_path has been deprecated, please pass in a Service object\n",
      "  driver=webdriver.Chrome(r'C:\\Users\\User\\Desktop\\chromedriver.exe')\n"
     ]
    }
   ],
   "source": [
    "import requests\n",
    "from bs4 import BeautifulSoup\n",
    "from selenium import webdriver\n",
    "\n",
    "driver=webdriver.Chrome(r'C:\\Users\\User\\Desktop\\chromedriver.exe')\n",
    "driver.get('https://finance.naver.com/sise/sise_market_sum.naver')   # 네이버 국내증시 사이트 불러오기\n",
    "\n",
    "html=driver.page_source\n",
    "soup=BeautifulSoup(html, 'html.parser')"
   ]
  },
  {
   "cell_type": "code",
   "execution_count": 20,
   "id": "b9606056",
   "metadata": {},
   "outputs": [
    {
     "name": "stdout",
     "output_type": "stream",
     "text": [
      "['삼성전자', 'LG에너지솔루션', 'SK하이닉스', '삼성바이오로직스', '삼성전자우', '현대차', 'NAVER', 'LG화학', '삼성SDI', '기아']\n",
      "['/item/main.naver?code=005930', '/item/main.naver?code=373220', '/item/main.naver?code=000660', '/item/main.naver?code=207940', '/item/main.naver?code=005935', '/item/main.naver?code=005380', '/item/main.naver?code=035420', '/item/main.naver?code=051910', '/item/main.naver?code=006400', '/item/main.naver?code=000270']\n"
     ]
    }
   ],
   "source": [
    "corp_infos=soup.find_all('tr', {'onmouseover':'mouseOver(this)'})\n",
    "corp_name_list=[]  # 기업명 저장할 리스트\n",
    "corp_url_list=[]  # 기업 url 저장할 리스트\n",
    "i=1\n",
    "\n",
    "for info in corp_infos:\n",
    "    if i==11: break   # 상위 10개만 받아오기 위함\n",
    "    else:\n",
    "        name=info.find('a', {'class':'tltle'}).text\n",
    "        url=info.find('a')['href']\n",
    "        \n",
    "        corp_name_list.append(name)  # 기업명을 리스트에 추가\n",
    "        corp_url_list.append(url)   # 기업 url을 리스트에 추가\n",
    "        i+=1\n",
    "\n",
    "\n",
    "driver.quit()\n",
    "print(corp_name_list)\n",
    "print(corp_url_list)"
   ]
  },
  {
   "cell_type": "code",
   "execution_count": 21,
   "id": "8596ea8a",
   "metadata": {},
   "outputs": [],
   "source": [
    "def get_info(number):\n",
    "    '''\n",
    "    각 기업의 세부 내용('종목명', '종목코드', '현재가', '전일가', '시가', '고가', '저가')을 얻는 함수\n",
    "    '''\n",
    "\n",
    "    driver=webdriver.Chrome(r'C:\\Users\\User\\Desktop\\chromedriver.exe')\n",
    "    driver.get('https://finance.naver.com'+corp_url_list[number])  # 각 기업별 url 불러오기\n",
    "\n",
    "    html=driver.page_source\n",
    "    soup=BeautifulSoup(html, 'html.parser')\n",
    "\n",
    "    corp_details=soup.find('dl', {'class':'blind'})\n",
    "    sub_details=corp_details.find_all('dd')\n",
    "\n",
    "    detail_list=[detail.text.split() for detail in sub_details]\n",
    "\n",
    "    my_detail=[]  # '종목명', '종목코드', '현재가', '전일가', '시가', '고가', '저가'만 저장할 리스트\n",
    "    for d in detail_list:\n",
    "        if d[0] in ['종목명', '종목코드', '현재가', '전일가', '시가', '고가', '저가']:\n",
    "            my_detail.append(d)\n",
    "    \n",
    "    print('https://finance.naver.com'+corp_url_list[number])   # url 프린트\n",
    "    \n",
    "    for i in range(len(my_detail)):\n",
    "        print('{}: {}'.format(my_detail[i][0], my_detail[i][1]))   # '종목명', '종목코드', '현재가', '전일가', '시가', '고가', '저가' 프린트"
   ]
  },
  {
   "cell_type": "code",
   "execution_count": 22,
   "id": "0055fec6",
   "metadata": {},
   "outputs": [],
   "source": [
    "def menu():\n",
    "    print()\n",
    "    print('-'*50)\n",
    "    print('[ 네이버 코스피 상위 10대 기업 목록 ]')\n",
    "    print('-'*50)\n",
    "    for i in range(1, 11):\n",
    "        print('[ {:2}] {}'.format(i, corp_name_list[i-1]))"
   ]
  },
  {
   "cell_type": "code",
   "execution_count": 23,
   "id": "3d401866",
   "metadata": {},
   "outputs": [
    {
     "name": "stdout",
     "output_type": "stream",
     "text": [
      "\n",
      "--------------------------------------------------\n",
      "[ 네이버 코스피 상위 10대 기업 목록 ]\n",
      "--------------------------------------------------\n",
      "[  1] 삼성전자\n",
      "[  2] LG에너지솔루션\n",
      "[  3] SK하이닉스\n",
      "[  4] 삼성바이오로직스\n",
      "[  5] 삼성전자우\n",
      "[  6] 현대차\n",
      "[  7] NAVER\n",
      "[  8] LG화학\n",
      "[  9] 삼성SDI\n",
      "[ 10] 기아\n",
      "주가를 검색할 기업의 번호를 입력하세요(-1: 종료): 1\n"
     ]
    },
    {
     "name": "stderr",
     "output_type": "stream",
     "text": [
      "C:\\Users\\User\\AppData\\Local\\Temp\\ipykernel_3324\\249434166.py:6: DeprecationWarning: executable_path has been deprecated, please pass in a Service object\n",
      "  driver=webdriver.Chrome(r'C:\\Users\\User\\Desktop\\chromedriver.exe')\n"
     ]
    },
    {
     "name": "stdout",
     "output_type": "stream",
     "text": [
      "https://finance.naver.com/item/main.naver?code=005930\n",
      "종목명: 삼성전자\n",
      "종목코드: 005930\n",
      "현재가: 61,100\n",
      "전일가: 61,300\n",
      "시가: 60,900\n",
      "고가: 61,900\n",
      "저가: 60,800\n",
      "\n",
      "--------------------------------------------------\n",
      "[ 네이버 코스피 상위 10대 기업 목록 ]\n",
      "--------------------------------------------------\n",
      "[  1] 삼성전자\n",
      "[  2] LG에너지솔루션\n",
      "[  3] SK하이닉스\n",
      "[  4] 삼성바이오로직스\n",
      "[  5] 삼성전자우\n",
      "[  6] 현대차\n",
      "[  7] NAVER\n",
      "[  8] LG화학\n",
      "[  9] 삼성SDI\n",
      "[ 10] 기아\n",
      "주가를 검색할 기업의 번호를 입력하세요(-1: 종료): 1\n",
      "https://finance.naver.com/item/main.naver?code=005930\n",
      "종목명: 삼성전자\n",
      "종목코드: 005930\n",
      "현재가: 61,100\n",
      "전일가: 61,300\n",
      "시가: 60,900\n",
      "고가: 61,900\n",
      "저가: 60,800\n",
      "\n",
      "--------------------------------------------------\n",
      "[ 네이버 코스피 상위 10대 기업 목록 ]\n",
      "--------------------------------------------------\n",
      "[  1] 삼성전자\n",
      "[  2] LG에너지솔루션\n",
      "[  3] SK하이닉스\n",
      "[  4] 삼성바이오로직스\n",
      "[  5] 삼성전자우\n",
      "[  6] 현대차\n",
      "[  7] NAVER\n",
      "[  8] LG화학\n",
      "[  9] 삼성SDI\n",
      "[ 10] 기아\n",
      "주가를 검색할 기업의 번호를 입력하세요(-1: 종료): 2\n",
      "https://finance.naver.com/item/main.naver?code=373220\n",
      "종목명: LG에너지솔루션\n",
      "종목코드: 373220\n",
      "현재가: 391,000\n",
      "전일가: 382,000\n",
      "시가: 376,000\n",
      "고가: 393,500\n",
      "저가: 371,000\n",
      "\n",
      "--------------------------------------------------\n",
      "[ 네이버 코스피 상위 10대 기업 목록 ]\n",
      "--------------------------------------------------\n",
      "[  1] 삼성전자\n",
      "[  2] LG에너지솔루션\n",
      "[  3] SK하이닉스\n",
      "[  4] 삼성바이오로직스\n",
      "[  5] 삼성전자우\n",
      "[  6] 현대차\n",
      "[  7] NAVER\n",
      "[  8] LG화학\n",
      "[  9] 삼성SDI\n",
      "[ 10] 기아\n",
      "주가를 검색할 기업의 번호를 입력하세요(-1: 종료): -1\n",
      "종료되었습니다.\n"
     ]
    }
   ],
   "source": [
    "while True:\n",
    "    menu()\n",
    "    num=input('주가를 검색할 기업의 번호를 입력하세요(-1: 종료): ')\n",
    "    if num=='-1': \n",
    "        print('종료되었습니다.')\n",
    "        break\n",
    "    elif num in [str(i) for i in range(1, 11)]: \n",
    "        get_info(int(num)-1)\n",
    "    else: print('번호를 다시 입력해주세요')"
   ]
  },
  {
   "cell_type": "code",
   "execution_count": null,
   "id": "a2d6733d",
   "metadata": {},
   "outputs": [],
   "source": []
  }
 ],
 "metadata": {
  "kernelspec": {
   "display_name": "Python 3 (ipykernel)",
   "language": "python",
   "name": "python3"
  },
  "language_info": {
   "codemirror_mode": {
    "name": "ipython",
    "version": 3
   },
   "file_extension": ".py",
   "mimetype": "text/x-python",
   "name": "python",
   "nbconvert_exporter": "python",
   "pygments_lexer": "ipython3",
   "version": "3.9.12"
  }
 },
 "nbformat": 4,
 "nbformat_minor": 5
}
