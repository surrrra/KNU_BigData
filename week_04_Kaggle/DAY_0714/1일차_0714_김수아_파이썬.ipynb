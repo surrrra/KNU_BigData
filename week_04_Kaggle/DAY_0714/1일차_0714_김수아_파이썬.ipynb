{
 "cells": [
  {
   "cell_type": "code",
   "execution_count": 2,
   "id": "04785fd9",
   "metadata": {},
   "outputs": [
    {
     "name": "stdout",
     "output_type": "stream",
     "text": [
      "시작 연도를 입력하세요 : 2010\n",
      "마지막 연도를 입력하세요 : 2014\n",
      "조사하고 싶은 월을 입력하세요 : 3\n",
      "3월 최저기온 평균 : \n",
      "[3.1, 1.8, 3.5, 3.3, 4.6]\n",
      "3월 최고기온 평균 : \n",
      "[11.1, 12.6, 12.7, 16.6, 15.3]\n"
     ]
    },
    {
     "data": {
      "image/png": "[encoded data removed]",
      "text/plain": [
       "<Figure size 1440x288 with 1 Axes>"
      ]
     },
     "metadata": {
      "needs_background": "light"
     },
     "output_type": "display_data"
    }
   ],
   "source": [
    "import csv\n",
    "import matplotlib.pyplot as plt\n",
    "import platform\n",
    "    \n",
    "high_temp=[]  # 연도별 최고온도 평균을 담는 리스트\n",
    "low_temp=[]   # 연도별 최저온도 평균을 담는 리스트\n",
    "x_year=[]  # 그래프 그릴 때 x축을 위한 리스트\n",
    "\n",
    "def draw_graph_on_date(start_year, end_year, month):\n",
    "    # start_year부터 end_year까지 돌리는 while문\n",
    "    while start_year<=end_year:\n",
    "        x_year.append(start_year)\n",
    "        \n",
    "        # 얘를 while문 안에 안 넣으면 데이터를 안 읽어옴\n",
    "        with open('daegu_utf8.csv', encoding='utf-8') as f:\n",
    "            data=csv.reader(f)\n",
    "            next(data)\n",
    "            \n",
    "            # 하나의 년도 각 일자의 최저온도, 최고온도 담는 리스트 => 나중에 평균 계산하려고\n",
    "            sub_month_low=[]\n",
    "            sub_month_high=[]\n",
    "\n",
    "            \n",
    "            \n",
    "            for row in data:\n",
    "                my_year=int(row[0].split('-')[0])   # row의 연도\n",
    "                my_month=int(row[0].split('-')[1])  # row의 월\n",
    "\n",
    "                \n",
    "                # 입력받은 년도와 row의 년도가 일치하고 입력받은 월과 row의 월이 일치한다면\n",
    "                if my_year==start_year and my_month==month:\n",
    "                    sub_month_low.append(float(row[-2]))\n",
    "                    sub_month_high.append(float(row[-1]))\n",
    "                    \n",
    "            # --------------- 모든 row를 돌아서 입력받은 년, 입력받은 월의 최고온도, 최저온도를 리스트에 담았음\n",
    "            \n",
    "            # 연도별 최고, 최저온도 평균을 담는 리스트에 sub_month_high, sub_month_low의 평균을 계산해서 하나씩 추가\n",
    "            high_temp.append(round(sum(sub_month_high)/len(sub_month_high), 1))\n",
    "            low_temp.append(round(sum(sub_month_low)/len(sub_month_low), 1))\n",
    "\n",
    "            start_year+=1\n",
    "        \n",
    "    # 그래프 그리기\n",
    "    plt.figure(figsize=(20,4))\n",
    "    plt.plot(x_year, high_temp, 'red', marker='o', label='최고기온')\n",
    "    plt.plot(x_year, low_temp, 'blue', marker='s', label='최저기온')\n",
    "    \n",
    "    # 다른 운영체제에서도 적용할 수 있도록 한글 폰트 깨짐 방지\n",
    "    if platform.system()=='Windows':\n",
    "        plt.rc('font', family='Malgun Gothic', size=8)\n",
    "    else:\n",
    "        plt.rc('font', family='AppleGothic', size=8)\n",
    "        \n",
    "        print(f'{start_year}년부터 {last_year}까지 {month}월의 기온 변화')\n",
    "    print(f'{month}월 최저기온 평균 : \\n{low_temp}')\n",
    "    print(f'{month}월 최고기온 평균 : \\n{high_temp}')\n",
    "    \n",
    "    # 마이너스 부호 깨짐 방지\n",
    "    plt.rcParams['axes.unicode_minus']=False\n",
    "    plt.title(f'{start_year}년부터 {end_year}까지 {month}월의 기온 변화')\n",
    "    plt.legend(loc=2)\n",
    "    plt.show()\n",
    "\n",
    "                        \n",
    "# 리스트 평균 구하는 함수\n",
    "def my_avg(my_list):\n",
    "    total=0\n",
    "    for num in my_list:\n",
    "        total+=num\n",
    "    return total/len(my_list)\n",
    "            \n",
    "start_year=int(input('시작 연도를 입력하세요 : '))\n",
    "end_year=int(input('마지막 연도를 입력하세요 : '))\n",
    "month=int(input('조사하고 싶은 월을 입력하세요 : '))\n",
    "draw_graph_on_date(start_year, end_year, month)"
   ]
  },
  {
   "cell_type": "code",
   "execution_count": null,
   "id": "caf9bc31",
   "metadata": {},
   "outputs": [],
   "source": []
  }
 ],
 "metadata": {
  "kernelspec": {
   "display_name": "Python 3 (ipykernel)",
   "language": "python",
   "name": "python3"
  },
  "language_info": {
   "codemirror_mode": {
    "name": "ipython",
    "version": 3
   },
   "file_extension": ".py",
   "mimetype": "text/x-python",
   "name": "python",
   "nbconvert_exporter": "python",
   "pygments_lexer": "ipython3",
   "version": "3.9.12"
  }
 },
 "nbformat": 4,
 "nbformat_minor": 5
}
