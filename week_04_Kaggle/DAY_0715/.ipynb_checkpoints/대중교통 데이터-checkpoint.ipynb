{
 "cells": [
  {
   "cell_type": "markdown",
   "id": "fbe320a4",
   "metadata": {},
   "source": [
    "# $ {유임승차 \\over 무임승차} $"
   ]
  },
  {
   "cell_type": "code",
   "execution_count": 6,
   "id": "852ee304",
   "metadata": {},
   "outputs": [
    {
     "name": "stdout",
     "output_type": "stream",
     "text": [
      "['사용월', '호선명', '역ID', '지하철역', '유임승차', '유임하차', '무임승차', '무임하차']\n",
      "['Jun-22', '1호선', '150', '서울역', '1150754', '1123193', '194717', '187155']\n",
      "['Jun-22', '1호선', '151', '시청', '537067', '543569', '80671', '78279']\n",
      "['Jun-22', '1호선', '152', '종각', '834173', '815704', '131987', '121717']\n",
      "['Jun-22', '1호선', '153', '종로3가', '450317', '404106', '299617', '278151']\n",
      "['Jun-22', '1호선', '154', '종로5가', '394420', '404105', '254236', '244555']\n",
      "['Jun-22', '1호선', '155', '동대문', '212719', '198987', '117499', '118515']\n",
      "['Jun-22', '1호선', '156', '신설동', '264825', '252339', '112362', '106855']\n"
     ]
    }
   ],
   "source": [
    "import csv\n",
    "\n",
    "f=open('subwayfee.csv')\n",
    "data=csv.reader(f)\n",
    "header=next(data)\n",
    "print(header)\n",
    "i=0\n",
    "for row in data:\n",
    "    print(row)\n",
    "    if i>5:\n",
    "       break\n",
    "    i+=1\n",
    "f.close()"
   ]
  },
  {
   "cell_type": "code",
   "execution_count": 10,
   "id": "14b50a8f",
   "metadata": {},
   "outputs": [
    {
     "ename": "ZeroDivisionError",
     "evalue": "division by zero",
     "output_type": "error",
     "traceback": [
      "\u001b[1;31m---------------------------------------------------------------------------\u001b[0m",
      "\u001b[1;31mZeroDivisionError\u001b[0m                         Traceback (most recent call last)",
      "Input \u001b[1;32mIn [10]\u001b[0m, in \u001b[0;36m<cell line: 7>\u001b[1;34m()\u001b[0m\n\u001b[0;32m      8\u001b[0m \u001b[38;5;28;01mfor\u001b[39;00m i \u001b[38;5;129;01min\u001b[39;00m \u001b[38;5;28mrange\u001b[39m(\u001b[38;5;241m4\u001b[39m, \u001b[38;5;241m8\u001b[39m):\n\u001b[0;32m      9\u001b[0m     row[i]\u001b[38;5;241m=\u001b[39m\u001b[38;5;28mint\u001b[39m(row[i])\n\u001b[1;32m---> 10\u001b[0m rate\u001b[38;5;241m=\u001b[39m\u001b[43mrow\u001b[49m\u001b[43m[\u001b[49m\u001b[38;5;241;43m4\u001b[39;49m\u001b[43m]\u001b[49m\u001b[38;5;241;43m/\u001b[39;49m\u001b[43mrow\u001b[49m\u001b[43m[\u001b[49m\u001b[38;5;241;43m6\u001b[39;49m\u001b[43m]\u001b[49m\n\u001b[0;32m     11\u001b[0m \u001b[38;5;28;01mif\u001b[39;00m rate\u001b[38;5;241m>\u001b[39mmax_rate:\n\u001b[0;32m     12\u001b[0m     max_rate\u001b[38;5;241m=\u001b[39mrate\n",
      "\u001b[1;31mZeroDivisionError\u001b[0m: division by zero"
     ]
    }
   ],
   "source": [
    "f=open('subwayfee.csv')\n",
    "data=csv.reader(f)\n",
    "next(data)\n",
    "max_rate=0\n",
    "rate=0\n",
    "\n",
    "for row in data:\n",
    "    for i in range(4, 8):\n",
    "        row[i]=int(row[i])\n",
    "    rate=row[4]/row[6]\n",
    "    if rate>max_rate:\n",
    "        max_rate=rate\n",
    "        \n",
    "print(max_rate)\n",
    "\n",
    "\n",
    "# 오류가 날 수밖에 없음. 왜냐면 무임승차 인원이 0인 역이 있기 때문에"
   ]
  },
  {
   "cell_type": "markdown",
   "id": "a39c3e8f",
   "metadata": {},
   "source": [
    "## 무임승차 인원이 0인 역 찾기"
   ]
  },
  {
   "cell_type": "code",
   "execution_count": 13,
   "id": "e8d5f33b",
   "metadata": {},
   "outputs": [
    {
     "name": "stdout",
     "output_type": "stream",
     "text": [
      "무임승차 없는 역 :  ['Jun-22', '일산선', '1949', '지축', 10, 0, 0, 0]\n",
      "무임승차 없는 역 :  ['Jun-22', '경의선', '1296', '계양', 10, 0, 0, 0]\n",
      "무임승차 없는 역 :  ['Jun-22', '경의선', '1297', '검암', 2, 0, 0, 0]\n",
      "무임승차 없는 역 :  ['Jun-22', '6호선', '2615', '연신내', 31, 0, 0, 0]\n",
      "무임승차 없는 역 :  ['Jun-22', '6호선', '2649', '신내', 4, 0, 0, 0]\n",
      "무임승차 없는 역 :  ['Jun-22', '7호선', '2753', '까치울', 1, 0, 0, 0]\n",
      "무임승차 없는 역 :  ['Jun-22', '7호선', '2758', '상동', 1, 0, 0, 0]\n",
      "무임승차 없는 역 :  ['Jun-22', '7호선', '2761', '부평구청', 1, 0, 0, 0]\n"
     ]
    }
   ],
   "source": [
    "f=open('subwayfee.csv')\n",
    "data=csv.reader(f)\n",
    "header=next(data)\n",
    "max_rate=0\n",
    "rate=0\n",
    "i=0\n",
    "\n",
    "for row in data:\n",
    "    for i in range(4, 8):\n",
    "        row[i]=int(row[i])\n",
    "    rate=row[4]/(row[4]+row[6])\n",
    "    \n",
    "    if row[6]==0:\n",
    "        print('무임승차 없는 역 : ', row)\n",
    "        \n",
    "f.close()"
   ]
  },
  {
   "cell_type": "markdown",
   "id": "35abd405",
   "metadata": {},
   "source": [
    "## 최대 무임승차 비율 확인"
   ]
  },
  {
   "cell_type": "code",
   "execution_count": 14,
   "id": "5533b6f9",
   "metadata": {},
   "outputs": [
    {
     "name": "stdout",
     "output_type": "stream",
     "text": [
      "['Jun-22', '1호선', '150', '서울역', 1150754, 1123193, 194717, 187155] 14.47 %\n",
      "['Jun-22', '1호선', '153', '종로3가', 450317, 404106, 299617, 278151] 39.95 %\n",
      "['Jun-22', '1호선', '157', '제기동', 218782, 209109, 263173, 281985] 54.61 %\n",
      "['Jun-22', '경원선', '1916', '소요산', 32659, 25998, 62990, 56806] 65.86 %\n",
      "['Jun-22', '7호선', '2756', '신중동', 0, 0, 1, 0] 100.0 %\n"
     ]
    }
   ],
   "source": [
    "f=open('subwayfee.csv')\n",
    "data=csv.reader(f)\n",
    "next(data)\n",
    "max_rate=0\n",
    "rate=0\n",
    "\n",
    "for row in data:\n",
    "    for i in range(4, 8):\n",
    "        row[i]=int(row[i])\n",
    "        \n",
    "    if row[6]!=0:\n",
    "        rate=(row[6]*100) / (row[4]+row[6])\n",
    "        if rate>max_rate:\n",
    "            max_rate=rate\n",
    "            print(row, round(rate, 2), '%')"
   ]
  },
  {
   "cell_type": "markdown",
   "id": "0d0b079a",
   "metadata": {},
   "source": [
    "## 최대 유임승차 인원이 있는 역"
   ]
  },
  {
   "cell_type": "code",
   "execution_count": 21,
   "id": "013c1edf",
   "metadata": {},
   "outputs": [
    {
     "name": "stdout",
     "output_type": "stream",
     "text": [
      "['Jun-22', '2호선', '209', '한양대', 269240, 295829, 12481, 13227]\n",
      "역이름 : 한양대, 전체 인원 : 281721, 유임승차인원:269240, 유임승차 비율: 0.96\n"
     ]
    }
   ],
   "source": [
    "f=open('subwayfee.csv')\n",
    "data=csv.reader(f)\n",
    "next(data)\n",
    "max_rate=0\n",
    "rate=0\n",
    "max_row=[]\n",
    "total_count=0\n",
    "max_total_num=0\n",
    "\n",
    "for row in data:\n",
    "    for i in range(4, 8):\n",
    "        row[i]=int(row[i])\n",
    "    total_count=row[4]+row[6]\n",
    "    if (row[6]!=0) and (total_count>100000):\n",
    "        rate=row[4]/total_count\n",
    "        if rate>max_rate:\n",
    "            max_rate=rate\n",
    "            max_row=row\n",
    "            max_total_num=total_count\n",
    "            \n",
    "print(max_row)\n",
    "print('역이름 : {0}, 전체 인원 : {1}, 유임승차인원:{2}, 유임승차 비율: {3:,}'.\n",
    "     format(max_row[3],max_total_num, max_row[4], round(max_rate, 2)))\n",
    "\n",
    "f.close()"
   ]
  },
  {
   "cell_type": "markdown",
   "id": "b83a92ad",
   "metadata": {},
   "source": [
    "## 유임승차 비율이 50% 이하인 역"
   ]
  },
  {
   "cell_type": "code",
   "execution_count": 23,
   "id": "35df2460",
   "metadata": {},
   "outputs": [
    {
     "name": "stdout",
     "output_type": "stream",
     "text": [
      "['사용월', '호선명', '역ID', '지하철역', '유임승차', '유임하차', '무임승차', '무임하차']\n",
      "['Jun-22', '1호선', '157', '제기동', 218782, '209109', 263173, '281985'] 0.45\n",
      "['Jun-22', '1호선', '159', '동묘앞', 122460, '131299', 146455, '147539'] 0.46\n",
      "['Jun-22', '경원선', '1916', '소요산', 32659, '25998', 62990, '56806'] 0.34\n",
      "['Jun-22', '중앙선', '1218', '원덕', 5854, '5749', 6959, '6739'] 0.46\n",
      "['Jun-22', '중앙선', '1219', '용문', 34168, '34477', 38467, '38202'] 0.47\n",
      "유임승차 비율이 가장 낮은 역 : 소요산, 전체인원 : 95649, 유임승차인원 : 32659, 유임승차비율 : 0.34\n"
     ]
    }
   ],
   "source": [
    "f=open('subwayfee.csv')\n",
    "data=csv.reader(f)\n",
    "header=next(data)\n",
    "print(header)\n",
    "min_rate=100\n",
    "rate=0\n",
    "min_row=[]\n",
    "total_count=0\n",
    "min_total_count=0\n",
    "\n",
    "for row in data:\n",
    "    for i in [4, 6]:\n",
    "        row[i]=int(row[i])\n",
    "    total_count=row[4]+row[6]\n",
    "    if (row[6]!=0) and (total_count>=10000):\n",
    "        rate=row[4]/total_count\n",
    "        if rate<=0.5:\n",
    "            print(row, round(rate, 2))\n",
    "            if rate<min_rate:\n",
    "                min_rate=rate\n",
    "                min_row=row\n",
    "                min_total_count=total_count\n",
    "                \n",
    "print('유임승차 비율이 가장 낮은 역 : {}, 전체인원 : {}, 유임승차인원 : {}, 유임승차비율 : {}'\n",
    "     .format(min_row[3], min_total_count, min_row[4], round(min_rate, 2)))\n",
    "\n",
    "f.close()"
   ]
  },
  {
   "cell_type": "code",
   "execution_count": null,
   "id": "0dbb4999",
   "metadata": {},
   "outputs": [],
   "source": []
  }
 ],
 "metadata": {
  "kernelspec": {
   "display_name": "Python 3 (ipykernel)",
   "language": "python",
   "name": "python3"
  },
  "language_info": {
   "codemirror_mode": {
    "name": "ipython",
    "version": 3
   },
   "file_extension": ".py",
   "mimetype": "text/x-python",
   "name": "python",
   "nbconvert_exporter": "python",
   "pygments_lexer": "ipython3",
   "version": "3.9.12"
  }
 },
 "nbformat": 4,
 "nbformat_minor": 5
}
