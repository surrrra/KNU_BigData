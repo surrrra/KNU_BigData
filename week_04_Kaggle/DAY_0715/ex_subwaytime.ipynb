{
 "cells": [
  {
   "cell_type": "markdown",
   "id": "b9bbed9b",
   "metadata": {},
   "source": [
    "## map() 함수를 이용하여 데이터 변환"
   ]
  },
  {
   "cell_type": "code",
   "execution_count": 1,
   "id": "6cbd24e7",
   "metadata": {},
   "outputs": [
    {
     "name": "stdout",
     "output_type": "stream",
     "text": [
      "[1, 4, 9, 16]\n",
      "[1, 2, 3, 4]\n"
     ]
    }
   ],
   "source": [
    "def func(x): return x**2\n",
    "\n",
    "a=[1, 2, 3, 4]\n",
    "a=list(map(func, a))\n",
    "print(a)\n",
    "\n",
    "data=['1', '2', '3', '4']\n",
    "data=list(map(int, data))\n",
    "print(data)"
   ]
  },
  {
   "cell_type": "markdown",
   "id": "5b669dc1",
   "metadata": {},
   "source": [
    "# 시간대별 지하철 이용 인원 수"
   ]
  },
  {
   "cell_type": "markdown",
   "id": "1e67bc06",
   "metadata": {},
   "source": [
    "## 새벽 4시 지하철 승차 전체 인원"
   ]
  },
  {
   "cell_type": "code",
   "execution_count": 6,
   "id": "a67d0da7",
   "metadata": {},
   "outputs": [
    {
     "name": "stdout",
     "output_type": "stream",
     "text": [
      "총 지하철 역의 수 : 615\n",
      "새벽 4시 승차인원 : 135,398\n"
     ]
    }
   ],
   "source": [
    "import csv\n",
    "\n",
    "result=[]\n",
    "total_number=0\n",
    "\n",
    "with open('subwaytime.csv') as f:\n",
    "    data=csv.reader(f)\n",
    "    next(data)\n",
    "    next(data)\n",
    "    \n",
    "    for row in data:\n",
    "        row[4:]=map(int, row[4:])\n",
    "        total_number+=row[4]\n",
    "        result.append(row[4])\n",
    "\n",
    "print('총 지하철 역의 수 :', len(result))\n",
    "print('새벽 4시 승차인원 : {:,}'.format(total_number))"
   ]
  },
  {
   "cell_type": "code",
   "execution_count": 7,
   "id": "13ed1c54",
   "metadata": {},
   "outputs": [
    {
     "name": "stdout",
     "output_type": "stream",
     "text": [
      "['1', '2', 3, 4]\n"
     ]
    }
   ],
   "source": [
    "a=['1', '2', '3', '4']\n",
    "a[2:]=map(int, a[2:])\n",
    "print(a)"
   ]
  },
  {
   "cell_type": "code",
   "execution_count": 8,
   "id": "5bec22f4",
   "metadata": {},
   "outputs": [
    {
     "name": "stdout",
     "output_type": "stream",
     "text": [
      "새벽 4시 승차 인원수 :135,398\n",
      "최대 승차역 : 구로, 인원수 : 11,784\n"
     ]
    }
   ],
   "source": [
    "import csv\n",
    "import matplotlib.pyplot as plt\n",
    "\n",
    "with open('subwaytime.csv') as f:\n",
    "    data=csv.reader(f)\n",
    "    next(data)\n",
    "    next(data)\n",
    "    result=[]\n",
    "    total_number=0\n",
    "    max_num=0\n",
    "    max_station=''\n",
    "    \n",
    "    for row in data:\n",
    "        row[4:]=map(int, row[4:])\n",
    "        total_number+=row[4]\n",
    "        result.append(row[4])\n",
    "        if row[4]>max_num:\n",
    "            max_num=row[4]\n",
    "            max_station=row[3]\n",
    "            \n",
    "print('새벽 4시 승차 인원수 :{:,}'.format(total_number))\n",
    "print('최대 승차역 : {}, 인원수 : {:,}'.format(max_station, max_num))"
   ]
  },
  {
   "cell_type": "code",
   "execution_count": 9,
   "id": "1f41f567",
   "metadata": {},
   "outputs": [
    {
     "data": {
      "text/plain": [
       "<BarContainer object of 615 artists>"
      ]
     },
     "execution_count": 9,
     "metadata": {},
     "output_type": "execute_result"
    },
    {
     "data": {
      "image/png": "[encoded data removed]",
      "text/plain": [
       "<Figure size 600x400 with 1 Axes>"
      ]
     },
     "metadata": {
      "needs_background": "light"
     },
     "output_type": "display_data"
    }
   ],
   "source": [
    "result.sort()\n",
    "plt.figure(dpi=100)\n",
    "plt.bar(range(len(result)), result)"
   ]
  },
  {
   "cell_type": "code",
   "execution_count": 11,
   "id": "cacbc7c8",
   "metadata": {},
   "outputs": [
    {
     "name": "stdout",
     "output_type": "stream",
     "text": [
      "최대 승차 인원역 : 신림(2호선) 638,753\n"
     ]
    },
    {
     "data": {
      "image/png": "[encoded data removed]",
      "text/plain": [
       "<Figure size 600x400 with 1 Axes>"
      ]
     },
     "metadata": {
      "needs_background": "light"
     },
     "output_type": "display_data"
    }
   ],
   "source": [
    "with open('subwaytime.csv') as f:\n",
    "    data=csv.reader(f)\n",
    "    next(data)\n",
    "    next(data)\n",
    "    result=[]\n",
    "    total_number=0\n",
    "    max_num=0\n",
    "    max_station=''\n",
    "    \n",
    "    for row in data:\n",
    "        row[4:]=map(int, row[4:])\n",
    "        row_sum=sum(row[10:15:2])\n",
    "        result.append(row_sum)\n",
    "        if row_sum>max_num:\n",
    "            max_num=row_sum\n",
    "            max_station=row[3]+'('+row[1]+')'\n",
    "            \n",
    "print('최대 승차 인원역 : {} {:,}'.format(max_station, max_num))\n",
    "result.sort(reverse=True)\n",
    "plt.figure(dpi=100)\n",
    "plt.bar(range(len(result)), result)\n",
    "plt.show()"
   ]
  },
  {
   "cell_type": "code",
   "execution_count": 22,
   "id": "65d59eed",
   "metadata": {},
   "outputs": [
    {
     "name": "stdout",
     "output_type": "stream",
     "text": [
      "['4']\n",
      "['Jun-22', '1호선', '150', '서울역', 646, 24, 8433, 7694, 12608, 46963, 39233, 100397, 65106, 201687, 54833, 136594, 54970, 72279, 65919, 63975, 73911, 71095, 75158, 70182, 62452, 63752, 83128, 66858, 94518, 68962, 144662, 80449, 194098, 85268, 97875, 56132, 69808, 39704, 76345, 35471, 51224, 26045, 20385, 15480, 158, 1332, 1, 4, 0, 1, 0, 0]\n",
      "646\n",
      "['Jun-22', '1호선', '150', '서울역', 646, 24, 8433, 7694, 12608, 46963, 39233, 100397, 65106, 201687, 54833, 136594, 54970, 72279, 65919, 63975, 73911, 71095, 75158, 70182, 62452, 63752, 83128, 66858, 94518, 68962, 144662, 80449, 194098, 85268, 97875, 56132, 69808, 39704, 76345, 35471, 51224, 26045, 20385, 15480, 158, 1332, 1, 4, 0, 1, 0, 0]\n",
      "8433\n"
     ]
    },
    {
     "ename": "IndexError",
     "evalue": "list index out of range",
     "output_type": "error",
     "traceback": [
      "\u001b[1;31m---------------------------------------------------------------------------\u001b[0m",
      "\u001b[1;31mIndexError\u001b[0m                                Traceback (most recent call last)",
      "Input \u001b[1;32mIn [22]\u001b[0m, in \u001b[0;36m<cell line: 5>\u001b[1;34m()\u001b[0m\n\u001b[0;32m     24\u001b[0m             \u001b[38;5;28;01mif\u001b[39;00m a\u001b[38;5;241m>\u001b[39m\u001b[38;5;28mmax\u001b[39m[j]:\n\u001b[0;32m     25\u001b[0m                 \u001b[38;5;28mmax\u001b[39m[j]\u001b[38;5;241m=\u001b[39ma\n\u001b[1;32m---> 26\u001b[0m                 max_station[j]\u001b[38;5;241m=\u001b[39m\u001b[43mxtick_list\u001b[49m\u001b[43m[\u001b[49m\u001b[43mj\u001b[49m\u001b[43m]\u001b[49m\u001b[38;5;241m+\u001b[39m\u001b[38;5;124m'\u001b[39m\u001b[38;5;124m시: \u001b[39m\u001b[38;5;124m'\u001b[39m\u001b[38;5;241m+\u001b[39mrow[\u001b[38;5;241m3\u001b[39m]\n\u001b[0;32m     28\u001b[0m \u001b[38;5;28;01mfor\u001b[39;00m i \u001b[38;5;129;01min\u001b[39;00m \u001b[38;5;28mrange\u001b[39m(\u001b[38;5;28mlen\u001b[39m(\u001b[38;5;28mmax\u001b[39m)):\n\u001b[0;32m     29\u001b[0m     \u001b[38;5;28mprint\u001b[39m(\u001b[38;5;124m'\u001b[39m\u001b[38;5;132;01m{}\u001b[39;00m\u001b[38;5;124m : \u001b[39m\u001b[38;5;132;01m{:,}\u001b[39;00m\u001b[38;5;124m'\u001b[39m\u001b[38;5;241m.\u001b[39mformat(max_station[i], \u001b[38;5;28mmax\u001b[39m[i]), end\u001b[38;5;241m=\u001b[39m\u001b[38;5;124m'\u001b[39m\u001b[38;5;124m, \u001b[39m\u001b[38;5;124m'\u001b[39m)\n",
      "\u001b[1;31mIndexError\u001b[0m: list index out of range"
     ]
    }
   ],
   "source": [
    "import csv\n",
    "import matplotlib.pyplot as plt\n",
    "import platform\n",
    "\n",
    "with open('subwaytime.csv') as f:\n",
    "    data=csv.reader(f)\n",
    "    next(data)\n",
    "    next(data)\n",
    "    max=[0]*23\n",
    "    max_station=['']*23\n",
    "    xtick_list=[]\n",
    "    \n",
    "    for i in range(4, 27):\n",
    "        n=i%24    # 4, 5, 6, ..., 23, 0, 1, 2시로 표시하기 위해서\n",
    "        xtick_list.append(str(n))\n",
    "        print(xtick_list)\n",
    "        \n",
    "        for row in data:\n",
    "            row[4:]=map(int, row[4:])\n",
    "            for j in range(23):\n",
    "                print(row)\n",
    "                a=row[j*2+4]\n",
    "                print(a)\n",
    "                if a>max[j]:\n",
    "                    max[j]=a\n",
    "                    max_station[j]=xtick_list[j]+'시: '+row[3]\n",
    "                    \n",
    "    for i in range(len(max)):\n",
    "        print('{} : {:,}'.format(max_station[i], max[i]), end=', ')\n",
    "        if(i+1) % 4==0:   # 한 줄에 6개씩 입력\n",
    "            print()"
   ]
  },
  {
   "cell_type": "code",
   "execution_count": 24,
   "id": "18c12050",
   "metadata": {},
   "outputs": [
    {
     "name": "stdout",
     "output_type": "stream",
     "text": [
      "4시 :구로 : 11,784, 5시 :신림 : 38,809, 6시 :신림 : 73,523, 7시 :신림 : 188,110, \n",
      "8시 :신림 : 281,017, 9시 :신림 : 169,626, 10시 :신림 : 91,989, 11시 :신림 : 77,496, \n",
      "12시 :잠실(송파구청) : 84,383, 13시 :강남 : 95,697, 14시 :강남 : 106,394, 15시 :강남 : 131,625, \n",
      "16시 :강남 : 154,526, 17시 :강남 : 231,839, 18시 :강남 : 314,775, 19시 :강남 : 196,425, \n",
      "20시 :강남 : 155,347, 21시 :강남 : 180,108, 22시 :강남 : 176,473, 23시 :강남 : 81,016, \n",
      "0시 :강남 : 12,407, 1시 :건대입구 : 8, 2시 :동묘앞 : 1, "
     ]
    }
   ],
   "source": [
    "import csv\n",
    "import matplotlib.pyplot as plt\n",
    "import platform\n",
    "\n",
    "with open('subwaytime.csv') as f:\n",
    "    data=csv.reader(f)\n",
    "    next(data)\n",
    "    next(data)\n",
    "    max=[0]*23\n",
    "    max_station=['']*23\n",
    "    xtick_list=[]\n",
    "    \n",
    "    for i in range(4, 27):\n",
    "        n=i%24\n",
    "        xtick_list.append(str(n))\n",
    "        \n",
    "    for row in data:\n",
    "        row[4:]=map(int, row[4:])\n",
    "        for j in range(23):\n",
    "            a=row[j*2+4]\n",
    "            if a>max[j]:\n",
    "                max[j]=a\n",
    "                max_station[j]=xtick_list[j]+'시 :'+row[3]\n",
    "    for i in range(len(max)):\n",
    "        print('{} : {:,}'.format(max_station[i], max[i]), end=', ')\n",
    "        if (i+1)%4==0:\n",
    "            print()"
   ]
  },
  {
   "cell_type": "code",
   "execution_count": null,
   "id": "56e178d8",
   "metadata": {},
   "outputs": [],
   "source": []
  }
 ],
 "metadata": {
  "kernelspec": {
   "display_name": "Python 3 (ipykernel)",
   "language": "python",
   "name": "python3"
  },
  "language_info": {
   "codemirror_mode": {
    "name": "ipython",
    "version": 3
   },
   "file_extension": ".py",
   "mimetype": "text/x-python",
   "name": "python",
   "nbconvert_exporter": "python",
   "pygments_lexer": "ipython3",
   "version": "3.9.12"
  }
 },
 "nbformat": 4,
 "nbformat_minor": 5
}
