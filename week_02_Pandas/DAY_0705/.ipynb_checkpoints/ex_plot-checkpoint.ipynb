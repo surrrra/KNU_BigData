{
 "cells": [
  {
   "cell_type": "markdown",
   "id": "f5c734ab",
   "metadata": {},
   "source": [
    "# 데이터 시각화\n",
    "\n",
    "- Pandas의 DF, SR의 내장 메서드 => plot() : Matplotlib 모듈 백그라운드 구동\n",
    "\n",
    "- 외부 패키지 Matplotlib 사용 => 설치 필요 : !pip install matplotlib"
   ]
  },
  {
   "cell_type": "code",
   "execution_count": 1,
   "id": "b720d9b5",
   "metadata": {},
   "outputs": [
    {
     "name": "stdout",
     "output_type": "stream",
     "text": [
      "Defaulting to user installation because normal site-packages is not writeable\n",
      "Requirement already satisfied: matplotlib in c:\\programdata\\anaconda3\\lib\\site-packages (3.5.1)\n",
      "Requirement already satisfied: cycler>=0.10 in c:\\programdata\\anaconda3\\lib\\site-packages (from matplotlib) (0.11.0)\n",
      "Requirement already satisfied: fonttools>=4.22.0 in c:\\programdata\\anaconda3\\lib\\site-packages (from matplotlib) (4.25.0)\n",
      "Requirement already satisfied: numpy>=1.17 in c:\\programdata\\anaconda3\\lib\\site-packages (from matplotlib) (1.21.5)\n",
      "Requirement already satisfied: pyparsing>=2.2.1 in c:\\programdata\\anaconda3\\lib\\site-packages (from matplotlib) (3.0.4)\n",
      "Requirement already satisfied: pillow>=6.2.0 in c:\\programdata\\anaconda3\\lib\\site-packages (from matplotlib) (9.0.1)\n",
      "Requirement already satisfied: packaging>=20.0 in c:\\programdata\\anaconda3\\lib\\site-packages (from matplotlib) (21.3)\n",
      "Requirement already satisfied: python-dateutil>=2.7 in c:\\programdata\\anaconda3\\lib\\site-packages (from matplotlib) (2.8.2)\n",
      "Requirement already satisfied: kiwisolver>=1.0.1 in c:\\programdata\\anaconda3\\lib\\site-packages (from matplotlib) (1.3.2)\n",
      "Requirement already satisfied: six>=1.5 in c:\\programdata\\anaconda3\\lib\\site-packages (from python-dateutil>=2.7->matplotlib) (1.16.0)\n"
     ]
    }
   ],
   "source": [
    "# 패키지 설치\n",
    "!pip install matplotlib"
   ]
  },
  {
   "cell_type": "code",
   "execution_count": 2,
   "id": "11e488f6",
   "metadata": {},
   "outputs": [],
   "source": [
    "# 모듈 로딩\n",
    "import matplotlib.pyplot as plt"
   ]
  },
  {
   "cell_type": "code",
   "execution_count": 3,
   "id": "40ee43f2",
   "metadata": {},
   "outputs": [],
   "source": [
    "# Matplotlib 한글 Font 설정\n",
    "from matplotlib import font_manager as fm, rc\n",
    "\n",
    "# 한글 폰트 설정\n",
    "font_path='../Fonts/malgun.ttf'\n",
    "font_name=fm.FontProperties(fname=font_path).get_name()\n",
    "rc('font', family=font_name)"
   ]
  },
  {
   "cell_type": "code",
   "execution_count": 4,
   "id": "41d9c837",
   "metadata": {},
   "outputs": [
    {
     "data": {
      "image/png": "[encoded data removed]",
      "text/plain": [
       "<Figure size 432x288 with 1 Axes>"
      ]
     },
     "metadata": {
      "needs_background": "light"
     },
     "output_type": "display_data"
    }
   ],
   "source": [
    "# 그래프 그리기 => plot(y_data)\n",
    "plt.plot([1, 2, 3, 4], 'b--')  # 하나만 주면 y축 데이터\n",
    "plt.plot([1, 2, 3, 4], [1, 2, 3, 4], 'g^')   # 그래프 2개 동시에 그리기 가능\n",
    "# 혹은 plt.plot([1, 2, 3, 4], [1, 2, 3, 4], 'g^', [1, 2, 3, 4], [11, 33, 55, 77], 'bo')\n",
    "#plt.plot([1, 2, 3, 4], [11, 22, 33, 44])  # 2개가 들어가면 앞에가 x, 뒤에가 y\n",
    "plt.ylabel('한글 된다')  # y축에 라벨  # 한글은 안 됨  # 한글 깔면 됨\n",
    "plt.xlabel('VALUE')  # x축 라벨\n",
    "plt.title('TEST MATPLOT')   # 전체 그래프 제목\n",
    "plt.legend('a')  # 범례\n",
    "plt.show()"
   ]
  },
  {
   "cell_type": "code",
   "execution_count": 13,
   "id": "4cee5deb",
   "metadata": {},
   "outputs": [
    {
     "data": {
      "image/png": "[encoded data removed]",
      "text/plain": [
       "<Figure size 432x288 with 3 Axes>"
      ]
     },
     "metadata": {
      "needs_background": "light"
     },
     "output_type": "display_data"
    }
   ],
   "source": [
    "# 여러 개 그래프를 하나에 넣기 => subplot()\n",
    "fig=plt.figure()\n",
    "\n",
    "ax1=fig.add_subplot(221)  # 2행2열1번\n",
    "ax1.set_title('LINE')\n",
    "ax1.plot([1, 2, 3, 4])\n",
    "\n",
    "ax2=fig.add_subplot(222)  # 2행2열2번\n",
    "ax2.set_title('BAR')\n",
    "ax2.bar([1, 2, 3, 4], [11, 22, 33, 44], color='b')\n",
    "\n",
    "ax3=fig.add_subplot(223)  # 2행2열3번\n",
    "ax3.set_title('LINE')\n",
    "ax3.plot([1, 2, 3, 4])\n",
    "\n",
    "# 여러 개 plot 간격 자동 조절\n",
    "fig.tight_layout()\n",
    "\n",
    "# 화면 출력\n",
    "plt.show()"
   ]
  },
  {
   "cell_type": "code",
   "execution_count": null,
   "id": "ccce29e7",
   "metadata": {},
   "outputs": [],
   "source": []
  }
 ],
 "metadata": {
  "kernelspec": {
   "display_name": "Python 3 (ipykernel)",
   "language": "python",
   "name": "python3"
  },
  "language_info": {
   "codemirror_mode": {
    "name": "ipython",
    "version": 3
   },
   "file_extension": ".py",
   "mimetype": "text/x-python",
   "name": "python",
   "nbconvert_exporter": "python",
   "pygments_lexer": "ipython3",
   "version": "3.9.12"
  }
 },
 "nbformat": 4,
 "nbformat_minor": 5
}
