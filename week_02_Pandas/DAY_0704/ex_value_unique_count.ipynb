{
 "cells": [
  {
   "cell_type": "markdown",
   "id": "5296f23f",
   "metadata": {},
   "source": [
    "# 데이터 개수와 고유값\n",
    "\n",
    "- 컬럼별 개수 ==> count() 메서드\n",
    "\n",
    "- 컬럼별 고유값 ==> unique() 메서드\n",
    "\n",
    "- 컬럼별 값별 개수 ==> value_counts() 메서드"
   ]
  },
  {
   "cell_type": "code",
   "execution_count": 51,
   "id": "0c783c1e",
   "metadata": {},
   "outputs": [],
   "source": [
    "# 모듈 로딩\n",
    "import pandas as pd"
   ]
  },
  {
   "cell_type": "code",
   "execution_count": 52,
   "id": "58b3b571",
   "metadata": {},
   "outputs": [],
   "source": [
    "# 파일 관련 변수 선언\n",
    "DIR_PATH='../Data/'\n",
    "FILE_NAME=DIR_PATH+'iris.csv'"
   ]
  },
  {
   "cell_type": "code",
   "execution_count": 53,
   "id": "e70a703f",
   "metadata": {},
   "outputs": [],
   "source": [
    "# (1) File ===> DataFrame으로 가져오기\n",
    "irisDF=pd.read_csv(FILE_NAME)"
   ]
  },
  {
   "cell_type": "code",
   "execution_count": 54,
   "id": "d1551ec5",
   "metadata": {},
   "outputs": [
    {
     "name": "stdout",
     "output_type": "stream",
     "text": [
      "<class 'pandas.core.frame.DataFrame'>\n",
      "RangeIndex: 150 entries, 0 to 149\n",
      "Data columns (total 5 columns):\n",
      " #   Column       Non-Null Count  Dtype  \n",
      "---  ------       --------------  -----  \n",
      " 0   SepalLength  150 non-null    float64\n",
      " 1   SepalWidth   150 non-null    float64\n",
      " 2   PetalLength  150 non-null    float64\n",
      " 3   PetalWidth   150 non-null    float64\n",
      " 4   Name         150 non-null    object \n",
      "dtypes: float64(4), object(1)\n",
      "memory usage: 6.0+ KB\n"
     ]
    }
   ],
   "source": [
    "# (1) 데이터 확인하기\n",
    "# DF 요약 정보 ==> info() 메서드\n",
    "irisDF.info()"
   ]
  },
  {
   "cell_type": "code",
   "execution_count": 55,
   "id": "0cf3b5e7",
   "metadata": {},
   "outputs": [
    {
     "data": {
      "text/plain": [
       "Index(['SepalLength', 'SepalWidth', 'PetalLength', 'PetalWidth', 'Name'], dtype='object')"
      ]
     },
     "execution_count": 55,
     "metadata": {},
     "output_type": "execute_result"
    }
   ],
   "source": [
    "# DF columns 정보 확인\n",
    "irisDF.columns"
   ]
  },
  {
   "cell_type": "code",
   "execution_count": 56,
   "id": "33630984",
   "metadata": {},
   "outputs": [
    {
     "data": {
      "text/plain": [
       "((150, 5), 2)"
      ]
     },
     "execution_count": 56,
     "metadata": {},
     "output_type": "execute_result"
    }
   ],
   "source": [
    "# DF shape, ndim 정보 확인\n",
    "irisDF.shape, irisDF.ndim"
   ]
  },
  {
   "cell_type": "code",
   "execution_count": 57,
   "id": "ef33767e",
   "metadata": {},
   "outputs": [],
   "source": [
    "# (2) 원하는 작업 수행\n",
    "# 'Name' 컬럼 추출\n",
    "irisDF_Name=irisDF['Name']"
   ]
  },
  {
   "cell_type": "code",
   "execution_count": 58,
   "id": "7b6b7383",
   "metadata": {},
   "outputs": [
    {
     "data": {
      "text/plain": [
       "150"
      ]
     },
     "execution_count": 58,
     "metadata": {},
     "output_type": "execute_result"
    }
   ],
   "source": [
    "# 'Name' 컬럼의 총 데이터 개수\n",
    "irisDF_Name.count()"
   ]
  },
  {
   "cell_type": "code",
   "execution_count": 59,
   "id": "d770cd04",
   "metadata": {},
   "outputs": [
    {
     "data": {
      "text/plain": [
       "array(['Iris-setosa', 'Iris-versicolor', 'Iris-virginica'], dtype=object)"
      ]
     },
     "execution_count": 59,
     "metadata": {},
     "output_type": "execute_result"
    }
   ],
   "source": [
    "# 'Name' 컬럼의 고유값 -> 값의 종류\n",
    "irisDF_Name.unique()"
   ]
  },
  {
   "cell_type": "code",
   "execution_count": 60,
   "id": "ca904adf",
   "metadata": {},
   "outputs": [
    {
     "data": {
      "text/plain": [
       "Iris-setosa        50\n",
       "Iris-versicolor    50\n",
       "Iris-virginica     50\n",
       "Name: Name, dtype: int64"
      ]
     },
     "execution_count": 60,
     "metadata": {},
     "output_type": "execute_result"
    }
   ],
   "source": [
    "# 'Name' 컬럼의 값의 개수\n",
    "irisDF_Name.value_counts()"
   ]
  },
  {
   "cell_type": "code",
   "execution_count": 61,
   "id": "54dd1f82",
   "metadata": {},
   "outputs": [
    {
     "name": "stdout",
     "output_type": "stream",
     "text": [
      "데이터 개수 \n",
      "=> 150\n",
      "\n",
      "값의 종류 \n",
      "=> [5.1 4.9 4.7 4.6 5.  5.4 4.4 4.8 4.3 5.8 5.7 5.2 5.5 4.5 5.3 7.  6.4 6.9\n",
      " 6.5 6.3 6.6 5.9 6.  6.1 5.6 6.7 6.2 6.8 7.1 7.6 7.3 7.2 7.7 7.4 7.9]\n",
      "\n",
      "값의 개수 \n",
      "=> 5.0    10\n",
      "5.1     9\n",
      "6.3     9\n",
      "5.7     8\n",
      "6.7     8\n",
      "5.8     7\n",
      "5.5     7\n",
      "6.4     7\n",
      "4.9     6\n",
      "5.4     6\n",
      "6.1     6\n",
      "6.0     6\n",
      "5.6     6\n",
      "4.8     5\n",
      "6.5     5\n",
      "6.2     4\n",
      "7.7     4\n",
      "6.9     4\n",
      "4.6     4\n",
      "5.2     4\n",
      "5.9     3\n",
      "4.4     3\n",
      "7.2     3\n",
      "6.8     3\n",
      "6.6     2\n",
      "4.7     2\n",
      "7.6     1\n",
      "7.4     1\n",
      "7.3     1\n",
      "7.0     1\n",
      "7.1     1\n",
      "5.3     1\n",
      "4.3     1\n",
      "4.5     1\n",
      "7.9     1\n",
      "Name: SepalLength, dtype: int64\n",
      "\n"
     ]
    }
   ],
   "source": [
    "# 'SepalLength' 컬럼의 데이터 개수, 값의 종류, 값의 개수 출력\n",
    "iris_SepalLength=irisDF['SepalLength']\n",
    "print(f'데이터 개수 \\n=> {iris_SepalLength.count()}\\n')\n",
    "print(f'값의 종류 \\n=> {iris_SepalLength.unique()}\\n')\n",
    "print(f'값의 개수 \\n=> {iris_SepalLength.value_counts()}\\n')"
   ]
  },
  {
   "cell_type": "code",
   "execution_count": 62,
   "id": "e2ba8df0",
   "metadata": {},
   "outputs": [
    {
     "data": {
      "text/plain": [
       "10"
      ]
     },
     "execution_count": 62,
     "metadata": {},
     "output_type": "execute_result"
    }
   ],
   "source": [
    "# Series 객체 안에서 최대 큰 값\n",
    "iris_SepalLength.value_counts().max()"
   ]
  },
  {
   "cell_type": "code",
   "execution_count": 63,
   "id": "20a5d365",
   "metadata": {},
   "outputs": [
    {
     "data": {
      "text/plain": [
       "0"
      ]
     },
     "execution_count": 63,
     "metadata": {},
     "output_type": "execute_result"
    }
   ],
   "source": [
    "# max 값을 가지는 행의 '인덱스 값' 반환\n",
    "# Series 객체 안에서 최댓값이 존재하는 인덱스\n",
    "max_index=iris_SepalLength.value_counts().argmax()\n",
    "max_index"
   ]
  },
  {
   "cell_type": "code",
   "execution_count": 64,
   "id": "583683a4",
   "metadata": {},
   "outputs": [
    {
     "data": {
      "text/plain": [
       "Float64Index([5.0, 5.1, 6.3, 5.7, 6.7, 5.8, 5.5, 6.4, 4.9, 5.4, 6.1, 6.0, 5.6,\n",
       "              4.8, 6.5, 6.2, 7.7, 6.9, 4.6, 5.2, 5.9, 4.4, 7.2, 6.8, 6.6, 4.7,\n",
       "              7.6, 7.4, 7.3, 7.0, 7.1, 5.3, 4.3, 4.5, 7.9],\n",
       "             dtype='float64')"
      ]
     },
     "execution_count": 64,
     "metadata": {},
     "output_type": "execute_result"
    }
   ],
   "source": [
    "iris_SepalLength.value_counts().index"
   ]
  },
  {
   "cell_type": "code",
   "execution_count": 65,
   "id": "f428c6b2",
   "metadata": {},
   "outputs": [
    {
     "data": {
      "text/plain": [
       "5.0"
      ]
     },
     "execution_count": 65,
     "metadata": {},
     "output_type": "execute_result"
    }
   ],
   "source": [
    "# Series 객체 안에서 최댓값이 존재하는 인덱스 라벨\n",
    "iris_SepalLength.value_counts().index[max_index]"
   ]
  },
  {
   "cell_type": "code",
   "execution_count": 68,
   "id": "d14a50f1",
   "metadata": {},
   "outputs": [
    {
     "data": {
      "text/plain": [
       "5.0    10\n",
       "5.1     9\n",
       "6.3     9\n",
       "5.7     8\n",
       "6.7     8\n",
       "5.8     7\n",
       "5.5     7\n",
       "6.4     7\n",
       "4.9     6\n",
       "5.4     6\n",
       "6.1     6\n",
       "6.0     6\n",
       "5.6     6\n",
       "4.8     5\n",
       "6.5     5\n",
       "6.2     4\n",
       "7.7     4\n",
       "6.9     4\n",
       "4.6     4\n",
       "5.2     4\n",
       "5.9     3\n",
       "4.4     3\n",
       "7.2     3\n",
       "6.8     3\n",
       "6.6     2\n",
       "4.7     2\n",
       "7.6     1\n",
       "7.4     1\n",
       "7.3     1\n",
       "7.0     1\n",
       "7.1     1\n",
       "5.3     1\n",
       "4.3     1\n",
       "4.5     1\n",
       "7.9     1\n",
       "Name: SepalLength, dtype: int64"
      ]
     },
     "execution_count": 68,
     "metadata": {},
     "output_type": "execute_result"
    }
   ],
   "source": [
    "irisDF['SepalLength'].value_counts()"
   ]
  },
  {
   "cell_type": "code",
   "execution_count": null,
   "id": "39e444fb",
   "metadata": {},
   "outputs": [],
   "source": []
  }
 ],
 "metadata": {
  "kernelspec": {
   "display_name": "Python 3 (ipykernel)",
   "language": "python",
   "name": "python3"
  },
  "language_info": {
   "codemirror_mode": {
    "name": "ipython",
    "version": 3
   },
   "file_extension": ".py",
   "mimetype": "text/x-python",
   "name": "python",
   "nbconvert_exporter": "python",
   "pygments_lexer": "ipython3",
   "version": "3.9.12"
  }
 },
 "nbformat": 4,
 "nbformat_minor": 5
}
