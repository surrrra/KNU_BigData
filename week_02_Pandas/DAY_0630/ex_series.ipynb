{
 "cells": [
  {
   "cell_type": "markdown",
   "id": "2957870f",
   "metadata": {},
   "source": [
    "# 시리즈(Series) 타입 실습 -------------------------\n",
    "- Pandas의 1종류(1차원 배열/세로 벡터) 데이터를 저장하는 데이터 타입(Type)\n",
    "- 생성 : Series 객체 생성"
   ]
  },
  {
   "cell_type": "code",
   "execution_count": 6,
   "id": "fad81cb6",
   "metadata": {},
   "outputs": [],
   "source": [
    "# 모듈 로딩\n",
    "import pandas as pd\n",
    "\n",
    "# Series 객체 생성\n",
    "sr=pd.Series([1, 2, 3, 4])"
   ]
  },
  {
   "cell_type": "code",
   "execution_count": 7,
   "id": "9131bdf2",
   "metadata": {},
   "outputs": [
    {
     "data": {
      "text/plain": [
       "0    1\n",
       "1    2\n",
       "2    3\n",
       "3    4\n",
       "dtype: int64"
      ]
     },
     "execution_count": 7,
     "metadata": {},
     "output_type": "execute_result"
    }
   ],
   "source": [
    "# 생성된 Series 객체 데이터 확인하기\n",
    "sr.index"
   ]
  },
  {
   "cell_type": "code",
   "execution_count": 8,
   "id": "b146b7fb",
   "metadata": {},
   "outputs": [
    {
     "data": {
      "text/plain": [
       "RangeIndex(start=0, stop=4, step=1)"
      ]
     },
     "execution_count": 8,
     "metadata": {},
     "output_type": "execute_result"
    }
   ],
   "source": [
    "# Series 객체의 속성 Attribute 확인 => 객체변수명.속성명\n",
    "# index 속성\n",
    "sr.index"
   ]
  },
  {
   "cell_type": "code",
   "execution_count": 9,
   "id": "d0bd6c44",
   "metadata": {},
   "outputs": [
    {
     "data": {
      "text/plain": [
       "array([1, 2, 3, 4], dtype=int64)"
      ]
     },
     "execution_count": 9,
     "metadata": {},
     "output_type": "execute_result"
    }
   ],
   "source": [
    "# 값 속성\n",
    "sr.values"
   ]
  },
  {
   "cell_type": "code",
   "execution_count": 10,
   "id": "bcfa9868",
   "metadata": {},
   "outputs": [
    {
     "data": {
      "text/plain": [
       "1"
      ]
     },
     "execution_count": 10,
     "metadata": {},
     "output_type": "execute_result"
    }
   ],
   "source": [
    "# 차원(dimension)\n",
    "sr.ndim"
   ]
  },
  {
   "cell_type": "code",
   "execution_count": 11,
   "id": "76c28b08",
   "metadata": {},
   "outputs": [
    {
     "data": {
      "text/plain": [
       "(4,)"
      ]
     },
     "execution_count": 11,
     "metadata": {},
     "output_type": "execute_result"
    }
   ],
   "source": [
    "# 형(shape) 속성\n",
    "sr.shape"
   ]
  },
  {
   "cell_type": "code",
   "execution_count": 13,
   "id": "26caeb72",
   "metadata": {},
   "outputs": [
    {
     "data": {
      "text/plain": [
       "(32, 4)"
      ]
     },
     "execution_count": 13,
     "metadata": {},
     "output_type": "execute_result"
    }
   ],
   "source": [
    "# 실제 사용 메모리 byte / 데이터 개수\n",
    "sr.nbytes, sr.size"
   ]
  },
  {
   "cell_type": "code",
   "execution_count": 14,
   "id": "fc92f289",
   "metadata": {},
   "outputs": [
    {
     "data": {
      "text/plain": [
       "0      1\n",
       "1      4\n",
       "2      A\n",
       "3    4.5\n",
       "dtype: object"
      ]
     },
     "execution_count": 14,
     "metadata": {},
     "output_type": "execute_result"
    }
   ],
   "source": [
    "# 여러 타입의 데이터로 Series 객체 생성\n",
    "sr2=pd.Series([1, 4, 'A', 4.5])\n",
    "sr2"
   ]
  },
  {
   "cell_type": "code",
   "execution_count": 19,
   "id": "47e615a3",
   "metadata": {},
   "outputs": [
    {
     "name": "stdout",
     "output_type": "stream",
     "text": [
      "index => RangeIndex(start=0, stop=4, step=1)\n",
      "values => [1 4 'A' 4.5] | values type => <class 'numpy.ndarray'>\n",
      "array => <PandasArray>\n",
      "[1, 4, 'A', 4.5]\n",
      "Length: 4, dtype: object\n",
      "0      1\n",
      "1      4\n",
      "2      A\n",
      "3    4.5\n",
      "dtype: object\n"
     ]
    }
   ],
   "source": [
    "# Series 객체 속성 읽기\n",
    "print(f'index => {sr2.index}')\n",
    "print(f'values => {sr2.values} | values type => {type(sr2.values)}')\n",
    "print(f'array => {sr2.array}')\n",
    "print(sr2)"
   ]
  },
  {
   "cell_type": "code",
   "execution_count": 22,
   "id": "1d9d5fc6",
   "metadata": {},
   "outputs": [
    {
     "data": {
      "text/plain": [
       "name     HONG\n",
       "age        12\n",
       "loc     Daegu\n",
       "dtype: object"
      ]
     },
     "execution_count": 22,
     "metadata": {},
     "output_type": "execute_result"
    }
   ],
   "source": [
    "# Dict 데이터로 Series 객체 생성\n",
    "sr3=pd.Series({'name':'HONG', 'age':12, 'loc':'Daegu'})\n",
    "sr3\n",
    "\n",
    "# 키가 인덱스로 들어감"
   ]
  },
  {
   "cell_type": "code",
   "execution_count": 24,
   "id": "0d7502dc",
   "metadata": {},
   "outputs": [
    {
     "data": {
      "text/plain": [
       "하나    a\n",
       "둘     b\n",
       "셋     c\n",
       "dtype: object"
      ]
     },
     "execution_count": 24,
     "metadata": {},
     "output_type": "execute_result"
    }
   ],
   "source": [
    "# Series 객체 생성, index 임의 설정\n",
    "sr=pd.Series(['a', 'b', 'c'], index=['하나','둘', '셋'])\n",
    "sr"
   ]
  },
  {
   "cell_type": "code",
   "execution_count": 28,
   "id": "e6c4d0d3",
   "metadata": {},
   "outputs": [
    {
     "data": {
      "text/plain": [
       "0    a\n",
       "1    b\n",
       "2    c\n",
       "dtype: object"
      ]
     },
     "execution_count": 28,
     "metadata": {},
     "output_type": "execute_result"
    }
   ],
   "source": [
    "sr2=pd.Series(['a', 'b', 'c'])\n",
    "sr2"
   ]
  },
  {
   "cell_type": "code",
   "execution_count": 30,
   "id": "28c68053",
   "metadata": {},
   "outputs": [
    {
     "data": {
      "text/plain": [
       "11    a\n",
       "22    b\n",
       "33    c\n",
       "dtype: object"
      ]
     },
     "execution_count": 30,
     "metadata": {},
     "output_type": "execute_result"
    }
   ],
   "source": [
    "# 인덱스 새로운 값으로 설정 => 객체변수명, 속성명=새로운값\n",
    "sr2.index=[11, 22, 33]\n",
    "sr2"
   ]
  },
  {
   "cell_type": "markdown",
   "id": "a4cd5345",
   "metadata": {},
   "source": [
    "# 시리즈(Series) 객체의 원소/요소 다루기\n",
    "\n",
    "- 방법\n",
    "  - 시리즈 객체[인덱스 번호]\n",
    "  - 시리즈 객체[인덱스 라벨]"
   ]
  },
  {
   "cell_type": "code",
   "execution_count": 31,
   "id": "e993edf7",
   "metadata": {},
   "outputs": [
    {
     "data": {
      "text/plain": [
       "Int64Index([11, 22, 33], dtype='int64')"
      ]
     },
     "execution_count": 31,
     "metadata": {},
     "output_type": "execute_result"
    }
   ],
   "source": [
    "# 1번 원소 읽기\n",
    "sr2.index  # 현재 sr2의 인덱스 확인"
   ]
  },
  {
   "cell_type": "code",
   "execution_count": 35,
   "id": "8bc1f66b",
   "metadata": {},
   "outputs": [
    {
     "data": {
      "text/plain": [
       "'b'"
      ]
     },
     "execution_count": 35,
     "metadata": {},
     "output_type": "execute_result"
    }
   ],
   "source": [
    "sr2[22]"
   ]
  },
  {
   "cell_type": "code",
   "execution_count": 36,
   "id": "8ab56e0c",
   "metadata": {},
   "outputs": [
    {
     "data": {
      "text/plain": [
       "Index(['one', 'two', 'three'], dtype='object')"
      ]
     },
     "execution_count": 36,
     "metadata": {},
     "output_type": "execute_result"
    }
   ],
   "source": [
    "# 문자형 인덱스로 새롭게 설정   => 정수형과 문자형이 같이 존재함\n",
    "sr2.index=['one', 'two', 'three']\n",
    "sr2.index"
   ]
  },
  {
   "cell_type": "code",
   "execution_count": 39,
   "id": "1dd4a2a8",
   "metadata": {},
   "outputs": [
    {
     "data": {
      "text/plain": [
       "('b', 'b', 'c', 'c')"
      ]
     },
     "execution_count": 39,
     "metadata": {},
     "output_type": "execute_result"
    }
   ],
   "source": [
    "sr2['two'], sr2[1], sr2['three'], sr2[2]"
   ]
  },
  {
   "cell_type": "code",
   "execution_count": 42,
   "id": "7f12564d",
   "metadata": {},
   "outputs": [
    {
     "data": {
      "text/plain": [
       "name    Hong\n",
       "age       12\n",
       "dtype: object"
      ]
     },
     "execution_count": 42,
     "metadata": {},
     "output_type": "execute_result"
    }
   ],
   "source": [
    "sr3=pd.Series({'name':'Hong', 'age':12})\n",
    "sr3"
   ]
  },
  {
   "cell_type": "code",
   "execution_count": 43,
   "id": "a2199039",
   "metadata": {},
   "outputs": [
    {
     "data": {
      "text/plain": [
       "Index(['name', 'age'], dtype='object')"
      ]
     },
     "execution_count": 43,
     "metadata": {},
     "output_type": "execute_result"
    }
   ],
   "source": [
    "sr3.index"
   ]
  },
  {
   "cell_type": "code",
   "execution_count": 45,
   "id": "ad1e63a9",
   "metadata": {},
   "outputs": [
    {
     "data": {
      "text/plain": [
       "(12, 'Hong')"
      ]
     },
     "execution_count": 45,
     "metadata": {},
     "output_type": "execute_result"
    }
   ],
   "source": [
    "sr3['age'], sr3['name']"
   ]
  },
  {
   "cell_type": "code",
   "execution_count": 46,
   "id": "805bf1ca",
   "metadata": {},
   "outputs": [
    {
     "data": {
      "text/plain": [
       "('Hong', 12)"
      ]
     },
     "execution_count": 46,
     "metadata": {},
     "output_type": "execute_result"
    }
   ],
   "source": [
    "sr3[0], sr3[1]   # 딕셔너리로 시리즈 만들었을 때 인덱스에 정수 넣어도 부를 수 있음"
   ]
  },
  {
   "cell_type": "code",
   "execution_count": 47,
   "id": "7c91aacc",
   "metadata": {},
   "outputs": [
    {
     "data": {
      "text/plain": [
       "0    2022-06-30\n",
       "1        Pandas\n",
       "2          True\n",
       "3          4.55\n",
       "4       No Work\n",
       "dtype: object"
      ]
     },
     "execution_count": 47,
     "metadata": {},
     "output_type": "execute_result"
    }
   ],
   "source": [
    "sr4=pd.Series(('2022-06-30', 'Pandas', True, 4.55, 'No Work'))"
   ]
  },
  {
   "cell_type": "code",
   "execution_count": 48,
   "id": "2ed6c238",
   "metadata": {},
   "outputs": [],
   "source": [
    "sr4.index=['날짜', '과목', '불린', '실수', '희망사항']"
   ]
  },
  {
   "cell_type": "code",
   "execution_count": 49,
   "id": "0a0dd639",
   "metadata": {},
   "outputs": [
    {
     "data": {
      "text/plain": [
       "날짜      2022-06-30\n",
       "과목          Pandas\n",
       "불린            True\n",
       "실수            4.55\n",
       "희망사항       No Work\n",
       "dtype: object"
      ]
     },
     "execution_count": 49,
     "metadata": {},
     "output_type": "execute_result"
    }
   ],
   "source": [
    "sr4"
   ]
  },
  {
   "cell_type": "code",
   "execution_count": 59,
   "id": "6ee45075",
   "metadata": {},
   "outputs": [
    {
     "name": "stdout",
     "output_type": "stream",
     "text": [
      "2022-06-30 4.55 No Work\n",
      "2022-06-30 4.55 No Work\n",
      "날짜      2022-06-30\n",
      "실수            4.55\n",
      "희망사항       No Work\n",
      "dtype: object <class 'pandas.core.series.Series'>\n",
      "<class 'str'> <class 'float'> <class 'str'>\n"
     ]
    }
   ],
   "source": [
    "# (1) 0번 요소, 3번 요소, 4번 요소 읽어서 출력\n",
    "print(sr4[0], sr4[3], sr4[4])\n",
    "\n",
    "print(sr4['날짜'], sr4['실수'], sr4['희망사항'])\n",
    "\n",
    "print(sr4[[0, 3, 4]], type(sr4[[0, 3, 4]]))\n",
    "\n",
    "print(type(sr4[0]), type(sr4[3]), type(sr4[4]))"
   ]
  },
  {
   "cell_type": "code",
   "execution_count": 61,
   "id": "210ced35",
   "metadata": {},
   "outputs": [
    {
     "name": "stdout",
     "output_type": "stream",
     "text": [
      "과목       Pandas\n",
      "불린         True\n",
      "실수         4.55\n",
      "희망사항    No Work\n",
      "dtype: object\n",
      "과목       Pandas\n",
      "불린         True\n",
      "실수         4.55\n",
      "희망사항    No Work\n",
      "dtype: object\n"
     ]
    }
   ],
   "source": [
    "# (2) 1번 요소부터 끝까지 요소값 출력\n",
    "print(sr4[1:])\n",
    "print(sr4['과목':])"
   ]
  },
  {
   "cell_type": "code",
   "execution_count": 62,
   "id": "9001a943",
   "metadata": {},
   "outputs": [
    {
     "name": "stdout",
     "output_type": "stream",
     "text": [
      "과목    Pandas\n",
      "불린      True\n",
      "실수      4.55\n",
      "dtype: object\n",
      "과목       Pandas\n",
      "불린         True\n",
      "실수         4.55\n",
      "희망사항    No Work\n",
      "dtype: object\n"
     ]
    }
   ],
   "source": [
    "# (3) 1번 요소부터 3번 요소까지 요소값 출력\n",
    "print(sr4[1:4])\n",
    "print(sr4['과목':'희망사항'])   # 인덱스는 끝 값을 포함하지 않지만, 인덱스 라벨을 쓰면 끝 라벨이 포함이 되니까 주의\n"
   ]
  },
  {
   "cell_type": "code",
   "execution_count": null,
   "id": "9021466b",
   "metadata": {},
   "outputs": [],
   "source": []
  }
 ],
 "metadata": {
  "kernelspec": {
   "display_name": "Python 3 (ipykernel)",
   "language": "python",
   "name": "python3"
  },
  "language_info": {
   "codemirror_mode": {
    "name": "ipython",
    "version": 3
   },
   "file_extension": ".py",
   "mimetype": "text/x-python",
   "name": "python",
   "nbconvert_exporter": "python",
   "pygments_lexer": "ipython3",
   "version": "3.9.12"
  }
 },
 "nbformat": 4,
 "nbformat_minor": 5
}
