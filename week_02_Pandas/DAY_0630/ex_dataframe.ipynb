{
 "cells": [
  {
   "cell_type": "markdown",
   "id": "6ded131d",
   "metadata": {},
   "source": [
    "# 데이터프레임(DataFrame) 실습 ----------------------\n",
    "\n",
    "- 시리즈(Series) 객체가 2개 이상 합쳐진 pandas의 데이터 타입\n",
    "- 구성 : 로우(행) 인덱스 + 컬럼(열) 라벨"
   ]
  },
  {
   "cell_type": "markdown",
   "id": "2ae35e8c",
   "metadata": {},
   "source": [
    "행(row) : Entry, Instance"
   ]
  },
  {
   "cell_type": "code",
   "execution_count": 4,
   "id": "ddba0413",
   "metadata": {},
   "outputs": [
    {
     "data": {
      "text/html": [
       "<div>\n",
       "<style scoped>\n",
       "    .dataframe tbody tr th:only-of-type {\n",
       "        vertical-align: middle;\n",
       "    }\n",
       "\n",
       "    .dataframe tbody tr th {\n",
       "        vertical-align: top;\n",
       "    }\n",
       "\n",
       "    .dataframe thead th {\n",
       "        text-align: right;\n",
       "    }\n",
       "</style>\n",
       "<table border=\"1\" class=\"dataframe\">\n",
       "  <thead>\n",
       "    <tr style=\"text-align: right;\">\n",
       "      <th></th>\n",
       "      <th>0</th>\n",
       "      <th>1</th>\n",
       "      <th>2</th>\n",
       "    </tr>\n",
       "  </thead>\n",
       "  <tbody>\n",
       "    <tr>\n",
       "      <th>0</th>\n",
       "      <td>1</td>\n",
       "      <td>2</td>\n",
       "      <td>3</td>\n",
       "    </tr>\n",
       "    <tr>\n",
       "      <th>1</th>\n",
       "      <td>a</td>\n",
       "      <td>b</td>\n",
       "      <td>c</td>\n",
       "    </tr>\n",
       "  </tbody>\n",
       "</table>\n",
       "</div>"
      ],
      "text/plain": [
       "   0  1  2\n",
       "0  1  2  3\n",
       "1  a  b  c"
      ]
     },
     "execution_count": 4,
     "metadata": {},
     "output_type": "execute_result"
    }
   ],
   "source": [
    "# 모듈 로딩\n",
    "import pandas as pd\n",
    "\n",
    "datas=[1, 2, 3,[11, 22]]\n",
    "datas[3][1]\n",
    "\n",
    "datas=[[1, 2, 3], ['a', 'b', 'c']]\n",
    "df=pd.DataFrame(datas)\n",
    "df"
   ]
  },
  {
   "cell_type": "code",
   "execution_count": 5,
   "id": "95c64a50",
   "metadata": {},
   "outputs": [
    {
     "name": "stdout",
     "output_type": "stream",
     "text": [
      "RangeIndex(start=0, stop=2, step=1)\n",
      "RangeIndex(start=0, stop=3, step=1)\n",
      "[[1 2 3]\n",
      " ['a' 'b' 'c']]\n",
      "6\n",
      "2\n",
      "(2, 3)\n"
     ]
    }
   ],
   "source": [
    "# DataFrame의 속성 읽기\n",
    "print(df.index, df.columns, df.values, df.size, df.ndim, df.shape, sep='\\n')"
   ]
  },
  {
   "cell_type": "code",
   "execution_count": 6,
   "id": "673b350c",
   "metadata": {},
   "outputs": [
    {
     "name": "stdout",
     "output_type": "stream",
     "text": [
      "<class 'pandas.core.frame.DataFrame'>\n",
      "RangeIndex: 2 entries, 0 to 1\n",
      "Data columns (total 3 columns):\n",
      " #   Column  Non-Null Count  Dtype \n",
      "---  ------  --------------  ----- \n",
      " 0   0       2 non-null      object\n",
      " 1   1       2 non-null      object\n",
      " 2   2       2 non-null      object\n",
      "dtypes: object(3)\n",
      "memory usage: 176.0+ bytes\n"
     ]
    }
   ],
   "source": [
    "df.info()   # entry는 row랑 같음  /  feature는 columns과 같음"
   ]
  },
  {
   "cell_type": "code",
   "execution_count": 7,
   "id": "16b11be5",
   "metadata": {},
   "outputs": [
    {
     "data": {
      "text/html": [
       "<div>\n",
       "<style scoped>\n",
       "    .dataframe tbody tr th:only-of-type {\n",
       "        vertical-align: middle;\n",
       "    }\n",
       "\n",
       "    .dataframe tbody tr th {\n",
       "        vertical-align: top;\n",
       "    }\n",
       "\n",
       "    .dataframe thead th {\n",
       "        text-align: right;\n",
       "    }\n",
       "</style>\n",
       "<table border=\"1\" class=\"dataframe\">\n",
       "  <thead>\n",
       "    <tr style=\"text-align: right;\">\n",
       "      <th></th>\n",
       "      <th>name</th>\n",
       "      <th>age</th>\n",
       "      <th>loc</th>\n",
       "      <th>Gen</th>\n",
       "    </tr>\n",
       "  </thead>\n",
       "  <tbody>\n",
       "    <tr>\n",
       "      <th>0</th>\n",
       "      <td>Hong</td>\n",
       "      <td>12</td>\n",
       "      <td>Daegu</td>\n",
       "      <td>F</td>\n",
       "    </tr>\n",
       "    <tr>\n",
       "      <th>1</th>\n",
       "      <td>Lee</td>\n",
       "      <td>5</td>\n",
       "      <td>Busan</td>\n",
       "      <td>M</td>\n",
       "    </tr>\n",
       "  </tbody>\n",
       "</table>\n",
       "</div>"
      ],
      "text/plain": [
       "   name  age    loc Gen\n",
       "0  Hong   12  Daegu   F\n",
       "1   Lee    5  Busan   M"
      ]
     },
     "execution_count": 7,
     "metadata": {},
     "output_type": "execute_result"
    }
   ],
   "source": [
    "# Dict 데이터로 DataFrame 객체 생성하기\n",
    "df2=pd.DataFrame({'name':['Hong', 'Lee'], 'age':[12, 5], 'loc':['Daegu', 'Busan'], 'Gen':['F', 'M']})\n",
    "df2    # 리스트는 가로로 들어가고 딕셔너리는 세로로 들어감"
   ]
  },
  {
   "cell_type": "code",
   "execution_count": 8,
   "id": "435b93a5",
   "metadata": {},
   "outputs": [
    {
     "name": "stdout",
     "output_type": "stream",
     "text": [
      "<class 'pandas.core.frame.DataFrame'>\n",
      "RangeIndex: 2 entries, 0 to 1\n",
      "Data columns (total 4 columns):\n",
      " #   Column  Non-Null Count  Dtype \n",
      "---  ------  --------------  ----- \n",
      " 0   name    2 non-null      object\n",
      " 1   age     2 non-null      int64 \n",
      " 2   loc     2 non-null      object\n",
      " 3   Gen     2 non-null      object\n",
      "dtypes: int64(1), object(3)\n",
      "memory usage: 192.0+ bytes\n"
     ]
    }
   ],
   "source": [
    "df2.info()"
   ]
  },
  {
   "cell_type": "code",
   "execution_count": 10,
   "id": "661c0368",
   "metadata": {},
   "outputs": [
    {
     "name": "stdout",
     "output_type": "stream",
     "text": [
      "Busan\n"
     ]
    }
   ],
   "source": [
    "# DataFrame 객체에서 Busan 빼오기\n",
    "print(df2['loc'][1])"
   ]
  },
  {
   "cell_type": "code",
   "execution_count": null,
   "id": "7ee761d4",
   "metadata": {},
   "outputs": [],
   "source": []
  }
 ],
 "metadata": {
  "kernelspec": {
   "display_name": "Python 3 (ipykernel)",
   "language": "python",
   "name": "python3"
  },
  "language_info": {
   "codemirror_mode": {
    "name": "ipython",
    "version": 3
   },
   "file_extension": ".py",
   "mimetype": "text/x-python",
   "name": "python",
   "nbconvert_exporter": "python",
   "pygments_lexer": "ipython3",
   "version": "3.9.12"
  }
 },
 "nbformat": 4,
 "nbformat_minor": 5
}
