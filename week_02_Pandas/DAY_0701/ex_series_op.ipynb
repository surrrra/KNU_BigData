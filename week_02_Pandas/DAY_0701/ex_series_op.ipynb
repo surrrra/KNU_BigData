{
 "cells": [
  {
   "cell_type": "markdown",
   "id": "bc9090ae",
   "metadata": {},
   "source": [
    "# Series 객체와 숫자 연산 수행\n",
    "\n",
    "- Series 객체의 모든 원소에 숫자 연산 적용 => 브로드캐스팅"
   ]
  },
  {
   "cell_type": "code",
   "execution_count": 1,
   "id": "7d9f628f",
   "metadata": {},
   "outputs": [
    {
     "data": {
      "text/plain": [
       "0    10\n",
       "1    20\n",
       "2    30\n",
       "3    40\n",
       "dtype: int64"
      ]
     },
     "execution_count": 1,
     "metadata": {},
     "output_type": "execute_result"
    }
   ],
   "source": [
    "# 모듈 로딩\n",
    "import pandas as pd\n",
    "\n",
    "# Series 객체 생성\n",
    "sr=pd.Series([10, 20, 30, 40])\n",
    "\n",
    "# Series 객체 데이터 확인\n",
    "sr"
   ]
  },
  {
   "cell_type": "code",
   "execution_count": 3,
   "id": "d974eeec",
   "metadata": {},
   "outputs": [
    {
     "name": "stdout",
     "output_type": "stream",
     "text": [
      "result => \n",
      "0    15\n",
      "1    25\n",
      "2    35\n",
      "3    45\n",
      "dtype: int64\n",
      "\n",
      "resulttype => \n",
      "<class 'pandas.core.series.Series'>\n"
     ]
    }
   ],
   "source": [
    "# 숫자 데이터와 연산 수행\n",
    "result=sr+5\n",
    "print(f'result => \\n{result}\\n', f'resulttype => \\n{type(result)}', sep='\\n')"
   ]
  },
  {
   "cell_type": "code",
   "execution_count": 9,
   "id": "31b49fd4",
   "metadata": {},
   "outputs": [
    {
     "name": "stdout",
     "output_type": "stream",
     "text": [
      "sr.index => \n",
      "Index(['국어', '영어', '수학'], dtype='object')\n",
      "\n",
      "sr2.index => \n",
      "Index(['수학', '국어', '영어'], dtype='object')\n",
      "\n",
      "sr3.index => \n",
      "Index(['국어', '영어'], dtype='object')\n",
      "\n"
     ]
    }
   ],
   "source": [
    "# Series 객체 + Series 객체 연산 수행\n",
    "sr1=pd.Series({'국어':90,'영어':100,'수학':88})\n",
    "sr2=pd.Series({'수학':70, '국어':90, '영어':50})\n",
    "sr3=pd.Series({'국어':90, '영어':50})\n",
    "\n",
    "print(f'sr.index => \\n{sr1.index}\\n', f'sr2.index => \\n{sr2.index}\\n', sep='\\n')\n",
    "print(f'sr3.index => \\n{sr3.index}\\n', sep='\\n')"
   ]
  },
  {
   "cell_type": "code",
   "execution_count": 5,
   "id": "446d3682",
   "metadata": {},
   "outputs": [],
   "source": [
    "# 인덱스 정렬 후 동일 인덱스끼리 연산 수행\n",
    "result=sr1+sr2"
   ]
  },
  {
   "cell_type": "code",
   "execution_count": 6,
   "id": "506d8a0d",
   "metadata": {},
   "outputs": [
    {
     "data": {
      "text/plain": [
       "국어    180\n",
       "수학    158\n",
       "영어    150\n",
       "dtype: int64"
      ]
     },
     "execution_count": 6,
     "metadata": {},
     "output_type": "execute_result"
    }
   ],
   "source": [
    "result"
   ]
  },
  {
   "cell_type": "code",
   "execution_count": 10,
   "id": "c97f3eec",
   "metadata": {},
   "outputs": [],
   "source": [
    "# 동일 인덱스가 없는 경우 연산 수행 안 함 => NaN 빈칸\n",
    "result=sr1+sr3"
   ]
  },
  {
   "cell_type": "code",
   "execution_count": 11,
   "id": "3c0a3b4c",
   "metadata": {},
   "outputs": [
    {
     "data": {
      "text/plain": [
       "국어    180.0\n",
       "수학      NaN\n",
       "영어    150.0\n",
       "dtype: float64"
      ]
     },
     "execution_count": 11,
     "metadata": {},
     "output_type": "execute_result"
    }
   ],
   "source": [
    "result"
   ]
  },
  {
   "cell_type": "code",
   "execution_count": null,
   "id": "837d7a24",
   "metadata": {},
   "outputs": [],
   "source": []
  }
 ],
 "metadata": {
  "kernelspec": {
   "display_name": "Python 3 (ipykernel)",
   "language": "python",
   "name": "python3"
  },
  "language_info": {
   "codemirror_mode": {
    "name": "ipython",
    "version": 3
   },
   "file_extension": ".py",
   "mimetype": "text/x-python",
   "name": "python",
   "nbconvert_exporter": "python",
   "pygments_lexer": "ipython3",
   "version": "3.9.12"
  }
 },
 "nbformat": 4,
 "nbformat_minor": 5
}
