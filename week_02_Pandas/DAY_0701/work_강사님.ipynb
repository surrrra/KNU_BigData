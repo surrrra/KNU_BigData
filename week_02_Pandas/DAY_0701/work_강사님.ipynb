{
 "cells": [
  {
   "cell_type": "markdown",
   "id": "3623cb5a",
   "metadata": {},
   "source": [
    "## Length 데이터만 추출"
   ]
  },
  {
   "cell_type": "code",
   "execution_count": null,
   "id": "48e6e935",
   "metadata": {},
   "outputs": [],
   "source": [
    "irisDF[[col for col in irisDF.columns if 'Length' in col]]"
   ]
  },
  {
   "cell_type": "markdown",
   "id": "ef0f8fa0",
   "metadata": {},
   "source": [
    "## 1번 문제"
   ]
  },
  {
   "cell_type": "code",
   "execution_count": null,
   "id": "d6943875",
   "metadata": {},
   "outputs": [],
   "source": []
  }
 ],
 "metadata": {
  "kernelspec": {
   "display_name": "Python 3 (ipykernel)",
   "language": "python",
   "name": "python3"
  },
  "language_info": {
   "codemirror_mode": {
    "name": "ipython",
    "version": 3
   },
   "file_extension": ".py",
   "mimetype": "text/x-python",
   "name": "python",
   "nbconvert_exporter": "python",
   "pygments_lexer": "ipython3",
   "version": "3.9.12"
  }
 },
 "nbformat": 4,
 "nbformat_minor": 5
}
