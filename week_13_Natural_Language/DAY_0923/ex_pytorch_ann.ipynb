{
 "cells": [
  {
   "cell_type": "markdown",
   "id": "1c72bb83",
   "metadata": {},
   "source": [
    "## Pytorch Neural Network\n",
    "---\n"
   ]
  },
  {
   "cell_type": "code",
   "execution_count": 1,
   "id": "a7c4249b",
   "metadata": {},
   "outputs": [],
   "source": [
    "import os\n",
    "import torch\n",
    "from torch import nn   ## 신경망 모듈\n",
    "from torch.utils.data import DataLoader  # 데이터 로딩 관련 모듈\n",
    "from torchvision import datasets, transforms   # torch 저장소 데이터셋 모듈"
   ]
  },
  {
   "cell_type": "markdown",
   "id": "14cf5e9c",
   "metadata": {},
   "source": [
    "### [1] 데이터 준비\n",
    "---"
   ]
  },
  {
   "cell_type": "code",
   "execution_count": 2,
   "id": "6eaf370a",
   "metadata": {},
   "outputs": [
    {
     "name": "stdout",
     "output_type": "stream",
     "text": [
      "Using cpu device\n"
     ]
    }
   ],
   "source": [
    "# Tensor의 저장소 설정을 위한 체크\n",
    "# cuda가 있는지 없는지 확인\n",
    "device = \"cuda\" if torch.cuda.is_available() else \"cpu\"\n",
    "print(f\"Using {device} device\")"
   ]
  },
  {
   "cell_type": "markdown",
   "id": "6876a700",
   "metadata": {},
   "source": [
    "### NN 모델 생성\n",
    "---"
   ]
  },
  {
   "cell_type": "code",
   "execution_count": 4,
   "id": "71cb626e",
   "metadata": {},
   "outputs": [],
   "source": [
    "# 순차적인 Layer 구성 => Sequential, Layer ...\n",
    "class NeuralNetwork(nn.Module):   # nn.Module은 상속\n",
    "    \n",
    "    # 생성자 메서드, NeuralNetwork() 객체 생성시 실행됨\n",
    "    def __init__(self):\n",
    "        super(NeuralNetwork, self).__init__()\n",
    "        self.flatten = nn.Flatten()\n",
    "        \n",
    "        self.linear_relu_stack = nn.Sequential(\n",
    "            # 입력층(input_dim, output_dim)\n",
    "            nn.Linear(28*28, 512),   # 이게 모델임\n",
    "            nn.ReLU(),\n",
    "            \n",
    "            # 은닉층(input_dim, output_dim)\n",
    "            nn.Linear(512, 512),\n",
    "            nn.ReLU(),\n",
    "            \n",
    "            # 출력층(input_dim, output_dim)\n",
    "            nn.Linear(512, 10),\n",
    "        )\n",
    "\n",
    "    # NN 모델이 동작을 시작할 때 실행\n",
    "    def forward(self, x):\n",
    "        # 1차원으로 데이터 변환\n",
    "        x = self.flatten(x)\n",
    "        \n",
    "        # NN 모델에 데이터 전달\n",
    "        logits = self.linear_relu_stack(x)  # 1차원으로 폈는거 모델에 넣은거임\n",
    "        return logits"
   ]
  },
  {
   "cell_type": "code",
   "execution_count": 7,
   "id": "42cead80",
   "metadata": {},
   "outputs": [],
   "source": [
    "# NN 모델 생성\n",
    "mnistM=NeuralNetwork().to(device)"
   ]
  },
  {
   "cell_type": "markdown",
   "id": "c7334193",
   "metadata": {},
   "source": [
    "mnistM.flatten   # 얘가 함수 안에 self.flatten임  \n",
    "mnistM.linear_relu_stack"
   ]
  },
  {
   "cell_type": "code",
   "execution_count": 8,
   "id": "eef34872",
   "metadata": {},
   "outputs": [
    {
     "name": "stdout",
     "output_type": "stream",
     "text": [
      "NeuralNetwork(\n",
      "  (flatten): Flatten(start_dim=1, end_dim=-1)\n",
      "  (linear_relu_stack): Sequential(\n",
      "    (0): Linear(in_features=784, out_features=512, bias=True)\n",
      "    (1): ReLU()\n",
      "    (2): Linear(in_features=512, out_features=512, bias=True)\n",
      "    (3): ReLU()\n",
      "    (4): Linear(in_features=512, out_features=10, bias=True)\n",
      "  )\n",
      ")\n"
     ]
    }
   ],
   "source": [
    "# 모델 구조\n",
    "print(mnistM)"
   ]
  },
  {
   "cell_type": "code",
   "execution_count": 13,
   "id": "1ca19b29",
   "metadata": {},
   "outputs": [
    {
     "name": "stdout",
     "output_type": "stream",
     "text": [
      "torch.Size([1, 28, 28]) 3\n"
     ]
    }
   ],
   "source": [
    "# 데이터 준비\n",
    "# rand : 0.0 ~ 1.0\n",
    "X = torch.rand(1, 28, 28, device=device)\n",
    "#print(f'X => {X}')\n",
    "print(X.shape, X.ndim)"
   ]
  },
  {
   "cell_type": "code",
   "execution_count": 12,
   "id": "f6d7f93e",
   "metadata": {},
   "outputs": [
    {
     "data": {
      "text/plain": [
       "tensor([[[0.0486],\n",
       "         [0.3126]],\n",
       "\n",
       "        [[0.0281],\n",
       "         [0.8244]],\n",
       "\n",
       "        [[0.4965],\n",
       "         [0.9967]]])"
      ]
     },
     "execution_count": 12,
     "metadata": {},
     "output_type": "execute_result"
    }
   ],
   "source": [
    "torch.rand(3, 2, 1)"
   ]
  },
  {
   "cell_type": "code",
   "execution_count": 14,
   "id": "40f5861f",
   "metadata": {},
   "outputs": [],
   "source": [
    "# 학습\n",
    "logits = mnistM(X)"
   ]
  },
  {
   "cell_type": "code",
   "execution_count": 18,
   "id": "d92d76c0",
   "metadata": {},
   "outputs": [
    {
     "name": "stdout",
     "output_type": "stream",
     "text": [
      "학습 결과 :\n",
      "tensor([[-0.0089, -0.0234, -0.0438,  0.0773, -0.0622,  0.0064,  0.0734, -0.0661,\n",
      "          0.0598, -0.0106]], grad_fn=<AddmmBackward0>), torch.Size([1, 10])\n"
     ]
    }
   ],
   "source": [
    "print(f'학습 결과 :\\n{logits}, {logits.shape}')"
   ]
  },
  {
   "cell_type": "code",
   "execution_count": 19,
   "id": "f15d4c57",
   "metadata": {},
   "outputs": [
    {
     "name": "stdout",
     "output_type": "stream",
     "text": [
      "pred_probab : tensor([[0.0990, 0.0975, 0.0956, 0.1079, 0.0938, 0.1005, 0.1075, 0.0935, 0.1060,\n",
      "         0.0988]], grad_fn=<SoftmaxBackward0>)\n",
      "Predicted class: tensor([3])\n"
     ]
    }
   ],
   "source": [
    "# 결과 분석\n",
    "pred_probab = nn.Softmax(dim=1)(logits)   # 확률값 받아오기\n",
    "print(f'pred_probab : {pred_probab}')\n",
    "\n",
    "y_pred = pred_probab.argmax(1)\n",
    "print(f\"Predicted class: {y_pred}\")"
   ]
  },
  {
   "cell_type": "markdown",
   "id": "2e35cdd0",
   "metadata": {},
   "source": [
    "---"
   ]
  },
  {
   "cell_type": "markdown",
   "id": "d65299e1",
   "metadata": {},
   "source": [
    "## PyTorch의 Dataset 사용"
   ]
  },
  {
   "cell_type": "code",
   "execution_count": 20,
   "id": "41383dc2",
   "metadata": {},
   "outputs": [
    {
     "name": "stdout",
     "output_type": "stream",
     "text": [
      "Downloading http://fashion-mnist.s3-website.eu-central-1.amazonaws.com/train-images-idx3-ubyte.gz\n",
      "Downloading http://fashion-mnist.s3-website.eu-central-1.amazonaws.com/train-images-idx3-ubyte.gz to data\\FashionMNIST\\raw\\train-images-idx3-ubyte.gz\n"
     ]
    },
    {
     "data": {
      "application/vnd.jupyter.widget-view+json": {
       "model_id": "a28481cf7f354e0b8e3d388cdf4b49f9",
       "version_major": 2,
       "version_minor": 0
      },
      "text/plain": [
       "  0%|          | 0/26421880 [00:00<?, ?it/s]"
      ]
     },
     "metadata": {},
     "output_type": "display_data"
    },
    {
     "name": "stdout",
     "output_type": "stream",
     "text": [
      "Extracting data\\FashionMNIST\\raw\\train-images-idx3-ubyte.gz to data\\FashionMNIST\\raw\n",
      "\n",
      "Downloading http://fashion-mnist.s3-website.eu-central-1.amazonaws.com/train-labels-idx1-ubyte.gz\n",
      "Downloading http://fashion-mnist.s3-website.eu-central-1.amazonaws.com/train-labels-idx1-ubyte.gz to data\\FashionMNIST\\raw\\train-labels-idx1-ubyte.gz\n"
     ]
    },
    {
     "data": {
      "application/vnd.jupyter.widget-view+json": {
       "model_id": "18ec81ff175245fb97ee65c37c6be3b6",
       "version_major": 2,
       "version_minor": 0
      },
      "text/plain": [
       "  0%|          | 0/29515 [00:00<?, ?it/s]"
      ]
     },
     "metadata": {},
     "output_type": "display_data"
    },
    {
     "name": "stdout",
     "output_type": "stream",
     "text": [
      "Extracting data\\FashionMNIST\\raw\\train-labels-idx1-ubyte.gz to data\\FashionMNIST\\raw\n",
      "\n",
      "Downloading http://fashion-mnist.s3-website.eu-central-1.amazonaws.com/t10k-images-idx3-ubyte.gz\n",
      "Downloading http://fashion-mnist.s3-website.eu-central-1.amazonaws.com/t10k-images-idx3-ubyte.gz to data\\FashionMNIST\\raw\\t10k-images-idx3-ubyte.gz\n"
     ]
    },
    {
     "data": {
      "application/vnd.jupyter.widget-view+json": {
       "model_id": "5e7a8f0df9914c57b1f48c90b1528e30",
       "version_major": 2,
       "version_minor": 0
      },
      "text/plain": [
       "  0%|          | 0/4422102 [00:00<?, ?it/s]"
      ]
     },
     "metadata": {},
     "output_type": "display_data"
    },
    {
     "name": "stdout",
     "output_type": "stream",
     "text": [
      "Extracting data\\FashionMNIST\\raw\\t10k-images-idx3-ubyte.gz to data\\FashionMNIST\\raw\n",
      "\n",
      "Downloading http://fashion-mnist.s3-website.eu-central-1.amazonaws.com/t10k-labels-idx1-ubyte.gz\n",
      "Downloading http://fashion-mnist.s3-website.eu-central-1.amazonaws.com/t10k-labels-idx1-ubyte.gz to data\\FashionMNIST\\raw\\t10k-labels-idx1-ubyte.gz\n"
     ]
    },
    {
     "data": {
      "application/vnd.jupyter.widget-view+json": {
       "model_id": "19f70fa429654355bfb92cdda0ab9651",
       "version_major": 2,
       "version_minor": 0
      },
      "text/plain": [
       "  0%|          | 0/5148 [00:00<?, ?it/s]"
      ]
     },
     "metadata": {},
     "output_type": "display_data"
    },
    {
     "name": "stdout",
     "output_type": "stream",
     "text": [
      "Extracting data\\FashionMNIST\\raw\\t10k-labels-idx1-ubyte.gz to data\\FashionMNIST\\raw\n",
      "\n"
     ]
    }
   ],
   "source": [
    "from torchvision.transforms import ToTensor  # 데이터 => Tensor로 변환\n",
    "\n",
    "training_data = datasets.FashionMNIST(\n",
    "    root=\"data\",\n",
    "    train=True,   # True면 training용, False면 test용\n",
    "    download=True,\n",
    "    transform=ToTensor()\n",
    ")\n",
    "\n",
    "test_data = datasets.FashionMNIST(\n",
    "    root=\"data\",\n",
    "    train=False,  # test용\n",
    "    download=True,\n",
    "    transform=ToTensor()\n",
    ")"
   ]
  },
  {
   "cell_type": "code",
   "execution_count": 22,
   "id": "3f899c30",
   "metadata": {},
   "outputs": [
    {
     "name": "stdout",
     "output_type": "stream",
     "text": [
      "<class 'torchvision.datasets.mnist.FashionMNIST'> torch.Size([60000, 28, 28])\n",
      "<class 'torchvision.datasets.mnist.FashionMNIST'> torch.Size([10000, 28, 28])\n"
     ]
    }
   ],
   "source": [
    "print(type(training_data), training_data.data.shape)\n",
    "print(type(test_data), test_data.data.shape)"
   ]
  },
  {
   "cell_type": "markdown",
   "id": "44558688",
   "metadata": {},
   "source": [
    "https://github.com/zalandoresearch/fashion-mnist"
   ]
  },
  {
   "cell_type": "code",
   "execution_count": 27,
   "id": "d614ff14",
   "metadata": {},
   "outputs": [
    {
     "name": "stdout",
     "output_type": "stream",
     "text": [
      "img => torch.Size([1, 28, 28])\n",
      "img.squeeze => torch.Size([28, 28])\n",
      "img => torch.Size([1, 28, 28])\n",
      "img.squeeze => torch.Size([28, 28])\n",
      "img => torch.Size([1, 28, 28])\n",
      "img.squeeze => torch.Size([28, 28])\n",
      "img => torch.Size([1, 28, 28])\n",
      "img.squeeze => torch.Size([28, 28])\n",
      "img => torch.Size([1, 28, 28])\n",
      "img.squeeze => torch.Size([28, 28])\n",
      "img => torch.Size([1, 28, 28])\n",
      "img.squeeze => torch.Size([28, 28])\n",
      "img => torch.Size([1, 28, 28])\n",
      "img.squeeze => torch.Size([28, 28])\n",
      "img => torch.Size([1, 28, 28])\n",
      "img.squeeze => torch.Size([28, 28])\n",
      "img => torch.Size([1, 28, 28])\n",
      "img.squeeze => torch.Size([28, 28])\n"
     ]
    },
    {
     "data": {
      "image/png": "[encoded data removed]",
      "text/plain": [
       "<Figure size 576x576 with 9 Axes>"
      ]
     },
     "metadata": {
      "needs_background": "light"
     },
     "output_type": "display_data"
    }
   ],
   "source": [
    "import matplotlib.pyplot as plt\n",
    "\n",
    "labels_map = {\n",
    "    0: \"T-Shirt\",\n",
    "    1: \"Trouser\",\n",
    "    2: \"Pullover\",\n",
    "    3: \"Dress\",\n",
    "    4: \"Coat\",\n",
    "    5: \"Sandal\",\n",
    "    6: \"Shirt\",\n",
    "    7: \"Sneaker\",\n",
    "    8: \"Bag\",\n",
    "    9: \"Ankle Boot\",\n",
    "}\n",
    "figure = plt.figure(figsize=(8, 8))\n",
    "cols, rows = 3, 3\n",
    "for i in range(1, cols * rows + 1):\n",
    "    sample_idx = torch.randint(len(training_data), size=(1,)).item()\n",
    "    img, label = training_data[sample_idx]\n",
    "    figure.add_subplot(rows, cols, i)\n",
    "    plt.title(labels_map[label])\n",
    "    plt.axis(\"off\")\n",
    "    print(f'img => {img.shape}')\n",
    "    a=img.squeeze()\n",
    "    print(f'img.squeeze => {a.shape}')\n",
    "    plt.imshow(img.squeeze(), cmap=\"gray\")\n",
    "plt.show()"
   ]
  },
  {
   "cell_type": "markdown",
   "id": "12e7bada",
   "metadata": {},
   "source": [
    "ds = datasets.FashionMNIST(  \n",
    "    root=\"data\",  \n",
    "    train=True,  \n",
    "    download=True,  \n",
    "    transform=ToTensor(),  \n",
    "    target_transform=Lambda(lambda y: torch.zeros(10,   dtype=torch.float).scatter_(0, torch.tensor(y), value=1))\n",
    ")   # 원핫인코딩"
   ]
  },
  {
   "cell_type": "code",
   "execution_count": 28,
   "id": "0e8e9986",
   "metadata": {},
   "outputs": [
    {
     "data": {
      "text/plain": [
       "tensor([11, 12, 13])"
      ]
     },
     "execution_count": 28,
     "metadata": {},
     "output_type": "execute_result"
    }
   ],
   "source": [
    "t1=torch.tensor([1, 2, 3])\n",
    "t1.add(10)   # t1이 바뀐 게 아님"
   ]
  },
  {
   "cell_type": "code",
   "execution_count": 29,
   "id": "3307f6b6",
   "metadata": {},
   "outputs": [
    {
     "data": {
      "text/plain": [
       "tensor([1, 2, 3])"
      ]
     },
     "execution_count": 29,
     "metadata": {},
     "output_type": "execute_result"
    }
   ],
   "source": [
    "t1"
   ]
  },
  {
   "cell_type": "code",
   "execution_count": 30,
   "id": "c70e673f",
   "metadata": {},
   "outputs": [
    {
     "data": {
      "text/plain": [
       "tensor([11, 12, 13])"
      ]
     },
     "execution_count": 30,
     "metadata": {},
     "output_type": "execute_result"
    }
   ],
   "source": [
    "t1.add_(10)\n",
    "t1"
   ]
  },
  {
   "cell_type": "code",
   "execution_count": null,
   "id": "eb1deba2",
   "metadata": {},
   "outputs": [],
   "source": []
  }
 ],
 "metadata": {
  "kernelspec": {
   "display_name": "Python 3 (ipykernel)",
   "language": "python",
   "name": "python3"
  },
  "language_info": {
   "codemirror_mode": {
    "name": "ipython",
    "version": 3
   },
   "file_extension": ".py",
   "mimetype": "text/x-python",
   "name": "python",
   "nbconvert_exporter": "python",
   "pygments_lexer": "ipython3",
   "version": "3.9.13"
  }
 },
 "nbformat": 4,
 "nbformat_minor": 5
}
