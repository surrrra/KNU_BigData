{
 "cells": [
  {
   "cell_type": "markdown",
   "id": "52f908d0",
   "metadata": {},
   "source": [
    "# PyTorch\n",
    "---"
   ]
  },
  {
   "cell_type": "markdown",
   "id": "dce14fef",
   "metadata": {},
   "source": [
    "### [1] Tensor 생성\n",
    "---"
   ]
  },
  {
   "cell_type": "code",
   "execution_count": 1,
   "id": "67d245be",
   "metadata": {},
   "outputs": [],
   "source": [
    "import torch"
   ]
  },
  {
   "cell_type": "code",
   "execution_count": 3,
   "id": "6047bac4",
   "metadata": {},
   "outputs": [
    {
     "data": {
      "text/plain": [
       "'1.12.1'"
      ]
     },
     "execution_count": 3,
     "metadata": {},
     "output_type": "execute_result"
    }
   ],
   "source": [
    "# PyTorch 버전 확인\n",
    "torch.__version__"
   ]
  },
  {
   "cell_type": "code",
   "execution_count": 6,
   "id": "859fe5a1",
   "metadata": {},
   "outputs": [],
   "source": [
    "## [기본] tensor(data)\n",
    "t1=torch.tensor([1, 2, 3], dtype=torch.int32)"
   ]
  },
  {
   "cell_type": "code",
   "execution_count": 7,
   "id": "16a8a1fd",
   "metadata": {},
   "outputs": [
    {
     "data": {
      "text/plain": [
       "(torch.Tensor, torch.Size([3]), torch.int32, device(type='cpu'))"
      ]
     },
     "execution_count": 7,
     "metadata": {},
     "output_type": "execute_result"
    }
   ],
   "source": [
    "type(t1), t1.shape, t1.dtype, t1.device"
   ]
  },
  {
   "cell_type": "code",
   "execution_count": 10,
   "id": "6e293c7d",
   "metadata": {},
   "outputs": [],
   "source": [
    "t2=torch.tensor([1., 2, 3])"
   ]
  },
  {
   "cell_type": "code",
   "execution_count": 11,
   "id": "2638f2e2",
   "metadata": {},
   "outputs": [
    {
     "data": {
      "text/plain": [
       "(torch.Tensor, torch.Size([3]), torch.float32, device(type='cpu'))"
      ]
     },
     "execution_count": 11,
     "metadata": {},
     "output_type": "execute_result"
    }
   ],
   "source": [
    "# dtype 디폴트는 int64\n",
    "type(t2), t2.shape, t2.dtype, t2.device"
   ]
  },
  {
   "cell_type": "code",
   "execution_count": 14,
   "id": "32e5b551",
   "metadata": {},
   "outputs": [],
   "source": [
    "t3=torch.tensor([[1., 2, 3], [1, 2, 2]])"
   ]
  },
  {
   "cell_type": "code",
   "execution_count": 15,
   "id": "8bbfa56a",
   "metadata": {},
   "outputs": [
    {
     "data": {
      "text/plain": [
       "(torch.Tensor, torch.Size([2, 3]), torch.float32, device(type='cpu'))"
      ]
     },
     "execution_count": 15,
     "metadata": {},
     "output_type": "execute_result"
    }
   ],
   "source": [
    "type(t3), t3.shape, t3.dtype, t3.device"
   ]
  },
  {
   "cell_type": "code",
   "execution_count": 16,
   "id": "6de5de5f",
   "metadata": {},
   "outputs": [
    {
     "data": {
      "text/plain": [
       "tensor([1., 1., 1., 1., 1., 1., 1., 1., 1., 1.])"
      ]
     },
     "execution_count": 16,
     "metadata": {},
     "output_type": "execute_result"
    }
   ],
   "source": [
    "t4=torch.ones(size=(10, ))\n",
    "t4"
   ]
  },
  {
   "cell_type": "code",
   "execution_count": 17,
   "id": "f9051090",
   "metadata": {},
   "outputs": [
    {
     "data": {
      "text/plain": [
       "(torch.Tensor, torch.Size([10]), torch.float32, device(type='cpu'))"
      ]
     },
     "execution_count": 17,
     "metadata": {},
     "output_type": "execute_result"
    }
   ],
   "source": [
    "type(t4), t4.shape, t4.dtype, t4.device"
   ]
  },
  {
   "cell_type": "code",
   "execution_count": 18,
   "id": "77512678",
   "metadata": {},
   "outputs": [
    {
     "data": {
      "text/plain": [
       "tensor([0., 0., 0., 0., 0., 0., 0., 0., 0., 0.])"
      ]
     },
     "execution_count": 18,
     "metadata": {},
     "output_type": "execute_result"
    }
   ],
   "source": [
    "t5=torch.zeros(size=(10, ))\n",
    "t5"
   ]
  },
  {
   "cell_type": "code",
   "execution_count": 19,
   "id": "2f6b5136",
   "metadata": {},
   "outputs": [
    {
     "data": {
      "text/plain": [
       "(torch.Tensor, torch.Size([10]), torch.float32, device(type='cpu'))"
      ]
     },
     "execution_count": 19,
     "metadata": {},
     "output_type": "execute_result"
    }
   ],
   "source": [
    "type(t5), t5.shape, t5.dtype, t5.device"
   ]
  },
  {
   "cell_type": "code",
   "execution_count": 20,
   "id": "785353d8",
   "metadata": {},
   "outputs": [
    {
     "data": {
      "text/plain": [
       "tensor([[1., 1., 1.],\n",
       "        [1., 1., 1.]])"
      ]
     },
     "execution_count": 20,
     "metadata": {},
     "output_type": "execute_result"
    }
   ],
   "source": [
    "# t3와 형태는 같게, 안에 원소는 1로 채우기 / zeros_like도 있음\n",
    "t6=torch.ones_like(t3)\n",
    "t6"
   ]
  },
  {
   "cell_type": "code",
   "execution_count": 21,
   "id": "6f5acca3",
   "metadata": {},
   "outputs": [
    {
     "data": {
      "text/plain": [
       "tensor([[0.1938, 0.9433, 0.8381],\n",
       "        [0.4893, 0.8713, 0.9628]])"
      ]
     },
     "execution_count": 21,
     "metadata": {},
     "output_type": "execute_result"
    }
   ],
   "source": [
    "torch.rand_like(t3)"
   ]
  },
  {
   "cell_type": "markdown",
   "id": "956a6d11",
   "metadata": {},
   "source": [
    "## Indexing & Slicing"
   ]
  },
  {
   "cell_type": "code",
   "execution_count": 22,
   "id": "f813a439",
   "metadata": {},
   "outputs": [
    {
     "data": {
      "text/plain": [
       "tensor([[1., 2., 3.],\n",
       "        [1., 2., 2.]])"
      ]
     },
     "execution_count": 22,
     "metadata": {},
     "output_type": "execute_result"
    }
   ],
   "source": [
    "t3"
   ]
  },
  {
   "cell_type": "code",
   "execution_count": 26,
   "id": "0a95d555",
   "metadata": {},
   "outputs": [
    {
     "data": {
      "text/plain": [
       "(2, torch.Size([2, 3]))"
      ]
     },
     "execution_count": 26,
     "metadata": {},
     "output_type": "execute_result"
    }
   ],
   "source": [
    "t3.ndim, t3.shape"
   ]
  },
  {
   "cell_type": "code",
   "execution_count": 23,
   "id": "7a27505b",
   "metadata": {},
   "outputs": [
    {
     "data": {
      "text/plain": [
       "tensor([1., 2., 3.])"
      ]
     },
     "execution_count": 23,
     "metadata": {},
     "output_type": "execute_result"
    }
   ],
   "source": [
    "# 행 => [행인덱스]\n",
    "t3[0]"
   ]
  },
  {
   "cell_type": "code",
   "execution_count": 24,
   "id": "8da5f78b",
   "metadata": {},
   "outputs": [
    {
     "data": {
      "text/plain": [
       "tensor([1., 2., 2.])"
      ]
     },
     "execution_count": 24,
     "metadata": {},
     "output_type": "execute_result"
    }
   ],
   "source": [
    "t3[1]"
   ]
  },
  {
   "cell_type": "code",
   "execution_count": 28,
   "id": "d225648a",
   "metadata": {},
   "outputs": [
    {
     "data": {
      "text/plain": [
       "(tensor([1., 1.]), tensor(1.))"
      ]
     },
     "execution_count": 28,
     "metadata": {},
     "output_type": "execute_result"
    }
   ],
   "source": [
    "# 열(columns) => [행, 열]\n",
    "t3[:, 0], t3[0, 0]"
   ]
  },
  {
   "cell_type": "code",
   "execution_count": 29,
   "id": "7bffe241",
   "metadata": {},
   "outputs": [
    {
     "data": {
      "text/plain": [
       "tensor(11.)"
      ]
     },
     "execution_count": 29,
     "metadata": {},
     "output_type": "execute_result"
    }
   ],
   "source": [
    "t3.sum()"
   ]
  },
  {
   "cell_type": "code",
   "execution_count": 30,
   "id": "ac8a031f",
   "metadata": {},
   "outputs": [
    {
     "data": {
      "text/plain": [
       "tensor(1.8333)"
      ]
     },
     "execution_count": 30,
     "metadata": {},
     "output_type": "execute_result"
    }
   ],
   "source": [
    "t3.mean()"
   ]
  },
  {
   "cell_type": "code",
   "execution_count": 31,
   "id": "9e4ab8b0",
   "metadata": {},
   "outputs": [
    {
     "data": {
      "text/plain": [
       "tensor(3.)"
      ]
     },
     "execution_count": 31,
     "metadata": {},
     "output_type": "execute_result"
    }
   ],
   "source": [
    "t3.max()"
   ]
  },
  {
   "cell_type": "code",
   "execution_count": 33,
   "id": "df252a4d",
   "metadata": {},
   "outputs": [
    {
     "data": {
      "text/plain": [
       "array([[1., 2., 3.],\n",
       "       [1., 2., 2.]], dtype=float32)"
      ]
     },
     "execution_count": 33,
     "metadata": {},
     "output_type": "execute_result"
    }
   ],
   "source": [
    "tn=t3.numpy()\n",
    "tn"
   ]
  },
  {
   "cell_type": "code",
   "execution_count": 34,
   "id": "d9fb1c70",
   "metadata": {},
   "outputs": [
    {
     "data": {
      "text/plain": [
       "False"
      ]
     },
     "execution_count": 34,
     "metadata": {},
     "output_type": "execute_result"
    }
   ],
   "source": [
    "torch.cuda.is_available()"
   ]
  },
  {
   "cell_type": "code",
   "execution_count": null,
   "id": "83512d48",
   "metadata": {},
   "outputs": [],
   "source": []
  }
 ],
 "metadata": {
  "kernelspec": {
   "display_name": "Python 3 (ipykernel)",
   "language": "python",
   "name": "python3"
  },
  "language_info": {
   "codemirror_mode": {
    "name": "ipython",
    "version": 3
   },
   "file_extension": ".py",
   "mimetype": "text/x-python",
   "name": "python",
   "nbconvert_exporter": "python",
   "pygments_lexer": "ipython3",
   "version": "3.9.12"
  }
 },
 "nbformat": 4,
 "nbformat_minor": 5
}
