{
 "cells": [
  {
   "cell_type": "code",
   "execution_count": 1,
   "id": "9b46c191",
   "metadata": {},
   "outputs": [],
   "source": [
    "en_text = \"A Dog Run back corner near spare bedrooms\""
   ]
  },
  {
   "cell_type": "code",
   "execution_count": 2,
   "id": "0b63ec89",
   "metadata": {},
   "outputs": [],
   "source": [
    "from konlpy.tag import Kkma, Komoran, Okt"
   ]
  },
  {
   "cell_type": "code",
   "execution_count": 3,
   "id": "1893ae42",
   "metadata": {},
   "outputs": [
    {
     "name": "stdout",
     "output_type": "stream",
     "text": [
      "[('마음', 'Noun'), ('에', 'Josa'), ('꽂히다', 'Verb'), ('칼', 'Noun'), ('하다', 'Verb'), ('자루', 'Noun'), ('보다', 'Josa'), ('마음', 'Noun'), ('에', 'Josa'), ('꽂히다', 'Verb'), ('꽃', 'Noun'), ('하다', 'Verb'), ('송이', 'Noun'), ('가', 'Josa'), ('더', 'Noun'), ('아프다', 'Adjective'), ('잠', 'Noun'), ('이', 'Josa'), ('오지', 'Noun'), ('않다', 'Verb')]\n"
     ]
    }
   ],
   "source": [
    "okt=Okt()\n",
    "text='마음에 꽂힌 칼 한 자루보다 마음에 꽂힌 꽃 한 송이가 더 아파서 잠이 오지 않는다'\n",
    "\n",
    "okt_tags=okt.pos(text, norm=True, stem=True)\n",
    "print(okt_tags)"
   ]
  },
  {
   "cell_type": "code",
   "execution_count": 4,
   "id": "d1b93709",
   "metadata": {},
   "outputs": [
    {
     "name": "stdout",
     "output_type": "stream",
     "text": [
      "['마음', '칼', '자루', '마음', '꽃', '송이', '더', '잠', '오지']\n"
     ]
    }
   ],
   "source": [
    "okt_nouns=okt.nouns(text)\n",
    "print(okt_nouns)"
   ]
  },
  {
   "cell_type": "code",
   "execution_count": 5,
   "id": "5f251a74",
   "metadata": {},
   "outputs": [
    {
     "name": "stdout",
     "output_type": "stream",
     "text": [
      "morphs() :\n",
      " ['나랏말', '이', '중국', '과', '달라', '한자', '와', '서로', '통', '하지', '아니하므로', ',', '우매', '한', '백성', '들', '이', '말', '하고', '싶은', '것', '이', '있어도', '마침내', '제', '뜻', '을', '잘', '표현', '하지', '못', '하는', '사람', '이', '많다', '.', '내', '이를', '딱하게', '여기어', '새로', '스물', '여덟', '자를', '만들었으니', ',', '사람', '들', '로', '하여금', '쉬', '익히어', '날', '마다', '쓰는', '데', '편하게', '할', '뿐', '이다', '.']\n"
     ]
    }
   ],
   "source": [
    "text='나랏말이 중국과 달라 한자와 서로 통하지 아니하므로,\\\n",
    "우매한 백성들이 말하고 싶은 것이 있어도 마침내 제 뜻을 잘 표현하지 못하는 사람이 많다.\\\n",
    "내 이를 딱하게 여기어 새로 스물여덟 자를 만들었으니,\\\n",
    "사람들로 하여금 쉬 익히어 날마다 쓰는 데 편하게 할 뿐이다.'\n",
    "\n",
    "okt=Okt()\n",
    "okt_morphs=okt.morphs(text)\n",
    "print('morphs() :\\n', okt_morphs)"
   ]
  },
  {
   "cell_type": "code",
   "execution_count": 6,
   "id": "13344a5e",
   "metadata": {},
   "outputs": [
    {
     "name": "stdout",
     "output_type": "stream",
     "text": [
      "['나랏말', '중국', '달라', '한자', '서로', '통', '우매', '백성', '말', '것', '마침내', '제', '뜻', '표현', '사람', '내', '스물', '여덟', '사람', '쉬', '날', '데', '뿐']\n"
     ]
    }
   ],
   "source": [
    "# 명사만 추출\n",
    "okt_nouns=okt.nouns(text)\n",
    "print(okt_nouns)"
   ]
  },
  {
   "cell_type": "code",
   "execution_count": null,
   "id": "d24de652",
   "metadata": {},
   "outputs": [],
   "source": [
    "# 어절 추출\n",
    "okt_phrases=okt.phrases(text)"
   ]
  },
  {
   "cell_type": "markdown",
   "id": "a0065486",
   "metadata": {},
   "source": [
    "---"
   ]
  },
  {
   "cell_type": "code",
   "execution_count": 10,
   "id": "a6625875",
   "metadata": {},
   "outputs": [],
   "source": [
    "import nltk\n",
    "from nltk.corpus import movie_reviews"
   ]
  },
  {
   "cell_type": "code",
   "execution_count": 8,
   "id": "23e4d3b2",
   "metadata": {},
   "outputs": [
    {
     "name": "stderr",
     "output_type": "stream",
     "text": [
      "[nltk_data] Downloading package movie_reviews to\n",
      "[nltk_data]     C:\\Users\\User\\AppData\\Roaming\\nltk_data...\n",
      "[nltk_data]   Unzipping corpora\\movie_reviews.zip.\n"
     ]
    },
    {
     "data": {
      "text/plain": [
       "True"
      ]
     },
     "execution_count": 8,
     "metadata": {},
     "output_type": "execute_result"
    }
   ],
   "source": [
    "nltk.download('movie_reviews')"
   ]
  },
  {
   "cell_type": "code",
   "execution_count": 11,
   "id": "4c5a403b",
   "metadata": {},
   "outputs": [],
   "source": [
    "sentences=[list(s) for s in movie_reviews.sents()]"
   ]
  },
  {
   "cell_type": "code",
   "execution_count": 12,
   "id": "c486d941",
   "metadata": {},
   "outputs": [
    {
     "data": {
      "text/plain": [
       "65258"
      ]
     },
     "execution_count": 12,
     "metadata": {},
     "output_type": "execute_result"
    }
   ],
   "source": [
    "len(sentences)"
   ]
  },
  {
   "cell_type": "code",
   "execution_count": 13,
   "id": "c7918c22",
   "metadata": {},
   "outputs": [
    {
     "data": {
      "text/plain": [
       "['plot',\n",
       " ':',\n",
       " 'two',\n",
       " 'teen',\n",
       " 'couples',\n",
       " 'go',\n",
       " 'to',\n",
       " 'a',\n",
       " 'church',\n",
       " 'party',\n",
       " ',',\n",
       " 'drink',\n",
       " 'and',\n",
       " 'then',\n",
       " 'drive',\n",
       " '.']"
      ]
     },
     "execution_count": 13,
     "metadata": {},
     "output_type": "execute_result"
    }
   ],
   "source": [
    "sentences[0]"
   ]
  },
  {
   "cell_type": "code",
   "execution_count": 14,
   "id": "9fb7beda",
   "metadata": {},
   "outputs": [
    {
     "name": "stdout",
     "output_type": "stream",
     "text": [
      "['plot', ':', 'two', 'teen', 'couples', 'go', 'to', 'a', 'church', 'party', ',', 'drink', 'and', 'then', 'drive', '.']\n",
      "['they', 'get', 'into', 'an', 'accident', '.']\n",
      "['one', 'of', 'the', 'guys', 'dies', ',', 'but', 'his', 'girlfriend', 'continues', 'to', 'see', 'him', 'in', 'her', 'life', ',', 'and', 'has', 'nightmares', '.']\n",
      "['what', \"'\", 's', 'the', 'deal', '?']\n",
      "['watch', 'the', 'movie', 'and', '\"', 'sorta', '\"', 'find', 'out', '.']\n"
     ]
    }
   ],
   "source": [
    "for i in range(5):\n",
    "    print(sentences[i])"
   ]
  },
  {
   "cell_type": "code",
   "execution_count": 15,
   "id": "1a8d74d3",
   "metadata": {},
   "outputs": [],
   "source": [
    "from gensim.models.word2vec import Word2Vec"
   ]
  },
  {
   "cell_type": "code",
   "execution_count": 16,
   "id": "aef106ca",
   "metadata": {},
   "outputs": [],
   "source": [
    "model=Word2Vec(sentences)"
   ]
  },
  {
   "cell_type": "markdown",
   "id": "60d02441",
   "metadata": {},
   "source": [
    "---"
   ]
  },
  {
   "cell_type": "code",
   "execution_count": 17,
   "id": "796908f3",
   "metadata": {},
   "outputs": [],
   "source": [
    "import numpy as np\n",
    "import urllib.request\n",
    "from tensorflow.keras.utils import to_categorical"
   ]
  },
  {
   "cell_type": "code",
   "execution_count": 18,
   "id": "19847d68",
   "metadata": {},
   "outputs": [
    {
     "data": {
      "text/plain": [
       "('11-0.txt', <http.client.HTTPMessage at 0x214b38723d0>)"
      ]
     },
     "execution_count": 18,
     "metadata": {},
     "output_type": "execute_result"
    }
   ],
   "source": [
    "urllib.request.urlretrieve('http://www.gutengerg.org/files/11/11-0.txt', filename='11-0.txt')"
   ]
  },
  {
   "cell_type": "code",
   "execution_count": 19,
   "id": "14d925a2",
   "metadata": {},
   "outputs": [],
   "source": [
    "f=open('11-0.txt', 'rb')"
   ]
  },
  {
   "cell_type": "code",
   "execution_count": 20,
   "id": "95347f8d",
   "metadata": {},
   "outputs": [],
   "source": [
    "sentences=[]\n",
    "for sentence in f:\n",
    "    sentence=sentence.strip()\n",
    "    sentence=sentence.lower()\n",
    "    sentence=sentence.decode('ascii', 'ignore')\n",
    "    if len(sentence)>0:\n",
    "        sentences.append(sentence)\n",
    "f.close()"
   ]
  },
  {
   "cell_type": "code",
   "execution_count": 21,
   "id": "34237984",
   "metadata": {},
   "outputs": [
    {
     "data": {
      "text/plain": [
       "['<html>',\n",
       " '<head>',\n",
       " '<script>',\n",
       " 'var forwardingurl = \"/page/bouncy.php?&bpae=gbhodqcmolx%2fipn2pkvy7mgn00wsezmww7w6pua4%2fxnk9stah%2fzlemooirewxrrvkavm3rfmu3jtgsmv%2fck4yfk1l3f9u23ywmznq9geesg3%2fhtev3uns5q%2b66b7tooqyjp3z2ddpm97dlsqzzfm2x2ynylion2x%2b5nxasxoag4so%2bdowr2wbjgpt%2bclqhku4ascm5h6iobb2tajq%2fc9jhtlpljiybtr5aerk1ljchv%2fgmqb5nb7ij4tef47fzk7btspgcxohljfyqnnztrqmitrscjvipnd%2bb50i24z0kvudiu0fitt2hsgjzda46khyzyyb2niuwspb0if0eos3my8onzzwoiqno6uer3y8vfox0lpyi8w2dvzghotxvee0nl5bsccb50q0skvmq%3d%3d&redirecttype=js\";',\n",
       " 'var destinationurl = \"/page/bouncy.php?&bpae=gbhodqcmolx%2fipn2pkvy7mgn00wsezmww7w6pua4%2fxnk9stah%2fzlemooirewxrrvkavm3rfmu3jtgsmv%2fck4yfk1l3f9u23ywmznq9geesg3%2fhtev3uns5q%2b66b7tooqyjp3z2ddpm97dlsqzzfm2x2ynylion2x%2b5nxasxoag4so%2bdowr2wbjgpt%2bclqhku4ascm5h6iobb2tajq%2fc9jhtlpljiybtr5aerk1ljchv%2fgmqb5nb7ij4tef47fzk7btspgcxohljfyqnnztrqmitrscjvipnd%2bb50i24z0kvudiu0fitt2hsgjzda46khyzyyb2niuwspb0if0eos3my8onzzwoiqno6uer3y8vfox0lpyi8w2dvzghotxvee0nl5bsccb50q0skvmq%3d%3d&redirecttype=meta\";']"
      ]
     },
     "execution_count": 21,
     "metadata": {},
     "output_type": "execute_result"
    }
   ],
   "source": [
    "sentences[:5]"
   ]
  },
  {
   "cell_type": "code",
   "execution_count": null,
   "id": "ada0f2dd",
   "metadata": {},
   "outputs": [],
   "source": []
  }
 ],
 "metadata": {
  "kernelspec": {
   "display_name": "Python 3 (ipykernel)",
   "language": "python",
   "name": "python3"
  },
  "language_info": {
   "codemirror_mode": {
    "name": "ipython",
    "version": 3
   },
   "file_extension": ".py",
   "mimetype": "text/x-python",
   "name": "python",
   "nbconvert_exporter": "python",
   "pygments_lexer": "ipython3",
   "version": "3.9.12"
  }
 },
 "nbformat": 4,
 "nbformat_minor": 5
}
