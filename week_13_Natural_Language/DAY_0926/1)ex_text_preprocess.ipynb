{
 "cells": [
  {
   "cell_type": "markdown",
   "id": "e59fa78c",
   "metadata": {},
   "source": [
    "# 텍스트 전처리\n",
    "---\n",
    "- 패키지 설치\n",
    "    * NLTK : pip install nltk\n",
    "    * KoNLPy : pip install konlpy"
   ]
  },
  {
   "cell_type": "code",
   "execution_count": 1,
   "id": "b6a4c703",
   "metadata": {},
   "outputs": [
    {
     "name": "stdout",
     "output_type": "stream",
     "text": [
      "Defaulting to user installation because normal site-packages is not writeable\n",
      "Requirement already satisfied: konlpy in c:\\programdata\\anaconda3\\lib\\site-packages (0.6.0)\n",
      "Requirement already satisfied: JPype1>=0.7.0 in c:\\programdata\\anaconda3\\lib\\site-packages (from konlpy) (1.4.0)\n",
      "Requirement already satisfied: lxml>=4.1.0 in c:\\programdata\\anaconda3\\lib\\site-packages (from konlpy) (4.8.0)\n",
      "Requirement already satisfied: numpy>=1.6 in c:\\programdata\\anaconda3\\lib\\site-packages (from konlpy) (1.22.3)\n"
     ]
    }
   ],
   "source": [
    "#!pip install konlpy"
   ]
  },
  {
   "cell_type": "code",
   "execution_count": 2,
   "id": "98148531",
   "metadata": {},
   "outputs": [
    {
     "name": "stdout",
     "output_type": "stream",
     "text": [
      "Defaulting to user installation because normal site-packages is not writeable\n",
      "Requirement already satisfied: nltk in c:\\programdata\\anaconda3\\lib\\site-packages (3.7)\n",
      "Requirement already satisfied: click in c:\\programdata\\anaconda3\\lib\\site-packages (from nltk) (8.0.4)\n",
      "Requirement already satisfied: regex>=2021.8.3 in c:\\programdata\\anaconda3\\lib\\site-packages (from nltk) (2022.3.15)\n",
      "Requirement already satisfied: joblib in c:\\programdata\\anaconda3\\lib\\site-packages (from nltk) (1.1.0)\n",
      "Requirement already satisfied: tqdm in c:\\programdata\\anaconda3\\lib\\site-packages (from nltk) (4.64.0)\n",
      "Requirement already satisfied: colorama in c:\\programdata\\anaconda3\\lib\\site-packages (from click->nltk) (0.4.4)\n"
     ]
    }
   ],
   "source": [
    "#!pip install nltk"
   ]
  },
  {
   "cell_type": "markdown",
   "id": "e9aaf06d",
   "metadata": {},
   "source": [
    "## [1] 토큰화(Tokenization)\n",
    "---\n",
    "- 문장/문서를 의미를 지닌 작은 단위로 나누는 것\n",
    "- 나누어진 단어를 토큰(Token)이라 함\n",
    "- 종류\n",
    "    * 문장 토큰화\n",
    "    * 단어 토큰화"
   ]
  },
  {
   "cell_type": "code",
   "execution_count": 1,
   "id": "a515ee01",
   "metadata": {},
   "outputs": [],
   "source": [
    "from nltk.tokenize import sent_tokenize, word_tokenize\n",
    "import nltk"
   ]
  },
  {
   "cell_type": "code",
   "execution_count": 4,
   "id": "ab1adb03",
   "metadata": {},
   "outputs": [],
   "source": [
    "raw_text1='If called with no arguments, download() will display an interactive interface which can be used to download and install new packages. If Tkinter is available, then a graphical interface will be shown, otherwise a simple text interface will be provided.'\n",
    "raw_text2='Individual packages can be downloaded by calling the download() function with a single argument, giving the package identifier for the package that should be downloaded:'"
   ]
  },
  {
   "cell_type": "code",
   "execution_count": 20,
   "id": "186ec409",
   "metadata": {},
   "outputs": [],
   "source": [
    "raw_text_long=\"If called with no arguments, download() will display an interactive interface which can be used to download and install new packages. If Tkinter is available, then a graphical interface will be shown, otherwise a simple text interface will be provided. Individual packages can be downloadedby calling the download() function with a single argument, giving the package identifier for the package that should be downloaded:\""
   ]
  },
  {
   "cell_type": "code",
   "execution_count": 6,
   "id": "fd78c656",
   "metadata": {},
   "outputs": [
    {
     "name": "stdout",
     "output_type": "stream",
     "text": [
      "['If', 'called', 'with', 'no', 'arguments', ',', 'download', '(', ')', 'will', 'display', 'an', 'interactive', 'interface', 'which', 'can', 'be', 'used', 'to', 'download', 'and', 'install', 'new', 'packages', '.', 'If', 'Tkinter', 'is', 'available', ',', 'then', 'a', 'graphical', 'interface', 'will', 'be', 'shown', ',', 'otherwise', 'a', 'simple', 'text', 'interface', 'will', 'be', 'provided', '.']\n"
     ]
    }
   ],
   "source": [
    "# 단어 단위 토큰화\n",
    "result1=word_tokenize(raw_text1)\n",
    "print(result1)"
   ]
  },
  {
   "cell_type": "code",
   "execution_count": 7,
   "id": "ee4a67a7",
   "metadata": {},
   "outputs": [],
   "source": [
    "# 문장 단위 토큰화\n",
    "raw_text=[raw_text1, raw_text2]"
   ]
  },
  {
   "cell_type": "code",
   "execution_count": 8,
   "id": "a51c97bc",
   "metadata": {},
   "outputs": [
    {
     "data": {
      "text/plain": [
       "['If called with no arguments, download() will display an interactive interface which can be used to download and install new packages. If Tkinter is available, then a graphical interface will be shown, otherwise a simple text interface will be provided.',\n",
       " 'Individual packages can be downloaded by calling the download() function with a single argument, giving the package identifier for the package that should be downloaded:']"
      ]
     },
     "execution_count": 8,
     "metadata": {},
     "output_type": "execute_result"
    }
   ],
   "source": [
    "raw_text"
   ]
  },
  {
   "cell_type": "code",
   "execution_count": 21,
   "id": "516d7b9e",
   "metadata": {},
   "outputs": [],
   "source": [
    "sent_result=sent_tokenize(raw_text_long)"
   ]
  },
  {
   "cell_type": "code",
   "execution_count": 22,
   "id": "1b1f9856",
   "metadata": {},
   "outputs": [
    {
     "data": {
      "text/plain": [
       "['If called with no arguments, download() will display an interactive interface which can be used to download and install new packages.',\n",
       " 'If Tkinter is available, then a graphical interface will be shown, otherwise a simple text interface will be provided.',\n",
       " 'Individual packages can be downloadedby calling the download() function with a single argument, giving the package identifier for the package that should be downloaded:']"
      ]
     },
     "execution_count": 22,
     "metadata": {},
     "output_type": "execute_result"
    }
   ],
   "source": [
    "sent_result"
   ]
  },
  {
   "cell_type": "markdown",
   "id": "49350847",
   "metadata": {},
   "source": [
    "### 여러 문장의 토큰 추출\n",
    "---"
   ]
  },
  {
   "cell_type": "code",
   "execution_count": 28,
   "id": "63c84b23",
   "metadata": {},
   "outputs": [
    {
     "name": "stdout",
     "output_type": "stream",
     "text": [
      "sent => If called with no arguments, download() will display an interactive interface which can be used to download and install new packages. If Tkinter is available, then a graphical interface will be shown, otherwise a simple text interface will be provided.\n",
      "['If', 'called', 'with', 'no', 'arguments', ',', 'download', '(', ')', 'will', 'display', 'an', 'interactive', 'interface', 'which', 'can', 'be', 'used', 'to', 'download', 'and', 'install', 'new', 'packages', '.', 'If', 'Tkinter', 'is', 'available', ',', 'then', 'a', 'graphical', 'interface', 'will', 'be', 'shown', ',', 'otherwise', 'a', 'simple', 'text', 'interface', 'will', 'be', 'provided', '.']\n",
      "-----\n",
      "sentToken => ['If', 'called', 'with', 'no', 'arguments', ',', 'download', '(', ')', 'will', 'display', 'an', 'interactive', 'interface', 'which', 'can', 'be', 'used', 'to', 'download', 'and', 'install', 'new', 'packages', '.', 'If', 'Tkinter', 'is', 'available', ',', 'then', 'a', 'graphical', 'interface', 'will', 'be', 'shown', ',', 'otherwise', 'a', 'simple', 'text', 'interface', 'will', 'be', 'provided', '.']\n",
      "sent => Individual packages can be downloaded by calling the download() function with a single argument, giving the package identifier for the package that should be downloaded:\n",
      "['Individual', 'packages', 'can', 'be', 'downloaded', 'by', 'calling', 'the', 'download', '(', ')', 'function', 'with', 'a', 'single', 'argument', ',', 'giving', 'the', 'package', 'identifier', 'for', 'the', 'package', 'that', 'should', 'be', 'downloaded', ':']\n",
      "-----\n",
      "sentToken => ['Individual', 'packages', 'can', 'be', 'downloaded', 'by', 'calling', 'the', 'download', '(', ')', 'function', 'with', 'a', 'single', 'argument', ',', 'giving', 'the', 'package', 'identifier', 'for', 'the', 'package', 'that', 'should', 'be', 'downloaded', ':']\n"
     ]
    }
   ],
   "source": [
    "# 문장 단위로 추출\n",
    "for sent in raw_text:\n",
    "    total_token=[]\n",
    "    # 문장 추출\n",
    "    sentResult=sent_tokenize(sent)\n",
    "    \n",
    "    # 문장 단위로 추출\n",
    "    print(f'sent => {sent}')\n",
    "    \n",
    "    for ele in sentResult:\n",
    "        wordResult=word_tokenize(ele)\n",
    "        \n",
    "    sentToken=word_tokenize(sent)\n",
    "    print(sentToken, '-----', sep='\\n')\n",
    "    print(f'sentToken => {sentToken}')\n",
    "    \n",
    "    # 모든 문장의 토큰에 추가\n",
    "    total_token.append(raw_text2)\n",
    "    \n"
   ]
  },
  {
   "cell_type": "markdown",
   "id": "d5ff23d9",
   "metadata": {},
   "source": [
    "### 한글\n",
    "---"
   ]
  },
  {
   "cell_type": "code",
   "execution_count": 2,
   "id": "c897ea01",
   "metadata": {},
   "outputs": [],
   "source": [
    "from konlpy.tag import Okt\n",
    "\n",
    "# 형태소 분리 객체\n",
    "okt=Okt()"
   ]
  },
  {
   "cell_type": "code",
   "execution_count": 31,
   "id": "6aa100e6",
   "metadata": {},
   "outputs": [
    {
     "name": "stdout",
     "output_type": "stream",
     "text": [
      "['오늘', '은', '월요일', '입니다', '.']\n"
     ]
    }
   ],
   "source": [
    "# 형태소 분리\n",
    "result=okt.morphs('오늘은 월요일입니다.')\n",
    "print(result)"
   ]
  },
  {
   "cell_type": "code",
   "execution_count": 32,
   "id": "c3083c4c",
   "metadata": {},
   "outputs": [
    {
     "name": "stdout",
     "output_type": "stream",
     "text": [
      "[('오늘', 'Noun'), ('은', 'Josa'), ('월요일', 'Noun'), ('입니다', 'Adjective'), ('.', 'Punctuation')]\n"
     ]
    }
   ],
   "source": [
    "# 형태소 분리 후 태깅(Tagging) => 품사\n",
    "result2=okt.pos('오늘은 월요일입니다.')\n",
    "print(result2)"
   ]
  },
  {
   "cell_type": "code",
   "execution_count": 34,
   "id": "8ba7ee68",
   "metadata": {},
   "outputs": [
    {
     "name": "stdout",
     "output_type": "stream",
     "text": [
      "[('오늘', 'Noun'), ('은', 'Josa'), ('월요일', 'Noun'), ('이다', 'Adjective'), ('.', 'Punctuation')]\n"
     ]
    }
   ],
   "source": [
    "# 어간을 가져옴\n",
    "result3=okt.pos('오늘은 월요일입니다.', stem=True)\n",
    "print(result3)"
   ]
  },
  {
   "cell_type": "code",
   "execution_count": 37,
   "id": "8dd6143f",
   "metadata": {},
   "outputs": [
    {
     "name": "stderr",
     "output_type": "stream",
     "text": [
      "[nltk_data] Downloading package stopwords to\n",
      "[nltk_data]     C:\\Users\\User\\AppData\\Roaming\\nltk_data...\n",
      "[nltk_data]   Unzipping corpora\\stopwords.zip.\n"
     ]
    },
    {
     "data": {
      "text/plain": [
       "True"
      ]
     },
     "execution_count": 37,
     "metadata": {},
     "output_type": "execute_result"
    }
   ],
   "source": [
    "# 불용어 패키지 다운로드\n",
    "nltk.download('stopwords')"
   ]
  },
  {
   "cell_type": "markdown",
   "id": "3b9618de",
   "metadata": {},
   "source": [
    "### [2] 정제 & 정규화\n",
    "---\n",
    "- 불용어 제거 => 노이즈 제거\n",
    "- 텍스트의 동일화\n",
    "    * 대문자 또는 소문자로 통일\n",
    "    * 문장의 길이"
   ]
  },
  {
   "cell_type": "markdown",
   "id": "5ad4b06d",
   "metadata": {},
   "source": [
    "#### [2-1] 불용어(Stopword)"
   ]
  },
  {
   "cell_type": "code",
   "execution_count": 39,
   "id": "2c830227",
   "metadata": {},
   "outputs": [
    {
     "name": "stdout",
     "output_type": "stream",
     "text": [
      "179\n"
     ]
    }
   ],
   "source": [
    "en_stopwords=nltk.corpus.stopwords.words('english')\n",
    "print(len(en_stopwords))"
   ]
  },
  {
   "cell_type": "code",
   "execution_count": 40,
   "id": "65cdd509",
   "metadata": {},
   "outputs": [
    {
     "name": "stdout",
     "output_type": "stream",
     "text": [
      "['i', 'me', 'my', 'myself', 'we', 'our', 'ours', 'ourselves', 'you', \"you're\"]\n"
     ]
    }
   ],
   "source": [
    "print(en_stopwords[:10])"
   ]
  },
  {
   "cell_type": "markdown",
   "id": "76d783bb",
   "metadata": {},
   "source": [
    "#### [2-2] 어간 및 표제어 처리\n",
    "---"
   ]
  },
  {
   "cell_type": "code",
   "execution_count": 3,
   "id": "90c6edfc",
   "metadata": {},
   "outputs": [],
   "source": [
    "from nltk.stem import LancasterStemmer\n",
    "# 얘는 결과가 사전에 없을 수도 있음\n",
    "# ex) amusing => amus"
   ]
  },
  {
   "cell_type": "code",
   "execution_count": 43,
   "id": "628f2105",
   "metadata": {},
   "outputs": [],
   "source": [
    "# 어간 추출\n",
    "lstem=LancasterStemmer()"
   ]
  },
  {
   "cell_type": "code",
   "execution_count": 44,
   "id": "21370ff3",
   "metadata": {},
   "outputs": [
    {
     "data": {
      "text/plain": [
       "('work', 'work', 'work')"
      ]
     },
     "execution_count": 44,
     "metadata": {},
     "output_type": "execute_result"
    }
   ],
   "source": [
    "lstem.stem('working'), lstem.stem('worked'), lstem.stem('worken')"
   ]
  },
  {
   "cell_type": "code",
   "execution_count": 46,
   "id": "cd708a5d",
   "metadata": {},
   "outputs": [
    {
     "data": {
      "text/plain": [
       "('happy', 'happy')"
      ]
     },
     "execution_count": 46,
     "metadata": {},
     "output_type": "execute_result"
    }
   ],
   "source": [
    "lstem.stem('happy'), lstem.stem('happiness')"
   ]
  },
  {
   "cell_type": "code",
   "execution_count": 47,
   "id": "c466a99d",
   "metadata": {},
   "outputs": [
    {
     "data": {
      "text/plain": [
       "('amus', 'amus')"
      ]
     },
     "execution_count": 47,
     "metadata": {},
     "output_type": "execute_result"
    }
   ],
   "source": [
    "lstem.stem('amuse'), lstem.stem('amused')"
   ]
  },
  {
   "cell_type": "code",
   "execution_count": 4,
   "id": "1e9c2217",
   "metadata": {},
   "outputs": [],
   "source": [
    "# 표제어(사전에 등록된 단어 추출)   # ex) amusing => amuse\n",
    "from nltk.stem import WordNetLemmatizer"
   ]
  },
  {
   "cell_type": "code",
   "execution_count": 51,
   "id": "b782e2bb",
   "metadata": {},
   "outputs": [],
   "source": [
    "wlemma=WordNetLemmatizer()"
   ]
  },
  {
   "cell_type": "code",
   "execution_count": 5,
   "id": "0bf3df24",
   "metadata": {},
   "outputs": [],
   "source": [
    "import nltk\n",
    "#nltk.download('wordnet')"
   ]
  },
  {
   "cell_type": "code",
   "execution_count": 156,
   "id": "37540b86",
   "metadata": {},
   "outputs": [
    {
     "data": {
      "text/plain": [
       "('work', 'work')"
      ]
     },
     "execution_count": 156,
     "metadata": {},
     "output_type": "execute_result"
    }
   ],
   "source": [
    "wlemma.lemmatize('working', 'v'), wlemma.lemmatize('worked', 'v')"
   ]
  },
  {
   "cell_type": "code",
   "execution_count": 155,
   "id": "45bb7420",
   "metadata": {},
   "outputs": [
    {
     "name": "stderr",
     "output_type": "stream",
     "text": [
      "[nltk_data] Downloading package omw-1.4 to\n",
      "[nltk_data]     C:\\Users\\User\\AppData\\Roaming\\nltk_data...\n"
     ]
    },
    {
     "data": {
      "text/plain": [
       "True"
      ]
     },
     "execution_count": 155,
     "metadata": {},
     "output_type": "execute_result"
    }
   ],
   "source": [
    "nltk.download('omw-1.4')"
   ]
  },
  {
   "cell_type": "markdown",
   "id": "b291ef7f",
   "metadata": {},
   "source": [
    "### [3] 텍스트 벡터화\n",
    "---\n",
    "- 텍스트 => 수치화\n",
    "- 희소벡터(OneHotEncoding) : BOW 방식 --> Count 기반, TF-IDF 기반\n",
    "- 밀집벡터 : Embedding 방식. Word2Vect"
   ]
  },
  {
   "cell_type": "code",
   "execution_count": 6,
   "id": "b753356c",
   "metadata": {},
   "outputs": [],
   "source": [
    "from sklearn.feature_extraction.text import CountVectorizer, TfidfVectorizer"
   ]
  },
  {
   "cell_type": "code",
   "execution_count": 57,
   "id": "c3e27e73",
   "metadata": {},
   "outputs": [],
   "source": [
    "corpus=[raw_text1, raw_text2]"
   ]
  },
  {
   "cell_type": "code",
   "execution_count": 58,
   "id": "f38f8ed4",
   "metadata": {},
   "outputs": [
    {
     "data": {
      "text/plain": [
       "CountVectorizer()"
      ]
     },
     "execution_count": 58,
     "metadata": {},
     "output_type": "execute_result"
    }
   ],
   "source": [
    "ohe=CountVectorizer()\n",
    "ohe.fit(corpus)"
   ]
  },
  {
   "cell_type": "code",
   "execution_count": 59,
   "id": "e582e555",
   "metadata": {},
   "outputs": [],
   "source": [
    "result=ohe.transform(corpus)"
   ]
  },
  {
   "cell_type": "code",
   "execution_count": 61,
   "id": "92ec5d97",
   "metadata": {},
   "outputs": [
    {
     "name": "stdout",
     "output_type": "stream",
     "text": [
      "<class 'scipy.sparse.csr.csr_matrix'>\n",
      "  (0, 0)\t1\n",
      "  (0, 1)\t1\n",
      "  (0, 3)\t1\n",
      "  (0, 4)\t1\n",
      "  (0, 5)\t3\n",
      "  (0, 7)\t1\n",
      "  (0, 9)\t1\n",
      "  (0, 10)\t1\n",
      "  (0, 11)\t2\n",
      "  (0, 16)\t1\n",
      "  (0, 18)\t2\n",
      "  (0, 20)\t1\n",
      "  (0, 21)\t1\n",
      "  (0, 22)\t3\n",
      "  (0, 23)\t1\n",
      "  (0, 24)\t1\n",
      "  (0, 25)\t1\n",
      "  (0, 26)\t1\n",
      "  (0, 28)\t1\n",
      "  (0, 29)\t1\n",
      "  (0, 31)\t1\n",
      "  (0, 32)\t1\n",
      "  (0, 34)\t1\n",
      "  (0, 37)\t1\n",
      "  (0, 38)\t1\n",
      "  (0, 39)\t1\n",
      "  (0, 40)\t1\n",
      "  (0, 41)\t1\n",
      "  (0, 42)\t3\n",
      "  (0, 43)\t1\n",
      "  (1, 2)\t1\n",
      "  (1, 5)\t2\n",
      "  (1, 6)\t1\n",
      "  (1, 8)\t1\n",
      "  (1, 9)\t1\n",
      "  (1, 11)\t1\n",
      "  (1, 12)\t2\n",
      "  (1, 13)\t1\n",
      "  (1, 14)\t1\n",
      "  (1, 15)\t1\n",
      "  (1, 17)\t1\n",
      "  (1, 19)\t1\n",
      "  (1, 27)\t2\n",
      "  (1, 28)\t1\n",
      "  (1, 30)\t1\n",
      "  (1, 33)\t1\n",
      "  (1, 35)\t1\n",
      "  (1, 36)\t3\n",
      "  (1, 43)\t1\n"
     ]
    }
   ],
   "source": [
    "print(type(result), result, sep='\\n')"
   ]
  },
  {
   "cell_type": "code",
   "execution_count": 62,
   "id": "5bd01b2b",
   "metadata": {},
   "outputs": [
    {
     "name": "stdout",
     "output_type": "stream",
     "text": [
      "[[1 1 0 1 1 3 0 1 0 1 1 2 0 0 0 0 1 0 2 0 1 1 3 1 1 1 1 0 1 1 0 1 1 0 1 0\n",
      "  0 1 1 1 1 1 3 1]\n",
      " [0 0 1 0 0 2 1 0 1 1 0 1 2 1 1 1 0 1 0 1 0 0 0 0 0 0 0 2 1 0 1 0 0 1 0 1\n",
      "  3 0 0 0 0 0 0 1]]\n"
     ]
    }
   ],
   "source": [
    "ret=result.toarray()\n",
    "print(ret)"
   ]
  },
  {
   "cell_type": "code",
   "execution_count": 64,
   "id": "fec69e2f",
   "metadata": {},
   "outputs": [
    {
     "name": "stdout",
     "output_type": "stream",
     "text": [
      "(2, 44)\n",
      "[[1 1 0 1 1 3 0 1 0 1 1 2 0 0 0 0 1 0 2 0 1 1 3 1 1 1 1 0 1 1 0 1 1 0 1 0\n",
      "  0 1 1 1 1 1 3 1]\n",
      " [0 0 1 0 0 2 1 0 1 1 0 1 2 1 1 1 0 1 0 1 0 0 0 0 0 0 0 2 1 0 1 0 0 1 0 1\n",
      "  3 0 0 0 0 0 0 1]]\n"
     ]
    }
   ],
   "source": [
    "print(ret.shape, ret, sep='\\n')"
   ]
  },
  {
   "cell_type": "code",
   "execution_count": 66,
   "id": "6cf0321e",
   "metadata": {},
   "outputs": [],
   "source": [
    "## TF-IDF 기반\n",
    "tfldf=TfidfVectorizer()"
   ]
  },
  {
   "cell_type": "code",
   "execution_count": 67,
   "id": "ed6037de",
   "metadata": {},
   "outputs": [],
   "source": [
    "tf_corpus=tfldf.fit_transform(corpus)"
   ]
  },
  {
   "cell_type": "code",
   "execution_count": 68,
   "id": "c356dd28",
   "metadata": {},
   "outputs": [
    {
     "data": {
      "text/plain": [
       "scipy.sparse.csr.csr_matrix"
      ]
     },
     "execution_count": 68,
     "metadata": {},
     "output_type": "execute_result"
    }
   ],
   "source": [
    "type(tf_corpus)"
   ]
  },
  {
   "cell_type": "code",
   "execution_count": 69,
   "id": "2d27156e",
   "metadata": {},
   "outputs": [
    {
     "name": "stdout",
     "output_type": "stream",
     "text": [
      "[[0.13854203 0.13854203 0.         0.13854203 0.13854203 0.29572138\n",
      "  0.         0.13854203 0.         0.09857379 0.13854203 0.19714759\n",
      "  0.         0.         0.         0.         0.13854203 0.\n",
      "  0.27708406 0.         0.13854203 0.13854203 0.41562608 0.13854203\n",
      "  0.13854203 0.13854203 0.13854203 0.         0.09857379 0.13854203\n",
      "  0.         0.13854203 0.13854203 0.         0.13854203 0.\n",
      "  0.         0.13854203 0.13854203 0.13854203 0.13854203 0.13854203\n",
      "  0.41562608 0.09857379]\n",
      " [0.         0.         0.17663888 0.         0.         0.25136004\n",
      "  0.17663888 0.         0.17663888 0.12568002 0.         0.12568002\n",
      "  0.35327777 0.17663888 0.17663888 0.17663888 0.         0.17663888\n",
      "  0.         0.17663888 0.         0.         0.         0.\n",
      "  0.         0.         0.         0.35327777 0.12568002 0.\n",
      "  0.17663888 0.         0.         0.17663888 0.         0.17663888\n",
      "  0.52991665 0.         0.         0.         0.         0.\n",
      "  0.         0.12568002]]\n"
     ]
    }
   ],
   "source": [
    "tf_corpus=tf_corpus.toarray()\n",
    "print(tf_corpus)"
   ]
  },
  {
   "cell_type": "code",
   "execution_count": 72,
   "id": "917a632d",
   "metadata": {},
   "outputs": [],
   "source": [
    "sent='Wiki is in Ward is original description: The simplest online database that could possibly work.\\\n",
    "Wiki is a piece of server software that allows users to freely create and edit Web page content using any Web browser. Wiki supports hyperlinks and has a simple text syntax for creating new pages and crosslinks between internal pages on the fly.\\\n",
    "Wiki is unusual among group communication mechanisms in that it allows the organization of contributions to be edited in addition to the content itself.Like many simple concepts, \"open editing\" has some profound and subtle effects on Wiki usage. Allowing everyday users to create and edit any page in a Web site is exciting in that it encourages democratic use of the Web and promotes content composition by nontechnical users.'"
   ]
  },
  {
   "cell_type": "code",
   "execution_count": 74,
   "id": "1506981e",
   "metadata": {},
   "outputs": [
    {
     "name": "stdout",
     "output_type": "stream",
     "text": [
      "['Wiki', 'Ward', 'original', 'description', ':', 'The', 'simplest', 'online', 'database', 'could', 'possibly', 'work.Wiki', 'piece', 'server', 'software', 'allows', 'users', 'freely', 'create', 'edit', 'Web', 'page', 'content', 'using', 'Web', 'browser', '.', 'Wiki', 'supports', 'hyperlinks', 'simple', 'text', 'syntax', 'creating', 'new', 'pages', 'crosslinks', 'internal', 'pages', 'fly.Wiki', 'unusual', 'among', 'group', 'communication', 'mechanisms', 'allows', 'organization', 'contributions', 'edited', 'addition', 'content', 'itself.Like', 'many', 'simple', 'concepts', ',', '``', 'open', 'editing', \"''\", 'profound', 'subtle', 'effects', 'Wiki', 'usage', '.', 'Allowing', 'everyday', 'users', 'create', 'edit', 'page', 'Web', 'site', 'exciting', 'encourages', 'democratic', 'use', 'Web', 'promotes', 'content', 'composition', 'nontechnical', 'users', '.']\n"
     ]
    }
   ],
   "source": [
    "# 불용어 제거하고 토큰화하기\n",
    "\n",
    "result=[]\n",
    "tok=word_tokenize(sent)\n",
    "\n",
    "for s in tok:\n",
    "    if s not in en_stopwords:\n",
    "        result.append(s)\n",
    "        \n",
    "print(result)\n",
    "\n",
    "# 한 줄 버전\n",
    "# len([s for s in tok if s not in en_stopwords])"
   ]
  },
  {
   "cell_type": "code",
   "execution_count": 75,
   "id": "6cf095fc",
   "metadata": {},
   "outputs": [
    {
     "data": {
      "text/plain": [
       "85"
      ]
     },
     "execution_count": 75,
     "metadata": {},
     "output_type": "execute_result"
    }
   ],
   "source": [
    "len(result)"
   ]
  },
  {
   "cell_type": "markdown",
   "id": "c15db020",
   "metadata": {},
   "source": [
    "## Tokenizer 객체 생성\n",
    "---"
   ]
  },
  {
   "cell_type": "code",
   "execution_count": 7,
   "id": "da0795ac",
   "metadata": {},
   "outputs": [],
   "source": [
    "from tensorflow.keras.preprocessing.text import text_to_word_sequence, Tokenizer"
   ]
  },
  {
   "cell_type": "code",
   "execution_count": 81,
   "id": "59d6a227",
   "metadata": {},
   "outputs": [],
   "source": [
    "raw_text='Wiki is in Ward is original description: The simplest online database that could possibly work.\\\n",
    "Wiki is a piece of server software that allows users to freely create and edit Web page content using any Web browser. Wiki supports hyperlinks and has a simple text syntax for creating new pages and crosslinks between internal pages on the fly.\\\n",
    "Wiki is unusual among group communication mechanisms in that it allows the organization of contributions to be edited in addition to the content itself.Like many simple concepts, \"open editing\" has some profound and subtle effects on Wiki usage. Allowing everyday users to create and edit any page in a Web site is exciting in that it encourages democratic use of the Web and promotes content composition by nontechnical users.'"
   ]
  },
  {
   "cell_type": "code",
   "execution_count": 84,
   "id": "5b3c31cc",
   "metadata": {},
   "outputs": [
    {
     "name": "stdout",
     "output_type": "stream",
     "text": [
      "128\n",
      "['wiki', 'is', 'in', 'ward', 'is', 'original', 'description', 'the', 'simplest', 'online', 'database', 'that', 'could', 'possibly', 'work', 'wiki', 'is', 'a', 'piece', 'of', 'server', 'software', 'that', 'allows', 'users', 'to', 'freely', 'create', 'and', 'edit', 'web', 'page', 'content', 'using', 'any', 'web', 'browser', 'wiki', 'supports', 'hyperlinks', 'and', 'has', 'a', 'simple', 'text', 'syntax', 'for', 'creating', 'new', 'pages', 'and', 'crosslinks', 'between', 'internal', 'pages', 'on', 'the', 'fly', 'wiki', 'is', 'unusual', 'among', 'group', 'communication', 'mechanisms', 'in', 'that', 'it', 'allows', 'the', 'organization', 'of', 'contributions', 'to', 'be', 'edited', 'in', 'addition', 'to', 'the', 'content', 'itself', 'like', 'many', 'simple', 'concepts', 'open', 'editing', 'has', 'some', 'profound', 'and', 'subtle', 'effects', 'on', 'wiki', 'usage', 'allowing', 'everyday', 'users', 'to', 'create', 'and', 'edit', 'any', 'page', 'in', 'a', 'web', 'site', 'is', 'exciting', 'in', 'that', 'it', 'encourages', 'democratic', 'use', 'of', 'the', 'web', 'and', 'promotes', 'content', 'composition', 'by', 'nontechnical', 'users']\n"
     ]
    }
   ],
   "source": [
    "# 토큰으로 나누기\n",
    "tokens=text_to_word_sequence(raw_text)\n",
    "print(len(tokens), tokens, sep='\\n')"
   ]
  },
  {
   "cell_type": "code",
   "execution_count": 85,
   "id": "3cce8648",
   "metadata": {},
   "outputs": [],
   "source": [
    "myToken=Tokenizer()"
   ]
  },
  {
   "cell_type": "code",
   "execution_count": 86,
   "id": "29a21b59",
   "metadata": {},
   "outputs": [],
   "source": [
    "myToken.fit_on_texts(tokens)"
   ]
  },
  {
   "cell_type": "code",
   "execution_count": 88,
   "id": "60b5ab83",
   "metadata": {},
   "outputs": [
    {
     "name": "stdout",
     "output_type": "stream",
     "text": [
      "{'and': 1, 'wiki': 2, 'is': 3, 'in': 4, 'the': 5, 'that': 6, 'to': 7, 'web': 8, 'a': 9, 'of': 10, 'users': 11, 'content': 12, 'allows': 13, 'create': 14, 'edit': 15, 'page': 16, 'any': 17, 'has': 18, 'simple': 19, 'pages': 20, 'on': 21, 'it': 22, 'ward': 23, 'original': 24, 'description': 25, 'simplest': 26, 'online': 27, 'database': 28, 'could': 29, 'possibly': 30, 'work': 31, 'piece': 32, 'server': 33, 'software': 34, 'freely': 35, 'using': 36, 'browser': 37, 'supports': 38, 'hyperlinks': 39, 'text': 40, 'syntax': 41, 'for': 42, 'creating': 43, 'new': 44, 'crosslinks': 45, 'between': 46, 'internal': 47, 'fly': 48, 'unusual': 49, 'among': 50, 'group': 51, 'communication': 52, 'mechanisms': 53, 'organization': 54, 'contributions': 55, 'be': 56, 'edited': 57, 'addition': 58, 'itself': 59, 'like': 60, 'many': 61, 'concepts': 62, 'open': 63, 'editing': 64, 'some': 65, 'profound': 66, 'subtle': 67, 'effects': 68, 'usage': 69, 'allowing': 70, 'everyday': 71, 'site': 72, 'exciting': 73, 'encourages': 74, 'democratic': 75, 'use': 76, 'promotes': 77, 'composition': 78, 'by': 79, 'nontechnical': 80}\n"
     ]
    }
   ],
   "source": [
    "print(myToken.word_index)"
   ]
  },
  {
   "cell_type": "code",
   "execution_count": 89,
   "id": "e6057a40",
   "metadata": {},
   "outputs": [
    {
     "name": "stdout",
     "output_type": "stream",
     "text": [
      "OrderedDict([('wiki', 5), ('is', 5), ('in', 5), ('ward', 1), ('original', 1), ('description', 1), ('the', 5), ('simplest', 1), ('online', 1), ('database', 1), ('that', 4), ('could', 1), ('possibly', 1), ('work', 1), ('a', 3), ('piece', 1), ('of', 3), ('server', 1), ('software', 1), ('allows', 2), ('users', 3), ('to', 4), ('freely', 1), ('create', 2), ('and', 6), ('edit', 2), ('web', 4), ('page', 2), ('content', 3), ('using', 1), ('any', 2), ('browser', 1), ('supports', 1), ('hyperlinks', 1), ('has', 2), ('simple', 2), ('text', 1), ('syntax', 1), ('for', 1), ('creating', 1), ('new', 1), ('pages', 2), ('crosslinks', 1), ('between', 1), ('internal', 1), ('on', 2), ('fly', 1), ('unusual', 1), ('among', 1), ('group', 1), ('communication', 1), ('mechanisms', 1), ('it', 2), ('organization', 1), ('contributions', 1), ('be', 1), ('edited', 1), ('addition', 1), ('itself', 1), ('like', 1), ('many', 1), ('concepts', 1), ('open', 1), ('editing', 1), ('some', 1), ('profound', 1), ('subtle', 1), ('effects', 1), ('usage', 1), ('allowing', 1), ('everyday', 1), ('site', 1), ('exciting', 1), ('encourages', 1), ('democratic', 1), ('use', 1), ('promotes', 1), ('composition', 1), ('by', 1), ('nontechnical', 1)])\n"
     ]
    }
   ],
   "source": [
    "print(myToken.word_counts)"
   ]
  },
  {
   "cell_type": "code",
   "execution_count": 93,
   "id": "8573a08b",
   "metadata": {},
   "outputs": [
    {
     "data": {
      "text/plain": [
       "[[9]]"
      ]
     },
     "execution_count": 93,
     "metadata": {},
     "output_type": "execute_result"
    }
   ],
   "source": [
    "myToken.texts_to_sequences(raw_)"
   ]
  },
  {
   "cell_type": "markdown",
   "id": "be3d5cf1",
   "metadata": {},
   "source": [
    "# Tokenizer 객체 -----------------------------\n",
    "- 제공한 문서/문장에 대한 단어사전(voca)\n",
    "- 단어사전(voca)에 존재하지 않는 단어 => Out Of Voca : oov"
   ]
  },
  {
   "cell_type": "code",
   "execution_count": 95,
   "id": "5637847e",
   "metadata": {},
   "outputs": [],
   "source": [
    "sentences = [\n",
    "  'I love my dog',\n",
    "  'I love my cat',\n",
    "  'You love my dog!',\n",
    "  'Do you think my dog is amazing?'\n",
    "]"
   ]
  },
  {
   "cell_type": "code",
   "execution_count": 109,
   "id": "29769f8d",
   "metadata": {},
   "outputs": [],
   "source": [
    "tokenizer=Tokenizer()\n",
    "\n",
    "# 단어 빈도 수가 높은 순으로 낮은 정수 인덱스 부여\n",
    "tokenizer.fit_on_texts(sentences)"
   ]
  },
  {
   "cell_type": "code",
   "execution_count": 110,
   "id": "9231a2bf",
   "metadata": {},
   "outputs": [
    {
     "name": "stdout",
     "output_type": "stream",
     "text": [
      "{'my': 1, 'love': 2, 'dog': 3, 'i': 4, 'you': 5, 'cat': 6, 'do': 7, 'think': 8, 'is': 9, 'amazing': 10}\n"
     ]
    }
   ],
   "source": [
    "# 단어 인덱스 : 단어 인덱스\n",
    "print(tokenizer.word_index)"
   ]
  },
  {
   "cell_type": "code",
   "execution_count": 111,
   "id": "84da9abc",
   "metadata": {},
   "outputs": [
    {
     "data": {
      "text/plain": [
       "OrderedDict([('i', 2),\n",
       "             ('love', 3),\n",
       "             ('my', 4),\n",
       "             ('dog', 3),\n",
       "             ('cat', 1),\n",
       "             ('you', 2),\n",
       "             ('do', 1),\n",
       "             ('think', 1),\n",
       "             ('is', 1),\n",
       "             ('amazing', 1)])"
      ]
     },
     "execution_count": 111,
     "metadata": {},
     "output_type": "execute_result"
    }
   ],
   "source": [
    "# 단어 출력 개수\n",
    "tokenizer.word_counts"
   ]
  },
  {
   "cell_type": "code",
   "execution_count": 112,
   "id": "9fdaaafa",
   "metadata": {},
   "outputs": [
    {
     "data": {
      "text/plain": [
       "[[4, 2, 1, 3], [4, 2, 1, 6], [5, 2, 1, 3], [7, 5, 8, 1, 3, 9, 10]]"
      ]
     },
     "execution_count": 112,
     "metadata": {},
     "output_type": "execute_result"
    }
   ],
   "source": [
    "# 문장을 생성된 사전(voca)를 기반으로 수치화\n",
    "tokenizer.texts_to_sequences(sentences)"
   ]
  },
  {
   "cell_type": "markdown",
   "id": "9025e200",
   "metadata": {},
   "source": [
    "### 패딩(Padding)\n",
    "---\n",
    "- 길이가 모두 다른 문장들을 동일 길이로 맞추기 위한 과정\n",
    "- 길이 기준 설정\n",
    "- 긴 경우 => 앞/뒤 중 선택\n",
    "- 짧은 경우 => 앞/뒤 중 선택\n",
    "- 값 => 패딩에 들어갈 값"
   ]
  },
  {
   "cell_type": "code",
   "execution_count": 8,
   "id": "20d3082b",
   "metadata": {},
   "outputs": [],
   "source": [
    "from tensorflow.keras.utils import pad_sequences"
   ]
  },
  {
   "cell_type": "code",
   "execution_count": 152,
   "id": "b36aaff8",
   "metadata": {},
   "outputs": [],
   "source": [
    "result=tokenizer.texts_to_sequences(sentences)"
   ]
  },
  {
   "cell_type": "code",
   "execution_count": 153,
   "id": "054490b9",
   "metadata": {},
   "outputs": [
    {
     "data": {
      "text/plain": [
       "[[4, 2, 1, 3], [4, 2, 1, 6], [5, 2, 1, 3], [7, 5, 8, 1, 3, 9, 10]]"
      ]
     },
     "execution_count": 153,
     "metadata": {},
     "output_type": "execute_result"
    }
   ],
   "source": [
    "result"
   ]
  },
  {
   "cell_type": "code",
   "execution_count": 154,
   "id": "555ee919",
   "metadata": {},
   "outputs": [
    {
     "data": {
      "text/plain": [
       "array([[ 0,  0,  0,  4,  2,  1,  3],\n",
       "       [ 0,  0,  0,  4,  2,  1,  6],\n",
       "       [ 0,  0,  0,  5,  2,  1,  3],\n",
       "       [ 7,  5,  8,  1,  3,  9, 10]])"
      ]
     },
     "execution_count": 154,
     "metadata": {},
     "output_type": "execute_result"
    }
   ],
   "source": [
    "encoding=pad_sequences(result)\n",
    "encoding"
   ]
  },
  {
   "cell_type": "code",
   "execution_count": null,
   "id": "da9d9f40",
   "metadata": {},
   "outputs": [],
   "source": []
  },
  {
   "cell_type": "code",
   "execution_count": null,
   "id": "5bd4458c",
   "metadata": {},
   "outputs": [],
   "source": []
  },
  {
   "cell_type": "code",
   "execution_count": null,
   "id": "80bcab1d",
   "metadata": {},
   "outputs": [],
   "source": []
  },
  {
   "cell_type": "code",
   "execution_count": null,
   "id": "ee788e5c",
   "metadata": {},
   "outputs": [],
   "source": []
  },
  {
   "cell_type": "markdown",
   "id": "f3a72268",
   "metadata": {},
   "source": [
    "## One-Hot-Encoding 변환\n",
    "---\n",
    "- sklearn OneHotEncoder 객체 생성\n",
    "- keras 함수"
   ]
  },
  {
   "cell_type": "code",
   "execution_count": 9,
   "id": "afb4a22a",
   "metadata": {},
   "outputs": [],
   "source": [
    "from tensorflow.keras.utils import to_categorical"
   ]
  },
  {
   "cell_type": "code",
   "execution_count": 114,
   "id": "3add719c",
   "metadata": {},
   "outputs": [
    {
     "name": "stdout",
     "output_type": "stream",
     "text": [
      "seq_voca : 4\n",
      "[[4, 2, 1, 3], [4, 2, 1, 6], [5, 2, 1, 3], [7, 5, 8, 1, 3, 9, 10]]\n"
     ]
    }
   ],
   "source": [
    "seq_voca=tokenizer.texts_to_sequences(sentences)\n",
    "print(f'seq_voca : {len(seq_voca)}')\n",
    "print(seq_voca)"
   ]
  },
  {
   "cell_type": "code",
   "execution_count": 115,
   "id": "c08d2138",
   "metadata": {},
   "outputs": [
    {
     "data": {
      "text/plain": [
       "array([[0., 0., 0., 0., 0., 0., 0., 1., 0., 0., 0.],\n",
       "       [0., 0., 0., 0., 0., 1., 0., 0., 0., 0., 0.],\n",
       "       [0., 0., 0., 0., 0., 0., 0., 0., 1., 0., 0.],\n",
       "       [0., 1., 0., 0., 0., 0., 0., 0., 0., 0., 0.],\n",
       "       [0., 0., 0., 1., 0., 0., 0., 0., 0., 0., 0.],\n",
       "       [0., 0., 0., 0., 0., 0., 0., 0., 0., 1., 0.],\n",
       "       [0., 0., 0., 0., 0., 0., 0., 0., 0., 0., 1.]], dtype=float32)"
      ]
     },
     "execution_count": 115,
     "metadata": {},
     "output_type": "execute_result"
    }
   ],
   "source": [
    "to_categorical(seq_voca[3])"
   ]
  },
  {
   "cell_type": "code",
   "execution_count": 116,
   "id": "f30d5d8e",
   "metadata": {},
   "outputs": [
    {
     "data": {
      "text/plain": [
       "array([[0., 1., 1., 1., 1., 0., 0., 0., 0., 0., 0.],\n",
       "       [0., 1., 1., 0., 1., 0., 1., 0., 0., 0., 0.],\n",
       "       [0., 1., 1., 1., 0., 1., 0., 0., 0., 0., 0.],\n",
       "       [0., 1., 0., 1., 0., 1., 0., 1., 1., 1., 1.]])"
      ]
     },
     "execution_count": 116,
     "metadata": {},
     "output_type": "execute_result"
    }
   ],
   "source": [
    "tokenizer.texts_to_matrix(sentences)"
   ]
  },
  {
   "cell_type": "markdown",
   "id": "7397e554",
   "metadata": {},
   "source": [
    "# ===================================="
   ]
  },
  {
   "cell_type": "code",
   "execution_count": 10,
   "id": "03b5f1a1",
   "metadata": {},
   "outputs": [
    {
     "data": {
      "text/plain": [
       "'The main Henry Ford Museum building houses some of the classrooms for the Henry Ford Academy\\n\\n\\nHenry Ford Academy is the first charter school in the United States to be developed jointly by a global corporation, public education, and a major nonprofit cultural institution. The school is sponsored by the Ford Motor Company, Wayne County Regional Educational Service Agency and The Henry Ford Museum and admits high school students. It is located in Dearborn, Michigan on the campus of the Henry Ford museum. Enrollment is taken from a lottery in the area and totaled 467 in 2010.[1]\\nFreshman meet inside the main museum building in glass walled classrooms, while older students use a converted carousel building and Pullman cars on a siding of the Greenfield Village railroad. Classes are expected to include use of the museum artifacts, a tradition of the original Village Schools. When the Museum was established in 1929, it included a school which served grades kindergarten to college/trade school ages. The last part of the original school closed in 1969.\\nThe Henry Ford Learning Institute is using the Henry Ford Academy model for further charter schools including the Power House High in Chicago and Alameda School for Art + Design in San Antonio.\\nThe building received the international annual design award of the Council of Educational Facilities Planners International for 2001, the James D. MacConnell Award for outstanding new educational facilities. Notable attendees include Chris Stroud and Isaac Sudut.\\nSee also[edit]'"
      ]
     },
     "execution_count": 10,
     "metadata": {},
     "output_type": "execute_result"
    }
   ],
   "source": [
    "with open('../file/example.txt') as f:\n",
    "    text=f.read()\n",
    "    \n",
    "text"
   ]
  },
  {
   "cell_type": "code",
   "execution_count": 138,
   "id": "8b810ab5",
   "metadata": {},
   "outputs": [
    {
     "name": "stdout",
     "output_type": "stream",
     "text": [
      "246\n",
      "['the', 'main', 'henry', 'ford', 'museum', 'building', 'houses', 'some', 'of', 'the', 'classrooms', 'for', 'the', 'henry', 'ford', 'academy', 'henry', 'ford', 'academy', 'is', 'the', 'first', 'charter', 'school', 'in', 'the', 'united', 'states', 'to', 'be', 'developed', 'jointly', 'by', 'a', 'global', 'corporation', 'public', 'education', 'and', 'a', 'major', 'nonprofit', 'cultural', 'institution', 'the', 'school', 'is', 'sponsored', 'by', 'the', 'ford', 'motor', 'company', 'wayne', 'county', 'regional', 'educational', 'service', 'agency', 'and', 'the', 'henry', 'ford', 'museum', 'and', 'admits', 'high', 'school', 'students', 'it', 'is', 'located', 'in', 'dearborn', 'michigan', 'on', 'the', 'campus', 'of', 'the', 'henry', 'ford', 'museum', 'enrollment', 'is', 'taken', 'from', 'a', 'lottery', 'in', 'the', 'area', 'and', 'totaled', '467', 'in', '2010', '1', 'freshman', 'meet', 'inside', 'the', 'main', 'museum', 'building', 'in', 'glass', 'walled', 'classrooms', 'while', 'older', 'students', 'use', 'a', 'converted', 'carousel', 'building', 'and', 'pullman', 'cars', 'on', 'a', 'siding', 'of', 'the', 'greenfield', 'village', 'railroad', 'classes', 'are', 'expected', 'to', 'include', 'use', 'of', 'the', 'museum', 'artifacts', 'a', 'tradition', 'of', 'the', 'original', 'village', 'schools', 'when', 'the', 'museum', 'was', 'established', 'in', '1929', 'it', 'included', 'a', 'school', 'which', 'served', 'grades', 'kindergarten', 'to', 'college', 'trade', 'school', 'ages', 'the', 'last', 'part', 'of', 'the', 'original', 'school', 'closed', 'in', '1969', 'the', 'henry', 'ford', 'learning', 'institute', 'is', 'using', 'the', 'henry', 'ford', 'academy', 'model', 'for', 'further', 'charter', 'schools', 'including', 'the', 'power', 'house', 'high', 'in', 'chicago', 'and', 'alameda', 'school', 'for', 'art', 'design', 'in', 'san', 'antonio', 'the', 'building', 'received', 'the', 'international', 'annual', 'design', 'award', 'of', 'the', 'council', 'of', 'educational', 'facilities', 'planners', 'international', 'for', '2001', 'the', 'james', 'd', 'macconnell', 'award', 'for', 'outstanding', 'new', 'educational', 'facilities', 'notable', 'attendees', 'include', 'chris', 'stroud', 'and', 'isaac', 'sudut', 'see', 'also', 'edit']\n"
     ]
    }
   ],
   "source": [
    "# 토큰으로 나누기\n",
    "tokens=text_to_word_sequence(text)\n",
    "print(len(tokens), tokens, sep='\\n')"
   ]
  },
  {
   "cell_type": "code",
   "execution_count": 139,
   "id": "f418b18d",
   "metadata": {},
   "outputs": [],
   "source": [
    "enToken=Tokenizer()"
   ]
  },
  {
   "cell_type": "code",
   "execution_count": 140,
   "id": "4ded04bc",
   "metadata": {},
   "outputs": [],
   "source": [
    "enToken.fit_on_texts(tokens)"
   ]
  },
  {
   "cell_type": "code",
   "execution_count": 141,
   "id": "98e914b5",
   "metadata": {},
   "outputs": [
    {
     "name": "stdout",
     "output_type": "stream",
     "text": [
      "{'the': 1, 'in': 2, 'ford': 3, 'of': 4, 'henry': 5, 'school': 6, 'a': 7, 'and': 8, 'museum': 9, 'for': 10, 'is': 11, 'building': 12, 'academy': 13, 'to': 14, 'educational': 15, 'main': 16, 'classrooms': 17, 'charter': 18, 'by': 19, 'high': 20, 'students': 21, 'it': 22, 'on': 23, 'use': 24, 'village': 25, 'include': 26, 'original': 27, 'schools': 28, 'design': 29, 'international': 30, 'award': 31, 'facilities': 32, 'houses': 33, 'some': 34, 'first': 35, 'united': 36, 'states': 37, 'be': 38, 'developed': 39, 'jointly': 40, 'global': 41, 'corporation': 42, 'public': 43, 'education': 44, 'major': 45, 'nonprofit': 46, 'cultural': 47, 'institution': 48, 'sponsored': 49, 'motor': 50, 'company': 51, 'wayne': 52, 'county': 53, 'regional': 54, 'service': 55, 'agency': 56, 'admits': 57, 'located': 58, 'dearborn': 59, 'michigan': 60, 'campus': 61, 'enrollment': 62, 'taken': 63, 'from': 64, 'lottery': 65, 'area': 66, 'totaled': 67, '467': 68, '2010': 69, '1': 70, 'freshman': 71, 'meet': 72, 'inside': 73, 'glass': 74, 'walled': 75, 'while': 76, 'older': 77, 'converted': 78, 'carousel': 79, 'pullman': 80, 'cars': 81, 'siding': 82, 'greenfield': 83, 'railroad': 84, 'classes': 85, 'are': 86, 'expected': 87, 'artifacts': 88, 'tradition': 89, 'when': 90, 'was': 91, 'established': 92, '1929': 93, 'included': 94, 'which': 95, 'served': 96, 'grades': 97, 'kindergarten': 98, 'college': 99, 'trade': 100, 'ages': 101, 'last': 102, 'part': 103, 'closed': 104, '1969': 105, 'learning': 106, 'institute': 107, 'using': 108, 'model': 109, 'further': 110, 'including': 111, 'power': 112, 'house': 113, 'chicago': 114, 'alameda': 115, 'art': 116, 'san': 117, 'antonio': 118, 'received': 119, 'annual': 120, 'council': 121, 'planners': 122, '2001': 123, 'james': 124, 'd': 125, 'macconnell': 126, 'outstanding': 127, 'new': 128, 'notable': 129, 'attendees': 130, 'chris': 131, 'stroud': 132, 'isaac': 133, 'sudut': 134, 'see': 135, 'also': 136, 'edit': 137}\n"
     ]
    }
   ],
   "source": [
    "# 단어 인덱스 : 단어 인덱스\n",
    "print(enToken.word_index)"
   ]
  },
  {
   "cell_type": "code",
   "execution_count": 142,
   "id": "d9d119f5",
   "metadata": {},
   "outputs": [
    {
     "data": {
      "text/plain": [
       "OrderedDict([('the', 25),\n",
       "             ('main', 2),\n",
       "             ('henry', 7),\n",
       "             ('ford', 8),\n",
       "             ('museum', 6),\n",
       "             ('building', 4),\n",
       "             ('houses', 1),\n",
       "             ('some', 1),\n",
       "             ('of', 8),\n",
       "             ('classrooms', 2),\n",
       "             ('for', 5),\n",
       "             ('academy', 3),\n",
       "             ('is', 5),\n",
       "             ('first', 1),\n",
       "             ('charter', 2),\n",
       "             ('school', 7),\n",
       "             ('in', 9),\n",
       "             ('united', 1),\n",
       "             ('states', 1),\n",
       "             ('to', 3),\n",
       "             ('be', 1),\n",
       "             ('developed', 1),\n",
       "             ('jointly', 1),\n",
       "             ('by', 2),\n",
       "             ('a', 7),\n",
       "             ('global', 1),\n",
       "             ('corporation', 1),\n",
       "             ('public', 1),\n",
       "             ('education', 1),\n",
       "             ('and', 7),\n",
       "             ('major', 1),\n",
       "             ('nonprofit', 1),\n",
       "             ('cultural', 1),\n",
       "             ('institution', 1),\n",
       "             ('sponsored', 1),\n",
       "             ('motor', 1),\n",
       "             ('company', 1),\n",
       "             ('wayne', 1),\n",
       "             ('county', 1),\n",
       "             ('regional', 1),\n",
       "             ('educational', 3),\n",
       "             ('service', 1),\n",
       "             ('agency', 1),\n",
       "             ('admits', 1),\n",
       "             ('high', 2),\n",
       "             ('students', 2),\n",
       "             ('it', 2),\n",
       "             ('located', 1),\n",
       "             ('dearborn', 1),\n",
       "             ('michigan', 1),\n",
       "             ('on', 2),\n",
       "             ('campus', 1),\n",
       "             ('enrollment', 1),\n",
       "             ('taken', 1),\n",
       "             ('from', 1),\n",
       "             ('lottery', 1),\n",
       "             ('area', 1),\n",
       "             ('totaled', 1),\n",
       "             ('467', 1),\n",
       "             ('2010', 1),\n",
       "             ('1', 1),\n",
       "             ('freshman', 1),\n",
       "             ('meet', 1),\n",
       "             ('inside', 1),\n",
       "             ('glass', 1),\n",
       "             ('walled', 1),\n",
       "             ('while', 1),\n",
       "             ('older', 1),\n",
       "             ('use', 2),\n",
       "             ('converted', 1),\n",
       "             ('carousel', 1),\n",
       "             ('pullman', 1),\n",
       "             ('cars', 1),\n",
       "             ('siding', 1),\n",
       "             ('greenfield', 1),\n",
       "             ('village', 2),\n",
       "             ('railroad', 1),\n",
       "             ('classes', 1),\n",
       "             ('are', 1),\n",
       "             ('expected', 1),\n",
       "             ('include', 2),\n",
       "             ('artifacts', 1),\n",
       "             ('tradition', 1),\n",
       "             ('original', 2),\n",
       "             ('schools', 2),\n",
       "             ('when', 1),\n",
       "             ('was', 1),\n",
       "             ('established', 1),\n",
       "             ('1929', 1),\n",
       "             ('included', 1),\n",
       "             ('which', 1),\n",
       "             ('served', 1),\n",
       "             ('grades', 1),\n",
       "             ('kindergarten', 1),\n",
       "             ('college', 1),\n",
       "             ('trade', 1),\n",
       "             ('ages', 1),\n",
       "             ('last', 1),\n",
       "             ('part', 1),\n",
       "             ('closed', 1),\n",
       "             ('1969', 1),\n",
       "             ('learning', 1),\n",
       "             ('institute', 1),\n",
       "             ('using', 1),\n",
       "             ('model', 1),\n",
       "             ('further', 1),\n",
       "             ('including', 1),\n",
       "             ('power', 1),\n",
       "             ('house', 1),\n",
       "             ('chicago', 1),\n",
       "             ('alameda', 1),\n",
       "             ('art', 1),\n",
       "             ('design', 2),\n",
       "             ('san', 1),\n",
       "             ('antonio', 1),\n",
       "             ('received', 1),\n",
       "             ('international', 2),\n",
       "             ('annual', 1),\n",
       "             ('award', 2),\n",
       "             ('council', 1),\n",
       "             ('facilities', 2),\n",
       "             ('planners', 1),\n",
       "             ('2001', 1),\n",
       "             ('james', 1),\n",
       "             ('d', 1),\n",
       "             ('macconnell', 1),\n",
       "             ('outstanding', 1),\n",
       "             ('new', 1),\n",
       "             ('notable', 1),\n",
       "             ('attendees', 1),\n",
       "             ('chris', 1),\n",
       "             ('stroud', 1),\n",
       "             ('isaac', 1),\n",
       "             ('sudut', 1),\n",
       "             ('see', 1),\n",
       "             ('also', 1),\n",
       "             ('edit', 1)])"
      ]
     },
     "execution_count": 142,
     "metadata": {},
     "output_type": "execute_result"
    }
   ],
   "source": [
    "# 단어 출력 개수\n",
    "enToken.word_counts"
   ]
  },
  {
   "cell_type": "code",
   "execution_count": 143,
   "id": "7f341abf",
   "metadata": {},
   "outputs": [
    {
     "data": {
      "text/plain": [
       "[[1],\n",
       " [16],\n",
       " [5],\n",
       " [3],\n",
       " [9],\n",
       " [12],\n",
       " [33],\n",
       " [34],\n",
       " [4],\n",
       " [1],\n",
       " [17],\n",
       " [10],\n",
       " [1],\n",
       " [5],\n",
       " [3],\n",
       " [13],\n",
       " [5],\n",
       " [3],\n",
       " [13],\n",
       " [11],\n",
       " [1],\n",
       " [35],\n",
       " [18],\n",
       " [6],\n",
       " [2],\n",
       " [1],\n",
       " [36],\n",
       " [37],\n",
       " [14],\n",
       " [38],\n",
       " [39],\n",
       " [40],\n",
       " [19],\n",
       " [7],\n",
       " [41],\n",
       " [42],\n",
       " [43],\n",
       " [44],\n",
       " [8],\n",
       " [7],\n",
       " [45],\n",
       " [46],\n",
       " [47],\n",
       " [48],\n",
       " [1],\n",
       " [6],\n",
       " [11],\n",
       " [49],\n",
       " [19],\n",
       " [1],\n",
       " [3],\n",
       " [50],\n",
       " [51],\n",
       " [52],\n",
       " [53],\n",
       " [54],\n",
       " [15],\n",
       " [55],\n",
       " [56],\n",
       " [8],\n",
       " [1],\n",
       " [5],\n",
       " [3],\n",
       " [9],\n",
       " [8],\n",
       " [57],\n",
       " [20],\n",
       " [6],\n",
       " [21],\n",
       " [22],\n",
       " [11],\n",
       " [58],\n",
       " [2],\n",
       " [59],\n",
       " [60],\n",
       " [23],\n",
       " [1],\n",
       " [61],\n",
       " [4],\n",
       " [1],\n",
       " [5],\n",
       " [3],\n",
       " [9],\n",
       " [62],\n",
       " [11],\n",
       " [63],\n",
       " [64],\n",
       " [7],\n",
       " [65],\n",
       " [2],\n",
       " [1],\n",
       " [66],\n",
       " [8],\n",
       " [67],\n",
       " [68],\n",
       " [2],\n",
       " [69],\n",
       " [70],\n",
       " [71],\n",
       " [72],\n",
       " [73],\n",
       " [1],\n",
       " [16],\n",
       " [9],\n",
       " [12],\n",
       " [2],\n",
       " [74],\n",
       " [75],\n",
       " [17],\n",
       " [76],\n",
       " [77],\n",
       " [21],\n",
       " [24],\n",
       " [7],\n",
       " [78],\n",
       " [79],\n",
       " [12],\n",
       " [8],\n",
       " [80],\n",
       " [81],\n",
       " [23],\n",
       " [7],\n",
       " [82],\n",
       " [4],\n",
       " [1],\n",
       " [83],\n",
       " [25],\n",
       " [84],\n",
       " [85],\n",
       " [86],\n",
       " [87],\n",
       " [14],\n",
       " [26],\n",
       " [24],\n",
       " [4],\n",
       " [1],\n",
       " [9],\n",
       " [88],\n",
       " [7],\n",
       " [89],\n",
       " [4],\n",
       " [1],\n",
       " [27],\n",
       " [25],\n",
       " [28],\n",
       " [90],\n",
       " [1],\n",
       " [9],\n",
       " [91],\n",
       " [92],\n",
       " [2],\n",
       " [93],\n",
       " [22],\n",
       " [94],\n",
       " [7],\n",
       " [6],\n",
       " [95],\n",
       " [96],\n",
       " [97],\n",
       " [98],\n",
       " [14],\n",
       " [99],\n",
       " [100],\n",
       " [6],\n",
       " [101],\n",
       " [1],\n",
       " [102],\n",
       " [103],\n",
       " [4],\n",
       " [1],\n",
       " [27],\n",
       " [6],\n",
       " [104],\n",
       " [2],\n",
       " [105],\n",
       " [1],\n",
       " [5],\n",
       " [3],\n",
       " [106],\n",
       " [107],\n",
       " [11],\n",
       " [108],\n",
       " [1],\n",
       " [5],\n",
       " [3],\n",
       " [13],\n",
       " [109],\n",
       " [10],\n",
       " [110],\n",
       " [18],\n",
       " [28],\n",
       " [111],\n",
       " [1],\n",
       " [112],\n",
       " [113],\n",
       " [20],\n",
       " [2],\n",
       " [114],\n",
       " [8],\n",
       " [115],\n",
       " [6],\n",
       " [10],\n",
       " [116],\n",
       " [29],\n",
       " [2],\n",
       " [117],\n",
       " [118],\n",
       " [1],\n",
       " [12],\n",
       " [119],\n",
       " [1],\n",
       " [30],\n",
       " [120],\n",
       " [29],\n",
       " [31],\n",
       " [4],\n",
       " [1],\n",
       " [121],\n",
       " [4],\n",
       " [15],\n",
       " [32],\n",
       " [122],\n",
       " [30],\n",
       " [10],\n",
       " [123],\n",
       " [1],\n",
       " [124],\n",
       " [125],\n",
       " [126],\n",
       " [31],\n",
       " [10],\n",
       " [127],\n",
       " [128],\n",
       " [15],\n",
       " [32],\n",
       " [129],\n",
       " [130],\n",
       " [26],\n",
       " [131],\n",
       " [132],\n",
       " [8],\n",
       " [133],\n",
       " [134],\n",
       " [135],\n",
       " [136],\n",
       " [137]]"
      ]
     },
     "execution_count": 143,
     "metadata": {},
     "output_type": "execute_result"
    }
   ],
   "source": [
    "# 문장을 생성된 사전(voca)를 기반으로 수치화\n",
    "enToken.texts_to_sequences(tokens)"
   ]
  },
  {
   "cell_type": "code",
   "execution_count": 144,
   "id": "904ecad2",
   "metadata": {},
   "outputs": [
    {
     "name": "stdout",
     "output_type": "stream",
     "text": [
      "seq_voca : 246\n",
      "[[1], [16], [5], [3], [9], [12], [33], [34], [4], [1], [17], [10], [1], [5], [3], [13], [5], [3], [13], [11], [1], [35], [18], [6], [2], [1], [36], [37], [14], [38], [39], [40], [19], [7], [41], [42], [43], [44], [8], [7], [45], [46], [47], [48], [1], [6], [11], [49], [19], [1], [3], [50], [51], [52], [53], [54], [15], [55], [56], [8], [1], [5], [3], [9], [8], [57], [20], [6], [21], [22], [11], [58], [2], [59], [60], [23], [1], [61], [4], [1], [5], [3], [9], [62], [11], [63], [64], [7], [65], [2], [1], [66], [8], [67], [68], [2], [69], [70], [71], [72], [73], [1], [16], [9], [12], [2], [74], [75], [17], [76], [77], [21], [24], [7], [78], [79], [12], [8], [80], [81], [23], [7], [82], [4], [1], [83], [25], [84], [85], [86], [87], [14], [26], [24], [4], [1], [9], [88], [7], [89], [4], [1], [27], [25], [28], [90], [1], [9], [91], [92], [2], [93], [22], [94], [7], [6], [95], [96], [97], [98], [14], [99], [100], [6], [101], [1], [102], [103], [4], [1], [27], [6], [104], [2], [105], [1], [5], [3], [106], [107], [11], [108], [1], [5], [3], [13], [109], [10], [110], [18], [28], [111], [1], [112], [113], [20], [2], [114], [8], [115], [6], [10], [116], [29], [2], [117], [118], [1], [12], [119], [1], [30], [120], [29], [31], [4], [1], [121], [4], [15], [32], [122], [30], [10], [123], [1], [124], [125], [126], [31], [10], [127], [128], [15], [32], [129], [130], [26], [131], [132], [8], [133], [134], [135], [136], [137]]\n"
     ]
    }
   ],
   "source": [
    "seq_voca=enToken.texts_to_sequences(tokens)\n",
    "print(f'seq_voca : {len(seq_voca)}')\n",
    "print(seq_voca)"
   ]
  },
  {
   "cell_type": "code",
   "execution_count": 145,
   "id": "161b28c6",
   "metadata": {},
   "outputs": [
    {
     "data": {
      "text/plain": [
       "[1]"
      ]
     },
     "execution_count": 145,
     "metadata": {},
     "output_type": "execute_result"
    }
   ],
   "source": [
    "seq_voca[0]"
   ]
  },
  {
   "cell_type": "code",
   "execution_count": 147,
   "id": "258b4c3b",
   "metadata": {},
   "outputs": [
    {
     "data": {
      "text/plain": [
       "array([[0., 0., 0., 0., 0., 0., 0., 0., 0., 0., 0., 0., 0., 0., 0., 0.,\n",
       "        1.]], dtype=float32)"
      ]
     },
     "execution_count": 147,
     "metadata": {},
     "output_type": "execute_result"
    }
   ],
   "source": [
    "to_categorical(seq_voca[1])"
   ]
  },
  {
   "cell_type": "code",
   "execution_count": 148,
   "id": "e6685a9c",
   "metadata": {},
   "outputs": [
    {
     "data": {
      "text/plain": [
       "array([[0., 1., 0., ..., 0., 0., 0.],\n",
       "       [0., 0., 0., ..., 0., 0., 0.],\n",
       "       [0., 0., 0., ..., 0., 0., 0.],\n",
       "       ...,\n",
       "       [0., 0., 0., ..., 1., 0., 0.],\n",
       "       [0., 0., 0., ..., 0., 1., 0.],\n",
       "       [0., 0., 0., ..., 0., 0., 1.]])"
      ]
     },
     "execution_count": 148,
     "metadata": {},
     "output_type": "execute_result"
    }
   ],
   "source": [
    "enToken.texts_to_matrix(tokens)"
   ]
  },
  {
   "cell_type": "code",
   "execution_count": 12,
   "id": "3acd39a9",
   "metadata": {},
   "outputs": [
    {
     "data": {
      "text/plain": [
       "['The main Henry Ford Museum building houses some of the classrooms for the Henry Ford Academy\\n\\n\\nHenry Ford Academy is the first charter school in the United States to be developed jointly by a global corporation, public education, and a major nonprofit cultural institution.',\n",
       " 'The school is sponsored by the Ford Motor Company, Wayne County Regional Educational Service Agency and The Henry Ford Museum and admits high school students.',\n",
       " 'It is located in Dearborn, Michigan on the campus of the Henry Ford museum.',\n",
       " 'Enrollment is taken from a lottery in the area and totaled 467 in 2010.',\n",
       " '[1]\\nFreshman meet inside the main museum building in glass walled classrooms, while older students use a converted carousel building and Pullman cars on a siding of the Greenfield Village railroad.',\n",
       " 'Classes are expected to include use of the museum artifacts, a tradition of the original Village Schools.',\n",
       " 'When the Museum was established in 1929, it included a school which served grades kindergarten to college/trade school ages.',\n",
       " 'The last part of the original school closed in 1969.',\n",
       " 'The Henry Ford Learning Institute is using the Henry Ford Academy model for further charter schools including the Power House High in Chicago and Alameda School for Art + Design in San Antonio.',\n",
       " 'The building received the international annual design award of the Council of Educational Facilities Planners International for 2001, the James D. MacConnell Award for outstanding new educational facilities.',\n",
       " 'Notable attendees include Chris Stroud and Isaac Sudut.',\n",
       " 'See also[edit]']"
      ]
     },
     "execution_count": 12,
     "metadata": {},
     "output_type": "execute_result"
    }
   ],
   "source": [
    "token_sent=sent_tokenize(text)\n",
    "token_sent"
   ]
  },
  {
   "cell_type": "code",
   "execution_count": 13,
   "id": "8b701d0c",
   "metadata": {},
   "outputs": [
    {
     "data": {
      "text/plain": [
       "12"
      ]
     },
     "execution_count": 13,
     "metadata": {},
     "output_type": "execute_result"
    }
   ],
   "source": [
    "len(token_sent)"
   ]
  },
  {
   "cell_type": "code",
   "execution_count": 23,
   "id": "401ce25a",
   "metadata": {},
   "outputs": [],
   "source": [
    "fileToken=Tokenizer()"
   ]
  },
  {
   "cell_type": "code",
   "execution_count": 24,
   "id": "9b1b1002",
   "metadata": {},
   "outputs": [],
   "source": [
    "fileToken.fit_on_texts(token_sent)"
   ]
  },
  {
   "cell_type": "code",
   "execution_count": 27,
   "id": "ae092fbb",
   "metadata": {},
   "outputs": [],
   "source": [
    "seqData=fileToken.texts_to_sequences(token_sent)"
   ]
  },
  {
   "cell_type": "code",
   "execution_count": 28,
   "id": "a1aac9b4",
   "metadata": {},
   "outputs": [
    {
     "data": {
      "text/plain": [
       "[1,\n",
       " 16,\n",
       " 5,\n",
       " 3,\n",
       " 9,\n",
       " 12,\n",
       " 33,\n",
       " 34,\n",
       " 4,\n",
       " 1,\n",
       " 17,\n",
       " 10,\n",
       " 1,\n",
       " 5,\n",
       " 3,\n",
       " 13,\n",
       " 5,\n",
       " 3,\n",
       " 13,\n",
       " 11,\n",
       " 1,\n",
       " 35,\n",
       " 18,\n",
       " 6,\n",
       " 2,\n",
       " 1,\n",
       " 36,\n",
       " 37,\n",
       " 14,\n",
       " 38,\n",
       " 39,\n",
       " 40,\n",
       " 19,\n",
       " 7,\n",
       " 41,\n",
       " 42,\n",
       " 43,\n",
       " 44,\n",
       " 8,\n",
       " 7,\n",
       " 45,\n",
       " 46,\n",
       " 47,\n",
       " 48]"
      ]
     },
     "execution_count": 28,
     "metadata": {},
     "output_type": "execute_result"
    }
   ],
   "source": [
    "seqData[0]"
   ]
  },
  {
   "cell_type": "code",
   "execution_count": null,
   "id": "f49715cc",
   "metadata": {},
   "outputs": [],
   "source": []
  }
 ],
 "metadata": {
  "kernelspec": {
   "display_name": "Python 3 (ipykernel)",
   "language": "python",
   "name": "python3"
  },
  "language_info": {
   "codemirror_mode": {
    "name": "ipython",
    "version": 3
   },
   "file_extension": ".py",
   "mimetype": "text/x-python",
   "name": "python",
   "nbconvert_exporter": "python",
   "pygments_lexer": "ipython3",
   "version": "3.9.12"
  }
 },
 "nbformat": 4,
 "nbformat_minor": 5
}
