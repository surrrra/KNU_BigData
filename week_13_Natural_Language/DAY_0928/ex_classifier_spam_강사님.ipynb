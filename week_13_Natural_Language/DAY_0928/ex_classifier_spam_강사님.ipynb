{
 "cells": [
  {
   "cell_type": "markdown",
   "id": "75ac818a",
   "metadata": {},
   "source": [
    "## 텍스트 분류\n",
    "---\n",
    "- 정상메일/스팸메일 내용을 학습 후 스팸 메일 분류\n",
    "- 텍스트 데이터 전처리\n",
    "    * 1단계 : 데이터 확인 및 기본적인 처리 (결측치, 중복 등등)\n",
    "    * 2단계 : 텍스트 데이터 전처리\n",
    "        - 정  제 : 불용어 및 노이즈 데이터 제거 \n",
    "        - 토큰화 : 텍스트 데이터 토큰 단위 분할 => 단어 사전 생성\n",
    "        - 정  제 : 불용어 및 노이즈 데이터 제거 \n",
    "        - 정수 정규화 : 정수 인코딩\n",
    "        - 패  딩 : 가변 텍스트 데이터 => 고정 텍스트 데이터\n",
    "        - 이진 정규화 : 원-핫-인코딩  => 임베딩"
   ]
  },
  {
   "cell_type": "code",
   "execution_count": 421,
   "id": "36a46663",
   "metadata": {},
   "outputs": [],
   "source": [
    "import numpy as np\n",
    "import pandas as pd\n",
    "import matplotlib.pyplot as plt\n",
    "from sklearn.model_selection import train_test_split\n",
    "from tensorflow.keras.preprocessing.text import Tokenizer\n",
    "from tensorflow.keras.preprocessing.sequence import pad_sequences"
   ]
  },
  {
   "cell_type": "markdown",
   "id": "d5705cb0",
   "metadata": {},
   "source": [
    "### [1] 데이터 준비"
   ]
  },
  {
   "cell_type": "code",
   "execution_count": 422,
   "id": "f7545250",
   "metadata": {},
   "outputs": [],
   "source": [
    "FILE='./spam.csv'"
   ]
  },
  {
   "cell_type": "code",
   "execution_count": 423,
   "id": "27fe5b99",
   "metadata": {},
   "outputs": [
    {
     "name": "stdout",
     "output_type": "stream",
     "text": [
      "총 샘플의 수 : 5572\n"
     ]
    }
   ],
   "source": [
    "dataDF = pd.read_csv(FILE, encoding='latin1')\n",
    "print('총 샘플의 수 :',len(dataDF))"
   ]
  },
  {
   "cell_type": "code",
   "execution_count": 424,
   "id": "9b449701",
   "metadata": {},
   "outputs": [
    {
     "name": "stdout",
     "output_type": "stream",
     "text": [
      "     v1                                                 v2 Unnamed: 2  \\\n",
      "0   ham  Go until jurong point, crazy.. Available only ...        NaN   \n",
      "1   ham                      Ok lar... Joking wif u oni...        NaN   \n",
      "2  spam  Free entry in 2 a wkly comp to win FA Cup fina...        NaN   \n",
      "3   ham  U dun say so early hor... U c already then say...        NaN   \n",
      "4   ham  Nah I don't think he goes to usf, he lives aro...        NaN   \n",
      "\n",
      "  Unnamed: 3 Unnamed: 4  \n",
      "0        NaN        NaN  \n",
      "1        NaN        NaN  \n",
      "2        NaN        NaN  \n",
      "3        NaN        NaN  \n",
      "4        NaN        NaN  \n"
     ]
    }
   ],
   "source": [
    "# 데이터 확인\n",
    "print(dataDF.head())"
   ]
  },
  {
   "cell_type": "markdown",
   "id": "ac128db2",
   "metadata": {},
   "source": [
    "### [2] 데이터 전처리\n",
    "---"
   ]
  },
  {
   "cell_type": "markdown",
   "id": "69fe40b6",
   "metadata": {},
   "source": [
    "#### [2-1] 데이터 확인 및 1차 처리"
   ]
  },
  {
   "cell_type": "code",
   "execution_count": 425,
   "id": "c1be3d10",
   "metadata": {},
   "outputs": [],
   "source": [
    "dataDF.drop(['Unnamed: 2', 'Unnamed: 3', 'Unnamed: 4'], axis=1, inplace=True)"
   ]
  },
  {
   "cell_type": "code",
   "execution_count": 426,
   "id": "ed901c8b",
   "metadata": {},
   "outputs": [
    {
     "data": {
      "text/html": [
       "<div>\n",
       "<style scoped>\n",
       "    .dataframe tbody tr th:only-of-type {\n",
       "        vertical-align: middle;\n",
       "    }\n",
       "\n",
       "    .dataframe tbody tr th {\n",
       "        vertical-align: top;\n",
       "    }\n",
       "\n",
       "    .dataframe thead th {\n",
       "        text-align: right;\n",
       "    }\n",
       "</style>\n",
       "<table border=\"1\" class=\"dataframe\">\n",
       "  <thead>\n",
       "    <tr style=\"text-align: right;\">\n",
       "      <th></th>\n",
       "      <th>v1</th>\n",
       "      <th>v2</th>\n",
       "    </tr>\n",
       "  </thead>\n",
       "  <tbody>\n",
       "    <tr>\n",
       "      <th>0</th>\n",
       "      <td>ham</td>\n",
       "      <td>Go until jurong point, crazy.. Available only ...</td>\n",
       "    </tr>\n",
       "    <tr>\n",
       "      <th>1</th>\n",
       "      <td>ham</td>\n",
       "      <td>Ok lar... Joking wif u oni...</td>\n",
       "    </tr>\n",
       "    <tr>\n",
       "      <th>2</th>\n",
       "      <td>spam</td>\n",
       "      <td>Free entry in 2 a wkly comp to win FA Cup fina...</td>\n",
       "    </tr>\n",
       "  </tbody>\n",
       "</table>\n",
       "</div>"
      ],
      "text/plain": [
       "     v1                                                 v2\n",
       "0   ham  Go until jurong point, crazy.. Available only ...\n",
       "1   ham                      Ok lar... Joking wif u oni...\n",
       "2  spam  Free entry in 2 a wkly comp to win FA Cup fina..."
      ]
     },
     "execution_count": 426,
     "metadata": {},
     "output_type": "execute_result"
    }
   ],
   "source": [
    "dataDF.head(3)"
   ]
  },
  {
   "cell_type": "code",
   "execution_count": 427,
   "id": "f86607ca",
   "metadata": {},
   "outputs": [
    {
     "data": {
      "text/plain": [
       "v1    0\n",
       "v2    0\n",
       "dtype: int64"
      ]
     },
     "execution_count": 427,
     "metadata": {},
     "output_type": "execute_result"
    }
   ],
   "source": [
    "# 결측치 체크\n",
    "dataDF.isnull().sum()"
   ]
  },
  {
   "cell_type": "code",
   "execution_count": 428,
   "id": "16c65d4f",
   "metadata": {},
   "outputs": [
    {
     "data": {
      "text/plain": [
       "403"
      ]
     },
     "execution_count": 428,
     "metadata": {},
     "output_type": "execute_result"
    }
   ],
   "source": [
    "# 중복 데이터 체크 및 삭제\n",
    "dataDF.duplicated().sum()"
   ]
  },
  {
   "cell_type": "code",
   "execution_count": 429,
   "id": "f48d547d",
   "metadata": {},
   "outputs": [],
   "source": [
    "dataDF.drop_duplicates(subset=['v2'], inplace=True)"
   ]
  },
  {
   "cell_type": "code",
   "execution_count": 430,
   "id": "b691e36d",
   "metadata": {},
   "outputs": [
    {
     "name": "stdout",
     "output_type": "stream",
     "text": [
      "dataDF 수 : 5169\n"
     ]
    }
   ],
   "source": [
    "print(f'dataDF 수 : {len(dataDF)}')"
   ]
  },
  {
   "cell_type": "code",
   "execution_count": 431,
   "id": "ee2a73a5",
   "metadata": {},
   "outputs": [
    {
     "data": {
      "text/html": [
       "<div>\n",
       "<style scoped>\n",
       "    .dataframe tbody tr th:only-of-type {\n",
       "        vertical-align: middle;\n",
       "    }\n",
       "\n",
       "    .dataframe tbody tr th {\n",
       "        vertical-align: top;\n",
       "    }\n",
       "\n",
       "    .dataframe thead th {\n",
       "        text-align: right;\n",
       "    }\n",
       "</style>\n",
       "<table border=\"1\" class=\"dataframe\">\n",
       "  <thead>\n",
       "    <tr style=\"text-align: right;\">\n",
       "      <th></th>\n",
       "      <th>v1</th>\n",
       "      <th>v2</th>\n",
       "    </tr>\n",
       "  </thead>\n",
       "  <tbody>\n",
       "    <tr>\n",
       "      <th>0</th>\n",
       "      <td>0</td>\n",
       "      <td>Go until jurong point, crazy.. Available only ...</td>\n",
       "    </tr>\n",
       "    <tr>\n",
       "      <th>1</th>\n",
       "      <td>0</td>\n",
       "      <td>Ok lar... Joking wif u oni...</td>\n",
       "    </tr>\n",
       "    <tr>\n",
       "      <th>2</th>\n",
       "      <td>1</td>\n",
       "      <td>Free entry in 2 a wkly comp to win FA Cup fina...</td>\n",
       "    </tr>\n",
       "    <tr>\n",
       "      <th>3</th>\n",
       "      <td>0</td>\n",
       "      <td>U dun say so early hor... U c already then say...</td>\n",
       "    </tr>\n",
       "    <tr>\n",
       "      <th>4</th>\n",
       "      <td>0</td>\n",
       "      <td>Nah I don't think he goes to usf, he lives aro...</td>\n",
       "    </tr>\n",
       "  </tbody>\n",
       "</table>\n",
       "</div>"
      ],
      "text/plain": [
       "   v1                                                 v2\n",
       "0   0  Go until jurong point, crazy.. Available only ...\n",
       "1   0                      Ok lar... Joking wif u oni...\n",
       "2   1  Free entry in 2 a wkly comp to win FA Cup fina...\n",
       "3   0  U dun say so early hor... U c already then say...\n",
       "4   0  Nah I don't think he goes to usf, he lives aro..."
      ]
     },
     "execution_count": 431,
     "metadata": {},
     "output_type": "execute_result"
    }
   ],
   "source": [
    "dataDF['v1'] = dataDF['v1'].replace(['ham','spam'],[0,1])\n",
    "dataDF.head()"
   ]
  },
  {
   "cell_type": "code",
   "execution_count": 432,
   "id": "67ea5381",
   "metadata": {},
   "outputs": [
    {
     "name": "stdout",
     "output_type": "stream",
     "text": [
      "v1_DF[0] = 4516, v1_DF[1] = 653, dataDF.shape = (5169, 2)\n"
     ]
    }
   ],
   "source": [
    "# 데이터 분포 확인\n",
    "v1_DF=dataDF['v1'].value_counts()\n",
    "print(f'v1_DF[0] = {v1_DF[0]}, v1_DF[1] = {v1_DF[1]}, dataDF.shape = {dataDF.shape}')"
   ]
  },
  {
   "cell_type": "code",
   "execution_count": 433,
   "id": "31c1becb",
   "metadata": {},
   "outputs": [
    {
     "name": "stdout",
     "output_type": "stream",
     "text": [
      "정상메일 : 0.87%\n",
      "스팸메일 : 0.13%\n"
     ]
    }
   ],
   "source": [
    "print(f'정상메일 : {round(v1_DF[0]/dataDF.shape[0],2)}%')\n",
    "print(f'스팸메일 : {round(v1_DF[1]/dataDF.shape[0],2)}%')"
   ]
  },
  {
   "cell_type": "code",
   "execution_count": 434,
   "id": "41fc5217",
   "metadata": {},
   "outputs": [],
   "source": [
    "# 비율에 맞게 학습/테스트 데이터 분활\n",
    "from sklearn.model_selection import train_test_split"
   ]
  },
  {
   "cell_type": "code",
   "execution_count": 435,
   "id": "12e556ee",
   "metadata": {},
   "outputs": [
    {
     "name": "stdout",
     "output_type": "stream",
     "text": [
      "X_train : (4135,), X_test : (1034,)\n"
     ]
    }
   ],
   "source": [
    "# 비율에 맞게 분할\n",
    "X_train, X_test, y_train, y_test = train_test_split(dataDF['v2'], \n",
    "                                                    dataDF['v1'], \n",
    "                                                    test_size=0.2, \n",
    "                                                    stratify=dataDF['v1'],\n",
    "                                                    random_state=11)\n",
    "\n",
    "print(f'X_train : {X_train.shape}, X_test : {X_test.shape}')"
   ]
  },
  {
   "cell_type": "code",
   "execution_count": 436,
   "id": "16dd7a02",
   "metadata": {},
   "outputs": [
    {
     "name": "stdout",
     "output_type": "stream",
     "text": [
      "X_train : (3308,), X_test : (1034,) , X_val : (827,)\n"
     ]
    }
   ],
   "source": [
    "X_train, X_val, y_train, y_val = train_test_split(X_train, \n",
    "                                                  y_train, \n",
    "                                                  test_size=0.2, \n",
    "                                                  stratify=y_train,\n",
    "                                                  random_state=11)\n",
    "print(f'X_train : {X_train.shape}, X_test : {X_test.shape} , X_val : {X_val.shape}')"
   ]
  },
  {
   "cell_type": "code",
   "execution_count": 437,
   "id": "48fd1bf8",
   "metadata": {},
   "outputs": [
    {
     "name": "stdout",
     "output_type": "stream",
     "text": [
      "학습 데이터 -----------------\n",
      "X_train : (3308,), y_train : (3308,)\n",
      "정상메일 : 0.87%\n",
      "스팸메일 : 0.13%\n",
      "\n",
      "테스트 데이터 -----------------\n",
      "X_test   : (1034,), y_test : (1034,)\n",
      "정상메일 : 0.87%\n",
      "스팸메일 : 0.13%\n",
      "\n",
      "검증 데이터 -----------------\n",
      "X_val    : (827,), y_val : (827,)\n",
      "정상메일 : 0.87%\n",
      "스팸메일 : 0.13%\n"
     ]
    }
   ],
   "source": [
    "print(f'학습 데이터 -----------------')\n",
    "print(f'X_train : {X_train.shape}, y_train : {y_train.shape}')\n",
    "print(f'정상메일 : {round(y_train.value_counts()[0]/len(y_train),2)}%')\n",
    "print(f'스팸메일 : {round(y_train.value_counts()[1]/len(y_train),2)}%')\n",
    "\n",
    "print(f'\\n테스트 데이터 -----------------')\n",
    "print(f'X_test   : {X_test.shape}, y_test : {y_test.shape}')\n",
    "print(f'정상메일 : {round(y_test.value_counts()[0]/len(y_test),2)}%')\n",
    "print(f'스팸메일 : {round(y_test.value_counts()[1]/len(y_test),2)}%')\n",
    "\n",
    "print(f'\\n검증 데이터 -----------------')\n",
    "print(f'X_val    : {X_val.shape}, y_val : {y_val.shape}')\n",
    "print(f'정상메일 : {round(y_val.value_counts()[0]/len(y_val),2)}%')\n",
    "print(f'스팸메일 : {round(y_val.value_counts()[1]/len(y_val),2)}%')"
   ]
  },
  {
   "cell_type": "markdown",
   "id": "f9458e57",
   "metadata": {},
   "source": [
    "#### [2-2] 데이터 벡터화"
   ]
  },
  {
   "cell_type": "code",
   "execution_count": 438,
   "id": "fef1a9f3",
   "metadata": {},
   "outputs": [],
   "source": [
    "from tensorflow.keras.preprocessing.text import Tokenizer"
   ]
  },
  {
   "cell_type": "code",
   "execution_count": 439,
   "id": "ef855ae9",
   "metadata": {},
   "outputs": [],
   "source": [
    "# 텍스트 데이터 토큰화 진행 \n",
    "def makeToken(textData, numWord=0):\n",
    "    if numWord>0:\n",
    "        myToken=Tokenizer(num_words=numWord)\n",
    "    else:\n",
    "        myToken=Tokenizer()\n",
    "    \n",
    "    # 단어사전(voca) 생성\n",
    "    myToken.fit_on_texts(textData)\n",
    "    \n",
    "    return myToken\n"
   ]
  },
  {
   "cell_type": "code",
   "execution_count": 440,
   "id": "15a67947",
   "metadata": {},
   "outputs": [],
   "source": [
    "# 단어사전에서 단어별 빈도 체크\n",
    "def checkWordCount(tokenizer, freq_num=10):\n",
    "    threshold = freq_num                  # 낮은 빈도 수 \n",
    "    total_cnt = len(tokenizer.word_index) # 전체 단어 수\n",
    "    low_cnt   = 0                         # 빈도수가 threshold보다 작은 단어 개수 카운트\n",
    "    total_freq = 0                        # 데이터의 전체 단어 빈도수 총 합\n",
    "    low_freq = 0                          # threshold보다 작은 단어 빈도수 총 합\n",
    "\n",
    "    # 전체 단어 빈도수와 낮은 빈도의 단어 수 계산\n",
    "    for key, value in tokenizer.word_counts.items():\n",
    "        total_freq = total_freq + value\n",
    "\n",
    "        # threshold보다 빈도수가 낮은 단어 수 누적\n",
    "        if(value < threshold):\n",
    "            low_cnt = low_cnt + 1\n",
    "            low_freq = low_freq + value\n",
    "            \n",
    "        # 단어사전 단어 수 설정\n",
    "        voca_num_word = (total_cnt - low_cnt)+ 1  # 패딩 0 추가되는 것 때문에 +1\n",
    "    return total_cnt, total_freq, low_cnt, low_freq, voca_num_word"
   ]
  },
  {
   "cell_type": "code",
   "execution_count": 441,
   "id": "6279b643",
   "metadata": {},
   "outputs": [
    {
     "name": "stdout",
     "output_type": "stream",
     "text": [
      "dataToken.word_index : 6917\n"
     ]
    }
   ],
   "source": [
    "# 단어사전 크기 체크 위한 토큰화 진행 \n",
    "dataToken=makeToken(X_train)\n",
    "word_count= len(dataToken.word_index)\n",
    "\n",
    "print(f'dataToken.word_index : {word_count}')"
   ]
  },
  {
   "cell_type": "code",
   "execution_count": 442,
   "id": "aaaed80e",
   "metadata": {},
   "outputs": [],
   "source": [
    "total_cnt, total_freq, low_cnt, low_freq, voca_word_num = checkWordCount(dataToken, 2)"
   ]
  },
  {
   "cell_type": "code",
   "execution_count": 443,
   "id": "255d1903",
   "metadata": {},
   "outputs": [
    {
     "name": "stdout",
     "output_type": "stream",
     "text": [
      "전체 토큰(단어) 수 : 6917개\n",
      "전체 토큰(단어) 빈도 수 : 52048개\n",
      "------------------------------------------\n",
      "등장 빈도 낮은 단어   수 :3877  56%\n",
      "등장 빈도 낮은 단어 비율 :3877 7%\n",
      "------------------------------------------\n",
      "단어사전 단어 수 : 3041개\n"
     ]
    }
   ],
   "source": [
    "print(f\"전체 토큰(단어) 수 : {total_cnt}개\")\n",
    "print(f\"전체 토큰(단어) 빈도 수 : {total_freq}개\")\n",
    "print('------------------------------------------')\n",
    "print(f\"등장 빈도 낮은 단어   수 :{low_cnt}  {round((low_cnt / total_cnt)*100)}%\") \n",
    "print(f\"등장 빈도 낮은 단어 비율 :{low_freq} {round((low_freq / total_freq)*100)}%\")\n",
    "print('------------------------------------------')\n",
    "print(f\"단어사전 단어 수 : {voca_word_num}개\")"
   ]
  },
  {
   "cell_type": "code",
   "execution_count": 444,
   "id": "79076b87",
   "metadata": {},
   "outputs": [
    {
     "name": "stdout",
     "output_type": "stream",
     "text": [
      "dataToken.word_index : 6917\n"
     ]
    }
   ],
   "source": [
    "# 지정된 단어사전 단어 수로 데이터 수치화\n",
    "dataToken=makeToken(X_train, voca_word_num)\n",
    "word_count= len(dataToken.word_index)\n",
    "\n",
    "print(f'dataToken.word_index : {word_count}')"
   ]
  },
  {
   "cell_type": "code",
   "execution_count": 445,
   "id": "2663bea5",
   "metadata": {},
   "outputs": [],
   "source": [
    "seq_train=dataToken.texts_to_sequences(X_train)\n",
    "seq_test=dataToken.texts_to_sequences(X_test)\n",
    "seq_val=dataToken.texts_to_sequences(X_val)"
   ]
  },
  {
   "cell_type": "code",
   "execution_count": 446,
   "id": "ca463058",
   "metadata": {},
   "outputs": [
    {
     "name": "stdout",
     "output_type": "stream",
     "text": [
      "3308\n",
      "[319, 32]\n",
      "1034\n",
      "[133, 311, 311, 1060]\n",
      "827\n",
      "[2, 21, 4, 436]\n"
     ]
    }
   ],
   "source": [
    "print(len(seq_train), seq_train[0], sep='\\n')\n",
    "print(len(seq_test), seq_test[0], sep='\\n')\n",
    "print(len(seq_val), seq_val[0], sep='\\n')"
   ]
  },
  {
   "cell_type": "code",
   "execution_count": 447,
   "id": "695d6d83",
   "metadata": {},
   "outputs": [],
   "source": [
    "# 패딩 길이 설정 \n",
    "def checkDataLength(datas):\n",
    "    length=[len(data) for data in datas]\n",
    "    \n",
    "    plt.hist(length)\n",
    "    plt.title(f'Max {max(length)}  Min {min(length)}  AVG {round(sum(length)/len(length),2)}')\n",
    "    plt.xlabel('data length')\n",
    "    plt.ylabel('data number')\n",
    "    plt.show()\n",
    "    return length"
   ]
  },
  {
   "cell_type": "code",
   "execution_count": 448,
   "id": "b3566f53",
   "metadata": {},
   "outputs": [
    {
     "data": {
      "image/png": "[encoded data removed]",
      "text/plain": [
       "<Figure size 432x288 with 1 Axes>"
      ]
     },
     "metadata": {
      "needs_background": "light"
     },
     "output_type": "display_data"
    }
   ],
   "source": [
    "length=checkDataLength(seq_train)"
   ]
  },
  {
   "cell_type": "code",
   "execution_count": 449,
   "id": "91ed4998",
   "metadata": {},
   "outputs": [],
   "source": [
    "pad_length=max(length)\n",
    "X_train = pad_sequences(seq_train, maxlen=pad_length)\n",
    "X_test = pad_sequences(seq_test, maxlen=pad_length)\n",
    "X_val = pad_sequences(seq_val, maxlen=pad_length)"
   ]
  },
  {
   "cell_type": "code",
   "execution_count": 450,
   "id": "a38992f7",
   "metadata": {},
   "outputs": [
    {
     "data": {
      "text/plain": [
       "((3308, 182), (1034, 182), (827, 182))"
      ]
     },
     "execution_count": 450,
     "metadata": {},
     "output_type": "execute_result"
    }
   ],
   "source": [
    "X_train.shape, X_test.shape, X_val.shape"
   ]
  },
  {
   "cell_type": "code",
   "execution_count": 451,
   "id": "d45d8131",
   "metadata": {},
   "outputs": [
    {
     "data": {
      "text/plain": [
       "((3308,), (1034,), (827,))"
      ]
     },
     "execution_count": 451,
     "metadata": {},
     "output_type": "execute_result"
    }
   ],
   "source": [
    "y_train.shape, y_test.shape, y_val.shape"
   ]
  },
  {
   "cell_type": "markdown",
   "id": "cb58ce12",
   "metadata": {},
   "source": [
    "## MODEL 구성 및 구현\n",
    "---\n",
    "- 목  표 : 메일 내용 분석 후 스팸 메일 분류\n",
    "- 데이터 : 수치화된 벡터 데이터 \n",
    "    * 데이터 수 : 학습용 4135 , 테스트용\n",
    "    "
   ]
  },
  {
   "cell_type": "code",
   "execution_count": 452,
   "id": "fd8df369",
   "metadata": {},
   "outputs": [],
   "source": [
    "from tensorflow.keras.layers import SimpleRNN, Embedding, Dense\n",
    "from tensorflow.keras.models import Sequential\n",
    "from tensorflow.keras.utils import plot_model"
   ]
  },
  {
   "cell_type": "markdown",
   "id": "8dd309cd",
   "metadata": {},
   "source": [
    "### 모델 구성\n",
    "---\n",
    "- Embedding Layer : PADDING_LENGTH => EMB_DIM 으로 변환\n",
    "- RNN Layer"
   ]
  },
  {
   "cell_type": "code",
   "execution_count": 453,
   "id": "61aa2cdb",
   "metadata": {},
   "outputs": [],
   "source": [
    "EMB_DIM = 32                     # 임베딩 벡터 크기 \n",
    "WORD_NUM = voca_word_num         # 단어사전 수\n",
    "HIDDEN_NODE = 10                 # 은닉층 뉴런 수\n",
    "INPUT_LENGH = pad_length         # 1문장의 토큰 수 "
   ]
  },
  {
   "cell_type": "code",
   "execution_count": 454,
   "id": "ff332176",
   "metadata": {},
   "outputs": [
    {
     "data": {
      "text/plain": [
       "182"
      ]
     },
     "execution_count": 454,
     "metadata": {},
     "output_type": "execute_result"
    }
   ],
   "source": [
    "INPUT_LENGH"
   ]
  },
  {
   "cell_type": "code",
   "execution_count": 455,
   "id": "46b49533",
   "metadata": {},
   "outputs": [
    {
     "name": "stdout",
     "output_type": "stream",
     "text": [
      "Model: \"sequential_9\"\n",
      "_________________________________________________________________\n",
      " Layer (type)                Output Shape              Param #   \n",
      "=================================================================\n",
      " embedding_9 (Embedding)     (None, 182, 32)           97312     \n",
      "                                                                 \n",
      " simple_rnn_7 (SimpleRNN)    (None, 10)                430       \n",
      "                                                                 \n",
      " dense_7 (Dense)             (None, 1)                 11        \n",
      "                                                                 \n",
      "=================================================================\n",
      "Total params: 97,753\n",
      "Trainable params: 97,753\n",
      "Non-trainable params: 0\n",
      "_________________________________________________________________\n"
     ]
    }
   ],
   "source": [
    "model = Sequential()\n",
    "model.add(Embedding(WORD_NUM, EMB_DIM, input_length=INPUT_LENGH))\n",
    "model.add(SimpleRNN(HIDDEN_NODE))\n",
    "model.add(Dense(1, activation='sigmoid'))\n",
    "\n",
    "model.summary()"
   ]
  },
  {
   "cell_type": "code",
   "execution_count": 456,
   "id": "4e641d6b",
   "metadata": {},
   "outputs": [
    {
     "data": {
      "image/png": "[encoded data removed]",
      "text/plain": [
       "<IPython.core.display.Image object>"
      ]
     },
     "execution_count": 456,
     "metadata": {},
     "output_type": "execute_result"
    }
   ],
   "source": [
    "plot_model(model, show_shapes=True)"
   ]
  },
  {
   "cell_type": "markdown",
   "id": "440762e6",
   "metadata": {},
   "source": [
    "### 모델 생성 \n",
    "---"
   ]
  },
  {
   "cell_type": "code",
   "execution_count": 457,
   "id": "88340fa5",
   "metadata": {},
   "outputs": [],
   "source": [
    "model.compile(optimizer='adam', \n",
    "              loss='binary_crossentropy', \n",
    "              metrics=['acc'])"
   ]
  },
  {
   "cell_type": "markdown",
   "id": "56a6aad1",
   "metadata": {},
   "source": [
    "### 학습\n",
    "---"
   ]
  },
  {
   "cell_type": "code",
   "execution_count": 459,
   "id": "5a151cb0",
   "metadata": {},
   "outputs": [
    {
     "name": "stdout",
     "output_type": "stream",
     "text": [
      "Epoch 1/4\n",
      "52/52 [==============================] - 4s 37ms/step - loss: 0.4907 - acc: 0.8785 - val_loss: 0.3612 - val_acc: 0.9528\n",
      "Epoch 2/4\n",
      "52/52 [==============================] - 2s 35ms/step - loss: 0.2655 - acc: 0.9649 - val_loss: 0.2208 - val_acc: 0.9565\n",
      "Epoch 3/4\n",
      "52/52 [==============================] - 2s 37ms/step - loss: 0.1587 - acc: 0.9804 - val_loss: 0.1525 - val_acc: 0.9661\n",
      "Epoch 4/4\n",
      "52/52 [==============================] - 2s 32ms/step - loss: 0.0996 - acc: 0.9882 - val_loss: 0.1163 - val_acc: 0.9734\n"
     ]
    }
   ],
   "source": [
    "history = model.fit(X_train,\n",
    "                    y_train, \n",
    "                    epochs=4, \n",
    "                    batch_size=64, \n",
    "                    validation_data=(X_val, y_val))"
   ]
  },
  {
   "cell_type": "code",
   "execution_count": 460,
   "id": "c748f9ae",
   "metadata": {},
   "outputs": [
    {
     "data": {
      "image/png": "[encoded data removed]",
      "text/plain": [
       "<Figure size 432x288 with 1 Axes>"
      ]
     },
     "metadata": {
      "needs_background": "light"
     },
     "output_type": "display_data"
    }
   ],
   "source": [
    "# 학습 히스토리 시각화\n",
    "epochs = range(1, len(history.history['acc']) + 1)\n",
    "\n",
    "plt.plot(epochs, history.history['loss'])\n",
    "plt.plot(epochs, history.history['val_loss'])\n",
    "plt.title('model loss')\n",
    "plt.ylabel('loss')\n",
    "plt.xlabel('epoch')\n",
    "plt.legend(['train', 'val'], loc='upper left')\n",
    "plt.show()"
   ]
  },
  {
   "cell_type": "code",
   "execution_count": null,
   "id": "1d4af7eb",
   "metadata": {},
   "outputs": [],
   "source": []
  }
 ],
 "metadata": {
  "kernelspec": {
   "display_name": "Python 3 (ipykernel)",
   "language": "python",
   "name": "python3"
  },
  "language_info": {
   "codemirror_mode": {
    "name": "ipython",
    "version": 3
   },
   "file_extension": ".py",
   "mimetype": "text/x-python",
   "name": "python",
   "nbconvert_exporter": "python",
   "pygments_lexer": "ipython3",
   "version": "3.9.12"
  }
 },
 "nbformat": 4,
 "nbformat_minor": 5
}
