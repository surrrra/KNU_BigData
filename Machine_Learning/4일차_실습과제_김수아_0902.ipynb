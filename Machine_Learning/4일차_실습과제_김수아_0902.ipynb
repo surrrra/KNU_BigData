{
 "cells": [
  {
   "cell_type": "markdown",
   "id": "401565cc",
   "metadata": {},
   "source": [
    "## LogisticRegression"
   ]
  },
  {
   "cell_type": "code",
   "execution_count": 382,
   "id": "d00fb576",
   "metadata": {},
   "outputs": [],
   "source": [
    "## 모듈 로딩\n",
    "from sklearn.datasets import load_digits\n",
    "from sklearn.svm import SVC\n",
    "from sklearn.linear_model import LogisticRegression\n",
    "from sklearn.model_selection import train_test_split\n",
    "from sklearn.preprocessing import StandardScaler\n",
    "import matplotlib.pyplot as plt\n",
    "import pandas as pd\n",
    "import numpy as np"
   ]
  },
  {
   "cell_type": "code",
   "execution_count": 383,
   "id": "bb99c99e",
   "metadata": {},
   "outputs": [],
   "source": [
    "# 경고 무시 -------------------------------------\n",
    "# 향후 deprecated 된다는 경고 출력 막음\n",
    "import warnings\n",
    "warnings.filterwarnings(action='ignore')"
   ]
  },
  {
   "cell_type": "markdown",
   "id": "a14affa2",
   "metadata": {},
   "source": [
    "### [1] 데이터 준비"
   ]
  },
  {
   "cell_type": "code",
   "execution_count": 384,
   "id": "70201b5d",
   "metadata": {},
   "outputs": [],
   "source": [
    "data, target=load_digits(as_frame=True, return_X_y=True)"
   ]
  },
  {
   "cell_type": "code",
   "execution_count": 385,
   "id": "88daeef3",
   "metadata": {
    "scrolled": true
   },
   "outputs": [
    {
     "name": "stdout",
     "output_type": "stream",
     "text": [
      "<class 'pandas.core.frame.DataFrame'>\n",
      "RangeIndex: 1797 entries, 0 to 1796\n",
      "Data columns (total 64 columns):\n",
      " #   Column     Non-Null Count  Dtype  \n",
      "---  ------     --------------  -----  \n",
      " 0   pixel_0_0  1797 non-null   float64\n",
      " 1   pixel_0_1  1797 non-null   float64\n",
      " 2   pixel_0_2  1797 non-null   float64\n",
      " 3   pixel_0_3  1797 non-null   float64\n",
      " 4   pixel_0_4  1797 non-null   float64\n",
      " 5   pixel_0_5  1797 non-null   float64\n",
      " 6   pixel_0_6  1797 non-null   float64\n",
      " 7   pixel_0_7  1797 non-null   float64\n",
      " 8   pixel_1_0  1797 non-null   float64\n",
      " 9   pixel_1_1  1797 non-null   float64\n",
      " 10  pixel_1_2  1797 non-null   float64\n",
      " 11  pixel_1_3  1797 non-null   float64\n",
      " 12  pixel_1_4  1797 non-null   float64\n",
      " 13  pixel_1_5  1797 non-null   float64\n",
      " 14  pixel_1_6  1797 non-null   float64\n",
      " 15  pixel_1_7  1797 non-null   float64\n",
      " 16  pixel_2_0  1797 non-null   float64\n",
      " 17  pixel_2_1  1797 non-null   float64\n",
      " 18  pixel_2_2  1797 non-null   float64\n",
      " 19  pixel_2_3  1797 non-null   float64\n",
      " 20  pixel_2_4  1797 non-null   float64\n",
      " 21  pixel_2_5  1797 non-null   float64\n",
      " 22  pixel_2_6  1797 non-null   float64\n",
      " 23  pixel_2_7  1797 non-null   float64\n",
      " 24  pixel_3_0  1797 non-null   float64\n",
      " 25  pixel_3_1  1797 non-null   float64\n",
      " 26  pixel_3_2  1797 non-null   float64\n",
      " 27  pixel_3_3  1797 non-null   float64\n",
      " 28  pixel_3_4  1797 non-null   float64\n",
      " 29  pixel_3_5  1797 non-null   float64\n",
      " 30  pixel_3_6  1797 non-null   float64\n",
      " 31  pixel_3_7  1797 non-null   float64\n",
      " 32  pixel_4_0  1797 non-null   float64\n",
      " 33  pixel_4_1  1797 non-null   float64\n",
      " 34  pixel_4_2  1797 non-null   float64\n",
      " 35  pixel_4_3  1797 non-null   float64\n",
      " 36  pixel_4_4  1797 non-null   float64\n",
      " 37  pixel_4_5  1797 non-null   float64\n",
      " 38  pixel_4_6  1797 non-null   float64\n",
      " 39  pixel_4_7  1797 non-null   float64\n",
      " 40  pixel_5_0  1797 non-null   float64\n",
      " 41  pixel_5_1  1797 non-null   float64\n",
      " 42  pixel_5_2  1797 non-null   float64\n",
      " 43  pixel_5_3  1797 non-null   float64\n",
      " 44  pixel_5_4  1797 non-null   float64\n",
      " 45  pixel_5_5  1797 non-null   float64\n",
      " 46  pixel_5_6  1797 non-null   float64\n",
      " 47  pixel_5_7  1797 non-null   float64\n",
      " 48  pixel_6_0  1797 non-null   float64\n",
      " 49  pixel_6_1  1797 non-null   float64\n",
      " 50  pixel_6_2  1797 non-null   float64\n",
      " 51  pixel_6_3  1797 non-null   float64\n",
      " 52  pixel_6_4  1797 non-null   float64\n",
      " 53  pixel_6_5  1797 non-null   float64\n",
      " 54  pixel_6_6  1797 non-null   float64\n",
      " 55  pixel_6_7  1797 non-null   float64\n",
      " 56  pixel_7_0  1797 non-null   float64\n",
      " 57  pixel_7_1  1797 non-null   float64\n",
      " 58  pixel_7_2  1797 non-null   float64\n",
      " 59  pixel_7_3  1797 non-null   float64\n",
      " 60  pixel_7_4  1797 non-null   float64\n",
      " 61  pixel_7_5  1797 non-null   float64\n",
      " 62  pixel_7_6  1797 non-null   float64\n",
      " 63  pixel_7_7  1797 non-null   float64\n",
      "dtypes: float64(64)\n",
      "memory usage: 898.6 KB\n"
     ]
    }
   ],
   "source": [
    "data.info()"
   ]
  },
  {
   "cell_type": "markdown",
   "id": "7903f3ec",
   "metadata": {},
   "source": [
    "### [2] 학습용, 테스트용 데이터 분리"
   ]
  },
  {
   "cell_type": "code",
   "execution_count": 386,
   "id": "89740cd0",
   "metadata": {},
   "outputs": [],
   "source": [
    "X_TRAIN, X_TEST, Y_TRAIN, Y_TEST=train_test_split(\n",
    "data, target, stratify=target, test_size=0.2, random_state=42)"
   ]
  },
  {
   "cell_type": "code",
   "execution_count": 387,
   "id": "929573db",
   "metadata": {},
   "outputs": [
    {
     "data": {
      "text/plain": [
       "LogisticRegression()"
      ]
     },
     "execution_count": 387,
     "metadata": {},
     "output_type": "execute_result"
    }
   ],
   "source": [
    "lr=LogisticRegression()\n",
    "lr.fit(X_TRAIN, Y_TRAIN)"
   ]
  },
  {
   "cell_type": "code",
   "execution_count": 388,
   "id": "57286f48",
   "metadata": {},
   "outputs": [
    {
     "name": "stdout",
     "output_type": "stream",
     "text": [
      "1.0\n",
      "0.9583333333333334\n"
     ]
    }
   ],
   "source": [
    "print(lr.score(X_TRAIN, Y_TRAIN))\n",
    "print(lr.score(X_TEST, Y_TEST))"
   ]
  },
  {
   "cell_type": "markdown",
   "id": "6e168188",
   "metadata": {},
   "source": [
    "### [3] 하이퍼파라미터 튜닝"
   ]
  },
  {
   "cell_type": "code",
   "execution_count": 389,
   "id": "b3696acd",
   "metadata": {},
   "outputs": [
    {
     "data": {
      "text/plain": [
       "LogisticRegression(max_iter=3200)"
      ]
     },
     "execution_count": 389,
     "metadata": {},
     "output_type": "execute_result"
    }
   ],
   "source": [
    "lr2=LogisticRegression(max_iter=3200)\n",
    "lr2.fit(X_TRAIN, Y_TRAIN)"
   ]
  },
  {
   "cell_type": "code",
   "execution_count": 390,
   "id": "05318569",
   "metadata": {},
   "outputs": [
    {
     "name": "stdout",
     "output_type": "stream",
     "text": [
      "1.0\n",
      "0.9611111111111111\n"
     ]
    }
   ],
   "source": [
    "print(lr2.score(X_TRAIN, Y_TRAIN))\n",
    "print(lr2.score(X_TEST, Y_TEST))"
   ]
  },
  {
   "cell_type": "code",
   "execution_count": 391,
   "id": "1eb21579",
   "metadata": {},
   "outputs": [
    {
     "name": "stdout",
     "output_type": "stream",
     "text": [
      "0 번째\n",
      "[0]\n",
      "\n",
      "1 번째\n",
      "[1]\n",
      "\n",
      "2 번째\n",
      "[2]\n",
      "\n",
      "3 번째\n",
      "[3]\n",
      "\n",
      "4 번째\n",
      "[4]\n",
      "\n",
      "5 번째\n",
      "[5]\n",
      "\n",
      "6 번째\n",
      "[6]\n",
      "\n",
      "7 번째\n",
      "[7]\n",
      "\n",
      "8 번째\n",
      "[8]\n",
      "\n",
      "9 번째\n",
      "[9]\n",
      "\n"
     ]
    }
   ],
   "source": [
    "for i in range(10):\n",
    "    print(i,'번째')\n",
    "    print(lr2.predict([digit['data'][i]]))\n",
    "    print()"
   ]
  },
  {
   "cell_type": "markdown",
   "id": "7018705c",
   "metadata": {},
   "source": [
    "## SVM(Support Vector Machine)\n",
    "---\n",
    "- ML에서 오랫동안 연구되었고 성능이 좋은 모델\n",
    "- DL보다 성능이 좋은 경우도 있음"
   ]
  },
  {
   "cell_type": "markdown",
   "id": "1ec0ae47",
   "metadata": {},
   "source": [
    "### [1] 데이터 준비"
   ]
  },
  {
   "cell_type": "code",
   "execution_count": 392,
   "id": "f001917f",
   "metadata": {},
   "outputs": [],
   "source": [
    "digit=load_digits()"
   ]
  },
  {
   "cell_type": "code",
   "execution_count": 393,
   "id": "ffed8468",
   "metadata": {},
   "outputs": [],
   "source": [
    "data=digit['data']\n",
    "target=digit['target']"
   ]
  },
  {
   "cell_type": "code",
   "execution_count": 394,
   "id": "a296dcf8",
   "metadata": {},
   "outputs": [
    {
     "data": {
      "text/plain": [
       "<Figure size 432x288 with 0 Axes>"
      ]
     },
     "metadata": {},
     "output_type": "display_data"
    },
    {
     "data": {
      "image/png": "[encoded data removed]",
      "text/plain": [
       "<Figure size 288x288 with 1 Axes>"
      ]
     },
     "metadata": {
      "needs_background": "light"
     },
     "output_type": "display_data"
    },
    {
     "data": {
      "image/png": "[encoded data removed]",
      "text/plain": [
       "<Figure size 288x288 with 1 Axes>"
      ]
     },
     "metadata": {
      "needs_background": "light"
     },
     "output_type": "display_data"
    }
   ],
   "source": [
    "plt.gray()\n",
    "plt.matshow(digit.images[5])\n",
    "plt.matshow(digit.images[9])\n",
    "plt.show()"
   ]
  },
  {
   "cell_type": "code",
   "execution_count": 395,
   "id": "9c592254",
   "metadata": {},
   "outputs": [
    {
     "name": "stdout",
     "output_type": "stream",
     "text": [
      "(1797, 64) (1797,)\n"
     ]
    }
   ],
   "source": [
    "print(data.shape, target.shape)"
   ]
  },
  {
   "cell_type": "code",
   "execution_count": 396,
   "id": "5ba35be0",
   "metadata": {},
   "outputs": [
    {
     "data": {
      "text/plain": [
       "array([[ 0.,  0.,  0.,  4., 15., 12.,  0.,  0.],\n",
       "       [ 0.,  0.,  3., 16., 15., 14.,  0.,  0.],\n",
       "       [ 0.,  0.,  8., 13.,  8., 16.,  0.,  0.],\n",
       "       [ 0.,  0.,  1.,  6., 15., 11.,  0.,  0.],\n",
       "       [ 0.,  1.,  8., 13., 15.,  1.,  0.,  0.],\n",
       "       [ 0.,  9., 16., 16.,  5.,  0.,  0.,  0.],\n",
       "       [ 0.,  3., 13., 16., 16., 11.,  5.,  0.],\n",
       "       [ 0.,  0.,  0.,  3., 11., 16.,  9.,  0.]])"
      ]
     },
     "execution_count": 396,
     "metadata": {},
     "output_type": "execute_result"
    }
   ],
   "source": [
    "digit['images'][2]"
   ]
  },
  {
   "cell_type": "markdown",
   "id": "e858cc1c",
   "metadata": {},
   "source": [
    "### [2] 학습용 & 테스트용 분리"
   ]
  },
  {
   "cell_type": "code",
   "execution_count": 397,
   "id": "cea5aaea",
   "metadata": {},
   "outputs": [],
   "source": [
    "X_TRAIN, X_TEST, Y_TRAIN, Y_TEST=train_test_split(\n",
    "data, target, stratify=target, random_state=42, test_size=0.2)"
   ]
  },
  {
   "cell_type": "markdown",
   "id": "7a5526cb",
   "metadata": {},
   "source": [
    "### [3] 모델 생성\n",
    "- 0~9 : 10개 분류"
   ]
  },
  {
   "cell_type": "markdown",
   "id": "9cd66638",
   "metadata": {},
   "source": [
    "##### 스케일링 한 버전"
   ]
  },
  {
   "cell_type": "code",
   "execution_count": 398,
   "id": "27f66828",
   "metadata": {},
   "outputs": [],
   "source": [
    "scaler=StandardScaler()\n",
    "scaler.fit(X_TRAIN)\n",
    "# train_scaled=scaler.transform(X_TRAIN)\n",
    "# test_scaled=scaler.transform(X_TEST)\n",
    "\n",
    "X_TRAIN=scaler.transform(X_TRAIN)\n",
    "X_TEST=scaler.transform(X_TEST)"
   ]
  },
  {
   "cell_type": "code",
   "execution_count": 399,
   "id": "d1afe4fe",
   "metadata": {},
   "outputs": [
    {
     "data": {
      "text/plain": [
       "SVC()"
      ]
     },
     "execution_count": 399,
     "metadata": {},
     "output_type": "execute_result"
    }
   ],
   "source": [
    "svc=SVC()\n",
    "svc.fit(X_TRAIN, Y_TRAIN)"
   ]
  },
  {
   "cell_type": "code",
   "execution_count": 400,
   "id": "f9e83573",
   "metadata": {},
   "outputs": [
    {
     "name": "stdout",
     "output_type": "stream",
     "text": [
      "0.9972164231036882\n",
      "0.975\n"
     ]
    }
   ],
   "source": [
    "print(svc.score(X_TRAIN, Y_TRAIN))\n",
    "print(svc.score(X_TEST, Y_TEST))"
   ]
  },
  {
   "cell_type": "code",
   "execution_count": 401,
   "id": "d5bf5f6d",
   "metadata": {},
   "outputs": [
    {
     "name": "stdout",
     "output_type": "stream",
     "text": [
      "0 번째\n",
      "[0]\n",
      "\n",
      "1 번째\n",
      "[1]\n",
      "\n",
      "2 번째\n",
      "[2]\n",
      "\n",
      "3 번째\n",
      "[3]\n",
      "\n",
      "4 번째\n",
      "[4]\n",
      "\n",
      "5 번째\n",
      "[9]\n",
      "\n",
      "6 번째\n",
      "[6]\n",
      "\n",
      "7 번째\n",
      "[7]\n",
      "\n",
      "8 번째\n",
      "[8]\n",
      "\n",
      "9 번째\n",
      "[9]\n",
      "\n"
     ]
    }
   ],
   "source": [
    "for i in range(10):\n",
    "    print(i,'번째')\n",
    "    print(svc.predict(scaler.transform([digit['data'][i]])))\n",
    "    print()"
   ]
  },
  {
   "cell_type": "markdown",
   "id": "7e37a5ee",
   "metadata": {},
   "source": [
    "##### 스케일링 안 한 버전"
   ]
  },
  {
   "cell_type": "code",
   "execution_count": 402,
   "id": "6a905463",
   "metadata": {},
   "outputs": [],
   "source": [
    "X_TRAIN2, X_TEST2, Y_TRAIN2, Y_TEST2=train_test_split(\n",
    "data, target, stratify=target, random_state=42, test_size=0.2)"
   ]
  },
  {
   "cell_type": "code",
   "execution_count": 403,
   "id": "40e5d3d9",
   "metadata": {},
   "outputs": [
    {
     "data": {
      "text/plain": [
       "SVC()"
      ]
     },
     "execution_count": 403,
     "metadata": {},
     "output_type": "execute_result"
    }
   ],
   "source": [
    "svc2=SVC()\n",
    "svc2.fit(X_TRAIN2, Y_TRAIN2)"
   ]
  },
  {
   "cell_type": "code",
   "execution_count": 404,
   "id": "428aeecf",
   "metadata": {},
   "outputs": [
    {
     "name": "stdout",
     "output_type": "stream",
     "text": [
      "0.9979123173277662\n",
      "0.9916666666666667\n"
     ]
    }
   ],
   "source": [
    "print(svc2.score(X_TRAIN2, Y_TRAIN2))\n",
    "print(svc2.score(X_TEST2, Y_TEST2))"
   ]
  },
  {
   "cell_type": "code",
   "execution_count": 405,
   "id": "f8ab5db1",
   "metadata": {},
   "outputs": [
    {
     "name": "stdout",
     "output_type": "stream",
     "text": [
      "0 번째\n",
      "[0]\n",
      "\n",
      "1 번째\n",
      "[1]\n",
      "\n",
      "2 번째\n",
      "[2]\n",
      "\n",
      "3 번째\n",
      "[3]\n",
      "\n",
      "4 번째\n",
      "[4]\n",
      "\n",
      "5 번째\n",
      "[9]\n",
      "\n",
      "6 번째\n",
      "[6]\n",
      "\n",
      "7 번째\n",
      "[7]\n",
      "\n",
      "8 번째\n",
      "[8]\n",
      "\n",
      "9 번째\n",
      "[9]\n",
      "\n"
     ]
    }
   ],
   "source": [
    "for i in range(10):\n",
    "    print(i,'번째')\n",
    "    print(svc2.predict([digit['data'][i]]))\n",
    "    print()"
   ]
  },
  {
   "cell_type": "markdown",
   "id": "c010915f",
   "metadata": {},
   "source": [
    "### [4] 하이퍼파라미터 튜닝"
   ]
  },
  {
   "cell_type": "code",
   "execution_count": 406,
   "id": "0b59c5de",
   "metadata": {},
   "outputs": [
    {
     "data": {
      "text/plain": [
       "SVC(C=1.6)"
      ]
     },
     "execution_count": 406,
     "metadata": {},
     "output_type": "execute_result"
    }
   ],
   "source": [
    "svc3=SVC(C=1.6)\n",
    "svc3.fit(X_TRAIN, Y_TRAIN)"
   ]
  },
  {
   "cell_type": "code",
   "execution_count": 407,
   "id": "0d67f95e",
   "metadata": {},
   "outputs": [
    {
     "name": "stdout",
     "output_type": "stream",
     "text": [
      "0.9979123173277662\n",
      "0.9777777777777777\n"
     ]
    }
   ],
   "source": [
    "print(svc3.score(X_TRAIN, Y_TRAIN))\n",
    "print(svc3.score(X_TEST, Y_TEST))"
   ]
  },
  {
   "cell_type": "code",
   "execution_count": 408,
   "id": "20e28aaf",
   "metadata": {},
   "outputs": [
    {
     "name": "stdout",
     "output_type": "stream",
     "text": [
      "0 번째\n",
      "[0]\n",
      "\n",
      "1 번째\n",
      "[1]\n",
      "\n",
      "2 번째\n",
      "[2]\n",
      "\n",
      "3 번째\n",
      "[3]\n",
      "\n",
      "4 번째\n",
      "[4]\n",
      "\n",
      "5 번째\n",
      "[9]\n",
      "\n",
      "6 번째\n",
      "[6]\n",
      "\n",
      "7 번째\n",
      "[7]\n",
      "\n",
      "8 번째\n",
      "[8]\n",
      "\n",
      "9 번째\n",
      "[9]\n",
      "\n"
     ]
    }
   ],
   "source": [
    "for i in range(10):\n",
    "    print(i,'번째')\n",
    "    print(svc3.predict(scaler.transform([digit['data'][i]])))\n",
    "    print()"
   ]
  }
 ],
 "metadata": {
  "kernelspec": {
   "display_name": "Python 3 (ipykernel)",
   "language": "python",
   "name": "python3"
  },
  "language_info": {
   "codemirror_mode": {
    "name": "ipython",
    "version": 3
   },
   "file_extension": ".py",
   "mimetype": "text/x-python",
   "name": "python",
   "nbconvert_exporter": "python",
   "pygments_lexer": "ipython3",
   "version": "3.9.12"
  }
 },
 "nbformat": 4,
 "nbformat_minor": 5
}
