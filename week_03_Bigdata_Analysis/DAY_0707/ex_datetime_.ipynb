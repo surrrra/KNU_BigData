{
 "cells": [
  {
   "cell_type": "markdown",
   "id": "16ce587d",
   "metadata": {},
   "source": [
    "# 날짜시간관련 패키지 다루기\n",
    "\n",
    "- 파이썬 => date, time, datetime 관련 클래스"
   ]
  },
  {
   "cell_type": "code",
   "execution_count": 4,
   "id": "d1894d21",
   "metadata": {},
   "outputs": [
    {
     "data": {
      "text/plain": [
       "'3.5.1'"
      ]
     },
     "execution_count": 4,
     "metadata": {},
     "output_type": "execute_result"
    }
   ],
   "source": [
    "# 모듈 로딩\n",
    "import time as tm\n",
    "#import date as d\n",
    "import matplotlib as mp\n",
    "\n",
    "mp.__version__   # 모듈의 버전이 궁금할 때"
   ]
  },
  {
   "cell_type": "markdown",
   "id": "73790dc2",
   "metadata": {},
   "source": [
    "# 시간 관련 클래스 --> time"
   ]
  },
  {
   "cell_type": "code",
   "execution_count": 6,
   "id": "b52d9823",
   "metadata": {},
   "outputs": [
    {
     "name": "stdout",
     "output_type": "stream",
     "text": [
      "현재시간 : Thu Jul  7 09:38:21 2022\n"
     ]
    }
   ],
   "source": [
    "# 현재 시간 출력 메서드\n",
    "# (1) 보기 쉽게 변환되어서 가져오기\n",
    "currentTm=tm.ctime(tm.time())   # ctime(초) 안에 초를 줘야해서 tm.time()\n",
    "print(f'현재시간 : {currentTm}')"
   ]
  },
  {
   "cell_type": "code",
   "execution_count": 7,
   "id": "b207bda5",
   "metadata": {},
   "outputs": [
    {
     "name": "stdout",
     "output_type": "stream",
     "text": [
      "현재시간 구조체 클래스 : time.struct_time(tm_year=2022, tm_mon=7, tm_mday=7, tm_hour=9, tm_min=39, tm_sec=43, tm_wday=3, tm_yday=188, tm_isdst=0)\n"
     ]
    }
   ],
   "source": [
    "# (2) 원하는대로 변환할 수 있도록 구조체 객체 불러오기\n",
    "localStrct=tm.localtime(tm.time())   # localtime(초)\n",
    "print(f'현재시간 구조체 클래스 : {localStrct}')"
   ]
  },
  {
   "cell_type": "code",
   "execution_count": 8,
   "id": "48e5627a",
   "metadata": {},
   "outputs": [],
   "source": [
    "# 원하는 포맷으로 바꾸려면  // ? 이거 왜 썼냐\n",
    "# strftime은 원하는 시간을 문자열로\n",
    "# strptime은 문자열을 원하는 시간으로"
   ]
  },
  {
   "cell_type": "markdown",
   "id": "3a4a387f",
   "metadata": {},
   "source": [
    "# 날짜 관련 클래스 --> datetime.date 클래스"
   ]
  },
  {
   "cell_type": "code",
   "execution_count": null,
   "id": "1273dac9",
   "metadata": {},
   "outputs": [],
   "source": [
    "#print()   # print(커서 여기 놓고 shift+tab하면 설명 나옴)"
   ]
  },
  {
   "cell_type": "code",
   "execution_count": 12,
   "id": "78e0e4de",
   "metadata": {},
   "outputs": [
    {
     "name": "stdout",
     "output_type": "stream",
     "text": [
      "<class 'datetime.date'> 2022-07-07\n"
     ]
    }
   ],
   "source": [
    "from datetime import date\n",
    "\n",
    "currentDT=date.today()  # 오늘 날짜 알려줌\n",
    "print(type(currentDT), currentDT)"
   ]
  },
  {
   "cell_type": "code",
   "execution_count": 13,
   "id": "40d5b28e",
   "metadata": {},
   "outputs": [
    {
     "name": "stdout",
     "output_type": "stream",
     "text": [
      "<class 'datetime.date'> 2022-12-24\n"
     ]
    }
   ],
   "source": [
    "d_day=date(2022, 12, 24)\n",
    "print(type(d_day), d_day)"
   ]
  },
  {
   "cell_type": "code",
   "execution_count": 16,
   "id": "143bbb9e",
   "metadata": {},
   "outputs": [
    {
     "data": {
      "text/plain": [
       "(24, 12, 2022)"
      ]
     },
     "execution_count": 16,
     "metadata": {},
     "output_type": "execute_result"
    }
   ],
   "source": [
    "d_day.day, d_day.month, d_day.year"
   ]
  },
  {
   "cell_type": "code",
   "execution_count": 18,
   "id": "b2cfb02c",
   "metadata": {},
   "outputs": [
    {
     "data": {
      "text/plain": [
       "<function date.weekday>"
      ]
     },
     "execution_count": 18,
     "metadata": {},
     "output_type": "execute_result"
    }
   ],
   "source": [
    "d_day.weekday   # 객체 생성 없이 바로 쓴 것 (클래스 메서드)"
   ]
  },
  {
   "cell_type": "markdown",
   "id": "0babbaba",
   "metadata": {},
   "source": [
    "# 날짜 시간 관련 클래스 ==> datetime.datetime"
   ]
  },
  {
   "cell_type": "code",
   "execution_count": 22,
   "id": "d2a29138",
   "metadata": {},
   "outputs": [
    {
     "data": {
      "text/plain": [
       "datetime.datetime(2022, 7, 7, 10, 5, 8, 125582)"
      ]
     },
     "execution_count": 22,
     "metadata": {},
     "output_type": "execute_result"
    }
   ],
   "source": [
    "from datetime import datetime as dt\n",
    "\n",
    "# 현재 날짜, 시간\n",
    "dt.today()   # 오늘 날짜, 몇 시 몇 분 몇 초 ms"
   ]
  },
  {
   "cell_type": "code",
   "execution_count": 23,
   "id": "ba5808c8",
   "metadata": {},
   "outputs": [
    {
     "data": {
      "text/plain": [
       "datetime.datetime(2022, 7, 7, 10, 5, 11, 892603)"
      ]
     },
     "execution_count": 23,
     "metadata": {},
     "output_type": "execute_result"
    }
   ],
   "source": [
    "dt.now()"
   ]
  },
  {
   "cell_type": "code",
   "execution_count": 24,
   "id": "59b51401",
   "metadata": {},
   "outputs": [
    {
     "data": {
      "text/plain": [
       "datetime.datetime(2022, 12, 24, 0, 0)"
      ]
     },
     "execution_count": 24,
     "metadata": {},
     "output_type": "execute_result"
    }
   ],
   "source": [
    "# 원하는 날짜 시간 생성\n",
    "d_daytime=dt(2022, 12, 24)  # datetime 이름을 dt로 바꿔놔서\n",
    "d_daytime"
   ]
  },
  {
   "cell_type": "code",
   "execution_count": 25,
   "id": "9aedd5b8",
   "metadata": {},
   "outputs": [
    {
     "data": {
      "text/plain": [
       "24"
      ]
     },
     "execution_count": 25,
     "metadata": {},
     "output_type": "execute_result"
    }
   ],
   "source": [
    "# day 뽑아내기\n",
    "d_daytime.day"
   ]
  },
  {
   "cell_type": "markdown",
   "id": "72cae269",
   "metadata": {},
   "source": [
    "## 날짜시간 관련 Pandas\n",
    "\n",
    "- 관련 자료형 : timestamp, datetime64, period\n",
    "\n",
    "- 관련 메서드 : to_datetime(), date_range(), to_period(), period_range()"
   ]
  },
  {
   "cell_type": "code",
   "execution_count": null,
   "id": "83f432f4",
   "metadata": {},
   "outputs": [],
   "source": []
  }
 ],
 "metadata": {
  "kernelspec": {
   "display_name": "Python 3 (ipykernel)",
   "language": "python",
   "name": "python3"
  },
  "language_info": {
   "codemirror_mode": {
    "name": "ipython",
    "version": 3
   },
   "file_extension": ".py",
   "mimetype": "text/x-python",
   "name": "python",
   "nbconvert_exporter": "python",
   "pygments_lexer": "ipython3",
   "version": "3.9.12"
  }
 },
 "nbformat": 4,
 "nbformat_minor": 5
}
