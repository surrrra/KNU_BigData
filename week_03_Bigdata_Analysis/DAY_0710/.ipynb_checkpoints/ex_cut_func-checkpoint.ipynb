{
 "cells": [
  {
   "cell_type": "markdown",
   "id": "14a575b7",
   "metadata": {},
   "source": [
    "## 연속형 자료형 => 범주형 변환\n",
    "\n",
    "- pandas.cut() 함수 제공\n",
    "    - PARAMETER     [기본값] a<value<=b\n",
    "        - bins : 구간 개수  --> 정렬 후 지정된 개수만큼 구간\n",
    "        - right : 오른쪽 값 포함 여부 --> 디폴트값 True\n",
    "        - labels : 구간에 대한 라벨, 리스트 --> 구간 개수에 맞게 설정\n",
    "        - include_lowest : 가장 왼쪽값 포함 여부 --> 디폴트값 False\n",
    "        - retbins : 구간리스트 반환 여부 --> 디폴트값 False\n",
    "        \n",
    "    - RESULT\n",
    "        - 범주형 변환 데이터\n",
    "        - 구간 리스트 <-- retbins=True로 설정된 경우 반환"
   ]
  },
  {
   "cell_type": "code",
   "execution_count": null,
   "id": "f1d825a4",
   "metadata": {},
   "outputs": [],
   "source": [
    "import pandas as pd\n",
    "\n",
    "# DF 데이터 생성\n"
   ]
  }
 ],
 "metadata": {
  "kernelspec": {
   "display_name": "Python 3 (ipykernel)",
   "language": "python",
   "name": "python3"
  },
  "language_info": {
   "codemirror_mode": {
    "name": "ipython",
    "version": 3
   },
   "file_extension": ".py",
   "mimetype": "text/x-python",
   "name": "python",
   "nbconvert_exporter": "python",
   "pygments_lexer": "ipython3",
   "version": "3.9.12"
  }
 },
 "nbformat": 4,
 "nbformat_minor": 5
}
