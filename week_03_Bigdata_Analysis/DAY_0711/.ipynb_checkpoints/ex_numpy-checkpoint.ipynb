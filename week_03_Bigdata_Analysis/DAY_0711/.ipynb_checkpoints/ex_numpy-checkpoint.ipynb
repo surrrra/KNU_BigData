{
 "cells": [
  {
   "cell_type": "markdown",
   "id": "eb095a09",
   "metadata": {},
   "source": [
    "# Numpy 패키지\n",
    "\n",
    "- pandas에서 데이터 저장 및 처리에 사용되는 패키지\n",
    "- 외부 패키지로 반드시 설치가 필요\n",
    "- 고속 데이터 처리, 수치 계산 수행 패키지\n",
    "- 머신러닝/딥러닝용 패키지 Scikit-learn, Tensorflow, PyTorch, Keras 등등에서도 내부 데이터 저장 및 수치 계산에 사용되는 패키지\n",
    "-\n",
    "\n",
    "- [중요] 동일한 데이터 타입의 데이터를 저장하는 배열(Array) 타입\n",
    "- 설치 : !pip install numpy"
   ]
  },
  {
   "cell_type": "code",
   "execution_count": 5,
   "id": "2edc9519",
   "metadata": {},
   "outputs": [
    {
     "data": {
      "text/plain": [
       "'1.21.5'"
      ]
     },
     "execution_count": 5,
     "metadata": {},
     "output_type": "execute_result"
    }
   ],
   "source": [
    "# 모듈 로딩 및 버전 확인\n",
    "import numpy as np\n",
    "\n",
    "np.__version__"
   ]
  },
  {
   "cell_type": "code",
   "execution_count": 6,
   "id": "3adce86e",
   "metadata": {},
   "outputs": [
    {
     "data": {
      "text/plain": [
       "array([1, 2, 3])"
      ]
     },
     "execution_count": 6,
     "metadata": {},
     "output_type": "execute_result"
    }
   ],
   "source": [
    "# ndarray 객체 생성하기 --> numpy.array()\n",
    "arr1=np.array([1,2,3])\n",
    "arr1"
   ]
  },
  {
   "cell_type": "code",
   "execution_count": 7,
   "id": "b4d448a2",
   "metadata": {},
   "outputs": [
    {
     "data": {
      "text/plain": [
       "numpy.ndarray"
      ]
     },
     "execution_count": 7,
     "metadata": {},
     "output_type": "execute_result"
    }
   ],
   "source": [
    "type(arr1)"
   ]
  },
  {
   "cell_type": "code",
   "execution_count": 10,
   "id": "f27d464a",
   "metadata": {},
   "outputs": [
    {
     "data": {
      "text/plain": [
       "(1, (3,), dtype('int32'), 4, 3)"
      ]
     },
     "execution_count": 10,
     "metadata": {},
     "output_type": "execute_result"
    }
   ],
   "source": [
    "# ndarray 객체의 속성 확인하기\n",
    "# 객체변수명.속성명\n",
    "# ndim : 차원(ex: 1, 2, 3, ...)\n",
    "# shape : 형태(ex: (개수, ), (행, 열), (면, 행, 열))\n",
    "# dtype : 데이터 타입\n",
    "# itemsize : 배열 요소의 바이트 크기(여기선 4바이트)\n",
    "# size : 배열 요소 개수\n",
    "arr1.ndim, arr1.shape, arr1.dtype, arr1.itemsize, arr1.size"
   ]
  },
  {
   "cell_type": "code",
   "execution_count": 12,
   "id": "3e9f72d6",
   "metadata": {},
   "outputs": [
    {
     "name": "stdout",
     "output_type": "stream",
     "text": [
      "객체변수명 arr1 => [1 2 3]\n",
      "객체변수명 arr1[0] => 1\n"
     ]
    }
   ],
   "source": [
    "# 배열의 요소 즉 아이템, 원소 접근하기\n",
    "# 0-base 인덱스 자동 지정 => 객체변수명[인덱스]\n",
    "print(f'객체변수명 arr1 => {arr1}')\n",
    "print(f'객체변수명 arr1[0] => {arr1[0]}')"
   ]
  },
  {
   "cell_type": "code",
   "execution_count": 18,
   "id": "12fbe6b2",
   "metadata": {},
   "outputs": [
    {
     "data": {
      "text/plain": [
       "array([1, 1, 1, 1], dtype=int16)"
      ]
     },
     "execution_count": 18,
     "metadata": {},
     "output_type": "execute_result"
    }
   ],
   "source": [
    "# 모든 값을 1로 채워서 ndarray 객체 생성 함수 => ones()\n",
    "arr2=np.array([1, 1, 1, 1])\n",
    "arr2=np.ones(4, dtype=np.int16)\n",
    "arr2"
   ]
  },
  {
   "cell_type": "code",
   "execution_count": 19,
   "id": "9f35c3e3",
   "metadata": {},
   "outputs": [
    {
     "name": "stdout",
     "output_type": "stream",
     "text": [
      "1 (4,) int16 2 4\n",
      "객체변수명 arr2 => [1 1 1 1]\n",
      "객체변수명 arr2[0] => 1\n"
     ]
    }
   ],
   "source": [
    "print(arr2.ndim, arr2.shape, arr2.dtype, arr2.itemsize, arr2.size)\n",
    "print(f'객체변수명 arr2 => {arr2}')\n",
    "print(f'객체변수명 arr2[0] => {arr2[0]}')"
   ]
  },
  {
   "cell_type": "code",
   "execution_count": 20,
   "id": "37e790fb",
   "metadata": {},
   "outputs": [],
   "source": [
    "# 모든 값을 0으로 채우고 싶으면 zeros\n",
    "# 모든 값을 내가 원하는 값으로 채우고 싶으면 full"
   ]
  },
  {
   "cell_type": "code",
   "execution_count": 24,
   "id": "a3b3e2e4",
   "metadata": {},
   "outputs": [
    {
     "data": {
      "text/plain": [
       "array([[0., 0., 0.],\n",
       "       [0., 0., 0.]])"
      ]
     },
     "execution_count": 24,
     "metadata": {},
     "output_type": "execute_result"
    }
   ],
   "source": [
    "# 초기화하지 않고 ndarray 객체 생성 => numpy.empty()\n",
    "arr3=np.empty((2,3))\n",
    "arr3"
   ]
  },
  {
   "cell_type": "code",
   "execution_count": 27,
   "id": "e8f524d5",
   "metadata": {},
   "outputs": [
    {
     "data": {
      "text/plain": [
       "array([[1, 2, 3],\n",
       "       [4, 5, 6]])"
      ]
     },
     "execution_count": 27,
     "metadata": {},
     "output_type": "execute_result"
    }
   ],
   "source": [
    "# 2차원 형태의 ndarray 객체 생성\n",
    "arr4=np.array([[1, 2, 3], [4, 5, 6]])\n",
    "arr4"
   ]
  },
  {
   "cell_type": "code",
   "execution_count": 28,
   "id": "76a8573e",
   "metadata": {},
   "outputs": [
    {
     "data": {
      "text/plain": [
       "((2, 3), 2)"
      ]
     },
     "execution_count": 28,
     "metadata": {},
     "output_type": "execute_result"
    }
   ],
   "source": [
    "arr4.shape, arr4.ndim"
   ]
  },
  {
   "cell_type": "code",
   "execution_count": 31,
   "id": "55d777db",
   "metadata": {},
   "outputs": [],
   "source": [
    "# 2차원 => 1차원으로 변경\n",
    "arr5=arr4.flatten()"
   ]
  },
  {
   "cell_type": "code",
   "execution_count": 33,
   "id": "ec618e88",
   "metadata": {},
   "outputs": [
    {
     "data": {
      "text/plain": [
       "((6,), 1)"
      ]
     },
     "execution_count": 33,
     "metadata": {},
     "output_type": "execute_result"
    }
   ],
   "source": [
    "arr5.shape, arr5.ndim"
   ]
  },
  {
   "cell_type": "code",
   "execution_count": 34,
   "id": "b4db306a",
   "metadata": {},
   "outputs": [
    {
     "data": {
      "text/plain": [
       "array([[1, 2, 3, 4, 5, 6]])"
      ]
     },
     "execution_count": 34,
     "metadata": {},
     "output_type": "execute_result"
    }
   ],
   "source": [
    "# 1차원 => 다른 차원으로 변경 : reshape()\n",
    "arr6=arr5.reshape((1, 6))\n",
    "arr6"
   ]
  },
  {
   "cell_type": "code",
   "execution_count": 35,
   "id": "96d93dff",
   "metadata": {},
   "outputs": [
    {
     "data": {
      "text/plain": [
       "array([[1, 2, 3],\n",
       "       [4, 5, 6]])"
      ]
     },
     "execution_count": 35,
     "metadata": {},
     "output_type": "execute_result"
    }
   ],
   "source": [
    "arr7=arr5.reshape((2, 3))\n",
    "arr7"
   ]
  },
  {
   "cell_type": "code",
   "execution_count": 36,
   "id": "91e9e02e",
   "metadata": {},
   "outputs": [
    {
     "data": {
      "text/plain": [
       "array([[[1, 2],\n",
       "        [3, 4],\n",
       "        [5, 6]]])"
      ]
     },
     "execution_count": 36,
     "metadata": {},
     "output_type": "execute_result"
    }
   ],
   "source": [
    "arr8=arr5.reshape((1, 3, 2))\n",
    "arr8"
   ]
  },
  {
   "cell_type": "code",
   "execution_count": 38,
   "id": "3df7c0c4",
   "metadata": {},
   "outputs": [
    {
     "data": {
      "text/plain": [
       "array([1, 2, 3, 4, 5, 6])"
      ]
     },
     "execution_count": 38,
     "metadata": {},
     "output_type": "execute_result"
    }
   ],
   "source": [
    "arr9=arr8.flatten()\n",
    "arr9"
   ]
  },
  {
   "cell_type": "code",
   "execution_count": 39,
   "id": "6e7cd4ac",
   "metadata": {},
   "outputs": [
    {
     "data": {
      "text/plain": [
       "array([0, 1, 2, 3, 4, 5, 6, 7])"
      ]
     },
     "execution_count": 39,
     "metadata": {},
     "output_type": "execute_result"
    }
   ],
   "source": [
    "# 차원/형태 변환 => reshape(-1, n), reshape(n, -1)\n",
    "# -1을 넣으면 알아서 맞춰줌\n",
    "arr8=np.arange(8)\n",
    "arr8"
   ]
  },
  {
   "cell_type": "code",
   "execution_count": 42,
   "id": "f022c1cf",
   "metadata": {},
   "outputs": [
    {
     "data": {
      "text/plain": [
       "array([[0, 1],\n",
       "       [2, 3],\n",
       "       [4, 5],\n",
       "       [6, 7]])"
      ]
     },
     "execution_count": 42,
     "metadata": {},
     "output_type": "execute_result"
    }
   ],
   "source": [
    "arr9=arr8.reshape(-1, 2)\n",
    "arr9"
   ]
  },
  {
   "cell_type": "code",
   "execution_count": null,
   "id": "3c68ab91",
   "metadata": {},
   "outputs": [],
   "source": [
    "# arr9=arr8.reshape(-1, 3)은 안 됨. 개수가 맞아야함"
   ]
  }
 ],
 "metadata": {
  "kernelspec": {
   "display_name": "Python 3 (ipykernel)",
   "language": "python",
   "name": "python3"
  },
  "language_info": {
   "codemirror_mode": {
    "name": "ipython",
    "version": 3
   },
   "file_extension": ".py",
   "mimetype": "text/x-python",
   "name": "python",
   "nbconvert_exporter": "python",
   "pygments_lexer": "ipython3",
   "version": "3.9.12"
  }
 },
 "nbformat": 4,
 "nbformat_minor": 5
}
