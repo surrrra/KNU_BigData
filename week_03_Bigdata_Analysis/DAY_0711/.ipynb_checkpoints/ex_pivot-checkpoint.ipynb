{
 "cells": [
  {
   "cell_type": "markdown",
   "id": "c62be899",
   "metadata": {},
   "source": [
    "## 피벗(Pivot) 실습\n",
    "\n",
    "- 대량의 데이터(DataFrame)에서 원하는 컬럼을 선택해서 Index, Column, Value로 설정\n",
    "\n",
    "- 새로운 DF 객체 생성\n",
    "\n",
    "- 함수 및 메서드 \n",
    "    - => pandas.pivot(), pandas.DataFrame.pivot()\n",
    "    - => pandas.pivot_table(), pandas.DataFrame.pivot_table()"
   ]
  },
  {
   "cell_type": "code",
   "execution_count": 1,
   "id": "727f0fb7",
   "metadata": {},
   "outputs": [],
   "source": [
    "# 모듈 로딩\n",
    "import pandas as pd"
   ]
  },
  {
   "cell_type": "code",
   "execution_count": null,
   "id": "49cf1960",
   "metadata": {},
   "outputs": [],
   "source": []
  },
  {
   "cell_type": "code",
   "execution_count": null,
   "id": "720c05f6",
   "metadata": {},
   "outputs": [],
   "source": []
  },
  {
   "cell_type": "code",
   "execution_count": null,
   "id": "99d0bb0e",
   "metadata": {},
   "outputs": [],
   "source": [
    "df = pd.DataFrame({'foo': ['one', 'one', 'one', 'two', 'two',\n",
    "                           'two'],\n",
    "                   'bar': ['A', 'B', 'C', 'A', 'B', 'C'],\n",
    "                   'baz': [1, 2, 3, 4, 5, 6],\n",
    "                   'zoo': ['x', 'y', 'z', 'q', 'w', 't']})"
   ]
  }
 ],
 "metadata": {
  "kernelspec": {
   "display_name": "Python 3 (ipykernel)",
   "language": "python",
   "name": "python3"
  },
  "language_info": {
   "codemirror_mode": {
    "name": "ipython",
    "version": 3
   },
   "file_extension": ".py",
   "mimetype": "text/x-python",
   "name": "python",
   "nbconvert_exporter": "python",
   "pygments_lexer": "ipython3",
   "version": "3.9.12"
  }
 },
 "nbformat": 4,
 "nbformat_minor": 5
}
