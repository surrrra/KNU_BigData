{
 "cells": [
  {
   "cell_type": "code",
   "execution_count": 10,
   "id": "9bc01c30",
   "metadata": {},
   "outputs": [],
   "source": [
    "# 모듈 로딩\n",
    "import pandas as pd\n",
    "import numpy as np\n",
    "\n",
    "# 파일 관련 변수들\n",
    "DIR='../Data/'\n",
    "FILE=DIR+'titanic.csv'\n",
    "\n",
    "titanic=pd.read_csv(FILE)"
   ]
  },
  {
   "cell_type": "code",
   "execution_count": 11,
   "id": "13596435",
   "metadata": {},
   "outputs": [],
   "source": [
    "subDF=titanic.loc[:5, ['Age','Fare']]"
   ]
  },
  {
   "cell_type": "code",
   "execution_count": 12,
   "id": "8d558c11",
   "metadata": {},
   "outputs": [],
   "source": [
    "subDF['Value']=10"
   ]
  },
  {
   "cell_type": "code",
   "execution_count": 19,
   "id": "810229ba",
   "metadata": {},
   "outputs": [],
   "source": [
    "# 사용자 정의 함수\n",
    "def addValue(x):\n",
    "    print(f'[DEBUG]--------\\n{x}')\n",
    "    return x+x\n",
    "\n",
    "def addTwoValue(x, y):\n",
    "    #print(f'[DEBUG]--------\\n{x}, {y}')\n",
    "    return x+y"
   ]
  },
  {
   "cell_type": "code",
   "execution_count": 14,
   "id": "d07bd332",
   "metadata": {},
   "outputs": [],
   "source": [
    "# 사용자 정의 함수\n",
    "def missingValueCheck(sr):\n",
    "    print(f'[DEBUG]--------\\n{sr}')\n",
    "    return sr.isnull()\n",
    "\n",
    "def missingValueSum(sr):\n",
    "    print(f'[DEBUG]--------\\n{sr}')\n",
    "    return sr.isnull().sum()"
   ]
  },
  {
   "cell_type": "code",
   "execution_count": 17,
   "id": "8e798a37",
   "metadata": {},
   "outputs": [
    {
     "data": {
      "text/html": [
       "<div>\n",
       "<style scoped>\n",
       "    .dataframe tbody tr th:only-of-type {\n",
       "        vertical-align: middle;\n",
       "    }\n",
       "\n",
       "    .dataframe tbody tr th {\n",
       "        vertical-align: top;\n",
       "    }\n",
       "\n",
       "    .dataframe thead th {\n",
       "        text-align: right;\n",
       "    }\n",
       "</style>\n",
       "<table border=\"1\" class=\"dataframe\">\n",
       "  <thead>\n",
       "    <tr style=\"text-align: right;\">\n",
       "      <th></th>\n",
       "      <th>Age</th>\n",
       "      <th>Fare</th>\n",
       "      <th>Value</th>\n",
       "    </tr>\n",
       "  </thead>\n",
       "  <tbody>\n",
       "    <tr>\n",
       "      <th>0</th>\n",
       "      <td>22.0</td>\n",
       "      <td>7.2500</td>\n",
       "      <td>10</td>\n",
       "    </tr>\n",
       "    <tr>\n",
       "      <th>1</th>\n",
       "      <td>38.0</td>\n",
       "      <td>71.2833</td>\n",
       "      <td>10</td>\n",
       "    </tr>\n",
       "    <tr>\n",
       "      <th>2</th>\n",
       "      <td>26.0</td>\n",
       "      <td>7.9250</td>\n",
       "      <td>10</td>\n",
       "    </tr>\n",
       "    <tr>\n",
       "      <th>3</th>\n",
       "      <td>35.0</td>\n",
       "      <td>53.1000</td>\n",
       "      <td>10</td>\n",
       "    </tr>\n",
       "    <tr>\n",
       "      <th>4</th>\n",
       "      <td>35.0</td>\n",
       "      <td>8.0500</td>\n",
       "      <td>10</td>\n",
       "    </tr>\n",
       "    <tr>\n",
       "      <th>5</th>\n",
       "      <td>NaN</td>\n",
       "      <td>8.4583</td>\n",
       "      <td>10</td>\n",
       "    </tr>\n",
       "  </tbody>\n",
       "</table>\n",
       "</div>"
      ],
      "text/plain": [
       "    Age     Fare  Value\n",
       "0  22.0   7.2500     10\n",
       "1  38.0  71.2833     10\n",
       "2  26.0   7.9250     10\n",
       "3  35.0  53.1000     10\n",
       "4  35.0   8.0500     10\n",
       "5   NaN   8.4583     10"
      ]
     },
     "execution_count": 17,
     "metadata": {},
     "output_type": "execute_result"
    }
   ],
   "source": [
    "subDF.applymap(np.sum)"
   ]
  },
  {
   "cell_type": "code",
   "execution_count": 20,
   "id": "9fe5ea6f",
   "metadata": {},
   "outputs": [
    {
     "name": "stdout",
     "output_type": "stream",
     "text": [
      "[DEBUG]--------\n",
      "22.0\n",
      "[DEBUG]--------\n",
      "38.0\n",
      "[DEBUG]--------\n",
      "26.0\n",
      "[DEBUG]--------\n",
      "35.0\n",
      "[DEBUG]--------\n",
      "35.0\n",
      "[DEBUG]--------\n",
      "nan\n",
      "[DEBUG]--------\n",
      "7.25\n",
      "[DEBUG]--------\n",
      "71.2833\n",
      "[DEBUG]--------\n",
      "7.925\n",
      "[DEBUG]--------\n",
      "53.1\n",
      "[DEBUG]--------\n",
      "8.05\n",
      "[DEBUG]--------\n",
      "8.4583\n",
      "[DEBUG]--------\n",
      "10\n",
      "[DEBUG]--------\n",
      "10\n",
      "[DEBUG]--------\n",
      "10\n",
      "[DEBUG]--------\n",
      "10\n",
      "[DEBUG]--------\n",
      "10\n",
      "[DEBUG]--------\n",
      "10\n"
     ]
    },
    {
     "data": {
      "text/html": [
       "<div>\n",
       "<style scoped>\n",
       "    .dataframe tbody tr th:only-of-type {\n",
       "        vertical-align: middle;\n",
       "    }\n",
       "\n",
       "    .dataframe tbody tr th {\n",
       "        vertical-align: top;\n",
       "    }\n",
       "\n",
       "    .dataframe thead th {\n",
       "        text-align: right;\n",
       "    }\n",
       "</style>\n",
       "<table border=\"1\" class=\"dataframe\">\n",
       "  <thead>\n",
       "    <tr style=\"text-align: right;\">\n",
       "      <th></th>\n",
       "      <th>Age</th>\n",
       "      <th>Fare</th>\n",
       "      <th>Value</th>\n",
       "    </tr>\n",
       "  </thead>\n",
       "  <tbody>\n",
       "    <tr>\n",
       "      <th>0</th>\n",
       "      <td>44.0</td>\n",
       "      <td>14.5000</td>\n",
       "      <td>20</td>\n",
       "    </tr>\n",
       "    <tr>\n",
       "      <th>1</th>\n",
       "      <td>76.0</td>\n",
       "      <td>142.5666</td>\n",
       "      <td>20</td>\n",
       "    </tr>\n",
       "    <tr>\n",
       "      <th>2</th>\n",
       "      <td>52.0</td>\n",
       "      <td>15.8500</td>\n",
       "      <td>20</td>\n",
       "    </tr>\n",
       "    <tr>\n",
       "      <th>3</th>\n",
       "      <td>70.0</td>\n",
       "      <td>106.2000</td>\n",
       "      <td>20</td>\n",
       "    </tr>\n",
       "    <tr>\n",
       "      <th>4</th>\n",
       "      <td>70.0</td>\n",
       "      <td>16.1000</td>\n",
       "      <td>20</td>\n",
       "    </tr>\n",
       "    <tr>\n",
       "      <th>5</th>\n",
       "      <td>NaN</td>\n",
       "      <td>16.9166</td>\n",
       "      <td>20</td>\n",
       "    </tr>\n",
       "  </tbody>\n",
       "</table>\n",
       "</div>"
      ],
      "text/plain": [
       "    Age      Fare  Value\n",
       "0  44.0   14.5000     20\n",
       "1  76.0  142.5666     20\n",
       "2  52.0   15.8500     20\n",
       "3  70.0  106.2000     20\n",
       "4  70.0   16.1000     20\n",
       "5   NaN   16.9166     20"
      ]
     },
     "execution_count": 20,
     "metadata": {},
     "output_type": "execute_result"
    }
   ],
   "source": [
    "subDF.applymap(addValue)"
   ]
  },
  {
   "cell_type": "code",
   "execution_count": 21,
   "id": "5975897e",
   "metadata": {},
   "outputs": [
    {
     "name": "stdout",
     "output_type": "stream",
     "text": [
      "[DEBUG]--------\n",
      "    Age     Fare  Value\n",
      "0  22.0   7.2500     10\n",
      "1  38.0  71.2833     10\n",
      "2  26.0   7.9250     10\n",
      "3  35.0  53.1000     10\n",
      "4  35.0   8.0500     10\n",
      "5   NaN   8.4583     10\n"
     ]
    },
    {
     "data": {
      "text/html": [
       "<div>\n",
       "<style scoped>\n",
       "    .dataframe tbody tr th:only-of-type {\n",
       "        vertical-align: middle;\n",
       "    }\n",
       "\n",
       "    .dataframe tbody tr th {\n",
       "        vertical-align: top;\n",
       "    }\n",
       "\n",
       "    .dataframe thead th {\n",
       "        text-align: right;\n",
       "    }\n",
       "</style>\n",
       "<table border=\"1\" class=\"dataframe\">\n",
       "  <thead>\n",
       "    <tr style=\"text-align: right;\">\n",
       "      <th></th>\n",
       "      <th>Age</th>\n",
       "      <th>Fare</th>\n",
       "      <th>Value</th>\n",
       "    </tr>\n",
       "  </thead>\n",
       "  <tbody>\n",
       "    <tr>\n",
       "      <th>0</th>\n",
       "      <td>44.0</td>\n",
       "      <td>14.5000</td>\n",
       "      <td>20</td>\n",
       "    </tr>\n",
       "    <tr>\n",
       "      <th>1</th>\n",
       "      <td>76.0</td>\n",
       "      <td>142.5666</td>\n",
       "      <td>20</td>\n",
       "    </tr>\n",
       "    <tr>\n",
       "      <th>2</th>\n",
       "      <td>52.0</td>\n",
       "      <td>15.8500</td>\n",
       "      <td>20</td>\n",
       "    </tr>\n",
       "    <tr>\n",
       "      <th>3</th>\n",
       "      <td>70.0</td>\n",
       "      <td>106.2000</td>\n",
       "      <td>20</td>\n",
       "    </tr>\n",
       "    <tr>\n",
       "      <th>4</th>\n",
       "      <td>70.0</td>\n",
       "      <td>16.1000</td>\n",
       "      <td>20</td>\n",
       "    </tr>\n",
       "    <tr>\n",
       "      <th>5</th>\n",
       "      <td>NaN</td>\n",
       "      <td>16.9166</td>\n",
       "      <td>20</td>\n",
       "    </tr>\n",
       "  </tbody>\n",
       "</table>\n",
       "</div>"
      ],
      "text/plain": [
       "    Age      Fare  Value\n",
       "0  44.0   14.5000     20\n",
       "1  76.0  142.5666     20\n",
       "2  52.0   15.8500     20\n",
       "3  70.0  106.2000     20\n",
       "4  70.0   16.1000     20\n",
       "5   NaN   16.9166     20"
      ]
     },
     "execution_count": 21,
     "metadata": {},
     "output_type": "execute_result"
    }
   ],
   "source": [
    "subDF.pipe(addValue)   # 얘는 데이터프레임 전체가 들어감"
   ]
  },
  {
   "cell_type": "code",
   "execution_count": 22,
   "id": "c52eec36",
   "metadata": {},
   "outputs": [
    {
     "data": {
      "text/plain": [
       "Age      156.0000\n",
       "Fare     156.0666\n",
       "Value     60.0000\n",
       "dtype: float64"
      ]
     },
     "execution_count": 22,
     "metadata": {},
     "output_type": "execute_result"
    }
   ],
   "source": [
    "subDF.pipe(np.sum)"
   ]
  },
  {
   "cell_type": "markdown",
   "id": "f280d5be",
   "metadata": {},
   "source": [
    "자료형 -> category : 성별, Enbarked(탑승 지역명)\n",
    "연속적인 데이터들 중(int64 중) category : Pclass, Survived\n",
    "\n",
    "결측치 처리\n",
    "\n",
    "연령대\n",
    "\n"
   ]
  }
 ],
 "metadata": {
  "kernelspec": {
   "display_name": "Python 3 (ipykernel)",
   "language": "python",
   "name": "python3"
  },
  "language_info": {
   "codemirror_mode": {
    "name": "ipython",
    "version": 3
   },
   "file_extension": ".py",
   "mimetype": "text/x-python",
   "name": "python",
   "nbconvert_exporter": "python",
   "pygments_lexer": "ipython3",
   "version": "3.9.12"
  }
 },
 "nbformat": 4,
 "nbformat_minor": 5
}
